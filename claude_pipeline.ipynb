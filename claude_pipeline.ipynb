{
  "nbformat": 4,
  "nbformat_minor": 0,
  "metadata": {
    "colab": {
      "provenance": [],
      "authorship_tag": "ABX9TyOtZ6a/S4Q2oIPhzlJohfA0",
      "include_colab_link": true
    },
    "kernelspec": {
      "name": "python3",
      "display_name": "Python 3"
    },
    "language_info": {
      "name": "python"
    },
    "widgets": {
      "application/vnd.jupyter.widget-state+json": {
        "fb7a26121e7d434dba946a5f35111082": {
          "model_module": "@jupyter-widgets/controls",
          "model_name": "HBoxModel",
          "model_module_version": "1.5.0",
          "state": {
            "_dom_classes": [],
            "_model_module": "@jupyter-widgets/controls",
            "_model_module_version": "1.5.0",
            "_model_name": "HBoxModel",
            "_view_count": null,
            "_view_module": "@jupyter-widgets/controls",
            "_view_module_version": "1.5.0",
            "_view_name": "HBoxView",
            "box_style": "",
            "children": [
              "IPY_MODEL_c641e54417f54f6c8f5ed05f2fb5a7d2",
              "IPY_MODEL_dcaa021a7c78401388ace7a60b312872",
              "IPY_MODEL_e207f3662ace4f09b029dea3635f8823"
            ],
            "layout": "IPY_MODEL_296f118b7a034441bb70097ceb14f998"
          }
        },
        "c641e54417f54f6c8f5ed05f2fb5a7d2": {
          "model_module": "@jupyter-widgets/controls",
          "model_name": "HTMLModel",
          "model_module_version": "1.5.0",
          "state": {
            "_dom_classes": [],
            "_model_module": "@jupyter-widgets/controls",
            "_model_module_version": "1.5.0",
            "_model_name": "HTMLModel",
            "_view_count": null,
            "_view_module": "@jupyter-widgets/controls",
            "_view_module_version": "1.5.0",
            "_view_name": "HTMLView",
            "description": "",
            "description_tooltip": null,
            "layout": "IPY_MODEL_490ad907d5124669aa0bd6ba2197d909",
            "placeholder": "​",
            "style": "IPY_MODEL_e19be9724a3f4ef99e8871bc72740050",
            "value": "casehold.py: 100%"
          }
        },
        "dcaa021a7c78401388ace7a60b312872": {
          "model_module": "@jupyter-widgets/controls",
          "model_name": "FloatProgressModel",
          "model_module_version": "1.5.0",
          "state": {
            "_dom_classes": [],
            "_model_module": "@jupyter-widgets/controls",
            "_model_module_version": "1.5.0",
            "_model_name": "FloatProgressModel",
            "_view_count": null,
            "_view_module": "@jupyter-widgets/controls",
            "_view_module_version": "1.5.0",
            "_view_name": "ProgressView",
            "bar_style": "success",
            "description": "",
            "description_tooltip": null,
            "layout": "IPY_MODEL_0cdaca138379436997d3375be672f15b",
            "max": 8684,
            "min": 0,
            "orientation": "horizontal",
            "style": "IPY_MODEL_bac1e8e4cc664bcea07bae4c773e8caf",
            "value": 8684
          }
        },
        "e207f3662ace4f09b029dea3635f8823": {
          "model_module": "@jupyter-widgets/controls",
          "model_name": "HTMLModel",
          "model_module_version": "1.5.0",
          "state": {
            "_dom_classes": [],
            "_model_module": "@jupyter-widgets/controls",
            "_model_module_version": "1.5.0",
            "_model_name": "HTMLModel",
            "_view_count": null,
            "_view_module": "@jupyter-widgets/controls",
            "_view_module_version": "1.5.0",
            "_view_name": "HTMLView",
            "description": "",
            "description_tooltip": null,
            "layout": "IPY_MODEL_571b3b5285b04d8eb215e65b9d0081be",
            "placeholder": "​",
            "style": "IPY_MODEL_8e563d3c4ae04039a4a8328ef862e972",
            "value": " 8.68k/8.68k [00:00&lt;00:00, 112kB/s]"
          }
        },
        "296f118b7a034441bb70097ceb14f998": {
          "model_module": "@jupyter-widgets/base",
          "model_name": "LayoutModel",
          "model_module_version": "1.2.0",
          "state": {
            "_model_module": "@jupyter-widgets/base",
            "_model_module_version": "1.2.0",
            "_model_name": "LayoutModel",
            "_view_count": null,
            "_view_module": "@jupyter-widgets/base",
            "_view_module_version": "1.2.0",
            "_view_name": "LayoutView",
            "align_content": null,
            "align_items": null,
            "align_self": null,
            "border": null,
            "bottom": null,
            "display": null,
            "flex": null,
            "flex_flow": null,
            "grid_area": null,
            "grid_auto_columns": null,
            "grid_auto_flow": null,
            "grid_auto_rows": null,
            "grid_column": null,
            "grid_gap": null,
            "grid_row": null,
            "grid_template_areas": null,
            "grid_template_columns": null,
            "grid_template_rows": null,
            "height": null,
            "justify_content": null,
            "justify_items": null,
            "left": null,
            "margin": null,
            "max_height": null,
            "max_width": null,
            "min_height": null,
            "min_width": null,
            "object_fit": null,
            "object_position": null,
            "order": null,
            "overflow": null,
            "overflow_x": null,
            "overflow_y": null,
            "padding": null,
            "right": null,
            "top": null,
            "visibility": null,
            "width": null
          }
        },
        "490ad907d5124669aa0bd6ba2197d909": {
          "model_module": "@jupyter-widgets/base",
          "model_name": "LayoutModel",
          "model_module_version": "1.2.0",
          "state": {
            "_model_module": "@jupyter-widgets/base",
            "_model_module_version": "1.2.0",
            "_model_name": "LayoutModel",
            "_view_count": null,
            "_view_module": "@jupyter-widgets/base",
            "_view_module_version": "1.2.0",
            "_view_name": "LayoutView",
            "align_content": null,
            "align_items": null,
            "align_self": null,
            "border": null,
            "bottom": null,
            "display": null,
            "flex": null,
            "flex_flow": null,
            "grid_area": null,
            "grid_auto_columns": null,
            "grid_auto_flow": null,
            "grid_auto_rows": null,
            "grid_column": null,
            "grid_gap": null,
            "grid_row": null,
            "grid_template_areas": null,
            "grid_template_columns": null,
            "grid_template_rows": null,
            "height": null,
            "justify_content": null,
            "justify_items": null,
            "left": null,
            "margin": null,
            "max_height": null,
            "max_width": null,
            "min_height": null,
            "min_width": null,
            "object_fit": null,
            "object_position": null,
            "order": null,
            "overflow": null,
            "overflow_x": null,
            "overflow_y": null,
            "padding": null,
            "right": null,
            "top": null,
            "visibility": null,
            "width": null
          }
        },
        "e19be9724a3f4ef99e8871bc72740050": {
          "model_module": "@jupyter-widgets/controls",
          "model_name": "DescriptionStyleModel",
          "model_module_version": "1.5.0",
          "state": {
            "_model_module": "@jupyter-widgets/controls",
            "_model_module_version": "1.5.0",
            "_model_name": "DescriptionStyleModel",
            "_view_count": null,
            "_view_module": "@jupyter-widgets/base",
            "_view_module_version": "1.2.0",
            "_view_name": "StyleView",
            "description_width": ""
          }
        },
        "0cdaca138379436997d3375be672f15b": {
          "model_module": "@jupyter-widgets/base",
          "model_name": "LayoutModel",
          "model_module_version": "1.2.0",
          "state": {
            "_model_module": "@jupyter-widgets/base",
            "_model_module_version": "1.2.0",
            "_model_name": "LayoutModel",
            "_view_count": null,
            "_view_module": "@jupyter-widgets/base",
            "_view_module_version": "1.2.0",
            "_view_name": "LayoutView",
            "align_content": null,
            "align_items": null,
            "align_self": null,
            "border": null,
            "bottom": null,
            "display": null,
            "flex": null,
            "flex_flow": null,
            "grid_area": null,
            "grid_auto_columns": null,
            "grid_auto_flow": null,
            "grid_auto_rows": null,
            "grid_column": null,
            "grid_gap": null,
            "grid_row": null,
            "grid_template_areas": null,
            "grid_template_columns": null,
            "grid_template_rows": null,
            "height": null,
            "justify_content": null,
            "justify_items": null,
            "left": null,
            "margin": null,
            "max_height": null,
            "max_width": null,
            "min_height": null,
            "min_width": null,
            "object_fit": null,
            "object_position": null,
            "order": null,
            "overflow": null,
            "overflow_x": null,
            "overflow_y": null,
            "padding": null,
            "right": null,
            "top": null,
            "visibility": null,
            "width": null
          }
        },
        "bac1e8e4cc664bcea07bae4c773e8caf": {
          "model_module": "@jupyter-widgets/controls",
          "model_name": "ProgressStyleModel",
          "model_module_version": "1.5.0",
          "state": {
            "_model_module": "@jupyter-widgets/controls",
            "_model_module_version": "1.5.0",
            "_model_name": "ProgressStyleModel",
            "_view_count": null,
            "_view_module": "@jupyter-widgets/base",
            "_view_module_version": "1.2.0",
            "_view_name": "StyleView",
            "bar_color": null,
            "description_width": ""
          }
        },
        "571b3b5285b04d8eb215e65b9d0081be": {
          "model_module": "@jupyter-widgets/base",
          "model_name": "LayoutModel",
          "model_module_version": "1.2.0",
          "state": {
            "_model_module": "@jupyter-widgets/base",
            "_model_module_version": "1.2.0",
            "_model_name": "LayoutModel",
            "_view_count": null,
            "_view_module": "@jupyter-widgets/base",
            "_view_module_version": "1.2.0",
            "_view_name": "LayoutView",
            "align_content": null,
            "align_items": null,
            "align_self": null,
            "border": null,
            "bottom": null,
            "display": null,
            "flex": null,
            "flex_flow": null,
            "grid_area": null,
            "grid_auto_columns": null,
            "grid_auto_flow": null,
            "grid_auto_rows": null,
            "grid_column": null,
            "grid_gap": null,
            "grid_row": null,
            "grid_template_areas": null,
            "grid_template_columns": null,
            "grid_template_rows": null,
            "height": null,
            "justify_content": null,
            "justify_items": null,
            "left": null,
            "margin": null,
            "max_height": null,
            "max_width": null,
            "min_height": null,
            "min_width": null,
            "object_fit": null,
            "object_position": null,
            "order": null,
            "overflow": null,
            "overflow_x": null,
            "overflow_y": null,
            "padding": null,
            "right": null,
            "top": null,
            "visibility": null,
            "width": null
          }
        },
        "8e563d3c4ae04039a4a8328ef862e972": {
          "model_module": "@jupyter-widgets/controls",
          "model_name": "DescriptionStyleModel",
          "model_module_version": "1.5.0",
          "state": {
            "_model_module": "@jupyter-widgets/controls",
            "_model_module_version": "1.5.0",
            "_model_name": "DescriptionStyleModel",
            "_view_count": null,
            "_view_module": "@jupyter-widgets/base",
            "_view_module_version": "1.2.0",
            "_view_name": "StyleView",
            "description_width": ""
          }
        },
        "cb190d5f710741e09409825e25e7d994": {
          "model_module": "@jupyter-widgets/controls",
          "model_name": "HBoxModel",
          "model_module_version": "1.5.0",
          "state": {
            "_dom_classes": [],
            "_model_module": "@jupyter-widgets/controls",
            "_model_module_version": "1.5.0",
            "_model_name": "HBoxModel",
            "_view_count": null,
            "_view_module": "@jupyter-widgets/controls",
            "_view_module_version": "1.5.0",
            "_view_name": "HBoxView",
            "box_style": "",
            "children": [
              "IPY_MODEL_3b74a4bb7d1b4666ad5831bf417911a4",
              "IPY_MODEL_5c20c113239641cdad049665eaa66701",
              "IPY_MODEL_257040863d614bf1884c7f185d47dba2"
            ],
            "layout": "IPY_MODEL_194a4dadc4e4416db6c0e9febbd94b57"
          }
        },
        "3b74a4bb7d1b4666ad5831bf417911a4": {
          "model_module": "@jupyter-widgets/controls",
          "model_name": "HTMLModel",
          "model_module_version": "1.5.0",
          "state": {
            "_dom_classes": [],
            "_model_module": "@jupyter-widgets/controls",
            "_model_module_version": "1.5.0",
            "_model_name": "HTMLModel",
            "_view_count": null,
            "_view_module": "@jupyter-widgets/controls",
            "_view_module_version": "1.5.0",
            "_view_name": "HTMLView",
            "description": "",
            "description_tooltip": null,
            "layout": "IPY_MODEL_a65dd738ed694034b7debc4682ecd07b",
            "placeholder": "​",
            "style": "IPY_MODEL_3d91056fd0674ff5a7fe94e13bc0d822",
            "value": "0000.parquet: 100%"
          }
        },
        "5c20c113239641cdad049665eaa66701": {
          "model_module": "@jupyter-widgets/controls",
          "model_name": "FloatProgressModel",
          "model_module_version": "1.5.0",
          "state": {
            "_dom_classes": [],
            "_model_module": "@jupyter-widgets/controls",
            "_model_module_version": "1.5.0",
            "_model_name": "FloatProgressModel",
            "_view_count": null,
            "_view_module": "@jupyter-widgets/controls",
            "_view_module_version": "1.5.0",
            "_view_name": "ProgressView",
            "bar_style": "success",
            "description": "",
            "description_tooltip": null,
            "layout": "IPY_MODEL_0cd41c90f32445f38df8d2c89dde80c8",
            "max": 46191768,
            "min": 0,
            "orientation": "horizontal",
            "style": "IPY_MODEL_db437e8a803c4002a0006791da9b5ee4",
            "value": 46191768
          }
        },
        "257040863d614bf1884c7f185d47dba2": {
          "model_module": "@jupyter-widgets/controls",
          "model_name": "HTMLModel",
          "model_module_version": "1.5.0",
          "state": {
            "_dom_classes": [],
            "_model_module": "@jupyter-widgets/controls",
            "_model_module_version": "1.5.0",
            "_model_name": "HTMLModel",
            "_view_count": null,
            "_view_module": "@jupyter-widgets/controls",
            "_view_module_version": "1.5.0",
            "_view_name": "HTMLView",
            "description": "",
            "description_tooltip": null,
            "layout": "IPY_MODEL_57941c98a8f24c8ebde484a466287cd6",
            "placeholder": "​",
            "style": "IPY_MODEL_6f06b85f8bec4d97a8e838f62d822f13",
            "value": " 46.2M/46.2M [00:00&lt;00:00, 64.2MB/s]"
          }
        },
        "194a4dadc4e4416db6c0e9febbd94b57": {
          "model_module": "@jupyter-widgets/base",
          "model_name": "LayoutModel",
          "model_module_version": "1.2.0",
          "state": {
            "_model_module": "@jupyter-widgets/base",
            "_model_module_version": "1.2.0",
            "_model_name": "LayoutModel",
            "_view_count": null,
            "_view_module": "@jupyter-widgets/base",
            "_view_module_version": "1.2.0",
            "_view_name": "LayoutView",
            "align_content": null,
            "align_items": null,
            "align_self": null,
            "border": null,
            "bottom": null,
            "display": null,
            "flex": null,
            "flex_flow": null,
            "grid_area": null,
            "grid_auto_columns": null,
            "grid_auto_flow": null,
            "grid_auto_rows": null,
            "grid_column": null,
            "grid_gap": null,
            "grid_row": null,
            "grid_template_areas": null,
            "grid_template_columns": null,
            "grid_template_rows": null,
            "height": null,
            "justify_content": null,
            "justify_items": null,
            "left": null,
            "margin": null,
            "max_height": null,
            "max_width": null,
            "min_height": null,
            "min_width": null,
            "object_fit": null,
            "object_position": null,
            "order": null,
            "overflow": null,
            "overflow_x": null,
            "overflow_y": null,
            "padding": null,
            "right": null,
            "top": null,
            "visibility": null,
            "width": null
          }
        },
        "a65dd738ed694034b7debc4682ecd07b": {
          "model_module": "@jupyter-widgets/base",
          "model_name": "LayoutModel",
          "model_module_version": "1.2.0",
          "state": {
            "_model_module": "@jupyter-widgets/base",
            "_model_module_version": "1.2.0",
            "_model_name": "LayoutModel",
            "_view_count": null,
            "_view_module": "@jupyter-widgets/base",
            "_view_module_version": "1.2.0",
            "_view_name": "LayoutView",
            "align_content": null,
            "align_items": null,
            "align_self": null,
            "border": null,
            "bottom": null,
            "display": null,
            "flex": null,
            "flex_flow": null,
            "grid_area": null,
            "grid_auto_columns": null,
            "grid_auto_flow": null,
            "grid_auto_rows": null,
            "grid_column": null,
            "grid_gap": null,
            "grid_row": null,
            "grid_template_areas": null,
            "grid_template_columns": null,
            "grid_template_rows": null,
            "height": null,
            "justify_content": null,
            "justify_items": null,
            "left": null,
            "margin": null,
            "max_height": null,
            "max_width": null,
            "min_height": null,
            "min_width": null,
            "object_fit": null,
            "object_position": null,
            "order": null,
            "overflow": null,
            "overflow_x": null,
            "overflow_y": null,
            "padding": null,
            "right": null,
            "top": null,
            "visibility": null,
            "width": null
          }
        },
        "3d91056fd0674ff5a7fe94e13bc0d822": {
          "model_module": "@jupyter-widgets/controls",
          "model_name": "DescriptionStyleModel",
          "model_module_version": "1.5.0",
          "state": {
            "_model_module": "@jupyter-widgets/controls",
            "_model_module_version": "1.5.0",
            "_model_name": "DescriptionStyleModel",
            "_view_count": null,
            "_view_module": "@jupyter-widgets/base",
            "_view_module_version": "1.2.0",
            "_view_name": "StyleView",
            "description_width": ""
          }
        },
        "0cd41c90f32445f38df8d2c89dde80c8": {
          "model_module": "@jupyter-widgets/base",
          "model_name": "LayoutModel",
          "model_module_version": "1.2.0",
          "state": {
            "_model_module": "@jupyter-widgets/base",
            "_model_module_version": "1.2.0",
            "_model_name": "LayoutModel",
            "_view_count": null,
            "_view_module": "@jupyter-widgets/base",
            "_view_module_version": "1.2.0",
            "_view_name": "LayoutView",
            "align_content": null,
            "align_items": null,
            "align_self": null,
            "border": null,
            "bottom": null,
            "display": null,
            "flex": null,
            "flex_flow": null,
            "grid_area": null,
            "grid_auto_columns": null,
            "grid_auto_flow": null,
            "grid_auto_rows": null,
            "grid_column": null,
            "grid_gap": null,
            "grid_row": null,
            "grid_template_areas": null,
            "grid_template_columns": null,
            "grid_template_rows": null,
            "height": null,
            "justify_content": null,
            "justify_items": null,
            "left": null,
            "margin": null,
            "max_height": null,
            "max_width": null,
            "min_height": null,
            "min_width": null,
            "object_fit": null,
            "object_position": null,
            "order": null,
            "overflow": null,
            "overflow_x": null,
            "overflow_y": null,
            "padding": null,
            "right": null,
            "top": null,
            "visibility": null,
            "width": null
          }
        },
        "db437e8a803c4002a0006791da9b5ee4": {
          "model_module": "@jupyter-widgets/controls",
          "model_name": "ProgressStyleModel",
          "model_module_version": "1.5.0",
          "state": {
            "_model_module": "@jupyter-widgets/controls",
            "_model_module_version": "1.5.0",
            "_model_name": "ProgressStyleModel",
            "_view_count": null,
            "_view_module": "@jupyter-widgets/base",
            "_view_module_version": "1.2.0",
            "_view_name": "StyleView",
            "bar_color": null,
            "description_width": ""
          }
        },
        "57941c98a8f24c8ebde484a466287cd6": {
          "model_module": "@jupyter-widgets/base",
          "model_name": "LayoutModel",
          "model_module_version": "1.2.0",
          "state": {
            "_model_module": "@jupyter-widgets/base",
            "_model_module_version": "1.2.0",
            "_model_name": "LayoutModel",
            "_view_count": null,
            "_view_module": "@jupyter-widgets/base",
            "_view_module_version": "1.2.0",
            "_view_name": "LayoutView",
            "align_content": null,
            "align_items": null,
            "align_self": null,
            "border": null,
            "bottom": null,
            "display": null,
            "flex": null,
            "flex_flow": null,
            "grid_area": null,
            "grid_auto_columns": null,
            "grid_auto_flow": null,
            "grid_auto_rows": null,
            "grid_column": null,
            "grid_gap": null,
            "grid_row": null,
            "grid_template_areas": null,
            "grid_template_columns": null,
            "grid_template_rows": null,
            "height": null,
            "justify_content": null,
            "justify_items": null,
            "left": null,
            "margin": null,
            "max_height": null,
            "max_width": null,
            "min_height": null,
            "min_width": null,
            "object_fit": null,
            "object_position": null,
            "order": null,
            "overflow": null,
            "overflow_x": null,
            "overflow_y": null,
            "padding": null,
            "right": null,
            "top": null,
            "visibility": null,
            "width": null
          }
        },
        "6f06b85f8bec4d97a8e838f62d822f13": {
          "model_module": "@jupyter-widgets/controls",
          "model_name": "DescriptionStyleModel",
          "model_module_version": "1.5.0",
          "state": {
            "_model_module": "@jupyter-widgets/controls",
            "_model_module_version": "1.5.0",
            "_model_name": "DescriptionStyleModel",
            "_view_count": null,
            "_view_module": "@jupyter-widgets/base",
            "_view_module_version": "1.2.0",
            "_view_name": "StyleView",
            "description_width": ""
          }
        },
        "bfe0e28f0f4748e288de9168d77afdba": {
          "model_module": "@jupyter-widgets/controls",
          "model_name": "HBoxModel",
          "model_module_version": "1.5.0",
          "state": {
            "_dom_classes": [],
            "_model_module": "@jupyter-widgets/controls",
            "_model_module_version": "1.5.0",
            "_model_name": "HBoxModel",
            "_view_count": null,
            "_view_module": "@jupyter-widgets/controls",
            "_view_module_version": "1.5.0",
            "_view_name": "HBoxView",
            "box_style": "",
            "children": [
              "IPY_MODEL_5f295717228a430b8a6051a347fa4921",
              "IPY_MODEL_b538ff6e322141aa90f64316d4271351",
              "IPY_MODEL_9ecfce028a5c462b9b1c3debc4f81d6e"
            ],
            "layout": "IPY_MODEL_8ac18517bffd46e1affa4d529b101e6b"
          }
        },
        "5f295717228a430b8a6051a347fa4921": {
          "model_module": "@jupyter-widgets/controls",
          "model_name": "HTMLModel",
          "model_module_version": "1.5.0",
          "state": {
            "_dom_classes": [],
            "_model_module": "@jupyter-widgets/controls",
            "_model_module_version": "1.5.0",
            "_model_name": "HTMLModel",
            "_view_count": null,
            "_view_module": "@jupyter-widgets/controls",
            "_view_module_version": "1.5.0",
            "_view_name": "HTMLView",
            "description": "",
            "description_tooltip": null,
            "layout": "IPY_MODEL_175122db17674075b30e308ca48cca7a",
            "placeholder": "​",
            "style": "IPY_MODEL_7aff9f0659474771b97fe58189805346",
            "value": "0000.parquet: 100%"
          }
        },
        "b538ff6e322141aa90f64316d4271351": {
          "model_module": "@jupyter-widgets/controls",
          "model_name": "FloatProgressModel",
          "model_module_version": "1.5.0",
          "state": {
            "_dom_classes": [],
            "_model_module": "@jupyter-widgets/controls",
            "_model_module_version": "1.5.0",
            "_model_name": "FloatProgressModel",
            "_view_count": null,
            "_view_module": "@jupyter-widgets/controls",
            "_view_module_version": "1.5.0",
            "_view_name": "ProgressView",
            "bar_style": "success",
            "description": "",
            "description_tooltip": null,
            "layout": "IPY_MODEL_9defa4ac1fd746979ab07bd850e1eac6",
            "max": 5790180,
            "min": 0,
            "orientation": "horizontal",
            "style": "IPY_MODEL_22fdb01f06254e328c9878ce550389a6",
            "value": 5790180
          }
        },
        "9ecfce028a5c462b9b1c3debc4f81d6e": {
          "model_module": "@jupyter-widgets/controls",
          "model_name": "HTMLModel",
          "model_module_version": "1.5.0",
          "state": {
            "_dom_classes": [],
            "_model_module": "@jupyter-widgets/controls",
            "_model_module_version": "1.5.0",
            "_model_name": "HTMLModel",
            "_view_count": null,
            "_view_module": "@jupyter-widgets/controls",
            "_view_module_version": "1.5.0",
            "_view_name": "HTMLView",
            "description": "",
            "description_tooltip": null,
            "layout": "IPY_MODEL_4c3c040acef3422983a6b3abf3327d44",
            "placeholder": "​",
            "style": "IPY_MODEL_deb05ba85c4b4f3b8c6356c19578426f",
            "value": " 5.79M/5.79M [00:00&lt;00:00, 65.3MB/s]"
          }
        },
        "8ac18517bffd46e1affa4d529b101e6b": {
          "model_module": "@jupyter-widgets/base",
          "model_name": "LayoutModel",
          "model_module_version": "1.2.0",
          "state": {
            "_model_module": "@jupyter-widgets/base",
            "_model_module_version": "1.2.0",
            "_model_name": "LayoutModel",
            "_view_count": null,
            "_view_module": "@jupyter-widgets/base",
            "_view_module_version": "1.2.0",
            "_view_name": "LayoutView",
            "align_content": null,
            "align_items": null,
            "align_self": null,
            "border": null,
            "bottom": null,
            "display": null,
            "flex": null,
            "flex_flow": null,
            "grid_area": null,
            "grid_auto_columns": null,
            "grid_auto_flow": null,
            "grid_auto_rows": null,
            "grid_column": null,
            "grid_gap": null,
            "grid_row": null,
            "grid_template_areas": null,
            "grid_template_columns": null,
            "grid_template_rows": null,
            "height": null,
            "justify_content": null,
            "justify_items": null,
            "left": null,
            "margin": null,
            "max_height": null,
            "max_width": null,
            "min_height": null,
            "min_width": null,
            "object_fit": null,
            "object_position": null,
            "order": null,
            "overflow": null,
            "overflow_x": null,
            "overflow_y": null,
            "padding": null,
            "right": null,
            "top": null,
            "visibility": null,
            "width": null
          }
        },
        "175122db17674075b30e308ca48cca7a": {
          "model_module": "@jupyter-widgets/base",
          "model_name": "LayoutModel",
          "model_module_version": "1.2.0",
          "state": {
            "_model_module": "@jupyter-widgets/base",
            "_model_module_version": "1.2.0",
            "_model_name": "LayoutModel",
            "_view_count": null,
            "_view_module": "@jupyter-widgets/base",
            "_view_module_version": "1.2.0",
            "_view_name": "LayoutView",
            "align_content": null,
            "align_items": null,
            "align_self": null,
            "border": null,
            "bottom": null,
            "display": null,
            "flex": null,
            "flex_flow": null,
            "grid_area": null,
            "grid_auto_columns": null,
            "grid_auto_flow": null,
            "grid_auto_rows": null,
            "grid_column": null,
            "grid_gap": null,
            "grid_row": null,
            "grid_template_areas": null,
            "grid_template_columns": null,
            "grid_template_rows": null,
            "height": null,
            "justify_content": null,
            "justify_items": null,
            "left": null,
            "margin": null,
            "max_height": null,
            "max_width": null,
            "min_height": null,
            "min_width": null,
            "object_fit": null,
            "object_position": null,
            "order": null,
            "overflow": null,
            "overflow_x": null,
            "overflow_y": null,
            "padding": null,
            "right": null,
            "top": null,
            "visibility": null,
            "width": null
          }
        },
        "7aff9f0659474771b97fe58189805346": {
          "model_module": "@jupyter-widgets/controls",
          "model_name": "DescriptionStyleModel",
          "model_module_version": "1.5.0",
          "state": {
            "_model_module": "@jupyter-widgets/controls",
            "_model_module_version": "1.5.0",
            "_model_name": "DescriptionStyleModel",
            "_view_count": null,
            "_view_module": "@jupyter-widgets/base",
            "_view_module_version": "1.2.0",
            "_view_name": "StyleView",
            "description_width": ""
          }
        },
        "9defa4ac1fd746979ab07bd850e1eac6": {
          "model_module": "@jupyter-widgets/base",
          "model_name": "LayoutModel",
          "model_module_version": "1.2.0",
          "state": {
            "_model_module": "@jupyter-widgets/base",
            "_model_module_version": "1.2.0",
            "_model_name": "LayoutModel",
            "_view_count": null,
            "_view_module": "@jupyter-widgets/base",
            "_view_module_version": "1.2.0",
            "_view_name": "LayoutView",
            "align_content": null,
            "align_items": null,
            "align_self": null,
            "border": null,
            "bottom": null,
            "display": null,
            "flex": null,
            "flex_flow": null,
            "grid_area": null,
            "grid_auto_columns": null,
            "grid_auto_flow": null,
            "grid_auto_rows": null,
            "grid_column": null,
            "grid_gap": null,
            "grid_row": null,
            "grid_template_areas": null,
            "grid_template_columns": null,
            "grid_template_rows": null,
            "height": null,
            "justify_content": null,
            "justify_items": null,
            "left": null,
            "margin": null,
            "max_height": null,
            "max_width": null,
            "min_height": null,
            "min_width": null,
            "object_fit": null,
            "object_position": null,
            "order": null,
            "overflow": null,
            "overflow_x": null,
            "overflow_y": null,
            "padding": null,
            "right": null,
            "top": null,
            "visibility": null,
            "width": null
          }
        },
        "22fdb01f06254e328c9878ce550389a6": {
          "model_module": "@jupyter-widgets/controls",
          "model_name": "ProgressStyleModel",
          "model_module_version": "1.5.0",
          "state": {
            "_model_module": "@jupyter-widgets/controls",
            "_model_module_version": "1.5.0",
            "_model_name": "ProgressStyleModel",
            "_view_count": null,
            "_view_module": "@jupyter-widgets/base",
            "_view_module_version": "1.2.0",
            "_view_name": "StyleView",
            "bar_color": null,
            "description_width": ""
          }
        },
        "4c3c040acef3422983a6b3abf3327d44": {
          "model_module": "@jupyter-widgets/base",
          "model_name": "LayoutModel",
          "model_module_version": "1.2.0",
          "state": {
            "_model_module": "@jupyter-widgets/base",
            "_model_module_version": "1.2.0",
            "_model_name": "LayoutModel",
            "_view_count": null,
            "_view_module": "@jupyter-widgets/base",
            "_view_module_version": "1.2.0",
            "_view_name": "LayoutView",
            "align_content": null,
            "align_items": null,
            "align_self": null,
            "border": null,
            "bottom": null,
            "display": null,
            "flex": null,
            "flex_flow": null,
            "grid_area": null,
            "grid_auto_columns": null,
            "grid_auto_flow": null,
            "grid_auto_rows": null,
            "grid_column": null,
            "grid_gap": null,
            "grid_row": null,
            "grid_template_areas": null,
            "grid_template_columns": null,
            "grid_template_rows": null,
            "height": null,
            "justify_content": null,
            "justify_items": null,
            "left": null,
            "margin": null,
            "max_height": null,
            "max_width": null,
            "min_height": null,
            "min_width": null,
            "object_fit": null,
            "object_position": null,
            "order": null,
            "overflow": null,
            "overflow_x": null,
            "overflow_y": null,
            "padding": null,
            "right": null,
            "top": null,
            "visibility": null,
            "width": null
          }
        },
        "deb05ba85c4b4f3b8c6356c19578426f": {
          "model_module": "@jupyter-widgets/controls",
          "model_name": "DescriptionStyleModel",
          "model_module_version": "1.5.0",
          "state": {
            "_model_module": "@jupyter-widgets/controls",
            "_model_module_version": "1.5.0",
            "_model_name": "DescriptionStyleModel",
            "_view_count": null,
            "_view_module": "@jupyter-widgets/base",
            "_view_module_version": "1.2.0",
            "_view_name": "StyleView",
            "description_width": ""
          }
        },
        "04e68efe763843939813cccd57cda034": {
          "model_module": "@jupyter-widgets/controls",
          "model_name": "HBoxModel",
          "model_module_version": "1.5.0",
          "state": {
            "_dom_classes": [],
            "_model_module": "@jupyter-widgets/controls",
            "_model_module_version": "1.5.0",
            "_model_name": "HBoxModel",
            "_view_count": null,
            "_view_module": "@jupyter-widgets/controls",
            "_view_module_version": "1.5.0",
            "_view_name": "HBoxView",
            "box_style": "",
            "children": [
              "IPY_MODEL_d4a2ba84592c494bbcf34f4c8a22a5e5",
              "IPY_MODEL_a2d0a3ee739544a896864effcc66296f",
              "IPY_MODEL_8736a8899d804a928b7566f1ac6d587d"
            ],
            "layout": "IPY_MODEL_e2816d9de9824cb58d3689a22f4cbe28"
          }
        },
        "d4a2ba84592c494bbcf34f4c8a22a5e5": {
          "model_module": "@jupyter-widgets/controls",
          "model_name": "HTMLModel",
          "model_module_version": "1.5.0",
          "state": {
            "_dom_classes": [],
            "_model_module": "@jupyter-widgets/controls",
            "_model_module_version": "1.5.0",
            "_model_name": "HTMLModel",
            "_view_count": null,
            "_view_module": "@jupyter-widgets/controls",
            "_view_module_version": "1.5.0",
            "_view_name": "HTMLView",
            "description": "",
            "description_tooltip": null,
            "layout": "IPY_MODEL_a94d0969c0fb43d7a290305b9a57b71d",
            "placeholder": "​",
            "style": "IPY_MODEL_54f08810c825461e8003e96de05d47f1",
            "value": "0000.parquet: 100%"
          }
        },
        "a2d0a3ee739544a896864effcc66296f": {
          "model_module": "@jupyter-widgets/controls",
          "model_name": "FloatProgressModel",
          "model_module_version": "1.5.0",
          "state": {
            "_dom_classes": [],
            "_model_module": "@jupyter-widgets/controls",
            "_model_module_version": "1.5.0",
            "_model_name": "FloatProgressModel",
            "_view_count": null,
            "_view_module": "@jupyter-widgets/controls",
            "_view_module_version": "1.5.0",
            "_view_name": "ProgressView",
            "bar_style": "success",
            "description": "",
            "description_tooltip": null,
            "layout": "IPY_MODEL_50918d65fe12466ea03f348d4671f170",
            "max": 5809657,
            "min": 0,
            "orientation": "horizontal",
            "style": "IPY_MODEL_33602d507f1043cc910beb2b88178f97",
            "value": 5809657
          }
        },
        "8736a8899d804a928b7566f1ac6d587d": {
          "model_module": "@jupyter-widgets/controls",
          "model_name": "HTMLModel",
          "model_module_version": "1.5.0",
          "state": {
            "_dom_classes": [],
            "_model_module": "@jupyter-widgets/controls",
            "_model_module_version": "1.5.0",
            "_model_name": "HTMLModel",
            "_view_count": null,
            "_view_module": "@jupyter-widgets/controls",
            "_view_module_version": "1.5.0",
            "_view_name": "HTMLView",
            "description": "",
            "description_tooltip": null,
            "layout": "IPY_MODEL_d606b217704046499d89ae5fe803941b",
            "placeholder": "​",
            "style": "IPY_MODEL_4491616f3b1c48f9bd33053fb0dfe6f1",
            "value": " 5.81M/5.81M [00:00&lt;00:00, 48.6MB/s]"
          }
        },
        "e2816d9de9824cb58d3689a22f4cbe28": {
          "model_module": "@jupyter-widgets/base",
          "model_name": "LayoutModel",
          "model_module_version": "1.2.0",
          "state": {
            "_model_module": "@jupyter-widgets/base",
            "_model_module_version": "1.2.0",
            "_model_name": "LayoutModel",
            "_view_count": null,
            "_view_module": "@jupyter-widgets/base",
            "_view_module_version": "1.2.0",
            "_view_name": "LayoutView",
            "align_content": null,
            "align_items": null,
            "align_self": null,
            "border": null,
            "bottom": null,
            "display": null,
            "flex": null,
            "flex_flow": null,
            "grid_area": null,
            "grid_auto_columns": null,
            "grid_auto_flow": null,
            "grid_auto_rows": null,
            "grid_column": null,
            "grid_gap": null,
            "grid_row": null,
            "grid_template_areas": null,
            "grid_template_columns": null,
            "grid_template_rows": null,
            "height": null,
            "justify_content": null,
            "justify_items": null,
            "left": null,
            "margin": null,
            "max_height": null,
            "max_width": null,
            "min_height": null,
            "min_width": null,
            "object_fit": null,
            "object_position": null,
            "order": null,
            "overflow": null,
            "overflow_x": null,
            "overflow_y": null,
            "padding": null,
            "right": null,
            "top": null,
            "visibility": null,
            "width": null
          }
        },
        "a94d0969c0fb43d7a290305b9a57b71d": {
          "model_module": "@jupyter-widgets/base",
          "model_name": "LayoutModel",
          "model_module_version": "1.2.0",
          "state": {
            "_model_module": "@jupyter-widgets/base",
            "_model_module_version": "1.2.0",
            "_model_name": "LayoutModel",
            "_view_count": null,
            "_view_module": "@jupyter-widgets/base",
            "_view_module_version": "1.2.0",
            "_view_name": "LayoutView",
            "align_content": null,
            "align_items": null,
            "align_self": null,
            "border": null,
            "bottom": null,
            "display": null,
            "flex": null,
            "flex_flow": null,
            "grid_area": null,
            "grid_auto_columns": null,
            "grid_auto_flow": null,
            "grid_auto_rows": null,
            "grid_column": null,
            "grid_gap": null,
            "grid_row": null,
            "grid_template_areas": null,
            "grid_template_columns": null,
            "grid_template_rows": null,
            "height": null,
            "justify_content": null,
            "justify_items": null,
            "left": null,
            "margin": null,
            "max_height": null,
            "max_width": null,
            "min_height": null,
            "min_width": null,
            "object_fit": null,
            "object_position": null,
            "order": null,
            "overflow": null,
            "overflow_x": null,
            "overflow_y": null,
            "padding": null,
            "right": null,
            "top": null,
            "visibility": null,
            "width": null
          }
        },
        "54f08810c825461e8003e96de05d47f1": {
          "model_module": "@jupyter-widgets/controls",
          "model_name": "DescriptionStyleModel",
          "model_module_version": "1.5.0",
          "state": {
            "_model_module": "@jupyter-widgets/controls",
            "_model_module_version": "1.5.0",
            "_model_name": "DescriptionStyleModel",
            "_view_count": null,
            "_view_module": "@jupyter-widgets/base",
            "_view_module_version": "1.2.0",
            "_view_name": "StyleView",
            "description_width": ""
          }
        },
        "50918d65fe12466ea03f348d4671f170": {
          "model_module": "@jupyter-widgets/base",
          "model_name": "LayoutModel",
          "model_module_version": "1.2.0",
          "state": {
            "_model_module": "@jupyter-widgets/base",
            "_model_module_version": "1.2.0",
            "_model_name": "LayoutModel",
            "_view_count": null,
            "_view_module": "@jupyter-widgets/base",
            "_view_module_version": "1.2.0",
            "_view_name": "LayoutView",
            "align_content": null,
            "align_items": null,
            "align_self": null,
            "border": null,
            "bottom": null,
            "display": null,
            "flex": null,
            "flex_flow": null,
            "grid_area": null,
            "grid_auto_columns": null,
            "grid_auto_flow": null,
            "grid_auto_rows": null,
            "grid_column": null,
            "grid_gap": null,
            "grid_row": null,
            "grid_template_areas": null,
            "grid_template_columns": null,
            "grid_template_rows": null,
            "height": null,
            "justify_content": null,
            "justify_items": null,
            "left": null,
            "margin": null,
            "max_height": null,
            "max_width": null,
            "min_height": null,
            "min_width": null,
            "object_fit": null,
            "object_position": null,
            "order": null,
            "overflow": null,
            "overflow_x": null,
            "overflow_y": null,
            "padding": null,
            "right": null,
            "top": null,
            "visibility": null,
            "width": null
          }
        },
        "33602d507f1043cc910beb2b88178f97": {
          "model_module": "@jupyter-widgets/controls",
          "model_name": "ProgressStyleModel",
          "model_module_version": "1.5.0",
          "state": {
            "_model_module": "@jupyter-widgets/controls",
            "_model_module_version": "1.5.0",
            "_model_name": "ProgressStyleModel",
            "_view_count": null,
            "_view_module": "@jupyter-widgets/base",
            "_view_module_version": "1.2.0",
            "_view_name": "StyleView",
            "bar_color": null,
            "description_width": ""
          }
        },
        "d606b217704046499d89ae5fe803941b": {
          "model_module": "@jupyter-widgets/base",
          "model_name": "LayoutModel",
          "model_module_version": "1.2.0",
          "state": {
            "_model_module": "@jupyter-widgets/base",
            "_model_module_version": "1.2.0",
            "_model_name": "LayoutModel",
            "_view_count": null,
            "_view_module": "@jupyter-widgets/base",
            "_view_module_version": "1.2.0",
            "_view_name": "LayoutView",
            "align_content": null,
            "align_items": null,
            "align_self": null,
            "border": null,
            "bottom": null,
            "display": null,
            "flex": null,
            "flex_flow": null,
            "grid_area": null,
            "grid_auto_columns": null,
            "grid_auto_flow": null,
            "grid_auto_rows": null,
            "grid_column": null,
            "grid_gap": null,
            "grid_row": null,
            "grid_template_areas": null,
            "grid_template_columns": null,
            "grid_template_rows": null,
            "height": null,
            "justify_content": null,
            "justify_items": null,
            "left": null,
            "margin": null,
            "max_height": null,
            "max_width": null,
            "min_height": null,
            "min_width": null,
            "object_fit": null,
            "object_position": null,
            "order": null,
            "overflow": null,
            "overflow_x": null,
            "overflow_y": null,
            "padding": null,
            "right": null,
            "top": null,
            "visibility": null,
            "width": null
          }
        },
        "4491616f3b1c48f9bd33053fb0dfe6f1": {
          "model_module": "@jupyter-widgets/controls",
          "model_name": "DescriptionStyleModel",
          "model_module_version": "1.5.0",
          "state": {
            "_model_module": "@jupyter-widgets/controls",
            "_model_module_version": "1.5.0",
            "_model_name": "DescriptionStyleModel",
            "_view_count": null,
            "_view_module": "@jupyter-widgets/base",
            "_view_module_version": "1.2.0",
            "_view_name": "StyleView",
            "description_width": ""
          }
        },
        "2c20a6afeae64b6a8158c2f243d0008d": {
          "model_module": "@jupyter-widgets/controls",
          "model_name": "HBoxModel",
          "model_module_version": "1.5.0",
          "state": {
            "_dom_classes": [],
            "_model_module": "@jupyter-widgets/controls",
            "_model_module_version": "1.5.0",
            "_model_name": "HBoxModel",
            "_view_count": null,
            "_view_module": "@jupyter-widgets/controls",
            "_view_module_version": "1.5.0",
            "_view_name": "HBoxView",
            "box_style": "",
            "children": [
              "IPY_MODEL_f037105f3a1547948546d4b7729b1a36",
              "IPY_MODEL_d71066122eb04deabd352e0fd42c45c1",
              "IPY_MODEL_22b4c9031e214c82a7eeadf85e9a6daa"
            ],
            "layout": "IPY_MODEL_0833a16739ea48469e5a19fb7dd0a163"
          }
        },
        "f037105f3a1547948546d4b7729b1a36": {
          "model_module": "@jupyter-widgets/controls",
          "model_name": "HTMLModel",
          "model_module_version": "1.5.0",
          "state": {
            "_dom_classes": [],
            "_model_module": "@jupyter-widgets/controls",
            "_model_module_version": "1.5.0",
            "_model_name": "HTMLModel",
            "_view_count": null,
            "_view_module": "@jupyter-widgets/controls",
            "_view_module_version": "1.5.0",
            "_view_name": "HTMLView",
            "description": "",
            "description_tooltip": null,
            "layout": "IPY_MODEL_c2a79c008a26416d97bf4bde40d541c1",
            "placeholder": "​",
            "style": "IPY_MODEL_9cecb95822454050aac4c0611cfa42bf",
            "value": "Generating train split: 100%"
          }
        },
        "d71066122eb04deabd352e0fd42c45c1": {
          "model_module": "@jupyter-widgets/controls",
          "model_name": "FloatProgressModel",
          "model_module_version": "1.5.0",
          "state": {
            "_dom_classes": [],
            "_model_module": "@jupyter-widgets/controls",
            "_model_module_version": "1.5.0",
            "_model_name": "FloatProgressModel",
            "_view_count": null,
            "_view_module": "@jupyter-widgets/controls",
            "_view_module_version": "1.5.0",
            "_view_name": "ProgressView",
            "bar_style": "success",
            "description": "",
            "description_tooltip": null,
            "layout": "IPY_MODEL_cd86b3688a4e4db694e26bb416e386d6",
            "max": 42509,
            "min": 0,
            "orientation": "horizontal",
            "style": "IPY_MODEL_2593b479329e455ba28a2c0cf83e38b9",
            "value": 42509
          }
        },
        "22b4c9031e214c82a7eeadf85e9a6daa": {
          "model_module": "@jupyter-widgets/controls",
          "model_name": "HTMLModel",
          "model_module_version": "1.5.0",
          "state": {
            "_dom_classes": [],
            "_model_module": "@jupyter-widgets/controls",
            "_model_module_version": "1.5.0",
            "_model_name": "HTMLModel",
            "_view_count": null,
            "_view_module": "@jupyter-widgets/controls",
            "_view_module_version": "1.5.0",
            "_view_name": "HTMLView",
            "description": "",
            "description_tooltip": null,
            "layout": "IPY_MODEL_d549960bbc8343a68133ffbd6b490f4e",
            "placeholder": "​",
            "style": "IPY_MODEL_0bbcd2f656954069a41aeb82e9f63063",
            "value": " 42509/42509 [00:01&lt;00:00, 30768.86 examples/s]"
          }
        },
        "0833a16739ea48469e5a19fb7dd0a163": {
          "model_module": "@jupyter-widgets/base",
          "model_name": "LayoutModel",
          "model_module_version": "1.2.0",
          "state": {
            "_model_module": "@jupyter-widgets/base",
            "_model_module_version": "1.2.0",
            "_model_name": "LayoutModel",
            "_view_count": null,
            "_view_module": "@jupyter-widgets/base",
            "_view_module_version": "1.2.0",
            "_view_name": "LayoutView",
            "align_content": null,
            "align_items": null,
            "align_self": null,
            "border": null,
            "bottom": null,
            "display": null,
            "flex": null,
            "flex_flow": null,
            "grid_area": null,
            "grid_auto_columns": null,
            "grid_auto_flow": null,
            "grid_auto_rows": null,
            "grid_column": null,
            "grid_gap": null,
            "grid_row": null,
            "grid_template_areas": null,
            "grid_template_columns": null,
            "grid_template_rows": null,
            "height": null,
            "justify_content": null,
            "justify_items": null,
            "left": null,
            "margin": null,
            "max_height": null,
            "max_width": null,
            "min_height": null,
            "min_width": null,
            "object_fit": null,
            "object_position": null,
            "order": null,
            "overflow": null,
            "overflow_x": null,
            "overflow_y": null,
            "padding": null,
            "right": null,
            "top": null,
            "visibility": null,
            "width": null
          }
        },
        "c2a79c008a26416d97bf4bde40d541c1": {
          "model_module": "@jupyter-widgets/base",
          "model_name": "LayoutModel",
          "model_module_version": "1.2.0",
          "state": {
            "_model_module": "@jupyter-widgets/base",
            "_model_module_version": "1.2.0",
            "_model_name": "LayoutModel",
            "_view_count": null,
            "_view_module": "@jupyter-widgets/base",
            "_view_module_version": "1.2.0",
            "_view_name": "LayoutView",
            "align_content": null,
            "align_items": null,
            "align_self": null,
            "border": null,
            "bottom": null,
            "display": null,
            "flex": null,
            "flex_flow": null,
            "grid_area": null,
            "grid_auto_columns": null,
            "grid_auto_flow": null,
            "grid_auto_rows": null,
            "grid_column": null,
            "grid_gap": null,
            "grid_row": null,
            "grid_template_areas": null,
            "grid_template_columns": null,
            "grid_template_rows": null,
            "height": null,
            "justify_content": null,
            "justify_items": null,
            "left": null,
            "margin": null,
            "max_height": null,
            "max_width": null,
            "min_height": null,
            "min_width": null,
            "object_fit": null,
            "object_position": null,
            "order": null,
            "overflow": null,
            "overflow_x": null,
            "overflow_y": null,
            "padding": null,
            "right": null,
            "top": null,
            "visibility": null,
            "width": null
          }
        },
        "9cecb95822454050aac4c0611cfa42bf": {
          "model_module": "@jupyter-widgets/controls",
          "model_name": "DescriptionStyleModel",
          "model_module_version": "1.5.0",
          "state": {
            "_model_module": "@jupyter-widgets/controls",
            "_model_module_version": "1.5.0",
            "_model_name": "DescriptionStyleModel",
            "_view_count": null,
            "_view_module": "@jupyter-widgets/base",
            "_view_module_version": "1.2.0",
            "_view_name": "StyleView",
            "description_width": ""
          }
        },
        "cd86b3688a4e4db694e26bb416e386d6": {
          "model_module": "@jupyter-widgets/base",
          "model_name": "LayoutModel",
          "model_module_version": "1.2.0",
          "state": {
            "_model_module": "@jupyter-widgets/base",
            "_model_module_version": "1.2.0",
            "_model_name": "LayoutModel",
            "_view_count": null,
            "_view_module": "@jupyter-widgets/base",
            "_view_module_version": "1.2.0",
            "_view_name": "LayoutView",
            "align_content": null,
            "align_items": null,
            "align_self": null,
            "border": null,
            "bottom": null,
            "display": null,
            "flex": null,
            "flex_flow": null,
            "grid_area": null,
            "grid_auto_columns": null,
            "grid_auto_flow": null,
            "grid_auto_rows": null,
            "grid_column": null,
            "grid_gap": null,
            "grid_row": null,
            "grid_template_areas": null,
            "grid_template_columns": null,
            "grid_template_rows": null,
            "height": null,
            "justify_content": null,
            "justify_items": null,
            "left": null,
            "margin": null,
            "max_height": null,
            "max_width": null,
            "min_height": null,
            "min_width": null,
            "object_fit": null,
            "object_position": null,
            "order": null,
            "overflow": null,
            "overflow_x": null,
            "overflow_y": null,
            "padding": null,
            "right": null,
            "top": null,
            "visibility": null,
            "width": null
          }
        },
        "2593b479329e455ba28a2c0cf83e38b9": {
          "model_module": "@jupyter-widgets/controls",
          "model_name": "ProgressStyleModel",
          "model_module_version": "1.5.0",
          "state": {
            "_model_module": "@jupyter-widgets/controls",
            "_model_module_version": "1.5.0",
            "_model_name": "ProgressStyleModel",
            "_view_count": null,
            "_view_module": "@jupyter-widgets/base",
            "_view_module_version": "1.2.0",
            "_view_name": "StyleView",
            "bar_color": null,
            "description_width": ""
          }
        },
        "d549960bbc8343a68133ffbd6b490f4e": {
          "model_module": "@jupyter-widgets/base",
          "model_name": "LayoutModel",
          "model_module_version": "1.2.0",
          "state": {
            "_model_module": "@jupyter-widgets/base",
            "_model_module_version": "1.2.0",
            "_model_name": "LayoutModel",
            "_view_count": null,
            "_view_module": "@jupyter-widgets/base",
            "_view_module_version": "1.2.0",
            "_view_name": "LayoutView",
            "align_content": null,
            "align_items": null,
            "align_self": null,
            "border": null,
            "bottom": null,
            "display": null,
            "flex": null,
            "flex_flow": null,
            "grid_area": null,
            "grid_auto_columns": null,
            "grid_auto_flow": null,
            "grid_auto_rows": null,
            "grid_column": null,
            "grid_gap": null,
            "grid_row": null,
            "grid_template_areas": null,
            "grid_template_columns": null,
            "grid_template_rows": null,
            "height": null,
            "justify_content": null,
            "justify_items": null,
            "left": null,
            "margin": null,
            "max_height": null,
            "max_width": null,
            "min_height": null,
            "min_width": null,
            "object_fit": null,
            "object_position": null,
            "order": null,
            "overflow": null,
            "overflow_x": null,
            "overflow_y": null,
            "padding": null,
            "right": null,
            "top": null,
            "visibility": null,
            "width": null
          }
        },
        "0bbcd2f656954069a41aeb82e9f63063": {
          "model_module": "@jupyter-widgets/controls",
          "model_name": "DescriptionStyleModel",
          "model_module_version": "1.5.0",
          "state": {
            "_model_module": "@jupyter-widgets/controls",
            "_model_module_version": "1.5.0",
            "_model_name": "DescriptionStyleModel",
            "_view_count": null,
            "_view_module": "@jupyter-widgets/base",
            "_view_module_version": "1.2.0",
            "_view_name": "StyleView",
            "description_width": ""
          }
        },
        "d2b01436b9a641a3a6f03452475eba0a": {
          "model_module": "@jupyter-widgets/controls",
          "model_name": "HBoxModel",
          "model_module_version": "1.5.0",
          "state": {
            "_dom_classes": [],
            "_model_module": "@jupyter-widgets/controls",
            "_model_module_version": "1.5.0",
            "_model_name": "HBoxModel",
            "_view_count": null,
            "_view_module": "@jupyter-widgets/controls",
            "_view_module_version": "1.5.0",
            "_view_name": "HBoxView",
            "box_style": "",
            "children": [
              "IPY_MODEL_3dc1c8e2c12745e5a92e951b2bd241f3",
              "IPY_MODEL_1a7846c715d4406c9f35e65652c1c517",
              "IPY_MODEL_c22c4b8ee7c24fbdaf0a5ea61bcb2732"
            ],
            "layout": "IPY_MODEL_7b642d33826641a3b971017218dca216"
          }
        },
        "3dc1c8e2c12745e5a92e951b2bd241f3": {
          "model_module": "@jupyter-widgets/controls",
          "model_name": "HTMLModel",
          "model_module_version": "1.5.0",
          "state": {
            "_dom_classes": [],
            "_model_module": "@jupyter-widgets/controls",
            "_model_module_version": "1.5.0",
            "_model_name": "HTMLModel",
            "_view_count": null,
            "_view_module": "@jupyter-widgets/controls",
            "_view_module_version": "1.5.0",
            "_view_name": "HTMLView",
            "description": "",
            "description_tooltip": null,
            "layout": "IPY_MODEL_aac47c0c4a7a4abb8673f54e0ab20a0c",
            "placeholder": "​",
            "style": "IPY_MODEL_c2c13defac26433ba9da137f06447654",
            "value": "Generating validation split: 100%"
          }
        },
        "1a7846c715d4406c9f35e65652c1c517": {
          "model_module": "@jupyter-widgets/controls",
          "model_name": "FloatProgressModel",
          "model_module_version": "1.5.0",
          "state": {
            "_dom_classes": [],
            "_model_module": "@jupyter-widgets/controls",
            "_model_module_version": "1.5.0",
            "_model_name": "FloatProgressModel",
            "_view_count": null,
            "_view_module": "@jupyter-widgets/controls",
            "_view_module_version": "1.5.0",
            "_view_name": "ProgressView",
            "bar_style": "success",
            "description": "",
            "description_tooltip": null,
            "layout": "IPY_MODEL_232d0ba2e0604f0dab82b2a0cf661902",
            "max": 5314,
            "min": 0,
            "orientation": "horizontal",
            "style": "IPY_MODEL_e556530acc644da799b4c6067964e99f",
            "value": 5314
          }
        },
        "c22c4b8ee7c24fbdaf0a5ea61bcb2732": {
          "model_module": "@jupyter-widgets/controls",
          "model_name": "HTMLModel",
          "model_module_version": "1.5.0",
          "state": {
            "_dom_classes": [],
            "_model_module": "@jupyter-widgets/controls",
            "_model_module_version": "1.5.0",
            "_model_name": "HTMLModel",
            "_view_count": null,
            "_view_module": "@jupyter-widgets/controls",
            "_view_module_version": "1.5.0",
            "_view_name": "HTMLView",
            "description": "",
            "description_tooltip": null,
            "layout": "IPY_MODEL_6a487e5210b64711b52ad08cb73568d8",
            "placeholder": "​",
            "style": "IPY_MODEL_d1aaf32063f24502baaafba198206361",
            "value": " 5314/5314 [00:00&lt;00:00, 18623.64 examples/s]"
          }
        },
        "7b642d33826641a3b971017218dca216": {
          "model_module": "@jupyter-widgets/base",
          "model_name": "LayoutModel",
          "model_module_version": "1.2.0",
          "state": {
            "_model_module": "@jupyter-widgets/base",
            "_model_module_version": "1.2.0",
            "_model_name": "LayoutModel",
            "_view_count": null,
            "_view_module": "@jupyter-widgets/base",
            "_view_module_version": "1.2.0",
            "_view_name": "LayoutView",
            "align_content": null,
            "align_items": null,
            "align_self": null,
            "border": null,
            "bottom": null,
            "display": null,
            "flex": null,
            "flex_flow": null,
            "grid_area": null,
            "grid_auto_columns": null,
            "grid_auto_flow": null,
            "grid_auto_rows": null,
            "grid_column": null,
            "grid_gap": null,
            "grid_row": null,
            "grid_template_areas": null,
            "grid_template_columns": null,
            "grid_template_rows": null,
            "height": null,
            "justify_content": null,
            "justify_items": null,
            "left": null,
            "margin": null,
            "max_height": null,
            "max_width": null,
            "min_height": null,
            "min_width": null,
            "object_fit": null,
            "object_position": null,
            "order": null,
            "overflow": null,
            "overflow_x": null,
            "overflow_y": null,
            "padding": null,
            "right": null,
            "top": null,
            "visibility": null,
            "width": null
          }
        },
        "aac47c0c4a7a4abb8673f54e0ab20a0c": {
          "model_module": "@jupyter-widgets/base",
          "model_name": "LayoutModel",
          "model_module_version": "1.2.0",
          "state": {
            "_model_module": "@jupyter-widgets/base",
            "_model_module_version": "1.2.0",
            "_model_name": "LayoutModel",
            "_view_count": null,
            "_view_module": "@jupyter-widgets/base",
            "_view_module_version": "1.2.0",
            "_view_name": "LayoutView",
            "align_content": null,
            "align_items": null,
            "align_self": null,
            "border": null,
            "bottom": null,
            "display": null,
            "flex": null,
            "flex_flow": null,
            "grid_area": null,
            "grid_auto_columns": null,
            "grid_auto_flow": null,
            "grid_auto_rows": null,
            "grid_column": null,
            "grid_gap": null,
            "grid_row": null,
            "grid_template_areas": null,
            "grid_template_columns": null,
            "grid_template_rows": null,
            "height": null,
            "justify_content": null,
            "justify_items": null,
            "left": null,
            "margin": null,
            "max_height": null,
            "max_width": null,
            "min_height": null,
            "min_width": null,
            "object_fit": null,
            "object_position": null,
            "order": null,
            "overflow": null,
            "overflow_x": null,
            "overflow_y": null,
            "padding": null,
            "right": null,
            "top": null,
            "visibility": null,
            "width": null
          }
        },
        "c2c13defac26433ba9da137f06447654": {
          "model_module": "@jupyter-widgets/controls",
          "model_name": "DescriptionStyleModel",
          "model_module_version": "1.5.0",
          "state": {
            "_model_module": "@jupyter-widgets/controls",
            "_model_module_version": "1.5.0",
            "_model_name": "DescriptionStyleModel",
            "_view_count": null,
            "_view_module": "@jupyter-widgets/base",
            "_view_module_version": "1.2.0",
            "_view_name": "StyleView",
            "description_width": ""
          }
        },
        "232d0ba2e0604f0dab82b2a0cf661902": {
          "model_module": "@jupyter-widgets/base",
          "model_name": "LayoutModel",
          "model_module_version": "1.2.0",
          "state": {
            "_model_module": "@jupyter-widgets/base",
            "_model_module_version": "1.2.0",
            "_model_name": "LayoutModel",
            "_view_count": null,
            "_view_module": "@jupyter-widgets/base",
            "_view_module_version": "1.2.0",
            "_view_name": "LayoutView",
            "align_content": null,
            "align_items": null,
            "align_self": null,
            "border": null,
            "bottom": null,
            "display": null,
            "flex": null,
            "flex_flow": null,
            "grid_area": null,
            "grid_auto_columns": null,
            "grid_auto_flow": null,
            "grid_auto_rows": null,
            "grid_column": null,
            "grid_gap": null,
            "grid_row": null,
            "grid_template_areas": null,
            "grid_template_columns": null,
            "grid_template_rows": null,
            "height": null,
            "justify_content": null,
            "justify_items": null,
            "left": null,
            "margin": null,
            "max_height": null,
            "max_width": null,
            "min_height": null,
            "min_width": null,
            "object_fit": null,
            "object_position": null,
            "order": null,
            "overflow": null,
            "overflow_x": null,
            "overflow_y": null,
            "padding": null,
            "right": null,
            "top": null,
            "visibility": null,
            "width": null
          }
        },
        "e556530acc644da799b4c6067964e99f": {
          "model_module": "@jupyter-widgets/controls",
          "model_name": "ProgressStyleModel",
          "model_module_version": "1.5.0",
          "state": {
            "_model_module": "@jupyter-widgets/controls",
            "_model_module_version": "1.5.0",
            "_model_name": "ProgressStyleModel",
            "_view_count": null,
            "_view_module": "@jupyter-widgets/base",
            "_view_module_version": "1.2.0",
            "_view_name": "StyleView",
            "bar_color": null,
            "description_width": ""
          }
        },
        "6a487e5210b64711b52ad08cb73568d8": {
          "model_module": "@jupyter-widgets/base",
          "model_name": "LayoutModel",
          "model_module_version": "1.2.0",
          "state": {
            "_model_module": "@jupyter-widgets/base",
            "_model_module_version": "1.2.0",
            "_model_name": "LayoutModel",
            "_view_count": null,
            "_view_module": "@jupyter-widgets/base",
            "_view_module_version": "1.2.0",
            "_view_name": "LayoutView",
            "align_content": null,
            "align_items": null,
            "align_self": null,
            "border": null,
            "bottom": null,
            "display": null,
            "flex": null,
            "flex_flow": null,
            "grid_area": null,
            "grid_auto_columns": null,
            "grid_auto_flow": null,
            "grid_auto_rows": null,
            "grid_column": null,
            "grid_gap": null,
            "grid_row": null,
            "grid_template_areas": null,
            "grid_template_columns": null,
            "grid_template_rows": null,
            "height": null,
            "justify_content": null,
            "justify_items": null,
            "left": null,
            "margin": null,
            "max_height": null,
            "max_width": null,
            "min_height": null,
            "min_width": null,
            "object_fit": null,
            "object_position": null,
            "order": null,
            "overflow": null,
            "overflow_x": null,
            "overflow_y": null,
            "padding": null,
            "right": null,
            "top": null,
            "visibility": null,
            "width": null
          }
        },
        "d1aaf32063f24502baaafba198206361": {
          "model_module": "@jupyter-widgets/controls",
          "model_name": "DescriptionStyleModel",
          "model_module_version": "1.5.0",
          "state": {
            "_model_module": "@jupyter-widgets/controls",
            "_model_module_version": "1.5.0",
            "_model_name": "DescriptionStyleModel",
            "_view_count": null,
            "_view_module": "@jupyter-widgets/base",
            "_view_module_version": "1.2.0",
            "_view_name": "StyleView",
            "description_width": ""
          }
        },
        "22fa1c48dfbd41d49368a1b5407d9127": {
          "model_module": "@jupyter-widgets/controls",
          "model_name": "HBoxModel",
          "model_module_version": "1.5.0",
          "state": {
            "_dom_classes": [],
            "_model_module": "@jupyter-widgets/controls",
            "_model_module_version": "1.5.0",
            "_model_name": "HBoxModel",
            "_view_count": null,
            "_view_module": "@jupyter-widgets/controls",
            "_view_module_version": "1.5.0",
            "_view_name": "HBoxView",
            "box_style": "",
            "children": [
              "IPY_MODEL_1ec5cec0b1e748daa48ba7415f72ecdc",
              "IPY_MODEL_86896599bc214a5d9c9bb67f6d4b5078",
              "IPY_MODEL_8b6d29eda3f4435da726ced160078f10"
            ],
            "layout": "IPY_MODEL_9006914a983d4daeb4120682cfda8d3a"
          }
        },
        "1ec5cec0b1e748daa48ba7415f72ecdc": {
          "model_module": "@jupyter-widgets/controls",
          "model_name": "HTMLModel",
          "model_module_version": "1.5.0",
          "state": {
            "_dom_classes": [],
            "_model_module": "@jupyter-widgets/controls",
            "_model_module_version": "1.5.0",
            "_model_name": "HTMLModel",
            "_view_count": null,
            "_view_module": "@jupyter-widgets/controls",
            "_view_module_version": "1.5.0",
            "_view_name": "HTMLView",
            "description": "",
            "description_tooltip": null,
            "layout": "IPY_MODEL_5116c64fdb074306aaba843156b6a2a8",
            "placeholder": "​",
            "style": "IPY_MODEL_1ae3840b37e744b6b63cc4f869dc023b",
            "value": "Generating test split: 100%"
          }
        },
        "86896599bc214a5d9c9bb67f6d4b5078": {
          "model_module": "@jupyter-widgets/controls",
          "model_name": "FloatProgressModel",
          "model_module_version": "1.5.0",
          "state": {
            "_dom_classes": [],
            "_model_module": "@jupyter-widgets/controls",
            "_model_module_version": "1.5.0",
            "_model_name": "FloatProgressModel",
            "_view_count": null,
            "_view_module": "@jupyter-widgets/controls",
            "_view_module_version": "1.5.0",
            "_view_name": "ProgressView",
            "bar_style": "success",
            "description": "",
            "description_tooltip": null,
            "layout": "IPY_MODEL_b8c7f03ec9f5461d9859ff35b02214c4",
            "max": 5314,
            "min": 0,
            "orientation": "horizontal",
            "style": "IPY_MODEL_17b1a8da5b514781a7e62d48aa03db00",
            "value": 5314
          }
        },
        "8b6d29eda3f4435da726ced160078f10": {
          "model_module": "@jupyter-widgets/controls",
          "model_name": "HTMLModel",
          "model_module_version": "1.5.0",
          "state": {
            "_dom_classes": [],
            "_model_module": "@jupyter-widgets/controls",
            "_model_module_version": "1.5.0",
            "_model_name": "HTMLModel",
            "_view_count": null,
            "_view_module": "@jupyter-widgets/controls",
            "_view_module_version": "1.5.0",
            "_view_name": "HTMLView",
            "description": "",
            "description_tooltip": null,
            "layout": "IPY_MODEL_6f0ac43f2cec44ae97860586fff770f9",
            "placeholder": "​",
            "style": "IPY_MODEL_92df3514d97b40548c3eb77e48fab991",
            "value": " 5314/5314 [00:00&lt;00:00, 20587.41 examples/s]"
          }
        },
        "9006914a983d4daeb4120682cfda8d3a": {
          "model_module": "@jupyter-widgets/base",
          "model_name": "LayoutModel",
          "model_module_version": "1.2.0",
          "state": {
            "_model_module": "@jupyter-widgets/base",
            "_model_module_version": "1.2.0",
            "_model_name": "LayoutModel",
            "_view_count": null,
            "_view_module": "@jupyter-widgets/base",
            "_view_module_version": "1.2.0",
            "_view_name": "LayoutView",
            "align_content": null,
            "align_items": null,
            "align_self": null,
            "border": null,
            "bottom": null,
            "display": null,
            "flex": null,
            "flex_flow": null,
            "grid_area": null,
            "grid_auto_columns": null,
            "grid_auto_flow": null,
            "grid_auto_rows": null,
            "grid_column": null,
            "grid_gap": null,
            "grid_row": null,
            "grid_template_areas": null,
            "grid_template_columns": null,
            "grid_template_rows": null,
            "height": null,
            "justify_content": null,
            "justify_items": null,
            "left": null,
            "margin": null,
            "max_height": null,
            "max_width": null,
            "min_height": null,
            "min_width": null,
            "object_fit": null,
            "object_position": null,
            "order": null,
            "overflow": null,
            "overflow_x": null,
            "overflow_y": null,
            "padding": null,
            "right": null,
            "top": null,
            "visibility": null,
            "width": null
          }
        },
        "5116c64fdb074306aaba843156b6a2a8": {
          "model_module": "@jupyter-widgets/base",
          "model_name": "LayoutModel",
          "model_module_version": "1.2.0",
          "state": {
            "_model_module": "@jupyter-widgets/base",
            "_model_module_version": "1.2.0",
            "_model_name": "LayoutModel",
            "_view_count": null,
            "_view_module": "@jupyter-widgets/base",
            "_view_module_version": "1.2.0",
            "_view_name": "LayoutView",
            "align_content": null,
            "align_items": null,
            "align_self": null,
            "border": null,
            "bottom": null,
            "display": null,
            "flex": null,
            "flex_flow": null,
            "grid_area": null,
            "grid_auto_columns": null,
            "grid_auto_flow": null,
            "grid_auto_rows": null,
            "grid_column": null,
            "grid_gap": null,
            "grid_row": null,
            "grid_template_areas": null,
            "grid_template_columns": null,
            "grid_template_rows": null,
            "height": null,
            "justify_content": null,
            "justify_items": null,
            "left": null,
            "margin": null,
            "max_height": null,
            "max_width": null,
            "min_height": null,
            "min_width": null,
            "object_fit": null,
            "object_position": null,
            "order": null,
            "overflow": null,
            "overflow_x": null,
            "overflow_y": null,
            "padding": null,
            "right": null,
            "top": null,
            "visibility": null,
            "width": null
          }
        },
        "1ae3840b37e744b6b63cc4f869dc023b": {
          "model_module": "@jupyter-widgets/controls",
          "model_name": "DescriptionStyleModel",
          "model_module_version": "1.5.0",
          "state": {
            "_model_module": "@jupyter-widgets/controls",
            "_model_module_version": "1.5.0",
            "_model_name": "DescriptionStyleModel",
            "_view_count": null,
            "_view_module": "@jupyter-widgets/base",
            "_view_module_version": "1.2.0",
            "_view_name": "StyleView",
            "description_width": ""
          }
        },
        "b8c7f03ec9f5461d9859ff35b02214c4": {
          "model_module": "@jupyter-widgets/base",
          "model_name": "LayoutModel",
          "model_module_version": "1.2.0",
          "state": {
            "_model_module": "@jupyter-widgets/base",
            "_model_module_version": "1.2.0",
            "_model_name": "LayoutModel",
            "_view_count": null,
            "_view_module": "@jupyter-widgets/base",
            "_view_module_version": "1.2.0",
            "_view_name": "LayoutView",
            "align_content": null,
            "align_items": null,
            "align_self": null,
            "border": null,
            "bottom": null,
            "display": null,
            "flex": null,
            "flex_flow": null,
            "grid_area": null,
            "grid_auto_columns": null,
            "grid_auto_flow": null,
            "grid_auto_rows": null,
            "grid_column": null,
            "grid_gap": null,
            "grid_row": null,
            "grid_template_areas": null,
            "grid_template_columns": null,
            "grid_template_rows": null,
            "height": null,
            "justify_content": null,
            "justify_items": null,
            "left": null,
            "margin": null,
            "max_height": null,
            "max_width": null,
            "min_height": null,
            "min_width": null,
            "object_fit": null,
            "object_position": null,
            "order": null,
            "overflow": null,
            "overflow_x": null,
            "overflow_y": null,
            "padding": null,
            "right": null,
            "top": null,
            "visibility": null,
            "width": null
          }
        },
        "17b1a8da5b514781a7e62d48aa03db00": {
          "model_module": "@jupyter-widgets/controls",
          "model_name": "ProgressStyleModel",
          "model_module_version": "1.5.0",
          "state": {
            "_model_module": "@jupyter-widgets/controls",
            "_model_module_version": "1.5.0",
            "_model_name": "ProgressStyleModel",
            "_view_count": null,
            "_view_module": "@jupyter-widgets/base",
            "_view_module_version": "1.2.0",
            "_view_name": "StyleView",
            "bar_color": null,
            "description_width": ""
          }
        },
        "6f0ac43f2cec44ae97860586fff770f9": {
          "model_module": "@jupyter-widgets/base",
          "model_name": "LayoutModel",
          "model_module_version": "1.2.0",
          "state": {
            "_model_module": "@jupyter-widgets/base",
            "_model_module_version": "1.2.0",
            "_model_name": "LayoutModel",
            "_view_count": null,
            "_view_module": "@jupyter-widgets/base",
            "_view_module_version": "1.2.0",
            "_view_name": "LayoutView",
            "align_content": null,
            "align_items": null,
            "align_self": null,
            "border": null,
            "bottom": null,
            "display": null,
            "flex": null,
            "flex_flow": null,
            "grid_area": null,
            "grid_auto_columns": null,
            "grid_auto_flow": null,
            "grid_auto_rows": null,
            "grid_column": null,
            "grid_gap": null,
            "grid_row": null,
            "grid_template_areas": null,
            "grid_template_columns": null,
            "grid_template_rows": null,
            "height": null,
            "justify_content": null,
            "justify_items": null,
            "left": null,
            "margin": null,
            "max_height": null,
            "max_width": null,
            "min_height": null,
            "min_width": null,
            "object_fit": null,
            "object_position": null,
            "order": null,
            "overflow": null,
            "overflow_x": null,
            "overflow_y": null,
            "padding": null,
            "right": null,
            "top": null,
            "visibility": null,
            "width": null
          }
        },
        "92df3514d97b40548c3eb77e48fab991": {
          "model_module": "@jupyter-widgets/controls",
          "model_name": "DescriptionStyleModel",
          "model_module_version": "1.5.0",
          "state": {
            "_model_module": "@jupyter-widgets/controls",
            "_model_module_version": "1.5.0",
            "_model_name": "DescriptionStyleModel",
            "_view_count": null,
            "_view_module": "@jupyter-widgets/base",
            "_view_module_version": "1.2.0",
            "_view_name": "StyleView",
            "description_width": ""
          }
        },
        "7b47ad9b71464dffaf6737196f4c48b8": {
          "model_module": "@jupyter-widgets/controls",
          "model_name": "HBoxModel",
          "model_module_version": "1.5.0",
          "state": {
            "_dom_classes": [],
            "_model_module": "@jupyter-widgets/controls",
            "_model_module_version": "1.5.0",
            "_model_name": "HBoxModel",
            "_view_count": null,
            "_view_module": "@jupyter-widgets/controls",
            "_view_module_version": "1.5.0",
            "_view_name": "HBoxView",
            "box_style": "",
            "children": [
              "IPY_MODEL_a69cf53c7feb4e3988167f0154d5e219",
              "IPY_MODEL_648477987a7b4b0eac134ed51c19e58a",
              "IPY_MODEL_a2daec701ec34c0e932ea9af2d230086"
            ],
            "layout": "IPY_MODEL_d14cc6789c384ba1af3a43c80b6bc9b4"
          }
        },
        "a69cf53c7feb4e3988167f0154d5e219": {
          "model_module": "@jupyter-widgets/controls",
          "model_name": "HTMLModel",
          "model_module_version": "1.5.0",
          "state": {
            "_dom_classes": [],
            "_model_module": "@jupyter-widgets/controls",
            "_model_module_version": "1.5.0",
            "_model_name": "HTMLModel",
            "_view_count": null,
            "_view_module": "@jupyter-widgets/controls",
            "_view_module_version": "1.5.0",
            "_view_name": "HTMLView",
            "description": "",
            "description_tooltip": null,
            "layout": "IPY_MODEL_1a51823228054d11b34dba9b8e5c4273",
            "placeholder": "​",
            "style": "IPY_MODEL_11dae9ea71b24e8eb9ca00b313d1c472",
            "value": "README.md: 100%"
          }
        },
        "648477987a7b4b0eac134ed51c19e58a": {
          "model_module": "@jupyter-widgets/controls",
          "model_name": "FloatProgressModel",
          "model_module_version": "1.5.0",
          "state": {
            "_dom_classes": [],
            "_model_module": "@jupyter-widgets/controls",
            "_model_module_version": "1.5.0",
            "_model_name": "FloatProgressModel",
            "_view_count": null,
            "_view_module": "@jupyter-widgets/controls",
            "_view_module_version": "1.5.0",
            "_view_name": "ProgressView",
            "bar_style": "success",
            "description": "",
            "description_tooltip": null,
            "layout": "IPY_MODEL_5c12f8dd360c47b5a62f4e3283f43581",
            "max": 3246,
            "min": 0,
            "orientation": "horizontal",
            "style": "IPY_MODEL_b37f021664f649f09c1cbb5d02c708c8",
            "value": 3246
          }
        },
        "a2daec701ec34c0e932ea9af2d230086": {
          "model_module": "@jupyter-widgets/controls",
          "model_name": "HTMLModel",
          "model_module_version": "1.5.0",
          "state": {
            "_dom_classes": [],
            "_model_module": "@jupyter-widgets/controls",
            "_model_module_version": "1.5.0",
            "_model_name": "HTMLModel",
            "_view_count": null,
            "_view_module": "@jupyter-widgets/controls",
            "_view_module_version": "1.5.0",
            "_view_name": "HTMLView",
            "description": "",
            "description_tooltip": null,
            "layout": "IPY_MODEL_5c09db48d60946a49c883cb9fc4b82b4",
            "placeholder": "​",
            "style": "IPY_MODEL_f0b57e363962499698c5c0717a59cf0f",
            "value": " 3.25k/3.25k [00:00&lt;00:00, 72.4kB/s]"
          }
        },
        "d14cc6789c384ba1af3a43c80b6bc9b4": {
          "model_module": "@jupyter-widgets/base",
          "model_name": "LayoutModel",
          "model_module_version": "1.2.0",
          "state": {
            "_model_module": "@jupyter-widgets/base",
            "_model_module_version": "1.2.0",
            "_model_name": "LayoutModel",
            "_view_count": null,
            "_view_module": "@jupyter-widgets/base",
            "_view_module_version": "1.2.0",
            "_view_name": "LayoutView",
            "align_content": null,
            "align_items": null,
            "align_self": null,
            "border": null,
            "bottom": null,
            "display": null,
            "flex": null,
            "flex_flow": null,
            "grid_area": null,
            "grid_auto_columns": null,
            "grid_auto_flow": null,
            "grid_auto_rows": null,
            "grid_column": null,
            "grid_gap": null,
            "grid_row": null,
            "grid_template_areas": null,
            "grid_template_columns": null,
            "grid_template_rows": null,
            "height": null,
            "justify_content": null,
            "justify_items": null,
            "left": null,
            "margin": null,
            "max_height": null,
            "max_width": null,
            "min_height": null,
            "min_width": null,
            "object_fit": null,
            "object_position": null,
            "order": null,
            "overflow": null,
            "overflow_x": null,
            "overflow_y": null,
            "padding": null,
            "right": null,
            "top": null,
            "visibility": null,
            "width": null
          }
        },
        "1a51823228054d11b34dba9b8e5c4273": {
          "model_module": "@jupyter-widgets/base",
          "model_name": "LayoutModel",
          "model_module_version": "1.2.0",
          "state": {
            "_model_module": "@jupyter-widgets/base",
            "_model_module_version": "1.2.0",
            "_model_name": "LayoutModel",
            "_view_count": null,
            "_view_module": "@jupyter-widgets/base",
            "_view_module_version": "1.2.0",
            "_view_name": "LayoutView",
            "align_content": null,
            "align_items": null,
            "align_self": null,
            "border": null,
            "bottom": null,
            "display": null,
            "flex": null,
            "flex_flow": null,
            "grid_area": null,
            "grid_auto_columns": null,
            "grid_auto_flow": null,
            "grid_auto_rows": null,
            "grid_column": null,
            "grid_gap": null,
            "grid_row": null,
            "grid_template_areas": null,
            "grid_template_columns": null,
            "grid_template_rows": null,
            "height": null,
            "justify_content": null,
            "justify_items": null,
            "left": null,
            "margin": null,
            "max_height": null,
            "max_width": null,
            "min_height": null,
            "min_width": null,
            "object_fit": null,
            "object_position": null,
            "order": null,
            "overflow": null,
            "overflow_x": null,
            "overflow_y": null,
            "padding": null,
            "right": null,
            "top": null,
            "visibility": null,
            "width": null
          }
        },
        "11dae9ea71b24e8eb9ca00b313d1c472": {
          "model_module": "@jupyter-widgets/controls",
          "model_name": "DescriptionStyleModel",
          "model_module_version": "1.5.0",
          "state": {
            "_model_module": "@jupyter-widgets/controls",
            "_model_module_version": "1.5.0",
            "_model_name": "DescriptionStyleModel",
            "_view_count": null,
            "_view_module": "@jupyter-widgets/base",
            "_view_module_version": "1.2.0",
            "_view_name": "StyleView",
            "description_width": ""
          }
        },
        "5c12f8dd360c47b5a62f4e3283f43581": {
          "model_module": "@jupyter-widgets/base",
          "model_name": "LayoutModel",
          "model_module_version": "1.2.0",
          "state": {
            "_model_module": "@jupyter-widgets/base",
            "_model_module_version": "1.2.0",
            "_model_name": "LayoutModel",
            "_view_count": null,
            "_view_module": "@jupyter-widgets/base",
            "_view_module_version": "1.2.0",
            "_view_name": "LayoutView",
            "align_content": null,
            "align_items": null,
            "align_self": null,
            "border": null,
            "bottom": null,
            "display": null,
            "flex": null,
            "flex_flow": null,
            "grid_area": null,
            "grid_auto_columns": null,
            "grid_auto_flow": null,
            "grid_auto_rows": null,
            "grid_column": null,
            "grid_gap": null,
            "grid_row": null,
            "grid_template_areas": null,
            "grid_template_columns": null,
            "grid_template_rows": null,
            "height": null,
            "justify_content": null,
            "justify_items": null,
            "left": null,
            "margin": null,
            "max_height": null,
            "max_width": null,
            "min_height": null,
            "min_width": null,
            "object_fit": null,
            "object_position": null,
            "order": null,
            "overflow": null,
            "overflow_x": null,
            "overflow_y": null,
            "padding": null,
            "right": null,
            "top": null,
            "visibility": null,
            "width": null
          }
        },
        "b37f021664f649f09c1cbb5d02c708c8": {
          "model_module": "@jupyter-widgets/controls",
          "model_name": "ProgressStyleModel",
          "model_module_version": "1.5.0",
          "state": {
            "_model_module": "@jupyter-widgets/controls",
            "_model_module_version": "1.5.0",
            "_model_name": "ProgressStyleModel",
            "_view_count": null,
            "_view_module": "@jupyter-widgets/base",
            "_view_module_version": "1.2.0",
            "_view_name": "StyleView",
            "bar_color": null,
            "description_width": ""
          }
        },
        "5c09db48d60946a49c883cb9fc4b82b4": {
          "model_module": "@jupyter-widgets/base",
          "model_name": "LayoutModel",
          "model_module_version": "1.2.0",
          "state": {
            "_model_module": "@jupyter-widgets/base",
            "_model_module_version": "1.2.0",
            "_model_name": "LayoutModel",
            "_view_count": null,
            "_view_module": "@jupyter-widgets/base",
            "_view_module_version": "1.2.0",
            "_view_name": "LayoutView",
            "align_content": null,
            "align_items": null,
            "align_self": null,
            "border": null,
            "bottom": null,
            "display": null,
            "flex": null,
            "flex_flow": null,
            "grid_area": null,
            "grid_auto_columns": null,
            "grid_auto_flow": null,
            "grid_auto_rows": null,
            "grid_column": null,
            "grid_gap": null,
            "grid_row": null,
            "grid_template_areas": null,
            "grid_template_columns": null,
            "grid_template_rows": null,
            "height": null,
            "justify_content": null,
            "justify_items": null,
            "left": null,
            "margin": null,
            "max_height": null,
            "max_width": null,
            "min_height": null,
            "min_width": null,
            "object_fit": null,
            "object_position": null,
            "order": null,
            "overflow": null,
            "overflow_x": null,
            "overflow_y": null,
            "padding": null,
            "right": null,
            "top": null,
            "visibility": null,
            "width": null
          }
        },
        "f0b57e363962499698c5c0717a59cf0f": {
          "model_module": "@jupyter-widgets/controls",
          "model_name": "DescriptionStyleModel",
          "model_module_version": "1.5.0",
          "state": {
            "_model_module": "@jupyter-widgets/controls",
            "_model_module_version": "1.5.0",
            "_model_name": "DescriptionStyleModel",
            "_view_count": null,
            "_view_module": "@jupyter-widgets/base",
            "_view_module_version": "1.2.0",
            "_view_name": "StyleView",
            "description_width": ""
          }
        },
        "cbd7ba8ffb7d498f85e2a26dbf6e3095": {
          "model_module": "@jupyter-widgets/controls",
          "model_name": "HBoxModel",
          "model_module_version": "1.5.0",
          "state": {
            "_dom_classes": [],
            "_model_module": "@jupyter-widgets/controls",
            "_model_module_version": "1.5.0",
            "_model_name": "HBoxModel",
            "_view_count": null,
            "_view_module": "@jupyter-widgets/controls",
            "_view_module_version": "1.5.0",
            "_view_name": "HBoxView",
            "box_style": "",
            "children": [
              "IPY_MODEL_27b71237c3ab4ff5a1f2b77055a8dfa5",
              "IPY_MODEL_0921811d61254f59b66c014e338bf904",
              "IPY_MODEL_7cfe668c05f84fcbbeb938379aa2a1e3"
            ],
            "layout": "IPY_MODEL_162d5f744c9f4182836287c76f906be0"
          }
        },
        "27b71237c3ab4ff5a1f2b77055a8dfa5": {
          "model_module": "@jupyter-widgets/controls",
          "model_name": "HTMLModel",
          "model_module_version": "1.5.0",
          "state": {
            "_dom_classes": [],
            "_model_module": "@jupyter-widgets/controls",
            "_model_module_version": "1.5.0",
            "_model_name": "HTMLModel",
            "_view_count": null,
            "_view_module": "@jupyter-widgets/controls",
            "_view_module_version": "1.5.0",
            "_view_name": "HTMLView",
            "description": "",
            "description_tooltip": null,
            "layout": "IPY_MODEL_2e3a315d8e724529979ca0c8ab42dacc",
            "placeholder": "​",
            "style": "IPY_MODEL_9702180e764c4166bfbf55ba00a3c91e",
            "value": "PMC-Patients.csv: 100%"
          }
        },
        "0921811d61254f59b66c014e338bf904": {
          "model_module": "@jupyter-widgets/controls",
          "model_name": "FloatProgressModel",
          "model_module_version": "1.5.0",
          "state": {
            "_dom_classes": [],
            "_model_module": "@jupyter-widgets/controls",
            "_model_module_version": "1.5.0",
            "_model_name": "FloatProgressModel",
            "_view_count": null,
            "_view_module": "@jupyter-widgets/controls",
            "_view_module_version": "1.5.0",
            "_view_name": "ProgressView",
            "bar_style": "success",
            "description": "",
            "description_tooltip": null,
            "layout": "IPY_MODEL_74c9167556414c4385225ff5898f8842",
            "max": 544883095,
            "min": 0,
            "orientation": "horizontal",
            "style": "IPY_MODEL_6ea7b8d9c5eb4ec3a58026d6e950826f",
            "value": 544883095
          }
        },
        "7cfe668c05f84fcbbeb938379aa2a1e3": {
          "model_module": "@jupyter-widgets/controls",
          "model_name": "HTMLModel",
          "model_module_version": "1.5.0",
          "state": {
            "_dom_classes": [],
            "_model_module": "@jupyter-widgets/controls",
            "_model_module_version": "1.5.0",
            "_model_name": "HTMLModel",
            "_view_count": null,
            "_view_module": "@jupyter-widgets/controls",
            "_view_module_version": "1.5.0",
            "_view_name": "HTMLView",
            "description": "",
            "description_tooltip": null,
            "layout": "IPY_MODEL_4f4bb55bb066439e8d79bed879f36e80",
            "placeholder": "​",
            "style": "IPY_MODEL_c49b723709c54f03a38e28d22dc2bd0c",
            "value": " 545M/545M [00:03&lt;00:00, 159MB/s]"
          }
        },
        "162d5f744c9f4182836287c76f906be0": {
          "model_module": "@jupyter-widgets/base",
          "model_name": "LayoutModel",
          "model_module_version": "1.2.0",
          "state": {
            "_model_module": "@jupyter-widgets/base",
            "_model_module_version": "1.2.0",
            "_model_name": "LayoutModel",
            "_view_count": null,
            "_view_module": "@jupyter-widgets/base",
            "_view_module_version": "1.2.0",
            "_view_name": "LayoutView",
            "align_content": null,
            "align_items": null,
            "align_self": null,
            "border": null,
            "bottom": null,
            "display": null,
            "flex": null,
            "flex_flow": null,
            "grid_area": null,
            "grid_auto_columns": null,
            "grid_auto_flow": null,
            "grid_auto_rows": null,
            "grid_column": null,
            "grid_gap": null,
            "grid_row": null,
            "grid_template_areas": null,
            "grid_template_columns": null,
            "grid_template_rows": null,
            "height": null,
            "justify_content": null,
            "justify_items": null,
            "left": null,
            "margin": null,
            "max_height": null,
            "max_width": null,
            "min_height": null,
            "min_width": null,
            "object_fit": null,
            "object_position": null,
            "order": null,
            "overflow": null,
            "overflow_x": null,
            "overflow_y": null,
            "padding": null,
            "right": null,
            "top": null,
            "visibility": null,
            "width": null
          }
        },
        "2e3a315d8e724529979ca0c8ab42dacc": {
          "model_module": "@jupyter-widgets/base",
          "model_name": "LayoutModel",
          "model_module_version": "1.2.0",
          "state": {
            "_model_module": "@jupyter-widgets/base",
            "_model_module_version": "1.2.0",
            "_model_name": "LayoutModel",
            "_view_count": null,
            "_view_module": "@jupyter-widgets/base",
            "_view_module_version": "1.2.0",
            "_view_name": "LayoutView",
            "align_content": null,
            "align_items": null,
            "align_self": null,
            "border": null,
            "bottom": null,
            "display": null,
            "flex": null,
            "flex_flow": null,
            "grid_area": null,
            "grid_auto_columns": null,
            "grid_auto_flow": null,
            "grid_auto_rows": null,
            "grid_column": null,
            "grid_gap": null,
            "grid_row": null,
            "grid_template_areas": null,
            "grid_template_columns": null,
            "grid_template_rows": null,
            "height": null,
            "justify_content": null,
            "justify_items": null,
            "left": null,
            "margin": null,
            "max_height": null,
            "max_width": null,
            "min_height": null,
            "min_width": null,
            "object_fit": null,
            "object_position": null,
            "order": null,
            "overflow": null,
            "overflow_x": null,
            "overflow_y": null,
            "padding": null,
            "right": null,
            "top": null,
            "visibility": null,
            "width": null
          }
        },
        "9702180e764c4166bfbf55ba00a3c91e": {
          "model_module": "@jupyter-widgets/controls",
          "model_name": "DescriptionStyleModel",
          "model_module_version": "1.5.0",
          "state": {
            "_model_module": "@jupyter-widgets/controls",
            "_model_module_version": "1.5.0",
            "_model_name": "DescriptionStyleModel",
            "_view_count": null,
            "_view_module": "@jupyter-widgets/base",
            "_view_module_version": "1.2.0",
            "_view_name": "StyleView",
            "description_width": ""
          }
        },
        "74c9167556414c4385225ff5898f8842": {
          "model_module": "@jupyter-widgets/base",
          "model_name": "LayoutModel",
          "model_module_version": "1.2.0",
          "state": {
            "_model_module": "@jupyter-widgets/base",
            "_model_module_version": "1.2.0",
            "_model_name": "LayoutModel",
            "_view_count": null,
            "_view_module": "@jupyter-widgets/base",
            "_view_module_version": "1.2.0",
            "_view_name": "LayoutView",
            "align_content": null,
            "align_items": null,
            "align_self": null,
            "border": null,
            "bottom": null,
            "display": null,
            "flex": null,
            "flex_flow": null,
            "grid_area": null,
            "grid_auto_columns": null,
            "grid_auto_flow": null,
            "grid_auto_rows": null,
            "grid_column": null,
            "grid_gap": null,
            "grid_row": null,
            "grid_template_areas": null,
            "grid_template_columns": null,
            "grid_template_rows": null,
            "height": null,
            "justify_content": null,
            "justify_items": null,
            "left": null,
            "margin": null,
            "max_height": null,
            "max_width": null,
            "min_height": null,
            "min_width": null,
            "object_fit": null,
            "object_position": null,
            "order": null,
            "overflow": null,
            "overflow_x": null,
            "overflow_y": null,
            "padding": null,
            "right": null,
            "top": null,
            "visibility": null,
            "width": null
          }
        },
        "6ea7b8d9c5eb4ec3a58026d6e950826f": {
          "model_module": "@jupyter-widgets/controls",
          "model_name": "ProgressStyleModel",
          "model_module_version": "1.5.0",
          "state": {
            "_model_module": "@jupyter-widgets/controls",
            "_model_module_version": "1.5.0",
            "_model_name": "ProgressStyleModel",
            "_view_count": null,
            "_view_module": "@jupyter-widgets/base",
            "_view_module_version": "1.2.0",
            "_view_name": "StyleView",
            "bar_color": null,
            "description_width": ""
          }
        },
        "4f4bb55bb066439e8d79bed879f36e80": {
          "model_module": "@jupyter-widgets/base",
          "model_name": "LayoutModel",
          "model_module_version": "1.2.0",
          "state": {
            "_model_module": "@jupyter-widgets/base",
            "_model_module_version": "1.2.0",
            "_model_name": "LayoutModel",
            "_view_count": null,
            "_view_module": "@jupyter-widgets/base",
            "_view_module_version": "1.2.0",
            "_view_name": "LayoutView",
            "align_content": null,
            "align_items": null,
            "align_self": null,
            "border": null,
            "bottom": null,
            "display": null,
            "flex": null,
            "flex_flow": null,
            "grid_area": null,
            "grid_auto_columns": null,
            "grid_auto_flow": null,
            "grid_auto_rows": null,
            "grid_column": null,
            "grid_gap": null,
            "grid_row": null,
            "grid_template_areas": null,
            "grid_template_columns": null,
            "grid_template_rows": null,
            "height": null,
            "justify_content": null,
            "justify_items": null,
            "left": null,
            "margin": null,
            "max_height": null,
            "max_width": null,
            "min_height": null,
            "min_width": null,
            "object_fit": null,
            "object_position": null,
            "order": null,
            "overflow": null,
            "overflow_x": null,
            "overflow_y": null,
            "padding": null,
            "right": null,
            "top": null,
            "visibility": null,
            "width": null
          }
        },
        "c49b723709c54f03a38e28d22dc2bd0c": {
          "model_module": "@jupyter-widgets/controls",
          "model_name": "DescriptionStyleModel",
          "model_module_version": "1.5.0",
          "state": {
            "_model_module": "@jupyter-widgets/controls",
            "_model_module_version": "1.5.0",
            "_model_name": "DescriptionStyleModel",
            "_view_count": null,
            "_view_module": "@jupyter-widgets/base",
            "_view_module_version": "1.2.0",
            "_view_name": "StyleView",
            "description_width": ""
          }
        },
        "a4fbb97b15b6450a8abb84779c210a67": {
          "model_module": "@jupyter-widgets/controls",
          "model_name": "HBoxModel",
          "model_module_version": "1.5.0",
          "state": {
            "_dom_classes": [],
            "_model_module": "@jupyter-widgets/controls",
            "_model_module_version": "1.5.0",
            "_model_name": "HBoxModel",
            "_view_count": null,
            "_view_module": "@jupyter-widgets/controls",
            "_view_module_version": "1.5.0",
            "_view_name": "HBoxView",
            "box_style": "",
            "children": [
              "IPY_MODEL_a291122d925a4918940fab7a63a7de91",
              "IPY_MODEL_fac31ea3472b4f6f884831165fb87b3d",
              "IPY_MODEL_c8953305a79d4a62833c765aff6a8d32"
            ],
            "layout": "IPY_MODEL_da79c0e40b45476b89cdada014f26b88"
          }
        },
        "a291122d925a4918940fab7a63a7de91": {
          "model_module": "@jupyter-widgets/controls",
          "model_name": "HTMLModel",
          "model_module_version": "1.5.0",
          "state": {
            "_dom_classes": [],
            "_model_module": "@jupyter-widgets/controls",
            "_model_module_version": "1.5.0",
            "_model_name": "HTMLModel",
            "_view_count": null,
            "_view_module": "@jupyter-widgets/controls",
            "_view_module_version": "1.5.0",
            "_view_name": "HTMLView",
            "description": "",
            "description_tooltip": null,
            "layout": "IPY_MODEL_1be17528eb68498db55449a64ba919e2",
            "placeholder": "​",
            "style": "IPY_MODEL_ec9b22835cf44b4eac65379984fc7eda",
            "value": "Generating train split: 100%"
          }
        },
        "fac31ea3472b4f6f884831165fb87b3d": {
          "model_module": "@jupyter-widgets/controls",
          "model_name": "FloatProgressModel",
          "model_module_version": "1.5.0",
          "state": {
            "_dom_classes": [],
            "_model_module": "@jupyter-widgets/controls",
            "_model_module_version": "1.5.0",
            "_model_name": "FloatProgressModel",
            "_view_count": null,
            "_view_module": "@jupyter-widgets/controls",
            "_view_module_version": "1.5.0",
            "_view_name": "ProgressView",
            "bar_style": "success",
            "description": "",
            "description_tooltip": null,
            "layout": "IPY_MODEL_801994a8598d4aa6b37a14a0bd418b0f",
            "max": 167034,
            "min": 0,
            "orientation": "horizontal",
            "style": "IPY_MODEL_26992c3515fa4b6bad0cece083badc5d",
            "value": 167034
          }
        },
        "c8953305a79d4a62833c765aff6a8d32": {
          "model_module": "@jupyter-widgets/controls",
          "model_name": "HTMLModel",
          "model_module_version": "1.5.0",
          "state": {
            "_dom_classes": [],
            "_model_module": "@jupyter-widgets/controls",
            "_model_module_version": "1.5.0",
            "_model_name": "HTMLModel",
            "_view_count": null,
            "_view_module": "@jupyter-widgets/controls",
            "_view_module_version": "1.5.0",
            "_view_name": "HTMLView",
            "description": "",
            "description_tooltip": null,
            "layout": "IPY_MODEL_4f511011980f43e1a304531ba5624a58",
            "placeholder": "​",
            "style": "IPY_MODEL_f1253260331e4af4bb748ebd6adcbc72",
            "value": " 167034/167034 [00:12&lt;00:00, 18689.16 examples/s]"
          }
        },
        "da79c0e40b45476b89cdada014f26b88": {
          "model_module": "@jupyter-widgets/base",
          "model_name": "LayoutModel",
          "model_module_version": "1.2.0",
          "state": {
            "_model_module": "@jupyter-widgets/base",
            "_model_module_version": "1.2.0",
            "_model_name": "LayoutModel",
            "_view_count": null,
            "_view_module": "@jupyter-widgets/base",
            "_view_module_version": "1.2.0",
            "_view_name": "LayoutView",
            "align_content": null,
            "align_items": null,
            "align_self": null,
            "border": null,
            "bottom": null,
            "display": null,
            "flex": null,
            "flex_flow": null,
            "grid_area": null,
            "grid_auto_columns": null,
            "grid_auto_flow": null,
            "grid_auto_rows": null,
            "grid_column": null,
            "grid_gap": null,
            "grid_row": null,
            "grid_template_areas": null,
            "grid_template_columns": null,
            "grid_template_rows": null,
            "height": null,
            "justify_content": null,
            "justify_items": null,
            "left": null,
            "margin": null,
            "max_height": null,
            "max_width": null,
            "min_height": null,
            "min_width": null,
            "object_fit": null,
            "object_position": null,
            "order": null,
            "overflow": null,
            "overflow_x": null,
            "overflow_y": null,
            "padding": null,
            "right": null,
            "top": null,
            "visibility": null,
            "width": null
          }
        },
        "1be17528eb68498db55449a64ba919e2": {
          "model_module": "@jupyter-widgets/base",
          "model_name": "LayoutModel",
          "model_module_version": "1.2.0",
          "state": {
            "_model_module": "@jupyter-widgets/base",
            "_model_module_version": "1.2.0",
            "_model_name": "LayoutModel",
            "_view_count": null,
            "_view_module": "@jupyter-widgets/base",
            "_view_module_version": "1.2.0",
            "_view_name": "LayoutView",
            "align_content": null,
            "align_items": null,
            "align_self": null,
            "border": null,
            "bottom": null,
            "display": null,
            "flex": null,
            "flex_flow": null,
            "grid_area": null,
            "grid_auto_columns": null,
            "grid_auto_flow": null,
            "grid_auto_rows": null,
            "grid_column": null,
            "grid_gap": null,
            "grid_row": null,
            "grid_template_areas": null,
            "grid_template_columns": null,
            "grid_template_rows": null,
            "height": null,
            "justify_content": null,
            "justify_items": null,
            "left": null,
            "margin": null,
            "max_height": null,
            "max_width": null,
            "min_height": null,
            "min_width": null,
            "object_fit": null,
            "object_position": null,
            "order": null,
            "overflow": null,
            "overflow_x": null,
            "overflow_y": null,
            "padding": null,
            "right": null,
            "top": null,
            "visibility": null,
            "width": null
          }
        },
        "ec9b22835cf44b4eac65379984fc7eda": {
          "model_module": "@jupyter-widgets/controls",
          "model_name": "DescriptionStyleModel",
          "model_module_version": "1.5.0",
          "state": {
            "_model_module": "@jupyter-widgets/controls",
            "_model_module_version": "1.5.0",
            "_model_name": "DescriptionStyleModel",
            "_view_count": null,
            "_view_module": "@jupyter-widgets/base",
            "_view_module_version": "1.2.0",
            "_view_name": "StyleView",
            "description_width": ""
          }
        },
        "801994a8598d4aa6b37a14a0bd418b0f": {
          "model_module": "@jupyter-widgets/base",
          "model_name": "LayoutModel",
          "model_module_version": "1.2.0",
          "state": {
            "_model_module": "@jupyter-widgets/base",
            "_model_module_version": "1.2.0",
            "_model_name": "LayoutModel",
            "_view_count": null,
            "_view_module": "@jupyter-widgets/base",
            "_view_module_version": "1.2.0",
            "_view_name": "LayoutView",
            "align_content": null,
            "align_items": null,
            "align_self": null,
            "border": null,
            "bottom": null,
            "display": null,
            "flex": null,
            "flex_flow": null,
            "grid_area": null,
            "grid_auto_columns": null,
            "grid_auto_flow": null,
            "grid_auto_rows": null,
            "grid_column": null,
            "grid_gap": null,
            "grid_row": null,
            "grid_template_areas": null,
            "grid_template_columns": null,
            "grid_template_rows": null,
            "height": null,
            "justify_content": null,
            "justify_items": null,
            "left": null,
            "margin": null,
            "max_height": null,
            "max_width": null,
            "min_height": null,
            "min_width": null,
            "object_fit": null,
            "object_position": null,
            "order": null,
            "overflow": null,
            "overflow_x": null,
            "overflow_y": null,
            "padding": null,
            "right": null,
            "top": null,
            "visibility": null,
            "width": null
          }
        },
        "26992c3515fa4b6bad0cece083badc5d": {
          "model_module": "@jupyter-widgets/controls",
          "model_name": "ProgressStyleModel",
          "model_module_version": "1.5.0",
          "state": {
            "_model_module": "@jupyter-widgets/controls",
            "_model_module_version": "1.5.0",
            "_model_name": "ProgressStyleModel",
            "_view_count": null,
            "_view_module": "@jupyter-widgets/base",
            "_view_module_version": "1.2.0",
            "_view_name": "StyleView",
            "bar_color": null,
            "description_width": ""
          }
        },
        "4f511011980f43e1a304531ba5624a58": {
          "model_module": "@jupyter-widgets/base",
          "model_name": "LayoutModel",
          "model_module_version": "1.2.0",
          "state": {
            "_model_module": "@jupyter-widgets/base",
            "_model_module_version": "1.2.0",
            "_model_name": "LayoutModel",
            "_view_count": null,
            "_view_module": "@jupyter-widgets/base",
            "_view_module_version": "1.2.0",
            "_view_name": "LayoutView",
            "align_content": null,
            "align_items": null,
            "align_self": null,
            "border": null,
            "bottom": null,
            "display": null,
            "flex": null,
            "flex_flow": null,
            "grid_area": null,
            "grid_auto_columns": null,
            "grid_auto_flow": null,
            "grid_auto_rows": null,
            "grid_column": null,
            "grid_gap": null,
            "grid_row": null,
            "grid_template_areas": null,
            "grid_template_columns": null,
            "grid_template_rows": null,
            "height": null,
            "justify_content": null,
            "justify_items": null,
            "left": null,
            "margin": null,
            "max_height": null,
            "max_width": null,
            "min_height": null,
            "min_width": null,
            "object_fit": null,
            "object_position": null,
            "order": null,
            "overflow": null,
            "overflow_x": null,
            "overflow_y": null,
            "padding": null,
            "right": null,
            "top": null,
            "visibility": null,
            "width": null
          }
        },
        "f1253260331e4af4bb748ebd6adcbc72": {
          "model_module": "@jupyter-widgets/controls",
          "model_name": "DescriptionStyleModel",
          "model_module_version": "1.5.0",
          "state": {
            "_model_module": "@jupyter-widgets/controls",
            "_model_module_version": "1.5.0",
            "_model_name": "DescriptionStyleModel",
            "_view_count": null,
            "_view_module": "@jupyter-widgets/base",
            "_view_module_version": "1.2.0",
            "_view_name": "StyleView",
            "description_width": ""
          }
        }
      }
    }
  },
  "cells": [
    {
      "cell_type": "markdown",
      "metadata": {
        "id": "view-in-github",
        "colab_type": "text"
      },
      "source": [
        "<a href=\"https://colab.research.google.com/github/jared-ni/6.8610-project/blob/main/claude_pipeline.ipynb\" target=\"_parent\"><img src=\"https://colab.research.google.com/assets/colab-badge.svg\" alt=\"Open In Colab\"/></a>"
      ]
    },
    {
      "cell_type": "code",
      "source": [
        "!pip install datasets\n",
        "!pip install spacy\n",
        "!pip install scispacy\n",
        "!pip install https://s3-us-west-2.amazonaws.com/ai2-s2-scispacy/releases/v0.5.4/en_core_sci_sm-0.5.4.tar.gz\n",
        "!pip install googletrans==4.0.0-rc1\n",
        "!pip install deep-translator\n",
        "!pip install transformers\n",
        "!pip install torch"
      ],
      "metadata": {
        "colab": {
          "base_uri": "https://localhost:8080/"
        },
        "id": "RlKj99ZdKsNH",
        "outputId": "31c95b91-3188-4804-bb2b-5a2007c46df2"
      },
      "execution_count": 1,
      "outputs": [
        {
          "output_type": "stream",
          "name": "stdout",
          "text": [
            "Collecting datasets\n",
            "  Downloading datasets-3.1.0-py3-none-any.whl.metadata (20 kB)\n",
            "Requirement already satisfied: filelock in /usr/local/lib/python3.10/dist-packages (from datasets) (3.16.1)\n",
            "Requirement already satisfied: numpy>=1.17 in /usr/local/lib/python3.10/dist-packages (from datasets) (1.26.4)\n",
            "Requirement already satisfied: pyarrow>=15.0.0 in /usr/local/lib/python3.10/dist-packages (from datasets) (17.0.0)\n",
            "Collecting dill<0.3.9,>=0.3.0 (from datasets)\n",
            "  Downloading dill-0.3.8-py3-none-any.whl.metadata (10 kB)\n",
            "Requirement already satisfied: pandas in /usr/local/lib/python3.10/dist-packages (from datasets) (2.2.2)\n",
            "Requirement already satisfied: requests>=2.32.2 in /usr/local/lib/python3.10/dist-packages (from datasets) (2.32.3)\n",
            "Requirement already satisfied: tqdm>=4.66.3 in /usr/local/lib/python3.10/dist-packages (from datasets) (4.66.6)\n",
            "Collecting xxhash (from datasets)\n",
            "  Downloading xxhash-3.5.0-cp310-cp310-manylinux_2_17_x86_64.manylinux2014_x86_64.whl.metadata (12 kB)\n",
            "Collecting multiprocess<0.70.17 (from datasets)\n",
            "  Downloading multiprocess-0.70.16-py310-none-any.whl.metadata (7.2 kB)\n",
            "Collecting fsspec<=2024.9.0,>=2023.1.0 (from fsspec[http]<=2024.9.0,>=2023.1.0->datasets)\n",
            "  Downloading fsspec-2024.9.0-py3-none-any.whl.metadata (11 kB)\n",
            "Requirement already satisfied: aiohttp in /usr/local/lib/python3.10/dist-packages (from datasets) (3.11.9)\n",
            "Requirement already satisfied: huggingface-hub>=0.23.0 in /usr/local/lib/python3.10/dist-packages (from datasets) (0.26.3)\n",
            "Requirement already satisfied: packaging in /usr/local/lib/python3.10/dist-packages (from datasets) (24.2)\n",
            "Requirement already satisfied: pyyaml>=5.1 in /usr/local/lib/python3.10/dist-packages (from datasets) (6.0.2)\n",
            "Requirement already satisfied: aiohappyeyeballs>=2.3.0 in /usr/local/lib/python3.10/dist-packages (from aiohttp->datasets) (2.4.4)\n",
            "Requirement already satisfied: aiosignal>=1.1.2 in /usr/local/lib/python3.10/dist-packages (from aiohttp->datasets) (1.3.1)\n",
            "Requirement already satisfied: async-timeout<6.0,>=4.0 in /usr/local/lib/python3.10/dist-packages (from aiohttp->datasets) (4.0.3)\n",
            "Requirement already satisfied: attrs>=17.3.0 in /usr/local/lib/python3.10/dist-packages (from aiohttp->datasets) (24.2.0)\n",
            "Requirement already satisfied: frozenlist>=1.1.1 in /usr/local/lib/python3.10/dist-packages (from aiohttp->datasets) (1.5.0)\n",
            "Requirement already satisfied: multidict<7.0,>=4.5 in /usr/local/lib/python3.10/dist-packages (from aiohttp->datasets) (6.1.0)\n",
            "Requirement already satisfied: propcache>=0.2.0 in /usr/local/lib/python3.10/dist-packages (from aiohttp->datasets) (0.2.1)\n",
            "Requirement already satisfied: yarl<2.0,>=1.17.0 in /usr/local/lib/python3.10/dist-packages (from aiohttp->datasets) (1.18.3)\n",
            "Requirement already satisfied: typing-extensions>=3.7.4.3 in /usr/local/lib/python3.10/dist-packages (from huggingface-hub>=0.23.0->datasets) (4.12.2)\n",
            "Requirement already satisfied: charset-normalizer<4,>=2 in /usr/local/lib/python3.10/dist-packages (from requests>=2.32.2->datasets) (3.4.0)\n",
            "Requirement already satisfied: idna<4,>=2.5 in /usr/local/lib/python3.10/dist-packages (from requests>=2.32.2->datasets) (3.10)\n",
            "Requirement already satisfied: urllib3<3,>=1.21.1 in /usr/local/lib/python3.10/dist-packages (from requests>=2.32.2->datasets) (2.2.3)\n",
            "Requirement already satisfied: certifi>=2017.4.17 in /usr/local/lib/python3.10/dist-packages (from requests>=2.32.2->datasets) (2024.8.30)\n",
            "Requirement already satisfied: python-dateutil>=2.8.2 in /usr/local/lib/python3.10/dist-packages (from pandas->datasets) (2.8.2)\n",
            "Requirement already satisfied: pytz>=2020.1 in /usr/local/lib/python3.10/dist-packages (from pandas->datasets) (2024.2)\n",
            "Requirement already satisfied: tzdata>=2022.7 in /usr/local/lib/python3.10/dist-packages (from pandas->datasets) (2024.2)\n",
            "Requirement already satisfied: six>=1.5 in /usr/local/lib/python3.10/dist-packages (from python-dateutil>=2.8.2->pandas->datasets) (1.16.0)\n",
            "Downloading datasets-3.1.0-py3-none-any.whl (480 kB)\n",
            "\u001b[2K   \u001b[90m━━━━━━━━━━━━━━━━━━━━━━━━━━━━━━━━━━━━━━━━\u001b[0m \u001b[32m480.6/480.6 kB\u001b[0m \u001b[31m8.1 MB/s\u001b[0m eta \u001b[36m0:00:00\u001b[0m\n",
            "\u001b[?25hDownloading dill-0.3.8-py3-none-any.whl (116 kB)\n",
            "\u001b[2K   \u001b[90m━━━━━━━━━━━━━━━━━━━━━━━━━━━━━━━━━━━━━━━━\u001b[0m \u001b[32m116.3/116.3 kB\u001b[0m \u001b[31m9.0 MB/s\u001b[0m eta \u001b[36m0:00:00\u001b[0m\n",
            "\u001b[?25hDownloading fsspec-2024.9.0-py3-none-any.whl (179 kB)\n",
            "\u001b[2K   \u001b[90m━━━━━━━━━━━━━━━━━━━━━━━━━━━━━━━━━━━━━━━━\u001b[0m \u001b[32m179.3/179.3 kB\u001b[0m \u001b[31m13.5 MB/s\u001b[0m eta \u001b[36m0:00:00\u001b[0m\n",
            "\u001b[?25hDownloading multiprocess-0.70.16-py310-none-any.whl (134 kB)\n",
            "\u001b[2K   \u001b[90m━━━━━━━━━━━━━━━━━━━━━━━━━━━━━━━━━━━━━━━━\u001b[0m \u001b[32m134.8/134.8 kB\u001b[0m \u001b[31m9.4 MB/s\u001b[0m eta \u001b[36m0:00:00\u001b[0m\n",
            "\u001b[?25hDownloading xxhash-3.5.0-cp310-cp310-manylinux_2_17_x86_64.manylinux2014_x86_64.whl (194 kB)\n",
            "\u001b[2K   \u001b[90m━━━━━━━━━━━━━━━━━━━━━━━━━━━━━━━━━━━━━━━━\u001b[0m \u001b[32m194.1/194.1 kB\u001b[0m \u001b[31m13.2 MB/s\u001b[0m eta \u001b[36m0:00:00\u001b[0m\n",
            "\u001b[?25hInstalling collected packages: xxhash, fsspec, dill, multiprocess, datasets\n",
            "  Attempting uninstall: fsspec\n",
            "    Found existing installation: fsspec 2024.10.0\n",
            "    Uninstalling fsspec-2024.10.0:\n",
            "      Successfully uninstalled fsspec-2024.10.0\n",
            "\u001b[31mERROR: pip's dependency resolver does not currently take into account all the packages that are installed. This behaviour is the source of the following dependency conflicts.\n",
            "gcsfs 2024.10.0 requires fsspec==2024.10.0, but you have fsspec 2024.9.0 which is incompatible.\u001b[0m\u001b[31m\n",
            "\u001b[0mSuccessfully installed datasets-3.1.0 dill-0.3.8 fsspec-2024.9.0 multiprocess-0.70.16 xxhash-3.5.0\n",
            "Requirement already satisfied: spacy in /usr/local/lib/python3.10/dist-packages (3.7.5)\n",
            "Requirement already satisfied: spacy-legacy<3.1.0,>=3.0.11 in /usr/local/lib/python3.10/dist-packages (from spacy) (3.0.12)\n",
            "Requirement already satisfied: spacy-loggers<2.0.0,>=1.0.0 in /usr/local/lib/python3.10/dist-packages (from spacy) (1.0.5)\n",
            "Requirement already satisfied: murmurhash<1.1.0,>=0.28.0 in /usr/local/lib/python3.10/dist-packages (from spacy) (1.0.11)\n",
            "Requirement already satisfied: cymem<2.1.0,>=2.0.2 in /usr/local/lib/python3.10/dist-packages (from spacy) (2.0.10)\n",
            "Requirement already satisfied: preshed<3.1.0,>=3.0.2 in /usr/local/lib/python3.10/dist-packages (from spacy) (3.0.9)\n",
            "Requirement already satisfied: thinc<8.3.0,>=8.2.2 in /usr/local/lib/python3.10/dist-packages (from spacy) (8.2.5)\n",
            "Requirement already satisfied: wasabi<1.2.0,>=0.9.1 in /usr/local/lib/python3.10/dist-packages (from spacy) (1.1.3)\n",
            "Requirement already satisfied: srsly<3.0.0,>=2.4.3 in /usr/local/lib/python3.10/dist-packages (from spacy) (2.4.8)\n",
            "Requirement already satisfied: catalogue<2.1.0,>=2.0.6 in /usr/local/lib/python3.10/dist-packages (from spacy) (2.0.10)\n",
            "Requirement already satisfied: weasel<0.5.0,>=0.1.0 in /usr/local/lib/python3.10/dist-packages (from spacy) (0.4.1)\n",
            "Requirement already satisfied: typer<1.0.0,>=0.3.0 in /usr/local/lib/python3.10/dist-packages (from spacy) (0.15.0)\n",
            "Requirement already satisfied: tqdm<5.0.0,>=4.38.0 in /usr/local/lib/python3.10/dist-packages (from spacy) (4.66.6)\n",
            "Requirement already satisfied: requests<3.0.0,>=2.13.0 in /usr/local/lib/python3.10/dist-packages (from spacy) (2.32.3)\n",
            "Requirement already satisfied: pydantic!=1.8,!=1.8.1,<3.0.0,>=1.7.4 in /usr/local/lib/python3.10/dist-packages (from spacy) (2.10.3)\n",
            "Requirement already satisfied: jinja2 in /usr/local/lib/python3.10/dist-packages (from spacy) (3.1.4)\n",
            "Requirement already satisfied: setuptools in /usr/local/lib/python3.10/dist-packages (from spacy) (75.1.0)\n",
            "Requirement already satisfied: packaging>=20.0 in /usr/local/lib/python3.10/dist-packages (from spacy) (24.2)\n",
            "Requirement already satisfied: langcodes<4.0.0,>=3.2.0 in /usr/local/lib/python3.10/dist-packages (from spacy) (3.5.0)\n",
            "Requirement already satisfied: numpy>=1.19.0 in /usr/local/lib/python3.10/dist-packages (from spacy) (1.26.4)\n",
            "Requirement already satisfied: language-data>=1.2 in /usr/local/lib/python3.10/dist-packages (from langcodes<4.0.0,>=3.2.0->spacy) (1.3.0)\n",
            "Requirement already satisfied: annotated-types>=0.6.0 in /usr/local/lib/python3.10/dist-packages (from pydantic!=1.8,!=1.8.1,<3.0.0,>=1.7.4->spacy) (0.7.0)\n",
            "Requirement already satisfied: pydantic-core==2.27.1 in /usr/local/lib/python3.10/dist-packages (from pydantic!=1.8,!=1.8.1,<3.0.0,>=1.7.4->spacy) (2.27.1)\n",
            "Requirement already satisfied: typing-extensions>=4.12.2 in /usr/local/lib/python3.10/dist-packages (from pydantic!=1.8,!=1.8.1,<3.0.0,>=1.7.4->spacy) (4.12.2)\n",
            "Requirement already satisfied: charset-normalizer<4,>=2 in /usr/local/lib/python3.10/dist-packages (from requests<3.0.0,>=2.13.0->spacy) (3.4.0)\n",
            "Requirement already satisfied: idna<4,>=2.5 in /usr/local/lib/python3.10/dist-packages (from requests<3.0.0,>=2.13.0->spacy) (3.10)\n",
            "Requirement already satisfied: urllib3<3,>=1.21.1 in /usr/local/lib/python3.10/dist-packages (from requests<3.0.0,>=2.13.0->spacy) (2.2.3)\n",
            "Requirement already satisfied: certifi>=2017.4.17 in /usr/local/lib/python3.10/dist-packages (from requests<3.0.0,>=2.13.0->spacy) (2024.8.30)\n",
            "Requirement already satisfied: blis<0.8.0,>=0.7.8 in /usr/local/lib/python3.10/dist-packages (from thinc<8.3.0,>=8.2.2->spacy) (0.7.11)\n",
            "Requirement already satisfied: confection<1.0.0,>=0.0.1 in /usr/local/lib/python3.10/dist-packages (from thinc<8.3.0,>=8.2.2->spacy) (0.1.5)\n",
            "Requirement already satisfied: click>=8.0.0 in /usr/local/lib/python3.10/dist-packages (from typer<1.0.0,>=0.3.0->spacy) (8.1.7)\n",
            "Requirement already satisfied: shellingham>=1.3.0 in /usr/local/lib/python3.10/dist-packages (from typer<1.0.0,>=0.3.0->spacy) (1.5.4)\n",
            "Requirement already satisfied: rich>=10.11.0 in /usr/local/lib/python3.10/dist-packages (from typer<1.0.0,>=0.3.0->spacy) (13.9.4)\n",
            "Requirement already satisfied: cloudpathlib<1.0.0,>=0.7.0 in /usr/local/lib/python3.10/dist-packages (from weasel<0.5.0,>=0.1.0->spacy) (0.20.0)\n",
            "Requirement already satisfied: smart-open<8.0.0,>=5.2.1 in /usr/local/lib/python3.10/dist-packages (from weasel<0.5.0,>=0.1.0->spacy) (7.0.5)\n",
            "Requirement already satisfied: MarkupSafe>=2.0 in /usr/local/lib/python3.10/dist-packages (from jinja2->spacy) (3.0.2)\n",
            "Requirement already satisfied: marisa-trie>=1.1.0 in /usr/local/lib/python3.10/dist-packages (from language-data>=1.2->langcodes<4.0.0,>=3.2.0->spacy) (1.2.1)\n",
            "Requirement already satisfied: markdown-it-py>=2.2.0 in /usr/local/lib/python3.10/dist-packages (from rich>=10.11.0->typer<1.0.0,>=0.3.0->spacy) (3.0.0)\n",
            "Requirement already satisfied: pygments<3.0.0,>=2.13.0 in /usr/local/lib/python3.10/dist-packages (from rich>=10.11.0->typer<1.0.0,>=0.3.0->spacy) (2.18.0)\n",
            "Requirement already satisfied: wrapt in /usr/local/lib/python3.10/dist-packages (from smart-open<8.0.0,>=5.2.1->weasel<0.5.0,>=0.1.0->spacy) (1.17.0)\n",
            "Requirement already satisfied: mdurl~=0.1 in /usr/local/lib/python3.10/dist-packages (from markdown-it-py>=2.2.0->rich>=10.11.0->typer<1.0.0,>=0.3.0->spacy) (0.1.2)\n",
            "Collecting scispacy\n",
            "  Downloading scispacy-0.5.5-py3-none-any.whl.metadata (18 kB)\n",
            "Requirement already satisfied: spacy<3.8.0,>=3.7.0 in /usr/local/lib/python3.10/dist-packages (from scispacy) (3.7.5)\n",
            "Requirement already satisfied: scipy in /usr/local/lib/python3.10/dist-packages (from scispacy) (1.13.1)\n",
            "Requirement already satisfied: requests<3.0.0,>=2.0.0 in /usr/local/lib/python3.10/dist-packages (from scispacy) (2.32.3)\n",
            "Collecting conllu (from scispacy)\n",
            "  Downloading conllu-6.0.0-py3-none-any.whl.metadata (21 kB)\n",
            "Requirement already satisfied: numpy in /usr/local/lib/python3.10/dist-packages (from scispacy) (1.26.4)\n",
            "Requirement already satisfied: joblib in /usr/local/lib/python3.10/dist-packages (from scispacy) (1.4.2)\n",
            "Requirement already satisfied: scikit-learn>=0.20.3 in /usr/local/lib/python3.10/dist-packages (from scispacy) (1.5.2)\n",
            "Collecting pysbd (from scispacy)\n",
            "  Downloading pysbd-0.3.4-py3-none-any.whl.metadata (6.1 kB)\n",
            "Collecting nmslib>=1.7.3.6 (from scispacy)\n",
            "  Downloading nmslib-2.1.1.tar.gz (188 kB)\n",
            "\u001b[2K     \u001b[90m━━━━━━━━━━━━━━━━━━━━━━━━━━━━━━━━━━━━━━━━\u001b[0m \u001b[32m188.7/188.7 kB\u001b[0m \u001b[31m5.0 MB/s\u001b[0m eta \u001b[36m0:00:00\u001b[0m\n",
            "\u001b[?25h  Preparing metadata (setup.py) ... \u001b[?25l\u001b[?25hdone\n",
            "Collecting pybind11<2.6.2 (from nmslib>=1.7.3.6->scispacy)\n",
            "  Using cached pybind11-2.6.1-py2.py3-none-any.whl.metadata (8.7 kB)\n",
            "Requirement already satisfied: psutil in /usr/local/lib/python3.10/dist-packages (from nmslib>=1.7.3.6->scispacy) (5.9.5)\n",
            "Requirement already satisfied: charset-normalizer<4,>=2 in /usr/local/lib/python3.10/dist-packages (from requests<3.0.0,>=2.0.0->scispacy) (3.4.0)\n",
            "Requirement already satisfied: idna<4,>=2.5 in /usr/local/lib/python3.10/dist-packages (from requests<3.0.0,>=2.0.0->scispacy) (3.10)\n",
            "Requirement already satisfied: urllib3<3,>=1.21.1 in /usr/local/lib/python3.10/dist-packages (from requests<3.0.0,>=2.0.0->scispacy) (2.2.3)\n",
            "Requirement already satisfied: certifi>=2017.4.17 in /usr/local/lib/python3.10/dist-packages (from requests<3.0.0,>=2.0.0->scispacy) (2024.8.30)\n",
            "Requirement already satisfied: threadpoolctl>=3.1.0 in /usr/local/lib/python3.10/dist-packages (from scikit-learn>=0.20.3->scispacy) (3.5.0)\n",
            "Requirement already satisfied: spacy-legacy<3.1.0,>=3.0.11 in /usr/local/lib/python3.10/dist-packages (from spacy<3.8.0,>=3.7.0->scispacy) (3.0.12)\n",
            "Requirement already satisfied: spacy-loggers<2.0.0,>=1.0.0 in /usr/local/lib/python3.10/dist-packages (from spacy<3.8.0,>=3.7.0->scispacy) (1.0.5)\n",
            "Requirement already satisfied: murmurhash<1.1.0,>=0.28.0 in /usr/local/lib/python3.10/dist-packages (from spacy<3.8.0,>=3.7.0->scispacy) (1.0.11)\n",
            "Requirement already satisfied: cymem<2.1.0,>=2.0.2 in /usr/local/lib/python3.10/dist-packages (from spacy<3.8.0,>=3.7.0->scispacy) (2.0.10)\n",
            "Requirement already satisfied: preshed<3.1.0,>=3.0.2 in /usr/local/lib/python3.10/dist-packages (from spacy<3.8.0,>=3.7.0->scispacy) (3.0.9)\n",
            "Requirement already satisfied: thinc<8.3.0,>=8.2.2 in /usr/local/lib/python3.10/dist-packages (from spacy<3.8.0,>=3.7.0->scispacy) (8.2.5)\n",
            "Requirement already satisfied: wasabi<1.2.0,>=0.9.1 in /usr/local/lib/python3.10/dist-packages (from spacy<3.8.0,>=3.7.0->scispacy) (1.1.3)\n",
            "Requirement already satisfied: srsly<3.0.0,>=2.4.3 in /usr/local/lib/python3.10/dist-packages (from spacy<3.8.0,>=3.7.0->scispacy) (2.4.8)\n",
            "Requirement already satisfied: catalogue<2.1.0,>=2.0.6 in /usr/local/lib/python3.10/dist-packages (from spacy<3.8.0,>=3.7.0->scispacy) (2.0.10)\n",
            "Requirement already satisfied: weasel<0.5.0,>=0.1.0 in /usr/local/lib/python3.10/dist-packages (from spacy<3.8.0,>=3.7.0->scispacy) (0.4.1)\n",
            "Requirement already satisfied: typer<1.0.0,>=0.3.0 in /usr/local/lib/python3.10/dist-packages (from spacy<3.8.0,>=3.7.0->scispacy) (0.15.0)\n",
            "Requirement already satisfied: tqdm<5.0.0,>=4.38.0 in /usr/local/lib/python3.10/dist-packages (from spacy<3.8.0,>=3.7.0->scispacy) (4.66.6)\n",
            "Requirement already satisfied: pydantic!=1.8,!=1.8.1,<3.0.0,>=1.7.4 in /usr/local/lib/python3.10/dist-packages (from spacy<3.8.0,>=3.7.0->scispacy) (2.10.3)\n",
            "Requirement already satisfied: jinja2 in /usr/local/lib/python3.10/dist-packages (from spacy<3.8.0,>=3.7.0->scispacy) (3.1.4)\n",
            "Requirement already satisfied: setuptools in /usr/local/lib/python3.10/dist-packages (from spacy<3.8.0,>=3.7.0->scispacy) (75.1.0)\n",
            "Requirement already satisfied: packaging>=20.0 in /usr/local/lib/python3.10/dist-packages (from spacy<3.8.0,>=3.7.0->scispacy) (24.2)\n",
            "Requirement already satisfied: langcodes<4.0.0,>=3.2.0 in /usr/local/lib/python3.10/dist-packages (from spacy<3.8.0,>=3.7.0->scispacy) (3.5.0)\n",
            "Requirement already satisfied: language-data>=1.2 in /usr/local/lib/python3.10/dist-packages (from langcodes<4.0.0,>=3.2.0->spacy<3.8.0,>=3.7.0->scispacy) (1.3.0)\n",
            "Requirement already satisfied: annotated-types>=0.6.0 in /usr/local/lib/python3.10/dist-packages (from pydantic!=1.8,!=1.8.1,<3.0.0,>=1.7.4->spacy<3.8.0,>=3.7.0->scispacy) (0.7.0)\n",
            "Requirement already satisfied: pydantic-core==2.27.1 in /usr/local/lib/python3.10/dist-packages (from pydantic!=1.8,!=1.8.1,<3.0.0,>=1.7.4->spacy<3.8.0,>=3.7.0->scispacy) (2.27.1)\n",
            "Requirement already satisfied: typing-extensions>=4.12.2 in /usr/local/lib/python3.10/dist-packages (from pydantic!=1.8,!=1.8.1,<3.0.0,>=1.7.4->spacy<3.8.0,>=3.7.0->scispacy) (4.12.2)\n",
            "Requirement already satisfied: blis<0.8.0,>=0.7.8 in /usr/local/lib/python3.10/dist-packages (from thinc<8.3.0,>=8.2.2->spacy<3.8.0,>=3.7.0->scispacy) (0.7.11)\n",
            "Requirement already satisfied: confection<1.0.0,>=0.0.1 in /usr/local/lib/python3.10/dist-packages (from thinc<8.3.0,>=8.2.2->spacy<3.8.0,>=3.7.0->scispacy) (0.1.5)\n",
            "Requirement already satisfied: click>=8.0.0 in /usr/local/lib/python3.10/dist-packages (from typer<1.0.0,>=0.3.0->spacy<3.8.0,>=3.7.0->scispacy) (8.1.7)\n",
            "Requirement already satisfied: shellingham>=1.3.0 in /usr/local/lib/python3.10/dist-packages (from typer<1.0.0,>=0.3.0->spacy<3.8.0,>=3.7.0->scispacy) (1.5.4)\n",
            "Requirement already satisfied: rich>=10.11.0 in /usr/local/lib/python3.10/dist-packages (from typer<1.0.0,>=0.3.0->spacy<3.8.0,>=3.7.0->scispacy) (13.9.4)\n",
            "Requirement already satisfied: cloudpathlib<1.0.0,>=0.7.0 in /usr/local/lib/python3.10/dist-packages (from weasel<0.5.0,>=0.1.0->spacy<3.8.0,>=3.7.0->scispacy) (0.20.0)\n",
            "Requirement already satisfied: smart-open<8.0.0,>=5.2.1 in /usr/local/lib/python3.10/dist-packages (from weasel<0.5.0,>=0.1.0->spacy<3.8.0,>=3.7.0->scispacy) (7.0.5)\n",
            "Requirement already satisfied: MarkupSafe>=2.0 in /usr/local/lib/python3.10/dist-packages (from jinja2->spacy<3.8.0,>=3.7.0->scispacy) (3.0.2)\n",
            "Requirement already satisfied: marisa-trie>=1.1.0 in /usr/local/lib/python3.10/dist-packages (from language-data>=1.2->langcodes<4.0.0,>=3.2.0->spacy<3.8.0,>=3.7.0->scispacy) (1.2.1)\n",
            "Requirement already satisfied: markdown-it-py>=2.2.0 in /usr/local/lib/python3.10/dist-packages (from rich>=10.11.0->typer<1.0.0,>=0.3.0->spacy<3.8.0,>=3.7.0->scispacy) (3.0.0)\n",
            "Requirement already satisfied: pygments<3.0.0,>=2.13.0 in /usr/local/lib/python3.10/dist-packages (from rich>=10.11.0->typer<1.0.0,>=0.3.0->spacy<3.8.0,>=3.7.0->scispacy) (2.18.0)\n",
            "Requirement already satisfied: wrapt in /usr/local/lib/python3.10/dist-packages (from smart-open<8.0.0,>=5.2.1->weasel<0.5.0,>=0.1.0->spacy<3.8.0,>=3.7.0->scispacy) (1.17.0)\n",
            "Requirement already satisfied: mdurl~=0.1 in /usr/local/lib/python3.10/dist-packages (from markdown-it-py>=2.2.0->rich>=10.11.0->typer<1.0.0,>=0.3.0->spacy<3.8.0,>=3.7.0->scispacy) (0.1.2)\n",
            "Downloading scispacy-0.5.5-py3-none-any.whl (46 kB)\n",
            "\u001b[2K   \u001b[90m━━━━━━━━━━━━━━━━━━━━━━━━━━━━━━━━━━━━━━━━\u001b[0m \u001b[32m46.2/46.2 kB\u001b[0m \u001b[31m3.6 MB/s\u001b[0m eta \u001b[36m0:00:00\u001b[0m\n",
            "\u001b[?25hDownloading conllu-6.0.0-py3-none-any.whl (16 kB)\n",
            "Downloading pysbd-0.3.4-py3-none-any.whl (71 kB)\n",
            "\u001b[2K   \u001b[90m━━━━━━━━━━━━━━━━━━━━━━━━━━━━━━━━━━━━━━━━\u001b[0m \u001b[32m71.1/71.1 kB\u001b[0m \u001b[31m5.1 MB/s\u001b[0m eta \u001b[36m0:00:00\u001b[0m\n",
            "\u001b[?25hUsing cached pybind11-2.6.1-py2.py3-none-any.whl (188 kB)\n",
            "Building wheels for collected packages: nmslib\n",
            "  Building wheel for nmslib (setup.py) ... \u001b[?25l\u001b[?25hdone\n",
            "  Created wheel for nmslib: filename=nmslib-2.1.1-cp310-cp310-linux_x86_64.whl size=13578642 sha256=e79e10d94ab451a6a5dd2eee1b8f9cb6910f88f8aee2721af0929e71ed5419a1\n",
            "  Stored in directory: /root/.cache/pip/wheels/21/1a/5d/4cc754a5b1a88405cad184b76f823897a63a8d19afcd4b9314\n",
            "Successfully built nmslib\n",
            "Installing collected packages: pysbd, pybind11, conllu, nmslib, scispacy\n",
            "Successfully installed conllu-6.0.0 nmslib-2.1.1 pybind11-2.6.1 pysbd-0.3.4 scispacy-0.5.5\n",
            "Collecting https://s3-us-west-2.amazonaws.com/ai2-s2-scispacy/releases/v0.5.4/en_core_sci_sm-0.5.4.tar.gz\n",
            "  Downloading https://s3-us-west-2.amazonaws.com/ai2-s2-scispacy/releases/v0.5.4/en_core_sci_sm-0.5.4.tar.gz (14.8 MB)\n",
            "\u001b[2K     \u001b[90m━━━━━━━━━━━━━━━━━━━━━━━━━━━━━━━━━━━━━━━━\u001b[0m \u001b[32m14.8/14.8 MB\u001b[0m \u001b[31m20.7 MB/s\u001b[0m eta \u001b[36m0:00:00\u001b[0m\n",
            "\u001b[?25h  Preparing metadata (setup.py) ... \u001b[?25l\u001b[?25hdone\n",
            "Requirement already satisfied: spacy<3.8.0,>=3.7.4 in /usr/local/lib/python3.10/dist-packages (from en_core_sci_sm==0.5.4) (3.7.5)\n",
            "Requirement already satisfied: spacy-legacy<3.1.0,>=3.0.11 in /usr/local/lib/python3.10/dist-packages (from spacy<3.8.0,>=3.7.4->en_core_sci_sm==0.5.4) (3.0.12)\n",
            "Requirement already satisfied: spacy-loggers<2.0.0,>=1.0.0 in /usr/local/lib/python3.10/dist-packages (from spacy<3.8.0,>=3.7.4->en_core_sci_sm==0.5.4) (1.0.5)\n",
            "Requirement already satisfied: murmurhash<1.1.0,>=0.28.0 in /usr/local/lib/python3.10/dist-packages (from spacy<3.8.0,>=3.7.4->en_core_sci_sm==0.5.4) (1.0.11)\n",
            "Requirement already satisfied: cymem<2.1.0,>=2.0.2 in /usr/local/lib/python3.10/dist-packages (from spacy<3.8.0,>=3.7.4->en_core_sci_sm==0.5.4) (2.0.10)\n",
            "Requirement already satisfied: preshed<3.1.0,>=3.0.2 in /usr/local/lib/python3.10/dist-packages (from spacy<3.8.0,>=3.7.4->en_core_sci_sm==0.5.4) (3.0.9)\n",
            "Requirement already satisfied: thinc<8.3.0,>=8.2.2 in /usr/local/lib/python3.10/dist-packages (from spacy<3.8.0,>=3.7.4->en_core_sci_sm==0.5.4) (8.2.5)\n",
            "Requirement already satisfied: wasabi<1.2.0,>=0.9.1 in /usr/local/lib/python3.10/dist-packages (from spacy<3.8.0,>=3.7.4->en_core_sci_sm==0.5.4) (1.1.3)\n",
            "Requirement already satisfied: srsly<3.0.0,>=2.4.3 in /usr/local/lib/python3.10/dist-packages (from spacy<3.8.0,>=3.7.4->en_core_sci_sm==0.5.4) (2.4.8)\n",
            "Requirement already satisfied: catalogue<2.1.0,>=2.0.6 in /usr/local/lib/python3.10/dist-packages (from spacy<3.8.0,>=3.7.4->en_core_sci_sm==0.5.4) (2.0.10)\n",
            "Requirement already satisfied: weasel<0.5.0,>=0.1.0 in /usr/local/lib/python3.10/dist-packages (from spacy<3.8.0,>=3.7.4->en_core_sci_sm==0.5.4) (0.4.1)\n",
            "Requirement already satisfied: typer<1.0.0,>=0.3.0 in /usr/local/lib/python3.10/dist-packages (from spacy<3.8.0,>=3.7.4->en_core_sci_sm==0.5.4) (0.15.0)\n",
            "Requirement already satisfied: tqdm<5.0.0,>=4.38.0 in /usr/local/lib/python3.10/dist-packages (from spacy<3.8.0,>=3.7.4->en_core_sci_sm==0.5.4) (4.66.6)\n",
            "Requirement already satisfied: requests<3.0.0,>=2.13.0 in /usr/local/lib/python3.10/dist-packages (from spacy<3.8.0,>=3.7.4->en_core_sci_sm==0.5.4) (2.32.3)\n",
            "Requirement already satisfied: pydantic!=1.8,!=1.8.1,<3.0.0,>=1.7.4 in /usr/local/lib/python3.10/dist-packages (from spacy<3.8.0,>=3.7.4->en_core_sci_sm==0.5.4) (2.10.3)\n",
            "Requirement already satisfied: jinja2 in /usr/local/lib/python3.10/dist-packages (from spacy<3.8.0,>=3.7.4->en_core_sci_sm==0.5.4) (3.1.4)\n",
            "Requirement already satisfied: setuptools in /usr/local/lib/python3.10/dist-packages (from spacy<3.8.0,>=3.7.4->en_core_sci_sm==0.5.4) (75.1.0)\n",
            "Requirement already satisfied: packaging>=20.0 in /usr/local/lib/python3.10/dist-packages (from spacy<3.8.0,>=3.7.4->en_core_sci_sm==0.5.4) (24.2)\n",
            "Requirement already satisfied: langcodes<4.0.0,>=3.2.0 in /usr/local/lib/python3.10/dist-packages (from spacy<3.8.0,>=3.7.4->en_core_sci_sm==0.5.4) (3.5.0)\n",
            "Requirement already satisfied: numpy>=1.19.0 in /usr/local/lib/python3.10/dist-packages (from spacy<3.8.0,>=3.7.4->en_core_sci_sm==0.5.4) (1.26.4)\n",
            "Requirement already satisfied: language-data>=1.2 in /usr/local/lib/python3.10/dist-packages (from langcodes<4.0.0,>=3.2.0->spacy<3.8.0,>=3.7.4->en_core_sci_sm==0.5.4) (1.3.0)\n",
            "Requirement already satisfied: annotated-types>=0.6.0 in /usr/local/lib/python3.10/dist-packages (from pydantic!=1.8,!=1.8.1,<3.0.0,>=1.7.4->spacy<3.8.0,>=3.7.4->en_core_sci_sm==0.5.4) (0.7.0)\n",
            "Requirement already satisfied: pydantic-core==2.27.1 in /usr/local/lib/python3.10/dist-packages (from pydantic!=1.8,!=1.8.1,<3.0.0,>=1.7.4->spacy<3.8.0,>=3.7.4->en_core_sci_sm==0.5.4) (2.27.1)\n",
            "Requirement already satisfied: typing-extensions>=4.12.2 in /usr/local/lib/python3.10/dist-packages (from pydantic!=1.8,!=1.8.1,<3.0.0,>=1.7.4->spacy<3.8.0,>=3.7.4->en_core_sci_sm==0.5.4) (4.12.2)\n",
            "Requirement already satisfied: charset-normalizer<4,>=2 in /usr/local/lib/python3.10/dist-packages (from requests<3.0.0,>=2.13.0->spacy<3.8.0,>=3.7.4->en_core_sci_sm==0.5.4) (3.4.0)\n",
            "Requirement already satisfied: idna<4,>=2.5 in /usr/local/lib/python3.10/dist-packages (from requests<3.0.0,>=2.13.0->spacy<3.8.0,>=3.7.4->en_core_sci_sm==0.5.4) (3.10)\n",
            "Requirement already satisfied: urllib3<3,>=1.21.1 in /usr/local/lib/python3.10/dist-packages (from requests<3.0.0,>=2.13.0->spacy<3.8.0,>=3.7.4->en_core_sci_sm==0.5.4) (2.2.3)\n",
            "Requirement already satisfied: certifi>=2017.4.17 in /usr/local/lib/python3.10/dist-packages (from requests<3.0.0,>=2.13.0->spacy<3.8.0,>=3.7.4->en_core_sci_sm==0.5.4) (2024.8.30)\n",
            "Requirement already satisfied: blis<0.8.0,>=0.7.8 in /usr/local/lib/python3.10/dist-packages (from thinc<8.3.0,>=8.2.2->spacy<3.8.0,>=3.7.4->en_core_sci_sm==0.5.4) (0.7.11)\n",
            "Requirement already satisfied: confection<1.0.0,>=0.0.1 in /usr/local/lib/python3.10/dist-packages (from thinc<8.3.0,>=8.2.2->spacy<3.8.0,>=3.7.4->en_core_sci_sm==0.5.4) (0.1.5)\n",
            "Requirement already satisfied: click>=8.0.0 in /usr/local/lib/python3.10/dist-packages (from typer<1.0.0,>=0.3.0->spacy<3.8.0,>=3.7.4->en_core_sci_sm==0.5.4) (8.1.7)\n",
            "Requirement already satisfied: shellingham>=1.3.0 in /usr/local/lib/python3.10/dist-packages (from typer<1.0.0,>=0.3.0->spacy<3.8.0,>=3.7.4->en_core_sci_sm==0.5.4) (1.5.4)\n",
            "Requirement already satisfied: rich>=10.11.0 in /usr/local/lib/python3.10/dist-packages (from typer<1.0.0,>=0.3.0->spacy<3.8.0,>=3.7.4->en_core_sci_sm==0.5.4) (13.9.4)\n",
            "Requirement already satisfied: cloudpathlib<1.0.0,>=0.7.0 in /usr/local/lib/python3.10/dist-packages (from weasel<0.5.0,>=0.1.0->spacy<3.8.0,>=3.7.4->en_core_sci_sm==0.5.4) (0.20.0)\n",
            "Requirement already satisfied: smart-open<8.0.0,>=5.2.1 in /usr/local/lib/python3.10/dist-packages (from weasel<0.5.0,>=0.1.0->spacy<3.8.0,>=3.7.4->en_core_sci_sm==0.5.4) (7.0.5)\n",
            "Requirement already satisfied: MarkupSafe>=2.0 in /usr/local/lib/python3.10/dist-packages (from jinja2->spacy<3.8.0,>=3.7.4->en_core_sci_sm==0.5.4) (3.0.2)\n",
            "Requirement already satisfied: marisa-trie>=1.1.0 in /usr/local/lib/python3.10/dist-packages (from language-data>=1.2->langcodes<4.0.0,>=3.2.0->spacy<3.8.0,>=3.7.4->en_core_sci_sm==0.5.4) (1.2.1)\n",
            "Requirement already satisfied: markdown-it-py>=2.2.0 in /usr/local/lib/python3.10/dist-packages (from rich>=10.11.0->typer<1.0.0,>=0.3.0->spacy<3.8.0,>=3.7.4->en_core_sci_sm==0.5.4) (3.0.0)\n",
            "Requirement already satisfied: pygments<3.0.0,>=2.13.0 in /usr/local/lib/python3.10/dist-packages (from rich>=10.11.0->typer<1.0.0,>=0.3.0->spacy<3.8.0,>=3.7.4->en_core_sci_sm==0.5.4) (2.18.0)\n",
            "Requirement already satisfied: wrapt in /usr/local/lib/python3.10/dist-packages (from smart-open<8.0.0,>=5.2.1->weasel<0.5.0,>=0.1.0->spacy<3.8.0,>=3.7.4->en_core_sci_sm==0.5.4) (1.17.0)\n",
            "Requirement already satisfied: mdurl~=0.1 in /usr/local/lib/python3.10/dist-packages (from markdown-it-py>=2.2.0->rich>=10.11.0->typer<1.0.0,>=0.3.0->spacy<3.8.0,>=3.7.4->en_core_sci_sm==0.5.4) (0.1.2)\n",
            "Building wheels for collected packages: en_core_sci_sm\n",
            "  Building wheel for en_core_sci_sm (setup.py) ... \u001b[?25l\u001b[?25hdone\n",
            "  Created wheel for en_core_sci_sm: filename=en_core_sci_sm-0.5.4-py3-none-any.whl size=14778487 sha256=c6e2716e64ee44d432916d6ef5320d8abd662651b7f73f4579a751d21c76319c\n",
            "  Stored in directory: /root/.cache/pip/wheels/0e/d3/6e/e03165bcf8c0fe90c7a41e8a44dd268e4c7779582c5e022707\n",
            "Successfully built en_core_sci_sm\n",
            "Installing collected packages: en_core_sci_sm\n",
            "Successfully installed en_core_sci_sm-0.5.4\n",
            "Collecting googletrans==4.0.0-rc1\n",
            "  Downloading googletrans-4.0.0rc1.tar.gz (20 kB)\n",
            "  Preparing metadata (setup.py) ... \u001b[?25l\u001b[?25hdone\n",
            "Collecting httpx==0.13.3 (from googletrans==4.0.0-rc1)\n",
            "  Downloading httpx-0.13.3-py3-none-any.whl.metadata (25 kB)\n",
            "Requirement already satisfied: certifi in /usr/local/lib/python3.10/dist-packages (from httpx==0.13.3->googletrans==4.0.0-rc1) (2024.8.30)\n",
            "Collecting hstspreload (from httpx==0.13.3->googletrans==4.0.0-rc1)\n",
            "  Downloading hstspreload-2024.12.1-py3-none-any.whl.metadata (2.1 kB)\n",
            "Requirement already satisfied: sniffio in /usr/local/lib/python3.10/dist-packages (from httpx==0.13.3->googletrans==4.0.0-rc1) (1.3.1)\n",
            "Collecting chardet==3.* (from httpx==0.13.3->googletrans==4.0.0-rc1)\n",
            "  Downloading chardet-3.0.4-py2.py3-none-any.whl.metadata (3.2 kB)\n",
            "Collecting idna==2.* (from httpx==0.13.3->googletrans==4.0.0-rc1)\n",
            "  Downloading idna-2.10-py2.py3-none-any.whl.metadata (9.1 kB)\n",
            "Collecting rfc3986<2,>=1.3 (from httpx==0.13.3->googletrans==4.0.0-rc1)\n",
            "  Downloading rfc3986-1.5.0-py2.py3-none-any.whl.metadata (6.5 kB)\n",
            "Collecting httpcore==0.9.* (from httpx==0.13.3->googletrans==4.0.0-rc1)\n",
            "  Downloading httpcore-0.9.1-py3-none-any.whl.metadata (4.6 kB)\n",
            "Collecting h11<0.10,>=0.8 (from httpcore==0.9.*->httpx==0.13.3->googletrans==4.0.0-rc1)\n",
            "  Downloading h11-0.9.0-py2.py3-none-any.whl.metadata (8.1 kB)\n",
            "Collecting h2==3.* (from httpcore==0.9.*->httpx==0.13.3->googletrans==4.0.0-rc1)\n",
            "  Downloading h2-3.2.0-py2.py3-none-any.whl.metadata (32 kB)\n",
            "Collecting hyperframe<6,>=5.2.0 (from h2==3.*->httpcore==0.9.*->httpx==0.13.3->googletrans==4.0.0-rc1)\n",
            "  Downloading hyperframe-5.2.0-py2.py3-none-any.whl.metadata (7.2 kB)\n",
            "Collecting hpack<4,>=3.0 (from h2==3.*->httpcore==0.9.*->httpx==0.13.3->googletrans==4.0.0-rc1)\n",
            "  Downloading hpack-3.0.0-py2.py3-none-any.whl.metadata (7.0 kB)\n",
            "Downloading httpx-0.13.3-py3-none-any.whl (55 kB)\n",
            "\u001b[2K   \u001b[90m━━━━━━━━━━━━━━━━━━━━━━━━━━━━━━━━━━━━━━━━\u001b[0m \u001b[32m55.1/55.1 kB\u001b[0m \u001b[31m4.0 MB/s\u001b[0m eta \u001b[36m0:00:00\u001b[0m\n",
            "\u001b[?25hDownloading chardet-3.0.4-py2.py3-none-any.whl (133 kB)\n",
            "\u001b[2K   \u001b[90m━━━━━━━━━━━━━━━━━━━━━━━━━━━━━━━━━━━━━━━━\u001b[0m \u001b[32m133.4/133.4 kB\u001b[0m \u001b[31m6.0 MB/s\u001b[0m eta \u001b[36m0:00:00\u001b[0m\n",
            "\u001b[?25hDownloading httpcore-0.9.1-py3-none-any.whl (42 kB)\n",
            "\u001b[2K   \u001b[90m━━━━━━━━━━━━━━━━━━━━━━━━━━━━━━━━━━━━━━━━\u001b[0m \u001b[32m42.6/42.6 kB\u001b[0m \u001b[31m3.2 MB/s\u001b[0m eta \u001b[36m0:00:00\u001b[0m\n",
            "\u001b[?25hDownloading idna-2.10-py2.py3-none-any.whl (58 kB)\n",
            "\u001b[2K   \u001b[90m━━━━━━━━━━━━━━━━━━━━━━━━━━━━━━━━━━━━━━━━\u001b[0m \u001b[32m58.8/58.8 kB\u001b[0m \u001b[31m4.3 MB/s\u001b[0m eta \u001b[36m0:00:00\u001b[0m\n",
            "\u001b[?25hDownloading h2-3.2.0-py2.py3-none-any.whl (65 kB)\n",
            "\u001b[2K   \u001b[90m━━━━━━━━━━━━━━━━━━━━━━━━━━━━━━━━━━━━━━━━\u001b[0m \u001b[32m65.0/65.0 kB\u001b[0m \u001b[31m4.7 MB/s\u001b[0m eta \u001b[36m0:00:00\u001b[0m\n",
            "\u001b[?25hDownloading rfc3986-1.5.0-py2.py3-none-any.whl (31 kB)\n",
            "Downloading hstspreload-2024.12.1-py3-none-any.whl (1.3 MB)\n",
            "\u001b[2K   \u001b[90m━━━━━━━━━━━━━━━━━━━━━━━━━━━━━━━━━━━━━━━━\u001b[0m \u001b[32m1.3/1.3 MB\u001b[0m \u001b[31m31.6 MB/s\u001b[0m eta \u001b[36m0:00:00\u001b[0m\n",
            "\u001b[?25hDownloading h11-0.9.0-py2.py3-none-any.whl (53 kB)\n",
            "\u001b[2K   \u001b[90m━━━━━━━━━━━━━━━━━━━━━━━━━━━━━━━━━━━━━━━━\u001b[0m \u001b[32m53.6/53.6 kB\u001b[0m \u001b[31m4.2 MB/s\u001b[0m eta \u001b[36m0:00:00\u001b[0m\n",
            "\u001b[?25hDownloading hpack-3.0.0-py2.py3-none-any.whl (38 kB)\n",
            "Downloading hyperframe-5.2.0-py2.py3-none-any.whl (12 kB)\n",
            "Building wheels for collected packages: googletrans\n",
            "  Building wheel for googletrans (setup.py) ... \u001b[?25l\u001b[?25hdone\n",
            "  Created wheel for googletrans: filename=googletrans-4.0.0rc1-py3-none-any.whl size=17397 sha256=d2a73aaba95c1c3821ef6af8bc261cdb20b5f861583128c1b23b72a8611808d1\n",
            "  Stored in directory: /root/.cache/pip/wheels/c0/59/9f/7372f0cf70160fe61b528532e1a7c8498c4becd6bcffb022de\n",
            "Successfully built googletrans\n",
            "Installing collected packages: rfc3986, hyperframe, hpack, h11, chardet, idna, hstspreload, h2, httpcore, httpx, googletrans\n",
            "  Attempting uninstall: h11\n",
            "    Found existing installation: h11 0.14.0\n",
            "    Uninstalling h11-0.14.0:\n",
            "      Successfully uninstalled h11-0.14.0\n",
            "  Attempting uninstall: chardet\n",
            "    Found existing installation: chardet 5.2.0\n",
            "    Uninstalling chardet-5.2.0:\n",
            "      Successfully uninstalled chardet-5.2.0\n",
            "  Attempting uninstall: idna\n",
            "    Found existing installation: idna 3.10\n",
            "    Uninstalling idna-3.10:\n",
            "      Successfully uninstalled idna-3.10\n",
            "  Attempting uninstall: httpcore\n",
            "    Found existing installation: httpcore 1.0.7\n",
            "    Uninstalling httpcore-1.0.7:\n",
            "      Successfully uninstalled httpcore-1.0.7\n",
            "  Attempting uninstall: httpx\n",
            "    Found existing installation: httpx 0.28.0\n",
            "    Uninstalling httpx-0.28.0:\n",
            "      Successfully uninstalled httpx-0.28.0\n",
            "\u001b[31mERROR: pip's dependency resolver does not currently take into account all the packages that are installed. This behaviour is the source of the following dependency conflicts.\n",
            "langsmith 0.1.147 requires httpx<1,>=0.23.0, but you have httpx 0.13.3 which is incompatible.\n",
            "openai 1.54.5 requires httpx<1,>=0.23.0, but you have httpx 0.13.3 which is incompatible.\u001b[0m\u001b[31m\n",
            "\u001b[0mSuccessfully installed chardet-3.0.4 googletrans-4.0.0rc1 h11-0.9.0 h2-3.2.0 hpack-3.0.0 hstspreload-2024.12.1 httpcore-0.9.1 httpx-0.13.3 hyperframe-5.2.0 idna-2.10 rfc3986-1.5.0\n",
            "Collecting deep-translator\n",
            "  Downloading deep_translator-1.11.4-py3-none-any.whl.metadata (30 kB)\n",
            "Requirement already satisfied: beautifulsoup4<5.0.0,>=4.9.1 in /usr/local/lib/python3.10/dist-packages (from deep-translator) (4.12.3)\n",
            "Requirement already satisfied: requests<3.0.0,>=2.23.0 in /usr/local/lib/python3.10/dist-packages (from deep-translator) (2.32.3)\n",
            "Requirement already satisfied: soupsieve>1.2 in /usr/local/lib/python3.10/dist-packages (from beautifulsoup4<5.0.0,>=4.9.1->deep-translator) (2.6)\n",
            "Requirement already satisfied: charset-normalizer<4,>=2 in /usr/local/lib/python3.10/dist-packages (from requests<3.0.0,>=2.23.0->deep-translator) (3.4.0)\n",
            "Requirement already satisfied: idna<4,>=2.5 in /usr/local/lib/python3.10/dist-packages (from requests<3.0.0,>=2.23.0->deep-translator) (2.10)\n",
            "Requirement already satisfied: urllib3<3,>=1.21.1 in /usr/local/lib/python3.10/dist-packages (from requests<3.0.0,>=2.23.0->deep-translator) (2.2.3)\n",
            "Requirement already satisfied: certifi>=2017.4.17 in /usr/local/lib/python3.10/dist-packages (from requests<3.0.0,>=2.23.0->deep-translator) (2024.8.30)\n",
            "Downloading deep_translator-1.11.4-py3-none-any.whl (42 kB)\n",
            "\u001b[2K   \u001b[90m━━━━━━━━━━━━━━━━━━━━━━━━━━━━━━━━━━━━━━━━\u001b[0m \u001b[32m42.3/42.3 kB\u001b[0m \u001b[31m1.8 MB/s\u001b[0m eta \u001b[36m0:00:00\u001b[0m\n",
            "\u001b[?25hInstalling collected packages: deep-translator\n",
            "Successfully installed deep-translator-1.11.4\n",
            "Requirement already satisfied: transformers in /usr/local/lib/python3.10/dist-packages (4.46.3)\n",
            "Requirement already satisfied: filelock in /usr/local/lib/python3.10/dist-packages (from transformers) (3.16.1)\n",
            "Requirement already satisfied: huggingface-hub<1.0,>=0.23.2 in /usr/local/lib/python3.10/dist-packages (from transformers) (0.26.3)\n",
            "Requirement already satisfied: numpy>=1.17 in /usr/local/lib/python3.10/dist-packages (from transformers) (1.26.4)\n",
            "Requirement already satisfied: packaging>=20.0 in /usr/local/lib/python3.10/dist-packages (from transformers) (24.2)\n",
            "Requirement already satisfied: pyyaml>=5.1 in /usr/local/lib/python3.10/dist-packages (from transformers) (6.0.2)\n",
            "Requirement already satisfied: regex!=2019.12.17 in /usr/local/lib/python3.10/dist-packages (from transformers) (2024.9.11)\n",
            "Requirement already satisfied: requests in /usr/local/lib/python3.10/dist-packages (from transformers) (2.32.3)\n",
            "Requirement already satisfied: tokenizers<0.21,>=0.20 in /usr/local/lib/python3.10/dist-packages (from transformers) (0.20.3)\n",
            "Requirement already satisfied: safetensors>=0.4.1 in /usr/local/lib/python3.10/dist-packages (from transformers) (0.4.5)\n",
            "Requirement already satisfied: tqdm>=4.27 in /usr/local/lib/python3.10/dist-packages (from transformers) (4.66.6)\n",
            "Requirement already satisfied: fsspec>=2023.5.0 in /usr/local/lib/python3.10/dist-packages (from huggingface-hub<1.0,>=0.23.2->transformers) (2024.9.0)\n",
            "Requirement already satisfied: typing-extensions>=3.7.4.3 in /usr/local/lib/python3.10/dist-packages (from huggingface-hub<1.0,>=0.23.2->transformers) (4.12.2)\n",
            "Requirement already satisfied: charset-normalizer<4,>=2 in /usr/local/lib/python3.10/dist-packages (from requests->transformers) (3.4.0)\n",
            "Requirement already satisfied: idna<4,>=2.5 in /usr/local/lib/python3.10/dist-packages (from requests->transformers) (2.10)\n",
            "Requirement already satisfied: urllib3<3,>=1.21.1 in /usr/local/lib/python3.10/dist-packages (from requests->transformers) (2.2.3)\n",
            "Requirement already satisfied: certifi>=2017.4.17 in /usr/local/lib/python3.10/dist-packages (from requests->transformers) (2024.8.30)\n",
            "Requirement already satisfied: torch in /usr/local/lib/python3.10/dist-packages (2.5.1+cu121)\n",
            "Requirement already satisfied: filelock in /usr/local/lib/python3.10/dist-packages (from torch) (3.16.1)\n",
            "Requirement already satisfied: typing-extensions>=4.8.0 in /usr/local/lib/python3.10/dist-packages (from torch) (4.12.2)\n",
            "Requirement already satisfied: networkx in /usr/local/lib/python3.10/dist-packages (from torch) (3.4.2)\n",
            "Requirement already satisfied: jinja2 in /usr/local/lib/python3.10/dist-packages (from torch) (3.1.4)\n",
            "Requirement already satisfied: fsspec in /usr/local/lib/python3.10/dist-packages (from torch) (2024.9.0)\n",
            "Requirement already satisfied: sympy==1.13.1 in /usr/local/lib/python3.10/dist-packages (from torch) (1.13.1)\n",
            "Requirement already satisfied: mpmath<1.4,>=1.1.0 in /usr/local/lib/python3.10/dist-packages (from sympy==1.13.1->torch) (1.3.0)\n",
            "Requirement already satisfied: MarkupSafe>=2.0 in /usr/local/lib/python3.10/dist-packages (from jinja2->torch) (3.0.2)\n"
          ]
        }
      ]
    },
    {
      "cell_type": "code",
      "source": [
        "from google.colab import drive\n",
        "\n",
        "drive.mount('/content/drive')"
      ],
      "metadata": {
        "colab": {
          "base_uri": "https://localhost:8080/"
        },
        "id": "G32SWSDCJlYW",
        "outputId": "5fc3f1f0-83fa-45dc-8082-cab30b573097"
      },
      "execution_count": 2,
      "outputs": [
        {
          "output_type": "stream",
          "name": "stdout",
          "text": [
            "Mounted at /content/drive\n"
          ]
        }
      ]
    },
    {
      "cell_type": "code",
      "source": [
        "from google.colab import userdata\n",
        "claude_token = userdata.get('claude_token')"
      ],
      "metadata": {
        "id": "5V2AEAroKh_W"
      },
      "execution_count": 3,
      "outputs": []
    },
    {
      "cell_type": "code",
      "source": [
        "import csv\n",
        "from datasets import load_dataset\n",
        "import pandas as pd\n",
        "import spacy\n",
        "from deep_translator import GoogleTranslator\n",
        "from transformers import AutoTokenizer, AutoModelForCausalLM\n",
        "import torch\n",
        "from tqdm import tqdm"
      ],
      "metadata": {
        "id": "1IGO9IO8LC8o"
      },
      "execution_count": 4,
      "outputs": []
    },
    {
      "cell_type": "code",
      "source": [
        "# Flags for which LLMs to use\n",
        "USE_LLAMA = True\n",
        "USE_MISTRAL = False\n",
        "USE_FALCON = False\n",
        "\n",
        "# Define max_length multiplier for LLM prompts\n",
        "MAX_LENGTH_MULTIPLIER = 2\n",
        "\n",
        "# Define k hyperparameter\n",
        "K_HYPERPARAMETER = 3"
      ],
      "metadata": {
        "id": "wzFG2dgFLFLs"
      },
      "execution_count": 5,
      "outputs": []
    },
    {
      "cell_type": "code",
      "source": [
        "# Load datasets into pandas DataFrames\n",
        "def load_law_dataset():\n",
        "    ds = load_dataset(\"casehold/casehold\", \"all\")\n",
        "    train_df = pd.DataFrame(ds['train'])\n",
        "    test_df = pd.DataFrame(ds['test'])\n",
        "    validation_df = pd.DataFrame(ds['validation'])\n",
        "    law_dataset = pd.concat([train_df, test_df, validation_df], ignore_index=True)['citing_prompt']\n",
        "    return law_dataset\n",
        "\n",
        "def load_medical_dataset():\n",
        "    ds = load_dataset(\"zhengyun21/PMC-Patients\")\n",
        "    train_df = pd.DataFrame(ds['train'])\n",
        "    medical_dataset = train_df['patient']\n",
        "    return medical_dataset\n",
        "\n",
        "# Combine datasets\n",
        "def load_all_datasets():\n",
        "    law_dataset = load_law_dataset()\n",
        "    medical_dataset = load_medical_dataset()\n",
        "    return [law_dataset, medical_dataset]"
      ],
      "metadata": {
        "id": "6gn6ZT1kLJac"
      },
      "execution_count": 6,
      "outputs": []
    },
    {
      "cell_type": "code",
      "source": [
        "# Load SpaCy model\n",
        "def load_spacy_model(model_path='en_core_sci_sm'):\n",
        "    return spacy.load(model_path)\n",
        "\n",
        "# Extract entities from text\n",
        "def extract_entities(nlp, text):\n",
        "    doc = nlp(text)\n",
        "    return [ent.text for ent in doc.ents]\n",
        "\n",
        "# Translate entities to a target language\n",
        "def translate_entities(entities, target_lang):\n",
        "    translations = [GoogleTranslator(source='auto', target=target_lang).translate(entity) for entity in entities]\n",
        "    return translations"
      ],
      "metadata": {
        "id": "CwBGBtSdLLHk"
      },
      "execution_count": 7,
      "outputs": []
    },
    {
      "cell_type": "code",
      "source": [
        "!pip install sacrebleu"
      ],
      "metadata": {
        "colab": {
          "base_uri": "https://localhost:8080/"
        },
        "id": "ySR3lsKRz_4M",
        "outputId": "e61bb6e7-3b75-48a9-8dfa-d1a6e27648f3"
      },
      "execution_count": 8,
      "outputs": [
        {
          "output_type": "stream",
          "name": "stdout",
          "text": [
            "Collecting sacrebleu\n",
            "  Downloading sacrebleu-2.4.3-py3-none-any.whl.metadata (51 kB)\n",
            "\u001b[2K     \u001b[90m━━━━━━━━━━━━━━━━━━━━━━━━━━━━━━━━━━━━━━━━\u001b[0m \u001b[32m51.8/51.8 kB\u001b[0m \u001b[31m2.2 MB/s\u001b[0m eta \u001b[36m0:00:00\u001b[0m\n",
            "\u001b[?25hCollecting portalocker (from sacrebleu)\n",
            "  Downloading portalocker-3.0.0-py3-none-any.whl.metadata (8.5 kB)\n",
            "Requirement already satisfied: regex in /usr/local/lib/python3.10/dist-packages (from sacrebleu) (2024.9.11)\n",
            "Requirement already satisfied: tabulate>=0.8.9 in /usr/local/lib/python3.10/dist-packages (from sacrebleu) (0.9.0)\n",
            "Requirement already satisfied: numpy>=1.17 in /usr/local/lib/python3.10/dist-packages (from sacrebleu) (1.26.4)\n",
            "Collecting colorama (from sacrebleu)\n",
            "  Downloading colorama-0.4.6-py2.py3-none-any.whl.metadata (17 kB)\n",
            "Requirement already satisfied: lxml in /usr/local/lib/python3.10/dist-packages (from sacrebleu) (5.3.0)\n",
            "Downloading sacrebleu-2.4.3-py3-none-any.whl (103 kB)\n",
            "\u001b[2K   \u001b[90m━━━━━━━━━━━━━━━━━━━━━━━━━━━━━━━━━━━━━━━━\u001b[0m \u001b[32m104.0/104.0 kB\u001b[0m \u001b[31m4.7 MB/s\u001b[0m eta \u001b[36m0:00:00\u001b[0m\n",
            "\u001b[?25hDownloading colorama-0.4.6-py2.py3-none-any.whl (25 kB)\n",
            "Downloading portalocker-3.0.0-py3-none-any.whl (19 kB)\n",
            "Installing collected packages: portalocker, colorama, sacrebleu\n",
            "Successfully installed colorama-0.4.6 portalocker-3.0.0 sacrebleu-2.4.3\n"
          ]
        }
      ]
    },
    {
      "cell_type": "code",
      "source": [
        "from itertools import combinations\n",
        "import jieba\n",
        "import sacrebleu\n",
        "\n",
        "# Calculate JTC score\n",
        "def calculate_JTC(translations, text, entities):\n",
        "    jtc_score = 0\n",
        "    n = len(entities)\n",
        "    entity_counts = 0\n",
        "\n",
        "    for entity, translated_entity in entities.items():\n",
        "        # Count occurrences of the entity in the original text\n",
        "        c = text.count(entity)\n",
        "        entity_counts += c\n",
        "        if c == 0 or not translated_entity:\n",
        "            continue  # Skip entities that are not present or have no translation\n",
        "        jargon_inconsistency = K_HYPERPARAMETER * c\n",
        "\n",
        "        for translation in translations:\n",
        "            # Count occurrences of the translated entity in the translation\n",
        "            t = translation.count(translated_entity)\n",
        "            # Calculate penalty for mismatched occurrences\n",
        "            jargon_inconsistency -= t\n",
        "\n",
        "        # Update the JTC score\n",
        "        jtc_score += jargon_inconsistency\n",
        "\n",
        "    # Normalize and invert the score\n",
        "    normalized_score = jtc_score / max(K_HYPERPARAMETER * entity_counts, 1)\n",
        "    return 1 - normalized_score\n",
        "\n",
        "# calculates the Jaccard similarity between the k translations\n",
        "def calculate_jaccard(translations, target_lang):\n",
        "    jaccard_scores = []\n",
        "    if target_lang == \"Simplified Chinese\":\n",
        "        translations = [set(jieba.lcut(translation)) for translation in translations]\n",
        "    else:\n",
        "        translations = [set(translation.split()) for translation in translations]\n",
        "    # print(\"translations:\", translations)\n",
        "    for t1, t2 in combinations(translations, 2):\n",
        "        # Calculate Jaccard similarity for the pair\n",
        "        intersection = len(t1.intersection(t2))\n",
        "        union = len(t1.union(t2))\n",
        "        jaccard_score = intersection / union if union > 0 else 0\n",
        "        jaccard_scores.append(jaccard_score)\n",
        "    # print(\"Jaccard Scores:\", jaccard_scores)\n",
        "    # Return the average Jaccard similarity\n",
        "    return sum(jaccard_scores) / len(jaccard_scores) if jaccard_scores else 0\n",
        "\n",
        "# chrF++ ⇒ google translate serves as a reference ground truth\n",
        "def calculate_chrf(ground_truth_translation, translations, n_value=6):\n",
        "    ground_truth_translations = [ground_truth_translation] * len(translations)\n",
        "    # sacrebleu.corpus_chrf calculates chrF++ directly\n",
        "    chrf = sacrebleu.corpus_chrf(\n",
        "        translations,  # List of translated texts\n",
        "        ground_truth_translations,  # List of reference texts\n",
        "        beta=2  # Default beta for F-score weighting\n",
        "    )\n",
        "    return chrf.score"
      ],
      "metadata": {
        "id": "s0ppkxB3LNJz"
      },
      "execution_count": 9,
      "outputs": []
    },
    {
      "cell_type": "code",
      "source": [
        "!pip install anthropic"
      ],
      "metadata": {
        "colab": {
          "base_uri": "https://localhost:8080/"
        },
        "id": "CA3-UGZ6MPie",
        "outputId": "9c030c89-aa8b-4e2f-b737-0b650eaff268"
      },
      "execution_count": 10,
      "outputs": [
        {
          "output_type": "stream",
          "name": "stdout",
          "text": [
            "Collecting anthropic\n",
            "  Downloading anthropic-0.40.0-py3-none-any.whl.metadata (23 kB)\n",
            "Requirement already satisfied: anyio<5,>=3.5.0 in /usr/local/lib/python3.10/dist-packages (from anthropic) (3.7.1)\n",
            "Requirement already satisfied: distro<2,>=1.7.0 in /usr/local/lib/python3.10/dist-packages (from anthropic) (1.9.0)\n",
            "Collecting httpx<1,>=0.23.0 (from anthropic)\n",
            "  Downloading httpx-0.28.1-py3-none-any.whl.metadata (7.1 kB)\n",
            "Requirement already satisfied: jiter<1,>=0.4.0 in /usr/local/lib/python3.10/dist-packages (from anthropic) (0.8.0)\n",
            "Requirement already satisfied: pydantic<3,>=1.9.0 in /usr/local/lib/python3.10/dist-packages (from anthropic) (2.10.3)\n",
            "Requirement already satisfied: sniffio in /usr/local/lib/python3.10/dist-packages (from anthropic) (1.3.1)\n",
            "Requirement already satisfied: typing-extensions<5,>=4.7 in /usr/local/lib/python3.10/dist-packages (from anthropic) (4.12.2)\n",
            "Requirement already satisfied: idna>=2.8 in /usr/local/lib/python3.10/dist-packages (from anyio<5,>=3.5.0->anthropic) (2.10)\n",
            "Requirement already satisfied: exceptiongroup in /usr/local/lib/python3.10/dist-packages (from anyio<5,>=3.5.0->anthropic) (1.2.2)\n",
            "Requirement already satisfied: certifi in /usr/local/lib/python3.10/dist-packages (from httpx<1,>=0.23.0->anthropic) (2024.8.30)\n",
            "Collecting httpcore==1.* (from httpx<1,>=0.23.0->anthropic)\n",
            "  Downloading httpcore-1.0.7-py3-none-any.whl.metadata (21 kB)\n",
            "Collecting h11<0.15,>=0.13 (from httpcore==1.*->httpx<1,>=0.23.0->anthropic)\n",
            "  Downloading h11-0.14.0-py3-none-any.whl.metadata (8.2 kB)\n",
            "Requirement already satisfied: annotated-types>=0.6.0 in /usr/local/lib/python3.10/dist-packages (from pydantic<3,>=1.9.0->anthropic) (0.7.0)\n",
            "Requirement already satisfied: pydantic-core==2.27.1 in /usr/local/lib/python3.10/dist-packages (from pydantic<3,>=1.9.0->anthropic) (2.27.1)\n",
            "Downloading anthropic-0.40.0-py3-none-any.whl (199 kB)\n",
            "\u001b[2K   \u001b[90m━━━━━━━━━━━━━━━━━━━━━━━━━━━━━━━━━━━━━━━━\u001b[0m \u001b[32m199.5/199.5 kB\u001b[0m \u001b[31m3.7 MB/s\u001b[0m eta \u001b[36m0:00:00\u001b[0m\n",
            "\u001b[?25hDownloading httpx-0.28.1-py3-none-any.whl (73 kB)\n",
            "\u001b[2K   \u001b[90m━━━━━━━━━━━━━━━━━━━━━━━━━━━━━━━━━━━━━━━━\u001b[0m \u001b[32m73.5/73.5 kB\u001b[0m \u001b[31m2.6 MB/s\u001b[0m eta \u001b[36m0:00:00\u001b[0m\n",
            "\u001b[?25hDownloading httpcore-1.0.7-py3-none-any.whl (78 kB)\n",
            "\u001b[2K   \u001b[90m━━━━━━━━━━━━━━━━━━━━━━━━━━━━━━━━━━━━━━━━\u001b[0m \u001b[32m78.6/78.6 kB\u001b[0m \u001b[31m5.3 MB/s\u001b[0m eta \u001b[36m0:00:00\u001b[0m\n",
            "\u001b[?25hDownloading h11-0.14.0-py3-none-any.whl (58 kB)\n",
            "\u001b[2K   \u001b[90m━━━━━━━━━━━━━━━━━━━━━━━━━━━━━━━━━━━━━━━━\u001b[0m \u001b[32m58.3/58.3 kB\u001b[0m \u001b[31m3.9 MB/s\u001b[0m eta \u001b[36m0:00:00\u001b[0m\n",
            "\u001b[?25hInstalling collected packages: h11, httpcore, httpx, anthropic\n",
            "  Attempting uninstall: h11\n",
            "    Found existing installation: h11 0.9.0\n",
            "    Uninstalling h11-0.9.0:\n",
            "      Successfully uninstalled h11-0.9.0\n",
            "  Attempting uninstall: httpcore\n",
            "    Found existing installation: httpcore 0.9.1\n",
            "    Uninstalling httpcore-0.9.1:\n",
            "      Successfully uninstalled httpcore-0.9.1\n",
            "  Attempting uninstall: httpx\n",
            "    Found existing installation: httpx 0.13.3\n",
            "    Uninstalling httpx-0.13.3:\n",
            "      Successfully uninstalled httpx-0.13.3\n",
            "\u001b[31mERROR: pip's dependency resolver does not currently take into account all the packages that are installed. This behaviour is the source of the following dependency conflicts.\n",
            "googletrans 4.0.0rc1 requires httpx==0.13.3, but you have httpx 0.28.1 which is incompatible.\u001b[0m\u001b[31m\n",
            "\u001b[0mSuccessfully installed anthropic-0.40.0 h11-0.14.0 httpcore-1.0.7 httpx-0.28.1\n"
          ]
        }
      ]
    },
    {
      "cell_type": "code",
      "source": [
        "# import anthropic\n",
        "\n",
        "# api_key = userdata.get('claude_token')\n",
        "# client = anthropic.Anthropic(api_key=api_key)\n",
        "\n",
        "# message = client.messages.create(\n",
        "#     # model=\"claude-3-5-sonnet-20241022\",\n",
        "#     model=\"claude-3-haiku-20240307\",\n",
        "#     max_tokens=512,\n",
        "#     messages=[\n",
        "#         {\"role\": \"user\", \"content\": \"Please translate this to Chinese: The patient was diagnosed with diabetes and is very sick\"}\n",
        "#     ]\n",
        "# )\n",
        "# print(message.content)"
      ],
      "metadata": {
        "id": "xAt5fjyxMFh6"
      },
      "execution_count": 11,
      "outputs": []
    },
    {
      "cell_type": "code",
      "source": [
        "import anthropic\n",
        "\n",
        "# Helper function to interact with Claude\n",
        "def invoke_claude(prompt, model=\"claude-3-haiku-20240307\", max_tokens=512):\n",
        "    api_key = userdata.get('claude_token')\n",
        "    client = anthropic.Anthropic(api_key=api_key)\n",
        "    response = client.messages.create(\n",
        "        model=model,\n",
        "        max_tokens=max_tokens,\n",
        "        messages=[{\"role\": \"user\", \"content\": prompt}]\n",
        "    )\n",
        "    return response.content[0].text"
      ],
      "metadata": {
        "id": "8UBLzQQhSZMS"
      },
      "execution_count": 12,
      "outputs": []
    },
    {
      "cell_type": "code",
      "source": [
        "from tqdm import tqdm"
      ],
      "metadata": {
        "id": "hJbUZyj855tn"
      },
      "execution_count": 13,
      "outputs": []
    },
    {
      "cell_type": "code",
      "source": [
        "# Main function for the experiment\n",
        "def run_pipeline_claude(target_lang, dataset_index=0, results_file_in_drive=\"results.csv\"):\n",
        "    datasets = load_all_datasets()\n",
        "    lang_abbrs = {\"Simplified Chinese\": \"zh-CN\", \"French\": \"fr\"}\n",
        "\n",
        "    # Path to the results file in Google Drive\n",
        "    results_path = f'/content/drive/My Drive/{results_file_in_drive}'\n",
        "\n",
        "    # Initialize the CSV file with headers\n",
        "    with open(results_path, mode='w', newline='', encoding='utf-8') as file:\n",
        "        writer = csv.writer(file)\n",
        "        writer.writerow([\"Text Index\", \"Regular_JTC_Score\", \"LEAP_JTC_Score\",\n",
        "                         \"Regular_Jaccard_Score\", \"LEAP_Jaccard_Score\",\n",
        "                         \"Regular_chrF\", \"LEAP_chrF\"])\n",
        "\n",
        "    dataset = datasets[dataset_index]\n",
        "    dataset_name = \"law\" if dataset_index == 0 else \"medical\"\n",
        "    print(f\"Processing dataset: {dataset_name}\")\n",
        "\n",
        "    for i, text in enumerate(tqdm(dataset[:500], desc=f\"Processing {dataset_name} dataset\")):\n",
        "        text = \" \".join(text.split()[:50])  # Truncate to the first 50 words\n",
        "        # print(f\"Text {i+1}: {text}\")\n",
        "\n",
        "        named_entities = list(set(extract_entities(load_spacy_model(), text)))\n",
        "        # print(\"Named entities:\", named_entities)\n",
        "\n",
        "        # Translate named entities to the target language\n",
        "        named_entities_translations = translate_entities(named_entities, lang_abbrs[target_lang])\n",
        "        # print(\"Translations:\", named_entities_translations)\n",
        "        named_entity_mapping = {e: t for e, t in zip(named_entities, named_entities_translations)}\n",
        "\n",
        "        # Regular text translation\n",
        "        regular_translations = []\n",
        "        for k in range(3):  # Adjust K_HYPERPARAMETER as needed\n",
        "            prompt = f\"Please return only the translation and nothing else. Translate the following text to {target_lang}: {text}\"\n",
        "            response = invoke_claude(prompt)\n",
        "            # print(\"\\nGenerated Response (Regular):\", response)\n",
        "            regular_translations.append(response)\n",
        "\n",
        "        # LEAP text translation\n",
        "        leap_translations = []\n",
        "        for k in range(3):  # Adjust K_HYPERPARAMETER as needed\n",
        "            prompt = f\"Please return only the translation and nothing else. Translate the following text into {target_lang} using these mappings {str(named_entities_translations)}: {text}\"\n",
        "            response = invoke_claude(prompt)\n",
        "            # print(\"\\nGenerated Response (LEAP):\", response)\n",
        "            leap_translations.append(response)\n",
        "\n",
        "        # Calculate JTC scores\n",
        "        regular_jtc_score = calculate_JTC(regular_translations, text, named_entity_mapping)\n",
        "        leap_jtc_score = calculate_JTC(leap_translations, text, named_entity_mapping)\n",
        "\n",
        "        # Calculate Jaccard Similarities\n",
        "        regular_jaccard_score = calculate_jaccard(regular_translations, target_lang)\n",
        "        leap_jaccard_score = calculate_jaccard(leap_translations, target_lang)\n",
        "\n",
        "        # chrF++ Metric\n",
        "        ground_truth_translation = GoogleTranslator(source='auto', target=lang_abbrs[target_lang]).translate(text)\n",
        "        regular_chrf = calculate_chrf(ground_truth_translation, regular_translations)\n",
        "        leap_chrf = calculate_chrf(ground_truth_translation, leap_translations)\n",
        "\n",
        "        # Append results to the file in Google Drive\n",
        "        with open(results_path, mode='a', newline='', encoding='utf-8') as file:\n",
        "            writer = csv.writer(file)\n",
        "            row = [i + 1, regular_jtc_score, leap_jtc_score,\n",
        "                   regular_jaccard_score, leap_jaccard_score,\n",
        "                   regular_chrf, leap_chrf]\n",
        "            writer.writerow(row)\n",
        "            print(f\"Appended result to Google Drive file: {row}\")"
      ],
      "metadata": {
        "id": "dxMashElScQk"
      },
      "execution_count": 14,
      "outputs": []
    },
    {
      "cell_type": "code",
      "source": [
        "# Run the pipeline for different target languages and datasets\n",
        "target_langs = [\"Simplified Chinese\", \"French\"]\n",
        "dataset_indices = [0, 1]  # 0: Law, 1: Medical\n",
        "\n",
        "# Outer loop for target languages\n",
        "for target_lang in tqdm(target_langs, desc=\"Target Languages\"):\n",
        "    # Inner loop for dataset indices\n",
        "    for dataset_index in tqdm(dataset_indices, desc=f\"Datasets for {target_lang}\", leave=False):\n",
        "        results_file = f\"full_claude_{target_lang}_{dataset_index}_results.csv\"\n",
        "        run_pipeline_claude(target_lang=target_lang,\n",
        "                            dataset_index=dataset_index,\n",
        "                            results_file_in_drive=results_file)"
      ],
      "metadata": {
        "colab": {
          "base_uri": "https://localhost:8080/",
          "height": 1000,
          "referenced_widgets": [
            "fb7a26121e7d434dba946a5f35111082",
            "c641e54417f54f6c8f5ed05f2fb5a7d2",
            "dcaa021a7c78401388ace7a60b312872",
            "e207f3662ace4f09b029dea3635f8823",
            "296f118b7a034441bb70097ceb14f998",
            "490ad907d5124669aa0bd6ba2197d909",
            "e19be9724a3f4ef99e8871bc72740050",
            "0cdaca138379436997d3375be672f15b",
            "bac1e8e4cc664bcea07bae4c773e8caf",
            "571b3b5285b04d8eb215e65b9d0081be",
            "8e563d3c4ae04039a4a8328ef862e972",
            "cb190d5f710741e09409825e25e7d994",
            "3b74a4bb7d1b4666ad5831bf417911a4",
            "5c20c113239641cdad049665eaa66701",
            "257040863d614bf1884c7f185d47dba2",
            "194a4dadc4e4416db6c0e9febbd94b57",
            "a65dd738ed694034b7debc4682ecd07b",
            "3d91056fd0674ff5a7fe94e13bc0d822",
            "0cd41c90f32445f38df8d2c89dde80c8",
            "db437e8a803c4002a0006791da9b5ee4",
            "57941c98a8f24c8ebde484a466287cd6",
            "6f06b85f8bec4d97a8e838f62d822f13",
            "bfe0e28f0f4748e288de9168d77afdba",
            "5f295717228a430b8a6051a347fa4921",
            "b538ff6e322141aa90f64316d4271351",
            "9ecfce028a5c462b9b1c3debc4f81d6e",
            "8ac18517bffd46e1affa4d529b101e6b",
            "175122db17674075b30e308ca48cca7a",
            "7aff9f0659474771b97fe58189805346",
            "9defa4ac1fd746979ab07bd850e1eac6",
            "22fdb01f06254e328c9878ce550389a6",
            "4c3c040acef3422983a6b3abf3327d44",
            "deb05ba85c4b4f3b8c6356c19578426f",
            "04e68efe763843939813cccd57cda034",
            "d4a2ba84592c494bbcf34f4c8a22a5e5",
            "a2d0a3ee739544a896864effcc66296f",
            "8736a8899d804a928b7566f1ac6d587d",
            "e2816d9de9824cb58d3689a22f4cbe28",
            "a94d0969c0fb43d7a290305b9a57b71d",
            "54f08810c825461e8003e96de05d47f1",
            "50918d65fe12466ea03f348d4671f170",
            "33602d507f1043cc910beb2b88178f97",
            "d606b217704046499d89ae5fe803941b",
            "4491616f3b1c48f9bd33053fb0dfe6f1",
            "2c20a6afeae64b6a8158c2f243d0008d",
            "f037105f3a1547948546d4b7729b1a36",
            "d71066122eb04deabd352e0fd42c45c1",
            "22b4c9031e214c82a7eeadf85e9a6daa",
            "0833a16739ea48469e5a19fb7dd0a163",
            "c2a79c008a26416d97bf4bde40d541c1",
            "9cecb95822454050aac4c0611cfa42bf",
            "cd86b3688a4e4db694e26bb416e386d6",
            "2593b479329e455ba28a2c0cf83e38b9",
            "d549960bbc8343a68133ffbd6b490f4e",
            "0bbcd2f656954069a41aeb82e9f63063",
            "d2b01436b9a641a3a6f03452475eba0a",
            "3dc1c8e2c12745e5a92e951b2bd241f3",
            "1a7846c715d4406c9f35e65652c1c517",
            "c22c4b8ee7c24fbdaf0a5ea61bcb2732",
            "7b642d33826641a3b971017218dca216",
            "aac47c0c4a7a4abb8673f54e0ab20a0c",
            "c2c13defac26433ba9da137f06447654",
            "232d0ba2e0604f0dab82b2a0cf661902",
            "e556530acc644da799b4c6067964e99f",
            "6a487e5210b64711b52ad08cb73568d8",
            "d1aaf32063f24502baaafba198206361",
            "22fa1c48dfbd41d49368a1b5407d9127",
            "1ec5cec0b1e748daa48ba7415f72ecdc",
            "86896599bc214a5d9c9bb67f6d4b5078",
            "8b6d29eda3f4435da726ced160078f10",
            "9006914a983d4daeb4120682cfda8d3a",
            "5116c64fdb074306aaba843156b6a2a8",
            "1ae3840b37e744b6b63cc4f869dc023b",
            "b8c7f03ec9f5461d9859ff35b02214c4",
            "17b1a8da5b514781a7e62d48aa03db00",
            "6f0ac43f2cec44ae97860586fff770f9",
            "92df3514d97b40548c3eb77e48fab991",
            "7b47ad9b71464dffaf6737196f4c48b8",
            "a69cf53c7feb4e3988167f0154d5e219",
            "648477987a7b4b0eac134ed51c19e58a",
            "a2daec701ec34c0e932ea9af2d230086",
            "d14cc6789c384ba1af3a43c80b6bc9b4",
            "1a51823228054d11b34dba9b8e5c4273",
            "11dae9ea71b24e8eb9ca00b313d1c472",
            "5c12f8dd360c47b5a62f4e3283f43581",
            "b37f021664f649f09c1cbb5d02c708c8",
            "5c09db48d60946a49c883cb9fc4b82b4",
            "f0b57e363962499698c5c0717a59cf0f",
            "cbd7ba8ffb7d498f85e2a26dbf6e3095",
            "27b71237c3ab4ff5a1f2b77055a8dfa5",
            "0921811d61254f59b66c014e338bf904",
            "7cfe668c05f84fcbbeb938379aa2a1e3",
            "162d5f744c9f4182836287c76f906be0",
            "2e3a315d8e724529979ca0c8ab42dacc",
            "9702180e764c4166bfbf55ba00a3c91e",
            "74c9167556414c4385225ff5898f8842",
            "6ea7b8d9c5eb4ec3a58026d6e950826f",
            "4f4bb55bb066439e8d79bed879f36e80",
            "c49b723709c54f03a38e28d22dc2bd0c",
            "a4fbb97b15b6450a8abb84779c210a67",
            "a291122d925a4918940fab7a63a7de91",
            "fac31ea3472b4f6f884831165fb87b3d",
            "c8953305a79d4a62833c765aff6a8d32",
            "da79c0e40b45476b89cdada014f26b88",
            "1be17528eb68498db55449a64ba919e2",
            "ec9b22835cf44b4eac65379984fc7eda",
            "801994a8598d4aa6b37a14a0bd418b0f",
            "26992c3515fa4b6bad0cece083badc5d",
            "4f511011980f43e1a304531ba5624a58",
            "f1253260331e4af4bb748ebd6adcbc72"
          ]
        },
        "id": "Mz8m7992gXfZ",
        "outputId": "8c68becc-63b4-4187-a323-9532e7a60ff7"
      },
      "execution_count": 15,
      "outputs": [
        {
          "output_type": "stream",
          "name": "stderr",
          "text": [
            "Target Languages:   0%|          | 0/2 [00:00<?, ?it/s]\n",
            "Datasets for Simplified Chinese:   0%|          | 0/2 [00:00<?, ?it/s]\u001b[A/usr/local/lib/python3.10/dist-packages/huggingface_hub/utils/_auth.py:94: UserWarning: \n",
            "The secret `HF_TOKEN` does not exist in your Colab secrets.\n",
            "To authenticate with the Hugging Face Hub, create a token in your settings tab (https://huggingface.co/settings/tokens), set it as secret in your Google Colab and restart your session.\n",
            "You will be able to reuse this secret in all of your notebooks.\n",
            "Please note that authentication is recommended but still optional to access public models or datasets.\n",
            "  warnings.warn(\n"
          ]
        },
        {
          "output_type": "display_data",
          "data": {
            "text/plain": [
              "casehold.py:   0%|          | 0.00/8.68k [00:00<?, ?B/s]"
            ],
            "application/vnd.jupyter.widget-view+json": {
              "version_major": 2,
              "version_minor": 0,
              "model_id": "fb7a26121e7d434dba946a5f35111082"
            }
          },
          "metadata": {}
        },
        {
          "output_type": "display_data",
          "data": {
            "text/plain": [
              "0000.parquet:   0%|          | 0.00/46.2M [00:00<?, ?B/s]"
            ],
            "application/vnd.jupyter.widget-view+json": {
              "version_major": 2,
              "version_minor": 0,
              "model_id": "cb190d5f710741e09409825e25e7d994"
            }
          },
          "metadata": {}
        },
        {
          "output_type": "display_data",
          "data": {
            "text/plain": [
              "0000.parquet:   0%|          | 0.00/5.79M [00:00<?, ?B/s]"
            ],
            "application/vnd.jupyter.widget-view+json": {
              "version_major": 2,
              "version_minor": 0,
              "model_id": "bfe0e28f0f4748e288de9168d77afdba"
            }
          },
          "metadata": {}
        },
        {
          "output_type": "display_data",
          "data": {
            "text/plain": [
              "0000.parquet:   0%|          | 0.00/5.81M [00:00<?, ?B/s]"
            ],
            "application/vnd.jupyter.widget-view+json": {
              "version_major": 2,
              "version_minor": 0,
              "model_id": "04e68efe763843939813cccd57cda034"
            }
          },
          "metadata": {}
        },
        {
          "output_type": "display_data",
          "data": {
            "text/plain": [
              "Generating train split:   0%|          | 0/42509 [00:00<?, ? examples/s]"
            ],
            "application/vnd.jupyter.widget-view+json": {
              "version_major": 2,
              "version_minor": 0,
              "model_id": "2c20a6afeae64b6a8158c2f243d0008d"
            }
          },
          "metadata": {}
        },
        {
          "output_type": "display_data",
          "data": {
            "text/plain": [
              "Generating validation split:   0%|          | 0/5314 [00:00<?, ? examples/s]"
            ],
            "application/vnd.jupyter.widget-view+json": {
              "version_major": 2,
              "version_minor": 0,
              "model_id": "d2b01436b9a641a3a6f03452475eba0a"
            }
          },
          "metadata": {}
        },
        {
          "output_type": "display_data",
          "data": {
            "text/plain": [
              "Generating test split:   0%|          | 0/5314 [00:00<?, ? examples/s]"
            ],
            "application/vnd.jupyter.widget-view+json": {
              "version_major": 2,
              "version_minor": 0,
              "model_id": "22fa1c48dfbd41d49368a1b5407d9127"
            }
          },
          "metadata": {}
        },
        {
          "output_type": "display_data",
          "data": {
            "text/plain": [
              "README.md:   0%|          | 0.00/3.25k [00:00<?, ?B/s]"
            ],
            "application/vnd.jupyter.widget-view+json": {
              "version_major": 2,
              "version_minor": 0,
              "model_id": "7b47ad9b71464dffaf6737196f4c48b8"
            }
          },
          "metadata": {}
        },
        {
          "output_type": "display_data",
          "data": {
            "text/plain": [
              "PMC-Patients.csv:   0%|          | 0.00/545M [00:00<?, ?B/s]"
            ],
            "application/vnd.jupyter.widget-view+json": {
              "version_major": 2,
              "version_minor": 0,
              "model_id": "cbd7ba8ffb7d498f85e2a26dbf6e3095"
            }
          },
          "metadata": {}
        },
        {
          "output_type": "display_data",
          "data": {
            "text/plain": [
              "Generating train split:   0%|          | 0/167034 [00:00<?, ? examples/s]"
            ],
            "application/vnd.jupyter.widget-view+json": {
              "version_major": 2,
              "version_minor": 0,
              "model_id": "a4fbb97b15b6450a8abb84779c210a67"
            }
          },
          "metadata": {}
        },
        {
          "output_type": "stream",
          "name": "stdout",
          "text": [
            "Processing dataset: law\n"
          ]
        },
        {
          "output_type": "stream",
          "name": "stderr",
          "text": [
            "\n",
            "\n",
            "Processing law dataset:   0%|          | 0/500 [00:00<?, ?it/s]\u001b[A\u001b[A/usr/local/lib/python3.10/dist-packages/spacy/language.py:2195: FutureWarning: Possible set union at position 6328\n",
            "  deserializers[\"tokenizer\"] = lambda p: self.tokenizer.from_disk(  # type: ignore[union-attr]\n",
            "Building prefix dict from the default dictionary ...\n",
            "DEBUG:jieba:Building prefix dict from the default dictionary ...\n",
            "Dumping model to file cache /tmp/jieba.cache\n",
            "DEBUG:jieba:Dumping model to file cache /tmp/jieba.cache\n",
            "Loading model cost 0.901 seconds.\n",
            "DEBUG:jieba:Loading model cost 0.901 seconds.\n",
            "Prefix dict has been built successfully.\n",
            "DEBUG:jieba:Prefix dict has been built successfully.\n",
            "\n",
            "\n",
            "Processing law dataset:   0%|          | 1/500 [00:14<1:57:24, 14.12s/it]\u001b[A\u001b[A"
          ]
        },
        {
          "output_type": "stream",
          "name": "stdout",
          "text": [
            "Appended result to Google Drive file: [1, 0.5, 0.625, 0.5697796405469582, 0.6140631869857421, 0.0, 0.0]\n"
          ]
        },
        {
          "output_type": "stream",
          "name": "stderr",
          "text": [
            "\n",
            "\n",
            "Processing law dataset:   0%|          | 2/500 [00:26<1:47:19, 12.93s/it]\u001b[A\u001b[A"
          ]
        },
        {
          "output_type": "stream",
          "name": "stdout",
          "text": [
            "Appended result to Google Drive file: [2, 0.4035087719298246, 0.7719298245614035, 0.7011209191537061, 0.7208483838103176, 1.2919896640826873, 0.0]\n"
          ]
        },
        {
          "output_type": "stream",
          "name": "stderr",
          "text": [
            "\n",
            "\n",
            "Processing law dataset:   1%|          | 3/500 [00:34<1:29:36, 10.82s/it]\u001b[A\u001b[A"
          ]
        },
        {
          "output_type": "stream",
          "name": "stdout",
          "text": [
            "Appended result to Google Drive file: [3, 0.125, 0.7083333333333333, 0.7777777777777777, 0.7540626389682994, 53.57142857142857, 4.1208791208791204]\n"
          ]
        },
        {
          "output_type": "stream",
          "name": "stderr",
          "text": [
            "\n",
            "\n",
            "Processing law dataset:   1%|          | 4/500 [00:45<1:31:14, 11.04s/it]\u001b[A\u001b[A"
          ]
        },
        {
          "output_type": "stream",
          "name": "stdout",
          "text": [
            "Appended result to Google Drive file: [4, 0.33333333333333337, 0.5757575757575757, 0.5275622780352652, 0.7602172813569873, 4.601226993865031, 1.3297872340425532]\n"
          ]
        },
        {
          "output_type": "stream",
          "name": "stderr",
          "text": [
            "\n",
            "\n",
            "Processing law dataset:   1%|          | 5/500 [00:56<1:28:55, 10.78s/it]\u001b[A\u001b[A"
          ]
        },
        {
          "output_type": "stream",
          "name": "stdout",
          "text": [
            "Appended result to Google Drive file: [5, 0.2222222222222222, 0.7592592592592593, 0.5774400624202014, 0.4298245614035088, 4.82315112540193, 3.0120481927710845]\n"
          ]
        },
        {
          "output_type": "stream",
          "name": "stderr",
          "text": [
            "\n",
            "\n",
            "Processing law dataset:   1%|          | 6/500 [01:05<1:25:52, 10.43s/it]\u001b[A\u001b[A"
          ]
        },
        {
          "output_type": "stream",
          "name": "stdout",
          "text": [
            "Appended result to Google Drive file: [6, 0.6060606060606061, 1.0, 0.7209381955144667, 0.861111111111111, 3.562945368171022, 6.369426751592357]\n"
          ]
        },
        {
          "output_type": "stream",
          "name": "stderr",
          "text": [
            "\n",
            "\n",
            "Processing law dataset:   1%|▏         | 7/500 [01:18<1:31:48, 11.17s/it]\u001b[A\u001b[A"
          ]
        },
        {
          "output_type": "stream",
          "name": "stdout",
          "text": [
            "Appended result to Google Drive file: [7, 0.33333333333333337, 0.7083333333333333, 0.5408805031446541, 0.3408480944712829, 0.0, 2.1645021645021645]\n"
          ]
        },
        {
          "output_type": "stream",
          "name": "stderr",
          "text": [
            "\n",
            "\n",
            "Processing law dataset:   2%|▏         | 8/500 [01:30<1:34:03, 11.47s/it]\u001b[A\u001b[A"
          ]
        },
        {
          "output_type": "stream",
          "name": "stdout",
          "text": [
            "Appended result to Google Drive file: [8, 0.25, 0.9166666666666666, 0.21117561683599417, 0.35922391555492256, 0.0, 1.6286644951140066]\n"
          ]
        },
        {
          "output_type": "stream",
          "name": "stderr",
          "text": [
            "\n",
            "\n",
            "Processing law dataset:   2%|▏         | 9/500 [01:43<1:36:07, 11.75s/it]\u001b[A\u001b[A"
          ]
        },
        {
          "output_type": "stream",
          "name": "stdout",
          "text": [
            "Appended result to Google Drive file: [9, 0.48484848484848486, 0.7272727272727273, 0.4878970794463752, 0.5815850815850815, 4.010695187165775, 4.347826086956521]\n"
          ]
        },
        {
          "output_type": "stream",
          "name": "stderr",
          "text": [
            "\n",
            "\n",
            "Processing law dataset:   2%|▏         | 10/500 [01:56<1:41:01, 12.37s/it]\u001b[A\u001b[A"
          ]
        },
        {
          "output_type": "stream",
          "name": "stdout",
          "text": [
            "Appended result to Google Drive file: [10, 0.4444444444444444, 0.6222222222222222, 0.5940490132292345, 0.6773132017034457, 3.095975232198142, 4.0]\n"
          ]
        },
        {
          "output_type": "stream",
          "name": "stderr",
          "text": [
            "\n",
            "\n",
            "Processing law dataset:   2%|▏         | 11/500 [02:10<1:43:37, 12.71s/it]\u001b[A\u001b[A"
          ]
        },
        {
          "output_type": "stream",
          "name": "stdout",
          "text": [
            "Appended result to Google Drive file: [11, 0.4509803921568627, 0.5294117647058824, 0.47459849929328285, 0.6008454106280193, 5.639097744360902, 5.952380952380952]\n"
          ]
        },
        {
          "output_type": "stream",
          "name": "stderr",
          "text": [
            "\n",
            "\n",
            "Processing law dataset:   2%|▏         | 12/500 [02:21<1:39:09, 12.19s/it]\u001b[A\u001b[A"
          ]
        },
        {
          "output_type": "stream",
          "name": "stdout",
          "text": [
            "Appended result to Google Drive file: [12, 0.43333333333333335, 0.8333333333333334, 0.5073911155581566, 0.7099673202614379, 4.329004329004329, 9.174311926605503]\n"
          ]
        },
        {
          "output_type": "stream",
          "name": "stderr",
          "text": [
            "\n",
            "\n",
            "Processing law dataset:   3%|▎         | 13/500 [02:39<1:54:21, 14.09s/it]\u001b[A\u001b[A"
          ]
        },
        {
          "output_type": "stream",
          "name": "stdout",
          "text": [
            "Appended result to Google Drive file: [13, 0.6, 1.1333333333333333, 0.4832747456059205, 0.7140825035561877, 5.415162454873645, 3.8759689922480627]\n"
          ]
        },
        {
          "output_type": "stream",
          "name": "stderr",
          "text": [
            "\n",
            "\n",
            "Processing law dataset:   3%|▎         | 14/500 [02:54<1:54:26, 14.13s/it]\u001b[A\u001b[A"
          ]
        },
        {
          "output_type": "stream",
          "name": "stdout",
          "text": [
            "Appended result to Google Drive file: [14, 0.29166666666666663, 0.8125, 0.49685504971219263, 0.9555555555555556, 5.769230769230769, 8.15217391304348]\n"
          ]
        },
        {
          "output_type": "stream",
          "name": "stderr",
          "text": [
            "\n",
            "\n",
            "Processing law dataset:   3%|▎         | 15/500 [03:08<1:56:09, 14.37s/it]\u001b[A\u001b[A"
          ]
        },
        {
          "output_type": "stream",
          "name": "stdout",
          "text": [
            "Appended result to Google Drive file: [15, 0.33333333333333337, 0.5128205128205128, 0.6179867046533714, 0.39441333831031483, 3.26797385620915, 4.484304932735426]\n"
          ]
        },
        {
          "output_type": "stream",
          "name": "stderr",
          "text": [
            "\n",
            "\n",
            "Processing law dataset:   3%|▎         | 16/500 [03:27<2:04:48, 15.47s/it]\u001b[A\u001b[A"
          ]
        },
        {
          "output_type": "stream",
          "name": "stdout",
          "text": [
            "Appended result to Google Drive file: [16, 0.8055555555555556, 1.3055555555555556, 0.7672919380518165, 0.7299528301886792, 5.235602094240837, 4.11522633744856]\n"
          ]
        },
        {
          "output_type": "stream",
          "name": "stderr",
          "text": [
            "\n",
            "\n",
            "Processing law dataset:   3%|▎         | 17/500 [03:41<2:02:28, 15.21s/it]\u001b[A\u001b[A"
          ]
        },
        {
          "output_type": "stream",
          "name": "stdout",
          "text": [
            "Appended result to Google Drive file: [17, 0.4509803921568627, 0.5098039215686274, 0.42598938223938226, 0.28555555555555556, 7.281553398058254, 4.424778761061947]\n"
          ]
        },
        {
          "output_type": "stream",
          "name": "stderr",
          "text": [
            "\n",
            "\n",
            "Processing law dataset:   4%|▎         | 18/500 [04:01<2:12:30, 16.50s/it]\u001b[A\u001b[A"
          ]
        },
        {
          "output_type": "stream",
          "name": "stdout",
          "text": [
            "Appended result to Google Drive file: [18, 0.43333333333333335, 0.6333333333333333, 0.5790343915343915, 0.3733231423503935, 4.792332268370606, 2.2522522522522523]\n"
          ]
        },
        {
          "output_type": "stream",
          "name": "stderr",
          "text": [
            "\n",
            "\n",
            "Processing law dataset:   4%|▍         | 19/500 [04:14<2:04:57, 15.59s/it]\u001b[A\u001b[A"
          ]
        },
        {
          "output_type": "stream",
          "name": "stdout",
          "text": [
            "Appended result to Google Drive file: [19, 0.5882352941176471, 0.4509803921568627, 0.7096863781074307, 0.46864111498257843, 2.2026431718061676, 2.659574468085107]\n"
          ]
        },
        {
          "output_type": "stream",
          "name": "stderr",
          "text": [
            "\n",
            "\n",
            "Processing law dataset:   4%|▍         | 20/500 [04:30<2:05:08, 15.64s/it]\u001b[A\u001b[A"
          ]
        },
        {
          "output_type": "stream",
          "name": "stdout",
          "text": [
            "Appended result to Google Drive file: [20, 0.36363636363636365, 0.8787878787878788, 0.2839506172839506, 0.40902066486972144, 6.4655172413793105, 6.024096385542169]\n"
          ]
        },
        {
          "output_type": "stream",
          "name": "stderr",
          "text": [
            "\n",
            "\n",
            "Processing law dataset:   4%|▍         | 21/500 [04:47<2:07:32, 15.97s/it]\u001b[A\u001b[A"
          ]
        },
        {
          "output_type": "stream",
          "name": "stdout",
          "text": [
            "Appended result to Google Drive file: [21, 0.6041666666666667, 0.875, 0.46228718347593123, 0.5337809036658141, 3.6231884057971016, 4.166666666666666]\n"
          ]
        },
        {
          "output_type": "stream",
          "name": "stderr",
          "text": [
            "\n",
            "\n",
            "Processing law dataset:   4%|▍         | 22/500 [05:07<2:16:42, 17.16s/it]\u001b[A\u001b[A"
          ]
        },
        {
          "output_type": "stream",
          "name": "stdout",
          "text": [
            "Appended result to Google Drive file: [22, 0.26190476190476186, 0.6666666666666667, 0.7287409108304631, 0.8333078958078959, 1.1848341232227488, 1.1389521640091116]\n"
          ]
        },
        {
          "output_type": "stream",
          "name": "stderr",
          "text": [
            "\n",
            "\n",
            "Processing law dataset:   5%|▍         | 23/500 [05:28<2:26:02, 18.37s/it]\u001b[A\u001b[A"
          ]
        },
        {
          "output_type": "stream",
          "name": "stdout",
          "text": [
            "Appended result to Google Drive file: [23, 0.3529411764705882, 0.9411764705882353, 0.6005757772220679, 1.0, 3.7593984962406015, 5.46448087431694]\n"
          ]
        },
        {
          "output_type": "stream",
          "name": "stderr",
          "text": [
            "\n",
            "\n",
            "Processing law dataset:   5%|▍         | 24/500 [05:45<2:22:06, 17.91s/it]\u001b[A\u001b[A"
          ]
        },
        {
          "output_type": "stream",
          "name": "stdout",
          "text": [
            "Appended result to Google Drive file: [24, 0.3921568627450981, 1.1764705882352942, 0.5371936673172848, 0.265608655966634, 3.4364261168384878, 0.6596306068601583]\n"
          ]
        },
        {
          "output_type": "stream",
          "name": "stderr",
          "text": [
            "\n",
            "\n",
            "Processing law dataset:   5%|▌         | 25/500 [05:59<2:14:41, 17.01s/it]\u001b[A\u001b[A"
          ]
        },
        {
          "output_type": "stream",
          "name": "stdout",
          "text": [
            "Appended result to Google Drive file: [25, 0.7222222222222222, 0.8055555555555556, 0.6169741605911818, 0.6945060359694506, 5.639097744360902, 6.437768240343349]\n"
          ]
        },
        {
          "output_type": "stream",
          "name": "stderr",
          "text": [
            "\n",
            "\n",
            "Processing law dataset:   5%|▌         | 26/500 [06:19<2:21:07, 17.86s/it]\u001b[A\u001b[A"
          ]
        },
        {
          "output_type": "stream",
          "name": "stdout",
          "text": [
            "Appended result to Google Drive file: [26, 0.6666666666666667, 1.0, 0.5004033071183707, 0.8557504873294347, 3.3783783783783785, 9.803921568627452]\n"
          ]
        },
        {
          "output_type": "stream",
          "name": "stderr",
          "text": [
            "\n",
            "\n",
            "Processing law dataset:   5%|▌         | 27/500 [06:37<2:19:35, 17.71s/it]\u001b[A\u001b[A"
          ]
        },
        {
          "output_type": "stream",
          "name": "stdout",
          "text": [
            "Appended result to Google Drive file: [27, 0.7222222222222222, 0.5277777777777778, 0.6504504504504504, 0.4104575163398693, 4.4642857142857135, 4.032258064516129]\n"
          ]
        },
        {
          "output_type": "stream",
          "name": "stderr",
          "text": [
            "\n",
            "\n",
            "Processing law dataset:   6%|▌         | 28/500 [06:55<2:20:35, 17.87s/it]\u001b[A\u001b[A"
          ]
        },
        {
          "output_type": "stream",
          "name": "stdout",
          "text": [
            "Appended result to Google Drive file: [28, 0.29166666666666663, 0.5, 0.4877269426289034, 0.5645233611335306, 0.0, 0.0]\n"
          ]
        },
        {
          "output_type": "stream",
          "name": "stderr",
          "text": [
            "\n",
            "\n",
            "Processing law dataset:   6%|▌         | 29/500 [07:15<2:26:02, 18.60s/it]\u001b[A\u001b[A"
          ]
        },
        {
          "output_type": "stream",
          "name": "stdout",
          "text": [
            "Appended result to Google Drive file: [29, 0.5833333333333333, 1.4791666666666667, 0.6474318079581237, 0.47185325743200507, 5.033557046979866, 2.3584905660377355]\n"
          ]
        },
        {
          "output_type": "stream",
          "name": "stderr",
          "text": [
            "\n",
            "\n",
            "Processing law dataset:   6%|▌         | 30/500 [07:32<2:21:19, 18.04s/it]\u001b[A\u001b[A"
          ]
        },
        {
          "output_type": "stream",
          "name": "stdout",
          "text": [
            "Appended result to Google Drive file: [30, 0.25, 0.75, 0.4353065338980832, 0.748424369747899, 2.8653295128939824, 0.0]\n"
          ]
        },
        {
          "output_type": "stream",
          "name": "stderr",
          "text": [
            "\n",
            "\n",
            "Processing law dataset:   6%|▌         | 31/500 [07:45<2:08:50, 16.48s/it]\u001b[A\u001b[A"
          ]
        },
        {
          "output_type": "stream",
          "name": "stdout",
          "text": [
            "Appended result to Google Drive file: [31, 0.6140350877192983, 0.9298245614035088, 0.5716451450939101, 0.8035714285714285, 1.6129032258064515, 0.0]\n"
          ]
        },
        {
          "output_type": "stream",
          "name": "stderr",
          "text": [
            "\n",
            "\n",
            "Processing law dataset:   6%|▋         | 32/500 [07:58<2:01:13, 15.54s/it]\u001b[A\u001b[A"
          ]
        },
        {
          "output_type": "stream",
          "name": "stdout",
          "text": [
            "Appended result to Google Drive file: [32, 0.2666666666666667, 0.30000000000000004, 0.4169681250426592, 0.7971901011116698, 5.10204081632653, 3.7128712871287135]\n"
          ]
        },
        {
          "output_type": "stream",
          "name": "stderr",
          "text": [
            "\n",
            "\n",
            "Processing law dataset:   7%|▋         | 33/500 [08:09<1:48:55, 13.99s/it]\u001b[A\u001b[A"
          ]
        },
        {
          "output_type": "stream",
          "name": "stdout",
          "text": [
            "Appended result to Google Drive file: [33, 0.24444444444444446, 1.0, 0.30061736261557853, 0.9215686274509803, 9.25925925925926, 3.8759689922480627]\n"
          ]
        },
        {
          "output_type": "stream",
          "name": "stderr",
          "text": [
            "\n",
            "\n",
            "Processing law dataset:   7%|▋         | 34/500 [08:21<1:44:30, 13.46s/it]\u001b[A\u001b[A"
          ]
        },
        {
          "output_type": "stream",
          "name": "stdout",
          "text": [
            "Appended result to Google Drive file: [34, 0.7222222222222222, 1.5833333333333335, 0.6191137566137567, 0.515915800282377, 3.8759689922480627, 4.3604651162790695]\n"
          ]
        },
        {
          "output_type": "stream",
          "name": "stderr",
          "text": [
            "\n",
            "\n",
            "Processing law dataset:   7%|▋         | 35/500 [08:36<1:47:48, 13.91s/it]\u001b[A\u001b[A"
          ]
        },
        {
          "output_type": "stream",
          "name": "stdout",
          "text": [
            "Appended result to Google Drive file: [35, 0.375, 0.6666666666666667, 0.4589598997493734, 0.28821271511731356, 0.0, 0.0]\n"
          ]
        },
        {
          "output_type": "stream",
          "name": "stderr",
          "text": [
            "\n",
            "\n",
            "Processing law dataset:   7%|▋         | 36/500 [08:48<1:43:14, 13.35s/it]\u001b[A\u001b[A"
          ]
        },
        {
          "output_type": "stream",
          "name": "stdout",
          "text": [
            "Appended result to Google Drive file: [36, 0.6428571428571428, 0.8333333333333334, 0.4509231091151995, 0.3741213741213741, 5.338078291814947, 9.67741935483871]\n"
          ]
        },
        {
          "output_type": "stream",
          "name": "stderr",
          "text": [
            "\n",
            "\n",
            "Processing law dataset:   7%|▋         | 37/500 [09:03<1:47:58, 13.99s/it]\u001b[A\u001b[A"
          ]
        },
        {
          "output_type": "stream",
          "name": "stdout",
          "text": [
            "Appended result to Google Drive file: [37, 0.40476190476190477, 0.7857142857142857, 0.5001900224056269, 1.0, 2.0120724346076457, 3.4013605442176873]\n"
          ]
        },
        {
          "output_type": "stream",
          "name": "stderr",
          "text": [
            "\n",
            "\n",
            "Processing law dataset:   8%|▊         | 38/500 [09:19<1:51:17, 14.45s/it]\u001b[A\u001b[A"
          ]
        },
        {
          "output_type": "stream",
          "name": "stdout",
          "text": [
            "Appended result to Google Drive file: [38, 0.22807017543859653, 1.6666666666666665, 0.34673923800098966, 0.6565086294345219, 4.545454545454546, 1.0266940451745379]\n"
          ]
        },
        {
          "output_type": "stream",
          "name": "stderr",
          "text": [
            "\n",
            "\n",
            "Processing law dataset:   8%|▊         | 39/500 [09:36<1:56:40, 15.18s/it]\u001b[A\u001b[A"
          ]
        },
        {
          "output_type": "stream",
          "name": "stdout",
          "text": [
            "Appended result to Google Drive file: [39, 0.20512820512820518, 0.6666666666666667, 0.4961013645224172, 0.3412731806139941, 3.778337531486146, 4.587155963302752]\n"
          ]
        },
        {
          "output_type": "stream",
          "name": "stderr",
          "text": [
            "\n",
            "\n",
            "Processing law dataset:   8%|▊         | 40/500 [09:50<1:54:22, 14.92s/it]\u001b[A\u001b[A"
          ]
        },
        {
          "output_type": "stream",
          "name": "stdout",
          "text": [
            "Appended result to Google Drive file: [40, 0.4871794871794872, 0.717948717948718, 0.5183368273934311, 0.34848484848484845, 4.016064257028113, 2.762430939226519]\n"
          ]
        },
        {
          "output_type": "stream",
          "name": "stderr",
          "text": [
            "\n",
            "\n",
            "Processing law dataset:   8%|▊         | 41/500 [10:07<1:59:29, 15.62s/it]\u001b[A\u001b[A"
          ]
        },
        {
          "output_type": "stream",
          "name": "stdout",
          "text": [
            "Appended result to Google Drive file: [41, 0.38888888888888884, 0.7222222222222222, 0.41289294509633495, 0.5718373275236021, 4.477611940298507, 6.8493150684931505]\n"
          ]
        },
        {
          "output_type": "stream",
          "name": "stderr",
          "text": [
            "\n",
            "\n",
            "Processing law dataset:   8%|▊         | 42/500 [10:18<1:48:24, 14.20s/it]\u001b[A\u001b[A"
          ]
        },
        {
          "output_type": "stream",
          "name": "stdout",
          "text": [
            "Appended result to Google Drive file: [42, 0.75, 0.9791666666666666, 0.7688457688457689, 0.5865865865865866, 4.23728813559322, 2.304147465437788]\n"
          ]
        },
        {
          "output_type": "stream",
          "name": "stderr",
          "text": [
            "\n",
            "\n",
            "Processing law dataset:   9%|▊         | 43/500 [10:30<1:42:55, 13.51s/it]\u001b[A\u001b[A"
          ]
        },
        {
          "output_type": "stream",
          "name": "stdout",
          "text": [
            "Appended result to Google Drive file: [43, 0.5238095238095238, 0.6904761904761905, 0.681464317677492, 0.37691845847874217, 1.3698630136986303, 0.0]\n"
          ]
        },
        {
          "output_type": "stream",
          "name": "stderr",
          "text": [
            "\n",
            "\n",
            "Processing law dataset:   9%|▉         | 44/500 [10:42<1:38:31, 12.96s/it]\u001b[A\u001b[A"
          ]
        },
        {
          "output_type": "stream",
          "name": "stdout",
          "text": [
            "Appended result to Google Drive file: [44, 0.6666666666666667, 0.8245614035087719, 0.5900302818541813, 0.2207157520605448, 5.434782608695652, 0.0]\n"
          ]
        },
        {
          "output_type": "stream",
          "name": "stderr",
          "text": [
            "\n",
            "\n",
            "Processing law dataset:   9%|▉         | 45/500 [10:56<1:41:24, 13.37s/it]\u001b[A\u001b[A"
          ]
        },
        {
          "output_type": "stream",
          "name": "stdout",
          "text": [
            "Appended result to Google Drive file: [45, 0.717948717948718, 1.3333333333333333, 0.6225301739907928, 0.3812433862433862, 3.4246575342465757, 3.6057692307692304]\n"
          ]
        },
        {
          "output_type": "stream",
          "name": "stderr",
          "text": [
            "\n",
            "\n",
            "Processing law dataset:   9%|▉         | 46/500 [11:11<1:45:23, 13.93s/it]\u001b[A\u001b[A"
          ]
        },
        {
          "output_type": "stream",
          "name": "stdout",
          "text": [
            "Appended result to Google Drive file: [46, 0.5476190476190477, 0.8571428571428572, 0.39341371035360106, 0.9333333333333332, 1.633986928104575, 0.0]\n"
          ]
        },
        {
          "output_type": "stream",
          "name": "stderr",
          "text": [
            "\n",
            "\n",
            "Processing law dataset:   9%|▉         | 47/500 [11:25<1:44:43, 13.87s/it]\u001b[A\u001b[A"
          ]
        },
        {
          "output_type": "stream",
          "name": "stdout",
          "text": [
            "Appended result to Google Drive file: [47, 0.2962962962962963, 0.7407407407407407, 0.4157502421322348, 0.43145299145299143, 4.115226337448559, 6.198347107438017]\n"
          ]
        },
        {
          "output_type": "stream",
          "name": "stderr",
          "text": [
            "\n",
            "\n",
            "Processing law dataset:  10%|▉         | 48/500 [11:36<1:37:38, 12.96s/it]\u001b[A\u001b[A"
          ]
        },
        {
          "output_type": "stream",
          "name": "stdout",
          "text": [
            "Appended result to Google Drive file: [48, 0.41666666666666663, 0.7666666666666666, 0.46212121212121215, 0.4840686274509804, 6.4102564102564115, 6.41025641025641]\n"
          ]
        },
        {
          "output_type": "stream",
          "name": "stderr",
          "text": [
            "\n",
            "\n",
            "Processing law dataset:  10%|▉         | 49/500 [11:53<1:46:22, 14.15s/it]\u001b[A\u001b[A"
          ]
        },
        {
          "output_type": "stream",
          "name": "stdout",
          "text": [
            "Appended result to Google Drive file: [49, 0.4242424242424242, 1.0606060606060606, 0.5626959247648903, 0.6544323671497584, 5.1194539249146755, 5.376344086021505]\n"
          ]
        },
        {
          "output_type": "stream",
          "name": "stderr",
          "text": [
            "\n",
            "\n",
            "Processing law dataset:  10%|█         | 50/500 [12:11<1:55:00, 15.33s/it]\u001b[A\u001b[A"
          ]
        },
        {
          "output_type": "stream",
          "name": "stdout",
          "text": [
            "Appended result to Google Drive file: [50, 0.5, 1.2142857142857142, 0.6084588424741878, 0.9298029556650246, 1.0080645161290323, 3.640776699029126]\n"
          ]
        },
        {
          "output_type": "stream",
          "name": "stderr",
          "text": [
            "\n",
            "\n",
            "Processing law dataset:  10%|█         | 51/500 [12:28<1:59:38, 15.99s/it]\u001b[A\u001b[A"
          ]
        },
        {
          "output_type": "stream",
          "name": "stdout",
          "text": [
            "Appended result to Google Drive file: [51, 0.5882352941176471, 0.6274509803921569, 0.6882979577002771, 0.3613507960965588, 2.840909090909091, 3.6101083032490973]\n"
          ]
        },
        {
          "output_type": "stream",
          "name": "stderr",
          "text": [
            "\n",
            "\n",
            "Processing law dataset:  10%|█         | 52/500 [12:41<1:51:14, 14.90s/it]\u001b[A\u001b[A"
          ]
        },
        {
          "output_type": "stream",
          "name": "stdout",
          "text": [
            "Appended result to Google Drive file: [52, 0.9583333333333334, 0.8958333333333334, 0.5562215562215562, 0.43492063492063493, 6.382978723404256, 4.8076923076923075]\n"
          ]
        },
        {
          "output_type": "stream",
          "name": "stderr",
          "text": [
            "\n",
            "\n",
            "Processing law dataset:  11%|█         | 53/500 [12:55<1:49:18, 14.67s/it]\u001b[A\u001b[A"
          ]
        },
        {
          "output_type": "stream",
          "name": "stdout",
          "text": [
            "Appended result to Google Drive file: [53, 0.38095238095238093, 0.8571428571428572, 0.6476217281170841, 0.9393939393939394, 3.0769230769230766, 0.0]\n"
          ]
        },
        {
          "output_type": "stream",
          "name": "stderr",
          "text": [
            "\n",
            "\n",
            "Processing law dataset:  11%|█         | 54/500 [13:08<1:46:39, 14.35s/it]\u001b[A\u001b[A"
          ]
        },
        {
          "output_type": "stream",
          "name": "stdout",
          "text": [
            "Appended result to Google Drive file: [54, 0.6923076923076923, 0.7435897435897436, 0.5464651639344262, 0.7156665433468984, 4.0983606557377055, 4.464285714285714]\n"
          ]
        },
        {
          "output_type": "stream",
          "name": "stderr",
          "text": [
            "\n",
            "\n",
            "Processing law dataset:  11%|█         | 55/500 [13:19<1:36:50, 13.06s/it]\u001b[A\u001b[A"
          ]
        },
        {
          "output_type": "stream",
          "name": "stdout",
          "text": [
            "Appended result to Google Drive file: [55, 0.2564102564102564, 0.641025641025641, 0.3891898279447911, 0.8811274509803922, 6.756756756756756, 6.369426751592357]\n"
          ]
        },
        {
          "output_type": "stream",
          "name": "stderr",
          "text": [
            "\n",
            "\n",
            "Processing law dataset:  11%|█         | 56/500 [13:36<1:46:36, 14.41s/it]\u001b[A\u001b[A"
          ]
        },
        {
          "output_type": "stream",
          "name": "stdout",
          "text": [
            "Appended result to Google Drive file: [56, 0.2666666666666667, 0.8166666666666667, 0.522157054415119, 0.4546628679962013, 3.278688524590164, 0.0]\n"
          ]
        },
        {
          "output_type": "stream",
          "name": "stderr",
          "text": [
            "\n",
            "\n",
            "Processing law dataset:  11%|█▏        | 57/500 [13:52<1:50:06, 14.91s/it]\u001b[A\u001b[A"
          ]
        },
        {
          "output_type": "stream",
          "name": "stdout",
          "text": [
            "Appended result to Google Drive file: [57, 0.375, 0.7083333333333333, 0.5754329004329005, 0.4375, 4.694835680751173, 3.378378378378378]\n"
          ]
        },
        {
          "output_type": "stream",
          "name": "stderr",
          "text": [
            "\n",
            "\n",
            "Processing law dataset:  12%|█▏        | 58/500 [14:07<1:49:15, 14.83s/it]\u001b[A\u001b[A"
          ]
        },
        {
          "output_type": "stream",
          "name": "stdout",
          "text": [
            "Appended result to Google Drive file: [58, 0.4492753623188406, 0.6086956521739131, 0.8033333333333332, 0.7572327044025157, 4.2735042735042725, 4.504504504504505]\n"
          ]
        },
        {
          "output_type": "stream",
          "name": "stderr",
          "text": [
            "\n",
            "\n",
            "Processing law dataset:  12%|█▏        | 59/500 [14:21<1:46:58, 14.55s/it]\u001b[A\u001b[A"
          ]
        },
        {
          "output_type": "stream",
          "name": "stdout",
          "text": [
            "Appended result to Google Drive file: [59, 0.5185185185185186, 0.7777777777777778, 0.5353753753753754, 0.3064194577352472, 1.3550135501355012, 2.0]\n"
          ]
        },
        {
          "output_type": "stream",
          "name": "stderr",
          "text": [
            "\n",
            "\n",
            "Processing law dataset:  12%|█▏        | 60/500 [14:33<1:41:55, 13.90s/it]\u001b[A\u001b[A"
          ]
        },
        {
          "output_type": "stream",
          "name": "stdout",
          "text": [
            "Appended result to Google Drive file: [60, 0.5185185185185186, 0.8888888888888888, 0.6877747252747253, 0.6878306652132715, 2.638522427440633, 2.717391304347826]\n"
          ]
        },
        {
          "output_type": "stream",
          "name": "stderr",
          "text": [
            "\n",
            "\n",
            "Processing law dataset:  12%|█▏        | 61/500 [14:46<1:38:42, 13.49s/it]\u001b[A\u001b[A"
          ]
        },
        {
          "output_type": "stream",
          "name": "stdout",
          "text": [
            "Appended result to Google Drive file: [61, 0.4545454545454546, 1.3636363636363638, 0.6602204106280193, 0.4141414141414141, 4.2492917847025495, 0.0]\n"
          ]
        },
        {
          "output_type": "stream",
          "name": "stderr",
          "text": [
            "\n",
            "\n",
            "Processing law dataset:  12%|█▏        | 62/500 [15:01<1:42:04, 13.98s/it]\u001b[A\u001b[A"
          ]
        },
        {
          "output_type": "stream",
          "name": "stdout",
          "text": [
            "Appended result to Google Drive file: [62, 0.3111111111111111, 0.6888888888888889, 0.633139440404081, 0.6237818801659537, 3.4324942791762005, 2.4330900243309004]\n"
          ]
        },
        {
          "output_type": "stream",
          "name": "stderr",
          "text": [
            "\n",
            "\n",
            "Processing law dataset:  13%|█▎        | 63/500 [15:19<1:50:37, 15.19s/it]\u001b[A\u001b[A"
          ]
        },
        {
          "output_type": "stream",
          "name": "stdout",
          "text": [
            "Appended result to Google Drive file: [63, 0.9019607843137255, 1.803921568627451, 0.5846426253435864, 0.6410988949188764, 3.53356890459364, 3.03030303030303]\n"
          ]
        },
        {
          "output_type": "stream",
          "name": "stderr",
          "text": [
            "\n",
            "\n",
            "Processing law dataset:  13%|█▎        | 64/500 [15:34<1:50:28, 15.20s/it]\u001b[A\u001b[A"
          ]
        },
        {
          "output_type": "stream",
          "name": "stdout",
          "text": [
            "Appended result to Google Drive file: [64, 0.6923076923076923, 0.717948717948718, 0.5582312925170068, 0.5849731663685153, 3.448275862068965, 5.434782608695652]\n"
          ]
        },
        {
          "output_type": "stream",
          "name": "stderr",
          "text": [
            "\n",
            "\n",
            "Processing law dataset:  13%|█▎        | 65/500 [15:49<1:50:47, 15.28s/it]\u001b[A\u001b[A"
          ]
        },
        {
          "output_type": "stream",
          "name": "stdout",
          "text": [
            "Appended result to Google Drive file: [65, 0.5, 0.7407407407407407, 0.7370633242726266, 0.8007504690431521, 4.601226993865031, 4.687500000000001]\n"
          ]
        },
        {
          "output_type": "stream",
          "name": "stderr",
          "text": [
            "\n",
            "\n",
            "Processing law dataset:  13%|█▎        | 66/500 [16:00<1:40:27, 13.89s/it]\u001b[A\u001b[A"
          ]
        },
        {
          "output_type": "stream",
          "name": "stdout",
          "text": [
            "Appended result to Google Drive file: [66, 0.5476190476190477, 0.9285714285714286, 0.5609649122807018, 1.0, 0.0, 0.0]\n"
          ]
        },
        {
          "output_type": "stream",
          "name": "stderr",
          "text": [
            "\n",
            "\n",
            "Processing law dataset:  13%|█▎        | 67/500 [16:19<1:50:27, 15.31s/it]\u001b[A\u001b[A"
          ]
        },
        {
          "output_type": "stream",
          "name": "stdout",
          "text": [
            "Appended result to Google Drive file: [67, 0.0, 0.6060606060606061, 0.8333333333333334, 0.3374406366320113, 35.714285714285715, 5.357142857142857]\n"
          ]
        },
        {
          "output_type": "stream",
          "name": "stderr",
          "text": [
            "\n",
            "\n",
            "Processing law dataset:  14%|█▎        | 68/500 [16:33<1:47:46, 14.97s/it]\u001b[A\u001b[A"
          ]
        },
        {
          "output_type": "stream",
          "name": "stdout",
          "text": [
            "Appended result to Google Drive file: [68, 0.6388888888888888, 0.8888888888888888, 0.7242659814381126, 0.5559006211180124, 1.893939393939394, 0.0]\n"
          ]
        },
        {
          "output_type": "stream",
          "name": "stderr",
          "text": [
            "\n",
            "\n",
            "Processing law dataset:  14%|█▍        | 69/500 [16:48<1:48:27, 15.10s/it]\u001b[A\u001b[A"
          ]
        },
        {
          "output_type": "stream",
          "name": "stdout",
          "text": [
            "Appended result to Google Drive file: [69, 0.607843137254902, 0.7843137254901961, 0.5793650793650794, 0.7218757218757218, 5.7915057915057915, 3.861003861003861]\n"
          ]
        },
        {
          "output_type": "stream",
          "name": "stderr",
          "text": [
            "\n",
            "\n",
            "Processing law dataset:  14%|█▍        | 70/500 [17:05<1:52:31, 15.70s/it]\u001b[A\u001b[A"
          ]
        },
        {
          "output_type": "stream",
          "name": "stdout",
          "text": [
            "Appended result to Google Drive file: [70, 0.0, 1.2380952380952381, 0.5707070707070706, 0.46456140350877195, 31.914893617021278, 2.5]\n"
          ]
        },
        {
          "output_type": "stream",
          "name": "stderr",
          "text": [
            "\n",
            "\n",
            "Processing law dataset:  14%|█▍        | 71/500 [17:19<1:46:47, 14.94s/it]\u001b[A\u001b[A"
          ]
        },
        {
          "output_type": "stream",
          "name": "stdout",
          "text": [
            "Appended result to Google Drive file: [71, 0.37037037037037035, 0.7777777777777778, 0.3714796132828919, 1.0, 1.792114695340502, 10.416666666666668]\n"
          ]
        },
        {
          "output_type": "stream",
          "name": "stderr",
          "text": [
            "\n",
            "\n",
            "Processing law dataset:  14%|█▍        | 72/500 [17:31<1:41:49, 14.27s/it]\u001b[A\u001b[A"
          ]
        },
        {
          "output_type": "stream",
          "name": "stdout",
          "text": [
            "Appended result to Google Drive file: [72, 0.6666666666666667, 0.5625, 0.5009337068160598, 0.17884510125889438, 6.0, 5.747126436781609]\n"
          ]
        },
        {
          "output_type": "stream",
          "name": "stderr",
          "text": [
            "\n",
            "\n",
            "Processing law dataset:  15%|█▍        | 73/500 [17:43<1:37:11, 13.66s/it]\u001b[A\u001b[A"
          ]
        },
        {
          "output_type": "stream",
          "name": "stdout",
          "text": [
            "Appended result to Google Drive file: [73, 1.0666666666666667, 1.2, 0.573167044595616, 0.5740740740740741, 6.302521008403359, 2.2935779816513757]\n"
          ]
        },
        {
          "output_type": "stream",
          "name": "stderr",
          "text": [
            "\n",
            "\n",
            "Processing law dataset:  15%|█▍        | 74/500 [18:01<1:45:07, 14.81s/it]\u001b[A\u001b[A"
          ]
        },
        {
          "output_type": "stream",
          "name": "stdout",
          "text": [
            "Appended result to Google Drive file: [74, 0.1777777777777778, 1.0444444444444445, 0.29865967365967366, 0.3646688680439886, 4.601226993865031, 2.028397565922921]\n"
          ]
        },
        {
          "output_type": "stream",
          "name": "stderr",
          "text": [
            "\n",
            "\n",
            "Processing law dataset:  15%|█▌        | 75/500 [18:15<1:42:52, 14.52s/it]\u001b[A\u001b[A"
          ]
        },
        {
          "output_type": "stream",
          "name": "stdout",
          "text": [
            "Appended result to Google Drive file: [75, 0.30952380952380953, 0.9047619047619048, 0.49130061654013213, 0.8689640768588136, 4.25531914893617, 0.0]\n"
          ]
        },
        {
          "output_type": "stream",
          "name": "stderr",
          "text": [
            "\n",
            "\n",
            "Processing law dataset:  15%|█▌        | 76/500 [18:28<1:39:01, 14.01s/it]\u001b[A\u001b[A"
          ]
        },
        {
          "output_type": "stream",
          "name": "stdout",
          "text": [
            "Appended result to Google Drive file: [76, 0.33333333333333337, 1.1111111111111112, 0.2407230196703881, 0.43330064776846733, 7.772020725388601, 3.588516746411483]\n"
          ]
        },
        {
          "output_type": "stream",
          "name": "stderr",
          "text": [
            "\n",
            "\n",
            "Processing law dataset:  15%|█▌        | 77/500 [18:41<1:37:44, 13.86s/it]\u001b[A\u001b[A"
          ]
        },
        {
          "output_type": "stream",
          "name": "stdout",
          "text": [
            "Appended result to Google Drive file: [77, 0.3125, 0.9375, 0.26600164541341015, 0.9666666666666667, 4.5592705167173255, 3.4722222222222223]\n"
          ]
        },
        {
          "output_type": "stream",
          "name": "stderr",
          "text": [
            "\n",
            "\n",
            "Processing law dataset:  16%|█▌        | 78/500 [18:56<1:39:00, 14.08s/it]\u001b[A\u001b[A"
          ]
        },
        {
          "output_type": "stream",
          "name": "stdout",
          "text": [
            "Appended result to Google Drive file: [78, 0.13888888888888884, 0.9166666666666666, 0.7936143039591315, 0.861111111111111, 1.400560224089636, 2.617801047120419]\n"
          ]
        },
        {
          "output_type": "stream",
          "name": "stderr",
          "text": [
            "\n",
            "\n",
            "Processing law dataset:  16%|█▌        | 79/500 [19:10<1:40:04, 14.26s/it]\u001b[A\u001b[A"
          ]
        },
        {
          "output_type": "stream",
          "name": "stdout",
          "text": [
            "Appended result to Google Drive file: [79, 0.1875, 0.6875, 0.7454545454545455, 0.3624313308523835, 24.390243902439025, 2.857142857142857]\n"
          ]
        },
        {
          "output_type": "stream",
          "name": "stderr",
          "text": [
            "\n",
            "\n",
            "Processing law dataset:  16%|█▌        | 80/500 [19:26<1:42:25, 14.63s/it]\u001b[A\u001b[A"
          ]
        },
        {
          "output_type": "stream",
          "name": "stdout",
          "text": [
            "Appended result to Google Drive file: [80, 0.3111111111111111, 0.8222222222222222, 0.6152046783625731, 0.6118993932061083, 11.494252873563218, 4.8543689320388355]\n"
          ]
        },
        {
          "output_type": "stream",
          "name": "stderr",
          "text": [
            "\n",
            "\n",
            "Processing law dataset:  16%|█▌        | 81/500 [19:40<1:41:20, 14.51s/it]\u001b[A\u001b[A"
          ]
        },
        {
          "output_type": "stream",
          "name": "stdout",
          "text": [
            "Appended result to Google Drive file: [81, 0.48888888888888893, 1.5777777777777777, 0.4192592592592592, 0.4738394503100385, 1.9920318725099602, 0.0]\n"
          ]
        },
        {
          "output_type": "stream",
          "name": "stderr",
          "text": [
            "\n",
            "\n",
            "Processing law dataset:  16%|█▋        | 82/500 [19:55<1:40:47, 14.47s/it]\u001b[A\u001b[A"
          ]
        },
        {
          "output_type": "stream",
          "name": "stdout",
          "text": [
            "Appended result to Google Drive file: [82, 0.2857142857142857, 0.9285714285714286, 0.34577741902936127, 0.8964102564102564, 2.1551724137931036, 8.06451612903226]\n"
          ]
        },
        {
          "output_type": "stream",
          "name": "stderr",
          "text": [
            "\n",
            "\n",
            "Processing law dataset:  17%|█▋        | 83/500 [20:04<1:30:20, 13.00s/it]\u001b[A\u001b[A"
          ]
        },
        {
          "output_type": "stream",
          "name": "stdout",
          "text": [
            "Appended result to Google Drive file: [83, 0.6666666666666667, 0.8518518518518519, 0.4934640522875817, 0.2791146761734997, 4.608294930875576, 0.0]\n"
          ]
        },
        {
          "output_type": "stream",
          "name": "stderr",
          "text": [
            "\n",
            "\n",
            "Processing law dataset:  17%|█▋        | 84/500 [20:18<1:31:58, 13.27s/it]\u001b[A\u001b[A"
          ]
        },
        {
          "output_type": "stream",
          "name": "stdout",
          "text": [
            "Appended result to Google Drive file: [84, 0.9824561403508771, 1.087719298245614, 0.6392496392496393, 0.4846153846153846, 4.385964912280701, 4.601226993865031]\n"
          ]
        },
        {
          "output_type": "stream",
          "name": "stderr",
          "text": [
            "\n",
            "\n",
            "Processing law dataset:  17%|█▋        | 85/500 [20:29<1:26:10, 12.46s/it]\u001b[A\u001b[A"
          ]
        },
        {
          "output_type": "stream",
          "name": "stdout",
          "text": [
            "Appended result to Google Drive file: [85, 0.29166666666666663, 0.5, 0.4791666666666667, 0.5303156723682381, 6.072874493927125, 5.7915057915057915]\n"
          ]
        },
        {
          "output_type": "stream",
          "name": "stderr",
          "text": [
            "\n",
            "\n",
            "Processing law dataset:  17%|█▋        | 86/500 [20:47<1:38:27, 14.27s/it]\u001b[A\u001b[A"
          ]
        },
        {
          "output_type": "stream",
          "name": "stdout",
          "text": [
            "Appended result to Google Drive file: [86, 0.47916666666666663, 1.125, 0.48544243121464864, 0.4712403538490495, 3.0864197530864192, 4.2735042735042725]\n"
          ]
        },
        {
          "output_type": "stream",
          "name": "stderr",
          "text": [
            "\n",
            "\n",
            "Processing law dataset:  17%|█▋        | 87/500 [21:09<1:54:24, 16.62s/it]\u001b[A\u001b[A"
          ]
        },
        {
          "output_type": "stream",
          "name": "stdout",
          "text": [
            "Appended result to Google Drive file: [87, 0.3015873015873016, 0.9523809523809523, 0.5522942893632549, 0.6114478114478115, 4.3227665706051885, 3.6101083032490973]\n"
          ]
        },
        {
          "output_type": "stream",
          "name": "stderr",
          "text": [
            "\n",
            "\n",
            "Processing law dataset:  18%|█▊        | 88/500 [21:23<1:49:12, 15.90s/it]\u001b[A\u001b[A"
          ]
        },
        {
          "output_type": "stream",
          "name": "stdout",
          "text": [
            "Appended result to Google Drive file: [88, 0.5777777777777777, 0.9777777777777777, 0.7484276729559749, 0.46428571428571425, 4.9504950495049505, 1.9531250000000004]\n"
          ]
        },
        {
          "output_type": "stream",
          "name": "stderr",
          "text": [
            "\n",
            "\n",
            "Processing law dataset:  18%|█▊        | 89/500 [21:36<1:41:40, 14.84s/it]\u001b[A\u001b[A"
          ]
        },
        {
          "output_type": "stream",
          "name": "stdout",
          "text": [
            "Appended result to Google Drive file: [89, 0.33333333333333337, 0.8666666666666667, 0.28619528619528617, 0.7423255323634831, 7.8125, 3.095975232198142]\n"
          ]
        },
        {
          "output_type": "stream",
          "name": "stderr",
          "text": [
            "\n",
            "\n",
            "Processing law dataset:  18%|█▊        | 90/500 [21:51<1:42:49, 15.05s/it]\u001b[A\u001b[A"
          ]
        },
        {
          "output_type": "stream",
          "name": "stdout",
          "text": [
            "Appended result to Google Drive file: [90, 0.1333333333333333, 0.9333333333333333, 0.8148872572620767, 0.8260869565217391, 2.1398002853067046, 0.0]\n"
          ]
        },
        {
          "output_type": "stream",
          "name": "stderr",
          "text": [
            "\n",
            "\n",
            "Processing law dataset:  18%|█▊        | 91/500 [22:05<1:38:50, 14.50s/it]\u001b[A\u001b[A"
          ]
        },
        {
          "output_type": "stream",
          "name": "stdout",
          "text": [
            "Appended result to Google Drive file: [91, 0.1875, 1.0625, 0.5126352730423035, 0.5707909179932136, 5.555555555555555, 0.0]\n"
          ]
        },
        {
          "output_type": "stream",
          "name": "stderr",
          "text": [
            "\n",
            "\n",
            "Processing law dataset:  18%|█▊        | 92/500 [22:22<1:45:06, 15.46s/it]\u001b[A\u001b[A"
          ]
        },
        {
          "output_type": "stream",
          "name": "stdout",
          "text": [
            "Appended result to Google Drive file: [92, 0.45238095238095233, 1.7380952380952381, 0.7065845206006931, 0.7847826086956523, 3.1152647975077885, 3.2188841201716736]\n"
          ]
        },
        {
          "output_type": "stream",
          "name": "stderr",
          "text": [
            "\n",
            "\n",
            "Processing law dataset:  19%|█▊        | 93/500 [22:36<1:41:42, 14.99s/it]\u001b[A\u001b[A"
          ]
        },
        {
          "output_type": "stream",
          "name": "stdout",
          "text": [
            "Appended result to Google Drive file: [93, 0.33333333333333337, 0.6153846153846154, 0.5603178942435366, 0.5829423264907135, 5.084745762711864, 4.966887417218543]\n"
          ]
        },
        {
          "output_type": "stream",
          "name": "stderr",
          "text": [
            "\n",
            "\n",
            "Processing law dataset:  19%|█▉        | 94/500 [22:50<1:39:20, 14.68s/it]\u001b[A\u001b[A"
          ]
        },
        {
          "output_type": "stream",
          "name": "stdout",
          "text": [
            "Appended result to Google Drive file: [94, 0.5, 1.0714285714285714, 0.7934582063506764, 0.8574879227053139, 2.702702702702703, 0.0]\n"
          ]
        },
        {
          "output_type": "stream",
          "name": "stderr",
          "text": [
            "\n",
            "\n",
            "Processing law dataset:  19%|█▉        | 95/500 [23:02<1:34:32, 14.01s/it]\u001b[A\u001b[A"
          ]
        },
        {
          "output_type": "stream",
          "name": "stdout",
          "text": [
            "Appended result to Google Drive file: [95, 0.41666666666666663, 0.7222222222222222, 0.667378792312945, 0.6281250092598354, 0.0, 2.4330900243309004]\n"
          ]
        },
        {
          "output_type": "stream",
          "name": "stderr",
          "text": [
            "\n",
            "\n",
            "Processing law dataset:  19%|█▉        | 96/500 [23:19<1:40:13, 14.89s/it]\u001b[A\u001b[A"
          ]
        },
        {
          "output_type": "stream",
          "name": "stdout",
          "text": [
            "Appended result to Google Drive file: [96, 0.3589743589743589, 0.9230769230769231, 0.7975424357777299, 0.9199999999999999, 1.8315018315018312, 0.0]\n"
          ]
        },
        {
          "output_type": "stream",
          "name": "stderr",
          "text": [
            "\n",
            "\n",
            "Processing law dataset:  19%|█▉        | 97/500 [23:31<1:34:11, 14.02s/it]\u001b[A\u001b[A"
          ]
        },
        {
          "output_type": "stream",
          "name": "stdout",
          "text": [
            "Appended result to Google Drive file: [97, 0.2666666666666667, 0.6, 0.16533316533316533, 0.26663172606568836, 4.9504950495049505, 2.941176470588235]\n"
          ]
        },
        {
          "output_type": "stream",
          "name": "stderr",
          "text": [
            "\n",
            "\n",
            "Processing law dataset:  20%|█▉        | 98/500 [23:47<1:36:46, 14.44s/it]\u001b[A\u001b[A"
          ]
        },
        {
          "output_type": "stream",
          "name": "stdout",
          "text": [
            "Appended result to Google Drive file: [98, 0.20512820512820518, 0.8461538461538461, 0.6397410398585663, 0.9333333333333332, 3.8560411311053984, 3.846153846153846]\n"
          ]
        },
        {
          "output_type": "stream",
          "name": "stderr",
          "text": [
            "\n",
            "\n",
            "Processing law dataset:  20%|█▉        | 99/500 [23:59<1:32:22, 13.82s/it]\u001b[A\u001b[A"
          ]
        },
        {
          "output_type": "stream",
          "name": "stdout",
          "text": [
            "Appended result to Google Drive file: [99, 0.06060606060606055, 0.48484848484848486, 0.4476783085775458, 0.60701044826424, 4.385964912280701, 4.62962962962963]\n"
          ]
        },
        {
          "output_type": "stream",
          "name": "stderr",
          "text": [
            "\n",
            "\n",
            "Processing law dataset:  20%|██        | 100/500 [24:10<1:26:41, 13.00s/it]\u001b[A\u001b[A"
          ]
        },
        {
          "output_type": "stream",
          "name": "stdout",
          "text": [
            "Appended result to Google Drive file: [100, 0.2222222222222222, 1.0, 0.5420155449567214, 0.9555555555555556, 4.411764705882352, 0.0]\n"
          ]
        },
        {
          "output_type": "stream",
          "name": "stderr",
          "text": [
            "\n",
            "\n",
            "Processing law dataset:  20%|██        | 101/500 [24:26<1:31:49, 13.81s/it]\u001b[A\u001b[A"
          ]
        },
        {
          "output_type": "stream",
          "name": "stdout",
          "text": [
            "Appended result to Google Drive file: [101, 0.15384615384615385, 0.8205128205128205, 0.6127019872782585, 0.45606060606060606, 1.1848341232227488, 1.3123359580052494]\n"
          ]
        },
        {
          "output_type": "stream",
          "name": "stderr",
          "text": [
            "\n",
            "\n",
            "Processing law dataset:  20%|██        | 102/500 [24:38<1:28:55, 13.41s/it]\u001b[A\u001b[A"
          ]
        },
        {
          "output_type": "stream",
          "name": "stdout",
          "text": [
            "Appended result to Google Drive file: [102, 0.10416666666666663, 1.0, 0.5555555555555555, 0.5634482758620689, 33.33333333333333, 3.6630036630036624]\n"
          ]
        },
        {
          "output_type": "stream",
          "name": "stderr",
          "text": [
            "\n",
            "\n",
            "Processing law dataset:  21%|██        | 103/500 [24:51<1:27:48, 13.27s/it]\u001b[A\u001b[A"
          ]
        },
        {
          "output_type": "stream",
          "name": "stdout",
          "text": [
            "Appended result to Google Drive file: [103, 0.16666666666666663, 0.6666666666666667, 0.4288992408557626, 0.5169079128756547, 4.761904761904762, 2.380952380952381]\n"
          ]
        },
        {
          "output_type": "stream",
          "name": "stderr",
          "text": [
            "\n",
            "\n",
            "Processing law dataset:  21%|██        | 104/500 [25:03<1:23:44, 12.69s/it]\u001b[A\u001b[A"
          ]
        },
        {
          "output_type": "stream",
          "name": "stdout",
          "text": [
            "Appended result to Google Drive file: [104, 0.4358974358974359, 0.8974358974358975, 0.4537707390648567, 0.875, 0.0, 0.0]\n"
          ]
        },
        {
          "output_type": "stream",
          "name": "stderr",
          "text": [
            "\n",
            "\n",
            "Processing law dataset:  21%|██        | 105/500 [25:19<1:30:30, 13.75s/it]\u001b[A\u001b[A"
          ]
        },
        {
          "output_type": "stream",
          "name": "stdout",
          "text": [
            "Appended result to Google Drive file: [105, 0.39583333333333337, 1.125, 0.305925925925926, 0.44592074592074593, 1.1848341232227488, 3.861003861003861]\n"
          ]
        },
        {
          "output_type": "stream",
          "name": "stderr",
          "text": [
            "\n",
            "\n",
            "Processing law dataset:  21%|██        | 106/500 [25:31<1:25:54, 13.08s/it]\u001b[A\u001b[A"
          ]
        },
        {
          "output_type": "stream",
          "name": "stdout",
          "text": [
            "Appended result to Google Drive file: [106, 0.8571428571428572, 0.9047619047619048, 0.58416361760015, 0.8485838779956426, 5.39568345323741, 0.0]\n"
          ]
        },
        {
          "output_type": "stream",
          "name": "stderr",
          "text": [
            "\n",
            "\n",
            "Processing law dataset:  21%|██▏       | 107/500 [25:43<1:24:47, 12.95s/it]\u001b[A\u001b[A"
          ]
        },
        {
          "output_type": "stream",
          "name": "stdout",
          "text": [
            "Appended result to Google Drive file: [107, 0.37777777777777777, 0.5555555555555556, 0.5975661375661375, 0.4534632034632035, 1.9011406844106467, 3.1645569620253164]\n"
          ]
        },
        {
          "output_type": "stream",
          "name": "stderr",
          "text": [
            "\n",
            "\n",
            "Processing law dataset:  22%|██▏       | 108/500 [25:59<1:30:05, 13.79s/it]\u001b[A\u001b[A"
          ]
        },
        {
          "output_type": "stream",
          "name": "stdout",
          "text": [
            "Appended result to Google Drive file: [108, 0.18518518518518523, 0.2592592592592593, 0.7217920720005294, 0.7772869290663501, 2.683363148479427, 2.798507462686567]\n"
          ]
        },
        {
          "output_type": "stream",
          "name": "stderr",
          "text": [
            "\n",
            "\n",
            "Processing law dataset:  22%|██▏       | 109/500 [26:11<1:26:27, 13.27s/it]\u001b[A\u001b[A"
          ]
        },
        {
          "output_type": "stream",
          "name": "stdout",
          "text": [
            "Appended result to Google Drive file: [109, 0.7, 0.9, 0.6550030378977748, 0.5393081761006289, 4.573170731707318, 5.28169014084507]\n"
          ]
        },
        {
          "output_type": "stream",
          "name": "stderr",
          "text": [
            "\n",
            "\n",
            "Processing law dataset:  22%|██▏       | 110/500 [26:24<1:25:47, 13.20s/it]\u001b[A\u001b[A"
          ]
        },
        {
          "output_type": "stream",
          "name": "stdout",
          "text": [
            "Appended result to Google Drive file: [110, 0.35416666666666663, 0.7291666666666667, 0.47680984069368826, 0.5112990368804322, 4.838709677419355, 4.545454545454545]\n"
          ]
        },
        {
          "output_type": "stream",
          "name": "stderr",
          "text": [
            "\n",
            "\n",
            "Processing law dataset:  22%|██▏       | 111/500 [26:39<1:28:13, 13.61s/it]\u001b[A\u001b[A"
          ]
        },
        {
          "output_type": "stream",
          "name": "stdout",
          "text": [
            "Appended result to Google Drive file: [111, 0.25, 0.8125, 0.40419422533442595, 0.5318117035546613, 1.3157894736842104, 3.171247357293869]\n"
          ]
        },
        {
          "output_type": "stream",
          "name": "stderr",
          "text": [
            "\n",
            "\n",
            "Processing law dataset:  22%|██▏       | 112/500 [26:58<1:38:33, 15.24s/it]\u001b[A\u001b[A"
          ]
        },
        {
          "output_type": "stream",
          "name": "stdout",
          "text": [
            "Appended result to Google Drive file: [112, 0.27083333333333337, 0.8958333333333334, 0.6596781771200376, 0.8160919540229884, 5.813953488372093, 5.7251908396946565]\n"
          ]
        },
        {
          "output_type": "stream",
          "name": "stderr",
          "text": [
            "\n",
            "\n",
            "Processing law dataset:  23%|██▎       | 113/500 [27:06<1:25:38, 13.28s/it]\u001b[A\u001b[A"
          ]
        },
        {
          "output_type": "stream",
          "name": "stdout",
          "text": [
            "Appended result to Google Drive file: [113, 0.09999999999999998, 0.6333333333333333, 0.75, 0.3477564102564102, 19.6078431372549, 3.9840637450199203]\n"
          ]
        },
        {
          "output_type": "stream",
          "name": "stderr",
          "text": [
            "\n",
            "\n",
            "Processing law dataset:  23%|██▎       | 114/500 [27:19<1:23:38, 13.00s/it]\u001b[A\u001b[A"
          ]
        },
        {
          "output_type": "stream",
          "name": "stdout",
          "text": [
            "Appended result to Google Drive file: [114, 0.3589743589743589, 0.7692307692307692, 0.4308039747064137, 0.8516483516483516, 4.291845493562232, 4.901960784313726]\n"
          ]
        },
        {
          "output_type": "stream",
          "name": "stderr",
          "text": [
            "\n",
            "\n",
            "Processing law dataset:  23%|██▎       | 115/500 [27:29<1:19:07, 12.33s/it]\u001b[A\u001b[A"
          ]
        },
        {
          "output_type": "stream",
          "name": "stdout",
          "text": [
            "Appended result to Google Drive file: [115, 0.33333333333333337, 0.7450980392156863, 0.2354471544715447, 0.5921534493874919, 2.551020408163265, 1.9607843137254906]\n"
          ]
        },
        {
          "output_type": "stream",
          "name": "stderr",
          "text": [
            "\n",
            "\n",
            "Processing law dataset:  23%|██▎       | 116/500 [27:45<1:25:10, 13.31s/it]\u001b[A\u001b[A"
          ]
        },
        {
          "output_type": "stream",
          "name": "stdout",
          "text": [
            "Appended result to Google Drive file: [116, 0.75, 1.4833333333333334, 0.6217485512723608, 0.4587361712361712, 3.2362459546925564, 2.1834061135371177]\n"
          ]
        },
        {
          "output_type": "stream",
          "name": "stderr",
          "text": [
            "\n",
            "\n",
            "Processing law dataset:  23%|██▎       | 117/500 [27:59<1:26:34, 13.56s/it]\u001b[A\u001b[A"
          ]
        },
        {
          "output_type": "stream",
          "name": "stdout",
          "text": [
            "Appended result to Google Drive file: [117, 0.33333333333333337, 0.6, 0.7513248788534902, 0.8035714285714285, 3.125, 2.0202020202020203]\n"
          ]
        },
        {
          "output_type": "stream",
          "name": "stderr",
          "text": [
            "\n",
            "\n",
            "Processing law dataset:  24%|██▎       | 118/500 [28:10<1:21:43, 12.84s/it]\u001b[A\u001b[A"
          ]
        },
        {
          "output_type": "stream",
          "name": "stdout",
          "text": [
            "Appended result to Google Drive file: [118, 0.30000000000000004, 0.7666666666666666, 1.0, 0.4603174603174603, 22.727272727272727, 7.142857142857142]\n"
          ]
        },
        {
          "output_type": "stream",
          "name": "stderr",
          "text": [
            "\n",
            "\n",
            "Processing law dataset:  24%|██▍       | 119/500 [28:29<1:32:29, 14.57s/it]\u001b[A\u001b[A"
          ]
        },
        {
          "output_type": "stream",
          "name": "stdout",
          "text": [
            "Appended result to Google Drive file: [119, 0.0714285714285714, 0.7857142857142857, 0.6689285879148779, 0.9619047619047619, 2.0215633423180597, 5.88235294117647]\n"
          ]
        },
        {
          "output_type": "stream",
          "name": "stderr",
          "text": [
            "\n",
            "\n",
            "Processing law dataset:  24%|██▍       | 120/500 [28:46<1:37:48, 15.44s/it]\u001b[A\u001b[A"
          ]
        },
        {
          "output_type": "stream",
          "name": "stdout",
          "text": [
            "Appended result to Google Drive file: [120, 0.4833333333333333, 0.8, 0.26478556810177023, 0.38071124781651094, 1.9011406844106464, 3.968253968253968]\n"
          ]
        },
        {
          "output_type": "stream",
          "name": "stderr",
          "text": [
            "\n",
            "\n",
            "Processing law dataset:  24%|██▍       | 121/500 [28:59<1:31:49, 14.54s/it]\u001b[A\u001b[A"
          ]
        },
        {
          "output_type": "stream",
          "name": "stdout",
          "text": [
            "Appended result to Google Drive file: [121, 0.22916666666666663, 0.7291666666666667, 0.23873873873873874, 0.5724101479915433, 13.392857142857142, 6.3559322033898304]\n"
          ]
        },
        {
          "output_type": "stream",
          "name": "stderr",
          "text": [
            "\n",
            "\n",
            "Processing law dataset:  24%|██▍       | 122/500 [29:12<1:29:37, 14.23s/it]\u001b[A\u001b[A"
          ]
        },
        {
          "output_type": "stream",
          "name": "stdout",
          "text": [
            "Appended result to Google Drive file: [122, 0.6166666666666667, 0.8166666666666667, 0.5248463114754098, 0.7455249153362361, 4.739336492890995, 4.830917874396136]\n"
          ]
        },
        {
          "output_type": "stream",
          "name": "stderr",
          "text": [
            "\n",
            "\n",
            "Processing law dataset:  25%|██▍       | 123/500 [29:23<1:22:09, 13.08s/it]\u001b[A\u001b[A"
          ]
        },
        {
          "output_type": "stream",
          "name": "stdout",
          "text": [
            "Appended result to Google Drive file: [123, 0.47619047619047616, 1.1904761904761905, 0.5468701819303114, 0.3090334531982129, 5.952380952380952, 3.787878787878788]\n"
          ]
        },
        {
          "output_type": "stream",
          "name": "stderr",
          "text": [
            "\n",
            "\n",
            "Processing law dataset:  25%|██▍       | 124/500 [29:34<1:19:16, 12.65s/it]\u001b[A\u001b[A"
          ]
        },
        {
          "output_type": "stream",
          "name": "stdout",
          "text": [
            "Appended result to Google Drive file: [124, 1.0, 1.0555555555555556, 0.7186884323107233, 0.36945775964643895, 2.262443438914027, 4.329004329004329]\n"
          ]
        },
        {
          "output_type": "stream",
          "name": "stderr",
          "text": [
            "\n",
            "\n",
            "Processing law dataset:  25%|██▌       | 125/500 [29:47<1:19:00, 12.64s/it]\u001b[A\u001b[A"
          ]
        },
        {
          "output_type": "stream",
          "name": "stdout",
          "text": [
            "Appended result to Google Drive file: [125, 0.29166666666666663, 0.6666666666666667, 0.5440046191125246, 0.28671928620452986, 4.3227665706051885, 2.6881720430107525]\n"
          ]
        },
        {
          "output_type": "stream",
          "name": "stderr",
          "text": [
            "\n",
            "\n",
            "Processing law dataset:  25%|██▌       | 126/500 [29:57<1:14:30, 11.95s/it]\u001b[A\u001b[A"
          ]
        },
        {
          "output_type": "stream",
          "name": "stdout",
          "text": [
            "Appended result to Google Drive file: [126, 0.5, 0.6666666666666667, 0.48087484864210345, 0.323921568627451, 8.379888268156426, 8.47457627118644]\n"
          ]
        },
        {
          "output_type": "stream",
          "name": "stderr",
          "text": [
            "\n",
            "\n",
            "Processing law dataset:  25%|██▌       | 127/500 [30:09<1:13:38, 11.85s/it]\u001b[A\u001b[A"
          ]
        },
        {
          "output_type": "stream",
          "name": "stdout",
          "text": [
            "Appended result to Google Drive file: [127, 0.21212121212121215, 0.7878787878787878, 0.3386958386958387, 0.546571991693943, 13.761467889908257, 5.025125628140703]\n"
          ]
        },
        {
          "output_type": "stream",
          "name": "stderr",
          "text": [
            "\n",
            "\n",
            "Processing law dataset:  26%|██▌       | 128/500 [30:22<1:15:57, 12.25s/it]\u001b[A\u001b[A"
          ]
        },
        {
          "output_type": "stream",
          "name": "stdout",
          "text": [
            "Appended result to Google Drive file: [128, 0.36363636363636365, 0.9393939393939394, 0.48232454278121123, 0.6971853082318198, 4.716981132075471, 4.184100418410042]\n"
          ]
        },
        {
          "output_type": "stream",
          "name": "stderr",
          "text": [
            "\n",
            "\n",
            "Processing law dataset:  26%|██▌       | 129/500 [30:37<1:20:59, 13.10s/it]\u001b[A\u001b[A"
          ]
        },
        {
          "output_type": "stream",
          "name": "stdout",
          "text": [
            "Appended result to Google Drive file: [129, 0.3111111111111111, 0.9111111111111111, 0.4596562659045531, 0.7867134607726006, 3.073770491803279, 9.202453987730062]\n"
          ]
        },
        {
          "output_type": "stream",
          "name": "stderr",
          "text": [
            "\n",
            "\n",
            "Processing law dataset:  26%|██▌       | 130/500 [30:47<1:14:16, 12.04s/it]\u001b[A\u001b[A"
          ]
        },
        {
          "output_type": "stream",
          "name": "stdout",
          "text": [
            "Appended result to Google Drive file: [130, 0.6666666666666667, 0.5925925925925926, 0.4004552567932849, 0.12807345160286335, 4.792332268370606, 5.05050505050505]\n"
          ]
        },
        {
          "output_type": "stream",
          "name": "stderr",
          "text": [
            "\n",
            "\n",
            "Processing law dataset:  26%|██▌       | 131/500 [30:58<1:12:01, 11.71s/it]\u001b[A\u001b[A"
          ]
        },
        {
          "output_type": "stream",
          "name": "stdout",
          "text": [
            "Appended result to Google Drive file: [131, 0.3137254901960784, 0.7058823529411764, 0.392890489529145, 0.5566239316239316, 0.0, 1.8656716417910446]\n"
          ]
        },
        {
          "output_type": "stream",
          "name": "stderr",
          "text": [
            "\n",
            "\n",
            "Processing law dataset:  26%|██▋       | 132/500 [31:09<1:11:51, 11.71s/it]\u001b[A\u001b[A"
          ]
        },
        {
          "output_type": "stream",
          "name": "stdout",
          "text": [
            "Appended result to Google Drive file: [132, 0.48484848484848486, 0.6363636363636364, 0.6384200561701975, 0.467948717948718, 4.615384615384615, 0.0]\n"
          ]
        },
        {
          "output_type": "stream",
          "name": "stderr",
          "text": [
            "\n",
            "\n",
            "Processing law dataset:  27%|██▋       | 133/500 [31:23<1:14:51, 12.24s/it]\u001b[A\u001b[A"
          ]
        },
        {
          "output_type": "stream",
          "name": "stdout",
          "text": [
            "Appended result to Google Drive file: [133, 0.47058823529411764, 0.9411764705882353, 0.6423585364940269, 0.9696969696969697, 5.7034220532319395, 7.853403141361256]\n"
          ]
        },
        {
          "output_type": "stream",
          "name": "stderr",
          "text": [
            "\n",
            "\n",
            "Processing law dataset:  27%|██▋       | 134/500 [31:34<1:11:42, 11.76s/it]\u001b[A\u001b[A"
          ]
        },
        {
          "output_type": "stream",
          "name": "stdout",
          "text": [
            "Appended result to Google Drive file: [134, 0.5714285714285714, 1.5714285714285714, 0.6958316881394929, 0.3233060109289618, 4.1551246537396125, 2.985074626865672]\n"
          ]
        },
        {
          "output_type": "stream",
          "name": "stderr",
          "text": [
            "\n",
            "\n",
            "Processing law dataset:  27%|██▋       | 135/500 [31:47<1:14:32, 12.25s/it]\u001b[A\u001b[A"
          ]
        },
        {
          "output_type": "stream",
          "name": "stdout",
          "text": [
            "Appended result to Google Drive file: [135, 0.33333333333333337, 0.8421052631578947, 0.45330637915543576, 0.49465515469215743, 3.6900369003690034, 3.703703703703704]\n"
          ]
        },
        {
          "output_type": "stream",
          "name": "stderr",
          "text": [
            "\n",
            "\n",
            "Processing law dataset:  27%|██▋       | 136/500 [32:01<1:18:25, 12.93s/it]\u001b[A\u001b[A"
          ]
        },
        {
          "output_type": "stream",
          "name": "stdout",
          "text": [
            "Appended result to Google Drive file: [136, 0.4871794871794872, 1.0769230769230769, 0.4976477770595418, 0.5340237199597563, 5.7251908396946565, 4.464285714285714]\n"
          ]
        },
        {
          "output_type": "stream",
          "name": "stderr",
          "text": [
            "\n",
            "\n",
            "Processing law dataset:  27%|██▋       | 137/500 [32:14<1:17:34, 12.82s/it]\u001b[A\u001b[A"
          ]
        },
        {
          "output_type": "stream",
          "name": "stdout",
          "text": [
            "Appended result to Google Drive file: [137, 0.5151515151515151, 1.121212121212121, 0.5014527934090993, 0.37468060394889663, 2.0408163265306123, 2.2026431718061676]\n"
          ]
        },
        {
          "output_type": "stream",
          "name": "stderr",
          "text": [
            "\n",
            "\n",
            "Processing law dataset:  28%|██▊       | 138/500 [32:24<1:12:43, 12.05s/it]\u001b[A\u001b[A"
          ]
        },
        {
          "output_type": "stream",
          "name": "stdout",
          "text": [
            "Appended result to Google Drive file: [138, 0.11111111111111116, 0.8148148148148149, 0.7555555555555555, 0.39839289839289843, 14.705882352941178, 7.9787234042553195]\n"
          ]
        },
        {
          "output_type": "stream",
          "name": "stderr",
          "text": [
            "\n",
            "\n",
            "Processing law dataset:  28%|██▊       | 139/500 [32:41<1:21:02, 13.47s/it]\u001b[A\u001b[A"
          ]
        },
        {
          "output_type": "stream",
          "name": "stdout",
          "text": [
            "Appended result to Google Drive file: [139, 0.1875, 1.2083333333333333, 0.47467674518535885, 0.553843537414966, 5.05050505050505, 2.4271844660194173]\n"
          ]
        },
        {
          "output_type": "stream",
          "name": "stderr",
          "text": [
            "\n",
            "\n",
            "Processing law dataset:  28%|██▊       | 140/500 [32:56<1:23:09, 13.86s/it]\u001b[A\u001b[A"
          ]
        },
        {
          "output_type": "stream",
          "name": "stdout",
          "text": [
            "Appended result to Google Drive file: [140, 0.39583333333333337, 1.0, 0.5894996476391826, 0.4947802197802198, 3.3557046979865772, 3.787878787878788]\n"
          ]
        },
        {
          "output_type": "stream",
          "name": "stderr",
          "text": [
            "\n",
            "\n",
            "Processing law dataset:  28%|██▊       | 141/500 [33:10<1:22:34, 13.80s/it]\u001b[A\u001b[A"
          ]
        },
        {
          "output_type": "stream",
          "name": "stdout",
          "text": [
            "Appended result to Google Drive file: [141, 0.10256410256410253, 0.7948717948717949, 0.6429249762583096, 0.46149527186761224, 0.0, 2.73224043715847]\n"
          ]
        },
        {
          "output_type": "stream",
          "name": "stderr",
          "text": [
            "\n",
            "\n",
            "Processing law dataset:  28%|██▊       | 142/500 [33:23<1:21:56, 13.73s/it]\u001b[A\u001b[A"
          ]
        },
        {
          "output_type": "stream",
          "name": "stdout",
          "text": [
            "Appended result to Google Drive file: [142, 0.6333333333333333, 1.0666666666666667, 0.4375545089830804, 0.9555555555555556, 4.048582995951417, 7.653061224489796]\n"
          ]
        },
        {
          "output_type": "stream",
          "name": "stderr",
          "text": [
            "\n",
            "\n",
            "Processing law dataset:  29%|██▊       | 143/500 [33:35<1:18:24, 13.18s/it]\u001b[A\u001b[A"
          ]
        },
        {
          "output_type": "stream",
          "name": "stdout",
          "text": [
            "Appended result to Google Drive file: [143, 0.48484848484848486, 0.8181818181818181, 0.5465877499775805, 0.6634071517591793, 5.084745762711864, 5.033557046979866]\n"
          ]
        },
        {
          "output_type": "stream",
          "name": "stderr",
          "text": [
            "\n",
            "\n",
            "Processing law dataset:  29%|██▉       | 144/500 [33:46<1:14:02, 12.48s/it]\u001b[A\u001b[A"
          ]
        },
        {
          "output_type": "stream",
          "name": "stdout",
          "text": [
            "Appended result to Google Drive file: [144, 0.3571428571428571, 0.5238095238095238, 0.2012578616352201, 0.6608187134502924, 2.604166666666667, 0.0]\n"
          ]
        },
        {
          "output_type": "stream",
          "name": "stderr",
          "text": [
            "\n",
            "\n",
            "Processing law dataset:  29%|██▉       | 145/500 [33:55<1:07:57, 11.49s/it]\u001b[A\u001b[A"
          ]
        },
        {
          "output_type": "stream",
          "name": "stdout",
          "text": [
            "Appended result to Google Drive file: [145, 0.1333333333333333, 0.8666666666666667, 0.473063973063973, 0.9191176470588235, 18.867924528301884, 9.708737864077671]\n"
          ]
        },
        {
          "output_type": "stream",
          "name": "stderr",
          "text": [
            "\n",
            "\n",
            "Processing law dataset:  29%|██▉       | 146/500 [34:08<1:10:29, 11.95s/it]\u001b[A\u001b[A"
          ]
        },
        {
          "output_type": "stream",
          "name": "stdout",
          "text": [
            "Appended result to Google Drive file: [146, 0.43333333333333335, 1.0666666666666667, 0.47165465291928993, 0.5851648351648352, 1.7985611510791366, 1.2195121951219512]\n"
          ]
        },
        {
          "output_type": "stream",
          "name": "stderr",
          "text": [
            "\n",
            "\n",
            "Processing law dataset:  29%|██▉       | 147/500 [34:25<1:18:37, 13.37s/it]\u001b[A\u001b[A"
          ]
        },
        {
          "output_type": "stream",
          "name": "stdout",
          "text": [
            "Appended result to Google Drive file: [147, 0.4, 0.6, 0.5301948051948052, 0.6122355631789594, 3.802281368821293, 1.9305019305019304]\n"
          ]
        },
        {
          "output_type": "stream",
          "name": "stderr",
          "text": [
            "\n",
            "\n",
            "Processing law dataset:  30%|██▉       | 148/500 [34:41<1:24:24, 14.39s/it]\u001b[A\u001b[A"
          ]
        },
        {
          "output_type": "stream",
          "name": "stdout",
          "text": [
            "Appended result to Google Drive file: [148, 0.5416666666666667, 1.5208333333333335, 0.7433207201009058, 0.7912563131313132, 1.4245014245014245, 1.6420361247947453]\n"
          ]
        },
        {
          "output_type": "stream",
          "name": "stderr",
          "text": [
            "\n",
            "\n",
            "Processing law dataset:  30%|██▉       | 149/500 [34:54<1:20:46, 13.81s/it]\u001b[A\u001b[A"
          ]
        },
        {
          "output_type": "stream",
          "name": "stdout",
          "text": [
            "Appended result to Google Drive file: [149, 0.41666666666666663, 0.41666666666666663, 0.5933399933399933, 0.4871794871794872, 5.05050505050505, 10.56338028169014]\n"
          ]
        },
        {
          "output_type": "stream",
          "name": "stderr",
          "text": [
            "\n",
            "\n",
            "Processing law dataset:  30%|███       | 150/500 [35:07<1:18:54, 13.53s/it]\u001b[A\u001b[A"
          ]
        },
        {
          "output_type": "stream",
          "name": "stdout",
          "text": [
            "Appended result to Google Drive file: [150, 0.5238095238095238, 0.6190476190476191, 0.48680398085159987, 0.33810640829508753, 3.9525691699604746, 7.653061224489796]\n"
          ]
        },
        {
          "output_type": "stream",
          "name": "stderr",
          "text": [
            "\n",
            "\n",
            "Processing law dataset:  30%|███       | 151/500 [35:27<1:30:33, 15.57s/it]\u001b[A\u001b[A"
          ]
        },
        {
          "output_type": "stream",
          "name": "stdout",
          "text": [
            "Appended result to Google Drive file: [151, 0.2592592592592593, 1.0, 0.8181430278204472, 0.9595959595959597, 2.840909090909091, 0.0]\n"
          ]
        },
        {
          "output_type": "stream",
          "name": "stderr",
          "text": [
            "\n",
            "\n",
            "Processing law dataset:  30%|███       | 152/500 [35:45<1:34:28, 16.29s/it]\u001b[A\u001b[A"
          ]
        },
        {
          "output_type": "stream",
          "name": "stdout",
          "text": [
            "Appended result to Google Drive file: [152, 0.2777777777777778, 0.42592592592592593, 0.6080272108843537, 0.7081756510526168, 4.731861198738171, 4.687500000000001]\n"
          ]
        },
        {
          "output_type": "stream",
          "name": "stderr",
          "text": [
            "\n",
            "\n",
            "Processing law dataset:  31%|███       | 153/500 [36:00<1:32:13, 15.95s/it]\u001b[A\u001b[A"
          ]
        },
        {
          "output_type": "stream",
          "name": "stdout",
          "text": [
            "Appended result to Google Drive file: [153, 0.30952380952380953, 0.8571428571428572, 0.5472027972027972, 1.0, 5.74712643678161, 0.0]\n"
          ]
        },
        {
          "output_type": "stream",
          "name": "stderr",
          "text": [
            "\n",
            "\n",
            "Processing law dataset:  31%|███       | 154/500 [36:12<1:25:24, 14.81s/it]\u001b[A\u001b[A"
          ]
        },
        {
          "output_type": "stream",
          "name": "stdout",
          "text": [
            "Appended result to Google Drive file: [154, 0.3921568627450981, 0.5686274509803921, 0.5308823529411765, 0.5185185185185186, 2.0242914979757085, 2.2321428571428568]\n"
          ]
        },
        {
          "output_type": "stream",
          "name": "stderr",
          "text": [
            "\n",
            "\n",
            "Processing law dataset:  31%|███       | 155/500 [36:27<1:24:05, 14.63s/it]\u001b[A\u001b[A"
          ]
        },
        {
          "output_type": "stream",
          "name": "stdout",
          "text": [
            "Appended result to Google Drive file: [155, 0.1428571428571429, 0.5952380952380952, 0.1494155354449472, 0.4422715501294858, 10.638297872340425, 2.0576131687242794]\n"
          ]
        },
        {
          "output_type": "stream",
          "name": "stderr",
          "text": [
            "\n",
            "\n",
            "Processing law dataset:  31%|███       | 156/500 [36:37<1:16:47, 13.39s/it]\u001b[A\u001b[A"
          ]
        },
        {
          "output_type": "stream",
          "name": "stdout",
          "text": [
            "Appended result to Google Drive file: [156, 0.19047619047619047, 0.5238095238095238, 0.5967765868803433, 0.43951833607006024, 3.571428571428571, 0.0]\n"
          ]
        },
        {
          "output_type": "stream",
          "name": "stderr",
          "text": [
            "\n",
            "\n",
            "Processing law dataset:  31%|███▏      | 157/500 [36:49<1:14:17, 13.00s/it]\u001b[A\u001b[A"
          ]
        },
        {
          "output_type": "stream",
          "name": "stdout",
          "text": [
            "Appended result to Google Drive file: [157, 0.36111111111111116, 1.3888888888888888, 0.35536130536130534, 0.6692480359147025, 3.4965034965034967, 1.2106537530266346]\n"
          ]
        },
        {
          "output_type": "stream",
          "name": "stderr",
          "text": [
            "\n",
            "\n",
            "Processing law dataset:  32%|███▏      | 158/500 [37:02<1:14:20, 13.04s/it]\u001b[A\u001b[A"
          ]
        },
        {
          "output_type": "stream",
          "name": "stdout",
          "text": [
            "Appended result to Google Drive file: [158, 0.5964912280701755, 0.8421052631578947, 0.511029411764706, 0.562063492063492, 5.836575875486381, 3.968253968253968]\n"
          ]
        },
        {
          "output_type": "stream",
          "name": "stderr",
          "text": [
            "\n",
            "\n",
            "Processing law dataset:  32%|███▏      | 159/500 [37:16<1:14:52, 13.17s/it]\u001b[A\u001b[A"
          ]
        },
        {
          "output_type": "stream",
          "name": "stdout",
          "text": [
            "Appended result to Google Drive file: [159, 0.4782608695652174, 1.1594202898550725, 0.2647907647907648, 0.7231092436974791, 9.554140127388536, 4.587155963302752]\n"
          ]
        },
        {
          "output_type": "stream",
          "name": "stderr",
          "text": [
            "\n",
            "\n",
            "Processing law dataset:  32%|███▏      | 160/500 [37:29<1:14:31, 13.15s/it]\u001b[A\u001b[A"
          ]
        },
        {
          "output_type": "stream",
          "name": "stdout",
          "text": [
            "Appended result to Google Drive file: [160, 0.6296296296296297, 0.8888888888888888, 0.7324574889354762, 0.539202172096909, 2.8089887640449436, 4.143646408839778]\n"
          ]
        },
        {
          "output_type": "stream",
          "name": "stderr",
          "text": [
            "\n",
            "\n",
            "Processing law dataset:  32%|███▏      | 161/500 [37:42<1:14:15, 13.14s/it]\u001b[A\u001b[A"
          ]
        },
        {
          "output_type": "stream",
          "name": "stdout",
          "text": [
            "Appended result to Google Drive file: [161, 0.2962962962962963, 0.5185185185185186, 0.4977810529763367, 0.25588972431077694, 3.4246575342465757, 6.493506493506493]\n"
          ]
        },
        {
          "output_type": "stream",
          "name": "stderr",
          "text": [
            "\n",
            "\n",
            "Processing law dataset:  32%|███▏      | 162/500 [37:58<1:18:35, 13.95s/it]\u001b[A\u001b[A"
          ]
        },
        {
          "output_type": "stream",
          "name": "stdout",
          "text": [
            "Appended result to Google Drive file: [162, 0.29166666666666663, 1.2291666666666667, 0.504810682275471, 0.6119402985074626, 2.4096385542168672, 1.141552511415525]\n"
          ]
        },
        {
          "output_type": "stream",
          "name": "stderr",
          "text": [
            "\n",
            "\n",
            "Processing law dataset:  33%|███▎      | 163/500 [38:12<1:18:28, 13.97s/it]\u001b[A\u001b[A"
          ]
        },
        {
          "output_type": "stream",
          "name": "stdout",
          "text": [
            "Appended result to Google Drive file: [163, 0.2666666666666667, 0.4444444444444444, 0.2514908976773383, 0.10451548502806873, 1.6501650165016504, 0.0]\n"
          ]
        },
        {
          "output_type": "stream",
          "name": "stderr",
          "text": [
            "\n",
            "\n",
            "Processing law dataset:  33%|███▎      | 164/500 [38:24<1:15:43, 13.52s/it]\u001b[A\u001b[A"
          ]
        },
        {
          "output_type": "stream",
          "name": "stdout",
          "text": [
            "Appended result to Google Drive file: [164, 0.6666666666666667, 1.9393939393939394, 0.3783712718803997, 0.5323549965059399, 6.17283950617284, 2.5510204081632653]\n"
          ]
        },
        {
          "output_type": "stream",
          "name": "stderr",
          "text": [
            "\n",
            "\n",
            "Processing law dataset:  33%|███▎      | 165/500 [38:37<1:14:35, 13.36s/it]\u001b[A\u001b[A"
          ]
        },
        {
          "output_type": "stream",
          "name": "stdout",
          "text": [
            "Appended result to Google Drive file: [165, 0.23809523809523814, 0.6190476190476191, 0.4975843078569331, 0.26902959079955685, 4.329004329004329, 4.854368932038835]\n"
          ]
        },
        {
          "output_type": "stream",
          "name": "stderr",
          "text": [
            "\n",
            "\n",
            "Processing law dataset:  33%|███▎      | 166/500 [38:49<1:11:29, 12.84s/it]\u001b[A\u001b[A"
          ]
        },
        {
          "output_type": "stream",
          "name": "stdout",
          "text": [
            "Appended result to Google Drive file: [166, 0.625, 0.875, 0.5632183908045977, 0.2996152943936195, 4.213483146067416, 4.926108374384237]\n"
          ]
        },
        {
          "output_type": "stream",
          "name": "stderr",
          "text": [
            "\n",
            "\n",
            "Processing law dataset:  33%|███▎      | 167/500 [39:06<1:17:47, 14.02s/it]\u001b[A\u001b[A"
          ]
        },
        {
          "output_type": "stream",
          "name": "stdout",
          "text": [
            "Appended result to Google Drive file: [167, 0.17543859649122806, 0.3508771929824561, 0.5118642377086996, 0.48834498834498835, 4.615384615384615, 3.2362459546925564]\n"
          ]
        },
        {
          "output_type": "stream",
          "name": "stderr",
          "text": [
            "\n",
            "\n",
            "Processing law dataset:  34%|███▎      | 168/500 [39:27<1:29:31, 16.18s/it]\u001b[A\u001b[A"
          ]
        },
        {
          "output_type": "stream",
          "name": "stdout",
          "text": [
            "Appended result to Google Drive file: [168, 0.17948717948717952, 1.6153846153846154, 0.5083001965354906, 0.6844682681490305, 3.51288056206089, 2.2831050228310503]\n"
          ]
        },
        {
          "output_type": "stream",
          "name": "stderr",
          "text": [
            "\n",
            "\n",
            "Processing law dataset:  34%|███▍      | 169/500 [39:42<1:26:45, 15.73s/it]\u001b[A\u001b[A"
          ]
        },
        {
          "output_type": "stream",
          "name": "stdout",
          "text": [
            "Appended result to Google Drive file: [169, 0.6458333333333333, 0.5625, 0.7670606776989756, 0.7784530336997721, 5.681818181818181, 6.521739130434782]\n"
          ]
        },
        {
          "output_type": "stream",
          "name": "stderr",
          "text": [
            "\n",
            "\n",
            "Processing law dataset:  34%|███▍      | 170/500 [39:54<1:21:15, 14.78s/it]\u001b[A\u001b[A"
          ]
        },
        {
          "output_type": "stream",
          "name": "stdout",
          "text": [
            "Appended result to Google Drive file: [170, 0.33333333333333337, 0.9285714285714286, 0.8367960364815711, 0.9259259259259259, 3.6674816625916864, 0.0]\n"
          ]
        },
        {
          "output_type": "stream",
          "name": "stderr",
          "text": [
            "\n",
            "\n",
            "Processing law dataset:  34%|███▍      | 171/500 [40:05<1:15:11, 13.71s/it]\u001b[A\u001b[A"
          ]
        },
        {
          "output_type": "stream",
          "name": "stdout",
          "text": [
            "Appended result to Google Drive file: [171, 0.5151515151515151, 0.5757575757575757, 0.39599555061179087, 0.24214594928880642, 3.401360544217687, 0.0]\n"
          ]
        },
        {
          "output_type": "stream",
          "name": "stderr",
          "text": [
            "\n",
            "\n",
            "Processing law dataset:  34%|███▍      | 172/500 [40:18<1:12:27, 13.25s/it]\u001b[A\u001b[A"
          ]
        },
        {
          "output_type": "stream",
          "name": "stdout",
          "text": [
            "Appended result to Google Drive file: [172, 0.1333333333333333, 0.3111111111111111, 0.6422685447784711, 0.6892716424631318, 5.905511811023622, 5.514705882352941]\n"
          ]
        },
        {
          "output_type": "stream",
          "name": "stderr",
          "text": [
            "\n",
            "\n",
            "Processing law dataset:  35%|███▍      | 173/500 [40:33<1:15:34, 13.87s/it]\u001b[A\u001b[A"
          ]
        },
        {
          "output_type": "stream",
          "name": "stdout",
          "text": [
            "Appended result to Google Drive file: [173, 0.3125, 0.7708333333333334, 0.5268265049110606, 0.5005823433496389, 1.6286644951140066, 0.0]\n"
          ]
        },
        {
          "output_type": "stream",
          "name": "stderr",
          "text": [
            "\n",
            "\n",
            "Processing law dataset:  35%|███▍      | 174/500 [40:46<1:13:31, 13.53s/it]\u001b[A\u001b[A"
          ]
        },
        {
          "output_type": "stream",
          "name": "stdout",
          "text": [
            "Appended result to Google Drive file: [174, 0.641025641025641, 0.8717948717948718, 0.5231447602964631, 0.5956068017703237, 3.4246575342465753, 1.6501650165016504]\n"
          ]
        },
        {
          "output_type": "stream",
          "name": "stderr",
          "text": [
            "\n",
            "\n",
            "Processing law dataset:  35%|███▌      | 175/500 [41:00<1:13:51, 13.64s/it]\u001b[A\u001b[A"
          ]
        },
        {
          "output_type": "stream",
          "name": "stdout",
          "text": [
            "Appended result to Google Drive file: [175, 0.6491228070175439, 1.263157894736842, 0.4460685609167972, 0.2947960350743424, 3.8461538461538463, 2.9940119760479034]\n"
          ]
        },
        {
          "output_type": "stream",
          "name": "stderr",
          "text": [
            "\n",
            "\n",
            "Processing law dataset:  35%|███▌      | 176/500 [41:14<1:15:36, 14.00s/it]\u001b[A\u001b[A"
          ]
        },
        {
          "output_type": "stream",
          "name": "stdout",
          "text": [
            "Appended result to Google Drive file: [176, 0.5111111111111111, 0.8, 0.645262853512006, 0.354559748427673, 0.0, 0.0]\n"
          ]
        },
        {
          "output_type": "stream",
          "name": "stderr",
          "text": [
            "\n",
            "\n",
            "Processing law dataset:  35%|███▌      | 177/500 [41:25<1:10:08, 13.03s/it]\u001b[A\u001b[A"
          ]
        },
        {
          "output_type": "stream",
          "name": "stdout",
          "text": [
            "Appended result to Google Drive file: [177, 0.25, 0.5833333333333333, 0.06809262166405024, 0.23361908559276978, 0.0, 0.0]\n"
          ]
        },
        {
          "output_type": "stream",
          "name": "stderr",
          "text": [
            "\n",
            "\n",
            "Processing law dataset:  36%|███▌      | 178/500 [41:36<1:06:43, 12.43s/it]\u001b[A\u001b[A"
          ]
        },
        {
          "output_type": "stream",
          "name": "stdout",
          "text": [
            "Appended result to Google Drive file: [178, 0.45833333333333337, 1.1666666666666667, 0.6815511708106395, 0.34586632609621115, 1.3850415512465373, 1.9762845849802373]\n"
          ]
        },
        {
          "output_type": "stream",
          "name": "stderr",
          "text": [
            "\n",
            "\n",
            "Processing law dataset:  36%|███▌      | 179/500 [41:53<1:13:02, 13.65s/it]\u001b[A\u001b[A"
          ]
        },
        {
          "output_type": "stream",
          "name": "stdout",
          "text": [
            "Appended result to Google Drive file: [179, 0.24561403508771928, 0.9649122807017544, 0.5521885521885522, 0.6523657792852983, 5.681818181818181, 2.6737967914438507]\n"
          ]
        },
        {
          "output_type": "stream",
          "name": "stderr",
          "text": [
            "\n",
            "\n",
            "Processing law dataset:  36%|███▌      | 180/500 [42:05<1:10:29, 13.22s/it]\u001b[A\u001b[A"
          ]
        },
        {
          "output_type": "stream",
          "name": "stdout",
          "text": [
            "Appended result to Google Drive file: [180, 0.5555555555555556, 1.0222222222222221, 0.27312262094870793, 0.41565656565656567, 6.944444444444445, 4.115226337448559]\n"
          ]
        },
        {
          "output_type": "stream",
          "name": "stderr",
          "text": [
            "\n",
            "\n",
            "Processing law dataset:  36%|███▌      | 181/500 [42:17<1:08:34, 12.90s/it]\u001b[A\u001b[A"
          ]
        },
        {
          "output_type": "stream",
          "name": "stdout",
          "text": [
            "Appended result to Google Drive file: [181, 0.10256410256410253, 0.4358974358974359, 0.3752913752913753, 0.3201252723311547, 28.30188679245283, 2.2321428571428568]\n"
          ]
        },
        {
          "output_type": "stream",
          "name": "stderr",
          "text": [
            "\n",
            "\n",
            "Processing law dataset:  36%|███▋      | 182/500 [42:30<1:08:35, 12.94s/it]\u001b[A\u001b[A"
          ]
        },
        {
          "output_type": "stream",
          "name": "stdout",
          "text": [
            "Appended result to Google Drive file: [182, 0.5925925925925926, 0.5740740740740741, 0.5171371838038504, 0.3377472201001613, 4.838709677419355, 2.7027027027027026]\n"
          ]
        },
        {
          "output_type": "stream",
          "name": "stderr",
          "text": [
            "\n",
            "\n",
            "Processing law dataset:  37%|███▋      | 183/500 [42:43<1:07:56, 12.86s/it]\u001b[A\u001b[A"
          ]
        },
        {
          "output_type": "stream",
          "name": "stdout",
          "text": [
            "Appended result to Google Drive file: [183, 0.5833333333333333, 0.7291666666666667, 0.4764542483660131, 0.37463233272857227, 2.0242914979757085, 2.083333333333333]\n"
          ]
        },
        {
          "output_type": "stream",
          "name": "stderr",
          "text": [
            "\n",
            "\n",
            "Processing law dataset:  37%|███▋      | 184/500 [42:58<1:12:11, 13.71s/it]\u001b[A\u001b[A"
          ]
        },
        {
          "output_type": "stream",
          "name": "stdout",
          "text": [
            "Appended result to Google Drive file: [184, 0.5, 0.8787878787878788, 0.7568707482993197, 0.5693826473859844, 4.777070063694268, 0.0]\n"
          ]
        },
        {
          "output_type": "stream",
          "name": "stderr",
          "text": [
            "\n",
            "\n",
            "Processing law dataset:  37%|███▋      | 185/500 [43:09<1:07:05, 12.78s/it]\u001b[A\u001b[A"
          ]
        },
        {
          "output_type": "stream",
          "name": "stdout",
          "text": [
            "Appended result to Google Drive file: [185, 0.13888888888888884, 1.2222222222222223, 0.36170212765957444, 0.48178382464096753, 4.310344827586206, 1.6501650165016504]\n"
          ]
        },
        {
          "output_type": "stream",
          "name": "stderr",
          "text": [
            "\n",
            "\n",
            "Processing law dataset:  37%|███▋      | 186/500 [43:21<1:05:15, 12.47s/it]\u001b[A\u001b[A"
          ]
        },
        {
          "output_type": "stream",
          "name": "stdout",
          "text": [
            "Appended result to Google Drive file: [186, 0.37037037037037035, 0.8888888888888888, 0.7763976460697771, 0.9079365079365079, 0.0, 0.0]\n"
          ]
        },
        {
          "output_type": "stream",
          "name": "stderr",
          "text": [
            "\n",
            "\n",
            "Processing law dataset:  37%|███▋      | 187/500 [43:38<1:12:33, 13.91s/it]\u001b[A\u001b[A"
          ]
        },
        {
          "output_type": "stream",
          "name": "stdout",
          "text": [
            "Appended result to Google Drive file: [187, 0.09999999999999998, 0.5333333333333333, 0.5560465458830461, 0.32268731865506056, 1.1467889908256879, 0.0]\n"
          ]
        },
        {
          "output_type": "stream",
          "name": "stderr",
          "text": [
            "\n",
            "\n",
            "Processing law dataset:  38%|███▊      | 188/500 [43:58<1:21:23, 15.65s/it]\u001b[A\u001b[A"
          ]
        },
        {
          "output_type": "stream",
          "name": "stdout",
          "text": [
            "Appended result to Google Drive file: [188, 0.41666666666666663, 1.5833333333333335, 0.6096439508204213, 0.6187084520417853, 1.4245014245014245, 1.6977928692699489]\n"
          ]
        },
        {
          "output_type": "stream",
          "name": "stderr",
          "text": [
            "\n",
            "\n",
            "Processing law dataset:  38%|███▊      | 189/500 [44:12<1:18:26, 15.13s/it]\u001b[A\u001b[A"
          ]
        },
        {
          "output_type": "stream",
          "name": "stdout",
          "text": [
            "Appended result to Google Drive file: [189, 0.5555555555555556, 0.8611111111111112, 0.4008352966373956, 0.6843518518518518, 5.7915057915057915, 5.208333333333334]\n"
          ]
        },
        {
          "output_type": "stream",
          "name": "stderr",
          "text": [
            "\n",
            "\n",
            "Processing law dataset:  38%|███▊      | 190/500 [44:26<1:17:37, 15.03s/it]\u001b[A\u001b[A"
          ]
        },
        {
          "output_type": "stream",
          "name": "stdout",
          "text": [
            "Appended result to Google Drive file: [190, 0.3076923076923077, 1.0769230769230769, 0.5975, 0.5999869893312516, 3.3557046979865772, 2.518891687657431]\n"
          ]
        },
        {
          "output_type": "stream",
          "name": "stderr",
          "text": [
            "\n",
            "\n",
            "Processing law dataset:  38%|███▊      | 191/500 [44:39<1:13:11, 14.21s/it]\u001b[A\u001b[A"
          ]
        },
        {
          "output_type": "stream",
          "name": "stdout",
          "text": [
            "Appended result to Google Drive file: [191, 0.4666666666666667, 0.7333333333333334, 0.48239232267960036, 0.3590882694541231, 6.63716814159292, 8.875739644970414]\n"
          ]
        },
        {
          "output_type": "stream",
          "name": "stderr",
          "text": [
            "\n",
            "\n",
            "Processing law dataset:  38%|███▊      | 192/500 [44:53<1:12:17, 14.08s/it]\u001b[A\u001b[A"
          ]
        },
        {
          "output_type": "stream",
          "name": "stdout",
          "text": [
            "Appended result to Google Drive file: [192, 0.3055555555555556, 0.7777777777777778, 0.23773584905660375, 0.34175084175084175, 3.9525691699604746, 0.0]\n"
          ]
        },
        {
          "output_type": "stream",
          "name": "stderr",
          "text": [
            "\n",
            "\n",
            "Processing law dataset:  39%|███▊      | 193/500 [45:07<1:13:11, 14.30s/it]\u001b[A\u001b[A"
          ]
        },
        {
          "output_type": "stream",
          "name": "stdout",
          "text": [
            "Appended result to Google Drive file: [193, 0.24444444444444446, 0.6666666666666667, 0.5213026047460141, 0.6173108500694707, 5.376344086021505, 1.6891891891891893]\n"
          ]
        },
        {
          "output_type": "stream",
          "name": "stderr",
          "text": [
            "\n",
            "\n",
            "Processing law dataset:  39%|███▉      | 194/500 [45:26<1:18:52, 15.47s/it]\u001b[A\u001b[A"
          ]
        },
        {
          "output_type": "stream",
          "name": "stdout",
          "text": [
            "Appended result to Google Drive file: [194, 0.05555555555555558, 1.8703703703703702, 0.7777777777777777, 0.9019607843137255, 15.625, 1.7094017094017095]\n"
          ]
        },
        {
          "output_type": "stream",
          "name": "stderr",
          "text": [
            "\n",
            "\n",
            "Processing law dataset:  39%|███▉      | 195/500 [45:36<1:11:17, 14.02s/it]\u001b[A\u001b[A"
          ]
        },
        {
          "output_type": "stream",
          "name": "stdout",
          "text": [
            "Appended result to Google Drive file: [195, 0.25, 0.7083333333333333, 0.48728070175438604, 0.39474789915966385, 3.4246575342465753, 2.242152466367713]\n"
          ]
        },
        {
          "output_type": "stream",
          "name": "stderr",
          "text": [
            "\n",
            "\n",
            "Processing law dataset:  39%|███▉      | 196/500 [45:55<1:18:24, 15.47s/it]\u001b[A\u001b[A"
          ]
        },
        {
          "output_type": "stream",
          "name": "stdout",
          "text": [
            "Appended result to Google Drive file: [196, 0.16666666666666663, 1.1333333333333333, 0.5048260685922271, 0.8818840579710145, 0.0, 0.0]\n"
          ]
        },
        {
          "output_type": "stream",
          "name": "stderr",
          "text": [
            "\n",
            "\n",
            "Processing law dataset:  39%|███▉      | 197/500 [46:10<1:16:44, 15.19s/it]\u001b[A\u001b[A"
          ]
        },
        {
          "output_type": "stream",
          "name": "stdout",
          "text": [
            "Appended result to Google Drive file: [197, 0.7272727272727273, 1.6666666666666665, 0.6401888341543515, 0.41944444444444445, 5.033557046979866, 3.058103975535168]\n"
          ]
        },
        {
          "output_type": "stream",
          "name": "stderr",
          "text": [
            "\n",
            "\n",
            "Processing law dataset:  40%|███▉      | 198/500 [46:19<1:07:50, 13.48s/it]\u001b[A\u001b[A"
          ]
        },
        {
          "output_type": "stream",
          "name": "stdout",
          "text": [
            "Appended result to Google Drive file: [198, 0.8484848484848485, 1.0909090909090908, 0.45045045045045046, 0.614336917562724, 8.241758241758241, 8.108108108108107]\n"
          ]
        },
        {
          "output_type": "stream",
          "name": "stderr",
          "text": [
            "\n",
            "\n",
            "Processing law dataset:  40%|███▉      | 199/500 [46:28<1:00:47, 12.12s/it]\u001b[A\u001b[A"
          ]
        },
        {
          "output_type": "stream",
          "name": "stdout",
          "text": [
            "Appended result to Google Drive file: [199, 0.09999999999999998, 0.09999999999999998, 0.5757575757575758, 0.35805109922756984, 27.27272727272727, 16.666666666666664]\n"
          ]
        },
        {
          "output_type": "stream",
          "name": "stderr",
          "text": [
            "\n",
            "\n",
            "Processing law dataset:  40%|████      | 200/500 [46:40<1:00:39, 12.13s/it]\u001b[A\u001b[A"
          ]
        },
        {
          "output_type": "stream",
          "name": "stdout",
          "text": [
            "Appended result to Google Drive file: [200, 0.43333333333333335, 0.8, 0.48835531393670933, 0.7257911757911758, 6.550218340611353, 6.382978723404256]\n"
          ]
        },
        {
          "output_type": "stream",
          "name": "stderr",
          "text": [
            "\n",
            "\n",
            "Processing law dataset:  40%|████      | 201/500 [46:57<1:07:28, 13.54s/it]\u001b[A\u001b[A"
          ]
        },
        {
          "output_type": "stream",
          "name": "stdout",
          "text": [
            "Appended result to Google Drive file: [201, 0.3571428571428571, 0.7857142857142857, 0.2509421702404158, 0.4494618660472319, 4.166666666666666, 4.9504950495049505]\n"
          ]
        },
        {
          "output_type": "stream",
          "name": "stderr",
          "text": [
            "\n",
            "\n",
            "Processing law dataset:  40%|████      | 202/500 [47:13<1:10:45, 14.25s/it]\u001b[A\u001b[A"
          ]
        },
        {
          "output_type": "stream",
          "name": "stdout",
          "text": [
            "Appended result to Google Drive file: [202, 0.19999999999999996, 0.4666666666666667, 0.41085650723025585, 0.5956068017703239, 2.0661157024793386, 5.74712643678161]\n"
          ]
        },
        {
          "output_type": "stream",
          "name": "stderr",
          "text": [
            "\n",
            "\n",
            "Processing law dataset:  41%|████      | 203/500 [47:22<1:03:17, 12.78s/it]\u001b[A\u001b[A"
          ]
        },
        {
          "output_type": "stream",
          "name": "stdout",
          "text": [
            "Appended result to Google Drive file: [203, 0.2222222222222222, 0.7407407407407407, 1.0, 0.5317268052190913, 50.0, 3.7593984962406015]\n"
          ]
        },
        {
          "output_type": "stream",
          "name": "stderr",
          "text": [
            "\n",
            "\n",
            "Processing law dataset:  41%|████      | 204/500 [47:35<1:03:00, 12.77s/it]\u001b[A\u001b[A"
          ]
        },
        {
          "output_type": "stream",
          "name": "stdout",
          "text": [
            "Appended result to Google Drive file: [204, 0.19047619047619047, 1.4285714285714286, 0.533713200379867, 0.5360991379310345, 1.9685039370078743, 1.17096018735363]\n"
          ]
        },
        {
          "output_type": "stream",
          "name": "stderr",
          "text": [
            "\n",
            "\n",
            "Processing law dataset:  41%|████      | 205/500 [47:50<1:05:42, 13.37s/it]\u001b[A\u001b[A"
          ]
        },
        {
          "output_type": "stream",
          "name": "stdout",
          "text": [
            "Appended result to Google Drive file: [205, 0.22916666666666663, 0.625, 0.15392953929539296, 0.3009124466011364, 8.241758241758241, 5.376344086021505]\n"
          ]
        },
        {
          "output_type": "stream",
          "name": "stderr",
          "text": [
            "\n",
            "\n",
            "Processing law dataset:  41%|████      | 206/500 [48:03<1:04:46, 13.22s/it]\u001b[A\u001b[A"
          ]
        },
        {
          "output_type": "stream",
          "name": "stdout",
          "text": [
            "Appended result to Google Drive file: [206, 0.5333333333333333, 1.4333333333333333, 0.5772117400419288, 0.509534706331045, 2.1097046413502114, 2.0576131687242794]\n"
          ]
        },
        {
          "output_type": "stream",
          "name": "stderr",
          "text": [
            "\n",
            "\n",
            "Processing law dataset:  41%|████▏     | 207/500 [48:13<59:55, 12.27s/it]  \u001b[A\u001b[A"
          ]
        },
        {
          "output_type": "stream",
          "name": "stdout",
          "text": [
            "Appended result to Google Drive file: [207, 0.3846153846153846, 0.5128205128205128, 0.2765729439116536, 0.5450292397660818, 0.0, 0.0]\n"
          ]
        },
        {
          "output_type": "stream",
          "name": "stderr",
          "text": [
            "\n",
            "\n",
            "Processing law dataset:  42%|████▏     | 208/500 [48:28<1:04:24, 13.23s/it]\u001b[A\u001b[A"
          ]
        },
        {
          "output_type": "stream",
          "name": "stdout",
          "text": [
            "Appended result to Google Drive file: [208, 0.5897435897435898, 0.7692307692307692, 0.5641966931700216, 0.4518518518518519, 5.7034220532319395, 3.105590062111801]\n"
          ]
        },
        {
          "output_type": "stream",
          "name": "stderr",
          "text": [
            "\n",
            "\n",
            "Processing law dataset:  42%|████▏     | 209/500 [48:44<1:07:12, 13.86s/it]\u001b[A\u001b[A"
          ]
        },
        {
          "output_type": "stream",
          "name": "stdout",
          "text": [
            "Appended result to Google Drive file: [209, 0.19999999999999996, 0.8222222222222222, 0.17320585343841158, 0.4420915032679738, 8.522727272727272, 3.3557046979865772]\n"
          ]
        },
        {
          "output_type": "stream",
          "name": "stderr",
          "text": [
            "\n",
            "\n",
            "Processing law dataset:  42%|████▏     | 210/500 [49:04<1:16:22, 15.80s/it]\u001b[A\u001b[A"
          ]
        },
        {
          "output_type": "stream",
          "name": "stdout",
          "text": [
            "Appended result to Google Drive file: [210, 0.3015873015873016, 1.0476190476190477, 0.30512581594909355, 0.8878306878306877, 4.2492917847025495, 3.597122302158273]\n"
          ]
        },
        {
          "output_type": "stream",
          "name": "stderr",
          "text": [
            "\n",
            "\n",
            "Processing law dataset:  42%|████▏     | 211/500 [49:15<1:09:09, 14.36s/it]\u001b[A\u001b[A"
          ]
        },
        {
          "output_type": "stream",
          "name": "stdout",
          "text": [
            "Appended result to Google Drive file: [211, 0.5, 0.7777777777777778, 0.7936702127659574, 0.6488001425944688, 0.0, 1.639344262295082]\n"
          ]
        },
        {
          "output_type": "stream",
          "name": "stderr",
          "text": [
            "\n",
            "\n",
            "Processing law dataset:  42%|████▏     | 212/500 [49:30<1:09:53, 14.56s/it]\u001b[A\u001b[A"
          ]
        },
        {
          "output_type": "stream",
          "name": "stdout",
          "text": [
            "Appended result to Google Drive file: [212, 0.30952380952380953, 0.8571428571428572, 0.6494633838383839, 0.9, 3.282275711159737, 6.097560975609756]\n"
          ]
        },
        {
          "output_type": "stream",
          "name": "stderr",
          "text": [
            "\n",
            "\n",
            "Processing law dataset:  43%|████▎     | 213/500 [49:46<1:11:31, 14.95s/it]\u001b[A\u001b[A"
          ]
        },
        {
          "output_type": "stream",
          "name": "stdout",
          "text": [
            "Appended result to Google Drive file: [213, 0.36111111111111116, 0.75, 0.690677966101695, 0.5790975193960269, 3.558718861209965, 4.329004329004328]\n"
          ]
        },
        {
          "output_type": "stream",
          "name": "stderr",
          "text": [
            "\n",
            "\n",
            "Processing law dataset:  43%|████▎     | 214/500 [50:00<1:10:07, 14.71s/it]\u001b[A\u001b[A"
          ]
        },
        {
          "output_type": "stream",
          "name": "stdout",
          "text": [
            "Appended result to Google Drive file: [214, 0.5555555555555556, 1.0666666666666667, 0.5045357083951839, 0.6126906318082789, 6.224066390041495, 4.687500000000001]\n"
          ]
        },
        {
          "output_type": "stream",
          "name": "stderr",
          "text": [
            "\n",
            "\n",
            "Processing law dataset:  43%|████▎     | 215/500 [50:14<1:09:31, 14.64s/it]\u001b[A\u001b[A"
          ]
        },
        {
          "output_type": "stream",
          "name": "stdout",
          "text": [
            "Appended result to Google Drive file: [215, 0.21212121212121215, 0.7575757575757576, 0.584091181643748, 0.7303783173348392, 1.440922190201729, 0.0]\n"
          ]
        },
        {
          "output_type": "stream",
          "name": "stderr",
          "text": [
            "\n",
            "\n",
            "Processing law dataset:  43%|████▎     | 216/500 [50:25<1:03:23, 13.39s/it]\u001b[A\u001b[A"
          ]
        },
        {
          "output_type": "stream",
          "name": "stdout",
          "text": [
            "Appended result to Google Drive file: [216, 0.12121212121212122, 0.48484848484848486, 0.20833333333333334, 0.155458089668616, 10.869565217391303, 8.875739644970414]\n"
          ]
        },
        {
          "output_type": "stream",
          "name": "stderr",
          "text": [
            "\n",
            "\n",
            "Processing law dataset:  43%|████▎     | 217/500 [50:37<1:00:46, 12.88s/it]\u001b[A\u001b[A"
          ]
        },
        {
          "output_type": "stream",
          "name": "stdout",
          "text": [
            "Appended result to Google Drive file: [217, 0.05555555555555558, 0.5277777777777778, 0.773148148148148, 0.12212643678160921, 21.27659574468085, 5.681818181818182]\n"
          ]
        },
        {
          "output_type": "stream",
          "name": "stderr",
          "text": [
            "\n",
            "\n",
            "Processing law dataset:  44%|████▎     | 218/500 [50:49<1:00:37, 12.90s/it]\u001b[A\u001b[A"
          ]
        },
        {
          "output_type": "stream",
          "name": "stdout",
          "text": [
            "Appended result to Google Drive file: [218, 0.23809523809523814, 0.7380952380952381, 0.44496638473216227, 0.3088472101153821, 0.0, 0.0]\n"
          ]
        },
        {
          "output_type": "stream",
          "name": "stderr",
          "text": [
            "\n",
            "\n",
            "Processing law dataset:  44%|████▍     | 219/500 [51:10<1:11:07, 15.19s/it]\u001b[A\u001b[A"
          ]
        },
        {
          "output_type": "stream",
          "name": "stdout",
          "text": [
            "Appended result to Google Drive file: [219, 0.030303030303030276, 1.0, 0.8936925647451964, 1.0, 2.286585365853659, 0.0]\n"
          ]
        },
        {
          "output_type": "stream",
          "name": "stderr",
          "text": [
            "\n",
            "\n",
            "Processing law dataset:  44%|████▍     | 220/500 [51:24<1:09:39, 14.93s/it]\u001b[A\u001b[A"
          ]
        },
        {
          "output_type": "stream",
          "name": "stdout",
          "text": [
            "Appended result to Google Drive file: [220, 0.4901960784313726, 0.47058823529411764, 0.7185592185592187, 0.38377192982456143, 4.658385093167702, 6.607929515418502]\n"
          ]
        },
        {
          "output_type": "stream",
          "name": "stderr",
          "text": [
            "\n",
            "\n",
            "Processing law dataset:  44%|████▍     | 221/500 [51:36<1:05:16, 14.04s/it]\u001b[A\u001b[A"
          ]
        },
        {
          "output_type": "stream",
          "name": "stdout",
          "text": [
            "Appended result to Google Drive file: [221, 0.0625, 0.625, 1.0, 0.5575216098150385, 47.61904761904762, 2.941176470588235]\n"
          ]
        },
        {
          "output_type": "stream",
          "name": "stderr",
          "text": [
            "\n",
            "\n",
            "Processing law dataset:  44%|████▍     | 222/500 [51:47<1:00:18, 13.01s/it]\u001b[A\u001b[A"
          ]
        },
        {
          "output_type": "stream",
          "name": "stdout",
          "text": [
            "Appended result to Google Drive file: [222, 0.40476190476190477, 0.6190476190476191, 0.47603785103785096, 0.20467836257309943, 6.024096385542169, 5.780346820809248]\n"
          ]
        },
        {
          "output_type": "stream",
          "name": "stderr",
          "text": [
            "\n",
            "\n",
            "Processing law dataset:  45%|████▍     | 223/500 [52:00<59:51, 12.96s/it]  \u001b[A\u001b[A"
          ]
        },
        {
          "output_type": "stream",
          "name": "stdout",
          "text": [
            "Appended result to Google Drive file: [223, 0.6666666666666667, 0.8809523809523809, 0.5968479117415287, 0.7532238716449243, 6.4102564102564115, 6.696428571428571]\n"
          ]
        },
        {
          "output_type": "stream",
          "name": "stderr",
          "text": [
            "\n",
            "\n",
            "Processing law dataset:  45%|████▍     | 224/500 [52:11<57:29, 12.50s/it]\u001b[A\u001b[A"
          ]
        },
        {
          "output_type": "stream",
          "name": "stdout",
          "text": [
            "Appended result to Google Drive file: [224, 0.37777777777777777, 0.5555555555555556, 0.6657362220250419, 0.5417271407837445, 5.813953488372093, 6.048387096774193]\n"
          ]
        },
        {
          "output_type": "stream",
          "name": "stderr",
          "text": [
            "\n",
            "\n",
            "Processing law dataset:  45%|████▌     | 225/500 [52:23<56:05, 12.24s/it]\u001b[A\u001b[A"
          ]
        },
        {
          "output_type": "stream",
          "name": "stdout",
          "text": [
            "Appended result to Google Drive file: [225, 0.37777777777777777, 0.4, 0.37674671008004346, 0.7393162393162394, 5.154639175257733, 12.5]\n"
          ]
        },
        {
          "output_type": "stream",
          "name": "stderr",
          "text": [
            "\n",
            "\n",
            "Processing law dataset:  45%|████▌     | 226/500 [52:36<56:33, 12.38s/it]\u001b[A\u001b[A"
          ]
        },
        {
          "output_type": "stream",
          "name": "stdout",
          "text": [
            "Appended result to Google Drive file: [226, 0.40740740740740744, 0.7777777777777778, 0.49450078080215065, 0.7314102564102565, 4.451038575667656, 0.0]\n"
          ]
        },
        {
          "output_type": "stream",
          "name": "stderr",
          "text": [
            "\n",
            "\n",
            "Processing law dataset:  45%|████▌     | 227/500 [52:54<1:04:22, 14.15s/it]\u001b[A\u001b[A"
          ]
        },
        {
          "output_type": "stream",
          "name": "stdout",
          "text": [
            "Appended result to Google Drive file: [227, 0.5098039215686274, 0.6274509803921569, 0.45512629901568347, 0.6750524109014675, 5.319148936170213, 2.6178010471204187]\n"
          ]
        },
        {
          "output_type": "stream",
          "name": "stderr",
          "text": [
            "\n",
            "\n",
            "Processing law dataset:  46%|████▌     | 228/500 [53:07<1:03:30, 14.01s/it]\u001b[A\u001b[A"
          ]
        },
        {
          "output_type": "stream",
          "name": "stdout",
          "text": [
            "Appended result to Google Drive file: [228, 0.6470588235294117, 1.2549019607843137, 0.6023208675382589, 0.80175983436853, 5.1194539249146755, 5.357142857142857]\n"
          ]
        },
        {
          "output_type": "stream",
          "name": "stderr",
          "text": [
            "\n",
            "\n",
            "Processing law dataset:  46%|████▌     | 229/500 [53:19<1:00:20, 13.36s/it]\u001b[A\u001b[A"
          ]
        },
        {
          "output_type": "stream",
          "name": "stdout",
          "text": [
            "Appended result to Google Drive file: [229, 0.5925925925925926, 1.037037037037037, 0.595259202971969, 0.6182275541795667, 5.928853754940711, 15.789473684210526]\n"
          ]
        },
        {
          "output_type": "stream",
          "name": "stderr",
          "text": [
            "\n",
            "\n",
            "Processing law dataset:  46%|████▌     | 230/500 [53:33<1:00:12, 13.38s/it]\u001b[A\u001b[A"
          ]
        },
        {
          "output_type": "stream",
          "name": "stdout",
          "text": [
            "Appended result to Google Drive file: [230, 0.23333333333333328, 1.0333333333333334, 0.262949524270279, 0.5755643390426, 3.4602076124567476, 2.457002457002457]\n"
          ]
        },
        {
          "output_type": "stream",
          "name": "stderr",
          "text": [
            "\n",
            "\n",
            "Processing law dataset:  46%|████▌     | 231/500 [53:50<1:04:59, 14.49s/it]\u001b[A\u001b[A"
          ]
        },
        {
          "output_type": "stream",
          "name": "stdout",
          "text": [
            "Appended result to Google Drive file: [231, 0.05555555555555558, 0.6666666666666667, 0.2702380952380952, 0.6840828924162258, 0.0, 2.652519893899204]\n"
          ]
        },
        {
          "output_type": "stream",
          "name": "stderr",
          "text": [
            "\n",
            "\n",
            "Processing law dataset:  46%|████▋     | 232/500 [54:08<1:09:11, 15.49s/it]\u001b[A\u001b[A"
          ]
        },
        {
          "output_type": "stream",
          "name": "stdout",
          "text": [
            "Appended result to Google Drive file: [232, 0.11764705882352944, 0.6862745098039216, 0.058440990666054606, 0.42448979591836733, 0.0, 3.322259136212625]\n"
          ]
        },
        {
          "output_type": "stream",
          "name": "stderr",
          "text": [
            "\n",
            "\n",
            "Processing law dataset:  47%|████▋     | 233/500 [54:22<1:08:01, 15.29s/it]\u001b[A\u001b[A"
          ]
        },
        {
          "output_type": "stream",
          "name": "stdout",
          "text": [
            "Appended result to Google Drive file: [233, 0.43333333333333335, 0.6666666666666667, 0.6229126709130183, 0.38987012987012987, 3.9370078740157486, 0.0]\n"
          ]
        },
        {
          "output_type": "stream",
          "name": "stderr",
          "text": [
            "\n",
            "\n",
            "Processing law dataset:  47%|████▋     | 234/500 [54:34<1:02:54, 14.19s/it]\u001b[A\u001b[A"
          ]
        },
        {
          "output_type": "stream",
          "name": "stdout",
          "text": [
            "Appended result to Google Drive file: [234, 0.40476190476190477, 0.8809523809523809, 0.3824601900173959, 0.5757575757575758, 3.1446540880503147, 0.0]\n"
          ]
        },
        {
          "output_type": "stream",
          "name": "stderr",
          "text": [
            "\n",
            "\n",
            "Processing law dataset:  47%|████▋     | 235/500 [54:46<59:35, 13.49s/it]  \u001b[A\u001b[A"
          ]
        },
        {
          "output_type": "stream",
          "name": "stdout",
          "text": [
            "Appended result to Google Drive file: [235, 0.07843137254901966, 0.8431372549019608, 0.27777777777777773, 0.624614161199527, 17.857142857142858, 2.2123893805309733]\n"
          ]
        },
        {
          "output_type": "stream",
          "name": "stderr",
          "text": [
            "\n",
            "\n",
            "Processing law dataset:  47%|████▋     | 236/500 [55:03<1:04:02, 14.56s/it]\u001b[A\u001b[A"
          ]
        },
        {
          "output_type": "stream",
          "name": "stdout",
          "text": [
            "Appended result to Google Drive file: [236, 0.41666666666666663, 0.6041666666666667, 0.5366778845597844, 0.45988148423926534, 2.793296089385475, 2.6178010471204187]\n"
          ]
        },
        {
          "output_type": "stream",
          "name": "stderr",
          "text": [
            "\n",
            "\n",
            "Processing law dataset:  47%|████▋     | 237/500 [55:16<1:02:00, 14.14s/it]\u001b[A\u001b[A"
          ]
        },
        {
          "output_type": "stream",
          "name": "stdout",
          "text": [
            "Appended result to Google Drive file: [237, 0.4666666666666667, 1.0, 0.6724936116240464, 0.923076923076923, 3.4562211981566815, 5.181347150259067]\n"
          ]
        },
        {
          "output_type": "stream",
          "name": "stderr",
          "text": [
            "\n",
            "\n",
            "Processing law dataset:  48%|████▊     | 238/500 [55:33<1:04:57, 14.88s/it]\u001b[A\u001b[A"
          ]
        },
        {
          "output_type": "stream",
          "name": "stdout",
          "text": [
            "Appended result to Google Drive file: [238, 0.6666666666666667, 0.7536231884057971, 0.5139685537717249, 0.3378332814607325, 3.125000000000001, 0.0]\n"
          ]
        },
        {
          "output_type": "stream",
          "name": "stderr",
          "text": [
            "\n",
            "\n",
            "Processing law dataset:  48%|████▊     | 239/500 [55:45<1:01:10, 14.06s/it]\u001b[A\u001b[A"
          ]
        },
        {
          "output_type": "stream",
          "name": "stdout",
          "text": [
            "Appended result to Google Drive file: [239, 0.07692307692307687, 0.7435897435897436, 0.5333333333333333, 0.7290564373897707, 42.857142857142854, 4.761904761904762]\n"
          ]
        },
        {
          "output_type": "stream",
          "name": "stderr",
          "text": [
            "\n",
            "\n",
            "Processing law dataset:  48%|████▊     | 240/500 [56:00<1:01:46, 14.25s/it]\u001b[A\u001b[A"
          ]
        },
        {
          "output_type": "stream",
          "name": "stdout",
          "text": [
            "Appended result to Google Drive file: [240, 0.2666666666666667, 0.6333333333333333, 0.5139272913466462, 0.6214992025518341, 4.70219435736677, 1.6611295681063125]\n"
          ]
        },
        {
          "output_type": "stream",
          "name": "stderr",
          "text": [
            "\n",
            "\n",
            "Processing law dataset:  48%|████▊     | 241/500 [56:11<57:20, 13.28s/it]  \u001b[A\u001b[A"
          ]
        },
        {
          "output_type": "stream",
          "name": "stdout",
          "text": [
            "Appended result to Google Drive file: [241, 0.33333333333333337, 0.9, 0.21317016317016316, 0.600877192982456, 0.0, 0.0]\n"
          ]
        },
        {
          "output_type": "stream",
          "name": "stderr",
          "text": [
            "\n",
            "\n",
            "Processing law dataset:  48%|████▊     | 242/500 [56:25<59:02, 13.73s/it]\u001b[A\u001b[A"
          ]
        },
        {
          "output_type": "stream",
          "name": "stdout",
          "text": [
            "Appended result to Google Drive file: [242, 0.33333333333333337, 0.962962962962963, 0.2779663384314547, 0.37662584133289195, 2.5, 0.0]\n"
          ]
        },
        {
          "output_type": "stream",
          "name": "stderr",
          "text": [
            "\n",
            "\n",
            "Processing law dataset:  49%|████▊     | 243/500 [56:37<56:08, 13.11s/it]\u001b[A\u001b[A"
          ]
        },
        {
          "output_type": "stream",
          "name": "stdout",
          "text": [
            "Appended result to Google Drive file: [243, 0.5555555555555556, 0.8888888888888888, 0.5603667392883079, 0.4853199930998793, 3.6363636363636362, 4.643962848297214]\n"
          ]
        },
        {
          "output_type": "stream",
          "name": "stderr",
          "text": [
            "\n",
            "\n",
            "Processing law dataset:  49%|████▉     | 244/500 [56:51<57:31, 13.48s/it]\u001b[A\u001b[A"
          ]
        },
        {
          "output_type": "stream",
          "name": "stdout",
          "text": [
            "Appended result to Google Drive file: [244, 0.052631578947368474, 0.736842105263158, 0.4600790513833992, 0.31633326731365946, 12.195121951219514, 4.504504504504505]\n"
          ]
        },
        {
          "output_type": "stream",
          "name": "stderr",
          "text": [
            "\n",
            "\n",
            "Processing law dataset:  49%|████▉     | 245/500 [57:08<1:00:53, 14.33s/it]\u001b[A\u001b[A"
          ]
        },
        {
          "output_type": "stream",
          "name": "stdout",
          "text": [
            "Appended result to Google Drive file: [245, 0.33333333333333337, 0.7111111111111111, 0.302113572701808, 0.3134531590413943, 3.8560411311053984, 5.952380952380952]\n"
          ]
        },
        {
          "output_type": "stream",
          "name": "stderr",
          "text": [
            "\n",
            "\n",
            "Processing law dataset:  49%|████▉     | 246/500 [57:20<57:58, 13.70s/it]  \u001b[A\u001b[A"
          ]
        },
        {
          "output_type": "stream",
          "name": "stdout",
          "text": [
            "Appended result to Google Drive file: [246, 1.1458333333333333, 0.5833333333333333, 0.5158531095247283, 0.5175576519916142, 4.109589041095891, 6.976744186046512]\n"
          ]
        },
        {
          "output_type": "stream",
          "name": "stderr",
          "text": [
            "\n",
            "\n",
            "Processing law dataset:  49%|████▉     | 247/500 [57:31<54:28, 12.92s/it]\u001b[A\u001b[A"
          ]
        },
        {
          "output_type": "stream",
          "name": "stdout",
          "text": [
            "Appended result to Google Drive file: [247, 0.45238095238095233, 0.7857142857142857, 0.5164385164385165, 0.7647058823529411, 0.0, 0.0]\n"
          ]
        },
        {
          "output_type": "stream",
          "name": "stderr",
          "text": [
            "\n",
            "\n",
            "Processing law dataset:  50%|████▉     | 248/500 [57:43<52:31, 12.50s/it]\u001b[A\u001b[A"
          ]
        },
        {
          "output_type": "stream",
          "name": "stdout",
          "text": [
            "Appended result to Google Drive file: [248, 0.5238095238095238, 0.5476190476190477, 0.5787061062099984, 0.471264367816092, 4.115226337448559, 6.0]\n"
          ]
        },
        {
          "output_type": "stream",
          "name": "stderr",
          "text": [
            "\n",
            "\n",
            "Processing law dataset:  50%|████▉     | 249/500 [57:54<51:19, 12.27s/it]\u001b[A\u001b[A"
          ]
        },
        {
          "output_type": "stream",
          "name": "stdout",
          "text": [
            "Appended result to Google Drive file: [249, 0.8333333333333334, 0.9, 0.5037164093767866, 0.20383621546412245, 1.6722408026755853, 0.0]\n"
          ]
        },
        {
          "output_type": "stream",
          "name": "stderr",
          "text": [
            "\n",
            "\n",
            "Processing law dataset:  50%|█████     | 250/500 [58:05<48:44, 11.70s/it]\u001b[A\u001b[A"
          ]
        },
        {
          "output_type": "stream",
          "name": "stdout",
          "text": [
            "Appended result to Google Drive file: [250, 0.40476190476190477, 0.9047619047619048, 0.38409007013658175, 0.7962962962962963, 0.0, 0.0]\n"
          ]
        },
        {
          "output_type": "stream",
          "name": "stderr",
          "text": [
            "\n",
            "\n",
            "Processing law dataset:  50%|█████     | 251/500 [58:21<54:19, 13.09s/it]\u001b[A\u001b[A"
          ]
        },
        {
          "output_type": "stream",
          "name": "stdout",
          "text": [
            "Appended result to Google Drive file: [251, 0.4, 0.8222222222222222, 0.5282449554874805, 0.6087264878199199, 1.9607843137254906, 0.0]\n"
          ]
        },
        {
          "output_type": "stream",
          "name": "stderr",
          "text": [
            "\n",
            "\n",
            "Processing law dataset:  50%|█████     | 252/500 [58:43<1:04:38, 15.64s/it]\u001b[A\u001b[A"
          ]
        },
        {
          "output_type": "stream",
          "name": "stdout",
          "text": [
            "Appended result to Google Drive file: [252, 0.367816091954023, 0.896551724137931, 0.7697704397838266, 0.6176110595753453, 2.311248073959938, 3.7593984962406015]\n"
          ]
        },
        {
          "output_type": "stream",
          "name": "stderr",
          "text": [
            "\n",
            "\n",
            "Processing law dataset:  51%|█████     | 253/500 [58:57<1:02:25, 15.16s/it]\u001b[A\u001b[A"
          ]
        },
        {
          "output_type": "stream",
          "name": "stdout",
          "text": [
            "Appended result to Google Drive file: [253, 0.27083333333333337, 0.625, 0.6282178314002059, 0.7916377916377916, 5.952380952380952, 6.17283950617284]\n"
          ]
        },
        {
          "output_type": "stream",
          "name": "stderr",
          "text": [
            "\n",
            "\n",
            "Processing law dataset:  51%|█████     | 254/500 [59:12<1:02:50, 15.33s/it]\u001b[A\u001b[A"
          ]
        },
        {
          "output_type": "stream",
          "name": "stdout",
          "text": [
            "Appended result to Google Drive file: [254, 0.4358974358974359, 0.8717948717948718, 0.7600738568480505, 0.4871794871794872, 3.0181086519114686, 5.190311418685122]\n"
          ]
        },
        {
          "output_type": "stream",
          "name": "stderr",
          "text": [
            "\n",
            "\n",
            "Processing law dataset:  51%|█████     | 255/500 [59:23<56:54, 13.94s/it]  \u001b[A\u001b[A"
          ]
        },
        {
          "output_type": "stream",
          "name": "stdout",
          "text": [
            "Appended result to Google Drive file: [255, 0.20512820512820518, 0.6923076923076923, 0.6856060606060606, 0.39950738916256157, 5.4945054945054945, 7.142857142857142]\n"
          ]
        },
        {
          "output_type": "stream",
          "name": "stderr",
          "text": [
            "\n",
            "\n",
            "Processing law dataset:  51%|█████     | 256/500 [59:39<58:50, 14.47s/it]\u001b[A\u001b[A"
          ]
        },
        {
          "output_type": "stream",
          "name": "stdout",
          "text": [
            "Appended result to Google Drive file: [256, 0.4385964912280702, 0.7894736842105263, 0.5545216874628639, 0.3501091841255776, 5.639097744360902, 4.934210526315789]\n"
          ]
        },
        {
          "output_type": "stream",
          "name": "stderr",
          "text": [
            "\n",
            "\n",
            "Processing law dataset:  51%|█████▏    | 257/500 [59:57<1:03:39, 15.72s/it]\u001b[A\u001b[A"
          ]
        },
        {
          "output_type": "stream",
          "name": "stdout",
          "text": [
            "Appended result to Google Drive file: [257, 0.3650793650793651, 0.6666666666666667, 0.5023794967693985, 0.5040322580645161, 3.8461538461538463, 0.0]\n"
          ]
        },
        {
          "output_type": "stream",
          "name": "stderr",
          "text": [
            "\n",
            "\n",
            "Processing law dataset:  52%|█████▏    | 258/500 [1:00:12<1:02:18, 15.45s/it]\u001b[A\u001b[A"
          ]
        },
        {
          "output_type": "stream",
          "name": "stdout",
          "text": [
            "Appended result to Google Drive file: [258, 0.36111111111111116, 1.1388888888888888, 0.4802794681090827, 0.35957058507783146, 1.6501650165016504, 1.2987012987012987]\n"
          ]
        },
        {
          "output_type": "stream",
          "name": "stderr",
          "text": [
            "\n",
            "\n",
            "Processing law dataset:  52%|█████▏    | 259/500 [1:00:30<1:05:09, 16.22s/it]\u001b[A\u001b[A"
          ]
        },
        {
          "output_type": "stream",
          "name": "stdout",
          "text": [
            "Appended result to Google Drive file: [259, 0.19999999999999996, 0.43333333333333335, 0.6719543856189819, 0.46535121328224777, 1.4749262536873153, 1.851851851851852]\n"
          ]
        },
        {
          "output_type": "stream",
          "name": "stderr",
          "text": [
            "\n",
            "\n",
            "Processing law dataset:  52%|█████▏    | 260/500 [1:00:43<1:00:52, 15.22s/it]\u001b[A\u001b[A"
          ]
        },
        {
          "output_type": "stream",
          "name": "stdout",
          "text": [
            "Appended result to Google Drive file: [260, 0.17647058823529416, 0.9803921568627451, 0.19591836734693877, 0.4841787439613527, 0.0, 4.23728813559322]\n"
          ]
        },
        {
          "output_type": "stream",
          "name": "stderr",
          "text": [
            "\n",
            "\n",
            "Processing law dataset:  52%|█████▏    | 261/500 [1:01:01<1:03:14, 15.88s/it]\u001b[A\u001b[A"
          ]
        },
        {
          "output_type": "stream",
          "name": "stdout",
          "text": [
            "Appended result to Google Drive file: [261, 0.17647058823529416, 0.607843137254902, 0.3308743046496634, 0.5318111816956796, 5.128205128205128, 1.0917030567685588]\n"
          ]
        },
        {
          "output_type": "stream",
          "name": "stderr",
          "text": [
            "\n",
            "\n",
            "Processing law dataset:  52%|█████▏    | 262/500 [1:01:14<1:00:39, 15.29s/it]\u001b[A\u001b[A"
          ]
        },
        {
          "output_type": "stream",
          "name": "stdout",
          "text": [
            "Appended result to Google Drive file: [262, 0.6666666666666667, 1.2333333333333334, 0.7235958485958486, 0.6644333176663183, 0.0, 0.0]\n"
          ]
        },
        {
          "output_type": "stream",
          "name": "stderr",
          "text": [
            "\n",
            "\n",
            "Processing law dataset:  53%|█████▎    | 263/500 [1:01:27<57:03, 14.44s/it]  \u001b[A\u001b[A"
          ]
        },
        {
          "output_type": "stream",
          "name": "stdout",
          "text": [
            "Appended result to Google Drive file: [263, 0.1333333333333333, 0.28888888888888886, 0.04267904267904268, 0.19798850574712645, 0.0, 0.0]\n"
          ]
        },
        {
          "output_type": "stream",
          "name": "stderr",
          "text": [
            "\n",
            "\n",
            "Processing law dataset:  53%|█████▎    | 264/500 [1:01:41<56:42, 14.42s/it]\u001b[A\u001b[A"
          ]
        },
        {
          "output_type": "stream",
          "name": "stdout",
          "text": [
            "Appended result to Google Drive file: [264, 0.4666666666666667, 0.9, 0.6228139248096483, 0.875, 2.3529411764705888, 0.0]\n"
          ]
        },
        {
          "output_type": "stream",
          "name": "stderr",
          "text": [
            "\n",
            "\n",
            "Processing law dataset:  53%|█████▎    | 265/500 [1:01:54<54:15, 13.85s/it]\u001b[A\u001b[A"
          ]
        },
        {
          "output_type": "stream",
          "name": "stdout",
          "text": [
            "Appended result to Google Drive file: [265, 0.3111111111111111, 0.48888888888888893, 0.5584368530020704, 0.5670373753398609, 4.405286343612334, 4.184100418410042]\n"
          ]
        },
        {
          "output_type": "stream",
          "name": "stderr",
          "text": [
            "\n",
            "\n",
            "Processing law dataset:  53%|█████▎    | 266/500 [1:02:11<58:06, 14.90s/it]\u001b[A\u001b[A"
          ]
        },
        {
          "output_type": "stream",
          "name": "stdout",
          "text": [
            "Appended result to Google Drive file: [266, 0.16666666666666663, 1.0, 0.5412014885699096, 1.0, 3.4090909090909087, 4.566210045662101]\n"
          ]
        },
        {
          "output_type": "stream",
          "name": "stderr",
          "text": [
            "\n",
            "\n",
            "Processing law dataset:  53%|█████▎    | 267/500 [1:02:26<57:25, 14.79s/it]\u001b[A\u001b[A"
          ]
        },
        {
          "output_type": "stream",
          "name": "stdout",
          "text": [
            "Appended result to Google Drive file: [267, 0.22916666666666663, 0.5833333333333333, 0.1595238095238095, 0.3438569604086845, 0.0, 4.25531914893617]\n"
          ]
        },
        {
          "output_type": "stream",
          "name": "stderr",
          "text": [
            "\n",
            "\n",
            "Processing law dataset:  54%|█████▎    | 268/500 [1:02:37<52:36, 13.60s/it]\u001b[A\u001b[A"
          ]
        },
        {
          "output_type": "stream",
          "name": "stdout",
          "text": [
            "Appended result to Google Drive file: [268, 0.09090909090909094, 0.8181818181818181, 1.0, 0.47077922077922074, 71.42857142857143, 5.88235294117647]\n"
          ]
        },
        {
          "output_type": "stream",
          "name": "stderr",
          "text": [
            "\n",
            "\n",
            "Processing law dataset:  54%|█████▍    | 269/500 [1:02:52<54:55, 14.27s/it]\u001b[A\u001b[A"
          ]
        },
        {
          "output_type": "stream",
          "name": "stdout",
          "text": [
            "Appended result to Google Drive file: [269, 0.6041666666666667, 0.8125, 0.5328470380194518, 0.8205399584076055, 3.597122302158273, 0.0]\n"
          ]
        },
        {
          "output_type": "stream",
          "name": "stderr",
          "text": [
            "\n",
            "\n",
            "Processing law dataset:  54%|█████▍    | 270/500 [1:03:09<57:40, 15.05s/it]\u001b[A\u001b[A"
          ]
        },
        {
          "output_type": "stream",
          "name": "stdout",
          "text": [
            "Appended result to Google Drive file: [270, 0.5238095238095238, 0.5714285714285714, 0.6905410032528677, 0.6459443099273607, 4.504504504504505, 4.70219435736677]\n"
          ]
        },
        {
          "output_type": "stream",
          "name": "stderr",
          "text": [
            "\n",
            "\n",
            "Processing law dataset:  54%|█████▍    | 271/500 [1:03:25<58:35, 15.35s/it]\u001b[A\u001b[A"
          ]
        },
        {
          "output_type": "stream",
          "name": "stdout",
          "text": [
            "Appended result to Google Drive file: [271, 0.2222222222222222, 0.5185185185185186, 0.5790998217468806, 0.25677396567195526, 1.4705882352941175, 2.5125628140703515]\n"
          ]
        },
        {
          "output_type": "stream",
          "name": "stderr",
          "text": [
            "\n",
            "\n",
            "Processing law dataset:  54%|█████▍    | 272/500 [1:03:36<53:32, 14.09s/it]\u001b[A\u001b[A"
          ]
        },
        {
          "output_type": "stream",
          "name": "stdout",
          "text": [
            "Appended result to Google Drive file: [272, 0.5925925925925926, 0.9259259259259259, 0.5662335722819594, 0.28065615976063735, 2.7397260273972606, 3.4965034965034967]\n"
          ]
        },
        {
          "output_type": "stream",
          "name": "stderr",
          "text": [
            "\n",
            "\n",
            "Processing law dataset:  55%|█████▍    | 273/500 [1:03:47<49:50, 13.18s/it]\u001b[A\u001b[A"
          ]
        },
        {
          "output_type": "stream",
          "name": "stdout",
          "text": [
            "Appended result to Google Drive file: [273, 0.4833333333333333, 1.0666666666666667, 0.5179299167830861, 0.7753586282998047, 3.3557046979865772, 2.717391304347826]\n"
          ]
        },
        {
          "output_type": "stream",
          "name": "stderr",
          "text": [
            "\n",
            "\n",
            "Processing law dataset:  55%|█████▍    | 274/500 [1:04:01<50:31, 13.41s/it]\u001b[A\u001b[A"
          ]
        },
        {
          "output_type": "stream",
          "name": "stdout",
          "text": [
            "Appended result to Google Drive file: [274, 0.43137254901960786, 0.6470588235294117, 0.7551713947990545, 0.7314593301435407, 4.658385093167702, 0.0]\n"
          ]
        },
        {
          "output_type": "stream",
          "name": "stderr",
          "text": [
            "\n",
            "\n",
            "Processing law dataset:  55%|█████▌    | 275/500 [1:04:18<53:16, 14.21s/it]\u001b[A\u001b[A"
          ]
        },
        {
          "output_type": "stream",
          "name": "stdout",
          "text": [
            "Appended result to Google Drive file: [275, 0.4509803921568627, 1.843137254901961, 0.643719806763285, 0.6625020920366119, 0.0, 0.0]\n"
          ]
        },
        {
          "output_type": "stream",
          "name": "stderr",
          "text": [
            "\n",
            "\n",
            "Processing law dataset:  55%|█████▌    | 276/500 [1:04:32<53:05, 14.22s/it]\u001b[A\u001b[A"
          ]
        },
        {
          "output_type": "stream",
          "name": "stdout",
          "text": [
            "Appended result to Google Drive file: [276, 0.8205128205128205, 1.0256410256410255, 0.4818323586744639, 0.6660818713450292, 5.190311418685122, 8.670520231213874]\n"
          ]
        },
        {
          "output_type": "stream",
          "name": "stderr",
          "text": [
            "\n",
            "\n",
            "Processing law dataset:  55%|█████▌    | 277/500 [1:04:47<53:34, 14.42s/it]\u001b[A\u001b[A"
          ]
        },
        {
          "output_type": "stream",
          "name": "stdout",
          "text": [
            "Appended result to Google Drive file: [277, 0.29166666666666663, 1.0208333333333333, 0.42172403381642515, 0.5877595628415301, 5.10204081632653, 1.440922190201729]\n"
          ]
        },
        {
          "output_type": "stream",
          "name": "stderr",
          "text": [
            "\n",
            "\n",
            "Processing law dataset:  56%|█████▌    | 278/500 [1:05:02<54:50, 14.82s/it]\u001b[A\u001b[A"
          ]
        },
        {
          "output_type": "stream",
          "name": "stdout",
          "text": [
            "Appended result to Google Drive file: [278, 0.4871794871794872, 1.8205128205128205, 0.329838298955946, 0.7337011884550084, 4.201680672268908, 2.8142589118198877]\n"
          ]
        },
        {
          "output_type": "stream",
          "name": "stderr",
          "text": [
            "\n",
            "\n",
            "Processing law dataset:  56%|█████▌    | 279/500 [1:05:14<51:02, 13.86s/it]\u001b[A\u001b[A"
          ]
        },
        {
          "output_type": "stream",
          "name": "stdout",
          "text": [
            "Appended result to Google Drive file: [279, 0.33333333333333337, 0.9166666666666666, 0.6421130952380952, 0.9047619047619048, 4.70219435736677, 0.0]\n"
          ]
        },
        {
          "output_type": "stream",
          "name": "stderr",
          "text": [
            "\n",
            "\n",
            "Processing law dataset:  56%|█████▌    | 280/500 [1:05:27<49:42, 13.56s/it]\u001b[A\u001b[A"
          ]
        },
        {
          "output_type": "stream",
          "name": "stdout",
          "text": [
            "Appended result to Google Drive file: [280, 0.23809523809523814, 0.8571428571428572, 0.6536454581832732, 1.0, 1.5923566878980893, 0.0]\n"
          ]
        },
        {
          "output_type": "stream",
          "name": "stderr",
          "text": [
            "\n",
            "\n",
            "Processing law dataset:  56%|█████▌    | 281/500 [1:05:41<49:52, 13.67s/it]\u001b[A\u001b[A"
          ]
        },
        {
          "output_type": "stream",
          "name": "stdout",
          "text": [
            "Appended result to Google Drive file: [281, 0.11111111111111116, 0.8611111111111112, 0.2953062890880867, 0.3255221386800334, 2.0242914979757085, 1.5974440894568693]\n"
          ]
        },
        {
          "output_type": "stream",
          "name": "stderr",
          "text": [
            "\n",
            "\n",
            "Processing law dataset:  56%|█████▋    | 282/500 [1:05:59<54:16, 14.94s/it]\u001b[A\u001b[A"
          ]
        },
        {
          "output_type": "stream",
          "name": "stdout",
          "text": [
            "Appended result to Google Drive file: [282, 0.36363636363636365, 1.5151515151515151, 0.5661870010621167, 0.6856958555071762, 2.0, 2.4154589371980673]\n"
          ]
        },
        {
          "output_type": "stream",
          "name": "stderr",
          "text": [
            "\n",
            "\n",
            "Processing law dataset:  57%|█████▋    | 283/500 [1:06:12<52:15, 14.45s/it]\u001b[A\u001b[A"
          ]
        },
        {
          "output_type": "stream",
          "name": "stdout",
          "text": [
            "Appended result to Google Drive file: [283, 0.1428571428571429, 0.7142857142857143, 0.8015873015873015, 0.2827932098765432, 0.0, 0.0]\n"
          ]
        },
        {
          "output_type": "stream",
          "name": "stderr",
          "text": [
            "\n",
            "\n",
            "Processing law dataset:  57%|█████▋    | 284/500 [1:06:24<49:42, 13.81s/it]\u001b[A\u001b[A"
          ]
        },
        {
          "output_type": "stream",
          "name": "stdout",
          "text": [
            "Appended result to Google Drive file: [284, 0.9803921568627451, 1.0980392156862746, 0.6085255775188313, 0.6753875968992249, 5.813953488372093, 5.769230769230769]\n"
          ]
        },
        {
          "output_type": "stream",
          "name": "stderr",
          "text": [
            "\n",
            "\n",
            "Processing law dataset:  57%|█████▋    | 285/500 [1:06:39<49:57, 13.94s/it]\u001b[A\u001b[A"
          ]
        },
        {
          "output_type": "stream",
          "name": "stdout",
          "text": [
            "Appended result to Google Drive file: [285, 0.4444444444444444, 0.8, 0.4414115963668035, 0.5305786822900607, 1.8450184501845017, 1.858736059479554]\n"
          ]
        },
        {
          "output_type": "stream",
          "name": "stderr",
          "text": [
            "\n",
            "\n",
            "Processing law dataset:  57%|█████▋    | 286/500 [1:06:52<48:51, 13.70s/it]\u001b[A\u001b[A"
          ]
        },
        {
          "output_type": "stream",
          "name": "stdout",
          "text": [
            "Appended result to Google Drive file: [286, 0.5972222222222222, 0.8333333333333334, 0.6407137907137908, 0.5618073422759557, 1.7857142857142856, 1.8796992481203008]\n"
          ]
        },
        {
          "output_type": "stream",
          "name": "stderr",
          "text": [
            "\n",
            "\n",
            "Processing law dataset:  57%|█████▋    | 287/500 [1:07:07<50:17, 14.17s/it]\u001b[A\u001b[A"
          ]
        },
        {
          "output_type": "stream",
          "name": "stdout",
          "text": [
            "Appended result to Google Drive file: [287, 0.5555555555555556, 1.4074074074074074, 0.6861434825502527, 0.5990646258503401, 5.338078291814947, 1.5015015015015014]\n"
          ]
        },
        {
          "output_type": "stream",
          "name": "stderr",
          "text": [
            "\n",
            "\n",
            "Processing law dataset:  58%|█████▊    | 288/500 [1:07:18<47:15, 13.38s/it]\u001b[A\u001b[A"
          ]
        },
        {
          "output_type": "stream",
          "name": "stdout",
          "text": [
            "Appended result to Google Drive file: [288, 0.7222222222222222, 0.8888888888888888, 0.603463787674314, 0.5588670497422871, 6.0, 4.687500000000001]\n"
          ]
        },
        {
          "output_type": "stream",
          "name": "stderr",
          "text": [
            "\n",
            "\n",
            "Processing law dataset:  58%|█████▊    | 289/500 [1:07:36<51:26, 14.63s/it]\u001b[A\u001b[A"
          ]
        },
        {
          "output_type": "stream",
          "name": "stdout",
          "text": [
            "Appended result to Google Drive file: [289, 0.37254901960784315, 1.156862745098039, 0.6087813620071684, 0.650811007836705, 4.8543689320388355, 2.450980392156863]\n"
          ]
        },
        {
          "output_type": "stream",
          "name": "stderr",
          "text": [
            "\n",
            "\n",
            "Processing law dataset:  58%|█████▊    | 290/500 [1:07:52<52:59, 15.14s/it]\u001b[A\u001b[A"
          ]
        },
        {
          "output_type": "stream",
          "name": "stdout",
          "text": [
            "Appended result to Google Drive file: [290, 0.08333333333333337, 0.8958333333333334, 0.8518518518518517, 0.36644257703081234, 18.867924528301884, 4.115226337448559]\n"
          ]
        },
        {
          "output_type": "stream",
          "name": "stderr",
          "text": [
            "\n",
            "\n",
            "Processing law dataset:  58%|█████▊    | 291/500 [1:08:04<48:38, 13.96s/it]\u001b[A\u001b[A"
          ]
        },
        {
          "output_type": "stream",
          "name": "stdout",
          "text": [
            "Appended result to Google Drive file: [291, 0.23809523809523814, 0.7380952380952381, 0.6332264188991238, 0.1058076793370911, 3.048780487804878, 2.604166666666667]\n"
          ]
        },
        {
          "output_type": "stream",
          "name": "stderr",
          "text": [
            "\n",
            "\n",
            "Processing law dataset:  58%|█████▊    | 292/500 [1:08:15<45:51, 13.23s/it]\u001b[A\u001b[A"
          ]
        },
        {
          "output_type": "stream",
          "name": "stdout",
          "text": [
            "Appended result to Google Drive file: [292, 0.6190476190476191, 1.0714285714285714, 0.4369705469845722, 0.5376344086021505, 9.554140127388536, 7.389162561576354]\n"
          ]
        },
        {
          "output_type": "stream",
          "name": "stderr",
          "text": [
            "\n",
            "\n",
            "Processing law dataset:  59%|█████▊    | 293/500 [1:08:27<44:23, 12.87s/it]\u001b[A\u001b[A"
          ]
        },
        {
          "output_type": "stream",
          "name": "stdout",
          "text": [
            "Appended result to Google Drive file: [293, 0.09999999999999998, 0.5333333333333333, 0.3455026455026455, 0.3343954248366013, 5.597014925373134, 3.957783641160949]\n"
          ]
        },
        {
          "output_type": "stream",
          "name": "stderr",
          "text": [
            "\n",
            "\n",
            "Processing law dataset:  59%|█████▉    | 294/500 [1:08:41<45:18, 13.20s/it]\u001b[A\u001b[A"
          ]
        },
        {
          "output_type": "stream",
          "name": "stdout",
          "text": [
            "Appended result to Google Drive file: [294, 0.43333333333333335, 0.9333333333333333, 0.49068957047680456, 0.5782576596530085, 2.2026431718061676, 6.4102564102564115]\n"
          ]
        },
        {
          "output_type": "stream",
          "name": "stderr",
          "text": [
            "\n",
            "\n",
            "Processing law dataset:  59%|█████▉    | 295/500 [1:08:52<42:34, 12.46s/it]\u001b[A\u001b[A"
          ]
        },
        {
          "output_type": "stream",
          "name": "stdout",
          "text": [
            "Appended result to Google Drive file: [295, 0.2564102564102564, 0.717948717948718, 0.43083613304827145, 0.500438596491228, 1.9607843137254906, 4.016064257028113]\n"
          ]
        },
        {
          "output_type": "stream",
          "name": "stderr",
          "text": [
            "\n",
            "\n",
            "Processing law dataset:  59%|█████▉    | 296/500 [1:09:07<45:32, 13.39s/it]\u001b[A\u001b[A"
          ]
        },
        {
          "output_type": "stream",
          "name": "stdout",
          "text": [
            "Appended result to Google Drive file: [296, 0.4814814814814815, 0.7222222222222222, 0.42321372169351407, 0.45302082901983515, 3.1152647975077885, 2.7472527472527477]\n"
          ]
        },
        {
          "output_type": "stream",
          "name": "stderr",
          "text": [
            "\n",
            "\n",
            "Processing law dataset:  59%|█████▉    | 297/500 [1:09:21<45:55, 13.57s/it]\u001b[A\u001b[A"
          ]
        },
        {
          "output_type": "stream",
          "name": "stdout",
          "text": [
            "Appended result to Google Drive file: [297, 0.27083333333333337, 1.0, 0.6196532999164578, 0.9753086419753085, 3.3112582781456954, 2.314814814814815]\n"
          ]
        },
        {
          "output_type": "stream",
          "name": "stderr",
          "text": [
            "\n",
            "\n",
            "Processing law dataset:  60%|█████▉    | 298/500 [1:09:36<46:46, 13.90s/it]\u001b[A\u001b[A"
          ]
        },
        {
          "output_type": "stream",
          "name": "stdout",
          "text": [
            "Appended result to Google Drive file: [298, 0.1875, 0.6666666666666667, 0.5360879843766061, 0.38277417027417027, 3.53356890459364, 3.3333333333333335]\n"
          ]
        },
        {
          "output_type": "stream",
          "name": "stderr",
          "text": [
            "\n",
            "\n",
            "Processing law dataset:  60%|█████▉    | 299/500 [1:09:53<50:06, 14.96s/it]\u001b[A\u001b[A"
          ]
        },
        {
          "output_type": "stream",
          "name": "stdout",
          "text": [
            "Appended result to Google Drive file: [299, 0.40740740740740744, 0.7222222222222222, 0.5480197053945957, 0.7542276960854845, 0.0, 0.0]\n"
          ]
        },
        {
          "output_type": "stream",
          "name": "stderr",
          "text": [
            "\n",
            "\n",
            "Processing law dataset:  60%|██████    | 300/500 [1:10:05<46:55, 14.08s/it]\u001b[A\u001b[A"
          ]
        },
        {
          "output_type": "stream",
          "name": "stdout",
          "text": [
            "Appended result to Google Drive file: [300, 0.5277777777777778, 0.7777777777777778, 0.4278644602048858, 0.3188708107356418, 4.672897196261682, 6.2761506276150625]\n"
          ]
        },
        {
          "output_type": "stream",
          "name": "stderr",
          "text": [
            "\n",
            "\n",
            "Processing law dataset:  60%|██████    | 301/500 [1:10:17<44:10, 13.32s/it]\u001b[A\u001b[A"
          ]
        },
        {
          "output_type": "stream",
          "name": "stdout",
          "text": [
            "Appended result to Google Drive file: [301, 0.07407407407407407, 1.4074074074074074, 0.2222222222222222, 0.4452982202982203, 0.0, 1.7605633802816902]\n"
          ]
        },
        {
          "output_type": "stream",
          "name": "stderr",
          "text": [
            "\n",
            "\n",
            "Processing law dataset:  60%|██████    | 302/500 [1:10:38<51:40, 15.66s/it]\u001b[A\u001b[A"
          ]
        },
        {
          "output_type": "stream",
          "name": "stdout",
          "text": [
            "Appended result to Google Drive file: [302, 0.4222222222222223, 1.2444444444444445, 0.455449722691102, 0.4624433106575963, 2.469135802469136, 2.421307506053269]\n"
          ]
        },
        {
          "output_type": "stream",
          "name": "stderr",
          "text": [
            "\n",
            "\n",
            "Processing law dataset:  61%|██████    | 303/500 [1:10:51<48:31, 14.78s/it]\u001b[A\u001b[A"
          ]
        },
        {
          "output_type": "stream",
          "name": "stdout",
          "text": [
            "Appended result to Google Drive file: [303, 0.33333333333333337, 0.9166666666666666, 0.24337349397590366, 0.7714909781576448, 3.311258278145695, 4.651162790697675]\n"
          ]
        },
        {
          "output_type": "stream",
          "name": "stderr",
          "text": [
            "\n",
            "\n",
            "Processing law dataset:  61%|██████    | 304/500 [1:11:02<44:19, 13.57s/it]\u001b[A\u001b[A"
          ]
        },
        {
          "output_type": "stream",
          "name": "stdout",
          "text": [
            "Appended result to Google Drive file: [304, 0.8333333333333334, 0.7083333333333333, 0.5643892339544513, 0.40317460317460313, 6.302521008403359, 9.523809523809526]\n"
          ]
        },
        {
          "output_type": "stream",
          "name": "stderr",
          "text": [
            "\n",
            "\n",
            "Processing law dataset:  61%|██████    | 305/500 [1:11:13<41:58, 12.92s/it]\u001b[A\u001b[A"
          ]
        },
        {
          "output_type": "stream",
          "name": "stdout",
          "text": [
            "Appended result to Google Drive file: [305, 0.27450980392156865, 0.5490196078431373, 0.5, 0.506216850708634, 0.0, 3.289473684210526]\n"
          ]
        },
        {
          "output_type": "stream",
          "name": "stderr",
          "text": [
            "\n",
            "\n",
            "Processing law dataset:  61%|██████    | 306/500 [1:11:29<44:50, 13.87s/it]\u001b[A\u001b[A"
          ]
        },
        {
          "output_type": "stream",
          "name": "stdout",
          "text": [
            "Appended result to Google Drive file: [306, 0.37254901960784315, 0.4117647058823529, 0.5438311688311689, 0.6121343445287107, 3.260869565217391, 3.416856492027334]\n"
          ]
        },
        {
          "output_type": "stream",
          "name": "stderr",
          "text": [
            "\n",
            "\n",
            "Processing law dataset:  61%|██████▏   | 307/500 [1:11:46<47:10, 14.67s/it]\u001b[A\u001b[A"
          ]
        },
        {
          "output_type": "stream",
          "name": "stdout",
          "text": [
            "Appended result to Google Drive file: [307, 0.09999999999999998, 0.43333333333333335, 0.8666666666666667, 0.7163978494623656, 44.11764705882353, 2.450980392156863]\n"
          ]
        },
        {
          "output_type": "stream",
          "name": "stderr",
          "text": [
            "\n",
            "\n",
            "Processing law dataset:  62%|██████▏   | 308/500 [1:11:58<44:17, 13.84s/it]\u001b[A\u001b[A"
          ]
        },
        {
          "output_type": "stream",
          "name": "stdout",
          "text": [
            "Appended result to Google Drive file: [308, 0.2222222222222222, 1.1666666666666667, 0.007751937984496124, 0.26469017094017094, 4.545454545454546, 0.0]\n"
          ]
        },
        {
          "output_type": "stream",
          "name": "stderr",
          "text": [
            "\n",
            "\n",
            "Processing law dataset:  62%|██████▏   | 309/500 [1:12:11<43:55, 13.80s/it]\u001b[A\u001b[A"
          ]
        },
        {
          "output_type": "stream",
          "name": "stdout",
          "text": [
            "Appended result to Google Drive file: [309, 0.25, 0.5555555555555556, 0.5367003367003367, 0.342816787732042, 8.92857142857143, 3.003003003003003]\n"
          ]
        },
        {
          "output_type": "stream",
          "name": "stderr",
          "text": [
            "\n",
            "\n",
            "Processing law dataset:  62%|██████▏   | 310/500 [1:12:24<43:01, 13.59s/it]\u001b[A\u001b[A"
          ]
        },
        {
          "output_type": "stream",
          "name": "stdout",
          "text": [
            "Appended result to Google Drive file: [310, 0.4242424242424242, 0.48484848484848486, 0.42201919527500925, 0.48621082621082623, 0.0, 0.0]\n"
          ]
        },
        {
          "output_type": "stream",
          "name": "stderr",
          "text": [
            "\n",
            "\n",
            "Processing law dataset:  62%|██████▏   | 311/500 [1:12:42<46:58, 14.91s/it]\u001b[A\u001b[A"
          ]
        },
        {
          "output_type": "stream",
          "name": "stdout",
          "text": [
            "Appended result to Google Drive file: [311, 0.29166666666666663, 0.625, 0.5681076875194523, 0.7922815604909409, 1.2315270935960594, 3.4642032332563506]\n"
          ]
        },
        {
          "output_type": "stream",
          "name": "stderr",
          "text": [
            "\n",
            "\n",
            "Processing law dataset:  62%|██████▏   | 312/500 [1:12:58<47:21, 15.11s/it]\u001b[A\u001b[A"
          ]
        },
        {
          "output_type": "stream",
          "name": "stdout",
          "text": [
            "Appended result to Google Drive file: [312, 0.40476190476190477, 0.8333333333333334, 0.5661195716984361, 0.4391534391534391, 0.0, 0.0]\n"
          ]
        },
        {
          "output_type": "stream",
          "name": "stderr",
          "text": [
            "\n",
            "\n",
            "Processing law dataset:  63%|██████▎   | 313/500 [1:13:12<46:20, 14.87s/it]\u001b[A\u001b[A"
          ]
        },
        {
          "output_type": "stream",
          "name": "stdout",
          "text": [
            "Appended result to Google Drive file: [313, 0.20833333333333337, 0.5208333333333333, 0.31202214898409847, 0.5762726906010488, 6.0606060606060606, 1.6025641025641024]\n"
          ]
        },
        {
          "output_type": "stream",
          "name": "stderr",
          "text": [
            "\n",
            "\n",
            "Processing law dataset:  63%|██████▎   | 314/500 [1:13:27<46:06, 14.87s/it]\u001b[A\u001b[A"
          ]
        },
        {
          "output_type": "stream",
          "name": "stdout",
          "text": [
            "Appended result to Google Drive file: [314, 0.8333333333333334, 0.7619047619047619, 0.4976997891355123, 0.45828430626116085, 4.807692307692308, 3.53356890459364]\n"
          ]
        },
        {
          "output_type": "stream",
          "name": "stderr",
          "text": [
            "\n",
            "\n",
            "Processing law dataset:  63%|██████▎   | 315/500 [1:13:43<46:45, 15.17s/it]\u001b[A\u001b[A"
          ]
        },
        {
          "output_type": "stream",
          "name": "stdout",
          "text": [
            "Appended result to Google Drive file: [315, 0.31481481481481477, 0.6296296296296297, 0.6889474454691845, 0.45665961945031713, 4.934210526315789, 1.9920318725099602]\n"
          ]
        },
        {
          "output_type": "stream",
          "name": "stderr",
          "text": [
            "\n",
            "\n",
            "Processing law dataset:  63%|██████▎   | 316/500 [1:13:53<42:06, 13.73s/it]\u001b[A\u001b[A"
          ]
        },
        {
          "output_type": "stream",
          "name": "stdout",
          "text": [
            "Appended result to Google Drive file: [316, 0.33333333333333337, 0.6060606060606061, 0.4657043407043407, 0.5006182795698925, 3.2467532467532463, 0.0]\n"
          ]
        },
        {
          "output_type": "stream",
          "name": "stderr",
          "text": [
            "\n",
            "\n",
            "Processing law dataset:  63%|██████▎   | 317/500 [1:14:06<41:18, 13.54s/it]\u001b[A\u001b[A"
          ]
        },
        {
          "output_type": "stream",
          "name": "stdout",
          "text": [
            "Appended result to Google Drive file: [317, 0.5111111111111111, 1.0222222222222221, 0.6416566140458978, 0.4497354497354497, 0.0, 4.411764705882352]\n"
          ]
        },
        {
          "output_type": "stream",
          "name": "stderr",
          "text": [
            "\n",
            "\n",
            "Processing law dataset:  64%|██████▎   | 318/500 [1:14:19<40:32, 13.36s/it]\u001b[A\u001b[A"
          ]
        },
        {
          "output_type": "stream",
          "name": "stdout",
          "text": [
            "Appended result to Google Drive file: [318, 0.9487179487179487, 1.1538461538461537, 0.5244541910331384, 0.5007394612657771, 1.2019230769230769, 2.4038461538461537]\n"
          ]
        },
        {
          "output_type": "stream",
          "name": "stderr",
          "text": [
            "\n",
            "\n",
            "Processing law dataset:  64%|██████▍   | 319/500 [1:14:31<39:09, 12.98s/it]\u001b[A\u001b[A"
          ]
        },
        {
          "output_type": "stream",
          "name": "stdout",
          "text": [
            "Appended result to Google Drive file: [319, 0.20512820512820518, 1.0256410256410255, 0.5119047619047619, 0.42248139287612974, 3.5211267605633805, 1.488095238095238]\n"
          ]
        },
        {
          "output_type": "stream",
          "name": "stderr",
          "text": [
            "\n",
            "\n",
            "Processing law dataset:  64%|██████▍   | 320/500 [1:14:44<38:38, 12.88s/it]\u001b[A\u001b[A"
          ]
        },
        {
          "output_type": "stream",
          "name": "stdout",
          "text": [
            "Appended result to Google Drive file: [320, 0.4285714285714286, 0.7857142857142857, 0.6435076762945615, 0.34165269758490097, 1.6611295681063125, 2.092050209205021]\n"
          ]
        },
        {
          "output_type": "stream",
          "name": "stderr",
          "text": [
            "\n",
            "\n",
            "Processing law dataset:  64%|██████▍   | 321/500 [1:14:58<39:22, 13.20s/it]\u001b[A\u001b[A"
          ]
        },
        {
          "output_type": "stream",
          "name": "stdout",
          "text": [
            "Appended result to Google Drive file: [321, 0.5833333333333333, 0.6458333333333333, 0.6222148646825835, 0.6544243338360985, 7.614213197969544, 4.901960784313726]\n"
          ]
        },
        {
          "output_type": "stream",
          "name": "stderr",
          "text": [
            "\n",
            "\n",
            "Processing law dataset:  64%|██████▍   | 322/500 [1:15:10<38:13, 12.89s/it]\u001b[A\u001b[A"
          ]
        },
        {
          "output_type": "stream",
          "name": "stdout",
          "text": [
            "Appended result to Google Drive file: [322, 0.7083333333333333, 0.9166666666666666, 0.4692403628117914, 0.4061379928315412, 1.9455252918287937, 0.0]\n"
          ]
        },
        {
          "output_type": "stream",
          "name": "stderr",
          "text": [
            "\n",
            "\n",
            "Processing law dataset:  65%|██████▍   | 323/500 [1:15:27<41:45, 14.16s/it]\u001b[A\u001b[A"
          ]
        },
        {
          "output_type": "stream",
          "name": "stdout",
          "text": [
            "Appended result to Google Drive file: [323, 0.3055555555555556, 1.75, 0.33617965791878834, 0.9191919191919192, 1.3623978201634879, 1.0482180293501049]\n"
          ]
        },
        {
          "output_type": "stream",
          "name": "stderr",
          "text": [
            "\n",
            "\n",
            "Processing law dataset:  65%|██████▍   | 324/500 [1:15:47<46:33, 15.87s/it]\u001b[A\u001b[A"
          ]
        },
        {
          "output_type": "stream",
          "name": "stdout",
          "text": [
            "Appended result to Google Drive file: [324, 0.2777777777777778, 0.6111111111111112, 0.746708878340104, 0.4298923298923299, 0.0, 4.166666666666666]\n"
          ]
        },
        {
          "output_type": "stream",
          "name": "stderr",
          "text": [
            "\n",
            "\n",
            "Processing law dataset:  65%|██████▌   | 325/500 [1:15:58<42:06, 14.44s/it]\u001b[A\u001b[A"
          ]
        },
        {
          "output_type": "stream",
          "name": "stdout",
          "text": [
            "Appended result to Google Drive file: [325, 0.6666666666666667, 0.8333333333333334, 0.4512786596119929, 0.6513457556935818, 2.4999999999999996, 0.0]\n"
          ]
        },
        {
          "output_type": "stream",
          "name": "stderr",
          "text": [
            "\n",
            "\n",
            "Processing law dataset:  65%|██████▌   | 326/500 [1:16:11<40:11, 13.86s/it]\u001b[A\u001b[A"
          ]
        },
        {
          "output_type": "stream",
          "name": "stdout",
          "text": [
            "Appended result to Google Drive file: [326, 0.6222222222222222, 0.7111111111111111, 0.596062271062271, 0.3195107830366189, 3.558718861209964, 2.083333333333333]\n"
          ]
        },
        {
          "output_type": "stream",
          "name": "stderr",
          "text": [
            "\n",
            "\n",
            "Processing law dataset:  65%|██████▌   | 327/500 [1:16:23<38:16, 13.27s/it]\u001b[A\u001b[A"
          ]
        },
        {
          "output_type": "stream",
          "name": "stdout",
          "text": [
            "Appended result to Google Drive file: [327, 0.41666666666666663, 0.75, 0.7577024443765765, 1.0, 0.0, 0.0]\n"
          ]
        },
        {
          "output_type": "stream",
          "name": "stderr",
          "text": [
            "\n",
            "\n",
            "Processing law dataset:  66%|██████▌   | 328/500 [1:16:36<37:55, 13.23s/it]\u001b[A\u001b[A"
          ]
        },
        {
          "output_type": "stream",
          "name": "stdout",
          "text": [
            "Appended result to Google Drive file: [328, 0.6875, 0.8333333333333334, 0.5287198515769944, 0.5666878087220589, 3.6764705882352944, 3.703703703703704]\n"
          ]
        },
        {
          "output_type": "stream",
          "name": "stderr",
          "text": [
            "\n",
            "\n",
            "Processing law dataset:  66%|██████▌   | 329/500 [1:16:49<37:47, 13.26s/it]\u001b[A\u001b[A"
          ]
        },
        {
          "output_type": "stream",
          "name": "stdout",
          "text": [
            "Appended result to Google Drive file: [329, 0.5, 0.8888888888888888, 0.525925925925926, 0.9298245614035089, 0.0, 7.633587786259542]\n"
          ]
        },
        {
          "output_type": "stream",
          "name": "stderr",
          "text": [
            "\n",
            "\n",
            "Processing law dataset:  66%|██████▌   | 330/500 [1:17:02<36:54, 13.03s/it]\u001b[A\u001b[A"
          ]
        },
        {
          "output_type": "stream",
          "name": "stdout",
          "text": [
            "Appended result to Google Drive file: [330, 0.29166666666666663, 1.0833333333333333, 0.7639134450455206, 0.5918367346938775, 4.504504504504505, 1.9157088122605366]\n"
          ]
        },
        {
          "output_type": "stream",
          "name": "stderr",
          "text": [
            "\n",
            "\n",
            "Processing law dataset:  66%|██████▌   | 331/500 [1:17:19<40:22, 14.34s/it]\u001b[A\u001b[A"
          ]
        },
        {
          "output_type": "stream",
          "name": "stdout",
          "text": [
            "Appended result to Google Drive file: [331, 0.5555555555555556, 0.7222222222222222, 0.45537010159651664, 0.5094868955334072, 0.0, 0.0]\n"
          ]
        },
        {
          "output_type": "stream",
          "name": "stderr",
          "text": [
            "\n",
            "\n",
            "Processing law dataset:  66%|██████▋   | 332/500 [1:17:37<42:56, 15.34s/it]\u001b[A\u001b[A"
          ]
        },
        {
          "output_type": "stream",
          "name": "stdout",
          "text": [
            "Appended result to Google Drive file: [332, 0.5432098765432098, 0.6666666666666667, 0.82266139657444, 1.0, 3.225806451612903, 7.352941176470589]\n"
          ]
        },
        {
          "output_type": "stream",
          "name": "stderr",
          "text": [
            "\n",
            "\n",
            "Processing law dataset:  67%|██████▋   | 333/500 [1:17:50<41:14, 14.82s/it]\u001b[A\u001b[A"
          ]
        },
        {
          "output_type": "stream",
          "name": "stdout",
          "text": [
            "Appended result to Google Drive file: [333, 0.33333333333333337, 0.4722222222222222, 0.6880419439403106, 0.6431247963506027, 3.3670033670033668, 0.0]\n"
          ]
        },
        {
          "output_type": "stream",
          "name": "stderr",
          "text": [
            "\n",
            "\n",
            "Processing law dataset:  67%|██████▋   | 334/500 [1:18:07<42:09, 15.24s/it]\u001b[A\u001b[A"
          ]
        },
        {
          "output_type": "stream",
          "name": "stdout",
          "text": [
            "Appended result to Google Drive file: [334, 0.6666666666666667, 0.9791666666666666, 0.6102449116971569, 0.9240265906932574, 0.0, 0.0]\n"
          ]
        },
        {
          "output_type": "stream",
          "name": "stderr",
          "text": [
            "\n",
            "\n",
            "Processing law dataset:  67%|██████▋   | 335/500 [1:18:23<43:11, 15.70s/it]\u001b[A\u001b[A"
          ]
        },
        {
          "output_type": "stream",
          "name": "stdout",
          "text": [
            "Appended result to Google Drive file: [335, 0.6190476190476191, 0.9047619047619048, 0.593015753309871, 0.41222231205253274, 3.003003003003003, 2.5380710659898478]\n"
          ]
        },
        {
          "output_type": "stream",
          "name": "stderr",
          "text": [
            "\n",
            "\n",
            "Processing law dataset:  67%|██████▋   | 336/500 [1:18:36<40:33, 14.84s/it]\u001b[A\u001b[A"
          ]
        },
        {
          "output_type": "stream",
          "name": "stdout",
          "text": [
            "Appended result to Google Drive file: [336, 0.5333333333333333, 1.0, 0.47126436781609193, 1.0, 1.5974440894568693, 4.504504504504505]\n"
          ]
        },
        {
          "output_type": "stream",
          "name": "stderr",
          "text": [
            "\n",
            "\n",
            "Processing law dataset:  67%|██████▋   | 337/500 [1:18:45<35:15, 12.98s/it]\u001b[A\u001b[A"
          ]
        },
        {
          "output_type": "stream",
          "name": "stdout",
          "text": [
            "Appended result to Google Drive file: [337, 0.16666666666666663, 0.19444444444444442, 0.6, 0.3333333333333333, 40.54054054054054, 29.411764705882355]\n"
          ]
        },
        {
          "output_type": "stream",
          "name": "stderr",
          "text": [
            "\n",
            "\n",
            "Processing law dataset:  68%|██████▊   | 338/500 [1:19:01<37:25, 13.86s/it]\u001b[A\u001b[A"
          ]
        },
        {
          "output_type": "stream",
          "name": "stdout",
          "text": [
            "Appended result to Google Drive file: [338, 0.29166666666666663, 0.8541666666666666, 0.254040404040404, 0.6444444444444444, 4.9504950495049505, 1.8181818181818177]\n"
          ]
        },
        {
          "output_type": "stream",
          "name": "stderr",
          "text": [
            "\n",
            "\n",
            "Processing law dataset:  68%|██████▊   | 339/500 [1:19:16<38:29, 14.35s/it]\u001b[A\u001b[A"
          ]
        },
        {
          "output_type": "stream",
          "name": "stdout",
          "text": [
            "Appended result to Google Drive file: [339, 0.375, 0.8125, 0.6146234488660677, 0.8888888888888888, 1.6611295681063125, 3.0674846625766876]\n"
          ]
        },
        {
          "output_type": "stream",
          "name": "stderr",
          "text": [
            "\n",
            "\n",
            "Processing law dataset:  68%|██████▊   | 340/500 [1:19:34<40:47, 15.29s/it]\u001b[A\u001b[A"
          ]
        },
        {
          "output_type": "stream",
          "name": "stdout",
          "text": [
            "Appended result to Google Drive file: [340, 0.20833333333333337, 0.9166666666666666, 0.30148527326004165, 0.4970513144629944, 2.4390243902439024, 0.0]\n"
          ]
        },
        {
          "output_type": "stream",
          "name": "stderr",
          "text": [
            "\n",
            "\n",
            "Processing law dataset:  68%|██████▊   | 341/500 [1:19:52<42:43, 16.12s/it]\u001b[A\u001b[A"
          ]
        },
        {
          "output_type": "stream",
          "name": "stdout",
          "text": [
            "Appended result to Google Drive file: [341, 0.24444444444444446, 0.7333333333333334, 0.3500915750915751, 0.6160919540229886, 3.4090909090909087, 2.617801047120419]\n"
          ]
        },
        {
          "output_type": "stream",
          "name": "stderr",
          "text": [
            "\n",
            "\n",
            "Processing law dataset:  68%|██████▊   | 342/500 [1:20:06<41:03, 15.59s/it]\u001b[A\u001b[A"
          ]
        },
        {
          "output_type": "stream",
          "name": "stdout",
          "text": [
            "Appended result to Google Drive file: [342, 0.1875, 0.4375, 0.71632110579479, 0.06918238993710692, 4.213483146067416, 2.717391304347826]\n"
          ]
        },
        {
          "output_type": "stream",
          "name": "stderr",
          "text": [
            "\n",
            "\n",
            "Processing law dataset:  69%|██████▊   | 343/500 [1:20:24<42:37, 16.29s/it]\u001b[A\u001b[A"
          ]
        },
        {
          "output_type": "stream",
          "name": "stdout",
          "text": [
            "Appended result to Google Drive file: [343, 0.1333333333333333, 1.2666666666666666, 0.6619897959183674, 0.888888888888889, 1.5576323987538943, 0.0]\n"
          ]
        },
        {
          "output_type": "stream",
          "name": "stderr",
          "text": [
            "\n",
            "\n",
            "Processing law dataset:  69%|██████▉   | 344/500 [1:20:41<42:42, 16.42s/it]\u001b[A\u001b[A"
          ]
        },
        {
          "output_type": "stream",
          "name": "stdout",
          "text": [
            "Appended result to Google Drive file: [344, 0.5641025641025641, 1.0512820512820513, 0.5883976176465343, 0.47051282051282045, 3.3482142857142856, 3.694581280788177]\n"
          ]
        },
        {
          "output_type": "stream",
          "name": "stderr",
          "text": [
            "\n",
            "\n",
            "Processing law dataset:  69%|██████▉   | 345/500 [1:20:53<39:27, 15.27s/it]\u001b[A\u001b[A"
          ]
        },
        {
          "output_type": "stream",
          "name": "stdout",
          "text": [
            "Appended result to Google Drive file: [345, 0.40476190476190477, 0.7142857142857143, 0.47005772005772, 0.6823968132892618, 4.524886877828054, 6.17283950617284]\n"
          ]
        },
        {
          "output_type": "stream",
          "name": "stderr",
          "text": [
            "\n",
            "\n",
            "Processing law dataset:  69%|██████▉   | 346/500 [1:21:07<37:37, 14.66s/it]\u001b[A\u001b[A"
          ]
        },
        {
          "output_type": "stream",
          "name": "stdout",
          "text": [
            "Appended result to Google Drive file: [346, 0.2592592592592593, 0.8518518518518519, 0.8806209150326797, 0.48532494758909855, 2.5295109612141657, 1.858736059479554]\n"
          ]
        },
        {
          "output_type": "stream",
          "name": "stderr",
          "text": [
            "\n",
            "\n",
            "Processing law dataset:  69%|██████▉   | 347/500 [1:21:21<36:50, 14.45s/it]\u001b[A\u001b[A"
          ]
        },
        {
          "output_type": "stream",
          "name": "stdout",
          "text": [
            "Appended result to Google Drive file: [347, 0.23809523809523814, 0.7619047619047619, 0.7607867826617826, 0.4935897435897436, 3.610108303249097, 4.926108374384236]\n"
          ]
        },
        {
          "output_type": "stream",
          "name": "stderr",
          "text": [
            "\n",
            "\n",
            "Processing law dataset:  70%|██████▉   | 348/500 [1:21:34<35:31, 14.03s/it]\u001b[A\u001b[A"
          ]
        },
        {
          "output_type": "stream",
          "name": "stdout",
          "text": [
            "Appended result to Google Drive file: [348, 0.25, 0.41666666666666663, 0.4528949357520786, 0.5600077429345722, 3.6231884057971016, 2.0661157024793386]\n"
          ]
        },
        {
          "output_type": "stream",
          "name": "stderr",
          "text": [
            "\n",
            "\n",
            "Processing law dataset:  70%|██████▉   | 349/500 [1:21:47<35:12, 13.99s/it]\u001b[A\u001b[A"
          ]
        },
        {
          "output_type": "stream",
          "name": "stdout",
          "text": [
            "Appended result to Google Drive file: [349, 0.46153846153846156, 0.8461538461538461, 0.4778961064356249, 0.4518518518518519, 2.2026431718061676, 2.9069767441860463]\n"
          ]
        },
        {
          "output_type": "stream",
          "name": "stderr",
          "text": [
            "\n",
            "\n",
            "Processing law dataset:  70%|███████   | 350/500 [1:22:01<34:17, 13.71s/it]\u001b[A\u001b[A"
          ]
        },
        {
          "output_type": "stream",
          "name": "stdout",
          "text": [
            "Appended result to Google Drive file: [350, 0.35416666666666663, 0.7083333333333333, 0.4829700854700854, 0.47527332824815666, 4.166666666666666, 6.666666666666668]\n"
          ]
        },
        {
          "output_type": "stream",
          "name": "stderr",
          "text": [
            "\n",
            "\n",
            "Processing law dataset:  70%|███████   | 351/500 [1:22:14<33:54, 13.66s/it]\u001b[A\u001b[A"
          ]
        },
        {
          "output_type": "stream",
          "name": "stdout",
          "text": [
            "Appended result to Google Drive file: [351, 0.6428571428571428, 0.7619047619047619, 0.5240039208902728, 0.4105622390683366, 0.0, 0.0]\n"
          ]
        },
        {
          "output_type": "stream",
          "name": "stderr",
          "text": [
            "\n",
            "\n",
            "Processing law dataset:  70%|███████   | 352/500 [1:22:26<32:08, 13.03s/it]\u001b[A\u001b[A"
          ]
        },
        {
          "output_type": "stream",
          "name": "stdout",
          "text": [
            "Appended result to Google Drive file: [352, 0.28888888888888886, 1.1333333333333333, 0.3879629629629629, 0.6875, 5.681818181818182, 5.639097744360902]\n"
          ]
        },
        {
          "output_type": "stream",
          "name": "stderr",
          "text": [
            "\n",
            "\n",
            "Processing law dataset:  71%|███████   | 353/500 [1:22:36<30:02, 12.26s/it]\u001b[A\u001b[A"
          ]
        },
        {
          "output_type": "stream",
          "name": "stdout",
          "text": [
            "Appended result to Google Drive file: [353, 0.38095238095238093, 0.7142857142857143, 0.5278801277327437, 0.3383838383838384, 0.0, 0.0]\n"
          ]
        },
        {
          "output_type": "stream",
          "name": "stderr",
          "text": [
            "\n",
            "\n",
            "Processing law dataset:  71%|███████   | 354/500 [1:22:49<30:29, 12.53s/it]\u001b[A\u001b[A"
          ]
        },
        {
          "output_type": "stream",
          "name": "stdout",
          "text": [
            "Appended result to Google Drive file: [354, 0.33333333333333337, 0.41666666666666663, 0.85677426438296, 0.43907363172507163, 10.273972602739725, 4.081632653061225]\n"
          ]
        },
        {
          "output_type": "stream",
          "name": "stderr",
          "text": [
            "\n",
            "\n",
            "Processing law dataset:  71%|███████   | 355/500 [1:23:02<30:39, 12.69s/it]\u001b[A\u001b[A"
          ]
        },
        {
          "output_type": "stream",
          "name": "stdout",
          "text": [
            "Appended result to Google Drive file: [355, 0.36111111111111116, 0.9722222222222222, 0.5003770739064857, 0.6228632478632479, 2.1551724137931036, 1.8726591760299627]\n"
          ]
        },
        {
          "output_type": "stream",
          "name": "stderr",
          "text": [
            "\n",
            "\n",
            "Processing law dataset:  71%|███████   | 356/500 [1:23:12<28:30, 11.88s/it]\u001b[A\u001b[A"
          ]
        },
        {
          "output_type": "stream",
          "name": "stdout",
          "text": [
            "Appended result to Google Drive file: [356, 0.5, 0.7777777777777778, 0.47986361156573915, 0.38149462683624175, 6.976744186046512, 7.389162561576354]\n"
          ]
        },
        {
          "output_type": "stream",
          "name": "stderr",
          "text": [
            "\n",
            "\n",
            "Processing law dataset:  71%|███████▏  | 357/500 [1:23:27<29:58, 12.58s/it]\u001b[A\u001b[A"
          ]
        },
        {
          "output_type": "stream",
          "name": "stdout",
          "text": [
            "Appended result to Google Drive file: [357, 0.8596491228070176, 0.9298245614035088, 0.6565288371470627, 0.8927777777777778, 5.300353356890459, 8.92857142857143]\n"
          ]
        },
        {
          "output_type": "stream",
          "name": "stderr",
          "text": [
            "\n",
            "\n",
            "Processing law dataset:  72%|███████▏  | 358/500 [1:23:41<30:58, 13.09s/it]\u001b[A\u001b[A"
          ]
        },
        {
          "output_type": "stream",
          "name": "stdout",
          "text": [
            "Appended result to Google Drive file: [358, 0.5777777777777777, 0.9111111111111111, 0.579433551198257, 0.888888888888889, 4.8543689320388355, 11.538461538461538]\n"
          ]
        },
        {
          "output_type": "stream",
          "name": "stderr",
          "text": [
            "\n",
            "\n",
            "Processing law dataset:  72%|███████▏  | 359/500 [1:23:52<29:03, 12.36s/it]\u001b[A\u001b[A"
          ]
        },
        {
          "output_type": "stream",
          "name": "stdout",
          "text": [
            "Appended result to Google Drive file: [359, 0.4, 0.6, 0.7467908203470514, 0.73768115942029, 1.9685039370078743, 0.0]\n"
          ]
        },
        {
          "output_type": "stream",
          "name": "stderr",
          "text": [
            "\n",
            "\n",
            "Processing law dataset:  72%|███████▏  | 360/500 [1:24:03<28:33, 12.24s/it]\u001b[A\u001b[A"
          ]
        },
        {
          "output_type": "stream",
          "name": "stdout",
          "text": [
            "Appended result to Google Drive file: [360, 0.7878787878787878, 0.8484848484848485, 0.5759189640768588, 0.5393303520238505, 4.716981132075471, 4.966887417218543]\n"
          ]
        },
        {
          "output_type": "stream",
          "name": "stderr",
          "text": [
            "\n",
            "\n",
            "Processing law dataset:  72%|███████▏  | 361/500 [1:24:20<31:09, 13.45s/it]\u001b[A\u001b[A"
          ]
        },
        {
          "output_type": "stream",
          "name": "stdout",
          "text": [
            "Appended result to Google Drive file: [361, 0.36363636363636365, 1.2424242424242424, 0.6863799283154122, 0.5183908045977011, 3.3482142857142856, 1.440922190201729]\n"
          ]
        },
        {
          "output_type": "stream",
          "name": "stderr",
          "text": [
            "\n",
            "\n",
            "Processing law dataset:  72%|███████▏  | 362/500 [1:24:32<29:54, 13.00s/it]\u001b[A\u001b[A"
          ]
        },
        {
          "output_type": "stream",
          "name": "stdout",
          "text": [
            "Appended result to Google Drive file: [362, 0.21052631578947367, 1.0701754385964912, 0.2920265780730897, 0.4165169212339023, 0.0, 0.0]\n"
          ]
        },
        {
          "output_type": "stream",
          "name": "stderr",
          "text": [
            "\n",
            "\n",
            "Processing law dataset:  73%|███████▎  | 363/500 [1:24:47<31:20, 13.73s/it]\u001b[A\u001b[A"
          ]
        },
        {
          "output_type": "stream",
          "name": "stdout",
          "text": [
            "Appended result to Google Drive file: [363, 0.1428571428571429, 0.6904761904761905, 0.5710955710955711, 0.7933814499819677, 16.39344262295082, 2.487562189054726]\n"
          ]
        },
        {
          "output_type": "stream",
          "name": "stderr",
          "text": [
            "\n",
            "\n",
            "Processing law dataset:  73%|███████▎  | 364/500 [1:25:02<31:50, 14.05s/it]\u001b[A\u001b[A"
          ]
        },
        {
          "output_type": "stream",
          "name": "stdout",
          "text": [
            "Appended result to Google Drive file: [364, 0.030303030303030276, 1.6363636363636362, 0.3846153846153846, 0.7411552508346216, 21.42857142857143, 2.0618556701030926]\n"
          ]
        },
        {
          "output_type": "stream",
          "name": "stderr",
          "text": [
            "\n",
            "\n",
            "Processing law dataset:  73%|███████▎  | 365/500 [1:25:15<30:55, 13.74s/it]\u001b[A\u001b[A"
          ]
        },
        {
          "output_type": "stream",
          "name": "stdout",
          "text": [
            "Appended result to Google Drive file: [365, 0.7948717948717949, 0.8974358974358975, 0.5397625448028673, 0.5770897832817338, 3.08641975308642, 5.88235294117647]\n"
          ]
        },
        {
          "output_type": "stream",
          "name": "stderr",
          "text": [
            "\n",
            "\n",
            "Processing law dataset:  73%|███████▎  | 366/500 [1:25:29<30:35, 13.70s/it]\u001b[A\u001b[A"
          ]
        },
        {
          "output_type": "stream",
          "name": "stdout",
          "text": [
            "Appended result to Google Drive file: [366, 0.30952380952380953, 0.8571428571428572, 0.48134127910006774, 1.0, 3.118503118503119, 6.0606060606060606]\n"
          ]
        },
        {
          "output_type": "stream",
          "name": "stderr",
          "text": [
            "\n",
            "\n",
            "Processing law dataset:  73%|███████▎  | 367/500 [1:25:41<29:52, 13.48s/it]\u001b[A\u001b[A"
          ]
        },
        {
          "output_type": "stream",
          "name": "stdout",
          "text": [
            "Appended result to Google Drive file: [367, 0.6041666666666667, 0.9166666666666666, 0.5790628650816204, 0.4951633986928104, 4.166666666666666, 1.8115942028985508]\n"
          ]
        },
        {
          "output_type": "stream",
          "name": "stderr",
          "text": [
            "\n",
            "\n",
            "Processing law dataset:  74%|███████▎  | 368/500 [1:25:57<31:02, 14.11s/it]\u001b[A\u001b[A"
          ]
        },
        {
          "output_type": "stream",
          "name": "stdout",
          "text": [
            "Appended result to Google Drive file: [368, 0.0714285714285714, 0.5952380952380952, 0.6445648482603192, 0.37176861370409764, 1.3477088948787062, 0.0]\n"
          ]
        },
        {
          "output_type": "stream",
          "name": "stderr",
          "text": [
            "\n",
            "\n",
            "Processing law dataset:  74%|███████▍  | 369/500 [1:26:14<32:38, 14.95s/it]\u001b[A\u001b[A"
          ]
        },
        {
          "output_type": "stream",
          "name": "stdout",
          "text": [
            "Appended result to Google Drive file: [369, 0.41666666666666663, 1.25, 0.5646938964527184, 0.3936067544614299, 4.716981132075471, 1.0570824524312896]\n"
          ]
        },
        {
          "output_type": "stream",
          "name": "stderr",
          "text": [
            "\n",
            "\n",
            "Processing law dataset:  74%|███████▍  | 370/500 [1:26:30<32:54, 15.19s/it]\u001b[A\u001b[A"
          ]
        },
        {
          "output_type": "stream",
          "name": "stdout",
          "text": [
            "Appended result to Google Drive file: [370, 0.25, 0.9166666666666666, 0.5473611111111111, 1.0, 2.423263327948303, 3.0864197530864197]\n"
          ]
        },
        {
          "output_type": "stream",
          "name": "stderr",
          "text": [
            "\n",
            "\n",
            "Processing law dataset:  74%|███████▍  | 371/500 [1:26:48<34:20, 15.97s/it]\u001b[A\u001b[A"
          ]
        },
        {
          "output_type": "stream",
          "name": "stdout",
          "text": [
            "Appended result to Google Drive file: [371, 0.43137254901960786, 1.0392156862745099, 0.5727668955517057, 0.5588303122549698, 3.4562211981566815, 1.9762845849802368]\n"
          ]
        },
        {
          "output_type": "stream",
          "name": "stderr",
          "text": [
            "\n",
            "\n",
            "Processing law dataset:  74%|███████▍  | 372/500 [1:27:02<32:53, 15.42s/it]\u001b[A\u001b[A"
          ]
        },
        {
          "output_type": "stream",
          "name": "stdout",
          "text": [
            "Appended result to Google Drive file: [372, 0.5641025641025641, 1.0256410256410255, 0.6476344325609031, 0.7819148936170213, 4.225352112676056, 4.076086956521738]\n"
          ]
        },
        {
          "output_type": "stream",
          "name": "stderr",
          "text": [
            "\n",
            "\n",
            "Processing law dataset:  75%|███████▍  | 373/500 [1:27:12<29:27, 13.92s/it]\u001b[A\u001b[A"
          ]
        },
        {
          "output_type": "stream",
          "name": "stdout",
          "text": [
            "Appended result to Google Drive file: [373, 0.696969696969697, 0.21212121212121215, 0.38314168943099763, 0.8518518518518517, 1.9011406844106464, 28.30188679245283]\n"
          ]
        },
        {
          "output_type": "stream",
          "name": "stderr",
          "text": [
            "\n",
            "\n",
            "Processing law dataset:  75%|███████▍  | 374/500 [1:27:25<28:20, 13.50s/it]\u001b[A\u001b[A"
          ]
        },
        {
          "output_type": "stream",
          "name": "stdout",
          "text": [
            "Appended result to Google Drive file: [374, 0.4375, 0.5416666666666667, 0.634326904344438, 0.6025487853444843, 4.870129870129871, 4.966887417218543]\n"
          ]
        },
        {
          "output_type": "stream",
          "name": "stderr",
          "text": [
            "\n",
            "\n",
            "Processing law dataset:  75%|███████▌  | 375/500 [1:27:36<26:38, 12.79s/it]\u001b[A\u001b[A"
          ]
        },
        {
          "output_type": "stream",
          "name": "stdout",
          "text": [
            "Appended result to Google Drive file: [375, 0.13888888888888884, 0.9166666666666666, 0.18992248062015504, 0.9649122807017543, 0.0, 0.0]\n"
          ]
        },
        {
          "output_type": "stream",
          "name": "stderr",
          "text": [
            "\n",
            "\n",
            "Processing law dataset:  75%|███████▌  | 376/500 [1:27:49<27:02, 13.08s/it]\u001b[A\u001b[A"
          ]
        },
        {
          "output_type": "stream",
          "name": "stdout",
          "text": [
            "Appended result to Google Drive file: [376, 0.04761904761904767, 1.1428571428571428, 0.14884696016771487, 0.5706356410581762, 2.0408163265306123, 0.9124087591240875]\n"
          ]
        },
        {
          "output_type": "stream",
          "name": "stderr",
          "text": [
            "\n",
            "\n",
            "Processing law dataset:  75%|███████▌  | 377/500 [1:28:06<28:50, 14.07s/it]\u001b[A\u001b[A"
          ]
        },
        {
          "output_type": "stream",
          "name": "stdout",
          "text": [
            "Appended result to Google Drive file: [377, 0.21052631578947367, 0.9649122807017544, 0.2538544642203179, 0.6000616712920136, 1.6835016835016834, 4.838709677419355]\n"
          ]
        },
        {
          "output_type": "stream",
          "name": "stderr",
          "text": [
            "\n",
            "\n",
            "Processing law dataset:  76%|███████▌  | 378/500 [1:28:16<26:06, 12.84s/it]\u001b[A\u001b[A"
          ]
        },
        {
          "output_type": "stream",
          "name": "stdout",
          "text": [
            "Appended result to Google Drive file: [378, 0.3589743589743589, 0.641025641025641, 0.24519000846117056, 0.38095238095238093, 8.15217391304348, 6.024096385542169]\n"
          ]
        },
        {
          "output_type": "stream",
          "name": "stderr",
          "text": [
            "\n",
            "\n",
            "Processing law dataset:  76%|███████▌  | 379/500 [1:28:29<25:51, 12.82s/it]\u001b[A\u001b[A"
          ]
        },
        {
          "output_type": "stream",
          "name": "stdout",
          "text": [
            "Appended result to Google Drive file: [379, 0.2777777777777778, 1.1666666666666667, 0.6764798300685633, 0.6398338220918866, 3.947368421052632, 4.3103448275862055]\n"
          ]
        },
        {
          "output_type": "stream",
          "name": "stderr",
          "text": [
            "\n",
            "\n",
            "Processing law dataset:  76%|███████▌  | 380/500 [1:28:39<24:23, 12.20s/it]\u001b[A\u001b[A"
          ]
        },
        {
          "output_type": "stream",
          "name": "stdout",
          "text": [
            "Appended result to Google Drive file: [380, 1.1515151515151516, 0.696969696969697, 0.49061337997100907, 0.15519568151147098, 7.425742574257425, 8.620689655172413]\n"
          ]
        },
        {
          "output_type": "stream",
          "name": "stderr",
          "text": [
            "\n",
            "\n",
            "Processing law dataset:  76%|███████▌  | 381/500 [1:28:53<25:08, 12.68s/it]\u001b[A\u001b[A"
          ]
        },
        {
          "output_type": "stream",
          "name": "stdout",
          "text": [
            "Appended result to Google Drive file: [381, 0.2962962962962963, 0.6296296296296297, 0.6068457247561726, 0.7755035737491878, 1.3333333333333335, 0.0]\n"
          ]
        },
        {
          "output_type": "stream",
          "name": "stderr",
          "text": [
            "\n",
            "\n",
            "Processing law dataset:  76%|███████▋  | 382/500 [1:29:11<27:58, 14.23s/it]\u001b[A\u001b[A"
          ]
        },
        {
          "output_type": "stream",
          "name": "stdout",
          "text": [
            "Appended result to Google Drive file: [382, 0.3939393939393939, 0.7878787878787878, 0.5349812888385347, 0.43145854833161335, 2.396166134185303, 0.0]\n"
          ]
        },
        {
          "output_type": "stream",
          "name": "stderr",
          "text": [
            "\n",
            "\n",
            "Processing law dataset:  77%|███████▋  | 383/500 [1:29:25<27:20, 14.02s/it]\u001b[A\u001b[A"
          ]
        },
        {
          "output_type": "stream",
          "name": "stdout",
          "text": [
            "Appended result to Google Drive file: [383, 0.2666666666666667, 0.6888888888888889, 0.6705154838895827, 0.40838009441284623, 2.952755905511811, 2.0242914979757085]\n"
          ]
        },
        {
          "output_type": "stream",
          "name": "stderr",
          "text": [
            "\n",
            "\n",
            "Processing law dataset:  77%|███████▋  | 384/500 [1:29:39<27:09, 14.05s/it]\u001b[A\u001b[A"
          ]
        },
        {
          "output_type": "stream",
          "name": "stdout",
          "text": [
            "Appended result to Google Drive file: [384, 0.19999999999999996, 0.6166666666666667, 0.7435328267736704, 0.45198067632850236, 1.3440860215053763, 4.2735042735042725]\n"
          ]
        },
        {
          "output_type": "stream",
          "name": "stderr",
          "text": [
            "\n",
            "\n",
            "Processing law dataset:  77%|███████▋  | 385/500 [1:29:50<25:08, 13.12s/it]\u001b[A\u001b[A"
          ]
        },
        {
          "output_type": "stream",
          "name": "stdout",
          "text": [
            "Appended result to Google Drive file: [385, 0.33333333333333337, 0.8888888888888888, 0.3446327683615819, 0.34652194211017745, 6.578947368421052, 4.878048780487805]\n"
          ]
        },
        {
          "output_type": "stream",
          "name": "stderr",
          "text": [
            "\n",
            "\n",
            "Processing law dataset:  77%|███████▋  | 386/500 [1:29:59<22:58, 12.09s/it]\u001b[A\u001b[A"
          ]
        },
        {
          "output_type": "stream",
          "name": "stdout",
          "text": [
            "Appended result to Google Drive file: [386, 0.022222222222222254, 0.19999999999999996, 0.6489898989898989, 0.8666666666666667, 16.94915254237288, 8.92857142857143]\n"
          ]
        },
        {
          "output_type": "stream",
          "name": "stderr",
          "text": [
            "\n",
            "\n",
            "Processing law dataset:  77%|███████▋  | 387/500 [1:30:14<24:04, 12.78s/it]\u001b[A\u001b[A"
          ]
        },
        {
          "output_type": "stream",
          "name": "stdout",
          "text": [
            "Appended result to Google Drive file: [387, 0.6666666666666667, 1.1428571428571428, 0.6096397630867609, 1.0, 3.640776699029126, 3.831417624521073]\n"
          ]
        },
        {
          "output_type": "stream",
          "name": "stderr",
          "text": [
            "\n",
            "\n",
            "Processing law dataset:  78%|███████▊  | 388/500 [1:30:26<23:49, 12.76s/it]\u001b[A\u001b[A"
          ]
        },
        {
          "output_type": "stream",
          "name": "stdout",
          "text": [
            "Appended result to Google Drive file: [388, 0.5925925925925926, 0.7222222222222222, 0.6431737588652483, 0.48207112036899274, 4.999999999999999, 5.535055350553505]\n"
          ]
        },
        {
          "output_type": "stream",
          "name": "stderr",
          "text": [
            "\n",
            "\n",
            "Processing law dataset:  78%|███████▊  | 389/500 [1:30:39<23:25, 12.66s/it]\u001b[A\u001b[A"
          ]
        },
        {
          "output_type": "stream",
          "name": "stdout",
          "text": [
            "Appended result to Google Drive file: [389, 0.2142857142857143, 0.7857142857142857, 0.36756961377022174, 0.3829322409967571, 4.934210526315789, 4.201680672268907]\n"
          ]
        },
        {
          "output_type": "stream",
          "name": "stderr",
          "text": [
            "\n",
            "\n",
            "Processing law dataset:  78%|███████▊  | 390/500 [1:30:50<22:09, 12.08s/it]\u001b[A\u001b[A"
          ]
        },
        {
          "output_type": "stream",
          "name": "stdout",
          "text": [
            "Appended result to Google Drive file: [390, 0.3555555555555555, 0.4222222222222223, 0.5427210770348024, 0.26825951825951827, 3.1948881789137387, 8.0]\n"
          ]
        },
        {
          "output_type": "stream",
          "name": "stderr",
          "text": [
            "\n",
            "\n",
            "Processing law dataset:  78%|███████▊  | 391/500 [1:31:02<22:14, 12.24s/it]\u001b[A\u001b[A"
          ]
        },
        {
          "output_type": "stream",
          "name": "stdout",
          "text": [
            "Appended result to Google Drive file: [391, 0.5, 1.1944444444444444, 0.49099665540157017, 0.5510204081632653, 0.0, 0.0]\n"
          ]
        },
        {
          "output_type": "stream",
          "name": "stderr",
          "text": [
            "\n",
            "\n",
            "Processing law dataset:  78%|███████▊  | 392/500 [1:31:15<22:08, 12.30s/it]\u001b[A\u001b[A"
          ]
        },
        {
          "output_type": "stream",
          "name": "stdout",
          "text": [
            "Appended result to Google Drive file: [392, 0.24444444444444446, 1.2666666666666666, 0.41954022988505746, 0.4903446226975639, 3.4364261168384878, 1.3623978201634879]\n"
          ]
        },
        {
          "output_type": "stream",
          "name": "stderr",
          "text": [
            "\n",
            "\n",
            "Processing law dataset:  79%|███████▊  | 393/500 [1:31:27<22:07, 12.40s/it]\u001b[A\u001b[A"
          ]
        },
        {
          "output_type": "stream",
          "name": "stdout",
          "text": [
            "Appended result to Google Drive file: [393, 0.023809523809523836, 0.6904761904761905, 0.3107749766573296, 0.3274599542334096, 7.894736842105263, 4.081632653061225]\n"
          ]
        },
        {
          "output_type": "stream",
          "name": "stderr",
          "text": [
            "\n",
            "\n",
            "Processing law dataset:  79%|███████▉  | 394/500 [1:31:39<21:37, 12.24s/it]\u001b[A\u001b[A"
          ]
        },
        {
          "output_type": "stream",
          "name": "stdout",
          "text": [
            "Appended result to Google Drive file: [394, 0.28205128205128205, 0.8205128205128205, 0.23751755344047432, 0.6328320802005013, 2.793296089385475, 2.985074626865672]\n"
          ]
        },
        {
          "output_type": "stream",
          "name": "stderr",
          "text": [
            "\n",
            "\n",
            "Processing law dataset:  79%|███████▉  | 395/500 [1:31:55<23:24, 13.37s/it]\u001b[A\u001b[A"
          ]
        },
        {
          "output_type": "stream",
          "name": "stdout",
          "text": [
            "Appended result to Google Drive file: [395, 0.33333333333333337, 0.7407407407407407, 0.4528138528138528, 0.30334071613141383, 2.304147465437788, 0.0]\n"
          ]
        },
        {
          "output_type": "stream",
          "name": "stderr",
          "text": [
            "\n",
            "\n",
            "Processing law dataset:  79%|███████▉  | 396/500 [1:32:08<23:04, 13.32s/it]\u001b[A\u001b[A"
          ]
        },
        {
          "output_type": "stream",
          "name": "stdout",
          "text": [
            "Appended result to Google Drive file: [396, 0.3846153846153846, 0.6153846153846154, 0.6739895324800985, 0.5953586758484389, 5.454545454545455, 3.5211267605633805]\n"
          ]
        },
        {
          "output_type": "stream",
          "name": "stderr",
          "text": [
            "\n",
            "\n",
            "Processing law dataset:  79%|███████▉  | 397/500 [1:32:22<23:16, 13.56s/it]\u001b[A\u001b[A"
          ]
        },
        {
          "output_type": "stream",
          "name": "stdout",
          "text": [
            "Appended result to Google Drive file: [397, 0.5833333333333333, 0.6166666666666667, 0.6640830217620555, 0.45930115635997987, 1.524390243902439, 2.4875621890547266]\n"
          ]
        },
        {
          "output_type": "stream",
          "name": "stderr",
          "text": [
            "\n",
            "\n",
            "Processing law dataset:  80%|███████▉  | 398/500 [1:32:37<23:32, 13.85s/it]\u001b[A\u001b[A"
          ]
        },
        {
          "output_type": "stream",
          "name": "stdout",
          "text": [
            "Appended result to Google Drive file: [398, 0.40740740740740744, 1.0, 0.5447351474673879, 0.5510204081632653, 3.0395136778115504, 5.376344086021505]\n"
          ]
        },
        {
          "output_type": "stream",
          "name": "stderr",
          "text": [
            "\n",
            "\n",
            "Processing law dataset:  80%|███████▉  | 399/500 [1:32:50<22:57, 13.64s/it]\u001b[A\u001b[A"
          ]
        },
        {
          "output_type": "stream",
          "name": "stdout",
          "text": [
            "Appended result to Google Drive file: [399, 0.2857142857142857, 0.8095238095238095, 0.6360802021179379, 0.6665701128936424, 1.851851851851852, 1.7985611510791366]\n"
          ]
        },
        {
          "output_type": "stream",
          "name": "stderr",
          "text": [
            "\n",
            "\n",
            "Processing law dataset:  80%|████████  | 400/500 [1:33:03<22:18, 13.39s/it]\u001b[A\u001b[A"
          ]
        },
        {
          "output_type": "stream",
          "name": "stdout",
          "text": [
            "Appended result to Google Drive file: [400, 0.5098039215686274, 0.7058823529411764, 0.702457529275936, 0.6052350427350427, 6.097560975609755, 5.660377358490567]\n"
          ]
        },
        {
          "output_type": "stream",
          "name": "stderr",
          "text": [
            "\n",
            "\n",
            "Processing law dataset:  80%|████████  | 401/500 [1:33:18<22:59, 13.94s/it]\u001b[A\u001b[A"
          ]
        },
        {
          "output_type": "stream",
          "name": "stdout",
          "text": [
            "Appended result to Google Drive file: [401, 0.5555555555555556, 1.5138888888888888, 0.6466321377035663, 0.6600492048671321, 5.2631578947368425, 2.747252747252747]\n"
          ]
        },
        {
          "output_type": "stream",
          "name": "stderr",
          "text": [
            "\n",
            "\n",
            "Processing law dataset:  80%|████████  | 402/500 [1:33:35<24:13, 14.83s/it]\u001b[A\u001b[A"
          ]
        },
        {
          "output_type": "stream",
          "name": "stdout",
          "text": [
            "Appended result to Google Drive file: [402, 0.5476190476190477, 0.8571428571428572, 0.4808425405440331, 0.730986671454246, 0.927643784786642, 1.0660980810234542]\n"
          ]
        },
        {
          "output_type": "stream",
          "name": "stderr",
          "text": [
            "\n",
            "\n",
            "Processing law dataset:  81%|████████  | 403/500 [1:33:48<22:54, 14.17s/it]\u001b[A\u001b[A"
          ]
        },
        {
          "output_type": "stream",
          "name": "stdout",
          "text": [
            "Appended result to Google Drive file: [403, 0.18181818181818177, 1.0, 0.2825494766671237, 1.0, 3.0674846625766876, 0.0]\n"
          ]
        },
        {
          "output_type": "stream",
          "name": "stderr",
          "text": [
            "\n",
            "\n",
            "Processing law dataset:  81%|████████  | 404/500 [1:34:01<22:27, 14.04s/it]\u001b[A\u001b[A"
          ]
        },
        {
          "output_type": "stream",
          "name": "stdout",
          "text": [
            "Appended result to Google Drive file: [404, 0.28205128205128205, 0.641025641025641, 0.30877700869211905, 0.5645951035781543, 6.048387096774193, 3.3112582781456954]\n"
          ]
        },
        {
          "output_type": "stream",
          "name": "stderr",
          "text": [
            "\n",
            "\n",
            "Processing law dataset:  81%|████████  | 405/500 [1:34:18<23:12, 14.66s/it]\u001b[A\u001b[A"
          ]
        },
        {
          "output_type": "stream",
          "name": "stdout",
          "text": [
            "Appended result to Google Drive file: [405, 0.6458333333333333, 0.9166666666666666, 0.529276471660288, 0.3734687298517086, 3.1545741324921135, 0.0]\n"
          ]
        },
        {
          "output_type": "stream",
          "name": "stderr",
          "text": [
            "\n",
            "\n",
            "Processing law dataset:  81%|████████  | 406/500 [1:34:30<22:02, 14.07s/it]\u001b[A\u001b[A"
          ]
        },
        {
          "output_type": "stream",
          "name": "stdout",
          "text": [
            "Appended result to Google Drive file: [406, 0.25, 0.8333333333333334, 0.7729196729196728, 0.289083820662768, 5.813953488372093, 2.092050209205021]\n"
          ]
        },
        {
          "output_type": "stream",
          "name": "stderr",
          "text": [
            "\n",
            "\n",
            "Processing law dataset:  81%|████████▏ | 407/500 [1:34:42<20:42, 13.36s/it]\u001b[A\u001b[A"
          ]
        },
        {
          "output_type": "stream",
          "name": "stdout",
          "text": [
            "Appended result to Google Drive file: [407, 0.4444444444444444, 0.8055555555555556, 0.3119672131147541, 0.34920634920634913, 0.0, 0.0]\n"
          ]
        },
        {
          "output_type": "stream",
          "name": "stderr",
          "text": [
            "\n",
            "\n",
            "Processing law dataset:  82%|████████▏ | 408/500 [1:34:57<21:14, 13.85s/it]\u001b[A\u001b[A"
          ]
        },
        {
          "output_type": "stream",
          "name": "stdout",
          "text": [
            "Appended result to Google Drive file: [408, 0.41666666666666663, 1.0833333333333333, 0.6005807983570787, 0.40417587816261363, 3.3557046979865772, 4.8543689320388355]\n"
          ]
        },
        {
          "output_type": "stream",
          "name": "stderr",
          "text": [
            "\n",
            "\n",
            "Processing law dataset:  82%|████████▏ | 409/500 [1:35:13<21:51, 14.42s/it]\u001b[A\u001b[A"
          ]
        },
        {
          "output_type": "stream",
          "name": "stdout",
          "text": [
            "Appended result to Google Drive file: [409, 0.5757575757575757, 0.8181818181818181, 0.6358171175446923, 0.7175324675324676, 5.847953216374269, 3.0120481927710845]\n"
          ]
        },
        {
          "output_type": "stream",
          "name": "stderr",
          "text": [
            "\n",
            "\n",
            "Processing law dataset:  82%|████████▏ | 410/500 [1:35:27<21:28, 14.32s/it]\u001b[A\u001b[A"
          ]
        },
        {
          "output_type": "stream",
          "name": "stdout",
          "text": [
            "Appended result to Google Drive file: [410, 0.4444444444444444, 0.8222222222222222, 0.5545948616600791, 1.0, 4.777070063694268, 0.0]\n"
          ]
        },
        {
          "output_type": "stream",
          "name": "stderr",
          "text": [
            "\n",
            "\n",
            "Processing law dataset:  82%|████████▏ | 411/500 [1:35:42<21:46, 14.68s/it]\u001b[A\u001b[A"
          ]
        },
        {
          "output_type": "stream",
          "name": "stdout",
          "text": [
            "Appended result to Google Drive file: [411, 0.39682539682539686, 0.8095238095238095, 0.710878209172067, 0.7785672514619884, 2.8571428571428568, 0.0]\n"
          ]
        },
        {
          "output_type": "stream",
          "name": "stderr",
          "text": [
            "\n",
            "\n",
            "Processing law dataset:  82%|████████▏ | 412/500 [1:35:54<20:02, 13.66s/it]\u001b[A\u001b[A"
          ]
        },
        {
          "output_type": "stream",
          "name": "stdout",
          "text": [
            "Appended result to Google Drive file: [412, 0.29166666666666663, 0.7916666666666666, 0.4692460317460318, 0.9324561403508772, 6.147540983606558, 0.0]\n"
          ]
        },
        {
          "output_type": "stream",
          "name": "stderr",
          "text": [
            "\n",
            "\n",
            "Processing law dataset:  83%|████████▎ | 413/500 [1:36:03<18:01, 12.43s/it]\u001b[A\u001b[A"
          ]
        },
        {
          "output_type": "stream",
          "name": "stdout",
          "text": [
            "Appended result to Google Drive file: [413, 0.19999999999999996, 1.0333333333333334, 0.6666666666666666, 0.4061661245311861, 0.0, 4.716981132075471]\n"
          ]
        },
        {
          "output_type": "stream",
          "name": "stderr",
          "text": [
            "\n",
            "\n",
            "Processing law dataset:  83%|████████▎ | 414/500 [1:36:17<18:24, 12.85s/it]\u001b[A\u001b[A"
          ]
        },
        {
          "output_type": "stream",
          "name": "stdout",
          "text": [
            "Appended result to Google Drive file: [414, 0.7619047619047619, 0.9523809523809523, 0.5861590296495957, 0.6581317712270093, 4.983388704318937, 5.415162454873645]\n"
          ]
        },
        {
          "output_type": "stream",
          "name": "stderr",
          "text": [
            "\n",
            "\n",
            "Processing law dataset:  83%|████████▎ | 415/500 [1:36:28<17:19, 12.23s/it]\u001b[A\u001b[A"
          ]
        },
        {
          "output_type": "stream",
          "name": "stdout",
          "text": [
            "Appended result to Google Drive file: [415, 1.0, 1.1666666666666667, 0.454977263290088, 0.4579828102966645, 6.072874493927125, 3.968253968253968]\n"
          ]
        },
        {
          "output_type": "stream",
          "name": "stderr",
          "text": [
            "\n",
            "\n",
            "Processing law dataset:  83%|████████▎ | 416/500 [1:36:39<16:39, 11.90s/it]\u001b[A\u001b[A"
          ]
        },
        {
          "output_type": "stream",
          "name": "stdout",
          "text": [
            "Appended result to Google Drive file: [416, 0.5925925925925926, 0.5925925925925926, 0.7810108485409133, 0.46939024302791704, 2.202643171806167, 3.571428571428572]\n"
          ]
        },
        {
          "output_type": "stream",
          "name": "stderr",
          "text": [
            "\n",
            "\n",
            "Processing law dataset:  83%|████████▎ | 417/500 [1:36:51<16:34, 11.98s/it]\u001b[A\u001b[A"
          ]
        },
        {
          "output_type": "stream",
          "name": "stdout",
          "text": [
            "Appended result to Google Drive file: [417, 0.41666666666666663, 0.7083333333333333, 0.5323187341978631, 0.3913043478260869, 4.1551246537396125, 0.0]\n"
          ]
        },
        {
          "output_type": "stream",
          "name": "stderr",
          "text": [
            "\n",
            "\n",
            "Processing law dataset:  84%|████████▎ | 418/500 [1:37:05<17:15, 12.63s/it]\u001b[A\u001b[A"
          ]
        },
        {
          "output_type": "stream",
          "name": "stdout",
          "text": [
            "Appended result to Google Drive file: [418, 0.4545454545454546, 1.0, 0.5566353187042842, 0.6384102462533835, 4.838709677419355, 4.807692307692308]\n"
          ]
        },
        {
          "output_type": "stream",
          "name": "stderr",
          "text": [
            "\n",
            "\n",
            "Processing law dataset:  84%|████████▍ | 419/500 [1:37:18<17:16, 12.79s/it]\u001b[A\u001b[A"
          ]
        },
        {
          "output_type": "stream",
          "name": "stdout",
          "text": [
            "Appended result to Google Drive file: [419, 0.07692307692307687, 0.717948717948718, 0.35161135161135165, 0.5792307692307693, 21.27659574468085, 3.597122302158273]\n"
          ]
        },
        {
          "output_type": "stream",
          "name": "stderr",
          "text": [
            "\n",
            "\n",
            "Processing law dataset:  84%|████████▍ | 420/500 [1:37:31<17:02, 12.78s/it]\u001b[A\u001b[A"
          ]
        },
        {
          "output_type": "stream",
          "name": "stdout",
          "text": [
            "Appended result to Google Drive file: [420, 0.3055555555555556, 0.9444444444444444, 0.6927350427350426, 0.671201814058957, 4.189944134078211, 5.28169014084507]\n"
          ]
        },
        {
          "output_type": "stream",
          "name": "stderr",
          "text": [
            "\n",
            "\n",
            "Processing law dataset:  84%|████████▍ | 421/500 [1:37:43<16:28, 12.51s/it]\u001b[A\u001b[A"
          ]
        },
        {
          "output_type": "stream",
          "name": "stdout",
          "text": [
            "Appended result to Google Drive file: [421, 0.2857142857142857, 0.7142857142857143, 0.5447649572649572, 0.6916903858317521, 7.8125, 1.0351966873706004]\n"
          ]
        },
        {
          "output_type": "stream",
          "name": "stderr",
          "text": [
            "\n",
            "\n",
            "Processing law dataset:  84%|████████▍ | 422/500 [1:37:55<16:11, 12.46s/it]\u001b[A\u001b[A"
          ]
        },
        {
          "output_type": "stream",
          "name": "stdout",
          "text": [
            "Appended result to Google Drive file: [422, 0.717948717948718, 0.8974358974358975, 0.8777056277056278, 0.6780310971348706, 3.5211267605633805, 3.7037037037037033]\n"
          ]
        },
        {
          "output_type": "stream",
          "name": "stderr",
          "text": [
            "\n",
            "\n",
            "Processing law dataset:  85%|████████▍ | 423/500 [1:38:13<17:51, 13.91s/it]\u001b[A\u001b[A"
          ]
        },
        {
          "output_type": "stream",
          "name": "stdout",
          "text": [
            "Appended result to Google Drive file: [423, 0.25396825396825395, 0.8253968253968254, 0.36455026455026457, 0.6363636363636364, 6.993006993006993, 3.3112582781456954]\n"
          ]
        },
        {
          "output_type": "stream",
          "name": "stderr",
          "text": [
            "\n",
            "\n",
            "Processing law dataset:  85%|████████▍ | 424/500 [1:38:24<16:43, 13.21s/it]\u001b[A\u001b[A"
          ]
        },
        {
          "output_type": "stream",
          "name": "stdout",
          "text": [
            "Appended result to Google Drive file: [424, 0.2727272727272727, 0.6363636363636364, 0.2353808353808354, 0.5558196342510068, 6.329113924050633, 9.036144578313253]\n"
          ]
        },
        {
          "output_type": "stream",
          "name": "stderr",
          "text": [
            "\n",
            "\n",
            "Processing law dataset:  85%|████████▌ | 425/500 [1:38:33<15:02, 12.04s/it]\u001b[A\u001b[A"
          ]
        },
        {
          "output_type": "stream",
          "name": "stdout",
          "text": [
            "Appended result to Google Drive file: [425, 0.05555555555555558, 0.9166666666666666, 0.29780201351358665, 0.8518518518518517, 5.0761421319796955, 0.0]\n"
          ]
        },
        {
          "output_type": "stream",
          "name": "stderr",
          "text": [
            "\n",
            "\n",
            "Processing law dataset:  85%|████████▌ | 426/500 [1:38:50<16:20, 13.25s/it]\u001b[A\u001b[A"
          ]
        },
        {
          "output_type": "stream",
          "name": "stdout",
          "text": [
            "Appended result to Google Drive file: [426, 0.33333333333333337, 0.5, 0.7559534060466896, 0.3739935587761674, 0.9960159362549802, 0.0]\n"
          ]
        },
        {
          "output_type": "stream",
          "name": "stderr",
          "text": [
            "\n",
            "\n",
            "Processing law dataset:  85%|████████▌ | 427/500 [1:39:02<15:39, 12.87s/it]\u001b[A\u001b[A"
          ]
        },
        {
          "output_type": "stream",
          "name": "stdout",
          "text": [
            "Appended result to Google Drive file: [427, 0.28888888888888886, 1.1555555555555554, 0.565245239232116, 0.45902945293189196, 3.7500000000000004, 0.0]\n"
          ]
        },
        {
          "output_type": "stream",
          "name": "stderr",
          "text": [
            "\n",
            "\n",
            "Processing law dataset:  86%|████████▌ | 428/500 [1:39:17<16:13, 13.52s/it]\u001b[A\u001b[A"
          ]
        },
        {
          "output_type": "stream",
          "name": "stdout",
          "text": [
            "Appended result to Google Drive file: [428, 0.0, 0.875, 0.8306060606060606, 1.0, 2.245508982035928, 3.0864197530864197]\n"
          ]
        },
        {
          "output_type": "stream",
          "name": "stderr",
          "text": [
            "\n",
            "\n",
            "Processing law dataset:  86%|████████▌ | 429/500 [1:39:28<15:22, 12.99s/it]\u001b[A\u001b[A"
          ]
        },
        {
          "output_type": "stream",
          "name": "stdout",
          "text": [
            "Appended result to Google Drive file: [429, 0.02777777777777779, 0.7777777777777778, 0.6428571428571429, 0.6008770766469501, 0.0, 0.0]\n"
          ]
        },
        {
          "output_type": "stream",
          "name": "stderr",
          "text": [
            "\n",
            "\n",
            "Processing law dataset:  86%|████████▌ | 430/500 [1:39:44<16:04, 13.77s/it]\u001b[A\u001b[A"
          ]
        },
        {
          "output_type": "stream",
          "name": "stdout",
          "text": [
            "Appended result to Google Drive file: [430, 0.4285714285714286, 0.9523809523809523, 0.6998039094586664, 0.7206542191344623, 4.731861198738171, 5.244755244755246]\n"
          ]
        },
        {
          "output_type": "stream",
          "name": "stderr",
          "text": [
            "\n",
            "\n",
            "Processing law dataset:  86%|████████▌ | 431/500 [1:39:58<15:49, 13.76s/it]\u001b[A\u001b[A"
          ]
        },
        {
          "output_type": "stream",
          "name": "stdout",
          "text": [
            "Appended result to Google Drive file: [431, 0.1777777777777778, 0.6, 0.23416666666666666, 0.6673971463963686, 2.923976608187134, 4.504504504504505]\n"
          ]
        },
        {
          "output_type": "stream",
          "name": "stderr",
          "text": [
            "\n",
            "\n",
            "Processing law dataset:  86%|████████▋ | 432/500 [1:40:17<17:27, 15.40s/it]\u001b[A\u001b[A"
          ]
        },
        {
          "output_type": "stream",
          "name": "stdout",
          "text": [
            "Appended result to Google Drive file: [432, 0.6666666666666667, 0.8333333333333334, 0.5355721476698169, 0.6821292723358301, 4.201680672268907, 4.032258064516128]\n"
          ]
        },
        {
          "output_type": "stream",
          "name": "stderr",
          "text": [
            "\n",
            "\n",
            "Processing law dataset:  87%|████████▋ | 433/500 [1:40:30<16:19, 14.61s/it]\u001b[A\u001b[A"
          ]
        },
        {
          "output_type": "stream",
          "name": "stdout",
          "text": [
            "Appended result to Google Drive file: [433, 0.33333333333333337, 0.9393939393939394, 0.785978835978836, 0.28744588744588745, 3.303964757709252, 2.222222222222222]\n"
          ]
        },
        {
          "output_type": "stream",
          "name": "stderr",
          "text": [
            "\n",
            "\n",
            "Processing law dataset:  87%|████████▋ | 434/500 [1:40:43<15:38, 14.22s/it]\u001b[A\u001b[A"
          ]
        },
        {
          "output_type": "stream",
          "name": "stdout",
          "text": [
            "Appended result to Google Drive file: [434, 1.0909090909090908, 1.0303030303030303, 0.5627090301003345, 0.5654531126871553, 3.3112582781456954, 1.7123287671232876]\n"
          ]
        },
        {
          "output_type": "stream",
          "name": "stderr",
          "text": [
            "\n",
            "\n",
            "Processing law dataset:  87%|████████▋ | 435/500 [1:40:59<15:55, 14.70s/it]\u001b[A\u001b[A"
          ]
        },
        {
          "output_type": "stream",
          "name": "stdout",
          "text": [
            "Appended result to Google Drive file: [435, 0.34782608695652173, 0.855072463768116, 0.6276881720430106, 0.5107773988371004, 3.947368421052632, 3.6900369003690034]\n"
          ]
        },
        {
          "output_type": "stream",
          "name": "stderr",
          "text": [
            "\n",
            "\n",
            "Processing law dataset:  87%|████████▋ | 436/500 [1:41:17<16:50, 15.79s/it]\u001b[A\u001b[A"
          ]
        },
        {
          "output_type": "stream",
          "name": "stdout",
          "text": [
            "Appended result to Google Drive file: [436, 0.11111111111111116, 1.0, 0.1611111111111111, 0.3981895862422875, 0.0, 0.0]\n"
          ]
        },
        {
          "output_type": "stream",
          "name": "stderr",
          "text": [
            "\n",
            "\n",
            "Processing law dataset:  87%|████████▋ | 437/500 [1:41:29<15:23, 14.65s/it]\u001b[A\u001b[A"
          ]
        },
        {
          "output_type": "stream",
          "name": "stdout",
          "text": [
            "Appended result to Google Drive file: [437, 0.45238095238095233, 0.8809523809523809, 0.11564625850340136, 0.4396468311562651, 0.0, 1.8115942028985508]\n"
          ]
        },
        {
          "output_type": "stream",
          "name": "stderr",
          "text": [
            "\n",
            "\n",
            "Processing law dataset:  88%|████████▊ | 438/500 [1:41:42<14:31, 14.06s/it]\u001b[A\u001b[A"
          ]
        },
        {
          "output_type": "stream",
          "name": "stdout",
          "text": [
            "Appended result to Google Drive file: [438, 0.37254901960784315, 0.6470588235294117, 0.4596403596403596, 0.49064186137356874, 5.928853754940711, 2.551020408163265]\n"
          ]
        },
        {
          "output_type": "stream",
          "name": "stderr",
          "text": [
            "\n",
            "\n",
            "Processing law dataset:  88%|████████▊ | 439/500 [1:41:56<14:13, 13.99s/it]\u001b[A\u001b[A"
          ]
        },
        {
          "output_type": "stream",
          "name": "stdout",
          "text": [
            "Appended result to Google Drive file: [439, 0.2222222222222222, 0.6666666666666667, 0.7253202450570871, 0.6439655582512726, 1.2048192771084336, 1.607717041800643]\n"
          ]
        },
        {
          "output_type": "stream",
          "name": "stderr",
          "text": [
            "\n",
            "\n",
            "Processing law dataset:  88%|████████▊ | 440/500 [1:42:11<14:22, 14.37s/it]\u001b[A\u001b[A"
          ]
        },
        {
          "output_type": "stream",
          "name": "stdout",
          "text": [
            "Appended result to Google Drive file: [440, 0.3939393939393939, 1.0, 0.6914285714285714, 0.8727272727272727, 5.7915057915057915, 6.666666666666667]\n"
          ]
        },
        {
          "output_type": "stream",
          "name": "stderr",
          "text": [
            "\n",
            "\n",
            "Processing law dataset:  88%|████████▊ | 441/500 [1:42:26<14:27, 14.70s/it]\u001b[A\u001b[A"
          ]
        },
        {
          "output_type": "stream",
          "name": "stdout",
          "text": [
            "Appended result to Google Drive file: [441, 0.2407407407407407, 0.7777777777777778, 0.15839460784313728, 0.6925412315242824, 2.4390243902439024, 3.0864197530864192]\n"
          ]
        },
        {
          "output_type": "stream",
          "name": "stderr",
          "text": [
            "\rProcessing law dataset:  88%|████████▊ | 441/500 [1:43:22<13:49, 14.06s/it]\n",
            "\n",
            "Target Languages:   0%|          | 0/2 [1:44:24<?, ?it/s]\n"
          ]
        },
        {
          "output_type": "error",
          "ename": "InternalServerError",
          "evalue": "Error code: 500 - {'type': 'error', 'error': {'type': 'api_error', 'message': 'Internal server error'}}",
          "traceback": [
            "\u001b[0;31m---------------------------------------------------------------------------\u001b[0m",
            "\u001b[0;31mInternalServerError\u001b[0m                       Traceback (most recent call last)",
            "\u001b[0;32m<ipython-input-15-e5fe29f324cc>\u001b[0m in \u001b[0;36m<cell line: 6>\u001b[0;34m()\u001b[0m\n\u001b[1;32m      8\u001b[0m     \u001b[0;32mfor\u001b[0m \u001b[0mdataset_index\u001b[0m \u001b[0;32min\u001b[0m \u001b[0mtqdm\u001b[0m\u001b[0;34m(\u001b[0m\u001b[0mdataset_indices\u001b[0m\u001b[0;34m,\u001b[0m \u001b[0mdesc\u001b[0m\u001b[0;34m=\u001b[0m\u001b[0;34mf\"Datasets for {target_lang}\"\u001b[0m\u001b[0;34m,\u001b[0m \u001b[0mleave\u001b[0m\u001b[0;34m=\u001b[0m\u001b[0;32mFalse\u001b[0m\u001b[0;34m)\u001b[0m\u001b[0;34m:\u001b[0m\u001b[0;34m\u001b[0m\u001b[0;34m\u001b[0m\u001b[0m\n\u001b[1;32m      9\u001b[0m         \u001b[0mresults_file\u001b[0m \u001b[0;34m=\u001b[0m \u001b[0;34mf\"full_claude_{target_lang}_{dataset_index}_results.csv\"\u001b[0m\u001b[0;34m\u001b[0m\u001b[0;34m\u001b[0m\u001b[0m\n\u001b[0;32m---> 10\u001b[0;31m         run_pipeline_claude(target_lang=target_lang,\n\u001b[0m\u001b[1;32m     11\u001b[0m                             \u001b[0mdataset_index\u001b[0m\u001b[0;34m=\u001b[0m\u001b[0mdataset_index\u001b[0m\u001b[0;34m,\u001b[0m\u001b[0;34m\u001b[0m\u001b[0;34m\u001b[0m\u001b[0m\n\u001b[1;32m     12\u001b[0m                             results_file_in_drive=results_file)\n",
            "\u001b[0;32m<ipython-input-14-5d8d930a71cb>\u001b[0m in \u001b[0;36mrun_pipeline_claude\u001b[0;34m(target_lang, dataset_index, results_file_in_drive)\u001b[0m\n\u001b[1;32m     34\u001b[0m         \u001b[0;32mfor\u001b[0m \u001b[0mk\u001b[0m \u001b[0;32min\u001b[0m \u001b[0mrange\u001b[0m\u001b[0;34m(\u001b[0m\u001b[0;36m3\u001b[0m\u001b[0;34m)\u001b[0m\u001b[0;34m:\u001b[0m  \u001b[0;31m# Adjust K_HYPERPARAMETER as needed\u001b[0m\u001b[0;34m\u001b[0m\u001b[0;34m\u001b[0m\u001b[0m\n\u001b[1;32m     35\u001b[0m             \u001b[0mprompt\u001b[0m \u001b[0;34m=\u001b[0m \u001b[0;34mf\"Please return only the translation and nothing else. Translate the following text to {target_lang}: {text}\"\u001b[0m\u001b[0;34m\u001b[0m\u001b[0;34m\u001b[0m\u001b[0m\n\u001b[0;32m---> 36\u001b[0;31m             \u001b[0mresponse\u001b[0m \u001b[0;34m=\u001b[0m \u001b[0minvoke_claude\u001b[0m\u001b[0;34m(\u001b[0m\u001b[0mprompt\u001b[0m\u001b[0;34m)\u001b[0m\u001b[0;34m\u001b[0m\u001b[0;34m\u001b[0m\u001b[0m\n\u001b[0m\u001b[1;32m     37\u001b[0m             \u001b[0;31m# print(\"\\nGenerated Response (Regular):\", response)\u001b[0m\u001b[0;34m\u001b[0m\u001b[0;34m\u001b[0m\u001b[0m\n\u001b[1;32m     38\u001b[0m             \u001b[0mregular_translations\u001b[0m\u001b[0;34m.\u001b[0m\u001b[0mappend\u001b[0m\u001b[0;34m(\u001b[0m\u001b[0mresponse\u001b[0m\u001b[0;34m)\u001b[0m\u001b[0;34m\u001b[0m\u001b[0;34m\u001b[0m\u001b[0m\n",
            "\u001b[0;32m<ipython-input-12-3b78f26f97cf>\u001b[0m in \u001b[0;36minvoke_claude\u001b[0;34m(prompt, model, max_tokens)\u001b[0m\n\u001b[1;32m      5\u001b[0m     \u001b[0mapi_key\u001b[0m \u001b[0;34m=\u001b[0m \u001b[0muserdata\u001b[0m\u001b[0;34m.\u001b[0m\u001b[0mget\u001b[0m\u001b[0;34m(\u001b[0m\u001b[0;34m'claude_token'\u001b[0m\u001b[0;34m)\u001b[0m\u001b[0;34m\u001b[0m\u001b[0;34m\u001b[0m\u001b[0m\n\u001b[1;32m      6\u001b[0m     \u001b[0mclient\u001b[0m \u001b[0;34m=\u001b[0m \u001b[0manthropic\u001b[0m\u001b[0;34m.\u001b[0m\u001b[0mAnthropic\u001b[0m\u001b[0;34m(\u001b[0m\u001b[0mapi_key\u001b[0m\u001b[0;34m=\u001b[0m\u001b[0mapi_key\u001b[0m\u001b[0;34m)\u001b[0m\u001b[0;34m\u001b[0m\u001b[0;34m\u001b[0m\u001b[0m\n\u001b[0;32m----> 7\u001b[0;31m     response = client.messages.create(\n\u001b[0m\u001b[1;32m      8\u001b[0m         \u001b[0mmodel\u001b[0m\u001b[0;34m=\u001b[0m\u001b[0mmodel\u001b[0m\u001b[0;34m,\u001b[0m\u001b[0;34m\u001b[0m\u001b[0;34m\u001b[0m\u001b[0m\n\u001b[1;32m      9\u001b[0m         \u001b[0mmax_tokens\u001b[0m\u001b[0;34m=\u001b[0m\u001b[0mmax_tokens\u001b[0m\u001b[0;34m,\u001b[0m\u001b[0;34m\u001b[0m\u001b[0;34m\u001b[0m\u001b[0m\n",
            "\u001b[0;32m/usr/local/lib/python3.10/dist-packages/anthropic/_utils/_utils.py\u001b[0m in \u001b[0;36mwrapper\u001b[0;34m(*args, **kwargs)\u001b[0m\n\u001b[1;32m    273\u001b[0m                         \u001b[0mmsg\u001b[0m \u001b[0;34m=\u001b[0m \u001b[0;34mf\"Missing required argument: {quote(missing[0])}\"\u001b[0m\u001b[0;34m\u001b[0m\u001b[0;34m\u001b[0m\u001b[0m\n\u001b[1;32m    274\u001b[0m                 \u001b[0;32mraise\u001b[0m \u001b[0mTypeError\u001b[0m\u001b[0;34m(\u001b[0m\u001b[0mmsg\u001b[0m\u001b[0;34m)\u001b[0m\u001b[0;34m\u001b[0m\u001b[0;34m\u001b[0m\u001b[0m\n\u001b[0;32m--> 275\u001b[0;31m             \u001b[0;32mreturn\u001b[0m \u001b[0mfunc\u001b[0m\u001b[0;34m(\u001b[0m\u001b[0;34m*\u001b[0m\u001b[0margs\u001b[0m\u001b[0;34m,\u001b[0m \u001b[0;34m**\u001b[0m\u001b[0mkwargs\u001b[0m\u001b[0;34m)\u001b[0m\u001b[0;34m\u001b[0m\u001b[0;34m\u001b[0m\u001b[0m\n\u001b[0m\u001b[1;32m    276\u001b[0m \u001b[0;34m\u001b[0m\u001b[0m\n\u001b[1;32m    277\u001b[0m         \u001b[0;32mreturn\u001b[0m \u001b[0mwrapper\u001b[0m  \u001b[0;31m# type: ignore\u001b[0m\u001b[0;34m\u001b[0m\u001b[0;34m\u001b[0m\u001b[0m\n",
            "\u001b[0;32m/usr/local/lib/python3.10/dist-packages/anthropic/resources/messages.py\u001b[0m in \u001b[0;36mcreate\u001b[0;34m(self, max_tokens, messages, model, metadata, stop_sequences, stream, system, temperature, tool_choice, tools, top_k, top_p, extra_headers, extra_query, extra_body, timeout)\u001b[0m\n\u001b[1;32m    886\u001b[0m             )\n\u001b[1;32m    887\u001b[0m \u001b[0;34m\u001b[0m\u001b[0m\n\u001b[0;32m--> 888\u001b[0;31m         return self._post(\n\u001b[0m\u001b[1;32m    889\u001b[0m             \u001b[0;34m\"/v1/messages\"\u001b[0m\u001b[0;34m,\u001b[0m\u001b[0;34m\u001b[0m\u001b[0;34m\u001b[0m\u001b[0m\n\u001b[1;32m    890\u001b[0m             body=maybe_transform(\n",
            "\u001b[0;32m/usr/local/lib/python3.10/dist-packages/anthropic/_base_client.py\u001b[0m in \u001b[0;36mpost\u001b[0;34m(self, path, cast_to, body, options, files, stream, stream_cls)\u001b[0m\n\u001b[1;32m   1277\u001b[0m             \u001b[0mmethod\u001b[0m\u001b[0;34m=\u001b[0m\u001b[0;34m\"post\"\u001b[0m\u001b[0;34m,\u001b[0m \u001b[0murl\u001b[0m\u001b[0;34m=\u001b[0m\u001b[0mpath\u001b[0m\u001b[0;34m,\u001b[0m \u001b[0mjson_data\u001b[0m\u001b[0;34m=\u001b[0m\u001b[0mbody\u001b[0m\u001b[0;34m,\u001b[0m \u001b[0mfiles\u001b[0m\u001b[0;34m=\u001b[0m\u001b[0mto_httpx_files\u001b[0m\u001b[0;34m(\u001b[0m\u001b[0mfiles\u001b[0m\u001b[0;34m)\u001b[0m\u001b[0;34m,\u001b[0m \u001b[0;34m**\u001b[0m\u001b[0moptions\u001b[0m\u001b[0;34m\u001b[0m\u001b[0;34m\u001b[0m\u001b[0m\n\u001b[1;32m   1278\u001b[0m         )\n\u001b[0;32m-> 1279\u001b[0;31m         \u001b[0;32mreturn\u001b[0m \u001b[0mcast\u001b[0m\u001b[0;34m(\u001b[0m\u001b[0mResponseT\u001b[0m\u001b[0;34m,\u001b[0m \u001b[0mself\u001b[0m\u001b[0;34m.\u001b[0m\u001b[0mrequest\u001b[0m\u001b[0;34m(\u001b[0m\u001b[0mcast_to\u001b[0m\u001b[0;34m,\u001b[0m \u001b[0mopts\u001b[0m\u001b[0;34m,\u001b[0m \u001b[0mstream\u001b[0m\u001b[0;34m=\u001b[0m\u001b[0mstream\u001b[0m\u001b[0;34m,\u001b[0m \u001b[0mstream_cls\u001b[0m\u001b[0;34m=\u001b[0m\u001b[0mstream_cls\u001b[0m\u001b[0;34m)\u001b[0m\u001b[0;34m)\u001b[0m\u001b[0;34m\u001b[0m\u001b[0;34m\u001b[0m\u001b[0m\n\u001b[0m\u001b[1;32m   1280\u001b[0m \u001b[0;34m\u001b[0m\u001b[0m\n\u001b[1;32m   1281\u001b[0m     def patch(\n",
            "\u001b[0;32m/usr/local/lib/python3.10/dist-packages/anthropic/_base_client.py\u001b[0m in \u001b[0;36mrequest\u001b[0;34m(self, cast_to, options, remaining_retries, stream, stream_cls)\u001b[0m\n\u001b[1;32m    954\u001b[0m             \u001b[0mretries_taken\u001b[0m \u001b[0;34m=\u001b[0m \u001b[0;36m0\u001b[0m\u001b[0;34m\u001b[0m\u001b[0;34m\u001b[0m\u001b[0m\n\u001b[1;32m    955\u001b[0m \u001b[0;34m\u001b[0m\u001b[0m\n\u001b[0;32m--> 956\u001b[0;31m         return self._request(\n\u001b[0m\u001b[1;32m    957\u001b[0m             \u001b[0mcast_to\u001b[0m\u001b[0;34m=\u001b[0m\u001b[0mcast_to\u001b[0m\u001b[0;34m,\u001b[0m\u001b[0;34m\u001b[0m\u001b[0;34m\u001b[0m\u001b[0m\n\u001b[1;32m    958\u001b[0m             \u001b[0moptions\u001b[0m\u001b[0;34m=\u001b[0m\u001b[0moptions\u001b[0m\u001b[0;34m,\u001b[0m\u001b[0;34m\u001b[0m\u001b[0;34m\u001b[0m\u001b[0m\n",
            "\u001b[0;32m/usr/local/lib/python3.10/dist-packages/anthropic/_base_client.py\u001b[0m in \u001b[0;36m_request\u001b[0;34m(self, cast_to, options, retries_taken, stream, stream_cls)\u001b[0m\n\u001b[1;32m   1058\u001b[0m \u001b[0;34m\u001b[0m\u001b[0m\n\u001b[1;32m   1059\u001b[0m             \u001b[0mlog\u001b[0m\u001b[0;34m.\u001b[0m\u001b[0mdebug\u001b[0m\u001b[0;34m(\u001b[0m\u001b[0;34m\"Re-raising status error\"\u001b[0m\u001b[0;34m)\u001b[0m\u001b[0;34m\u001b[0m\u001b[0;34m\u001b[0m\u001b[0m\n\u001b[0;32m-> 1060\u001b[0;31m             \u001b[0;32mraise\u001b[0m \u001b[0mself\u001b[0m\u001b[0;34m.\u001b[0m\u001b[0m_make_status_error_from_response\u001b[0m\u001b[0;34m(\u001b[0m\u001b[0merr\u001b[0m\u001b[0;34m.\u001b[0m\u001b[0mresponse\u001b[0m\u001b[0;34m)\u001b[0m \u001b[0;32mfrom\u001b[0m \u001b[0;32mNone\u001b[0m\u001b[0;34m\u001b[0m\u001b[0;34m\u001b[0m\u001b[0m\n\u001b[0m\u001b[1;32m   1061\u001b[0m \u001b[0;34m\u001b[0m\u001b[0m\n\u001b[1;32m   1062\u001b[0m         return self._process_response(\n",
            "\u001b[0;31mInternalServerError\u001b[0m: Error code: 500 - {'type': 'error', 'error': {'type': 'api_error', 'message': 'Internal server error'}}"
          ]
        }
      ]
    }
  ]
}