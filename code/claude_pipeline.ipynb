{
  "nbformat": 4,
  "nbformat_minor": 0,
  "metadata": {
    "colab": {
      "provenance": [],
      "authorship_tag": "ABX9TyPxBJDJHXv3MwiuMZcfKpfb",
      "include_colab_link": true
    },
    "kernelspec": {
      "name": "python3",
      "display_name": "Python 3"
    },
    "language_info": {
      "name": "python"
    }
  },
  "cells": [
    {
      "cell_type": "markdown",
      "metadata": {
        "id": "view-in-github",
        "colab_type": "text"
      },
      "source": [
        "<a href=\"https://colab.research.google.com/github/jared-ni/6.8610-project/blob/main/claude_pipeline.ipynb\" target=\"_parent\"><img src=\"https://colab.research.google.com/assets/colab-badge.svg\" alt=\"Open In Colab\"/></a>"
      ]
    },
    {
      "cell_type": "code",
      "source": [
        "!pip install datasets\n",
        "!pip install spacy\n",
        "!pip install scispacy\n",
        "!pip install https://s3-us-west-2.amazonaws.com/ai2-s2-scispacy/releases/v0.5.4/en_core_sci_sm-0.5.4.tar.gz\n",
        "!pip install googletrans==4.0.0-rc1\n",
        "!pip install deep-translator\n",
        "!pip install transformers\n",
        "!pip install torch"
      ],
      "metadata": {
        "colab": {
          "base_uri": "https://localhost:8080/"
        },
        "id": "RlKj99ZdKsNH",
        "outputId": "31c95b91-3188-4804-bb2b-5a2007c46df2"
      },
      "execution_count": 1,
      "outputs": [
        {
          "output_type": "stream",
          "name": "stdout",
          "text": [
            "Collecting datasets\n",
            "  Downloading datasets-3.1.0-py3-none-any.whl.metadata (20 kB)\n",
            "Requirement already satisfied: filelock in /usr/local/lib/python3.10/dist-packages (from datasets) (3.16.1)\n",
            "Requirement already satisfied: numpy>=1.17 in /usr/local/lib/python3.10/dist-packages (from datasets) (1.26.4)\n",
            "Requirement already satisfied: pyarrow>=15.0.0 in /usr/local/lib/python3.10/dist-packages (from datasets) (17.0.0)\n",
            "Collecting dill<0.3.9,>=0.3.0 (from datasets)\n",
            "  Downloading dill-0.3.8-py3-none-any.whl.metadata (10 kB)\n",
            "Requirement already satisfied: pandas in /usr/local/lib/python3.10/dist-packages (from datasets) (2.2.2)\n",
            "Requirement already satisfied: requests>=2.32.2 in /usr/local/lib/python3.10/dist-packages (from datasets) (2.32.3)\n",
            "Requirement already satisfied: tqdm>=4.66.3 in /usr/local/lib/python3.10/dist-packages (from datasets) (4.66.6)\n",
            "Collecting xxhash (from datasets)\n",
            "  Downloading xxhash-3.5.0-cp310-cp310-manylinux_2_17_x86_64.manylinux2014_x86_64.whl.metadata (12 kB)\n",
            "Collecting multiprocess<0.70.17 (from datasets)\n",
            "  Downloading multiprocess-0.70.16-py310-none-any.whl.metadata (7.2 kB)\n",
            "Collecting fsspec<=2024.9.0,>=2023.1.0 (from fsspec[http]<=2024.9.0,>=2023.1.0->datasets)\n",
            "  Downloading fsspec-2024.9.0-py3-none-any.whl.metadata (11 kB)\n",
            "Requirement already satisfied: aiohttp in /usr/local/lib/python3.10/dist-packages (from datasets) (3.11.9)\n",
            "Requirement already satisfied: huggingface-hub>=0.23.0 in /usr/local/lib/python3.10/dist-packages (from datasets) (0.26.3)\n",
            "Requirement already satisfied: packaging in /usr/local/lib/python3.10/dist-packages (from datasets) (24.2)\n",
            "Requirement already satisfied: pyyaml>=5.1 in /usr/local/lib/python3.10/dist-packages (from datasets) (6.0.2)\n",
            "Requirement already satisfied: aiohappyeyeballs>=2.3.0 in /usr/local/lib/python3.10/dist-packages (from aiohttp->datasets) (2.4.4)\n",
            "Requirement already satisfied: aiosignal>=1.1.2 in /usr/local/lib/python3.10/dist-packages (from aiohttp->datasets) (1.3.1)\n",
            "Requirement already satisfied: async-timeout<6.0,>=4.0 in /usr/local/lib/python3.10/dist-packages (from aiohttp->datasets) (4.0.3)\n",
            "Requirement already satisfied: attrs>=17.3.0 in /usr/local/lib/python3.10/dist-packages (from aiohttp->datasets) (24.2.0)\n",
            "Requirement already satisfied: frozenlist>=1.1.1 in /usr/local/lib/python3.10/dist-packages (from aiohttp->datasets) (1.5.0)\n",
            "Requirement already satisfied: multidict<7.0,>=4.5 in /usr/local/lib/python3.10/dist-packages (from aiohttp->datasets) (6.1.0)\n",
            "Requirement already satisfied: propcache>=0.2.0 in /usr/local/lib/python3.10/dist-packages (from aiohttp->datasets) (0.2.1)\n",
            "Requirement already satisfied: yarl<2.0,>=1.17.0 in /usr/local/lib/python3.10/dist-packages (from aiohttp->datasets) (1.18.3)\n",
            "Requirement already satisfied: typing-extensions>=3.7.4.3 in /usr/local/lib/python3.10/dist-packages (from huggingface-hub>=0.23.0->datasets) (4.12.2)\n",
            "Requirement already satisfied: charset-normalizer<4,>=2 in /usr/local/lib/python3.10/dist-packages (from requests>=2.32.2->datasets) (3.4.0)\n",
            "Requirement already satisfied: idna<4,>=2.5 in /usr/local/lib/python3.10/dist-packages (from requests>=2.32.2->datasets) (3.10)\n",
            "Requirement already satisfied: urllib3<3,>=1.21.1 in /usr/local/lib/python3.10/dist-packages (from requests>=2.32.2->datasets) (2.2.3)\n",
            "Requirement already satisfied: certifi>=2017.4.17 in /usr/local/lib/python3.10/dist-packages (from requests>=2.32.2->datasets) (2024.8.30)\n",
            "Requirement already satisfied: python-dateutil>=2.8.2 in /usr/local/lib/python3.10/dist-packages (from pandas->datasets) (2.8.2)\n",
            "Requirement already satisfied: pytz>=2020.1 in /usr/local/lib/python3.10/dist-packages (from pandas->datasets) (2024.2)\n",
            "Requirement already satisfied: tzdata>=2022.7 in /usr/local/lib/python3.10/dist-packages (from pandas->datasets) (2024.2)\n",
            "Requirement already satisfied: six>=1.5 in /usr/local/lib/python3.10/dist-packages (from python-dateutil>=2.8.2->pandas->datasets) (1.16.0)\n",
            "Downloading datasets-3.1.0-py3-none-any.whl (480 kB)\n",
            "\u001b[2K   \u001b[90m━━━━━━━━━━━━━━━━━━━━━━━━━━━━━━━━━━━━━━━━\u001b[0m \u001b[32m480.6/480.6 kB\u001b[0m \u001b[31m8.1 MB/s\u001b[0m eta \u001b[36m0:00:00\u001b[0m\n",
            "\u001b[?25hDownloading dill-0.3.8-py3-none-any.whl (116 kB)\n",
            "\u001b[2K   \u001b[90m━━━━━━━━━━━━━━━━━━━━━━━━━━━━━━━━━━━━━━━━\u001b[0m \u001b[32m116.3/116.3 kB\u001b[0m \u001b[31m9.0 MB/s\u001b[0m eta \u001b[36m0:00:00\u001b[0m\n",
            "\u001b[?25hDownloading fsspec-2024.9.0-py3-none-any.whl (179 kB)\n",
            "\u001b[2K   \u001b[90m━━━━━━━━━━━━━━━━━━━━━━━━━━━━━━━━━━━━━━━━\u001b[0m \u001b[32m179.3/179.3 kB\u001b[0m \u001b[31m13.5 MB/s\u001b[0m eta \u001b[36m0:00:00\u001b[0m\n",
            "\u001b[?25hDownloading multiprocess-0.70.16-py310-none-any.whl (134 kB)\n",
            "\u001b[2K   \u001b[90m━━━━━━━━━━━━━━━━━━━━━━━━━━━━━━━━━━━━━━━━\u001b[0m \u001b[32m134.8/134.8 kB\u001b[0m \u001b[31m9.4 MB/s\u001b[0m eta \u001b[36m0:00:00\u001b[0m\n",
            "\u001b[?25hDownloading xxhash-3.5.0-cp310-cp310-manylinux_2_17_x86_64.manylinux2014_x86_64.whl (194 kB)\n",
            "\u001b[2K   \u001b[90m━━━━━━━━━━━━━━━━━━━━━━━━━━━━━━━━━━━━━━━━\u001b[0m \u001b[32m194.1/194.1 kB\u001b[0m \u001b[31m13.2 MB/s\u001b[0m eta \u001b[36m0:00:00\u001b[0m\n",
            "\u001b[?25hInstalling collected packages: xxhash, fsspec, dill, multiprocess, datasets\n",
            "  Attempting uninstall: fsspec\n",
            "    Found existing installation: fsspec 2024.10.0\n",
            "    Uninstalling fsspec-2024.10.0:\n",
            "      Successfully uninstalled fsspec-2024.10.0\n",
            "\u001b[31mERROR: pip's dependency resolver does not currently take into account all the packages that are installed. This behaviour is the source of the following dependency conflicts.\n",
            "gcsfs 2024.10.0 requires fsspec==2024.10.0, but you have fsspec 2024.9.0 which is incompatible.\u001b[0m\u001b[31m\n",
            "\u001b[0mSuccessfully installed datasets-3.1.0 dill-0.3.8 fsspec-2024.9.0 multiprocess-0.70.16 xxhash-3.5.0\n",
            "Requirement already satisfied: spacy in /usr/local/lib/python3.10/dist-packages (3.7.5)\n",
            "Requirement already satisfied: spacy-legacy<3.1.0,>=3.0.11 in /usr/local/lib/python3.10/dist-packages (from spacy) (3.0.12)\n",
            "Requirement already satisfied: spacy-loggers<2.0.0,>=1.0.0 in /usr/local/lib/python3.10/dist-packages (from spacy) (1.0.5)\n",
            "Requirement already satisfied: murmurhash<1.1.0,>=0.28.0 in /usr/local/lib/python3.10/dist-packages (from spacy) (1.0.11)\n",
            "Requirement already satisfied: cymem<2.1.0,>=2.0.2 in /usr/local/lib/python3.10/dist-packages (from spacy) (2.0.10)\n",
            "Requirement already satisfied: preshed<3.1.0,>=3.0.2 in /usr/local/lib/python3.10/dist-packages (from spacy) (3.0.9)\n",
            "Requirement already satisfied: thinc<8.3.0,>=8.2.2 in /usr/local/lib/python3.10/dist-packages (from spacy) (8.2.5)\n",
            "Requirement already satisfied: wasabi<1.2.0,>=0.9.1 in /usr/local/lib/python3.10/dist-packages (from spacy) (1.1.3)\n",
            "Requirement already satisfied: srsly<3.0.0,>=2.4.3 in /usr/local/lib/python3.10/dist-packages (from spacy) (2.4.8)\n",
            "Requirement already satisfied: catalogue<2.1.0,>=2.0.6 in /usr/local/lib/python3.10/dist-packages (from spacy) (2.0.10)\n",
            "Requirement already satisfied: weasel<0.5.0,>=0.1.0 in /usr/local/lib/python3.10/dist-packages (from spacy) (0.4.1)\n",
            "Requirement already satisfied: typer<1.0.0,>=0.3.0 in /usr/local/lib/python3.10/dist-packages (from spacy) (0.15.0)\n",
            "Requirement already satisfied: tqdm<5.0.0,>=4.38.0 in /usr/local/lib/python3.10/dist-packages (from spacy) (4.66.6)\n",
            "Requirement already satisfied: requests<3.0.0,>=2.13.0 in /usr/local/lib/python3.10/dist-packages (from spacy) (2.32.3)\n",
            "Requirement already satisfied: pydantic!=1.8,!=1.8.1,<3.0.0,>=1.7.4 in /usr/local/lib/python3.10/dist-packages (from spacy) (2.10.3)\n",
            "Requirement already satisfied: jinja2 in /usr/local/lib/python3.10/dist-packages (from spacy) (3.1.4)\n",
            "Requirement already satisfied: setuptools in /usr/local/lib/python3.10/dist-packages (from spacy) (75.1.0)\n",
            "Requirement already satisfied: packaging>=20.0 in /usr/local/lib/python3.10/dist-packages (from spacy) (24.2)\n",
            "Requirement already satisfied: langcodes<4.0.0,>=3.2.0 in /usr/local/lib/python3.10/dist-packages (from spacy) (3.5.0)\n",
            "Requirement already satisfied: numpy>=1.19.0 in /usr/local/lib/python3.10/dist-packages (from spacy) (1.26.4)\n",
            "Requirement already satisfied: language-data>=1.2 in /usr/local/lib/python3.10/dist-packages (from langcodes<4.0.0,>=3.2.0->spacy) (1.3.0)\n",
            "Requirement already satisfied: annotated-types>=0.6.0 in /usr/local/lib/python3.10/dist-packages (from pydantic!=1.8,!=1.8.1,<3.0.0,>=1.7.4->spacy) (0.7.0)\n",
            "Requirement already satisfied: pydantic-core==2.27.1 in /usr/local/lib/python3.10/dist-packages (from pydantic!=1.8,!=1.8.1,<3.0.0,>=1.7.4->spacy) (2.27.1)\n",
            "Requirement already satisfied: typing-extensions>=4.12.2 in /usr/local/lib/python3.10/dist-packages (from pydantic!=1.8,!=1.8.1,<3.0.0,>=1.7.4->spacy) (4.12.2)\n",
            "Requirement already satisfied: charset-normalizer<4,>=2 in /usr/local/lib/python3.10/dist-packages (from requests<3.0.0,>=2.13.0->spacy) (3.4.0)\n",
            "Requirement already satisfied: idna<4,>=2.5 in /usr/local/lib/python3.10/dist-packages (from requests<3.0.0,>=2.13.0->spacy) (3.10)\n",
            "Requirement already satisfied: urllib3<3,>=1.21.1 in /usr/local/lib/python3.10/dist-packages (from requests<3.0.0,>=2.13.0->spacy) (2.2.3)\n",
            "Requirement already satisfied: certifi>=2017.4.17 in /usr/local/lib/python3.10/dist-packages (from requests<3.0.0,>=2.13.0->spacy) (2024.8.30)\n",
            "Requirement already satisfied: blis<0.8.0,>=0.7.8 in /usr/local/lib/python3.10/dist-packages (from thinc<8.3.0,>=8.2.2->spacy) (0.7.11)\n",
            "Requirement already satisfied: confection<1.0.0,>=0.0.1 in /usr/local/lib/python3.10/dist-packages (from thinc<8.3.0,>=8.2.2->spacy) (0.1.5)\n",
            "Requirement already satisfied: click>=8.0.0 in /usr/local/lib/python3.10/dist-packages (from typer<1.0.0,>=0.3.0->spacy) (8.1.7)\n",
            "Requirement already satisfied: shellingham>=1.3.0 in /usr/local/lib/python3.10/dist-packages (from typer<1.0.0,>=0.3.0->spacy) (1.5.4)\n",
            "Requirement already satisfied: rich>=10.11.0 in /usr/local/lib/python3.10/dist-packages (from typer<1.0.0,>=0.3.0->spacy) (13.9.4)\n",
            "Requirement already satisfied: cloudpathlib<1.0.0,>=0.7.0 in /usr/local/lib/python3.10/dist-packages (from weasel<0.5.0,>=0.1.0->spacy) (0.20.0)\n",
            "Requirement already satisfied: smart-open<8.0.0,>=5.2.1 in /usr/local/lib/python3.10/dist-packages (from weasel<0.5.0,>=0.1.0->spacy) (7.0.5)\n",
            "Requirement already satisfied: MarkupSafe>=2.0 in /usr/local/lib/python3.10/dist-packages (from jinja2->spacy) (3.0.2)\n",
            "Requirement already satisfied: marisa-trie>=1.1.0 in /usr/local/lib/python3.10/dist-packages (from language-data>=1.2->langcodes<4.0.0,>=3.2.0->spacy) (1.2.1)\n",
            "Requirement already satisfied: markdown-it-py>=2.2.0 in /usr/local/lib/python3.10/dist-packages (from rich>=10.11.0->typer<1.0.0,>=0.3.0->spacy) (3.0.0)\n",
            "Requirement already satisfied: pygments<3.0.0,>=2.13.0 in /usr/local/lib/python3.10/dist-packages (from rich>=10.11.0->typer<1.0.0,>=0.3.0->spacy) (2.18.0)\n",
            "Requirement already satisfied: wrapt in /usr/local/lib/python3.10/dist-packages (from smart-open<8.0.0,>=5.2.1->weasel<0.5.0,>=0.1.0->spacy) (1.17.0)\n",
            "Requirement already satisfied: mdurl~=0.1 in /usr/local/lib/python3.10/dist-packages (from markdown-it-py>=2.2.0->rich>=10.11.0->typer<1.0.0,>=0.3.0->spacy) (0.1.2)\n",
            "Collecting scispacy\n",
            "  Downloading scispacy-0.5.5-py3-none-any.whl.metadata (18 kB)\n",
            "Requirement already satisfied: spacy<3.8.0,>=3.7.0 in /usr/local/lib/python3.10/dist-packages (from scispacy) (3.7.5)\n",
            "Requirement already satisfied: scipy in /usr/local/lib/python3.10/dist-packages (from scispacy) (1.13.1)\n",
            "Requirement already satisfied: requests<3.0.0,>=2.0.0 in /usr/local/lib/python3.10/dist-packages (from scispacy) (2.32.3)\n",
            "Collecting conllu (from scispacy)\n",
            "  Downloading conllu-6.0.0-py3-none-any.whl.metadata (21 kB)\n",
            "Requirement already satisfied: numpy in /usr/local/lib/python3.10/dist-packages (from scispacy) (1.26.4)\n",
            "Requirement already satisfied: joblib in /usr/local/lib/python3.10/dist-packages (from scispacy) (1.4.2)\n",
            "Requirement already satisfied: scikit-learn>=0.20.3 in /usr/local/lib/python3.10/dist-packages (from scispacy) (1.5.2)\n",
            "Collecting pysbd (from scispacy)\n",
            "  Downloading pysbd-0.3.4-py3-none-any.whl.metadata (6.1 kB)\n",
            "Collecting nmslib>=1.7.3.6 (from scispacy)\n",
            "  Downloading nmslib-2.1.1.tar.gz (188 kB)\n",
            "\u001b[2K     \u001b[90m━━━━━━━━━━━━━━━━━━━━━━━━━━━━━━━━━━━━━━━━\u001b[0m \u001b[32m188.7/188.7 kB\u001b[0m \u001b[31m5.0 MB/s\u001b[0m eta \u001b[36m0:00:00\u001b[0m\n",
            "\u001b[?25h  Preparing metadata (setup.py) ... \u001b[?25l\u001b[?25hdone\n",
            "Collecting pybind11<2.6.2 (from nmslib>=1.7.3.6->scispacy)\n",
            "  Using cached pybind11-2.6.1-py2.py3-none-any.whl.metadata (8.7 kB)\n",
            "Requirement already satisfied: psutil in /usr/local/lib/python3.10/dist-packages (from nmslib>=1.7.3.6->scispacy) (5.9.5)\n",
            "Requirement already satisfied: charset-normalizer<4,>=2 in /usr/local/lib/python3.10/dist-packages (from requests<3.0.0,>=2.0.0->scispacy) (3.4.0)\n",
            "Requirement already satisfied: idna<4,>=2.5 in /usr/local/lib/python3.10/dist-packages (from requests<3.0.0,>=2.0.0->scispacy) (3.10)\n",
            "Requirement already satisfied: urllib3<3,>=1.21.1 in /usr/local/lib/python3.10/dist-packages (from requests<3.0.0,>=2.0.0->scispacy) (2.2.3)\n",
            "Requirement already satisfied: certifi>=2017.4.17 in /usr/local/lib/python3.10/dist-packages (from requests<3.0.0,>=2.0.0->scispacy) (2024.8.30)\n",
            "Requirement already satisfied: threadpoolctl>=3.1.0 in /usr/local/lib/python3.10/dist-packages (from scikit-learn>=0.20.3->scispacy) (3.5.0)\n",
            "Requirement already satisfied: spacy-legacy<3.1.0,>=3.0.11 in /usr/local/lib/python3.10/dist-packages (from spacy<3.8.0,>=3.7.0->scispacy) (3.0.12)\n",
            "Requirement already satisfied: spacy-loggers<2.0.0,>=1.0.0 in /usr/local/lib/python3.10/dist-packages (from spacy<3.8.0,>=3.7.0->scispacy) (1.0.5)\n",
            "Requirement already satisfied: murmurhash<1.1.0,>=0.28.0 in /usr/local/lib/python3.10/dist-packages (from spacy<3.8.0,>=3.7.0->scispacy) (1.0.11)\n",
            "Requirement already satisfied: cymem<2.1.0,>=2.0.2 in /usr/local/lib/python3.10/dist-packages (from spacy<3.8.0,>=3.7.0->scispacy) (2.0.10)\n",
            "Requirement already satisfied: preshed<3.1.0,>=3.0.2 in /usr/local/lib/python3.10/dist-packages (from spacy<3.8.0,>=3.7.0->scispacy) (3.0.9)\n",
            "Requirement already satisfied: thinc<8.3.0,>=8.2.2 in /usr/local/lib/python3.10/dist-packages (from spacy<3.8.0,>=3.7.0->scispacy) (8.2.5)\n",
            "Requirement already satisfied: wasabi<1.2.0,>=0.9.1 in /usr/local/lib/python3.10/dist-packages (from spacy<3.8.0,>=3.7.0->scispacy) (1.1.3)\n",
            "Requirement already satisfied: srsly<3.0.0,>=2.4.3 in /usr/local/lib/python3.10/dist-packages (from spacy<3.8.0,>=3.7.0->scispacy) (2.4.8)\n",
            "Requirement already satisfied: catalogue<2.1.0,>=2.0.6 in /usr/local/lib/python3.10/dist-packages (from spacy<3.8.0,>=3.7.0->scispacy) (2.0.10)\n",
            "Requirement already satisfied: weasel<0.5.0,>=0.1.0 in /usr/local/lib/python3.10/dist-packages (from spacy<3.8.0,>=3.7.0->scispacy) (0.4.1)\n",
            "Requirement already satisfied: typer<1.0.0,>=0.3.0 in /usr/local/lib/python3.10/dist-packages (from spacy<3.8.0,>=3.7.0->scispacy) (0.15.0)\n",
            "Requirement already satisfied: tqdm<5.0.0,>=4.38.0 in /usr/local/lib/python3.10/dist-packages (from spacy<3.8.0,>=3.7.0->scispacy) (4.66.6)\n",
            "Requirement already satisfied: pydantic!=1.8,!=1.8.1,<3.0.0,>=1.7.4 in /usr/local/lib/python3.10/dist-packages (from spacy<3.8.0,>=3.7.0->scispacy) (2.10.3)\n",
            "Requirement already satisfied: jinja2 in /usr/local/lib/python3.10/dist-packages (from spacy<3.8.0,>=3.7.0->scispacy) (3.1.4)\n",
            "Requirement already satisfied: setuptools in /usr/local/lib/python3.10/dist-packages (from spacy<3.8.0,>=3.7.0->scispacy) (75.1.0)\n",
            "Requirement already satisfied: packaging>=20.0 in /usr/local/lib/python3.10/dist-packages (from spacy<3.8.0,>=3.7.0->scispacy) (24.2)\n",
            "Requirement already satisfied: langcodes<4.0.0,>=3.2.0 in /usr/local/lib/python3.10/dist-packages (from spacy<3.8.0,>=3.7.0->scispacy) (3.5.0)\n",
            "Requirement already satisfied: language-data>=1.2 in /usr/local/lib/python3.10/dist-packages (from langcodes<4.0.0,>=3.2.0->spacy<3.8.0,>=3.7.0->scispacy) (1.3.0)\n",
            "Requirement already satisfied: annotated-types>=0.6.0 in /usr/local/lib/python3.10/dist-packages (from pydantic!=1.8,!=1.8.1,<3.0.0,>=1.7.4->spacy<3.8.0,>=3.7.0->scispacy) (0.7.0)\n",
            "Requirement already satisfied: pydantic-core==2.27.1 in /usr/local/lib/python3.10/dist-packages (from pydantic!=1.8,!=1.8.1,<3.0.0,>=1.7.4->spacy<3.8.0,>=3.7.0->scispacy) (2.27.1)\n",
            "Requirement already satisfied: typing-extensions>=4.12.2 in /usr/local/lib/python3.10/dist-packages (from pydantic!=1.8,!=1.8.1,<3.0.0,>=1.7.4->spacy<3.8.0,>=3.7.0->scispacy) (4.12.2)\n",
            "Requirement already satisfied: blis<0.8.0,>=0.7.8 in /usr/local/lib/python3.10/dist-packages (from thinc<8.3.0,>=8.2.2->spacy<3.8.0,>=3.7.0->scispacy) (0.7.11)\n",
            "Requirement already satisfied: confection<1.0.0,>=0.0.1 in /usr/local/lib/python3.10/dist-packages (from thinc<8.3.0,>=8.2.2->spacy<3.8.0,>=3.7.0->scispacy) (0.1.5)\n",
            "Requirement already satisfied: click>=8.0.0 in /usr/local/lib/python3.10/dist-packages (from typer<1.0.0,>=0.3.0->spacy<3.8.0,>=3.7.0->scispacy) (8.1.7)\n",
            "Requirement already satisfied: shellingham>=1.3.0 in /usr/local/lib/python3.10/dist-packages (from typer<1.0.0,>=0.3.0->spacy<3.8.0,>=3.7.0->scispacy) (1.5.4)\n",
            "Requirement already satisfied: rich>=10.11.0 in /usr/local/lib/python3.10/dist-packages (from typer<1.0.0,>=0.3.0->spacy<3.8.0,>=3.7.0->scispacy) (13.9.4)\n",
            "Requirement already satisfied: cloudpathlib<1.0.0,>=0.7.0 in /usr/local/lib/python3.10/dist-packages (from weasel<0.5.0,>=0.1.0->spacy<3.8.0,>=3.7.0->scispacy) (0.20.0)\n",
            "Requirement already satisfied: smart-open<8.0.0,>=5.2.1 in /usr/local/lib/python3.10/dist-packages (from weasel<0.5.0,>=0.1.0->spacy<3.8.0,>=3.7.0->scispacy) (7.0.5)\n",
            "Requirement already satisfied: MarkupSafe>=2.0 in /usr/local/lib/python3.10/dist-packages (from jinja2->spacy<3.8.0,>=3.7.0->scispacy) (3.0.2)\n",
            "Requirement already satisfied: marisa-trie>=1.1.0 in /usr/local/lib/python3.10/dist-packages (from language-data>=1.2->langcodes<4.0.0,>=3.2.0->spacy<3.8.0,>=3.7.0->scispacy) (1.2.1)\n",
            "Requirement already satisfied: markdown-it-py>=2.2.0 in /usr/local/lib/python3.10/dist-packages (from rich>=10.11.0->typer<1.0.0,>=0.3.0->spacy<3.8.0,>=3.7.0->scispacy) (3.0.0)\n",
            "Requirement already satisfied: pygments<3.0.0,>=2.13.0 in /usr/local/lib/python3.10/dist-packages (from rich>=10.11.0->typer<1.0.0,>=0.3.0->spacy<3.8.0,>=3.7.0->scispacy) (2.18.0)\n",
            "Requirement already satisfied: wrapt in /usr/local/lib/python3.10/dist-packages (from smart-open<8.0.0,>=5.2.1->weasel<0.5.0,>=0.1.0->spacy<3.8.0,>=3.7.0->scispacy) (1.17.0)\n",
            "Requirement already satisfied: mdurl~=0.1 in /usr/local/lib/python3.10/dist-packages (from markdown-it-py>=2.2.0->rich>=10.11.0->typer<1.0.0,>=0.3.0->spacy<3.8.0,>=3.7.0->scispacy) (0.1.2)\n",
            "Downloading scispacy-0.5.5-py3-none-any.whl (46 kB)\n",
            "\u001b[2K   \u001b[90m━━━━━━━━━━━━━━━━━━━━━━━━━━━━━━━━━━━━━━━━\u001b[0m \u001b[32m46.2/46.2 kB\u001b[0m \u001b[31m3.6 MB/s\u001b[0m eta \u001b[36m0:00:00\u001b[0m\n",
            "\u001b[?25hDownloading conllu-6.0.0-py3-none-any.whl (16 kB)\n",
            "Downloading pysbd-0.3.4-py3-none-any.whl (71 kB)\n",
            "\u001b[2K   \u001b[90m━━━━━━━━━━━━━━━━━━━━━━━━━━━━━━━━━━━━━━━━\u001b[0m \u001b[32m71.1/71.1 kB\u001b[0m \u001b[31m5.1 MB/s\u001b[0m eta \u001b[36m0:00:00\u001b[0m\n",
            "\u001b[?25hUsing cached pybind11-2.6.1-py2.py3-none-any.whl (188 kB)\n",
            "Building wheels for collected packages: nmslib\n",
            "  Building wheel for nmslib (setup.py) ... \u001b[?25l\u001b[?25hdone\n",
            "  Created wheel for nmslib: filename=nmslib-2.1.1-cp310-cp310-linux_x86_64.whl size=13578642 sha256=e79e10d94ab451a6a5dd2eee1b8f9cb6910f88f8aee2721af0929e71ed5419a1\n",
            "  Stored in directory: /root/.cache/pip/wheels/21/1a/5d/4cc754a5b1a88405cad184b76f823897a63a8d19afcd4b9314\n",
            "Successfully built nmslib\n",
            "Installing collected packages: pysbd, pybind11, conllu, nmslib, scispacy\n",
            "Successfully installed conllu-6.0.0 nmslib-2.1.1 pybind11-2.6.1 pysbd-0.3.4 scispacy-0.5.5\n",
            "Collecting https://s3-us-west-2.amazonaws.com/ai2-s2-scispacy/releases/v0.5.4/en_core_sci_sm-0.5.4.tar.gz\n",
            "  Downloading https://s3-us-west-2.amazonaws.com/ai2-s2-scispacy/releases/v0.5.4/en_core_sci_sm-0.5.4.tar.gz (14.8 MB)\n",
            "\u001b[2K     \u001b[90m━━━━━━━━━━━━━━━━━━━━━━━━━━━━━━━━━━━━━━━━\u001b[0m \u001b[32m14.8/14.8 MB\u001b[0m \u001b[31m20.7 MB/s\u001b[0m eta \u001b[36m0:00:00\u001b[0m\n",
            "\u001b[?25h  Preparing metadata (setup.py) ... \u001b[?25l\u001b[?25hdone\n",
            "Requirement already satisfied: spacy<3.8.0,>=3.7.4 in /usr/local/lib/python3.10/dist-packages (from en_core_sci_sm==0.5.4) (3.7.5)\n",
            "Requirement already satisfied: spacy-legacy<3.1.0,>=3.0.11 in /usr/local/lib/python3.10/dist-packages (from spacy<3.8.0,>=3.7.4->en_core_sci_sm==0.5.4) (3.0.12)\n",
            "Requirement already satisfied: spacy-loggers<2.0.0,>=1.0.0 in /usr/local/lib/python3.10/dist-packages (from spacy<3.8.0,>=3.7.4->en_core_sci_sm==0.5.4) (1.0.5)\n",
            "Requirement already satisfied: murmurhash<1.1.0,>=0.28.0 in /usr/local/lib/python3.10/dist-packages (from spacy<3.8.0,>=3.7.4->en_core_sci_sm==0.5.4) (1.0.11)\n",
            "Requirement already satisfied: cymem<2.1.0,>=2.0.2 in /usr/local/lib/python3.10/dist-packages (from spacy<3.8.0,>=3.7.4->en_core_sci_sm==0.5.4) (2.0.10)\n",
            "Requirement already satisfied: preshed<3.1.0,>=3.0.2 in /usr/local/lib/python3.10/dist-packages (from spacy<3.8.0,>=3.7.4->en_core_sci_sm==0.5.4) (3.0.9)\n",
            "Requirement already satisfied: thinc<8.3.0,>=8.2.2 in /usr/local/lib/python3.10/dist-packages (from spacy<3.8.0,>=3.7.4->en_core_sci_sm==0.5.4) (8.2.5)\n",
            "Requirement already satisfied: wasabi<1.2.0,>=0.9.1 in /usr/local/lib/python3.10/dist-packages (from spacy<3.8.0,>=3.7.4->en_core_sci_sm==0.5.4) (1.1.3)\n",
            "Requirement already satisfied: srsly<3.0.0,>=2.4.3 in /usr/local/lib/python3.10/dist-packages (from spacy<3.8.0,>=3.7.4->en_core_sci_sm==0.5.4) (2.4.8)\n",
            "Requirement already satisfied: catalogue<2.1.0,>=2.0.6 in /usr/local/lib/python3.10/dist-packages (from spacy<3.8.0,>=3.7.4->en_core_sci_sm==0.5.4) (2.0.10)\n",
            "Requirement already satisfied: weasel<0.5.0,>=0.1.0 in /usr/local/lib/python3.10/dist-packages (from spacy<3.8.0,>=3.7.4->en_core_sci_sm==0.5.4) (0.4.1)\n",
            "Requirement already satisfied: typer<1.0.0,>=0.3.0 in /usr/local/lib/python3.10/dist-packages (from spacy<3.8.0,>=3.7.4->en_core_sci_sm==0.5.4) (0.15.0)\n",
            "Requirement already satisfied: tqdm<5.0.0,>=4.38.0 in /usr/local/lib/python3.10/dist-packages (from spacy<3.8.0,>=3.7.4->en_core_sci_sm==0.5.4) (4.66.6)\n",
            "Requirement already satisfied: requests<3.0.0,>=2.13.0 in /usr/local/lib/python3.10/dist-packages (from spacy<3.8.0,>=3.7.4->en_core_sci_sm==0.5.4) (2.32.3)\n",
            "Requirement already satisfied: pydantic!=1.8,!=1.8.1,<3.0.0,>=1.7.4 in /usr/local/lib/python3.10/dist-packages (from spacy<3.8.0,>=3.7.4->en_core_sci_sm==0.5.4) (2.10.3)\n",
            "Requirement already satisfied: jinja2 in /usr/local/lib/python3.10/dist-packages (from spacy<3.8.0,>=3.7.4->en_core_sci_sm==0.5.4) (3.1.4)\n",
            "Requirement already satisfied: setuptools in /usr/local/lib/python3.10/dist-packages (from spacy<3.8.0,>=3.7.4->en_core_sci_sm==0.5.4) (75.1.0)\n",
            "Requirement already satisfied: packaging>=20.0 in /usr/local/lib/python3.10/dist-packages (from spacy<3.8.0,>=3.7.4->en_core_sci_sm==0.5.4) (24.2)\n",
            "Requirement already satisfied: langcodes<4.0.0,>=3.2.0 in /usr/local/lib/python3.10/dist-packages (from spacy<3.8.0,>=3.7.4->en_core_sci_sm==0.5.4) (3.5.0)\n",
            "Requirement already satisfied: numpy>=1.19.0 in /usr/local/lib/python3.10/dist-packages (from spacy<3.8.0,>=3.7.4->en_core_sci_sm==0.5.4) (1.26.4)\n",
            "Requirement already satisfied: language-data>=1.2 in /usr/local/lib/python3.10/dist-packages (from langcodes<4.0.0,>=3.2.0->spacy<3.8.0,>=3.7.4->en_core_sci_sm==0.5.4) (1.3.0)\n",
            "Requirement already satisfied: annotated-types>=0.6.0 in /usr/local/lib/python3.10/dist-packages (from pydantic!=1.8,!=1.8.1,<3.0.0,>=1.7.4->spacy<3.8.0,>=3.7.4->en_core_sci_sm==0.5.4) (0.7.0)\n",
            "Requirement already satisfied: pydantic-core==2.27.1 in /usr/local/lib/python3.10/dist-packages (from pydantic!=1.8,!=1.8.1,<3.0.0,>=1.7.4->spacy<3.8.0,>=3.7.4->en_core_sci_sm==0.5.4) (2.27.1)\n",
            "Requirement already satisfied: typing-extensions>=4.12.2 in /usr/local/lib/python3.10/dist-packages (from pydantic!=1.8,!=1.8.1,<3.0.0,>=1.7.4->spacy<3.8.0,>=3.7.4->en_core_sci_sm==0.5.4) (4.12.2)\n",
            "Requirement already satisfied: charset-normalizer<4,>=2 in /usr/local/lib/python3.10/dist-packages (from requests<3.0.0,>=2.13.0->spacy<3.8.0,>=3.7.4->en_core_sci_sm==0.5.4) (3.4.0)\n",
            "Requirement already satisfied: idna<4,>=2.5 in /usr/local/lib/python3.10/dist-packages (from requests<3.0.0,>=2.13.0->spacy<3.8.0,>=3.7.4->en_core_sci_sm==0.5.4) (3.10)\n",
            "Requirement already satisfied: urllib3<3,>=1.21.1 in /usr/local/lib/python3.10/dist-packages (from requests<3.0.0,>=2.13.0->spacy<3.8.0,>=3.7.4->en_core_sci_sm==0.5.4) (2.2.3)\n",
            "Requirement already satisfied: certifi>=2017.4.17 in /usr/local/lib/python3.10/dist-packages (from requests<3.0.0,>=2.13.0->spacy<3.8.0,>=3.7.4->en_core_sci_sm==0.5.4) (2024.8.30)\n",
            "Requirement already satisfied: blis<0.8.0,>=0.7.8 in /usr/local/lib/python3.10/dist-packages (from thinc<8.3.0,>=8.2.2->spacy<3.8.0,>=3.7.4->en_core_sci_sm==0.5.4) (0.7.11)\n",
            "Requirement already satisfied: confection<1.0.0,>=0.0.1 in /usr/local/lib/python3.10/dist-packages (from thinc<8.3.0,>=8.2.2->spacy<3.8.0,>=3.7.4->en_core_sci_sm==0.5.4) (0.1.5)\n",
            "Requirement already satisfied: click>=8.0.0 in /usr/local/lib/python3.10/dist-packages (from typer<1.0.0,>=0.3.0->spacy<3.8.0,>=3.7.4->en_core_sci_sm==0.5.4) (8.1.7)\n",
            "Requirement already satisfied: shellingham>=1.3.0 in /usr/local/lib/python3.10/dist-packages (from typer<1.0.0,>=0.3.0->spacy<3.8.0,>=3.7.4->en_core_sci_sm==0.5.4) (1.5.4)\n",
            "Requirement already satisfied: rich>=10.11.0 in /usr/local/lib/python3.10/dist-packages (from typer<1.0.0,>=0.3.0->spacy<3.8.0,>=3.7.4->en_core_sci_sm==0.5.4) (13.9.4)\n",
            "Requirement already satisfied: cloudpathlib<1.0.0,>=0.7.0 in /usr/local/lib/python3.10/dist-packages (from weasel<0.5.0,>=0.1.0->spacy<3.8.0,>=3.7.4->en_core_sci_sm==0.5.4) (0.20.0)\n",
            "Requirement already satisfied: smart-open<8.0.0,>=5.2.1 in /usr/local/lib/python3.10/dist-packages (from weasel<0.5.0,>=0.1.0->spacy<3.8.0,>=3.7.4->en_core_sci_sm==0.5.4) (7.0.5)\n",
            "Requirement already satisfied: MarkupSafe>=2.0 in /usr/local/lib/python3.10/dist-packages (from jinja2->spacy<3.8.0,>=3.7.4->en_core_sci_sm==0.5.4) (3.0.2)\n",
            "Requirement already satisfied: marisa-trie>=1.1.0 in /usr/local/lib/python3.10/dist-packages (from language-data>=1.2->langcodes<4.0.0,>=3.2.0->spacy<3.8.0,>=3.7.4->en_core_sci_sm==0.5.4) (1.2.1)\n",
            "Requirement already satisfied: markdown-it-py>=2.2.0 in /usr/local/lib/python3.10/dist-packages (from rich>=10.11.0->typer<1.0.0,>=0.3.0->spacy<3.8.0,>=3.7.4->en_core_sci_sm==0.5.4) (3.0.0)\n",
            "Requirement already satisfied: pygments<3.0.0,>=2.13.0 in /usr/local/lib/python3.10/dist-packages (from rich>=10.11.0->typer<1.0.0,>=0.3.0->spacy<3.8.0,>=3.7.4->en_core_sci_sm==0.5.4) (2.18.0)\n",
            "Requirement already satisfied: wrapt in /usr/local/lib/python3.10/dist-packages (from smart-open<8.0.0,>=5.2.1->weasel<0.5.0,>=0.1.0->spacy<3.8.0,>=3.7.4->en_core_sci_sm==0.5.4) (1.17.0)\n",
            "Requirement already satisfied: mdurl~=0.1 in /usr/local/lib/python3.10/dist-packages (from markdown-it-py>=2.2.0->rich>=10.11.0->typer<1.0.0,>=0.3.0->spacy<3.8.0,>=3.7.4->en_core_sci_sm==0.5.4) (0.1.2)\n",
            "Building wheels for collected packages: en_core_sci_sm\n",
            "  Building wheel for en_core_sci_sm (setup.py) ... \u001b[?25l\u001b[?25hdone\n",
            "  Created wheel for en_core_sci_sm: filename=en_core_sci_sm-0.5.4-py3-none-any.whl size=14778487 sha256=c6e2716e64ee44d432916d6ef5320d8abd662651b7f73f4579a751d21c76319c\n",
            "  Stored in directory: /root/.cache/pip/wheels/0e/d3/6e/e03165bcf8c0fe90c7a41e8a44dd268e4c7779582c5e022707\n",
            "Successfully built en_core_sci_sm\n",
            "Installing collected packages: en_core_sci_sm\n",
            "Successfully installed en_core_sci_sm-0.5.4\n",
            "Collecting googletrans==4.0.0-rc1\n",
            "  Downloading googletrans-4.0.0rc1.tar.gz (20 kB)\n",
            "  Preparing metadata (setup.py) ... \u001b[?25l\u001b[?25hdone\n",
            "Collecting httpx==0.13.3 (from googletrans==4.0.0-rc1)\n",
            "  Downloading httpx-0.13.3-py3-none-any.whl.metadata (25 kB)\n",
            "Requirement already satisfied: certifi in /usr/local/lib/python3.10/dist-packages (from httpx==0.13.3->googletrans==4.0.0-rc1) (2024.8.30)\n",
            "Collecting hstspreload (from httpx==0.13.3->googletrans==4.0.0-rc1)\n",
            "  Downloading hstspreload-2024.12.1-py3-none-any.whl.metadata (2.1 kB)\n",
            "Requirement already satisfied: sniffio in /usr/local/lib/python3.10/dist-packages (from httpx==0.13.3->googletrans==4.0.0-rc1) (1.3.1)\n",
            "Collecting chardet==3.* (from httpx==0.13.3->googletrans==4.0.0-rc1)\n",
            "  Downloading chardet-3.0.4-py2.py3-none-any.whl.metadata (3.2 kB)\n",
            "Collecting idna==2.* (from httpx==0.13.3->googletrans==4.0.0-rc1)\n",
            "  Downloading idna-2.10-py2.py3-none-any.whl.metadata (9.1 kB)\n",
            "Collecting rfc3986<2,>=1.3 (from httpx==0.13.3->googletrans==4.0.0-rc1)\n",
            "  Downloading rfc3986-1.5.0-py2.py3-none-any.whl.metadata (6.5 kB)\n",
            "Collecting httpcore==0.9.* (from httpx==0.13.3->googletrans==4.0.0-rc1)\n",
            "  Downloading httpcore-0.9.1-py3-none-any.whl.metadata (4.6 kB)\n",
            "Collecting h11<0.10,>=0.8 (from httpcore==0.9.*->httpx==0.13.3->googletrans==4.0.0-rc1)\n",
            "  Downloading h11-0.9.0-py2.py3-none-any.whl.metadata (8.1 kB)\n",
            "Collecting h2==3.* (from httpcore==0.9.*->httpx==0.13.3->googletrans==4.0.0-rc1)\n",
            "  Downloading h2-3.2.0-py2.py3-none-any.whl.metadata (32 kB)\n",
            "Collecting hyperframe<6,>=5.2.0 (from h2==3.*->httpcore==0.9.*->httpx==0.13.3->googletrans==4.0.0-rc1)\n",
            "  Downloading hyperframe-5.2.0-py2.py3-none-any.whl.metadata (7.2 kB)\n",
            "Collecting hpack<4,>=3.0 (from h2==3.*->httpcore==0.9.*->httpx==0.13.3->googletrans==4.0.0-rc1)\n",
            "  Downloading hpack-3.0.0-py2.py3-none-any.whl.metadata (7.0 kB)\n",
            "Downloading httpx-0.13.3-py3-none-any.whl (55 kB)\n",
            "\u001b[2K   \u001b[90m━━━━━━━━━━━━━━━━━━━━━━━━━━━━━━━━━━━━━━━━\u001b[0m \u001b[32m55.1/55.1 kB\u001b[0m \u001b[31m4.0 MB/s\u001b[0m eta \u001b[36m0:00:00\u001b[0m\n",
            "\u001b[?25hDownloading chardet-3.0.4-py2.py3-none-any.whl (133 kB)\n",
            "\u001b[2K   \u001b[90m━━━━━━━━━━━━━━━━━━━━━━━━━━━━━━━━━━━━━━━━\u001b[0m \u001b[32m133.4/133.4 kB\u001b[0m \u001b[31m6.0 MB/s\u001b[0m eta \u001b[36m0:00:00\u001b[0m\n",
            "\u001b[?25hDownloading httpcore-0.9.1-py3-none-any.whl (42 kB)\n",
            "\u001b[2K   \u001b[90m━━━━━━━━━━━━━━━━━━━━━━━━━━━━━━━━━━━━━━━━\u001b[0m \u001b[32m42.6/42.6 kB\u001b[0m \u001b[31m3.2 MB/s\u001b[0m eta \u001b[36m0:00:00\u001b[0m\n",
            "\u001b[?25hDownloading idna-2.10-py2.py3-none-any.whl (58 kB)\n",
            "\u001b[2K   \u001b[90m━━━━━━━━━━━━━━━━━━━━━━━━━━━━━━━━━━━━━━━━\u001b[0m \u001b[32m58.8/58.8 kB\u001b[0m \u001b[31m4.3 MB/s\u001b[0m eta \u001b[36m0:00:00\u001b[0m\n",
            "\u001b[?25hDownloading h2-3.2.0-py2.py3-none-any.whl (65 kB)\n",
            "\u001b[2K   \u001b[90m━━━━━━━━━━━━━━━━━━━━━━━━━━━━━━━━━━━━━━━━\u001b[0m \u001b[32m65.0/65.0 kB\u001b[0m \u001b[31m4.7 MB/s\u001b[0m eta \u001b[36m0:00:00\u001b[0m\n",
            "\u001b[?25hDownloading rfc3986-1.5.0-py2.py3-none-any.whl (31 kB)\n",
            "Downloading hstspreload-2024.12.1-py3-none-any.whl (1.3 MB)\n",
            "\u001b[2K   \u001b[90m━━━━━━━━━━━━━━━━━━━━━━━━━━━━━━━━━━━━━━━━\u001b[0m \u001b[32m1.3/1.3 MB\u001b[0m \u001b[31m31.6 MB/s\u001b[0m eta \u001b[36m0:00:00\u001b[0m\n",
            "\u001b[?25hDownloading h11-0.9.0-py2.py3-none-any.whl (53 kB)\n",
            "\u001b[2K   \u001b[90m━━━━━━━━━━━━━━━━━━━━━━━━━━━━━━━━━━━━━━━━\u001b[0m \u001b[32m53.6/53.6 kB\u001b[0m \u001b[31m4.2 MB/s\u001b[0m eta \u001b[36m0:00:00\u001b[0m\n",
            "\u001b[?25hDownloading hpack-3.0.0-py2.py3-none-any.whl (38 kB)\n",
            "Downloading hyperframe-5.2.0-py2.py3-none-any.whl (12 kB)\n",
            "Building wheels for collected packages: googletrans\n",
            "  Building wheel for googletrans (setup.py) ... \u001b[?25l\u001b[?25hdone\n",
            "  Created wheel for googletrans: filename=googletrans-4.0.0rc1-py3-none-any.whl size=17397 sha256=d2a73aaba95c1c3821ef6af8bc261cdb20b5f861583128c1b23b72a8611808d1\n",
            "  Stored in directory: /root/.cache/pip/wheels/c0/59/9f/7372f0cf70160fe61b528532e1a7c8498c4becd6bcffb022de\n",
            "Successfully built googletrans\n",
            "Installing collected packages: rfc3986, hyperframe, hpack, h11, chardet, idna, hstspreload, h2, httpcore, httpx, googletrans\n",
            "  Attempting uninstall: h11\n",
            "    Found existing installation: h11 0.14.0\n",
            "    Uninstalling h11-0.14.0:\n",
            "      Successfully uninstalled h11-0.14.0\n",
            "  Attempting uninstall: chardet\n",
            "    Found existing installation: chardet 5.2.0\n",
            "    Uninstalling chardet-5.2.0:\n",
            "      Successfully uninstalled chardet-5.2.0\n",
            "  Attempting uninstall: idna\n",
            "    Found existing installation: idna 3.10\n",
            "    Uninstalling idna-3.10:\n",
            "      Successfully uninstalled idna-3.10\n",
            "  Attempting uninstall: httpcore\n",
            "    Found existing installation: httpcore 1.0.7\n",
            "    Uninstalling httpcore-1.0.7:\n",
            "      Successfully uninstalled httpcore-1.0.7\n",
            "  Attempting uninstall: httpx\n",
            "    Found existing installation: httpx 0.28.0\n",
            "    Uninstalling httpx-0.28.0:\n",
            "      Successfully uninstalled httpx-0.28.0\n",
            "\u001b[31mERROR: pip's dependency resolver does not currently take into account all the packages that are installed. This behaviour is the source of the following dependency conflicts.\n",
            "langsmith 0.1.147 requires httpx<1,>=0.23.0, but you have httpx 0.13.3 which is incompatible.\n",
            "openai 1.54.5 requires httpx<1,>=0.23.0, but you have httpx 0.13.3 which is incompatible.\u001b[0m\u001b[31m\n",
            "\u001b[0mSuccessfully installed chardet-3.0.4 googletrans-4.0.0rc1 h11-0.9.0 h2-3.2.0 hpack-3.0.0 hstspreload-2024.12.1 httpcore-0.9.1 httpx-0.13.3 hyperframe-5.2.0 idna-2.10 rfc3986-1.5.0\n",
            "Collecting deep-translator\n",
            "  Downloading deep_translator-1.11.4-py3-none-any.whl.metadata (30 kB)\n",
            "Requirement already satisfied: beautifulsoup4<5.0.0,>=4.9.1 in /usr/local/lib/python3.10/dist-packages (from deep-translator) (4.12.3)\n",
            "Requirement already satisfied: requests<3.0.0,>=2.23.0 in /usr/local/lib/python3.10/dist-packages (from deep-translator) (2.32.3)\n",
            "Requirement already satisfied: soupsieve>1.2 in /usr/local/lib/python3.10/dist-packages (from beautifulsoup4<5.0.0,>=4.9.1->deep-translator) (2.6)\n",
            "Requirement already satisfied: charset-normalizer<4,>=2 in /usr/local/lib/python3.10/dist-packages (from requests<3.0.0,>=2.23.0->deep-translator) (3.4.0)\n",
            "Requirement already satisfied: idna<4,>=2.5 in /usr/local/lib/python3.10/dist-packages (from requests<3.0.0,>=2.23.0->deep-translator) (2.10)\n",
            "Requirement already satisfied: urllib3<3,>=1.21.1 in /usr/local/lib/python3.10/dist-packages (from requests<3.0.0,>=2.23.0->deep-translator) (2.2.3)\n",
            "Requirement already satisfied: certifi>=2017.4.17 in /usr/local/lib/python3.10/dist-packages (from requests<3.0.0,>=2.23.0->deep-translator) (2024.8.30)\n",
            "Downloading deep_translator-1.11.4-py3-none-any.whl (42 kB)\n",
            "\u001b[2K   \u001b[90m━━━━━━━━━━━━━━━━━━━━━━━━━━━━━━━━━━━━━━━━\u001b[0m \u001b[32m42.3/42.3 kB\u001b[0m \u001b[31m1.8 MB/s\u001b[0m eta \u001b[36m0:00:00\u001b[0m\n",
            "\u001b[?25hInstalling collected packages: deep-translator\n",
            "Successfully installed deep-translator-1.11.4\n",
            "Requirement already satisfied: transformers in /usr/local/lib/python3.10/dist-packages (4.46.3)\n",
            "Requirement already satisfied: filelock in /usr/local/lib/python3.10/dist-packages (from transformers) (3.16.1)\n",
            "Requirement already satisfied: huggingface-hub<1.0,>=0.23.2 in /usr/local/lib/python3.10/dist-packages (from transformers) (0.26.3)\n",
            "Requirement already satisfied: numpy>=1.17 in /usr/local/lib/python3.10/dist-packages (from transformers) (1.26.4)\n",
            "Requirement already satisfied: packaging>=20.0 in /usr/local/lib/python3.10/dist-packages (from transformers) (24.2)\n",
            "Requirement already satisfied: pyyaml>=5.1 in /usr/local/lib/python3.10/dist-packages (from transformers) (6.0.2)\n",
            "Requirement already satisfied: regex!=2019.12.17 in /usr/local/lib/python3.10/dist-packages (from transformers) (2024.9.11)\n",
            "Requirement already satisfied: requests in /usr/local/lib/python3.10/dist-packages (from transformers) (2.32.3)\n",
            "Requirement already satisfied: tokenizers<0.21,>=0.20 in /usr/local/lib/python3.10/dist-packages (from transformers) (0.20.3)\n",
            "Requirement already satisfied: safetensors>=0.4.1 in /usr/local/lib/python3.10/dist-packages (from transformers) (0.4.5)\n",
            "Requirement already satisfied: tqdm>=4.27 in /usr/local/lib/python3.10/dist-packages (from transformers) (4.66.6)\n",
            "Requirement already satisfied: fsspec>=2023.5.0 in /usr/local/lib/python3.10/dist-packages (from huggingface-hub<1.0,>=0.23.2->transformers) (2024.9.0)\n",
            "Requirement already satisfied: typing-extensions>=3.7.4.3 in /usr/local/lib/python3.10/dist-packages (from huggingface-hub<1.0,>=0.23.2->transformers) (4.12.2)\n",
            "Requirement already satisfied: charset-normalizer<4,>=2 in /usr/local/lib/python3.10/dist-packages (from requests->transformers) (3.4.0)\n",
            "Requirement already satisfied: idna<4,>=2.5 in /usr/local/lib/python3.10/dist-packages (from requests->transformers) (2.10)\n",
            "Requirement already satisfied: urllib3<3,>=1.21.1 in /usr/local/lib/python3.10/dist-packages (from requests->transformers) (2.2.3)\n",
            "Requirement already satisfied: certifi>=2017.4.17 in /usr/local/lib/python3.10/dist-packages (from requests->transformers) (2024.8.30)\n",
            "Requirement already satisfied: torch in /usr/local/lib/python3.10/dist-packages (2.5.1+cu121)\n",
            "Requirement already satisfied: filelock in /usr/local/lib/python3.10/dist-packages (from torch) (3.16.1)\n",
            "Requirement already satisfied: typing-extensions>=4.8.0 in /usr/local/lib/python3.10/dist-packages (from torch) (4.12.2)\n",
            "Requirement already satisfied: networkx in /usr/local/lib/python3.10/dist-packages (from torch) (3.4.2)\n",
            "Requirement already satisfied: jinja2 in /usr/local/lib/python3.10/dist-packages (from torch) (3.1.4)\n",
            "Requirement already satisfied: fsspec in /usr/local/lib/python3.10/dist-packages (from torch) (2024.9.0)\n",
            "Requirement already satisfied: sympy==1.13.1 in /usr/local/lib/python3.10/dist-packages (from torch) (1.13.1)\n",
            "Requirement already satisfied: mpmath<1.4,>=1.1.0 in /usr/local/lib/python3.10/dist-packages (from sympy==1.13.1->torch) (1.3.0)\n",
            "Requirement already satisfied: MarkupSafe>=2.0 in /usr/local/lib/python3.10/dist-packages (from jinja2->torch) (3.0.2)\n"
          ]
        }
      ]
    },
    {
      "cell_type": "code",
      "source": [
        "from google.colab import drive\n",
        "\n",
        "drive.mount('/content/drive')"
      ],
      "metadata": {
        "colab": {
          "base_uri": "https://localhost:8080/"
        },
        "id": "G32SWSDCJlYW",
        "outputId": "5fc3f1f0-83fa-45dc-8082-cab30b573097"
      },
      "execution_count": 2,
      "outputs": [
        {
          "output_type": "stream",
          "name": "stdout",
          "text": [
            "Mounted at /content/drive\n"
          ]
        }
      ]
    },
    {
      "cell_type": "code",
      "source": [
        "from google.colab import userdata\n",
        "claude_token = userdata.get('claude_token')"
      ],
      "metadata": {
        "id": "5V2AEAroKh_W"
      },
      "execution_count": 3,
      "outputs": []
    },
    {
      "cell_type": "code",
      "source": [
        "import csv\n",
        "from datasets import load_dataset\n",
        "import pandas as pd\n",
        "import spacy\n",
        "from deep_translator import GoogleTranslator\n",
        "from transformers import AutoTokenizer, AutoModelForCausalLM\n",
        "import torch\n",
        "from tqdm import tqdm"
      ],
      "metadata": {
        "id": "1IGO9IO8LC8o"
      },
      "execution_count": 4,
      "outputs": []
    },
    {
      "cell_type": "code",
      "source": [
        "# Flags for which LLMs to use\n",
        "USE_LLAMA = True\n",
        "USE_MISTRAL = False\n",
        "USE_FALCON = False\n",
        "\n",
        "# Define max_length multiplier for LLM prompts\n",
        "MAX_LENGTH_MULTIPLIER = 2\n",
        "\n",
        "# Define k hyperparameter\n",
        "K_HYPERPARAMETER = 3"
      ],
      "metadata": {
        "id": "wzFG2dgFLFLs"
      },
      "execution_count": 5,
      "outputs": []
    },
    {
      "cell_type": "code",
      "source": [
        "# Load datasets into pandas DataFrames\n",
        "def load_law_dataset():\n",
        "    ds = load_dataset(\"casehold/casehold\", \"all\")\n",
        "    train_df = pd.DataFrame(ds['train'])\n",
        "    test_df = pd.DataFrame(ds['test'])\n",
        "    validation_df = pd.DataFrame(ds['validation'])\n",
        "    law_dataset = pd.concat([train_df, test_df, validation_df], ignore_index=True)['citing_prompt']\n",
        "    return law_dataset\n",
        "\n",
        "def load_medical_dataset():\n",
        "    ds = load_dataset(\"zhengyun21/PMC-Patients\")\n",
        "    train_df = pd.DataFrame(ds['train'])\n",
        "    medical_dataset = train_df['patient']\n",
        "    return medical_dataset\n",
        "\n",
        "# Combine datasets\n",
        "def load_all_datasets():\n",
        "    law_dataset = load_law_dataset()\n",
        "    medical_dataset = load_medical_dataset()\n",
        "    return [law_dataset, medical_dataset]"
      ],
      "metadata": {
        "id": "6gn6ZT1kLJac"
      },
      "execution_count": 6,
      "outputs": []
    },
    {
      "cell_type": "code",
      "source": [
        "# Load SpaCy model\n",
        "def load_spacy_model(model_path='en_core_sci_sm'):\n",
        "    return spacy.load(model_path)\n",
        "\n",
        "# Extract entities from text\n",
        "def extract_entities(nlp, text):\n",
        "    doc = nlp(text)\n",
        "    return [ent.text for ent in doc.ents]\n",
        "\n",
        "# Translate entities to a target language\n",
        "def translate_entities(entities, target_lang):\n",
        "    translations = [GoogleTranslator(source='auto', target=target_lang).translate(entity) for entity in entities]\n",
        "    return translations"
      ],
      "metadata": {
        "id": "CwBGBtSdLLHk"
      },
      "execution_count": 7,
      "outputs": []
    },
    {
      "cell_type": "code",
      "source": [
        "!pip install sacrebleu"
      ],
      "metadata": {
        "colab": {
          "base_uri": "https://localhost:8080/"
        },
        "id": "ySR3lsKRz_4M",
        "outputId": "e61bb6e7-3b75-48a9-8dfa-d1a6e27648f3"
      },
      "execution_count": 8,
      "outputs": [
        {
          "output_type": "stream",
          "name": "stdout",
          "text": [
            "Collecting sacrebleu\n",
            "  Downloading sacrebleu-2.4.3-py3-none-any.whl.metadata (51 kB)\n",
            "\u001b[2K     \u001b[90m━━━━━━━━━━━━━━━━━━━━━━━━━━━━━━━━━━━━━━━━\u001b[0m \u001b[32m51.8/51.8 kB\u001b[0m \u001b[31m2.2 MB/s\u001b[0m eta \u001b[36m0:00:00\u001b[0m\n",
            "\u001b[?25hCollecting portalocker (from sacrebleu)\n",
            "  Downloading portalocker-3.0.0-py3-none-any.whl.metadata (8.5 kB)\n",
            "Requirement already satisfied: regex in /usr/local/lib/python3.10/dist-packages (from sacrebleu) (2024.9.11)\n",
            "Requirement already satisfied: tabulate>=0.8.9 in /usr/local/lib/python3.10/dist-packages (from sacrebleu) (0.9.0)\n",
            "Requirement already satisfied: numpy>=1.17 in /usr/local/lib/python3.10/dist-packages (from sacrebleu) (1.26.4)\n",
            "Collecting colorama (from sacrebleu)\n",
            "  Downloading colorama-0.4.6-py2.py3-none-any.whl.metadata (17 kB)\n",
            "Requirement already satisfied: lxml in /usr/local/lib/python3.10/dist-packages (from sacrebleu) (5.3.0)\n",
            "Downloading sacrebleu-2.4.3-py3-none-any.whl (103 kB)\n",
            "\u001b[2K   \u001b[90m━━━━━━━━━━━━━━━━━━━━━━━━━━━━━━━━━━━━━━━━\u001b[0m \u001b[32m104.0/104.0 kB\u001b[0m \u001b[31m4.7 MB/s\u001b[0m eta \u001b[36m0:00:00\u001b[0m\n",
            "\u001b[?25hDownloading colorama-0.4.6-py2.py3-none-any.whl (25 kB)\n",
            "Downloading portalocker-3.0.0-py3-none-any.whl (19 kB)\n",
            "Installing collected packages: portalocker, colorama, sacrebleu\n",
            "Successfully installed colorama-0.4.6 portalocker-3.0.0 sacrebleu-2.4.3\n"
          ]
        }
      ]
    },
    {
      "cell_type": "code",
      "source": [
        "from itertools import combinations\n",
        "import jieba\n",
        "import sacrebleu\n",
        "\n",
        "# Calculate JTC score\n",
        "def calculate_JTC(translations, text, entities):\n",
        "    jtc_score = 0\n",
        "    n = len(entities)\n",
        "    entity_counts = 0\n",
        "\n",
        "    for entity, translated_entity in entities.items():\n",
        "        # Count occurrences of the entity in the original text\n",
        "        c = text.count(entity)\n",
        "        entity_counts += c\n",
        "        if c == 0 or not translated_entity:\n",
        "            continue  # Skip entities that are not present or have no translation\n",
        "        jargon_inconsistency = K_HYPERPARAMETER * c\n",
        "\n",
        "        for translation in translations:\n",
        "            # Count occurrences of the translated entity in the translation\n",
        "            t = translation.count(translated_entity)\n",
        "            # Calculate penalty for mismatched occurrences\n",
        "            jargon_inconsistency -= t\n",
        "\n",
        "        # Update the JTC score\n",
        "        jtc_score += jargon_inconsistency\n",
        "\n",
        "    # Normalize and invert the score\n",
        "    normalized_score = jtc_score / max(K_HYPERPARAMETER * entity_counts, 1)\n",
        "    return 1 - normalized_score\n",
        "\n",
        "# calculates the Jaccard similarity between the k translations\n",
        "def calculate_jaccard(translations, target_lang):\n",
        "    jaccard_scores = []\n",
        "    if target_lang == \"Simplified Chinese\":\n",
        "        translations = [set(jieba.lcut(translation)) for translation in translations]\n",
        "    else:\n",
        "        translations = [set(translation.split()) for translation in translations]\n",
        "    # print(\"translations:\", translations)\n",
        "    for t1, t2 in combinations(translations, 2):\n",
        "        # Calculate Jaccard similarity for the pair\n",
        "        intersection = len(t1.intersection(t2))\n",
        "        union = len(t1.union(t2))\n",
        "        jaccard_score = intersection / union if union > 0 else 0\n",
        "        jaccard_scores.append(jaccard_score)\n",
        "    # print(\"Jaccard Scores:\", jaccard_scores)\n",
        "    # Return the average Jaccard similarity\n",
        "    return sum(jaccard_scores) / len(jaccard_scores) if jaccard_scores else 0\n",
        "\n",
        "# chrF++ ⇒ google translate serves as a reference ground truth\n",
        "def calculate_chrf(ground_truth_translation, translations, n_value=6):\n",
        "    ground_truth_translations = [ground_truth_translation] * len(translations)\n",
        "    # sacrebleu.corpus_chrf calculates chrF++ directly\n",
        "    chrf = sacrebleu.corpus_chrf(\n",
        "        translations,  # List of translated texts\n",
        "        ground_truth_translations,  # List of reference texts\n",
        "        beta=2  # Default beta for F-score weighting\n",
        "    )\n",
        "    return chrf.score"
      ],
      "metadata": {
        "id": "s0ppkxB3LNJz"
      },
      "execution_count": 9,
      "outputs": []
    },
    {
      "cell_type": "code",
      "source": [
        "!pip install anthropic"
      ],
      "metadata": {
        "colab": {
          "base_uri": "https://localhost:8080/"
        },
        "id": "CA3-UGZ6MPie",
        "outputId": "9c030c89-aa8b-4e2f-b737-0b650eaff268"
      },
      "execution_count": 10,
      "outputs": [
        {
          "output_type": "stream",
          "name": "stdout",
          "text": [
            "Collecting anthropic\n",
            "  Downloading anthropic-0.40.0-py3-none-any.whl.metadata (23 kB)\n",
            "Requirement already satisfied: anyio<5,>=3.5.0 in /usr/local/lib/python3.10/dist-packages (from anthropic) (3.7.1)\n",
            "Requirement already satisfied: distro<2,>=1.7.0 in /usr/local/lib/python3.10/dist-packages (from anthropic) (1.9.0)\n",
            "Collecting httpx<1,>=0.23.0 (from anthropic)\n",
            "  Downloading httpx-0.28.1-py3-none-any.whl.metadata (7.1 kB)\n",
            "Requirement already satisfied: jiter<1,>=0.4.0 in /usr/local/lib/python3.10/dist-packages (from anthropic) (0.8.0)\n",
            "Requirement already satisfied: pydantic<3,>=1.9.0 in /usr/local/lib/python3.10/dist-packages (from anthropic) (2.10.3)\n",
            "Requirement already satisfied: sniffio in /usr/local/lib/python3.10/dist-packages (from anthropic) (1.3.1)\n",
            "Requirement already satisfied: typing-extensions<5,>=4.7 in /usr/local/lib/python3.10/dist-packages (from anthropic) (4.12.2)\n",
            "Requirement already satisfied: idna>=2.8 in /usr/local/lib/python3.10/dist-packages (from anyio<5,>=3.5.0->anthropic) (2.10)\n",
            "Requirement already satisfied: exceptiongroup in /usr/local/lib/python3.10/dist-packages (from anyio<5,>=3.5.0->anthropic) (1.2.2)\n",
            "Requirement already satisfied: certifi in /usr/local/lib/python3.10/dist-packages (from httpx<1,>=0.23.0->anthropic) (2024.8.30)\n",
            "Collecting httpcore==1.* (from httpx<1,>=0.23.0->anthropic)\n",
            "  Downloading httpcore-1.0.7-py3-none-any.whl.metadata (21 kB)\n",
            "Collecting h11<0.15,>=0.13 (from httpcore==1.*->httpx<1,>=0.23.0->anthropic)\n",
            "  Downloading h11-0.14.0-py3-none-any.whl.metadata (8.2 kB)\n",
            "Requirement already satisfied: annotated-types>=0.6.0 in /usr/local/lib/python3.10/dist-packages (from pydantic<3,>=1.9.0->anthropic) (0.7.0)\n",
            "Requirement already satisfied: pydantic-core==2.27.1 in /usr/local/lib/python3.10/dist-packages (from pydantic<3,>=1.9.0->anthropic) (2.27.1)\n",
            "Downloading anthropic-0.40.0-py3-none-any.whl (199 kB)\n",
            "\u001b[2K   \u001b[90m━━━━━━━━━━━━━━━━━━━━━━━━━━━━━━━━━━━━━━━━\u001b[0m \u001b[32m199.5/199.5 kB\u001b[0m \u001b[31m3.7 MB/s\u001b[0m eta \u001b[36m0:00:00\u001b[0m\n",
            "\u001b[?25hDownloading httpx-0.28.1-py3-none-any.whl (73 kB)\n",
            "\u001b[2K   \u001b[90m━━━━━━━━━━━━━━━━━━━━━━━━━━━━━━━━━━━━━━━━\u001b[0m \u001b[32m73.5/73.5 kB\u001b[0m \u001b[31m2.6 MB/s\u001b[0m eta \u001b[36m0:00:00\u001b[0m\n",
            "\u001b[?25hDownloading httpcore-1.0.7-py3-none-any.whl (78 kB)\n",
            "\u001b[2K   \u001b[90m━━━━━━━━━━━━━━━━━━━━━━━━━━━━━━━━━━━━━━━━\u001b[0m \u001b[32m78.6/78.6 kB\u001b[0m \u001b[31m5.3 MB/s\u001b[0m eta \u001b[36m0:00:00\u001b[0m\n",
            "\u001b[?25hDownloading h11-0.14.0-py3-none-any.whl (58 kB)\n",
            "\u001b[2K   \u001b[90m━━━━━━━━━━━━━━━━━━━━━━━━━━━━━━━━━━━━━━━━\u001b[0m \u001b[32m58.3/58.3 kB\u001b[0m \u001b[31m3.9 MB/s\u001b[0m eta \u001b[36m0:00:00\u001b[0m\n",
            "\u001b[?25hInstalling collected packages: h11, httpcore, httpx, anthropic\n",
            "  Attempting uninstall: h11\n",
            "    Found existing installation: h11 0.9.0\n",
            "    Uninstalling h11-0.9.0:\n",
            "      Successfully uninstalled h11-0.9.0\n",
            "  Attempting uninstall: httpcore\n",
            "    Found existing installation: httpcore 0.9.1\n",
            "    Uninstalling httpcore-0.9.1:\n",
            "      Successfully uninstalled httpcore-0.9.1\n",
            "  Attempting uninstall: httpx\n",
            "    Found existing installation: httpx 0.13.3\n",
            "    Uninstalling httpx-0.13.3:\n",
            "      Successfully uninstalled httpx-0.13.3\n",
            "\u001b[31mERROR: pip's dependency resolver does not currently take into account all the packages that are installed. This behaviour is the source of the following dependency conflicts.\n",
            "googletrans 4.0.0rc1 requires httpx==0.13.3, but you have httpx 0.28.1 which is incompatible.\u001b[0m\u001b[31m\n",
            "\u001b[0mSuccessfully installed anthropic-0.40.0 h11-0.14.0 httpcore-1.0.7 httpx-0.28.1\n"
          ]
        }
      ]
    },
    {
      "cell_type": "code",
      "source": [
        "# import anthropic\n",
        "\n",
        "# api_key = userdata.get('claude_token')\n",
        "# client = anthropic.Anthropic(api_key=api_key)\n",
        "\n",
        "# message = client.messages.create(\n",
        "#     # model=\"claude-3-5-sonnet-20241022\",\n",
        "#     model=\"claude-3-haiku-20240307\",\n",
        "#     max_tokens=512,\n",
        "#     messages=[\n",
        "#         {\"role\": \"user\", \"content\": \"Please translate this to Chinese: The patient was diagnosed with diabetes and is very sick\"}\n",
        "#     ]\n",
        "# )\n",
        "# print(message.content)"
      ],
      "metadata": {
        "id": "xAt5fjyxMFh6"
      },
      "execution_count": 11,
      "outputs": []
    },
    {
      "cell_type": "code",
      "source": [
        "import anthropic\n",
        "import time\n",
        "import random\n",
        "\n",
        "# Helper function to interact with Claude with retries and exponential backoff\n",
        "def invoke_claude(prompt, model=\"claude-3-haiku-20240307\", max_tokens=512, max_retries=5):\n",
        "    api_key = userdata.get('claude_token')\n",
        "    client = anthropic.Anthropic(api_key=api_key)\n",
        "    retries = 0\n",
        "    backoff = 1  # Start with 1-second backoff\n",
        "\n",
        "    while retries < max_retries:\n",
        "        try:\n",
        "            # Make the API request\n",
        "            response = client.messages.create(\n",
        "                model=model,\n",
        "                max_tokens=max_tokens,\n",
        "                messages=[{\"role\": \"user\", \"content\": prompt}]\n",
        "            )\n",
        "            return response.content[0].text  # Return the response if successful\n",
        "        except Exception as e:\n",
        "            print(f\"Error occurred: {e}\")\n",
        "            retries += 1\n",
        "            if retries < max_retries:\n",
        "                print(f\"Retrying (attempt {retries}/{max_retries})...\")\n",
        "                time.sleep(backoff)\n",
        "                backoff *= 2  # Exponential backoff\n",
        "                backoff += random.uniform(0, 1)  # Add jitter\n",
        "            else:\n",
        "                print(f\"Max retries reached for prompt: {prompt}. Skipping.\")\n",
        "                return None  # Skip after max retries\n"
      ],
      "metadata": {
        "id": "8UBLzQQhSZMS"
      },
      "execution_count": 17,
      "outputs": []
    },
    {
      "cell_type": "code",
      "source": [
        "from tqdm import tqdm"
      ],
      "metadata": {
        "id": "hJbUZyj855tn"
      },
      "execution_count": 13,
      "outputs": []
    },
    {
      "cell_type": "code",
      "source": [
        "# Main function for the experiment\n",
        "def run_pipeline_claude(target_lang, dataset_index=0, results_file_in_drive=\"results.csv\"):\n",
        "    datasets = load_all_datasets()\n",
        "    lang_abbrs = {\"Simplified Chinese\": \"zh-CN\", \"French\": \"fr\"}\n",
        "\n",
        "    # Path to the results file in Google Drive\n",
        "    results_path = f'/content/drive/My Drive/{results_file_in_drive}'\n",
        "\n",
        "    # Initialize the CSV file with headers\n",
        "    with open(results_path, mode='w', newline='', encoding='utf-8') as file:\n",
        "        writer = csv.writer(file)\n",
        "        writer.writerow([\"Text Index\", \"Regular_JTC_Score\", \"LEAP_JTC_Score\",\n",
        "                         \"Regular_Jaccard_Score\", \"LEAP_Jaccard_Score\",\n",
        "                         \"Regular_chrF\", \"LEAP_chrF\"])\n",
        "\n",
        "    dataset = datasets[dataset_index]\n",
        "    dataset_name = \"law\" if dataset_index == 0 else \"medical\"\n",
        "    print(f\"Processing dataset: {dataset_name}\")\n",
        "\n",
        "    for i, text in enumerate(tqdm(dataset[:500], desc=f\"Processing {dataset_name} dataset\")):\n",
        "\n",
        "        if target_lang == \"Simplified Chinese\" and dataset_index == 0 and i <= 440:\n",
        "            continue # this is to pick up where we left off from the initial api server crash\n",
        "\n",
        "        text = \" \".join(text.split()[:50])  # Truncate to the first 50 words\n",
        "\n",
        "        named_entities = list(set(extract_entities(load_spacy_model(), text)))\n",
        "        named_entities_translations = translate_entities(named_entities, lang_abbrs[target_lang])\n",
        "        named_entity_mapping = {e: t for e, t in zip(named_entities, named_entities_translations)}\n",
        "\n",
        "        # Regular text translation\n",
        "        regular_translations = []\n",
        "        for k in range(3):  # Adjust K_HYPERPARAMETER as needed\n",
        "            prompt = f\"Please return only the translation and nothing else. Translate the following text to {target_lang}: {text}\"\n",
        "            response = invoke_claude(prompt)\n",
        "            if response is None:\n",
        "                print(f\"Skipping text index {i + 1} due to failed regular translation.\")\n",
        "                break  # Skip this text if any translation fails\n",
        "            regular_translations.append(response)\n",
        "\n",
        "        # If we skipped due to a failure, continue to the next text\n",
        "        if len(regular_translations) < 3:\n",
        "            continue\n",
        "\n",
        "        # LEAP text translation\n",
        "        leap_translations = []\n",
        "        for k in range(3):  # Adjust K_HYPERPARAMETER as needed\n",
        "            prompt = f\"Please return only the translation and nothing else. Translate the following text into {target_lang} using these mappings {str(named_entities_translations)}: {text}\"\n",
        "            response = invoke_claude(prompt)\n",
        "            if response is None:\n",
        "                print(f\"Skipping text index {i + 1} due to failed LEAP translation.\")\n",
        "                break  # Skip this text if any translation fails\n",
        "            leap_translations.append(response)\n",
        "\n",
        "        # If we skipped due to a failure, continue to the next text\n",
        "        if len(leap_translations) < 3:\n",
        "            continue\n",
        "\n",
        "        # Calculate JTC scores\n",
        "        regular_jtc_score = calculate_JTC(regular_translations, text, named_entity_mapping)\n",
        "        leap_jtc_score = calculate_JTC(leap_translations, text, named_entity_mapping)\n",
        "\n",
        "        # Calculate Jaccard Similarities\n",
        "        regular_jaccard_score = calculate_jaccard(regular_translations, target_lang)\n",
        "        leap_jaccard_score = calculate_jaccard(leap_translations, target_lang)\n",
        "\n",
        "        # chrF++ Metric\n",
        "        ground_truth_translation = GoogleTranslator(source='auto', target=lang_abbrs[target_lang]).translate(text)\n",
        "        regular_chrf = calculate_chrf(ground_truth_translation, regular_translations)\n",
        "        leap_chrf = calculate_chrf(ground_truth_translation, leap_translations)\n",
        "\n",
        "        # Append results to the file in Google Drive\n",
        "        with open(results_path, mode='a', newline='', encoding='utf-8') as file:\n",
        "            writer = csv.writer(file)\n",
        "            row = [i + 1, regular_jtc_score, leap_jtc_score,\n",
        "                   regular_jaccard_score, leap_jaccard_score,\n",
        "                   regular_chrf, leap_chrf]\n",
        "            writer.writerow(row)\n",
        "            print(f\"Appended result to Google Drive file: {row}\")"
      ],
      "metadata": {
        "id": "dxMashElScQk"
      },
      "execution_count": 18,
      "outputs": []
    },
    {
      "cell_type": "code",
      "source": [
        "# Run the pipeline for different target languages and datasets\n",
        "target_langs = [\"Simplified Chinese\", \"French\"]\n",
        "dataset_indices = [0, 1]  # 0: Law, 1: Medical\n",
        "\n",
        "# Outer loop for target languages\n",
        "for target_lang in tqdm(target_langs, desc=\"Target Languages\"):\n",
        "    # Inner loop for dataset indices\n",
        "    for dataset_index in tqdm(dataset_indices, desc=f\"Datasets for {target_lang}\", leave=False):\n",
        "        results_file = f\"full_claude_{target_lang}_{dataset_index}_results.csv\"\n",
        "        run_pipeline_claude(target_lang=target_lang,\n",
        "                            dataset_index=dataset_index,\n",
        "                            results_file_in_drive=results_file)"
      ],
      "metadata": {
        "colab": {
          "base_uri": "https://localhost:8080/"
        },
        "id": "Mz8m7992gXfZ",
        "outputId": "b890c5ca-9980-43c9-91cd-90fc39710b6e"
      },
      "execution_count": 19,
      "outputs": [
        {
          "output_type": "stream",
          "name": "stderr",
          "text": [
            "Target Languages:   0%|          | 0/2 [00:00<?, ?it/s]\n",
            "Datasets for Simplified Chinese:   0%|          | 0/2 [00:00<?, ?it/s]\u001b[A"
          ]
        },
        {
          "output_type": "stream",
          "name": "stdout",
          "text": [
            "Processing dataset: law\n"
          ]
        },
        {
          "output_type": "stream",
          "name": "stderr",
          "text": [
            "\n",
            "\n",
            "Processing law dataset:   0%|          | 0/500 [00:00<?, ?it/s]\u001b[A\u001b[A\n",
            "\n",
            "Processing law dataset:  88%|████████▊ | 442/500 [00:11<00:01, 38.67it/s]\u001b[A\u001b[A"
          ]
        },
        {
          "output_type": "stream",
          "name": "stdout",
          "text": [
            "Appended result to Google Drive file: [442, 0.5777777777777777, 0.9333333333333333, 0.27067639673571875, 0.9407114624505929, 7.5, 5.9171597633136095]\n",
            "Appended result to Google Drive file: [443, 0.08333333333333337, 1.5833333333333335, 0.6666666666666666, 0.43256172839506174, 75.0, 3.947368421052632]\n"
          ]
        },
        {
          "output_type": "stream",
          "name": "stderr",
          "text": [
            "\n",
            "\n",
            "Processing law dataset:  88%|████████▊ | 442/500 [00:27<00:01, 38.67it/s]\u001b[A\u001b[A\n",
            "\n",
            "Processing law dataset:  89%|████████▉ | 444/500 [00:36<00:05,  9.41it/s]\u001b[A\u001b[A"
          ]
        },
        {
          "output_type": "stream",
          "name": "stdout",
          "text": [
            "Appended result to Google Drive file: [444, 0.33333333333333337, 1.0, 0.6329135572139304, 0.7814938684503902, 2.1367521367521367, 0.0]\n"
          ]
        },
        {
          "output_type": "stream",
          "name": "stderr",
          "text": [
            "\n",
            "\n",
            "Processing law dataset:  89%|████████▉ | 445/500 [00:51<00:09,  5.73it/s]\u001b[A\u001b[A"
          ]
        },
        {
          "output_type": "stream",
          "name": "stdout",
          "text": [
            "Appended result to Google Drive file: [445, 0.5666666666666667, 0.9333333333333333, 0.32566195461445946, 0.5148277388341619, 6.302521008403359, 2.11864406779661]\n"
          ]
        },
        {
          "output_type": "stream",
          "name": "stderr",
          "text": [
            "\n",
            "\n",
            "Processing law dataset:  89%|████████▉ | 446/500 [01:02<00:13,  4.07it/s]\u001b[A\u001b[A"
          ]
        },
        {
          "output_type": "stream",
          "name": "stdout",
          "text": [
            "Appended result to Google Drive file: [446, 0.6888888888888889, 0.7333333333333334, 0.6467120181405895, 0.3565002249212776, 5.7915057915057915, 0.0]\n"
          ]
        },
        {
          "output_type": "stream",
          "name": "stderr",
          "text": [
            "\n",
            "\n",
            "Processing law dataset:  89%|████████▉ | 447/500 [01:18<00:20,  2.56it/s]\u001b[A\u001b[A"
          ]
        },
        {
          "output_type": "stream",
          "name": "stdout",
          "text": [
            "Appended result to Google Drive file: [447, 0.38888888888888884, 1.0833333333333333, 0.6663925438596491, 1.0, 4.687500000000001, 5.617977528089887]\n"
          ]
        },
        {
          "output_type": "stream",
          "name": "stderr",
          "text": [
            "\n",
            "\n",
            "Processing law dataset:  90%|████████▉ | 448/500 [01:35<00:30,  1.68it/s]\u001b[A\u001b[A"
          ]
        },
        {
          "output_type": "stream",
          "name": "stdout",
          "text": [
            "Appended result to Google Drive file: [448, 0.3833333333333333, 0.7166666666666667, 0.5999078082411415, 0.41096096096096096, 3.0769230769230766, 0.0]\n"
          ]
        },
        {
          "output_type": "stream",
          "name": "stderr",
          "text": [
            "\n",
            "\n",
            "Processing law dataset:  90%|████████▉ | 449/500 [01:46<00:40,  1.26it/s]\u001b[A\u001b[A"
          ]
        },
        {
          "output_type": "stream",
          "name": "stdout",
          "text": [
            "Appended result to Google Drive file: [449, 0.1333333333333333, 0.9333333333333333, 0.29280868385346, 0.9649122807017543, 3.816793893129771, 3.546099290780142]\n"
          ]
        },
        {
          "output_type": "stream",
          "name": "stderr",
          "text": [
            "\n",
            "\n",
            "Processing law dataset:  90%|█████████ | 450/500 [01:59<00:55,  1.11s/it]\u001b[A\u001b[A"
          ]
        },
        {
          "output_type": "stream",
          "name": "stdout",
          "text": [
            "Appended result to Google Drive file: [450, 0.47619047619047616, 0.6190476190476191, 0.5957098422877187, 0.7148979591836735, 3.6764705882352944, 1.824817518248175]\n"
          ]
        },
        {
          "output_type": "stream",
          "name": "stderr",
          "text": [
            "\n",
            "\n",
            "Processing law dataset:  90%|█████████ | 451/500 [02:13<01:15,  1.54s/it]\u001b[A\u001b[A"
          ]
        },
        {
          "output_type": "stream",
          "name": "stdout",
          "text": [
            "Appended result to Google Drive file: [451, 0.2222222222222222, 0.9722222222222222, 0.3897849462365592, 0.8864734299516908, 1.2594458438287155, 0.0]\n"
          ]
        },
        {
          "output_type": "stream",
          "name": "stderr",
          "text": [
            "\n",
            "\n",
            "Processing law dataset:  90%|█████████ | 452/500 [02:31<01:51,  2.31s/it]\u001b[A\u001b[A"
          ]
        },
        {
          "output_type": "stream",
          "name": "stdout",
          "text": [
            "Appended result to Google Drive file: [452, 0.5416666666666667, 1.2916666666666667, 0.6200354609929078, 0.4386828644501279, 5.244755244755246, 3.3557046979865772]\n"
          ]
        },
        {
          "output_type": "stream",
          "name": "stderr",
          "text": [
            "\n",
            "\n",
            "Processing law dataset:  91%|█████████ | 453/500 [02:40<02:09,  2.75s/it]\u001b[A\u001b[A"
          ]
        },
        {
          "output_type": "stream",
          "name": "stdout",
          "text": [
            "Appended result to Google Drive file: [453, 0.8, 0.5, 0.2937281621243885, 0.41111111111111115, 4.25531914893617, 11.76470588235294]\n"
          ]
        },
        {
          "output_type": "stream",
          "name": "stderr",
          "text": [
            "\n",
            "\n",
            "Processing law dataset:  91%|█████████ | 454/500 [02:52<02:42,  3.53s/it]\u001b[A\u001b[A"
          ]
        },
        {
          "output_type": "stream",
          "name": "stdout",
          "text": [
            "Appended result to Google Drive file: [454, 0.4242424242424242, 0.8181818181818181, 0.48491526449059313, 0.6539473080358246, 5.952380952380952, 3.53356890459364]\n"
          ]
        },
        {
          "output_type": "stream",
          "name": "stderr",
          "text": [
            "\n",
            "\n",
            "Processing law dataset:  91%|█████████ | 455/500 [03:06<03:30,  4.67s/it]\u001b[A\u001b[A"
          ]
        },
        {
          "output_type": "stream",
          "name": "stdout",
          "text": [
            "Appended result to Google Drive file: [455, 0.8461538461538461, 1.0, 0.7628587764436822, 0.8013888888888889, 4.166666666666666, 4.201680672268907]\n"
          ]
        },
        {
          "output_type": "stream",
          "name": "stderr",
          "text": [
            "\n",
            "\n",
            "Processing law dataset:  91%|█████████ | 456/500 [03:18<04:03,  5.54s/it]\u001b[A\u001b[A"
          ]
        },
        {
          "output_type": "stream",
          "name": "stdout",
          "text": [
            "Appended result to Google Drive file: [456, 0.13888888888888884, 0.33333333333333337, 0.48373153848607614, 0.3566137566137566, 5.494505494505495, 5.780346820809248]\n"
          ]
        },
        {
          "output_type": "stream",
          "name": "stderr",
          "text": [
            "\n",
            "\n",
            "Processing law dataset:  91%|█████████▏| 457/500 [03:29<04:36,  6.43s/it]\u001b[A\u001b[A"
          ]
        },
        {
          "output_type": "stream",
          "name": "stdout",
          "text": [
            "Appended result to Google Drive file: [457, 0.6153846153846154, 0.8205128205128205, 0.5215488215488215, 0.5465922381711855, 4.870129870129871, 4.999999999999999]\n"
          ]
        },
        {
          "output_type": "stream",
          "name": "stderr",
          "text": [
            "\n",
            "\n",
            "Processing law dataset:  92%|█████████▏| 458/500 [03:43<05:30,  7.86s/it]\u001b[A\u001b[A"
          ]
        },
        {
          "output_type": "stream",
          "name": "stdout",
          "text": [
            "Appended result to Google Drive file: [458, 0.2564102564102564, 0.9743589743589743, 0.5920585161964472, 0.9710144927536232, 4.213483146067416, 0.0]\n"
          ]
        },
        {
          "output_type": "stream",
          "name": "stderr",
          "text": [
            "\n",
            "\n",
            "Processing law dataset:  92%|█████████▏| 459/500 [03:54<05:45,  8.44s/it]\u001b[A\u001b[A"
          ]
        },
        {
          "output_type": "stream",
          "name": "stdout",
          "text": [
            "Appended result to Google Drive file: [459, 0.10256410256410253, 0.5128205128205128, 0.09982174688057042, 0.37304438058748407, 4.0983606557377055, 0.0]\n"
          ]
        },
        {
          "output_type": "stream",
          "name": "stderr",
          "text": [
            "\n",
            "\n",
            "Processing law dataset:  92%|█████████▏| 460/500 [04:06<06:12,  9.31s/it]\u001b[A\u001b[A"
          ]
        },
        {
          "output_type": "stream",
          "name": "stdout",
          "text": [
            "Appended result to Google Drive file: [460, 0.18518518518518523, 0.8148148148148149, 0.4965034965034965, 0.38405797101449274, 8.620689655172413, 3.717472118959108]\n"
          ]
        },
        {
          "output_type": "stream",
          "name": "stderr",
          "text": [
            "\n",
            "\n",
            "Processing law dataset:  92%|█████████▏| 461/500 [04:19<06:42, 10.32s/it]\u001b[A\u001b[A"
          ]
        },
        {
          "output_type": "stream",
          "name": "stdout",
          "text": [
            "Appended result to Google Drive file: [461, 0.8431372549019608, 1.0980392156862746, 0.761765420950264, 0.7604997341839447, 3.6231884057971007, 0.0]\n"
          ]
        },
        {
          "output_type": "stream",
          "name": "stderr",
          "text": [
            "\n",
            "\n",
            "Processing law dataset:  92%|█████████▏| 462/500 [04:30<06:34, 10.39s/it]\u001b[A\u001b[A"
          ]
        },
        {
          "output_type": "stream",
          "name": "stdout",
          "text": [
            "Appended result to Google Drive file: [462, 0.5128205128205128, 0.7435897435897436, 0.5116133082234777, 0.6646658663465387, 5.928853754940711, 5.813953488372093]\n"
          ]
        },
        {
          "output_type": "stream",
          "name": "stderr",
          "text": [
            "\n",
            "\n",
            "Processing law dataset:  93%|█████████▎| 463/500 [04:40<06:25, 10.43s/it]\u001b[A\u001b[A"
          ]
        },
        {
          "output_type": "stream",
          "name": "stdout",
          "text": [
            "Appended result to Google Drive file: [463, 0.030303030303030276, 0.8484848484848485, 0.3333333333333333, 0.522061191626409, 0.0, 3.546099290780142]\n"
          ]
        },
        {
          "output_type": "stream",
          "name": "stderr",
          "text": [
            "\n",
            "\n",
            "Processing law dataset:  93%|█████████▎| 464/500 [04:52<06:31, 10.87s/it]\u001b[A\u001b[A"
          ]
        },
        {
          "output_type": "stream",
          "name": "stdout",
          "text": [
            "Appended result to Google Drive file: [464, 0.13888888888888884, 0.6388888888888888, 0.11661255411255411, 0.1920700564299386, 17.241379310344826, 6.224066390041495]\n"
          ]
        },
        {
          "output_type": "stream",
          "name": "stderr",
          "text": [
            "\n",
            "\n",
            "Processing law dataset:  93%|█████████▎| 465/500 [05:06<06:46, 11.62s/it]\u001b[A\u001b[A"
          ]
        },
        {
          "output_type": "stream",
          "name": "stdout",
          "text": [
            "Appended result to Google Drive file: [465, 0.6, 0.95, 0.5335052415141402, 1.0, 3.257328990228013, 6.666666666666667]\n"
          ]
        },
        {
          "output_type": "stream",
          "name": "stderr",
          "text": [
            "\n",
            "\n",
            "Processing law dataset:  93%|█████████▎| 466/500 [05:22<07:23, 13.03s/it]\u001b[A\u001b[A"
          ]
        },
        {
          "output_type": "stream",
          "name": "stdout",
          "text": [
            "Appended result to Google Drive file: [466, 0.4444444444444444, 1.0666666666666667, 0.703440199092373, 1.0, 1.8726591760299627, 3.4722222222222223]\n"
          ]
        },
        {
          "output_type": "stream",
          "name": "stderr",
          "text": [
            "\n",
            "\n",
            "Processing law dataset:  93%|█████████▎| 467/500 [05:39<07:45, 14.10s/it]\u001b[A\u001b[A"
          ]
        },
        {
          "output_type": "stream",
          "name": "stdout",
          "text": [
            "Appended result to Google Drive file: [467, 0.6666666666666667, 0.6481481481481481, 0.470485991995426, 0.5841416012786981, 5.2631578947368425, 0.0]\n"
          ]
        },
        {
          "output_type": "stream",
          "name": "stderr",
          "text": [
            "\n",
            "\n",
            "Processing law dataset:  94%|█████████▎| 468/500 [05:53<07:26, 13.96s/it]\u001b[A\u001b[A"
          ]
        },
        {
          "output_type": "stream",
          "name": "stdout",
          "text": [
            "Appended result to Google Drive file: [468, 0.4722222222222222, 0.8611111111111112, 0.47685185185185186, 0.5655416012558869, 5.9760956175298805, 1.515151515151515]\n"
          ]
        },
        {
          "output_type": "stream",
          "name": "stderr",
          "text": [
            "\n",
            "\n",
            "Processing law dataset:  94%|█████████▍| 469/500 [06:03<06:36, 12.79s/it]\u001b[A\u001b[A"
          ]
        },
        {
          "output_type": "stream",
          "name": "stdout",
          "text": [
            "Appended result to Google Drive file: [469, 0.1777777777777778, 1.0, 0.36742424242424243, 0.3472100313479624, 18.29268292682927, 8.15217391304348]\n"
          ]
        },
        {
          "output_type": "stream",
          "name": "stderr",
          "text": [
            "\n",
            "\n",
            "Processing law dataset:  94%|█████████▍| 470/500 [06:17<06:36, 13.22s/it]\u001b[A\u001b[A"
          ]
        },
        {
          "output_type": "stream",
          "name": "stdout",
          "text": [
            "Appended result to Google Drive file: [470, 0.5, 0.6333333333333333, 0.762454368592476, 0.27274412446209867, 3.7453183520599254, 6.024096385542169]\n"
          ]
        },
        {
          "output_type": "stream",
          "name": "stderr",
          "text": [
            "\n",
            "\n",
            "Processing law dataset:  94%|█████████▍| 471/500 [06:27<05:59, 12.39s/it]\u001b[A\u001b[A"
          ]
        },
        {
          "output_type": "stream",
          "name": "stdout",
          "text": [
            "Appended result to Google Drive file: [471, 0.8, 0.8666666666666667, 0.5332885505299299, 0.2966878083157153, 0.0, 0.0]\n"
          ]
        },
        {
          "output_type": "stream",
          "name": "stderr",
          "text": [
            "\n",
            "\n",
            "Processing law dataset:  94%|█████████▍| 472/500 [06:41<05:57, 12.76s/it]\u001b[A\u001b[A"
          ]
        },
        {
          "output_type": "stream",
          "name": "stdout",
          "text": [
            "Appended result to Google Drive file: [472, 0.11904761904761907, 0.1428571428571429, 0.3333333333333333, 1.0, 16.12903225806452, 50.0]\n"
          ]
        },
        {
          "output_type": "stream",
          "name": "stderr",
          "text": [
            "\n",
            "\n",
            "Processing law dataset:  95%|█████████▍| 473/500 [06:55<05:55, 13.18s/it]\u001b[A\u001b[A"
          ]
        },
        {
          "output_type": "stream",
          "name": "stdout",
          "text": [
            "Appended result to Google Drive file: [473, 0.4358974358974359, 0.5128205128205128, 0.7440476190476191, 0.42908027644869756, 3.9370078740157486, 0.0]\n"
          ]
        },
        {
          "output_type": "stream",
          "name": "stderr",
          "text": [
            "\n",
            "\n",
            "Processing law dataset:  95%|█████████▍| 474/500 [07:07<05:34, 12.87s/it]\u001b[A\u001b[A"
          ]
        },
        {
          "output_type": "stream",
          "name": "stdout",
          "text": [
            "Appended result to Google Drive file: [474, 0.4444444444444444, 1.074074074074074, 0.5113286713286713, 0.2698412698412698, 8.196721311475411, 1.5673981191222568]\n"
          ]
        },
        {
          "output_type": "stream",
          "name": "stderr",
          "text": [
            "\n",
            "\n",
            "Processing law dataset:  95%|█████████▌| 475/500 [07:18<05:08, 12.33s/it]\u001b[A\u001b[A"
          ]
        },
        {
          "output_type": "stream",
          "name": "stdout",
          "text": [
            "Appended result to Google Drive file: [475, 0.6111111111111112, 0.8333333333333334, 0.5706796471502353, 0.549376474553421, 1.9011406844106464, 2.1645021645021645]\n"
          ]
        },
        {
          "output_type": "stream",
          "name": "stderr",
          "text": [
            "\n",
            "\n",
            "Processing law dataset:  95%|█████████▌| 476/500 [07:34<05:18, 13.28s/it]\u001b[A\u001b[A"
          ]
        },
        {
          "output_type": "stream",
          "name": "stdout",
          "text": [
            "Appended result to Google Drive file: [476, 0.25, 1.0, 0.8315384615384614, 0.9598639455782312, 2.8462998102466797, 3.0800821355236137]\n"
          ]
        },
        {
          "output_type": "stream",
          "name": "stderr",
          "text": [
            "\n",
            "\n",
            "Processing law dataset:  95%|█████████▌| 477/500 [07:45<04:52, 12.72s/it]\u001b[A\u001b[A"
          ]
        },
        {
          "output_type": "stream",
          "name": "stdout",
          "text": [
            "Appended result to Google Drive file: [477, 0.5789473684210527, 0.5614035087719298, 0.7240439438186622, 0.4619883040935673, 1.6835016835016834, 0.0]\n"
          ]
        },
        {
          "output_type": "stream",
          "name": "stderr",
          "text": [
            "\n",
            "\n",
            "Processing law dataset:  96%|█████████▌| 478/500 [07:57<04:36, 12.57s/it]\u001b[A\u001b[A"
          ]
        },
        {
          "output_type": "stream",
          "name": "stdout",
          "text": [
            "Appended result to Google Drive file: [478, 0.2222222222222222, 0.8518518518518519, 0.18163378203946157, 0.4740129935032484, 8.264462809917356, 4.132231404958677]\n"
          ]
        },
        {
          "output_type": "stream",
          "name": "stderr",
          "text": [
            "\n",
            "\n",
            "Processing law dataset:  96%|█████████▌| 479/500 [08:10<04:26, 12.68s/it]\u001b[A\u001b[A"
          ]
        },
        {
          "output_type": "stream",
          "name": "stdout",
          "text": [
            "Appended result to Google Drive file: [479, 0.07692307692307687, 0.3846153846153846, 0.1111111111111111, 0.6969696969696969, 0.0, 28.846153846153843]\n"
          ]
        },
        {
          "output_type": "stream",
          "name": "stderr",
          "text": [
            "\n",
            "\n",
            "Processing law dataset:  96%|█████████▌| 480/500 [08:24<04:20, 13.01s/it]\u001b[A\u001b[A"
          ]
        },
        {
          "output_type": "stream",
          "name": "stdout",
          "text": [
            "Appended result to Google Drive file: [480, 0.55, 0.6833333333333333, 0.5157961954695167, 0.23435374149659863, 4.643962848297214, 4.854368932038835]\n"
          ]
        },
        {
          "output_type": "stream",
          "name": "stderr",
          "text": [
            "\n",
            "\n",
            "Processing law dataset:  96%|█████████▌| 481/500 [08:35<03:56, 12.45s/it]\u001b[A\u001b[A"
          ]
        },
        {
          "output_type": "stream",
          "name": "stdout",
          "text": [
            "Appended result to Google Drive file: [481, 0.29166666666666663, 0.5416666666666667, 0.5943635943635943, 0.5954305698887743, 0.0, 0.0]\n"
          ]
        },
        {
          "output_type": "stream",
          "name": "stderr",
          "text": [
            "\n",
            "\n",
            "Processing law dataset:  96%|█████████▋| 482/500 [08:50<03:57, 13.19s/it]\u001b[A\u001b[A"
          ]
        },
        {
          "output_type": "stream",
          "name": "stdout",
          "text": [
            "Appended result to Google Drive file: [482, 0.38095238095238093, 0.8571428571428572, 0.4758402740858881, 0.6566778900112232, 4.109589041095891, 4.2857142857142865]\n"
          ]
        },
        {
          "output_type": "stream",
          "name": "stderr",
          "text": [
            "\n",
            "\n",
            "Processing law dataset:  97%|█████████▋| 483/500 [09:03<03:41, 13.01s/it]\u001b[A\u001b[A"
          ]
        },
        {
          "output_type": "stream",
          "name": "stdout",
          "text": [
            "Appended result to Google Drive file: [483, 0.5416666666666667, 0.7083333333333333, 0.5949685534591195, 0.43099290780141847, 3.3444816053511706, 0.0]\n"
          ]
        },
        {
          "output_type": "stream",
          "name": "stderr",
          "text": [
            "\n",
            "\n",
            "Processing law dataset:  97%|█████████▋| 484/500 [09:15<03:25, 12.84s/it]\u001b[A\u001b[A"
          ]
        },
        {
          "output_type": "stream",
          "name": "stdout",
          "text": [
            "Appended result to Google Drive file: [484, 0.38095238095238093, 0.6666666666666667, 0.6118431276326013, 0.37228224623182604, 3.448275862068965, 3.9840637450199203]\n"
          ]
        },
        {
          "output_type": "stream",
          "name": "stderr",
          "text": [
            "\n",
            "\n",
            "Processing law dataset:  97%|█████████▋| 485/500 [09:28<03:12, 12.81s/it]\u001b[A\u001b[A"
          ]
        },
        {
          "output_type": "stream",
          "name": "stdout",
          "text": [
            "Appended result to Google Drive file: [485, 0.5, 0.7142857142857143, 0.6207334785766159, 0.2795843839666116, 3.8022813688212933, 3.3112582781456954]\n"
          ]
        },
        {
          "output_type": "stream",
          "name": "stderr",
          "text": [
            "\n",
            "\n",
            "Processing law dataset:  97%|█████████▋| 486/500 [09:42<03:04, 13.21s/it]\u001b[A\u001b[A"
          ]
        },
        {
          "output_type": "stream",
          "name": "stdout",
          "text": [
            "Appended result to Google Drive file: [486, 0.13888888888888884, 0.5277777777777778, 0.19408535197311158, 0.27298509215337685, 1.6722408026755853, 0.0]\n"
          ]
        },
        {
          "output_type": "stream",
          "name": "stderr",
          "text": [
            "\n",
            "\n",
            "Processing law dataset:  97%|█████████▋| 487/500 [09:57<02:56, 13.58s/it]\u001b[A\u001b[A"
          ]
        },
        {
          "output_type": "stream",
          "name": "stdout",
          "text": [
            "Appended result to Google Drive file: [487, 0.33333333333333337, 1.7407407407407407, 0.2645814615154238, 0.6078540335278317, 4.048582995951417, 1.1337868480725624]\n"
          ]
        },
        {
          "output_type": "stream",
          "name": "stderr",
          "text": [
            "\n",
            "\n",
            "Processing law dataset:  98%|█████████▊| 488/500 [10:15<03:01, 15.11s/it]\u001b[A\u001b[A"
          ]
        },
        {
          "output_type": "stream",
          "name": "stdout",
          "text": [
            "Appended result to Google Drive file: [488, 0.37777777777777777, 1.5777777777777777, 0.4601715015508119, 0.32593448436728095, 0.0, 0.6711409395973155]\n"
          ]
        },
        {
          "output_type": "stream",
          "name": "stderr",
          "text": [
            "\n",
            "\n",
            "Processing law dataset:  98%|█████████▊| 489/500 [10:31<02:49, 15.42s/it]\u001b[A\u001b[A"
          ]
        },
        {
          "output_type": "stream",
          "name": "stdout",
          "text": [
            "Appended result to Google Drive file: [489, 0.11111111111111116, 0.5777777777777777, 0.3433978574295329, 0.37646684797663116, 1.4792899408284024, 0.0]\n"
          ]
        },
        {
          "output_type": "stream",
          "name": "stderr",
          "text": [
            "\n",
            "\n",
            "Processing law dataset:  98%|█████████▊| 490/500 [10:43<02:21, 14.18s/it]\u001b[A\u001b[A"
          ]
        },
        {
          "output_type": "stream",
          "name": "stdout",
          "text": [
            "Appended result to Google Drive file: [490, 0.21212121212121215, 0.5151515151515151, 0.6010101010101011, 0.5997708443504318, 16.94915254237288, 2.3041474654377883]\n"
          ]
        },
        {
          "output_type": "stream",
          "name": "stderr",
          "text": [
            "\n",
            "\n",
            "Processing law dataset:  98%|█████████▊| 491/500 [10:56<02:05, 13.91s/it]\u001b[A\u001b[A"
          ]
        },
        {
          "output_type": "stream",
          "name": "stdout",
          "text": [
            "Appended result to Google Drive file: [491, 0.31481481481481477, 0.8888888888888888, 0.5644139457959881, 1.0, 2.6246719160104988, 0.0]\n"
          ]
        },
        {
          "output_type": "stream",
          "name": "stderr",
          "text": [
            "\n",
            "\n",
            "Processing law dataset:  98%|█████████▊| 492/500 [11:10<01:52, 14.11s/it]\u001b[A\u001b[A"
          ]
        },
        {
          "output_type": "stream",
          "name": "stdout",
          "text": [
            "Appended result to Google Drive file: [492, 0.31481481481481477, 0.6111111111111112, 0.5121447028423773, 0.633187134502924, 6.4655172413793105, 7.537688442211056]\n"
          ]
        },
        {
          "output_type": "stream",
          "name": "stderr",
          "text": [
            "\n",
            "\n",
            "Processing law dataset:  99%|█████████▊| 493/500 [11:23<01:36, 13.77s/it]\u001b[A\u001b[A"
          ]
        },
        {
          "output_type": "stream",
          "name": "stdout",
          "text": [
            "Appended result to Google Drive file: [493, 0.38095238095238093, 0.7619047619047619, 0.6291423001949318, 0.48920147769252625, 11.235955056179776, 5.88235294117647]\n"
          ]
        },
        {
          "output_type": "stream",
          "name": "stderr",
          "text": [
            "\n",
            "\n",
            "Processing law dataset:  99%|█████████▉| 494/500 [11:41<01:30, 15.02s/it]\u001b[A\u001b[A"
          ]
        },
        {
          "output_type": "stream",
          "name": "stdout",
          "text": [
            "Appended result to Google Drive file: [494, 0.5185185185185186, 1.1111111111111112, 0.7337359098228663, 0.7669897852824682, 3.861003861003861, 5.454545454545455]\n"
          ]
        },
        {
          "output_type": "stream",
          "name": "stderr",
          "text": [
            "\n",
            "\n",
            "Processing law dataset:  99%|█████████▉| 495/500 [11:59<01:18, 15.79s/it]\u001b[A\u001b[A"
          ]
        },
        {
          "output_type": "stream",
          "name": "stdout",
          "text": [
            "Appended result to Google Drive file: [495, 0.38095238095238093, 0.6666666666666667, 0.6657896250287555, 0.42517394054395946, 3.5211267605633805, 0.0]\n"
          ]
        },
        {
          "output_type": "stream",
          "name": "stderr",
          "text": [
            "\n",
            "\n",
            "Processing law dataset:  99%|█████████▉| 496/500 [12:12<00:59, 14.98s/it]\u001b[A\u001b[A"
          ]
        },
        {
          "output_type": "stream",
          "name": "stdout",
          "text": [
            "Appended result to Google Drive file: [496, 0.4871794871794872, 1.0769230769230769, 0.6494520030234315, 0.9523809523809524, 2.941176470588235, 0.0]\n"
          ]
        },
        {
          "output_type": "stream",
          "name": "stderr",
          "text": [
            "\n",
            "\n",
            "Processing law dataset:  99%|█████████▉| 497/500 [12:23<00:40, 13.64s/it]\u001b[A\u001b[A"
          ]
        },
        {
          "output_type": "stream",
          "name": "stdout",
          "text": [
            "Appended result to Google Drive file: [497, 0.2222222222222222, 0.5555555555555556, 0.6027210243856511, 0.538755188216334, 6.818181818181819, 6.787330316742081]\n"
          ]
        },
        {
          "output_type": "stream",
          "name": "stderr",
          "text": [
            "\n",
            "\n",
            "Processing law dataset: 100%|█████████▉| 498/500 [12:34<00:25, 12.86s/it]\u001b[A\u001b[A"
          ]
        },
        {
          "output_type": "stream",
          "name": "stdout",
          "text": [
            "Appended result to Google Drive file: [498, 0.06060606060606055, 0.7575757575757576, 0.13333333333333333, 0.7862383534974273, 38.46153846153845, 3.8910505836575875]\n"
          ]
        },
        {
          "output_type": "stream",
          "name": "stderr",
          "text": [
            "\n",
            "\n",
            "Processing law dataset: 100%|█████████▉| 499/500 [12:51<00:14, 14.19s/it]\u001b[A\u001b[A"
          ]
        },
        {
          "output_type": "stream",
          "name": "stdout",
          "text": [
            "Appended result to Google Drive file: [499, 0.2549019607843137, 1.1176470588235294, 0.7558108558108558, 0.5414407230196704, 2.3041474654377883, 1.953125]\n"
          ]
        },
        {
          "output_type": "stream",
          "name": "stderr",
          "text": [
            "\n",
            "\n",
            "Processing law dataset: 100%|██████████| 500/500 [13:03<00:00,  1.57s/it]\n",
            "\n",
            "Datasets for Simplified Chinese:  50%|█████     | 1/2 [13:38<13:38, 818.14s/it]\u001b[A"
          ]
        },
        {
          "output_type": "stream",
          "name": "stdout",
          "text": [
            "Appended result to Google Drive file: [500, 0.4722222222222222, 0.5277777777777778, 0.5137720600362856, 0.11102635816594626, 4.62962962962963, 0.0]\n",
            "Processing dataset: medical\n"
          ]
        },
        {
          "output_type": "stream",
          "name": "stderr",
          "text": [
            "\n",
            "\n",
            "Processing medical dataset:   0%|          | 0/500 [00:00<?, ?it/s]\u001b[A\u001b[A\n",
            "\n",
            "Processing medical dataset:   0%|          | 1/500 [00:11<1:34:29, 11.36s/it]\u001b[A\u001b[A"
          ]
        },
        {
          "output_type": "stream",
          "name": "stdout",
          "text": [
            "Appended result to Google Drive file: [1, 0.7254901960784313, 1.0196078431372548, 0.7324112021857924, 0.7753759398496239, 2.202643171806167, 0.0]\n"
          ]
        },
        {
          "output_type": "stream",
          "name": "stderr",
          "text": [
            "\n",
            "\n",
            "Processing medical dataset:   0%|          | 2/500 [00:21<1:28:41, 10.69s/it]\u001b[A\u001b[A"
          ]
        },
        {
          "output_type": "stream",
          "name": "stdout",
          "text": [
            "Appended result to Google Drive file: [2, 0.39583333333333337, 0.7291666666666667, 0.6195760233918128, 0.6724451289949943, 6.024096385542169, 0.0]\n"
          ]
        },
        {
          "output_type": "stream",
          "name": "stderr",
          "text": [
            "\n",
            "\n",
            "Processing medical dataset:   1%|          | 3/500 [00:32<1:30:43, 10.95s/it]\u001b[A\u001b[A"
          ]
        },
        {
          "output_type": "stream",
          "name": "stdout",
          "text": [
            "Appended result to Google Drive file: [3, 0.5614035087719298, 0.7192982456140351, 0.539488017429194, 0.6552144653839569, 2.127659574468085, 4.3103448275862055]\n"
          ]
        },
        {
          "output_type": "stream",
          "name": "stderr",
          "text": [
            "\n",
            "\n",
            "Processing medical dataset:   1%|          | 4/500 [00:43<1:29:57, 10.88s/it]\u001b[A\u001b[A"
          ]
        },
        {
          "output_type": "stream",
          "name": "stdout",
          "text": [
            "Appended result to Google Drive file: [4, 0.38888888888888884, 0.6851851851851851, 0.6750331711632022, 0.7938017950401851, 2.487562189054727, 2.3696682464454977]\n"
          ]
        },
        {
          "output_type": "stream",
          "name": "stderr",
          "text": [
            "\n",
            "\n",
            "Processing medical dataset:   1%|          | 5/500 [00:54<1:29:34, 10.86s/it]\u001b[A\u001b[A"
          ]
        },
        {
          "output_type": "stream",
          "name": "stdout",
          "text": [
            "Appended result to Google Drive file: [5, 0.4285714285714286, 0.746031746031746, 0.5568862675867972, 0.4376487194998992, 4.878048780487805, 4.830917874396136]\n"
          ]
        },
        {
          "output_type": "stream",
          "name": "stderr",
          "text": [
            "\n",
            "\n",
            "Processing medical dataset:   1%|          | 6/500 [01:05<1:28:50, 10.79s/it]\u001b[A\u001b[A"
          ]
        },
        {
          "output_type": "stream",
          "name": "stdout",
          "text": [
            "Appended result to Google Drive file: [6, 0.7142857142857143, 0.9365079365079365, 0.6286494925839189, 0.7440261058463057, 2.525252525252525, 5.376344086021505]\n"
          ]
        },
        {
          "output_type": "stream",
          "name": "stderr",
          "text": [
            "\n",
            "\n",
            "Processing medical dataset:   1%|▏         | 7/500 [01:16<1:29:25, 10.88s/it]\u001b[A\u001b[A"
          ]
        },
        {
          "output_type": "stream",
          "name": "stdout",
          "text": [
            "Appended result to Google Drive file: [7, 0.55, 1.2166666666666668, 0.6708240341552463, 0.59688013136289, 1.5873015873015872, 4.032258064516128]\n"
          ]
        },
        {
          "output_type": "stream",
          "name": "stderr",
          "text": [
            "\n",
            "\n",
            "Processing medical dataset:   2%|▏         | 8/500 [01:27<1:31:04, 11.11s/it]\u001b[A\u001b[A"
          ]
        },
        {
          "output_type": "stream",
          "name": "stdout",
          "text": [
            "Appended result to Google Drive file: [8, 0.6140350877192983, 0.7894736842105263, 0.6341509304871374, 0.8385363064608349, 2.3041474654377883, 2.3474178403755865]\n"
          ]
        },
        {
          "output_type": "stream",
          "name": "stderr",
          "text": [
            "\n",
            "\n",
            "Processing medical dataset:   2%|▏         | 9/500 [01:39<1:31:23, 11.17s/it]\u001b[A\u001b[A"
          ]
        },
        {
          "output_type": "stream",
          "name": "stdout",
          "text": [
            "Appended result to Google Drive file: [9, 0.5185185185185186, 0.7592592592592593, 0.6494708994708995, 0.6911487758945385, 2.4390243902439024, 2.4390243902439024]\n"
          ]
        },
        {
          "output_type": "stream",
          "name": "stderr",
          "text": [
            "\n",
            "\n",
            "Processing medical dataset:   2%|▏         | 10/500 [01:50<1:31:17, 11.18s/it]\u001b[A\u001b[A"
          ]
        },
        {
          "output_type": "stream",
          "name": "stdout",
          "text": [
            "Appended result to Google Drive file: [10, 0.6833333333333333, 0.8833333333333333, 0.6457341794465009, 0.9152965828497743, 4.545454545454545, 0.0]\n"
          ]
        },
        {
          "output_type": "stream",
          "name": "stderr",
          "text": [
            "\n",
            "\n",
            "Processing medical dataset:   2%|▏         | 11/500 [02:00<1:29:54, 11.03s/it]\u001b[A\u001b[A"
          ]
        },
        {
          "output_type": "stream",
          "name": "stdout",
          "text": [
            "Appended result to Google Drive file: [11, 0.4444444444444444, 0.6666666666666667, 0.5352243233222099, 0.6441981390257253, 2.415458937198068, 2.392344497607655]\n"
          ]
        },
        {
          "output_type": "stream",
          "name": "stderr",
          "text": [
            "\n",
            "\n",
            "Processing medical dataset:   2%|▏         | 12/500 [02:18<1:45:29, 12.97s/it]\u001b[A\u001b[A"
          ]
        },
        {
          "output_type": "stream",
          "name": "stdout",
          "text": [
            "Appended result to Google Drive file: [12, 0.4222222222222223, 0.7111111111111111, 0.6316964285714285, 0.5817165342060152, 2.4999999999999996, 2.2123893805309733]\n"
          ]
        },
        {
          "output_type": "stream",
          "name": "stderr",
          "text": [
            "\n",
            "\n",
            "Processing medical dataset:   3%|▎         | 13/500 [02:31<1:46:41, 13.14s/it]\u001b[A\u001b[A"
          ]
        },
        {
          "output_type": "stream",
          "name": "stdout",
          "text": [
            "Appended result to Google Drive file: [13, 0.40476190476190477, 0.7619047619047619, 0.6199723479135244, 0.722004316990441, 0.0, 3.08641975308642]\n"
          ]
        },
        {
          "output_type": "stream",
          "name": "stderr",
          "text": [
            "\n",
            "\n",
            "Processing medical dataset:   3%|▎         | 14/500 [02:51<2:02:10, 15.08s/it]\u001b[A\u001b[A"
          ]
        },
        {
          "output_type": "stream",
          "name": "stdout",
          "text": [
            "Appended result to Google Drive file: [14, 0.4285714285714286, 0.8571428571428572, 0.5173882802990785, 0.6055003571660498, 2.314814814814815, 2.3696682464454977]\n"
          ]
        },
        {
          "output_type": "stream",
          "name": "stderr",
          "text": [
            "\n",
            "\n",
            "Processing medical dataset:   3%|▎         | 15/500 [03:08<2:06:16, 15.62s/it]\u001b[A\u001b[A"
          ]
        },
        {
          "output_type": "stream",
          "name": "stdout",
          "text": [
            "Appended result to Google Drive file: [15, 0.4901960784313726, 0.7647058823529411, 0.5593168527379054, 0.5960673063551661, 3.3783783783783785, 0.0]\n"
          ]
        },
        {
          "output_type": "stream",
          "name": "stderr",
          "text": [
            "\n",
            "\n",
            "Processing medical dataset:   3%|▎         | 16/500 [03:27<2:15:23, 16.78s/it]\u001b[A\u001b[A"
          ]
        },
        {
          "output_type": "stream",
          "name": "stdout",
          "text": [
            "Appended result to Google Drive file: [16, 0.6041666666666667, 0.75, 0.725261085430577, 0.7159711554872845, 4.2857142857142865, 4.189944134078211]\n"
          ]
        },
        {
          "output_type": "stream",
          "name": "stderr",
          "text": [
            "\n",
            "\n",
            "Processing medical dataset:   3%|▎         | 17/500 [03:40<2:04:08, 15.42s/it]\u001b[A\u001b[A"
          ]
        },
        {
          "output_type": "stream",
          "name": "stdout",
          "text": [
            "Appended result to Google Drive file: [17, 0.19444444444444442, 0.5277777777777778, 0.6180445761967501, 0.4963419329996149, 6.198347107438017, 6.756756756756756]\n"
          ]
        },
        {
          "output_type": "stream",
          "name": "stderr",
          "text": [
            "\n",
            "\n",
            "Processing medical dataset:   4%|▎         | 18/500 [03:52<1:56:19, 14.48s/it]\u001b[A\u001b[A"
          ]
        },
        {
          "output_type": "stream",
          "name": "stdout",
          "text": [
            "Appended result to Google Drive file: [18, 0.4375, 0.6875, 0.5446990116801437, 0.5731132075471699, 0.0, 0.0]\n"
          ]
        },
        {
          "output_type": "stream",
          "name": "stderr",
          "text": [
            "\n",
            "\n",
            "Processing medical dataset:   4%|▍         | 19/500 [04:08<2:00:44, 15.06s/it]\u001b[A\u001b[A"
          ]
        },
        {
          "output_type": "stream",
          "name": "stdout",
          "text": [
            "Appended result to Google Drive file: [19, 0.5925925925925926, 0.8333333333333334, 0.6672955974842768, 0.5861111111111111, 5.025125628140703, 2.4271844660194177]\n"
          ]
        },
        {
          "output_type": "stream",
          "name": "stderr",
          "text": [
            "\n",
            "\n",
            "Processing medical dataset:   4%|▍         | 20/500 [04:22<1:57:54, 14.74s/it]\u001b[A\u001b[A"
          ]
        },
        {
          "output_type": "stream",
          "name": "stdout",
          "text": [
            "Appended result to Google Drive file: [20, 0.6111111111111112, 0.6666666666666667, 0.6561486132914705, 0.7086274509803921, 2.873563218390805, 0.0]\n"
          ]
        },
        {
          "output_type": "stream",
          "name": "stderr",
          "text": [
            "\n",
            "\n",
            "Processing medical dataset:   4%|▍         | 21/500 [04:42<2:09:41, 16.25s/it]\u001b[A\u001b[A"
          ]
        },
        {
          "output_type": "stream",
          "name": "stdout",
          "text": [
            "Appended result to Google Drive file: [21, 0.375, 0.75, 0.5297018614554347, 0.5905575905575906, 4.838709677419355, 4.838709677419355]\n"
          ]
        },
        {
          "output_type": "stream",
          "name": "stderr",
          "text": [
            "\n",
            "\n",
            "Processing medical dataset:   4%|▍         | 22/500 [04:57<2:06:36, 15.89s/it]\u001b[A\u001b[A"
          ]
        },
        {
          "output_type": "stream",
          "name": "stdout",
          "text": [
            "Appended result to Google Drive file: [22, 0.5294117647058824, 0.607843137254902, 0.573245060949979, 0.5807387503164126, 5.555555555555555, 0.0]\n"
          ]
        },
        {
          "output_type": "stream",
          "name": "stderr",
          "text": [
            "\n",
            "\n",
            "Processing medical dataset:   5%|▍         | 23/500 [05:13<2:05:59, 15.85s/it]\u001b[A\u001b[A"
          ]
        },
        {
          "output_type": "stream",
          "name": "stdout",
          "text": [
            "Appended result to Google Drive file: [23, 0.5833333333333333, 0.7708333333333334, 0.6279491833030854, 0.5686813186813187, 0.0, 2.6881720430107525]\n"
          ]
        },
        {
          "output_type": "stream",
          "name": "stderr",
          "text": [
            "\n",
            "\n",
            "Processing medical dataset:   5%|▍         | 24/500 [05:28<2:05:12, 15.78s/it]\u001b[A\u001b[A"
          ]
        },
        {
          "output_type": "stream",
          "name": "stdout",
          "text": [
            "Appended result to Google Drive file: [24, 0.37777777777777777, 0.6666666666666667, 0.6518350930115636, 0.6706374401612498, 2.7322404371584694, 0.0]\n"
          ]
        },
        {
          "output_type": "stream",
          "name": "stderr",
          "text": [
            "\n",
            "\n",
            "Processing medical dataset:   5%|▌         | 25/500 [05:46<2:08:13, 16.20s/it]\u001b[A\u001b[A"
          ]
        },
        {
          "output_type": "stream",
          "name": "stdout",
          "text": [
            "Appended result to Google Drive file: [25, 0.5490196078431373, 0.6470588235294117, 0.5348752834467121, 0.6258169934640523, 4.184100418410042, 5.415162454873645]\n"
          ]
        },
        {
          "output_type": "stream",
          "name": "stderr",
          "text": [
            "\n",
            "\n",
            "Processing medical dataset:   5%|▌         | 26/500 [05:59<2:01:04, 15.33s/it]\u001b[A\u001b[A"
          ]
        },
        {
          "output_type": "stream",
          "name": "stdout",
          "text": [
            "Appended result to Google Drive file: [26, 0.5833333333333333, 1.4333333333333333, 0.5584860173577627, 0.668943502039303, 2.380952380952381, 1.6666666666666663]\n"
          ]
        },
        {
          "output_type": "stream",
          "name": "stderr",
          "text": [
            "\n",
            "\n",
            "Processing medical dataset:   5%|▌         | 27/500 [06:13<1:57:43, 14.93s/it]\u001b[A\u001b[A"
          ]
        },
        {
          "output_type": "stream",
          "name": "stdout",
          "text": [
            "Appended result to Google Drive file: [27, 0.5476190476190477, 0.9523809523809523, 0.7647223466188984, 0.6726862644182737, 2.604166666666667, 3.4602076124567476]\n"
          ]
        },
        {
          "output_type": "stream",
          "name": "stderr",
          "text": [
            "\n",
            "\n",
            "Processing medical dataset:   6%|▌         | 28/500 [06:26<1:52:59, 14.36s/it]\u001b[A\u001b[A"
          ]
        },
        {
          "output_type": "stream",
          "name": "stdout",
          "text": [
            "Appended result to Google Drive file: [28, 0.5897435897435898, 0.8461538461538461, 0.6326071169208425, 0.49127906976744184, 2.873563218390805, 0.0]\n"
          ]
        },
        {
          "output_type": "stream",
          "name": "stderr",
          "text": [
            "\n",
            "\n",
            "Processing medical dataset:   6%|▌         | 29/500 [06:41<1:54:22, 14.57s/it]\u001b[A\u001b[A"
          ]
        },
        {
          "output_type": "stream",
          "name": "stdout",
          "text": [
            "Appended result to Google Drive file: [29, 0.38095238095238093, 0.5476190476190477, 0.4647758184481348, 0.47521746966808015, 6.493506493506493, 3.2467532467532463]\n"
          ]
        },
        {
          "output_type": "stream",
          "name": "stderr",
          "text": [
            "\n",
            "\n",
            "Processing medical dataset:   6%|▌         | 30/500 [06:53<1:48:08, 13.80s/it]\u001b[A\u001b[A"
          ]
        },
        {
          "output_type": "stream",
          "name": "stdout",
          "text": [
            "Appended result to Google Drive file: [30, 0.33333333333333337, 0.5, 0.7064752879970272, 0.685975358573943, 3.0674846625766876, 3.4482758620689653]\n"
          ]
        },
        {
          "output_type": "stream",
          "name": "stderr",
          "text": [
            "\n",
            "\n",
            "Processing medical dataset:   6%|▌         | 31/500 [07:05<1:43:52, 13.29s/it]\u001b[A\u001b[A"
          ]
        },
        {
          "output_type": "stream",
          "name": "stdout",
          "text": [
            "Appended result to Google Drive file: [31, 0.2549019607843137, 0.43137254901960786, 0.7346497764530552, 0.5541877104377104, 4.672897196261681, 2.392344497607655]\n"
          ]
        },
        {
          "output_type": "stream",
          "name": "stderr",
          "text": [
            "\n",
            "\n",
            "Processing medical dataset:   6%|▋         | 32/500 [07:16<1:37:30, 12.50s/it]\u001b[A\u001b[A"
          ]
        },
        {
          "output_type": "stream",
          "name": "stdout",
          "text": [
            "Appended result to Google Drive file: [32, 0.37254901960784315, 0.4117647058823529, 0.753544251839222, 0.6364379084967321, 2.6881720430107525, 2.7624309392265194]\n"
          ]
        },
        {
          "output_type": "stream",
          "name": "stderr",
          "text": [
            "\n",
            "\n",
            "Processing medical dataset:   7%|▋         | 33/500 [07:28<1:35:57, 12.33s/it]\u001b[A\u001b[A"
          ]
        },
        {
          "output_type": "stream",
          "name": "stdout",
          "text": [
            "Appended result to Google Drive file: [33, 0.4375, 0.7083333333333333, 0.5172216254923022, 0.6386862921269136, 2.857142857142857, 2.976190476190476]\n"
          ]
        },
        {
          "output_type": "stream",
          "name": "stderr",
          "text": [
            "\n",
            "\n",
            "Processing medical dataset:   7%|▋         | 34/500 [07:43<1:42:50, 13.24s/it]\u001b[A\u001b[A"
          ]
        },
        {
          "output_type": "stream",
          "name": "stdout",
          "text": [
            "Appended result to Google Drive file: [34, 0.4736842105263158, 0.736842105263158, 0.49237516869095815, 0.42252862913385186, 5.681818181818181, 0.0]\n"
          ]
        },
        {
          "output_type": "stream",
          "name": "stderr",
          "text": [
            "\n",
            "\n",
            "Processing medical dataset:   7%|▋         | 35/500 [07:56<1:41:14, 13.06s/it]\u001b[A\u001b[A"
          ]
        },
        {
          "output_type": "stream",
          "name": "stdout",
          "text": [
            "Appended result to Google Drive file: [35, 0.4901960784313726, 0.6666666666666667, 0.4477981197427016, 0.6588038724261635, 7.2992700729927, 3.90625]\n"
          ]
        },
        {
          "output_type": "stream",
          "name": "stderr",
          "text": [
            "\n",
            "\n",
            "Processing medical dataset:   7%|▋         | 36/500 [08:08<1:40:10, 12.95s/it]\u001b[A\u001b[A"
          ]
        },
        {
          "output_type": "stream",
          "name": "stdout",
          "text": [
            "Appended result to Google Drive file: [36, 0.5087719298245614, 0.6666666666666667, 0.532010582010582, 0.5825757575757576, 6.578947368421052, 3.5211267605633805]\n"
          ]
        },
        {
          "output_type": "stream",
          "name": "stderr",
          "text": [
            "\n",
            "\n",
            "Processing medical dataset:   7%|▋         | 37/500 [08:23<1:43:50, 13.46s/it]\u001b[A\u001b[A"
          ]
        },
        {
          "output_type": "stream",
          "name": "stdout",
          "text": [
            "Appended result to Google Drive file: [37, 0.40476190476190477, 0.6904761904761905, 0.5786678004535147, 0.6458378223084106, 0.0, 6.493506493506493]\n"
          ]
        },
        {
          "output_type": "stream",
          "name": "stderr",
          "text": [
            "\n",
            "\n",
            "Processing medical dataset:   8%|▊         | 38/500 [08:38<1:46:28, 13.83s/it]\u001b[A\u001b[A"
          ]
        },
        {
          "output_type": "stream",
          "name": "stdout",
          "text": [
            "Appended result to Google Drive file: [38, 0.6041666666666667, 1.3125, 0.6292131844763423, 0.5555555555555555, 3.1948881789137387, 1.5772870662460567]\n"
          ]
        },
        {
          "output_type": "stream",
          "name": "stderr",
          "text": [
            "\n",
            "\n",
            "Processing medical dataset:   8%|▊         | 39/500 [08:53<1:48:34, 14.13s/it]\u001b[A\u001b[A"
          ]
        },
        {
          "output_type": "stream",
          "name": "stdout",
          "text": [
            "Appended result to Google Drive file: [39, 0.3111111111111111, 0.6, 0.5782314327937588, 0.6298850574712643, 2.8409090909090904, 2.2831050228310503]\n"
          ]
        },
        {
          "output_type": "stream",
          "name": "stderr",
          "text": [
            "\n",
            "\n",
            "Processing medical dataset:   8%|▊         | 40/500 [09:08<1:50:21, 14.39s/it]\u001b[A\u001b[A"
          ]
        },
        {
          "output_type": "stream",
          "name": "stdout",
          "text": [
            "Appended result to Google Drive file: [40, 0.7111111111111111, 1.1333333333333333, 0.7372395046813652, 0.5312252964426878, 6.493506493506493, 3.3783783783783785]\n"
          ]
        },
        {
          "output_type": "stream",
          "name": "stderr",
          "text": [
            "\n",
            "\n",
            "Processing medical dataset:   8%|▊         | 41/500 [09:22<1:50:39, 14.46s/it]\u001b[A\u001b[A"
          ]
        },
        {
          "output_type": "stream",
          "name": "stdout",
          "text": [
            "Appended result to Google Drive file: [41, 0.5555555555555556, 0.8666666666666667, 0.6066568471360175, 0.7349606905272417, 0.0, 3.1847133757961785]\n"
          ]
        },
        {
          "output_type": "stream",
          "name": "stderr",
          "text": [
            "\n",
            "\n",
            "Processing medical dataset:   8%|▊         | 42/500 [09:36<1:47:58, 14.14s/it]\u001b[A\u001b[A"
          ]
        },
        {
          "output_type": "stream",
          "name": "stdout",
          "text": [
            "Appended result to Google Drive file: [42, 0.6, 0.7833333333333333, 0.5646327356853672, 0.7778565799842395, 0.0, 0.0]\n"
          ]
        },
        {
          "output_type": "stream",
          "name": "stderr",
          "text": [
            "\n",
            "\n",
            "Processing medical dataset:   9%|▊         | 43/500 [09:49<1:46:05, 13.93s/it]\u001b[A\u001b[A"
          ]
        },
        {
          "output_type": "stream",
          "name": "stdout",
          "text": [
            "Appended result to Google Drive file: [43, 0.5476190476190477, 0.6666666666666667, 0.5123395610237715, 0.6110353535353535, 2.7027027027027026, 6.289308176100629]\n"
          ]
        },
        {
          "output_type": "stream",
          "name": "stderr",
          "text": [
            "\n",
            "\n",
            "Processing medical dataset:   9%|▉         | 44/500 [10:07<1:53:53, 14.99s/it]\u001b[A\u001b[A"
          ]
        },
        {
          "output_type": "stream",
          "name": "stdout",
          "text": [
            "Appended result to Google Drive file: [44, 0.5625, 0.7083333333333333, 0.5643713924963926, 0.5951286174847298, 4.545454545454545, 4.065040650406504]\n"
          ]
        },
        {
          "output_type": "stream",
          "name": "stderr",
          "text": [
            "\n",
            "\n",
            "Processing medical dataset:   9%|▉         | 45/500 [10:20<1:50:28, 14.57s/it]\u001b[A\u001b[A"
          ]
        },
        {
          "output_type": "stream",
          "name": "stdout",
          "text": [
            "Appended result to Google Drive file: [45, 0.7647058823529411, 0.8431372549019608, 0.6419105378000256, 0.6345911949685533, 1.8796992481203008, 1.7730496453900706]\n"
          ]
        },
        {
          "output_type": "stream",
          "name": "stderr",
          "text": [
            "\n",
            "\n",
            "Processing medical dataset:   9%|▉         | 46/500 [10:39<2:00:18, 15.90s/it]\u001b[A\u001b[A"
          ]
        },
        {
          "output_type": "stream",
          "name": "stdout",
          "text": [
            "Appended result to Google Drive file: [46, 0.4833333333333333, 0.7666666666666666, 0.45844307872402695, 0.5873729917498914, 0.0, 0.0]\n"
          ]
        },
        {
          "output_type": "stream",
          "name": "stderr",
          "text": [
            "\n",
            "\n",
            "Processing medical dataset:   9%|▉         | 47/500 [10:56<2:01:40, 16.12s/it]\u001b[A\u001b[A"
          ]
        },
        {
          "output_type": "stream",
          "name": "stdout",
          "text": [
            "Appended result to Google Drive file: [47, 0.5416666666666667, 0.8125, 0.556966618287373, 0.6696889103803998, 0.0, 0.0]\n"
          ]
        },
        {
          "output_type": "stream",
          "name": "stderr",
          "text": [
            "\n",
            "\n",
            "Processing medical dataset:  10%|▉         | 48/500 [11:18<2:15:51, 18.03s/it]\u001b[A\u001b[A"
          ]
        },
        {
          "output_type": "stream",
          "name": "stdout",
          "text": [
            "Appended result to Google Drive file: [48, 0.5277777777777778, 0.75, 0.5774945776811967, 0.6700304936153993, 5.025125628140703, 5.376344086021505]\n"
          ]
        },
        {
          "output_type": "stream",
          "name": "stderr",
          "text": [
            "\n",
            "\n",
            "Processing medical dataset:  10%|▉         | 49/500 [11:37<2:16:21, 18.14s/it]\u001b[A\u001b[A"
          ]
        },
        {
          "output_type": "stream",
          "name": "stdout",
          "text": [
            "Appended result to Google Drive file: [49, 0.33333333333333337, 0.8431372549019608, 0.5584223296672156, 0.5159696953716887, 2.4999999999999996, 0.0]\n"
          ]
        },
        {
          "output_type": "stream",
          "name": "stderr",
          "text": [
            "\n",
            "\n",
            "Processing medical dataset:  10%|█         | 50/500 [11:54<2:13:43, 17.83s/it]\u001b[A\u001b[A"
          ]
        },
        {
          "output_type": "stream",
          "name": "stdout",
          "text": [
            "Appended result to Google Drive file: [50, 0.631578947368421, 0.7719298245614035, 0.6118431276326013, 0.7071428571428573, 3.4965034965034967, 3.3333333333333335]\n"
          ]
        },
        {
          "output_type": "stream",
          "name": "stderr",
          "text": [
            "\n",
            "\n",
            "Processing medical dataset:  10%|█         | 51/500 [12:11<2:12:07, 17.66s/it]\u001b[A\u001b[A"
          ]
        },
        {
          "output_type": "stream",
          "name": "stdout",
          "text": [
            "Appended result to Google Drive file: [51, 0.6060606060606061, 0.8484848484848485, 0.6074692588899967, 0.7165936040599113, 5.154639175257733, 1.8315018315018312]\n"
          ]
        },
        {
          "output_type": "stream",
          "name": "stderr",
          "text": [
            "\n",
            "\n",
            "Processing medical dataset:  10%|█         | 52/500 [12:29<2:12:56, 17.80s/it]\u001b[A\u001b[A"
          ]
        },
        {
          "output_type": "stream",
          "name": "stdout",
          "text": [
            "Appended result to Google Drive file: [52, 0.6470588235294117, 0.8235294117647058, 0.8273203823620104, 0.7084908037288989, 5.714285714285714, 0.0]\n"
          ]
        },
        {
          "output_type": "stream",
          "name": "stderr",
          "text": [
            "\n",
            "\n",
            "Processing medical dataset:  11%|█         | 53/500 [12:46<2:10:16, 17.49s/it]\u001b[A\u001b[A"
          ]
        },
        {
          "output_type": "stream",
          "name": "stdout",
          "text": [
            "Appended result to Google Drive file: [53, 0.5714285714285714, 0.8095238095238095, 0.8424242424242424, 0.48282828282828283, 9.523809523809524, 5.555555555555555]\n"
          ]
        },
        {
          "output_type": "stream",
          "name": "stderr",
          "text": [
            "\n",
            "\n",
            "Processing medical dataset:  11%|█         | 54/500 [13:07<2:18:37, 18.65s/it]\u001b[A\u001b[A"
          ]
        },
        {
          "output_type": "stream",
          "name": "stdout",
          "text": [
            "Appended result to Google Drive file: [54, 0.4242424242424242, 1.121212121212121, 0.6107537964680821, 0.9722222222222223, 4.975124378109454, 0.0]\n"
          ]
        },
        {
          "output_type": "stream",
          "name": "stderr",
          "text": [
            "\n",
            "\n",
            "Processing medical dataset:  11%|█         | 55/500 [13:24<2:14:04, 18.08s/it]\u001b[A\u001b[A"
          ]
        },
        {
          "output_type": "stream",
          "name": "stdout",
          "text": [
            "Appended result to Google Drive file: [55, 0.625, 0.9166666666666666, 0.478589136804147, 0.78387012716281, 4.016064257028113, 3.9525691699604746]\n"
          ]
        },
        {
          "output_type": "stream",
          "name": "stderr",
          "text": [
            "\n",
            "\n",
            "Processing medical dataset:  11%|█         | 56/500 [13:44<2:19:05, 18.80s/it]\u001b[A\u001b[A"
          ]
        },
        {
          "output_type": "stream",
          "name": "stdout",
          "text": [
            "Appended result to Google Drive file: [56, 0.6888888888888889, 1.1555555555555554, 0.5701757991806087, 0.707125516873416, 5.3475935828877015, 0.0]\n"
          ]
        },
        {
          "output_type": "stream",
          "name": "stderr",
          "text": [
            "\n",
            "\n",
            "Processing medical dataset:  11%|█▏        | 57/500 [13:59<2:10:19, 17.65s/it]\u001b[A\u001b[A"
          ]
        },
        {
          "output_type": "stream",
          "name": "stdout",
          "text": [
            "Appended result to Google Drive file: [57, 0.38095238095238093, 0.7619047619047619, 0.5404024546881689, 0.6202843710583649, 5.084745762711864, 4.870129870129871]\n"
          ]
        },
        {
          "output_type": "stream",
          "name": "stderr",
          "text": [
            "\n",
            "\n",
            "Processing medical dataset:  12%|█▏        | 58/500 [14:25<2:28:15, 20.12s/it]\u001b[A\u001b[A"
          ]
        },
        {
          "output_type": "stream",
          "name": "stdout",
          "text": [
            "Appended result to Google Drive file: [58, 0.43939393939393945, 0.7424242424242424, 0.7951940035273369, 0.5305397113473338, 4.048582995951416, 4.0650406504065035]\n"
          ]
        },
        {
          "output_type": "stream",
          "name": "stderr",
          "text": [
            "\n",
            "\n",
            "Processing medical dataset:  12%|█▏        | 59/500 [14:45<2:26:25, 19.92s/it]\u001b[A\u001b[A"
          ]
        },
        {
          "output_type": "stream",
          "name": "stdout",
          "text": [
            "Appended result to Google Drive file: [59, 0.5185185185185186, 0.8703703703703703, 0.7552483358934973, 0.5469769081614665, 3.6231884057971007, 2.3696682464454977]\n"
          ]
        },
        {
          "output_type": "stream",
          "name": "stderr",
          "text": [
            "\n",
            "\n",
            "Processing medical dataset:  12%|█▏        | 60/500 [15:04<2:24:25, 19.69s/it]\u001b[A\u001b[A"
          ]
        },
        {
          "output_type": "stream",
          "name": "stdout",
          "text": [
            "Appended result to Google Drive file: [60, 0.543859649122807, 0.7894736842105263, 0.7126496797549429, 0.690321449444769, 4.545454545454545, 4.6082949308755765]\n"
          ]
        },
        {
          "output_type": "stream",
          "name": "stderr",
          "text": [
            "\n",
            "\n",
            "Processing medical dataset:  12%|█▏        | 61/500 [15:31<2:39:23, 21.79s/it]\u001b[A\u001b[A"
          ]
        },
        {
          "output_type": "stream",
          "name": "stdout",
          "text": [
            "Appended result to Google Drive file: [61, 0.39682539682539686, 1.0, 0.5277086788280818, 1.0, 0.0, 0.0]\n"
          ]
        },
        {
          "output_type": "stream",
          "name": "stderr",
          "text": [
            "\n",
            "\n",
            "Processing medical dataset:  12%|█▏        | 62/500 [15:52<2:38:29, 21.71s/it]\u001b[A\u001b[A"
          ]
        },
        {
          "output_type": "stream",
          "name": "stdout",
          "text": [
            "Appended result to Google Drive file: [62, 0.5263157894736843, 0.9298245614035088, 0.5176245210727969, 0.9329501915708812, 3.1645569620253164, 0.0]\n"
          ]
        },
        {
          "output_type": "stream",
          "name": "stderr",
          "text": [
            "\n",
            "\n",
            "Processing medical dataset:  13%|█▎        | 63/500 [16:15<2:41:29, 22.17s/it]\u001b[A\u001b[A"
          ]
        },
        {
          "output_type": "stream",
          "name": "stdout",
          "text": [
            "Appended result to Google Drive file: [63, 0.4901960784313726, 1.0, 0.6117582654390142, 1.0, 4.335260115606936, 0.0]\n"
          ]
        },
        {
          "output_type": "stream",
          "name": "stderr",
          "text": [
            "\n",
            "\n",
            "Processing medical dataset:  13%|█▎        | 64/500 [16:33<2:30:11, 20.67s/it]\u001b[A\u001b[A"
          ]
        },
        {
          "output_type": "stream",
          "name": "stdout",
          "text": [
            "Appended result to Google Drive file: [64, 0.49122807017543857, 0.8596491228070176, 0.5753086419753086, 0.5629113433991483, 0.0, 0.0]\n"
          ]
        },
        {
          "output_type": "stream",
          "name": "stderr",
          "text": [
            "\n",
            "\n",
            "Processing medical dataset:  13%|█▎        | 65/500 [16:54<2:31:29, 20.90s/it]\u001b[A\u001b[A"
          ]
        },
        {
          "output_type": "stream",
          "name": "stdout",
          "text": [
            "Appended result to Google Drive file: [65, 0.47058823529411764, 0.8627450980392157, 0.6140568903617786, 0.6834782524120758, 4.3103448275862055, 2.824858757062147]\n"
          ]
        },
        {
          "output_type": "stream",
          "name": "stderr",
          "text": [
            "\n",
            "\n",
            "Processing medical dataset:  13%|█▎        | 66/500 [17:17<2:35:23, 21.48s/it]\u001b[A\u001b[A"
          ]
        },
        {
          "output_type": "stream",
          "name": "stdout",
          "text": [
            "Appended result to Google Drive file: [66, 0.7111111111111111, 0.9111111111111111, 0.6236741009348096, 0.6870913622854952, 4.885993485342019, 4.8543689320388355]\n"
          ]
        },
        {
          "output_type": "stream",
          "name": "stderr",
          "text": [
            "\n",
            "\n",
            "Processing medical dataset:  13%|█▎        | 67/500 [17:35<2:27:32, 20.44s/it]\u001b[A\u001b[A"
          ]
        },
        {
          "output_type": "stream",
          "name": "stdout",
          "text": [
            "Appended result to Google Drive file: [67, 0.5555555555555556, 0.8444444444444444, 0.5829234972677596, 0.5688888888888889, 4.777070063694268, 3.4965034965034967]\n"
          ]
        },
        {
          "output_type": "stream",
          "name": "stderr",
          "text": [
            "\n",
            "\n",
            "Processing medical dataset:  14%|█▎        | 68/500 [17:56<2:29:11, 20.72s/it]\u001b[A\u001b[A"
          ]
        },
        {
          "output_type": "stream",
          "name": "stdout",
          "text": [
            "Appended result to Google Drive file: [68, 0.6111111111111112, 1.4074074074074074, 0.6209113164337045, 0.580597669035978, 1.9083969465648856, 3.0120481927710845]\n"
          ]
        },
        {
          "output_type": "stream",
          "name": "stderr",
          "text": [
            "\n",
            "\n",
            "Processing medical dataset:  14%|█▍        | 69/500 [18:15<2:24:52, 20.17s/it]\u001b[A\u001b[A"
          ]
        },
        {
          "output_type": "stream",
          "name": "stdout",
          "text": [
            "Appended result to Google Drive file: [69, 0.29166666666666663, 0.6875, 0.5547626127465556, 0.369592919134867, 5.2631578947368425, 2.6315789473684212]\n"
          ]
        },
        {
          "output_type": "stream",
          "name": "stderr",
          "text": [
            "\n",
            "\n",
            "Processing medical dataset:  14%|█▍        | 70/500 [18:35<2:24:04, 20.10s/it]\u001b[A\u001b[A"
          ]
        },
        {
          "output_type": "stream",
          "name": "stdout",
          "text": [
            "Appended result to Google Drive file: [70, 0.3529411764705882, 1.0, 0.5904720279720279, 0.712841425597893, 5.905511811023622, 4.807692307692308]\n"
          ]
        },
        {
          "output_type": "stream",
          "name": "stderr",
          "text": [
            "\n",
            "\n",
            "Processing medical dataset:  14%|█▍        | 71/500 [18:51<2:15:01, 18.88s/it]\u001b[A\u001b[A"
          ]
        },
        {
          "output_type": "stream",
          "name": "stdout",
          "text": [
            "Appended result to Google Drive file: [71, 0.5, 0.8888888888888888, 0.5306090827135452, 0.6101774042950514, 5.617977528089887, 2.083333333333333]\n"
          ]
        },
        {
          "output_type": "stream",
          "name": "stderr",
          "text": [
            "\n",
            "\n",
            "Processing medical dataset:  14%|█▍        | 72/500 [19:09<2:13:37, 18.73s/it]\u001b[A\u001b[A"
          ]
        },
        {
          "output_type": "stream",
          "name": "stdout",
          "text": [
            "Appended result to Google Drive file: [72, 0.6388888888888888, 0.8611111111111112, 0.6696336996336996, 0.6589968803696845, 5.291005291005291, 2.551020408163265]\n"
          ]
        },
        {
          "output_type": "stream",
          "name": "stderr",
          "text": [
            "\n",
            "\n",
            "Processing medical dataset:  15%|█▍        | 73/500 [19:29<2:14:23, 18.88s/it]\u001b[A\u001b[A"
          ]
        },
        {
          "output_type": "stream",
          "name": "stdout",
          "text": [
            "Appended result to Google Drive file: [73, 0.44999999999999996, 0.9833333333333333, 0.6130948883460782, 0.9182449494949495, 2.3696682464454977, 0.0]\n"
          ]
        },
        {
          "output_type": "stream",
          "name": "stderr",
          "text": [
            "\n",
            "\n",
            "Processing medical dataset:  15%|█▍        | 74/500 [19:49<2:17:07, 19.31s/it]\u001b[A\u001b[A"
          ]
        },
        {
          "output_type": "stream",
          "name": "stdout",
          "text": [
            "Appended result to Google Drive file: [74, 0.5833333333333333, 0.9444444444444444, 0.6967043314500941, 0.6843417913684667, 4.716981132075471, 2.590673575129534]\n"
          ]
        },
        {
          "output_type": "stream",
          "name": "stderr",
          "text": [
            "\n",
            "\n",
            "Processing medical dataset:  15%|█▌        | 75/500 [20:04<2:08:08, 18.09s/it]\u001b[A\u001b[A"
          ]
        },
        {
          "output_type": "stream",
          "name": "stdout",
          "text": [
            "Appended result to Google Drive file: [75, 0.5, 0.75, 0.5968441476916053, 0.7672706019871421, 2.183406113537118, 4.651162790697675]\n"
          ]
        },
        {
          "output_type": "stream",
          "name": "stderr",
          "text": [
            "\n",
            "\n",
            "Processing medical dataset:  15%|█▌        | 76/500 [20:23<2:08:31, 18.19s/it]\u001b[A\u001b[A"
          ]
        },
        {
          "output_type": "stream",
          "name": "stdout",
          "text": [
            "Appended result to Google Drive file: [76, 0.7111111111111111, 0.9333333333333333, 0.737456499713669, 0.7082125603864734, 5.813953488372093, 3.816793893129771]\n"
          ]
        },
        {
          "output_type": "stream",
          "name": "stderr",
          "text": [
            "\n",
            "\n",
            "Processing medical dataset:  15%|█▌        | 77/500 [20:41<2:08:53, 18.28s/it]\u001b[A\u001b[A"
          ]
        },
        {
          "output_type": "stream",
          "name": "stdout",
          "text": [
            "Appended result to Google Drive file: [77, 0.196078431372549, 0.47058823529411764, 0.5001402377862396, 0.6078730272596844, 0.0, 3.26797385620915]\n"
          ]
        },
        {
          "output_type": "stream",
          "name": "stderr",
          "text": [
            "\n",
            "\n",
            "Processing medical dataset:  16%|█▌        | 78/500 [20:58<2:04:38, 17.72s/it]\u001b[A\u001b[A"
          ]
        },
        {
          "output_type": "stream",
          "name": "stdout",
          "text": [
            "Appended result to Google Drive file: [78, 0.5833333333333333, 0.7222222222222222, 0.5028813086718097, 0.7102887780379382, 3.64963503649635, 0.0]\n"
          ]
        },
        {
          "output_type": "stream",
          "name": "stderr",
          "text": [
            "\n",
            "\n",
            "Processing medical dataset:  16%|█▌        | 79/500 [21:16<2:04:57, 17.81s/it]\u001b[A\u001b[A"
          ]
        },
        {
          "output_type": "stream",
          "name": "stdout",
          "text": [
            "Appended result to Google Drive file: [79, 0.30952380952380953, 0.7380952380952381, 0.5488319777055896, 0.32888888888888884, 4.999999999999999, 3.4722222222222223]\n"
          ]
        },
        {
          "output_type": "stream",
          "name": "stderr",
          "text": [
            "\n",
            "\n",
            "Processing medical dataset:  16%|█▌        | 80/500 [21:33<2:02:50, 17.55s/it]\u001b[A\u001b[A"
          ]
        },
        {
          "output_type": "stream",
          "name": "stdout",
          "text": [
            "Appended result to Google Drive file: [80, 0.33333333333333337, 0.5294117647058824, 0.5183847063546312, 0.6297658236317409, 2.6737967914438507, 0.0]\n"
          ]
        },
        {
          "output_type": "stream",
          "name": "stderr",
          "text": [
            "\n",
            "\n",
            "Processing medical dataset:  16%|█▌        | 81/500 [21:51<2:03:58, 17.75s/it]\u001b[A\u001b[A"
          ]
        },
        {
          "output_type": "stream",
          "name": "stdout",
          "text": [
            "Appended result to Google Drive file: [81, 0.3111111111111111, 0.7111111111111111, 0.5585007974481658, 0.7409279856195933, 5.555555555555555, 0.0]\n"
          ]
        },
        {
          "output_type": "stream",
          "name": "stderr",
          "text": [
            "\n",
            "\n",
            "Processing medical dataset:  16%|█▋        | 82/500 [22:09<2:05:37, 18.03s/it]\u001b[A\u001b[A"
          ]
        },
        {
          "output_type": "stream",
          "name": "stdout",
          "text": [
            "Appended result to Google Drive file: [82, 0.7111111111111111, 0.9555555555555556, 0.5724096057617821, 0.4144490044079648, 4.687500000000001, 1.9011406844106464]\n"
          ]
        },
        {
          "output_type": "stream",
          "name": "stderr",
          "text": [
            "\n",
            "\n",
            "Processing medical dataset:  17%|█▋        | 83/500 [22:34<2:18:35, 19.94s/it]\u001b[A\u001b[A"
          ]
        },
        {
          "output_type": "stream",
          "name": "stdout",
          "text": [
            "Appended result to Google Drive file: [83, 0.375, 0.875, 0.625, 0.6487659399424105, 0.0, 4.021447721179626]\n"
          ]
        },
        {
          "output_type": "stream",
          "name": "stderr",
          "text": [
            "\n",
            "\n",
            "Processing medical dataset:  17%|█▋        | 84/500 [22:52<2:15:08, 19.49s/it]\u001b[A\u001b[A"
          ]
        },
        {
          "output_type": "stream",
          "name": "stdout",
          "text": [
            "Appended result to Google Drive file: [84, 0.5625, 0.8958333333333334, 0.5719323990510432, 0.6365000551693699, 0.0, 2.8089887640449436]\n"
          ]
        },
        {
          "output_type": "stream",
          "name": "stderr",
          "text": [
            "\n",
            "\n",
            "Processing medical dataset:  17%|█▋        | 85/500 [23:14<2:19:15, 20.13s/it]\u001b[A\u001b[A"
          ]
        },
        {
          "output_type": "stream",
          "name": "stdout",
          "text": [
            "Appended result to Google Drive file: [85, 0.28888888888888886, 0.48888888888888893, 0.4913811892154551, 0.5767789697846352, 1.8796992481203008, 0.0]\n"
          ]
        },
        {
          "output_type": "stream",
          "name": "stderr",
          "text": [
            "\n",
            "\n",
            "Processing medical dataset:  17%|█▋        | 86/500 [23:28<2:06:13, 18.29s/it]\u001b[A\u001b[A"
          ]
        },
        {
          "output_type": "stream",
          "name": "stdout",
          "text": [
            "Appended result to Google Drive file: [86, 0.39682539682539686, 0.8095238095238095, 0.5806829908997092, 0.6126370083816892, 9.25925925925926, 2.314814814814815]\n"
          ]
        },
        {
          "output_type": "stream",
          "name": "stderr",
          "text": [
            "\n",
            "\n",
            "Processing medical dataset:  17%|█▋        | 87/500 [23:43<1:59:49, 17.41s/it]\u001b[A\u001b[A"
          ]
        },
        {
          "output_type": "stream",
          "name": "stdout",
          "text": [
            "Appended result to Google Drive file: [87, 0.5, 0.8148148148148149, 0.8171247357293868, 0.7735297544030586, 0.0, 0.0]\n"
          ]
        },
        {
          "output_type": "stream",
          "name": "stderr",
          "text": [
            "\n",
            "\n",
            "Processing medical dataset:  18%|█▊        | 88/500 [24:11<2:21:30, 20.61s/it]\u001b[A\u001b[A"
          ]
        },
        {
          "output_type": "stream",
          "name": "stdout",
          "text": [
            "Appended result to Google Drive file: [88, 0.6296296296296297, 0.9259259259259259, 0.8506700086763713, 0.6615602836879432, 3.8759689922480627, 3.6900369003690034]\n"
          ]
        },
        {
          "output_type": "stream",
          "name": "stderr",
          "text": [
            "\n",
            "\n",
            "Processing medical dataset:  18%|█▊        | 89/500 [24:30<2:18:00, 20.15s/it]\u001b[A\u001b[A"
          ]
        },
        {
          "output_type": "stream",
          "name": "stdout",
          "text": [
            "Appended result to Google Drive file: [89, 0.5303030303030303, 0.6666666666666667, 0.5474206669175222, 0.6375510204081632, 5.376344086021505, 2.717391304347826]\n"
          ]
        },
        {
          "output_type": "stream",
          "name": "stderr",
          "text": [
            "\n",
            "\n",
            "Processing medical dataset:  18%|█▊        | 90/500 [24:46<2:07:27, 18.65s/it]\u001b[A\u001b[A"
          ]
        },
        {
          "output_type": "stream",
          "name": "stdout",
          "text": [
            "Appended result to Google Drive file: [90, 0.5087719298245614, 0.8421052631578947, 0.618366129994037, 0.4658545588778147, 3.125, 0.0]\n"
          ]
        },
        {
          "output_type": "stream",
          "name": "stderr",
          "text": [
            "\n",
            "\n",
            "Processing medical dataset:  18%|█▊        | 91/500 [25:04<2:06:11, 18.51s/it]\u001b[A\u001b[A"
          ]
        },
        {
          "output_type": "stream",
          "name": "stdout",
          "text": [
            "Appended result to Google Drive file: [91, 0.6842105263157895, 0.8245614035087719, 0.54, 0.6780643312558206, 1.893939393939394, 2.0161290322580645]\n"
          ]
        },
        {
          "output_type": "stream",
          "name": "stderr",
          "text": [
            "\n",
            "\n",
            "Processing medical dataset:  18%|█▊        | 92/500 [25:23<2:07:48, 18.80s/it]\u001b[A\u001b[A"
          ]
        },
        {
          "output_type": "stream",
          "name": "stdout",
          "text": [
            "Appended result to Google Drive file: [92, 0.3157894736842105, 0.8947368421052632, 0.4969751966122202, 0.3925956292153476, 5.836575875486381, 2.7397260273972606]\n"
          ]
        },
        {
          "output_type": "stream",
          "name": "stderr",
          "text": [
            "\n",
            "\n",
            "Processing medical dataset:  19%|█▊        | 93/500 [25:43<2:08:34, 18.95s/it]\u001b[A\u001b[A"
          ]
        },
        {
          "output_type": "stream",
          "name": "stdout",
          "text": [
            "Appended result to Google Drive file: [93, 0.4242424242424242, 0.7575757575757576, 0.5876185541787199, 0.4692398698609879, 3.1055900621118013, 0.0]\n"
          ]
        },
        {
          "output_type": "stream",
          "name": "stderr",
          "text": [
            "\n",
            "\n",
            "Processing medical dataset:  19%|█▉        | 94/500 [26:04<2:13:52, 19.78s/it]\u001b[A\u001b[A"
          ]
        },
        {
          "output_type": "stream",
          "name": "stdout",
          "text": [
            "Appended result to Google Drive file: [94, 0.49122807017543857, 0.6491228070175439, 0.6900466125921834, 0.7256671899529042, 5.05050505050505, 0.0]\n"
          ]
        },
        {
          "output_type": "stream",
          "name": "stderr",
          "text": [
            "\n",
            "\n",
            "Processing medical dataset:  19%|█▉        | 95/500 [26:21<2:08:19, 19.01s/it]\u001b[A\u001b[A"
          ]
        },
        {
          "output_type": "stream",
          "name": "stdout",
          "text": [
            "Appended result to Google Drive file: [95, 0.6666666666666667, 1.0666666666666667, 0.3015044558888812, 0.6975471698113207, 2.0, 3.731343283582089]\n"
          ]
        },
        {
          "output_type": "stream",
          "name": "stderr",
          "text": [
            "\n",
            "\n",
            "Processing medical dataset:  19%|█▉        | 96/500 [26:42<2:10:08, 19.33s/it]\u001b[A\u001b[A"
          ]
        },
        {
          "output_type": "stream",
          "name": "stdout",
          "text": [
            "Appended result to Google Drive file: [96, 0.47619047619047616, 0.6190476190476191, 0.7259137726734117, 0.2321797889031522, 5.88235294117647, 11.363636363636363]\n"
          ]
        },
        {
          "output_type": "stream",
          "name": "stderr",
          "text": [
            "\n",
            "\n",
            "Processing medical dataset:  19%|█▉        | 97/500 [26:59<2:05:18, 18.66s/it]\u001b[A\u001b[A"
          ]
        },
        {
          "output_type": "stream",
          "name": "stdout",
          "text": [
            "Appended result to Google Drive file: [97, 0.5777777777777777, 1.0, 0.5158180590616259, 0.7982773963895244, 4.694835680751173, 0.0]\n"
          ]
        },
        {
          "output_type": "stream",
          "name": "stderr",
          "text": [
            "\n",
            "\n",
            "Processing medical dataset:  20%|█▉        | 98/500 [27:16<2:02:25, 18.27s/it]\u001b[A\u001b[A"
          ]
        },
        {
          "output_type": "stream",
          "name": "stdout",
          "text": [
            "Appended result to Google Drive file: [98, 0.4666666666666667, 0.5666666666666667, 0.7893891191876344, 0.6613562091503268, 4.115226337448559, 4.115226337448559]\n"
          ]
        },
        {
          "output_type": "stream",
          "name": "stderr",
          "text": [
            "\n",
            "\n",
            "Processing medical dataset:  20%|█▉        | 99/500 [27:31<1:55:01, 17.21s/it]\u001b[A\u001b[A"
          ]
        },
        {
          "output_type": "stream",
          "name": "stdout",
          "text": [
            "Appended result to Google Drive file: [99, 0.36111111111111116, 0.8333333333333334, 0.45669934640522875, 0.6233439041578577, 3.4722222222222223, 6.802721088435374]\n"
          ]
        },
        {
          "output_type": "stream",
          "name": "stderr",
          "text": [
            "\n",
            "\n",
            "Processing medical dataset:  20%|██        | 100/500 [27:49<1:56:02, 17.41s/it]\u001b[A\u001b[A"
          ]
        },
        {
          "output_type": "stream",
          "name": "stdout",
          "text": [
            "Appended result to Google Drive file: [100, 0.4117647058823529, 0.5294117647058824, 0.7087581699346405, 0.5878545982319566, 2.717391304347826, 2.7322404371584694]\n"
          ]
        },
        {
          "output_type": "stream",
          "name": "stderr",
          "text": [
            "\n",
            "\n",
            "Processing medical dataset:  20%|██        | 101/500 [28:04<1:52:16, 16.88s/it]\u001b[A\u001b[A"
          ]
        },
        {
          "output_type": "stream",
          "name": "stdout",
          "text": [
            "Appended result to Google Drive file: [101, 0.47619047619047616, 1.0, 0.5608067788518917, 0.9333333333333332, 0.0, 0.0]\n"
          ]
        },
        {
          "output_type": "stream",
          "name": "stderr",
          "text": [
            "\n",
            "\n",
            "Processing medical dataset:  20%|██        | 102/500 [28:24<1:58:02, 17.79s/it]\u001b[A\u001b[A"
          ]
        },
        {
          "output_type": "stream",
          "name": "stdout",
          "text": [
            "Appended result to Google Drive file: [102, 0.6842105263157895, 0.9122807017543859, 0.6217843631778058, 0.7550579913663079, 2.2123893805309733, 0.0]\n"
          ]
        },
        {
          "output_type": "stream",
          "name": "stderr",
          "text": [
            "\n",
            "\n",
            "Processing medical dataset:  21%|██        | 103/500 [28:46<2:06:07, 19.06s/it]\u001b[A\u001b[A"
          ]
        },
        {
          "output_type": "stream",
          "name": "stdout",
          "text": [
            "Appended result to Google Drive file: [103, 0.45833333333333337, 0.7291666666666667, 0.7003798670465337, 0.7889492753623188, 5.025125628140703, 0.0]\n"
          ]
        },
        {
          "output_type": "stream",
          "name": "stderr",
          "text": [
            "\n",
            "\n",
            "Processing medical dataset:  21%|██        | 104/500 [29:04<2:03:24, 18.70s/it]\u001b[A\u001b[A"
          ]
        },
        {
          "output_type": "stream",
          "name": "stdout",
          "text": [
            "Appended result to Google Drive file: [104, 0.4222222222222223, 0.8, 0.5681818181818182, 0.6140873015873015, 0.0, 5.74712643678161]\n"
          ]
        },
        {
          "output_type": "stream",
          "name": "stderr",
          "text": [
            "\n",
            "\n",
            "Processing medical dataset:  21%|██        | 105/500 [29:20<1:58:14, 17.96s/it]\u001b[A\u001b[A"
          ]
        },
        {
          "output_type": "stream",
          "name": "stdout",
          "text": [
            "Appended result to Google Drive file: [105, 0.5185185185185186, 0.8148148148148149, 0.5176864368657411, 0.5575573138567661, 5.10204081632653, 2.0661157024793386]\n"
          ]
        },
        {
          "output_type": "stream",
          "name": "stderr",
          "text": [
            "\n",
            "\n",
            "Processing medical dataset:  21%|██        | 106/500 [29:36<1:54:25, 17.42s/it]\u001b[A\u001b[A"
          ]
        },
        {
          "output_type": "stream",
          "name": "stdout",
          "text": [
            "Appended result to Google Drive file: [106, 0.6222222222222222, 0.8666666666666667, 0.7908496732026143, 0.7643583802272979, 0.0, 1.6286644951140066]\n"
          ]
        },
        {
          "output_type": "stream",
          "name": "stderr",
          "text": [
            "\n",
            "\n",
            "Processing medical dataset:  21%|██▏       | 107/500 [29:54<1:53:27, 17.32s/it]\u001b[A\u001b[A"
          ]
        },
        {
          "output_type": "stream",
          "name": "stdout",
          "text": [
            "Appended result to Google Drive file: [107, 0.5185185185185186, 0.7592592592592593, 0.5106774228596263, 0.5729885057471265, 1.5384615384615383, 0.0]\n"
          ]
        },
        {
          "output_type": "stream",
          "name": "stderr",
          "text": [
            "\n",
            "\n",
            "Processing medical dataset:  22%|██▏       | 108/500 [30:12<1:55:10, 17.63s/it]\u001b[A\u001b[A"
          ]
        },
        {
          "output_type": "stream",
          "name": "stdout",
          "text": [
            "Appended result to Google Drive file: [108, 0.6, 1.0666666666666667, 0.708492714025501, 1.0, 2.1551724137931028, 0.0]\n"
          ]
        },
        {
          "output_type": "stream",
          "name": "stderr",
          "text": [
            "\n",
            "\n",
            "Processing medical dataset:  22%|██▏       | 109/500 [30:38<2:11:20, 20.15s/it]\u001b[A\u001b[A"
          ]
        },
        {
          "output_type": "stream",
          "name": "stdout",
          "text": [
            "Appended result to Google Drive file: [109, 0.5294117647058824, 0.5686274509803921, 0.6381203337725077, 0.7651515151515151, 2.793296089385475, 2.590673575129534]\n"
          ]
        },
        {
          "output_type": "stream",
          "name": "stderr",
          "text": [
            "\n",
            "\n",
            "Processing medical dataset:  22%|██▏       | 110/500 [30:56<2:06:44, 19.50s/it]\u001b[A\u001b[A"
          ]
        },
        {
          "output_type": "stream",
          "name": "stdout",
          "text": [
            "Appended result to Google Drive file: [110, 0.5952380952380952, 0.9047619047619048, 0.5577876984126985, 0.6409606493819263, 1.3404825737265413, 1.4245014245014245]\n"
          ]
        },
        {
          "output_type": "stream",
          "name": "stderr",
          "text": [
            "\n",
            "\n",
            "Processing medical dataset:  22%|██▏       | 111/500 [31:11<1:57:34, 18.14s/it]\u001b[A\u001b[A"
          ]
        },
        {
          "output_type": "stream",
          "name": "stdout",
          "text": [
            "Appended result to Google Drive file: [111, 0.30952380952380953, 0.7619047619047619, 0.6295458248946622, 0.6233802720389214, 6.944444444444445, 4.048582995951417]\n"
          ]
        },
        {
          "output_type": "stream",
          "name": "stderr",
          "text": [
            "\n",
            "\n",
            "Processing medical dataset:  22%|██▏       | 112/500 [31:23<1:45:48, 16.36s/it]\u001b[A\u001b[A"
          ]
        },
        {
          "output_type": "stream",
          "name": "stdout",
          "text": [
            "Appended result to Google Drive file: [112, 0.37777777777777777, 0.5111111111111111, 0.5899813251269103, 0.5149911816578484, 5.154639175257733, 5.181347150259068]\n"
          ]
        },
        {
          "output_type": "stream",
          "name": "stderr",
          "text": [
            "\n",
            "\n",
            "Processing medical dataset:  23%|██▎       | 113/500 [31:42<1:50:42, 17.16s/it]\u001b[A\u001b[A"
          ]
        },
        {
          "output_type": "stream",
          "name": "stdout",
          "text": [
            "Appended result to Google Drive file: [113, 0.5833333333333333, 0.875, 0.595774683038834, 0.7151757369614513, 2.873563218390805, 0.0]\n"
          ]
        },
        {
          "output_type": "stream",
          "name": "stderr",
          "text": [
            "\n",
            "\n",
            "Processing medical dataset:  23%|██▎       | 114/500 [32:02<1:54:43, 17.83s/it]\u001b[A\u001b[A"
          ]
        },
        {
          "output_type": "stream",
          "name": "stdout",
          "text": [
            "Appended result to Google Drive file: [114, 0.41666666666666663, 0.8958333333333334, 0.6772141229768348, 0.5778616352201258, 3.4642032332563506, 2.0491803278688527]\n"
          ]
        },
        {
          "output_type": "stream",
          "name": "stderr",
          "text": [
            "\n",
            "\n",
            "Processing medical dataset:  23%|██▎       | 115/500 [32:23<2:01:54, 19.00s/it]\u001b[A\u001b[A"
          ]
        },
        {
          "output_type": "stream",
          "name": "stdout",
          "text": [
            "Appended result to Google Drive file: [115, 0.29166666666666663, 0.6875, 0.34282935455349245, 0.677847018572825, 5.28169014084507, 4.411764705882352]\n"
          ]
        },
        {
          "output_type": "stream",
          "name": "stderr",
          "text": [
            "\n",
            "\n",
            "Processing medical dataset:  23%|██▎       | 116/500 [32:40<1:56:44, 18.24s/it]\u001b[A\u001b[A"
          ]
        },
        {
          "output_type": "stream",
          "name": "stdout",
          "text": [
            "Appended result to Google Drive file: [116, 0.375, 0.625, 0.5119043484301194, 0.671875, 5.181347150259068, 4.048582995951416]\n"
          ]
        },
        {
          "output_type": "stream",
          "name": "stderr",
          "text": [
            "\n",
            "\n",
            "Processing medical dataset:  23%|██▎       | 117/500 [32:56<1:52:13, 17.58s/it]\u001b[A\u001b[A"
          ]
        },
        {
          "output_type": "stream",
          "name": "stdout",
          "text": [
            "Appended result to Google Drive file: [117, 0.19047619047619047, 0.9523809523809523, 0.5484122345606858, 0.526521164021164, 5.0675675675675675, 4.444444444444444]\n"
          ]
        },
        {
          "output_type": "stream",
          "name": "stderr",
          "text": [
            "\n",
            "\n",
            "Processing medical dataset:  24%|██▎       | 118/500 [33:14<1:52:37, 17.69s/it]\u001b[A\u001b[A"
          ]
        },
        {
          "output_type": "stream",
          "name": "stdout",
          "text": [
            "Appended result to Google Drive file: [118, 0.33333333333333337, 0.7555555555555555, 0.7292389116176375, 0.7593073593073593, 4.518072289156626, 4.82315112540193]\n"
          ]
        },
        {
          "output_type": "stream",
          "name": "stderr",
          "text": [
            "\n",
            "\n",
            "Processing medical dataset:  24%|██▍       | 119/500 [33:31<1:52:17, 17.68s/it]\u001b[A\u001b[A"
          ]
        },
        {
          "output_type": "stream",
          "name": "stdout",
          "text": [
            "Appended result to Google Drive file: [119, 0.42105263157894735, 0.9824561403508771, 0.41721230158730155, 0.6209337144412684, 2.6595744680851063, 4.587155963302752]\n"
          ]
        },
        {
          "output_type": "stream",
          "name": "stderr",
          "text": [
            "\n",
            "\n",
            "Processing medical dataset:  24%|██▍       | 120/500 [33:46<1:45:51, 16.71s/it]\u001b[A\u001b[A"
          ]
        },
        {
          "output_type": "stream",
          "name": "stdout",
          "text": [
            "Appended result to Google Drive file: [120, 0.6458333333333333, 0.7083333333333333, 0.5183563748079877, 0.706950354609929, 6.25, 7.009345794392523]\n"
          ]
        },
        {
          "output_type": "stream",
          "name": "stderr",
          "text": [
            "\n",
            "\n",
            "Processing medical dataset:  24%|██▍       | 121/500 [34:02<1:44:11, 16.49s/it]\u001b[A\u001b[A"
          ]
        },
        {
          "output_type": "stream",
          "name": "stdout",
          "text": [
            "Appended result to Google Drive file: [121, 0.22916666666666663, 0.875, 0.752485380116959, 0.8129319955406912, 7.8125, 3.4246575342465753]\n"
          ]
        },
        {
          "output_type": "stream",
          "name": "stderr",
          "text": [
            "\n",
            "\n",
            "Processing medical dataset:  24%|██▍       | 122/500 [34:15<1:36:46, 15.36s/it]\u001b[A\u001b[A"
          ]
        },
        {
          "output_type": "stream",
          "name": "stdout",
          "text": [
            "Appended result to Google Drive file: [122, 0.23809523809523814, 0.5555555555555556, 0.6211770807052953, 0.6072396438250096, 5.376344086021505, 0.0]\n"
          ]
        },
        {
          "output_type": "stream",
          "name": "stderr",
          "text": [
            "\n",
            "\n",
            "Processing medical dataset:  25%|██▍       | 123/500 [34:29<1:35:06, 15.14s/it]\u001b[A\u001b[A"
          ]
        },
        {
          "output_type": "stream",
          "name": "stdout",
          "text": [
            "Appended result to Google Drive file: [123, 0.3571428571428571, 0.7380952380952381, 0.6535220761712167, 0.4365079365079365, 5.376344086021505, 6.097560975609756]\n"
          ]
        },
        {
          "output_type": "stream",
          "name": "stderr",
          "text": [
            "\n",
            "\n",
            "Processing medical dataset:  25%|██▍       | 124/500 [34:45<1:36:00, 15.32s/it]\u001b[A\u001b[A"
          ]
        },
        {
          "output_type": "stream",
          "name": "stdout",
          "text": [
            "Appended result to Google Drive file: [124, 0.2222222222222222, 0.7111111111111111, 0.145578231292517, 0.6535220761712166, 3.6231884057971016, 7.462686567164178]\n"
          ]
        },
        {
          "output_type": "stream",
          "name": "stderr",
          "text": [
            "\n",
            "\n",
            "Processing medical dataset:  25%|██▌       | 125/500 [35:08<1:49:41, 17.55s/it]\u001b[A\u001b[A"
          ]
        },
        {
          "output_type": "stream",
          "name": "stdout",
          "text": [
            "Appended result to Google Drive file: [125, 0.5098039215686274, 0.6862745098039216, 0.6279006967531559, 0.2077854011816276, 4.201680672268907, 2.3255813953488373]\n"
          ]
        },
        {
          "output_type": "stream",
          "name": "stderr",
          "text": [
            "\n",
            "\n",
            "Processing medical dataset:  25%|██▌       | 126/500 [35:33<2:03:36, 19.83s/it]\u001b[A\u001b[A"
          ]
        },
        {
          "output_type": "stream",
          "name": "stdout",
          "text": [
            "Appended result to Google Drive file: [126, 0.46153846153846156, 0.8205128205128205, 0.5545689974102849, 0.5625772782015255, 5.555555555555555, 0.0]\n"
          ]
        },
        {
          "output_type": "stream",
          "name": "stderr",
          "text": [
            "\n",
            "\n",
            "Processing medical dataset:  25%|██▌       | 127/500 [35:51<2:00:03, 19.31s/it]\u001b[A\u001b[A"
          ]
        },
        {
          "output_type": "stream",
          "name": "stdout",
          "text": [
            "Appended result to Google Drive file: [127, 0.5625, 0.75, 0.6922412737110367, 0.6390974792878548, 4.219409282700421, 0.0]\n"
          ]
        },
        {
          "output_type": "stream",
          "name": "stderr",
          "text": [
            "\n",
            "\n",
            "Processing medical dataset:  26%|██▌       | 128/500 [36:15<2:09:24, 20.87s/it]\u001b[A\u001b[A"
          ]
        },
        {
          "output_type": "stream",
          "name": "stdout",
          "text": [
            "Appended result to Google Drive file: [128, 0.4444444444444444, 1.3333333333333333, 0.7266378753158236, 0.9023167675285775, 2.923976608187134, 2.4937655860349124]\n"
          ]
        },
        {
          "output_type": "stream",
          "name": "stderr",
          "text": [
            "\n",
            "\n",
            "Processing medical dataset:  26%|██▌       | 129/500 [36:39<2:13:24, 21.58s/it]\u001b[A\u001b[A"
          ]
        },
        {
          "output_type": "stream",
          "name": "stdout",
          "text": [
            "Appended result to Google Drive file: [129, 0.15384615384615385, 0.8461538461538461, 0.6269994812914441, 0.9583333333333334, 2.512562814070352, 4.065040650406504]\n"
          ]
        },
        {
          "output_type": "stream",
          "name": "stderr",
          "text": [
            "\n",
            "\n",
            "Processing medical dataset:  26%|██▌       | 130/500 [37:04<2:20:05, 22.72s/it]\u001b[A\u001b[A"
          ]
        },
        {
          "output_type": "stream",
          "name": "stdout",
          "text": [
            "Appended result to Google Drive file: [130, 0.5111111111111111, 1.7111111111111112, 0.7973157924138317, 0.8986013986013986, 2.67379679144385, 1.3262599469496024]\n"
          ]
        },
        {
          "output_type": "stream",
          "name": "stderr",
          "text": [
            "\n",
            "\n",
            "Processing medical dataset:  26%|██▌       | 131/500 [37:23<2:12:47, 21.59s/it]\u001b[A\u001b[A"
          ]
        },
        {
          "output_type": "stream",
          "name": "stdout",
          "text": [
            "Appended result to Google Drive file: [131, 0.5, 0.7166666666666667, 0.7274556429486007, 0.7488262910798121, 2.1881838074398257, 3.5211267605633805]\n"
          ]
        },
        {
          "output_type": "stream",
          "name": "stderr",
          "text": [
            "\n",
            "\n",
            "Processing medical dataset:  26%|██▋       | 132/500 [37:43<2:08:59, 21.03s/it]\u001b[A\u001b[A"
          ]
        },
        {
          "output_type": "stream",
          "name": "stdout",
          "text": [
            "Appended result to Google Drive file: [132, 0.39682539682539686, 0.6349206349206349, 0.4679146322981939, 0.4972677595628416, 4.545454545454545, 0.0]\n"
          ]
        },
        {
          "output_type": "stream",
          "name": "stderr",
          "text": [
            "\n",
            "\n",
            "Processing medical dataset:  27%|██▋       | 133/500 [38:03<2:06:52, 20.74s/it]\u001b[A\u001b[A"
          ]
        },
        {
          "output_type": "stream",
          "name": "stdout",
          "text": [
            "Appended result to Google Drive file: [133, 0.33333333333333337, 0.8518518518518519, 0.5820546862652126, 0.5111568221447254, 3.73134328358209, 2.3255813953488373]\n"
          ]
        },
        {
          "output_type": "stream",
          "name": "stderr",
          "text": [
            "\n",
            "\n",
            "Processing medical dataset:  27%|██▋       | 134/500 [38:20<2:00:06, 19.69s/it]\u001b[A\u001b[A"
          ]
        },
        {
          "output_type": "stream",
          "name": "stdout",
          "text": [
            "Appended result to Google Drive file: [134, 0.4444444444444444, 0.9333333333333333, 0.5525490196078432, 1.0, 5.769230769230769, 2.976190476190476]\n"
          ]
        },
        {
          "output_type": "stream",
          "name": "stderr",
          "text": [
            "\n",
            "\n",
            "Processing medical dataset:  27%|██▋       | 135/500 [38:35<1:51:59, 18.41s/it]\u001b[A\u001b[A"
          ]
        },
        {
          "output_type": "stream",
          "name": "stdout",
          "text": [
            "Appended result to Google Drive file: [135, 0.40476190476190477, 0.9761904761904762, 0.6152421652421652, 0.8826777087646652, 1.8450184501845017, 3.3783783783783785]\n"
          ]
        },
        {
          "output_type": "stream",
          "name": "stderr",
          "text": [
            "\n",
            "\n",
            "Processing medical dataset:  27%|██▋       | 136/500 [38:50<1:44:00, 17.15s/it]\u001b[A\u001b[A"
          ]
        },
        {
          "output_type": "stream",
          "name": "stdout",
          "text": [
            "Appended result to Google Drive file: [136, 0.4629629629629629, 0.7962962962962963, 0.6347913524384112, 0.8047138047138048, 5.2264808362369335, 1.7730496453900706]\n"
          ]
        },
        {
          "output_type": "stream",
          "name": "stderr",
          "text": [
            "\n",
            "\n",
            "Processing medical dataset:  27%|██▋       | 137/500 [39:05<1:40:13, 16.57s/it]\u001b[A\u001b[A"
          ]
        },
        {
          "output_type": "stream",
          "name": "stdout",
          "text": [
            "Appended result to Google Drive file: [137, 0.43137254901960786, 0.6274509803921569, 0.591859410430839, 0.4655975955410983, 0.0, 2.9239766081871346]\n"
          ]
        },
        {
          "output_type": "stream",
          "name": "stderr",
          "text": [
            "\n",
            "\n",
            "Processing medical dataset:  28%|██▊       | 138/500 [39:21<1:38:46, 16.37s/it]\u001b[A\u001b[A"
          ]
        },
        {
          "output_type": "stream",
          "name": "stdout",
          "text": [
            "Appended result to Google Drive file: [138, 0.41666666666666663, 0.6458333333333333, 0.5307591004254745, 0.6425375683060109, 2.2727272727272725, 0.0]\n"
          ]
        },
        {
          "output_type": "stream",
          "name": "stderr",
          "text": [
            "\n",
            "\n",
            "Processing medical dataset:  28%|██▊       | 139/500 [39:38<1:40:10, 16.65s/it]\u001b[A\u001b[A"
          ]
        },
        {
          "output_type": "stream",
          "name": "stdout",
          "text": [
            "Appended result to Google Drive file: [139, 0.33333333333333337, 0.6875, 0.47648856099560327, 0.526888604353393, 2.3696682464454977, 2.415458937198068]\n"
          ]
        },
        {
          "output_type": "stream",
          "name": "stderr",
          "text": [
            "\n",
            "\n",
            "Processing medical dataset:  28%|██▊       | 140/500 [39:55<1:41:01, 16.84s/it]\u001b[A\u001b[A"
          ]
        },
        {
          "output_type": "stream",
          "name": "stdout",
          "text": [
            "Appended result to Google Drive file: [140, 0.23076923076923073, 0.7435897435897436, 0.5368961143779546, 0.534688013136289, 2.8901734104046244, 2.9069767441860463]\n"
          ]
        },
        {
          "output_type": "stream",
          "name": "stderr",
          "text": [
            "\n",
            "\n",
            "Processing medical dataset:  28%|██▊       | 141/500 [40:11<1:39:22, 16.61s/it]\u001b[A\u001b[A"
          ]
        },
        {
          "output_type": "stream",
          "name": "stdout",
          "text": [
            "Appended result to Google Drive file: [141, 0.31666666666666665, 0.6166666666666667, 0.505889724310777, 0.5346814393926719, 2.314814814814815, 0.0]\n"
          ]
        },
        {
          "output_type": "stream",
          "name": "stderr",
          "text": [
            "\n",
            "\n",
            "Processing medical dataset:  28%|██▊       | 142/500 [40:25<1:33:27, 15.66s/it]\u001b[A\u001b[A"
          ]
        },
        {
          "output_type": "stream",
          "name": "stdout",
          "text": [
            "Appended result to Google Drive file: [142, 0.42592592592592593, 0.8703703703703703, 0.4331529581529581, 0.5066666666666667, 3.861003861003861, 4.366812227074236]\n"
          ]
        },
        {
          "output_type": "stream",
          "name": "stderr",
          "text": [
            "\n",
            "\n",
            "Processing medical dataset:  29%|██▊       | 143/500 [40:43<1:37:17, 16.35s/it]\u001b[A\u001b[A"
          ]
        },
        {
          "output_type": "stream",
          "name": "stdout",
          "text": [
            "Appended result to Google Drive file: [143, 0.5303030303030303, 1.0303030303030303, 0.5128205128205128, 0.4700971529661058, 3.8910505836575875, 2.67379679144385]\n"
          ]
        },
        {
          "output_type": "stream",
          "name": "stderr",
          "text": [
            "\n",
            "\n",
            "Processing medical dataset:  29%|██▉       | 144/500 [41:04<1:44:48, 17.67s/it]\u001b[A\u001b[A"
          ]
        },
        {
          "output_type": "stream",
          "name": "stdout",
          "text": [
            "Appended result to Google Drive file: [144, 0.30000000000000004, 0.5333333333333333, 0.48161375661375666, 0.6666960455960984, 2.1929824561403506, 2.3584905660377355]\n"
          ]
        },
        {
          "output_type": "stream",
          "name": "stderr",
          "text": [
            "\n",
            "\n",
            "Processing medical dataset:  29%|██▉       | 145/500 [41:22<1:45:25, 17.82s/it]\u001b[A\u001b[A"
          ]
        },
        {
          "output_type": "stream",
          "name": "stdout",
          "text": [
            "Appended result to Google Drive file: [145, 0.6111111111111112, 0.9814814814814815, 0.6889073458840901, 0.7124023908223273, 3.2467532467532463, 2.941176470588235]\n"
          ]
        },
        {
          "output_type": "stream",
          "name": "stderr",
          "text": [
            "\n",
            "\n",
            "Processing medical dataset:  29%|██▉       | 146/500 [41:33<1:33:51, 15.91s/it]\u001b[A\u001b[A"
          ]
        },
        {
          "output_type": "stream",
          "name": "stdout",
          "text": [
            "Appended result to Google Drive file: [146, 0.375, 0.625, 0.7722824038613512, 0.6923463900357353, 7.042253521126761, 3.1055900621118013]\n"
          ]
        },
        {
          "output_type": "stream",
          "name": "stderr",
          "text": [
            "\n",
            "\n",
            "Processing medical dataset:  29%|██▉       | 147/500 [41:47<1:30:21, 15.36s/it]\u001b[A\u001b[A"
          ]
        },
        {
          "output_type": "stream",
          "name": "stdout",
          "text": [
            "Appended result to Google Drive file: [147, 0.5555555555555556, 0.6666666666666667, 0.6186316999006123, 0.6608610948762906, 2.793296089385475, 2.5125628140703515]\n"
          ]
        },
        {
          "output_type": "stream",
          "name": "stderr",
          "text": [
            "\n",
            "\n",
            "Processing medical dataset:  30%|██▉       | 148/500 [42:06<1:36:51, 16.51s/it]\u001b[A\u001b[A"
          ]
        },
        {
          "output_type": "stream",
          "name": "stdout",
          "text": [
            "Appended result to Google Drive file: [148, 0.4722222222222222, 1.4722222222222223, 0.5495595528906655, 0.486861426484068, 4.444444444444445, 0.0]\n"
          ]
        },
        {
          "output_type": "stream",
          "name": "stderr",
          "text": [
            "\n",
            "\n",
            "Processing medical dataset:  30%|██▉       | 149/500 [42:24<1:37:40, 16.70s/it]\u001b[A\u001b[A"
          ]
        },
        {
          "output_type": "stream",
          "name": "stdout",
          "text": [
            "Appended result to Google Drive file: [149, 0.48888888888888893, 1.2222222222222223, 0.6635883520074697, 0.7417091426734629, 4.651162790697675, 4.4843049327354265]\n"
          ]
        },
        {
          "output_type": "stream",
          "name": "stderr",
          "text": [
            "\n",
            "\n",
            "Processing medical dataset:  30%|███       | 150/500 [42:44<1:43:39, 17.77s/it]\u001b[A\u001b[A"
          ]
        },
        {
          "output_type": "stream",
          "name": "stdout",
          "text": [
            "Appended result to Google Drive file: [150, 0.28205128205128205, 0.8717948717948718, 0.46, 0.580952380952381, 2.5380710659898478, 4.132231404958677]\n"
          ]
        },
        {
          "output_type": "stream",
          "name": "stderr",
          "text": [
            "\n",
            "\n",
            "Processing medical dataset:  30%|███       | 151/500 [42:57<1:35:10, 16.36s/it]\u001b[A\u001b[A"
          ]
        },
        {
          "output_type": "stream",
          "name": "stdout",
          "text": [
            "Appended result to Google Drive file: [151, 0.2666666666666667, 0.5555555555555556, 0.5949973280716899, 0.6201814058956916, 2.7777777777777777, 2.6315789473684212]\n"
          ]
        },
        {
          "output_type": "stream",
          "name": "stderr",
          "text": [
            "\n",
            "\n",
            "Processing medical dataset:  30%|███       | 152/500 [43:15<1:38:36, 17.00s/it]\u001b[A\u001b[A"
          ]
        },
        {
          "output_type": "stream",
          "name": "stdout",
          "text": [
            "Appended result to Google Drive file: [152, 0.5666666666666667, 1.4166666666666667, 0.6421130952380952, 0.737750811280223, 0.0, 3.1347962382445136]\n"
          ]
        },
        {
          "output_type": "stream",
          "name": "stderr",
          "text": [
            "\n",
            "\n",
            "Processing medical dataset:  31%|███       | 153/500 [43:29<1:32:23, 15.97s/it]\u001b[A\u001b[A"
          ]
        },
        {
          "output_type": "stream",
          "name": "stdout",
          "text": [
            "Appended result to Google Drive file: [153, 0.6862745098039216, 1.0196078431372548, 0.6030032708890871, 0.39150326797385615, 2.5380710659898478, 3.64963503649635]\n"
          ]
        },
        {
          "output_type": "stream",
          "name": "stderr",
          "text": [
            "\n",
            "\n",
            "Processing medical dataset:  31%|███       | 154/500 [43:50<1:41:23, 17.58s/it]\u001b[A\u001b[A"
          ]
        },
        {
          "output_type": "stream",
          "name": "stdout",
          "text": [
            "Appended result to Google Drive file: [154, 0.4814814814814815, 0.7592592592592593, 0.47311063728974173, 0.5212104334911353, 2.0325203252032518, 2.4271844660194177]\n"
          ]
        },
        {
          "output_type": "stream",
          "name": "stderr",
          "text": [
            "\n",
            "\n",
            "Processing medical dataset:  31%|███       | 155/500 [44:04<1:34:23, 16.42s/it]\u001b[A\u001b[A"
          ]
        },
        {
          "output_type": "stream",
          "name": "stdout",
          "text": [
            "Appended result to Google Drive file: [155, 0.5, 0.7142857142857143, 0.6564050235478807, 0.6196315192743764, 4.23728813559322, 4.4642857142857135]\n"
          ]
        },
        {
          "output_type": "stream",
          "name": "stderr",
          "text": [
            "\n",
            "\n",
            "Processing medical dataset:  31%|███       | 156/500 [44:18<1:29:58, 15.69s/it]\u001b[A\u001b[A"
          ]
        },
        {
          "output_type": "stream",
          "name": "stdout",
          "text": [
            "Appended result to Google Drive file: [156, 0.7272727272727273, 0.9848484848484849, 0.5949770258980785, 0.46849179923541745, 5.639097744360902, 3.6764705882352944]\n"
          ]
        },
        {
          "output_type": "stream",
          "name": "stderr",
          "text": [
            "\n",
            "\n",
            "Processing medical dataset:  31%|███▏      | 157/500 [44:36<1:33:46, 16.40s/it]\u001b[A\u001b[A"
          ]
        },
        {
          "output_type": "stream",
          "name": "stdout",
          "text": [
            "Appended result to Google Drive file: [157, 0.7083333333333333, 0.8541666666666666, 0.6662890341321713, 0.7171843251088535, 5.025125628140703, 4.694835680751173]\n"
          ]
        },
        {
          "output_type": "stream",
          "name": "stderr",
          "text": [
            "\n",
            "\n",
            "Processing medical dataset:  32%|███▏      | 158/500 [44:54<1:36:27, 16.92s/it]\u001b[A\u001b[A"
          ]
        },
        {
          "output_type": "stream",
          "name": "stdout",
          "text": [
            "Appended result to Google Drive file: [158, 0.5555555555555556, 0.537037037037037, 0.6981966845878137, 0.26996927803379417, 2.2421524663677133, 2.1367521367521363]\n"
          ]
        },
        {
          "output_type": "stream",
          "name": "stderr",
          "text": [
            "\n",
            "\n",
            "Processing medical dataset:  32%|███▏      | 159/500 [45:16<1:44:54, 18.46s/it]\u001b[A\u001b[A"
          ]
        },
        {
          "output_type": "stream",
          "name": "stdout",
          "text": [
            "Appended result to Google Drive file: [159, 0.21052631578947367, 0.736842105263158, 0.4460093896713615, 0.6010111200789168, 2.3474178403755865, 2.5125628140703515]\n"
          ]
        },
        {
          "output_type": "stream",
          "name": "stderr",
          "text": [
            "\n",
            "\n",
            "Processing medical dataset:  32%|███▏      | 160/500 [45:33<1:42:22, 18.07s/it]\u001b[A\u001b[A"
          ]
        },
        {
          "output_type": "stream",
          "name": "stdout",
          "text": [
            "Appended result to Google Drive file: [160, 0.7777777777777778, 0.9444444444444444, 0.7188999630860096, 0.35772357723577236, 4.081632653061225, 2.0242914979757085]\n"
          ]
        },
        {
          "output_type": "stream",
          "name": "stderr",
          "text": [
            "\n",
            "\n",
            "Processing medical dataset:  32%|███▏      | 161/500 [45:50<1:39:06, 17.54s/it]\u001b[A\u001b[A"
          ]
        },
        {
          "output_type": "stream",
          "name": "stdout",
          "text": [
            "Appended result to Google Drive file: [161, 0.37777777777777777, 0.6888888888888889, 0.5414556707660156, 0.7467343976777938, 0.0, 5.3475935828877015]\n"
          ]
        },
        {
          "output_type": "stream",
          "name": "stderr",
          "text": [
            "\n",
            "\n",
            "Processing medical dataset:  32%|███▏      | 162/500 [46:07<1:37:49, 17.37s/it]\u001b[A\u001b[A"
          ]
        },
        {
          "output_type": "stream",
          "name": "stdout",
          "text": [
            "Appended result to Google Drive file: [162, 0.125, 0.35416666666666663, 0.5946759259259259, 0.6027472527472528, 0.0, 3.7593984962406015]\n"
          ]
        },
        {
          "output_type": "stream",
          "name": "stderr",
          "text": [
            "\n",
            "\n",
            "Processing medical dataset:  33%|███▎      | 163/500 [46:24<1:36:53, 17.25s/it]\u001b[A\u001b[A"
          ]
        },
        {
          "output_type": "stream",
          "name": "stdout",
          "text": [
            "Appended result to Google Drive file: [163, 0.5, 0.75, 0.5885638297872341, 0.8388795494058652, 0.0, 0.0]\n"
          ]
        },
        {
          "output_type": "stream",
          "name": "stderr",
          "text": [
            "\n",
            "\n",
            "Processing medical dataset:  33%|███▎      | 164/500 [46:45<1:42:50, 18.36s/it]\u001b[A\u001b[A"
          ]
        },
        {
          "output_type": "stream",
          "name": "stdout",
          "text": [
            "Appended result to Google Drive file: [164, 0.5098039215686274, 1.4117647058823528, 0.5226603236037198, 0.6782099936748893, 0.0, 1.4450867052023122]\n"
          ]
        },
        {
          "output_type": "stream",
          "name": "stderr",
          "text": [
            "\n",
            "\n",
            "Processing medical dataset:  33%|███▎      | 165/500 [47:11<1:55:22, 20.67s/it]\u001b[A\u001b[A"
          ]
        },
        {
          "output_type": "stream",
          "name": "stdout",
          "text": [
            "Appended result to Google Drive file: [165, 0.5294117647058824, 0.7450980392156863, 0.6300210472825657, 0.7243089727234068, 4.2735042735042725, 0.0]\n"
          ]
        },
        {
          "output_type": "stream",
          "name": "stderr",
          "text": [
            "\n",
            "\n",
            "Processing medical dataset:  33%|███▎      | 166/500 [47:28<1:49:54, 19.74s/it]\u001b[A\u001b[A"
          ]
        },
        {
          "output_type": "stream",
          "name": "stdout",
          "text": [
            "Appended result to Google Drive file: [166, 0.6031746031746033, 0.873015873015873, 0.5125809878862043, 0.646280193236715, 4.081632653061225, 4.115226337448559]\n"
          ]
        },
        {
          "output_type": "stream",
          "name": "stderr",
          "text": [
            "\n",
            "\n",
            "Processing medical dataset:  33%|███▎      | 167/500 [47:53<1:57:24, 21.15s/it]\u001b[A\u001b[A"
          ]
        },
        {
          "output_type": "stream",
          "name": "stdout",
          "text": [
            "Appended result to Google Drive file: [167, 0.29166666666666663, 1.1458333333333333, 0.7140937019969278, 0.5432950191570881, 2.604166666666667, 0.0]\n"
          ]
        },
        {
          "output_type": "stream",
          "name": "stderr",
          "text": [
            "\n",
            "\n",
            "Processing medical dataset:  34%|███▎      | 168/500 [48:14<1:57:45, 21.28s/it]\u001b[A\u001b[A"
          ]
        },
        {
          "output_type": "stream",
          "name": "stdout",
          "text": [
            "Appended result to Google Drive file: [168, 0.4117647058823529, 0.7450980392156863, 0.5420735005897429, 0.5641467727674624, 4.672897196261681, 0.0]\n"
          ]
        },
        {
          "output_type": "stream",
          "name": "stderr",
          "text": [
            "\n",
            "\n",
            "Processing medical dataset:  34%|███▍      | 169/500 [48:36<1:58:02, 21.40s/it]\u001b[A\u001b[A"
          ]
        },
        {
          "output_type": "stream",
          "name": "stdout",
          "text": [
            "Appended result to Google Drive file: [169, 0.25, 1.2222222222222223, 0.5141093474426808, 0.5772118829228611, 2.6737967914438507, 0.0]\n"
          ]
        },
        {
          "output_type": "stream",
          "name": "stderr",
          "text": [
            "\n",
            "\n",
            "Processing medical dataset:  34%|███▍      | 170/500 [48:52<1:49:32, 19.92s/it]\u001b[A\u001b[A"
          ]
        },
        {
          "output_type": "stream",
          "name": "stdout",
          "text": [
            "Appended result to Google Drive file: [170, 0.33333333333333337, 0.543859649122807, 0.42826878517047334, 0.47256909756909754, 2.9585798816568043, 2.8248587570621466]\n"
          ]
        },
        {
          "output_type": "stream",
          "name": "stderr",
          "text": [
            "\n",
            "\n",
            "Processing medical dataset:  34%|███▍      | 171/500 [49:11<1:47:14, 19.56s/it]\u001b[A\u001b[A"
          ]
        },
        {
          "output_type": "stream",
          "name": "stdout",
          "text": [
            "Appended result to Google Drive file: [171, 0.5208333333333333, 1.0, 0.7049486461251168, 0.9540229885057471, 5.952380952380952, 0.0]\n"
          ]
        },
        {
          "output_type": "stream",
          "name": "stderr",
          "text": [
            "\n",
            "\n",
            "Processing medical dataset:  34%|███▍      | 172/500 [49:28<1:42:11, 18.69s/it]\u001b[A\u001b[A"
          ]
        },
        {
          "output_type": "stream",
          "name": "stdout",
          "text": [
            "Appended result to Google Drive file: [172, 0.37777777777777777, 0.7555555555555555, 0.5245966792843059, 0.7023139462163851, 3.333333333333334, 3.4482758620689653]\n"
          ]
        },
        {
          "output_type": "stream",
          "name": "stderr",
          "text": [
            "\n",
            "\n",
            "Processing medical dataset:  35%|███▍      | 173/500 [49:46<1:41:49, 18.68s/it]\u001b[A\u001b[A"
          ]
        },
        {
          "output_type": "stream",
          "name": "stdout",
          "text": [
            "Appended result to Google Drive file: [173, 0.33333333333333337, 0.4444444444444444, 0.5107136127486608, 0.7754465790360633, 2.604166666666667, 2.857142857142857]\n"
          ]
        },
        {
          "output_type": "stream",
          "name": "stderr",
          "text": [
            "\n",
            "\n",
            "Processing medical dataset:  35%|███▍      | 174/500 [50:05<1:42:04, 18.79s/it]\u001b[A\u001b[A"
          ]
        },
        {
          "output_type": "stream",
          "name": "stdout",
          "text": [
            "Appended result to Google Drive file: [174, 0.18333333333333335, 0.9333333333333333, 0.1686733556298774, 0.6231884057971014, 2.0576131687242794, 5.235602094240838]\n"
          ]
        },
        {
          "output_type": "stream",
          "name": "stderr",
          "text": [
            "\n",
            "\n",
            "Processing medical dataset:  35%|███▌      | 175/500 [50:18<1:32:06, 17.00s/it]\u001b[A\u001b[A"
          ]
        },
        {
          "output_type": "stream",
          "name": "stdout",
          "text": [
            "Appended result to Google Drive file: [175, 0.4629629629629629, 0.6666666666666667, 0.5135569531795947, 0.5572463768115942, 4.8076923076923075, 5.050505050505052]\n"
          ]
        },
        {
          "output_type": "stream",
          "name": "stderr",
          "text": [
            "\n",
            "\n",
            "Processing medical dataset:  35%|███▌      | 176/500 [50:40<1:38:45, 18.29s/it]\u001b[A\u001b[A"
          ]
        },
        {
          "output_type": "stream",
          "name": "stdout",
          "text": [
            "Appended result to Google Drive file: [176, 0.35, 0.9, 0.47106523925001476, 0.6750677506775068, 2.8089887640449436, 3.08641975308642]\n"
          ]
        },
        {
          "output_type": "stream",
          "name": "stderr",
          "text": [
            "\n",
            "\n",
            "Processing medical dataset:  35%|███▌      | 177/500 [51:00<1:41:24, 18.84s/it]\u001b[A\u001b[A"
          ]
        },
        {
          "output_type": "stream",
          "name": "stdout",
          "text": [
            "Appended result to Google Drive file: [177, 0.27083333333333337, 0.41666666666666663, 0.5544166932515547, 0.6081002331002331, 2.793296089385475, 2.941176470588235]\n"
          ]
        },
        {
          "output_type": "stream",
          "name": "stderr",
          "text": [
            "\n",
            "\n",
            "Processing medical dataset:  36%|███▌      | 178/500 [51:13<1:31:57, 17.14s/it]\u001b[A\u001b[A"
          ]
        },
        {
          "output_type": "stream",
          "name": "stdout",
          "text": [
            "Appended result to Google Drive file: [178, 0.47619047619047616, 0.9365079365079365, 0.70899854862119, 0.6042768959435626, 4.9504950495049505, 2.9069767441860463]\n"
          ]
        },
        {
          "output_type": "stream",
          "name": "stderr",
          "text": [
            "\n",
            "\n",
            "Processing medical dataset:  36%|███▌      | 179/500 [51:27<1:27:04, 16.28s/it]\u001b[A\u001b[A"
          ]
        },
        {
          "output_type": "stream",
          "name": "stdout",
          "text": [
            "Appended result to Google Drive file: [179, 0.42592592592592593, 0.6666666666666667, 0.7240259740259739, 0.5761111111111111, 6.9930069930069925, 6.802721088435374]\n"
          ]
        },
        {
          "output_type": "stream",
          "name": "stderr",
          "text": [
            "\n",
            "\n",
            "Processing medical dataset:  36%|███▌      | 180/500 [51:41<1:23:01, 15.57s/it]\u001b[A\u001b[A"
          ]
        },
        {
          "output_type": "stream",
          "name": "stdout",
          "text": [
            "Appended result to Google Drive file: [180, 0.8055555555555556, 0.9444444444444444, 0.7140862411698755, 0.43703703703703695, 6.147540983606558, 4.716981132075471]\n"
          ]
        },
        {
          "output_type": "stream",
          "name": "stderr",
          "text": [
            "\n",
            "\n",
            "Processing medical dataset:  36%|███▌      | 181/500 [52:00<1:28:07, 16.58s/it]\u001b[A\u001b[A"
          ]
        },
        {
          "output_type": "stream",
          "name": "stdout",
          "text": [
            "Appended result to Google Drive file: [181, 0.4666666666666667, 0.6166666666666667, 0.4580487249544627, 0.5690847489093103, 0.0, 0.0]\n"
          ]
        },
        {
          "output_type": "stream",
          "name": "stderr",
          "text": [
            "\n",
            "\n",
            "Processing medical dataset:  36%|███▋      | 182/500 [52:14<1:24:00, 15.85s/it]\u001b[A\u001b[A"
          ]
        },
        {
          "output_type": "stream",
          "name": "stdout",
          "text": [
            "Appended result to Google Drive file: [182, 0.5714285714285714, 0.5952380952380952, 0.5391414141414141, 0.5169848127380989, 5.74712643678161, 3.8461538461538463]\n"
          ]
        },
        {
          "output_type": "stream",
          "name": "stderr",
          "text": [
            "\n",
            "\n",
            "Processing medical dataset:  37%|███▋      | 183/500 [52:28<1:20:33, 15.25s/it]\u001b[A\u001b[A"
          ]
        },
        {
          "output_type": "stream",
          "name": "stdout",
          "text": [
            "Appended result to Google Drive file: [183, 0.33333333333333337, 0.8444444444444444, 0.49733913884857284, 0.5132045088566828, 2.100840336134454, 0.0]\n"
          ]
        },
        {
          "output_type": "stream",
          "name": "stderr",
          "text": [
            "\n",
            "\n",
            "Processing medical dataset:  37%|███▋      | 184/500 [52:45<1:22:55, 15.75s/it]\u001b[A\u001b[A"
          ]
        },
        {
          "output_type": "stream",
          "name": "stdout",
          "text": [
            "Appended result to Google Drive file: [184, 0.5873015873015873, 0.6984126984126984, 0.7876926616057052, 0.677852454580352, 5.813953488372093, 6.224066390041495]\n"
          ]
        },
        {
          "output_type": "stream",
          "name": "stderr",
          "text": [
            "\n",
            "\n",
            "Processing medical dataset:  37%|███▋      | 185/500 [53:02<1:24:04, 16.01s/it]\u001b[A\u001b[A"
          ]
        },
        {
          "output_type": "stream",
          "name": "stdout",
          "text": [
            "Appended result to Google Drive file: [185, 0.35, 0.5666666666666667, 0.6523841655420602, 0.5556365108277677, 2.6737967914438507, 0.0]\n"
          ]
        },
        {
          "output_type": "stream",
          "name": "stderr",
          "text": [
            "\n",
            "\n",
            "Processing medical dataset:  37%|███▋      | 186/500 [53:18<1:23:45, 16.00s/it]\u001b[A\u001b[A"
          ]
        },
        {
          "output_type": "stream",
          "name": "stdout",
          "text": [
            "Appended result to Google Drive file: [186, 0.4444444444444444, 0.537037037037037, 0.5230130249867092, 0.5763631391851245, 5.836575875486381, 3.968253968253968]\n"
          ]
        },
        {
          "output_type": "stream",
          "name": "stderr",
          "text": [
            "\n",
            "\n",
            "Processing medical dataset:  37%|███▋      | 187/500 [53:39<1:31:20, 17.51s/it]\u001b[A\u001b[A"
          ]
        },
        {
          "output_type": "stream",
          "name": "stdout",
          "text": [
            "Appended result to Google Drive file: [187, 0.5416666666666667, 0.625, 0.5740563530037214, 0.6458641632753731, 2.717391304347826, 5.780346820809249]\n"
          ]
        },
        {
          "output_type": "stream",
          "name": "stderr",
          "text": [
            "\n",
            "\n",
            "Processing medical dataset:  38%|███▊      | 188/500 [53:51<1:23:44, 16.10s/it]\u001b[A\u001b[A"
          ]
        },
        {
          "output_type": "stream",
          "name": "stdout",
          "text": [
            "Appended result to Google Drive file: [188, 0.4375, 0.8333333333333334, 0.43835978835978834, 0.6579106280193237, 6.0, 4.3478260869565215]\n"
          ]
        },
        {
          "output_type": "stream",
          "name": "stderr",
          "text": [
            "\n",
            "\n",
            "Processing medical dataset:  38%|███▊      | 189/500 [54:08<1:24:18, 16.26s/it]\u001b[A\u001b[A"
          ]
        },
        {
          "output_type": "stream",
          "name": "stdout",
          "text": [
            "Appended result to Google Drive file: [189, 0.196078431372549, 0.8627450980392157, 0.47125575376349366, 0.5952380952380952, 5.319148936170213, 2.564102564102564]\n"
          ]
        },
        {
          "output_type": "stream",
          "name": "stderr",
          "text": [
            "\n",
            "\n",
            "Processing medical dataset:  38%|███▊      | 190/500 [54:24<1:23:04, 16.08s/it]\u001b[A\u001b[A"
          ]
        },
        {
          "output_type": "stream",
          "name": "stdout",
          "text": [
            "Appended result to Google Drive file: [190, 0.47916666666666663, 0.8333333333333334, 0.5269954183747286, 0.73781179138322, 2.9069767441860463, 6.0606060606060606]\n"
          ]
        },
        {
          "output_type": "stream",
          "name": "stderr",
          "text": [
            "\n",
            "\n",
            "Processing medical dataset:  38%|███▊      | 191/500 [54:44<1:28:54, 17.26s/it]\u001b[A\u001b[A"
          ]
        },
        {
          "output_type": "stream",
          "name": "stdout",
          "text": [
            "Appended result to Google Drive file: [191, 0.5833333333333333, 0.8125, 0.649310603057134, 0.47799422799422797, 6.289308176100629, 3.5211267605633805]\n"
          ]
        },
        {
          "output_type": "stream",
          "name": "stderr",
          "text": [
            "\n",
            "\n",
            "Processing medical dataset:  38%|███▊      | 192/500 [55:04<1:33:12, 18.16s/it]\u001b[A\u001b[A"
          ]
        },
        {
          "output_type": "stream",
          "name": "stdout",
          "text": [
            "Appended result to Google Drive file: [192, 0.3111111111111111, 0.7555555555555555, 0.5836146080398955, 0.454123495552067, 2.4271844660194177, 0.0]\n"
          ]
        },
        {
          "output_type": "stream",
          "name": "stderr",
          "text": [
            "\n",
            "\n",
            "Processing medical dataset:  39%|███▊      | 193/500 [55:21<1:30:33, 17.70s/it]\u001b[A\u001b[A"
          ]
        },
        {
          "output_type": "stream",
          "name": "stdout",
          "text": [
            "Appended result to Google Drive file: [193, 0.8333333333333334, 1.0, 0.6650153609831029, 1.0, 2.3696682464454977, 0.0]\n"
          ]
        },
        {
          "output_type": "stream",
          "name": "stderr",
          "text": [
            "\n",
            "\n",
            "Processing medical dataset:  39%|███▉      | 194/500 [55:37<1:28:06, 17.28s/it]\u001b[A\u001b[A"
          ]
        },
        {
          "output_type": "stream",
          "name": "stdout",
          "text": [
            "Appended result to Google Drive file: [194, 0.6666666666666667, 0.9555555555555556, 0.6860931236509403, 0.6779591836734694, 3.0487804878048776, 2.9069767441860463]\n"
          ]
        },
        {
          "output_type": "stream",
          "name": "stderr",
          "text": [
            "\n",
            "\n",
            "Processing medical dataset:  39%|███▉      | 195/500 [55:55<1:28:59, 17.51s/it]\u001b[A\u001b[A"
          ]
        },
        {
          "output_type": "stream",
          "name": "stdout",
          "text": [
            "Appended result to Google Drive file: [195, 0.5, 0.8958333333333334, 0.5099272413367862, 0.5828282828282828, 0.0, 0.0]\n"
          ]
        },
        {
          "output_type": "stream",
          "name": "stderr",
          "text": [
            "\n",
            "\n",
            "Processing medical dataset:  39%|███▉      | 196/500 [56:09<1:24:08, 16.61s/it]\u001b[A\u001b[A"
          ]
        },
        {
          "output_type": "stream",
          "name": "stdout",
          "text": [
            "Appended result to Google Drive file: [196, 0.5111111111111111, 0.7111111111111111, 0.5754018169112508, 0.6079650291183764, 5.780346820809249, 5.714285714285714]\n"
          ]
        },
        {
          "output_type": "stream",
          "name": "stderr",
          "text": [
            "\n",
            "\n",
            "Processing medical dataset:  39%|███▉      | 197/500 [56:26<1:23:25, 16.52s/it]\u001b[A\u001b[A"
          ]
        },
        {
          "output_type": "stream",
          "name": "stdout",
          "text": [
            "Appended result to Google Drive file: [197, 0.5555555555555556, 0.8888888888888888, 0.53830291782658, 0.469207801283273, 5.7251908396946565, 2.272727272727273]\n"
          ]
        },
        {
          "output_type": "stream",
          "name": "stderr",
          "text": [
            "\n",
            "\n",
            "Processing medical dataset:  40%|███▉      | 198/500 [56:44<1:25:26, 16.97s/it]\u001b[A\u001b[A"
          ]
        },
        {
          "output_type": "stream",
          "name": "stdout",
          "text": [
            "Appended result to Google Drive file: [198, 0.5087719298245614, 0.8421052631578947, 0.6290693257359924, 0.6029782094768219, 5.415162454873645, 3.861003861003861]\n"
          ]
        },
        {
          "output_type": "stream",
          "name": "stderr",
          "text": [
            "\n",
            "\n",
            "Processing medical dataset:  40%|███▉      | 199/500 [57:01<1:24:52, 16.92s/it]\u001b[A\u001b[A"
          ]
        },
        {
          "output_type": "stream",
          "name": "stdout",
          "text": [
            "Appended result to Google Drive file: [199, 0.38596491228070173, 0.5263157894736843, 0.47530301428747596, 0.5973366013071896, 4.273504273504273, 6.122448979591836]\n"
          ]
        },
        {
          "output_type": "stream",
          "name": "stderr",
          "text": [
            "\n",
            "\n",
            "Processing medical dataset:  40%|████      | 200/500 [57:16<1:22:47, 16.56s/it]\u001b[A\u001b[A"
          ]
        },
        {
          "output_type": "stream",
          "name": "stdout",
          "text": [
            "Appended result to Google Drive file: [200, 0.6140350877192983, 0.7192982456140351, 0.5733520074696544, 0.5839024390243902, 6.147540983606558, 4.405286343612335]\n"
          ]
        },
        {
          "output_type": "stream",
          "name": "stderr",
          "text": [
            "\n",
            "\n",
            "Processing medical dataset:  40%|████      | 201/500 [57:30<1:17:59, 15.65s/it]\u001b[A\u001b[A"
          ]
        },
        {
          "output_type": "stream",
          "name": "stdout",
          "text": [
            "Appended result to Google Drive file: [201, 0.4035087719298246, 0.5087719298245614, 0.5564570916839081, 0.523739055370576, 2.0161290322580645, 2.1367521367521367]\n"
          ]
        },
        {
          "output_type": "stream",
          "name": "stderr",
          "text": [
            "\n",
            "\n",
            "Processing medical dataset:  40%|████      | 202/500 [57:50<1:24:30, 17.01s/it]\u001b[A\u001b[A"
          ]
        },
        {
          "output_type": "stream",
          "name": "stdout",
          "text": [
            "Appended result to Google Drive file: [202, 0.2941176470588235, 0.8235294117647058, 0.5603239909932255, 0.7045311413732467, 0.0, 0.0]\n"
          ]
        },
        {
          "output_type": "stream",
          "name": "stderr",
          "text": [
            "\n",
            "\n",
            "Processing medical dataset:  41%|████      | 203/500 [58:08<1:25:39, 17.30s/it]\u001b[A\u001b[A"
          ]
        },
        {
          "output_type": "stream",
          "name": "stdout",
          "text": [
            "Appended result to Google Drive file: [203, 0.6333333333333333, 0.8, 0.5879901051329622, 0.6002856579984239, 5.74712643678161, 3.3112582781456954]\n"
          ]
        },
        {
          "output_type": "stream",
          "name": "stderr",
          "text": [
            "\n",
            "\n",
            "Processing medical dataset:  41%|████      | 204/500 [58:30<1:32:30, 18.75s/it]\u001b[A\u001b[A"
          ]
        },
        {
          "output_type": "stream",
          "name": "stdout",
          "text": [
            "Appended result to Google Drive file: [204, 0.536231884057971, 0.9130434782608696, 0.6608015640273704, 0.6333333333333333, 0.0, 2.3584905660377355]\n"
          ]
        },
        {
          "output_type": "stream",
          "name": "stderr",
          "text": [
            "\n",
            "\n",
            "Processing medical dataset:  41%|████      | 205/500 [58:45<1:26:53, 17.67s/it]\u001b[A\u001b[A"
          ]
        },
        {
          "output_type": "stream",
          "name": "stdout",
          "text": [
            "Appended result to Google Drive file: [205, 0.5686274509803921, 0.7254901960784313, 0.4735813366960908, 0.4340066269988405, 2.4509803921568625, 2.6881720430107525]\n"
          ]
        },
        {
          "output_type": "stream",
          "name": "stderr",
          "text": [
            "\n",
            "\n",
            "Processing medical dataset:  41%|████      | 206/500 [59:04<1:28:49, 18.13s/it]\u001b[A\u001b[A"
          ]
        },
        {
          "output_type": "stream",
          "name": "stdout",
          "text": [
            "Appended result to Google Drive file: [206, 0.4285714285714286, 0.8809523809523809, 0.531119377922447, 0.5703703703703704, 3.9370078740157486, 2.4038461538461537]\n"
          ]
        },
        {
          "output_type": "stream",
          "name": "stderr",
          "text": [
            "\n",
            "\n",
            "Processing medical dataset:  41%|████▏     | 207/500 [59:22<1:27:39, 17.95s/it]\u001b[A\u001b[A"
          ]
        },
        {
          "output_type": "stream",
          "name": "stdout",
          "text": [
            "Appended result to Google Drive file: [207, 0.45238095238095233, 1.0, 0.5054380160492215, 0.48755057578586986, 0.0, 3.3333333333333326]\n"
          ]
        },
        {
          "output_type": "stream",
          "name": "stderr",
          "text": [
            "\n",
            "\n",
            "Processing medical dataset:  42%|████▏     | 208/500 [59:40<1:27:03, 17.89s/it]\u001b[A\u001b[A"
          ]
        },
        {
          "output_type": "stream",
          "name": "stdout",
          "text": [
            "Appended result to Google Drive file: [208, 0.5, 0.6666666666666667, 0.5406271709897306, 0.5930478251906823, 0.0, 0.0]\n"
          ]
        },
        {
          "output_type": "stream",
          "name": "stderr",
          "text": [
            "\n",
            "\n",
            "Processing medical dataset:  42%|████▏     | 209/500 [59:56<1:24:52, 17.50s/it]\u001b[A\u001b[A"
          ]
        },
        {
          "output_type": "stream",
          "name": "stdout",
          "text": [
            "Appended result to Google Drive file: [209, 0.48888888888888893, 0.6666666666666667, 0.6891938250428816, 0.8240165631469979, 0.0, 0.0]\n"
          ]
        },
        {
          "output_type": "stream",
          "name": "stderr",
          "text": [
            "\n",
            "\n",
            "Processing medical dataset:  42%|████▏     | 210/500 [1:00:12<1:21:50, 16.93s/it]\u001b[A\u001b[A"
          ]
        },
        {
          "output_type": "stream",
          "name": "stdout",
          "text": [
            "Appended result to Google Drive file: [210, 0.5111111111111111, 0.6222222222222222, 0.711600681140911, 0.4986437680768481, 2.5380710659898478, 0.0]\n"
          ]
        },
        {
          "output_type": "stream",
          "name": "stderr",
          "text": [
            "\n",
            "\n",
            "Processing medical dataset:  42%|████▏     | 211/500 [1:00:26<1:17:32, 16.10s/it]\u001b[A\u001b[A"
          ]
        },
        {
          "output_type": "stream",
          "name": "stdout",
          "text": [
            "Appended result to Google Drive file: [211, 0.4358974358974359, 0.641025641025641, 0.8771078771078771, 0.8001949317738791, 2.8409090909090904, 0.0]\n"
          ]
        },
        {
          "output_type": "stream",
          "name": "stderr",
          "text": [
            "\n",
            "\n",
            "Processing medical dataset:  42%|████▏     | 212/500 [1:00:44<1:20:18, 16.73s/it]\u001b[A\u001b[A"
          ]
        },
        {
          "output_type": "stream",
          "name": "stdout",
          "text": [
            "Appended result to Google Drive file: [212, 0.4814814814814815, 0.7777777777777778, 0.5716374269005847, 0.43124464285439484, 4.926108374384236, 0.0]\n"
          ]
        },
        {
          "output_type": "stream",
          "name": "stderr",
          "text": [
            "\n",
            "\n",
            "Processing medical dataset:  43%|████▎     | 213/500 [1:01:02<1:21:36, 17.06s/it]\u001b[A\u001b[A"
          ]
        },
        {
          "output_type": "stream",
          "name": "stdout",
          "text": [
            "Appended result to Google Drive file: [213, 0.43137254901960786, 0.5490196078431373, 0.5601835197652044, 0.699346405228758, 4.830917874396136, 5.319148936170213]\n"
          ]
        },
        {
          "output_type": "stream",
          "name": "stderr",
          "text": [
            "\n",
            "\n",
            "Processing medical dataset:  43%|████▎     | 214/500 [1:01:15<1:14:55, 15.72s/it]\u001b[A\u001b[A"
          ]
        },
        {
          "output_type": "stream",
          "name": "stdout",
          "text": [
            "Appended result to Google Drive file: [214, 0.6111111111111112, 0.9166666666666666, 0.5546156004489338, 1.0, 4.0, 0.0]\n"
          ]
        },
        {
          "output_type": "stream",
          "name": "stderr",
          "text": [
            "\n",
            "\n",
            "Processing medical dataset:  43%|████▎     | 215/500 [1:01:31<1:15:57, 15.99s/it]\u001b[A\u001b[A"
          ]
        },
        {
          "output_type": "stream",
          "name": "stdout",
          "text": [
            "Appended result to Google Drive file: [215, 0.6851851851851851, 0.9444444444444444, 0.5921855921855922, 0.9506172839506174, 4.373177842565598, 0.0]\n"
          ]
        },
        {
          "output_type": "stream",
          "name": "stderr",
          "text": [
            "\n",
            "\n",
            "Processing medical dataset:  43%|████▎     | 216/500 [1:01:47<1:14:31, 15.74s/it]\u001b[A\u001b[A"
          ]
        },
        {
          "output_type": "stream",
          "name": "stdout",
          "text": [
            "Appended result to Google Drive file: [216, 0.5128205128205128, 0.5897435897435898, 0.7344877344877346, 0.6272834730281539, 6.756756756756756, 4.694835680751173]\n"
          ]
        },
        {
          "output_type": "stream",
          "name": "stderr",
          "text": [
            "\n",
            "\n",
            "Processing medical dataset:  43%|████▎     | 217/500 [1:02:05<1:17:27, 16.42s/it]\u001b[A\u001b[A"
          ]
        },
        {
          "output_type": "stream",
          "name": "stdout",
          "text": [
            "Appended result to Google Drive file: [217, 0.3076923076923077, 0.8461538461538461, 0.51628969881636, 0.6634310585530098, 6.756756756756756, 3.546099290780141]\n"
          ]
        },
        {
          "output_type": "stream",
          "name": "stderr",
          "text": [
            "\n",
            "\n",
            "Processing medical dataset:  44%|████▎     | 218/500 [1:02:20<1:15:34, 16.08s/it]\u001b[A\u001b[A"
          ]
        },
        {
          "output_type": "stream",
          "name": "stdout",
          "text": [
            "Appended result to Google Drive file: [218, 0.5111111111111111, 1.0222222222222221, 0.6011744555908979, 0.6616959064327484, 2.2522522522522523, 2.3255813953488373]\n"
          ]
        },
        {
          "output_type": "stream",
          "name": "stderr",
          "text": [
            "\n",
            "\n",
            "Processing medical dataset:  44%|████▍     | 219/500 [1:02:33<1:11:44, 15.32s/it]\u001b[A\u001b[A"
          ]
        },
        {
          "output_type": "stream",
          "name": "stdout",
          "text": [
            "Appended result to Google Drive file: [219, 0.5208333333333333, 0.9583333333333334, 0.6023478835978836, 0.7501567398119123, 2.2727272727272725, 2.380952380952381]\n"
          ]
        },
        {
          "output_type": "stream",
          "name": "stderr",
          "text": [
            "\n",
            "\n",
            "Processing medical dataset:  44%|████▍     | 220/500 [1:02:51<1:14:52, 16.04s/it]\u001b[A\u001b[A"
          ]
        },
        {
          "output_type": "stream",
          "name": "stdout",
          "text": [
            "Appended result to Google Drive file: [220, 0.4871794871794872, 0.7435897435897436, 0.5988224274053259, 0.7360544217687074, 0.0, 2.857142857142857]\n"
          ]
        },
        {
          "output_type": "stream",
          "name": "stderr",
          "text": [
            "\n",
            "\n",
            "Processing medical dataset:  44%|████▍     | 221/500 [1:03:09<1:17:32, 16.68s/it]\u001b[A\u001b[A"
          ]
        },
        {
          "output_type": "stream",
          "name": "stdout",
          "text": [
            "Appended result to Google Drive file: [221, 0.2549019607843137, 0.607843137254902, 0.5950617283950618, 0.713689179375454, 5.74712643678161, 0.0]\n"
          ]
        },
        {
          "output_type": "stream",
          "name": "stderr",
          "text": [
            "\n",
            "\n",
            "Processing medical dataset:  44%|████▍     | 222/500 [1:03:27<1:19:04, 17.07s/it]\u001b[A\u001b[A"
          ]
        },
        {
          "output_type": "stream",
          "name": "stdout",
          "text": [
            "Appended result to Google Drive file: [222, 0.5294117647058824, 0.9019607843137255, 0.615042735042735, 0.6338562091503267, 3.3333333333333335, 1.5974440894568693]\n"
          ]
        },
        {
          "output_type": "stream",
          "name": "stderr",
          "text": [
            "\n",
            "\n",
            "Processing medical dataset:  45%|████▍     | 223/500 [1:03:43<1:16:29, 16.57s/it]\u001b[A\u001b[A"
          ]
        },
        {
          "output_type": "stream",
          "name": "stdout",
          "text": [
            "Appended result to Google Drive file: [223, 0.5238095238095238, 0.5714285714285714, 0.6507998126786947, 0.592535256470766, 3.64963503649635, 3.787878787878788]\n"
          ]
        },
        {
          "output_type": "stream",
          "name": "stderr",
          "text": [
            "\n",
            "\n",
            "Processing medical dataset:  45%|████▍     | 224/500 [1:04:00<1:17:48, 16.91s/it]\u001b[A\u001b[A"
          ]
        },
        {
          "output_type": "stream",
          "name": "stdout",
          "text": [
            "Appended result to Google Drive file: [224, 0.5555555555555556, 1.0, 0.6376812407310783, 0.7492351314453739, 4.761904761904762, 4.746835443037975]\n"
          ]
        },
        {
          "output_type": "stream",
          "name": "stderr",
          "text": [
            "\n",
            "\n",
            "Processing medical dataset:  45%|████▌     | 225/500 [1:04:17<1:17:10, 16.84s/it]\u001b[A\u001b[A"
          ]
        },
        {
          "output_type": "stream",
          "name": "stdout",
          "text": [
            "Appended result to Google Drive file: [225, 0.4629629629629629, 0.7407407407407407, 0.7648148148148147, 0.4061502495167019, 4.9504950495049505, 2.9940119760479034]\n"
          ]
        },
        {
          "output_type": "stream",
          "name": "stderr",
          "text": [
            "\n",
            "\n",
            "Processing medical dataset:  45%|████▌     | 226/500 [1:04:37<1:21:35, 17.87s/it]\u001b[A\u001b[A"
          ]
        },
        {
          "output_type": "stream",
          "name": "stdout",
          "text": [
            "Appended result to Google Drive file: [226, 0.4629629629629629, 0.7962962962962963, 0.5600051975051975, 0.4519353940406572, 3.9215686274509802, 0.0]\n"
          ]
        },
        {
          "output_type": "stream",
          "name": "stderr",
          "text": [
            "\n",
            "\n",
            "Processing medical dataset:  45%|████▌     | 227/500 [1:04:53<1:17:48, 17.10s/it]\u001b[A\u001b[A"
          ]
        },
        {
          "output_type": "stream",
          "name": "stdout",
          "text": [
            "Appended result to Google Drive file: [227, 0.45238095238095233, 0.5, 0.6721611721611721, 0.688597790349812, 5.4945054945054945, 2.857142857142857]\n"
          ]
        },
        {
          "output_type": "stream",
          "name": "stderr",
          "text": [
            "\n",
            "\n",
            "Processing medical dataset:  46%|████▌     | 228/500 [1:05:16<1:25:26, 18.85s/it]\u001b[A\u001b[A"
          ]
        },
        {
          "output_type": "stream",
          "name": "stdout",
          "text": [
            "Appended result to Google Drive file: [228, 0.4696969696969697, 0.7424242424242424, 0.5126459496289858, 0.4868852168676832, 4.25531914893617, 0.0]\n"
          ]
        },
        {
          "output_type": "stream",
          "name": "stderr",
          "text": [
            "\n",
            "\n",
            "Processing medical dataset:  46%|████▌     | 229/500 [1:05:29<1:18:09, 17.30s/it]\u001b[A\u001b[A"
          ]
        },
        {
          "output_type": "stream",
          "name": "stdout",
          "text": [
            "Appended result to Google Drive file: [229, 0.6111111111111112, 0.9722222222222222, 0.6233852594571465, 0.4646464646464647, 3.90625, 0.0]\n"
          ]
        },
        {
          "output_type": "stream",
          "name": "stderr",
          "text": [
            "\n",
            "\n",
            "Processing medical dataset:  46%|████▌     | 230/500 [1:05:52<1:25:25, 18.98s/it]\u001b[A\u001b[A"
          ]
        },
        {
          "output_type": "stream",
          "name": "stdout",
          "text": [
            "Appended result to Google Drive file: [230, 0.43137254901960786, 0.7450980392156863, 0.6791194968553459, 0.6535042735042734, 5.033557046979866, 0.0]\n"
          ]
        },
        {
          "output_type": "stream",
          "name": "stderr",
          "text": [
            "\n",
            "\n",
            "Processing medical dataset:  46%|████▌     | 231/500 [1:06:13<1:28:10, 19.67s/it]\u001b[A\u001b[A"
          ]
        },
        {
          "output_type": "stream",
          "name": "stdout",
          "text": [
            "Appended result to Google Drive file: [231, 0.3111111111111111, 0.7111111111111111, 0.5186165944471193, 0.6913580246913581, 4.213483146067416, 2.9498525073746307]\n"
          ]
        },
        {
          "output_type": "stream",
          "name": "stderr",
          "text": [
            "\n",
            "\n",
            "Processing medical dataset:  46%|████▋     | 232/500 [1:06:39<1:35:35, 21.40s/it]\u001b[A\u001b[A"
          ]
        },
        {
          "output_type": "stream",
          "name": "stdout",
          "text": [
            "Appended result to Google Drive file: [232, 0.3555555555555555, 0.9111111111111111, 0.747593984962406, 0.6282051282051282, 4.761904761904762, 2.3255813953488373]\n"
          ]
        },
        {
          "output_type": "stream",
          "name": "stderr",
          "text": [
            "\n",
            "\n",
            "Processing medical dataset:  47%|████▋     | 233/500 [1:07:01<1:36:09, 21.61s/it]\u001b[A\u001b[A"
          ]
        },
        {
          "output_type": "stream",
          "name": "stdout",
          "text": [
            "Appended result to Google Drive file: [233, 0.38095238095238093, 0.9047619047619048, 0.5916748507970084, 0.9506172839506174, 4.5592705167173255, 0.0]\n"
          ]
        },
        {
          "output_type": "stream",
          "name": "stderr",
          "text": [
            "\n",
            "\n",
            "Processing medical dataset:  47%|████▋     | 234/500 [1:07:15<1:26:24, 19.49s/it]\u001b[A\u001b[A"
          ]
        },
        {
          "output_type": "stream",
          "name": "stdout",
          "text": [
            "Appended result to Google Drive file: [234, 0.33333333333333337, 0.7111111111111111, 0.5430474076423022, 0.7223077215382276, 6.8807339449541285, 6.024096385542169]\n"
          ]
        },
        {
          "output_type": "stream",
          "name": "stderr",
          "text": [
            "\n",
            "\n",
            "Processing medical dataset:  47%|████▋     | 235/500 [1:07:32<1:22:12, 18.61s/it]\u001b[A\u001b[A"
          ]
        },
        {
          "output_type": "stream",
          "name": "stdout",
          "text": [
            "Appended result to Google Drive file: [235, 0.4509803921568627, 0.8823529411764706, 0.6772055740535207, 0.7972739820565907, 2.717391304347826, 2.6178010471204183]\n"
          ]
        },
        {
          "output_type": "stream",
          "name": "stderr",
          "text": [
            "\n",
            "\n",
            "Processing medical dataset:  47%|████▋     | 236/500 [1:17:48<14:29:56, 197.72s/it]\u001b[A\u001b[A"
          ]
        },
        {
          "output_type": "stream",
          "name": "stdout",
          "text": [
            "Appended result to Google Drive file: [236, 0.5555555555555556, 0.8888888888888888, 0.6063663201129508, 0.6671942988316717, 2.857142857142857, 0.0]\n"
          ]
        },
        {
          "output_type": "stream",
          "name": "stderr",
          "text": [
            "\n",
            "\n",
            "Processing medical dataset:  47%|████▋     | 237/500 [1:18:02<10:25:58, 142.81s/it]\u001b[A\u001b[A"
          ]
        },
        {
          "output_type": "stream",
          "name": "stdout",
          "text": [
            "Appended result to Google Drive file: [237, 0.28205128205128205, 0.3846153846153846, 0.44031838856400257, 0.3585737179487179, 0.0, 2.941176470588235]\n"
          ]
        },
        {
          "output_type": "stream",
          "name": "stderr",
          "text": [
            "\n",
            "\n",
            "Processing medical dataset:  48%|████▊     | 238/500 [1:18:16<7:34:33, 104.10s/it] \u001b[A\u001b[A"
          ]
        },
        {
          "output_type": "stream",
          "name": "stdout",
          "text": [
            "Appended result to Google Drive file: [238, 0.47058823529411764, 0.7843137254901961, 0.5456426388282459, 0.6302062135395469, 5.28169014084507, 3.4246575342465753]\n"
          ]
        },
        {
          "output_type": "stream",
          "name": "stderr",
          "text": [
            "\n",
            "\n",
            "Processing medical dataset:  48%|████▊     | 239/500 [1:18:30<5:35:15, 77.07s/it] \u001b[A\u001b[A"
          ]
        },
        {
          "output_type": "stream",
          "name": "stdout",
          "text": [
            "Appended result to Google Drive file: [239, 0.4222222222222223, 0.6, 0.5512981859410431, 0.5718198468198468, 3.1446540880503147, 5.617977528089887]\n"
          ]
        },
        {
          "output_type": "stream",
          "name": "stderr",
          "text": [
            "\n",
            "\n",
            "Processing medical dataset:  48%|████▊     | 240/500 [1:18:46<4:14:49, 58.81s/it]\u001b[A\u001b[A"
          ]
        },
        {
          "output_type": "stream",
          "name": "stdout",
          "text": [
            "Appended result to Google Drive file: [240, 0.25, 1.125, 0.5490332759749703, 0.650676269696355, 3.7593984962406015, 4.0983606557377055]\n"
          ]
        },
        {
          "output_type": "stream",
          "name": "stderr",
          "text": [
            "\n",
            "\n",
            "Processing medical dataset:  48%|████▊     | 241/500 [1:19:00<3:16:02, 45.42s/it]\u001b[A\u001b[A"
          ]
        },
        {
          "output_type": "stream",
          "name": "stdout",
          "text": [
            "Appended result to Google Drive file: [241, 0.6481481481481481, 0.8888888888888888, 0.712596777568529, 0.7759259259259258, 2.11864406779661, 0.0]\n"
          ]
        },
        {
          "output_type": "stream",
          "name": "stderr",
          "text": [
            "\n",
            "\n",
            "Processing medical dataset:  48%|████▊     | 242/500 [1:19:17<2:37:28, 36.62s/it]\u001b[A\u001b[A"
          ]
        },
        {
          "output_type": "stream",
          "name": "stdout",
          "text": [
            "Appended result to Google Drive file: [242, 0.3589743589743589, 0.8461538461538461, 0.5642686952149868, 0.6835016835016835, 4.184100418410042, 2.11864406779661]\n"
          ]
        },
        {
          "output_type": "stream",
          "name": "stderr",
          "text": [
            "\n",
            "\n",
            "Processing medical dataset:  49%|████▊     | 243/500 [1:19:33<2:11:22, 30.67s/it]\u001b[A\u001b[A"
          ]
        },
        {
          "output_type": "stream",
          "name": "stdout",
          "text": [
            "Appended result to Google Drive file: [243, 0.5641025641025641, 0.8205128205128205, 0.5114164164164164, 0.6294258373205742, 4.189944134078211, 4.966887417218543]\n"
          ]
        },
        {
          "output_type": "stream",
          "name": "stderr",
          "text": [
            "\n",
            "\n",
            "Processing medical dataset:  49%|████▉     | 244/500 [1:19:48<1:49:51, 25.75s/it]\u001b[A\u001b[A"
          ]
        },
        {
          "output_type": "stream",
          "name": "stdout",
          "text": [
            "Appended result to Google Drive file: [244, 0.4444444444444444, 0.5555555555555556, 0.6302578018995929, 0.7187513281482426, 0.0, 1.953125]\n"
          ]
        },
        {
          "output_type": "stream",
          "name": "stderr",
          "text": [
            "\n",
            "\n",
            "Processing medical dataset:  49%|████▉     | 245/500 [1:20:10<1:44:33, 24.60s/it]\u001b[A\u001b[A"
          ]
        },
        {
          "output_type": "stream",
          "name": "stdout",
          "text": [
            "Appended result to Google Drive file: [245, 0.5777777777777777, 0.9111111111111111, 0.588475499092559, 0.7405119571786237, 0.0, 0.0]\n"
          ]
        },
        {
          "output_type": "stream",
          "name": "stderr",
          "text": [
            "\n",
            "\n",
            "Processing medical dataset:  49%|████▉     | 246/500 [1:20:26<1:34:24, 22.30s/it]\u001b[A\u001b[A"
          ]
        },
        {
          "output_type": "stream",
          "name": "stdout",
          "text": [
            "Appended result to Google Drive file: [246, 0.3939393939393939, 0.696969696969697, 0.5968462823725981, 0.6696969696969698, 2.6455026455026456, 0.0]\n"
          ]
        },
        {
          "output_type": "stream",
          "name": "stderr",
          "text": [
            "\n",
            "\n",
            "Processing medical dataset:  49%|████▉     | 247/500 [1:20:46<1:30:55, 21.56s/it]\u001b[A\u001b[A"
          ]
        },
        {
          "output_type": "stream",
          "name": "stdout",
          "text": [
            "Appended result to Google Drive file: [247, 0.5555555555555556, 0.8, 0.573480531813865, 0.7580103359173127, 2.590673575129534, 0.0]\n"
          ]
        },
        {
          "output_type": "stream",
          "name": "stderr",
          "text": [
            "\n",
            "\n",
            "Processing medical dataset:  50%|████▉     | 248/500 [1:21:04<1:26:08, 20.51s/it]\u001b[A\u001b[A"
          ]
        },
        {
          "output_type": "stream",
          "name": "stdout",
          "text": [
            "Appended result to Google Drive file: [248, 0.3555555555555555, 0.6666666666666667, 0.4384088563655127, 0.5216934433347807, 6.63716814159292, 0.0]\n"
          ]
        },
        {
          "output_type": "stream",
          "name": "stderr",
          "text": [
            "\n",
            "\n",
            "Processing medical dataset:  50%|████▉     | 249/500 [1:22:00<2:09:14, 30.89s/it]\u001b[A\u001b[A"
          ]
        },
        {
          "output_type": "stream",
          "name": "stdout",
          "text": [
            "Appended result to Google Drive file: [249, 0.12121212121212122, 0.5757575757575757, 0.4852388958946336, 0.4805039643749321, 5.4945054945054945, 5.454545454545455]\n"
          ]
        },
        {
          "output_type": "stream",
          "name": "stderr",
          "text": [
            "\n",
            "\n",
            "Processing medical dataset:  50%|█████     | 250/500 [1:22:16<1:50:35, 26.54s/it]\u001b[A\u001b[A"
          ]
        },
        {
          "output_type": "stream",
          "name": "stdout",
          "text": [
            "Appended result to Google Drive file: [250, 0.6444444444444444, 0.8222222222222222, 0.7770302694721298, 0.6904989067779765, 3.4246575342465753, 3.401360544217687]\n"
          ]
        },
        {
          "output_type": "stream",
          "name": "stderr",
          "text": [
            "\n",
            "\n",
            "Processing medical dataset:  50%|█████     | 251/500 [1:22:31<1:35:50, 23.09s/it]\u001b[A\u001b[A"
          ]
        },
        {
          "output_type": "stream",
          "name": "stdout",
          "text": [
            "Appended result to Google Drive file: [251, 0.46153846153846156, 0.7692307692307692, 0.6894667420388166, 0.6905379649215583, 2.092050209205021, 0.0]\n"
          ]
        },
        {
          "output_type": "stream",
          "name": "stderr",
          "text": [
            "\n",
            "\n",
            "Processing medical dataset:  50%|█████     | 252/500 [1:22:48<1:28:26, 21.40s/it]\u001b[A\u001b[A"
          ]
        },
        {
          "output_type": "stream",
          "name": "stdout",
          "text": [
            "Appended result to Google Drive file: [252, 0.25, 0.8541666666666666, 0.47881944444444446, 0.5276087446472842, 1.8181818181818181, 0.0]\n"
          ]
        },
        {
          "output_type": "stream",
          "name": "stderr",
          "text": [
            "\n",
            "\n",
            "Processing medical dataset:  51%|█████     | 253/500 [1:23:06<1:23:09, 20.20s/it]\u001b[A\u001b[A"
          ]
        },
        {
          "output_type": "stream",
          "name": "stdout",
          "text": [
            "Appended result to Google Drive file: [253, 0.7111111111111111, 0.8222222222222222, 0.5857463524130191, 0.6888772603058317, 2.8409090909090904, 2.9940119760479043]\n"
          ]
        },
        {
          "output_type": "stream",
          "name": "stderr",
          "text": [
            "\n",
            "\n",
            "Processing medical dataset:  51%|█████     | 254/500 [1:23:23<1:18:42, 19.20s/it]\u001b[A\u001b[A"
          ]
        },
        {
          "output_type": "stream",
          "name": "stdout",
          "text": [
            "Appended result to Google Drive file: [254, 0.5757575757575757, 0.7272727272727273, 0.5165086226479999, 0.6672582076308785, 5.7251908396946565, 3.816793893129771]\n"
          ]
        },
        {
          "output_type": "stream",
          "name": "stderr",
          "text": [
            "\n",
            "\n",
            "Processing medical dataset:  51%|█████     | 255/500 [1:23:40<1:15:37, 18.52s/it]\u001b[A\u001b[A"
          ]
        },
        {
          "output_type": "stream",
          "name": "stdout",
          "text": [
            "Appended result to Google Drive file: [255, 0.7592592592592593, 0.8518518518518519, 0.58960456878479, 0.571652254368172, 5.58659217877095, 5.128205128205128]\n"
          ]
        },
        {
          "output_type": "stream",
          "name": "stderr",
          "text": [
            "\n",
            "\n",
            "Processing medical dataset:  51%|█████     | 256/500 [1:23:57<1:13:32, 18.08s/it]\u001b[A\u001b[A"
          ]
        },
        {
          "output_type": "stream",
          "name": "stdout",
          "text": [
            "Appended result to Google Drive file: [256, 0.6, 0.9111111111111111, 0.4547769717549004, 0.6311389759665621, 2.7777777777777777, 0.0]\n"
          ]
        },
        {
          "output_type": "stream",
          "name": "stderr",
          "text": [
            "\n",
            "\n",
            "Processing medical dataset:  51%|█████▏    | 257/500 [1:24:13<1:11:21, 17.62s/it]\u001b[A\u001b[A"
          ]
        },
        {
          "output_type": "stream",
          "name": "stdout",
          "text": [
            "Appended result to Google Drive file: [257, 0.45614035087719296, 0.5964912280701755, 0.5873549419767907, 0.19421069035374786, 2.6881720430107525, 0.0]\n"
          ]
        },
        {
          "output_type": "stream",
          "name": "stderr",
          "text": [
            "\n",
            "\n",
            "Processing medical dataset:  52%|█████▏    | 258/500 [1:24:27<1:06:50, 16.57s/it]\u001b[A\u001b[A"
          ]
        },
        {
          "output_type": "stream",
          "name": "stdout",
          "text": [
            "Appended result to Google Drive file: [258, 0.5, 0.7291666666666667, 0.6920513272257458, 0.7061923583662715, 6.550218340611353, 6.122448979591836]\n"
          ]
        },
        {
          "output_type": "stream",
          "name": "stderr",
          "text": [
            "\n",
            "\n",
            "Processing medical dataset:  52%|█████▏    | 259/500 [1:24:47<1:09:48, 17.38s/it]\u001b[A\u001b[A"
          ]
        },
        {
          "output_type": "stream",
          "name": "stdout",
          "text": [
            "Appended result to Google Drive file: [259, 0.375, 0.7083333333333333, 0.49881538181155455, 0.8144122383252818, 2.6881720430107525, 0.0]\n"
          ]
        },
        {
          "output_type": "stream",
          "name": "stderr",
          "text": [
            "\n",
            "\n",
            "Processing medical dataset:  52%|█████▏    | 260/500 [1:25:05<1:11:07, 17.78s/it]\u001b[A\u001b[A"
          ]
        },
        {
          "output_type": "stream",
          "name": "stdout",
          "text": [
            "Appended result to Google Drive file: [260, 0.5925925925925926, 0.8333333333333334, 0.6833333333333332, 0.6681837606837607, 5.4945054945054945, 2.9940119760479043]\n"
          ]
        },
        {
          "output_type": "stream",
          "name": "stderr",
          "text": [
            "\n",
            "\n",
            "Processing medical dataset:  52%|█████▏    | 261/500 [1:25:19<1:05:58, 16.56s/it]\u001b[A\u001b[A"
          ]
        },
        {
          "output_type": "stream",
          "name": "stdout",
          "text": [
            "Appended result to Google Drive file: [261, 0.5964912280701755, 0.8771929824561404, 0.539607843137255, 0.5379587732528909, 3.0487804878048776, 6.024096385542169]\n"
          ]
        },
        {
          "output_type": "stream",
          "name": "stderr",
          "text": [
            "\n",
            "\n",
            "Processing medical dataset:  52%|█████▏    | 262/500 [1:25:34<1:03:54, 16.11s/it]\u001b[A\u001b[A"
          ]
        },
        {
          "output_type": "stream",
          "name": "stdout",
          "text": [
            "Appended result to Google Drive file: [262, 0.5333333333333333, 0.8666666666666667, 0.6185260770975057, 0.47992321100106833, 2.7777777777777777, 2.6881720430107525]\n"
          ]
        },
        {
          "output_type": "stream",
          "name": "stderr",
          "text": [
            "\n",
            "\n",
            "Processing medical dataset:  53%|█████▎    | 263/500 [1:25:50<1:03:08, 15.99s/it]\u001b[A\u001b[A"
          ]
        },
        {
          "output_type": "stream",
          "name": "stdout",
          "text": [
            "Appended result to Google Drive file: [263, 0.4901960784313726, 0.7450980392156863, 0.47029478458049895, 0.3302898550724638, 6.622516556291391, 3.4482758620689653]\n"
          ]
        },
        {
          "output_type": "stream",
          "name": "stderr",
          "text": [
            "\n",
            "\n",
            "Processing medical dataset:  53%|█████▎    | 264/500 [1:26:07<1:04:22, 16.36s/it]\u001b[A\u001b[A"
          ]
        },
        {
          "output_type": "stream",
          "name": "stdout",
          "text": [
            "Appended result to Google Drive file: [264, 0.4, 0.9333333333333333, 0.43393587709777076, 0.4267668692037096, 0.0, 1.6778523489932886]\n"
          ]
        },
        {
          "output_type": "stream",
          "name": "stderr",
          "text": [
            "\n",
            "\n",
            "Processing medical dataset:  53%|█████▎    | 265/500 [1:26:22<1:01:54, 15.81s/it]\u001b[A\u001b[A"
          ]
        },
        {
          "output_type": "stream",
          "name": "stdout",
          "text": [
            "Appended result to Google Drive file: [265, 0.3833333333333333, 0.6166666666666667, 0.524173636001593, 0.6284825976834855, 2.5773195876288666, 2.604166666666667]\n"
          ]
        },
        {
          "output_type": "stream",
          "name": "stderr",
          "text": [
            "\n",
            "\n",
            "Processing medical dataset:  53%|█████▎    | 266/500 [1:26:37<1:00:44, 15.57s/it]\u001b[A\u001b[A"
          ]
        },
        {
          "output_type": "stream",
          "name": "stdout",
          "text": [
            "Appended result to Google Drive file: [266, 0.48888888888888893, 0.8888888888888888, 0.5280682643427742, 0.5995693475130165, 2.590673575129534, 2.604166666666667]\n"
          ]
        },
        {
          "output_type": "stream",
          "name": "stderr",
          "text": [
            "\n",
            "\n",
            "Processing medical dataset:  53%|█████▎    | 267/500 [1:26:53<1:01:39, 15.88s/it]\u001b[A\u001b[A"
          ]
        },
        {
          "output_type": "stream",
          "name": "stdout",
          "text": [
            "Appended result to Google Drive file: [267, 0.6190476190476191, 0.6031746031746033, 0.6415824915824916, 0.623163758256926, 5.555555555555555, 2.8901734104046244]\n"
          ]
        },
        {
          "output_type": "stream",
          "name": "stderr",
          "text": [
            "\n",
            "\n",
            "Processing medical dataset:  54%|█████▎    | 268/500 [1:27:06<58:11, 15.05s/it]  \u001b[A\u001b[A"
          ]
        },
        {
          "output_type": "stream",
          "name": "stdout",
          "text": [
            "Appended result to Google Drive file: [268, 0.7555555555555555, 1.0222222222222221, 0.6308333333333334, 0.5494071146245059, 5.917159763313609, 3.333333333333334]\n"
          ]
        },
        {
          "output_type": "stream",
          "name": "stderr",
          "text": [
            "\n",
            "\n",
            "Processing medical dataset:  54%|█████▍    | 269/500 [1:27:28<1:05:55, 17.12s/it]\u001b[A\u001b[A"
          ]
        },
        {
          "output_type": "stream",
          "name": "stdout",
          "text": [
            "Appended result to Google Drive file: [269, 0.4901960784313726, 1.7254901960784315, 0.6555979369815539, 0.8026431195922722, 4.878048780487805, 2.364066193853428]\n"
          ]
        },
        {
          "output_type": "stream",
          "name": "stderr",
          "text": [
            "\n",
            "\n",
            "Processing medical dataset:  54%|█████▍    | 270/500 [1:27:46<1:06:29, 17.34s/it]\u001b[A\u001b[A"
          ]
        },
        {
          "output_type": "stream",
          "name": "stdout",
          "text": [
            "Appended result to Google Drive file: [270, 0.5185185185185186, 0.8333333333333334, 0.45458525591240656, 0.5950132908027644, 3.0487804878048776, 0.0]\n"
          ]
        },
        {
          "output_type": "stream",
          "name": "stderr",
          "text": [
            "\n",
            "\n",
            "Processing medical dataset:  54%|█████▍    | 271/500 [1:28:03<1:05:56, 17.28s/it]\u001b[A\u001b[A"
          ]
        },
        {
          "output_type": "stream",
          "name": "stdout",
          "text": [
            "Appended result to Google Drive file: [271, 0.4666666666666667, 0.6888888888888889, 0.5976167123708108, 0.7146892655367232, 2.3255813953488373, 4.901960784313725]\n"
          ]
        },
        {
          "output_type": "stream",
          "name": "stderr",
          "text": [
            "\n",
            "\n",
            "Processing medical dataset:  54%|█████▍    | 272/500 [1:28:22<1:07:49, 17.85s/it]\u001b[A\u001b[A"
          ]
        },
        {
          "output_type": "stream",
          "name": "stdout",
          "text": [
            "Appended result to Google Drive file: [272, 0.6458333333333333, 0.75, 0.5954907161803713, 0.6276323862878486, 4.926108374384236, 0.0]\n"
          ]
        },
        {
          "output_type": "stream",
          "name": "stderr",
          "text": [
            "\n",
            "\n",
            "Processing medical dataset:  55%|█████▍    | 273/500 [1:28:37<1:03:42, 16.84s/it]\u001b[A\u001b[A"
          ]
        },
        {
          "output_type": "stream",
          "name": "stdout",
          "text": [
            "Appended result to Google Drive file: [273, 0.47058823529411764, 0.7254901960784313, 0.6760192966075319, 0.7973684210526315, 0.0, 0.0]\n"
          ]
        },
        {
          "output_type": "stream",
          "name": "stderr",
          "text": [
            "\n",
            "\n",
            "Processing medical dataset:  55%|█████▍    | 274/500 [1:28:54<1:03:55, 16.97s/it]\u001b[A\u001b[A"
          ]
        },
        {
          "output_type": "stream",
          "name": "stdout",
          "text": [
            "Appended result to Google Drive file: [274, 0.5, 0.8333333333333334, 0.7584121355397951, 0.8518748562226822, 4.504504504504505, 1.547987616099071]\n"
          ]
        },
        {
          "output_type": "stream",
          "name": "stderr",
          "text": [
            "\n",
            "\n",
            "Processing medical dataset:  55%|█████▌    | 275/500 [1:29:12<1:04:38, 17.24s/it]\u001b[A\u001b[A"
          ]
        },
        {
          "output_type": "stream",
          "name": "stdout",
          "text": [
            "Appended result to Google Drive file: [275, 0.537037037037037, 0.7777777777777778, 0.6802396674003424, 0.6981490440609939, 4.424778761061947, 4.518072289156626]\n"
          ]
        },
        {
          "output_type": "stream",
          "name": "stderr",
          "text": [
            "\n",
            "\n",
            "Processing medical dataset:  55%|█████▌    | 276/500 [1:29:33<1:08:28, 18.34s/it]\u001b[A\u001b[A"
          ]
        },
        {
          "output_type": "stream",
          "name": "stdout",
          "text": [
            "Appended result to Google Drive file: [276, 0.39583333333333337, 0.875, 0.5709648779213997, 0.5515151515151515, 3.957783641160949, 2.3696682464454977]\n"
          ]
        },
        {
          "output_type": "stream",
          "name": "stderr",
          "text": [
            "\n",
            "\n",
            "Processing medical dataset:  55%|█████▌    | 277/500 [1:29:49<1:05:07, 17.52s/it]\u001b[A\u001b[A"
          ]
        },
        {
          "output_type": "stream",
          "name": "stdout",
          "text": [
            "Appended result to Google Drive file: [277, 0.3846153846153846, 0.6666666666666667, 0.6224181701666174, 0.6413043478260869, 2.941176470588235, 3.1847133757961785]\n"
          ]
        },
        {
          "output_type": "stream",
          "name": "stderr",
          "text": [
            "\n",
            "\n",
            "Processing medical dataset:  56%|█████▌    | 278/500 [1:30:06<1:04:37, 17.47s/it]\u001b[A\u001b[A"
          ]
        },
        {
          "output_type": "stream",
          "name": "stdout",
          "text": [
            "Appended result to Google Drive file: [278, 0.5333333333333333, 0.8166666666666667, 0.6056410256410256, 0.5006613756613757, 2.9940119760479043, 0.0]\n"
          ]
        },
        {
          "output_type": "stream",
          "name": "stderr",
          "text": [
            "\n",
            "\n",
            "Processing medical dataset:  56%|█████▌    | 279/500 [1:30:24<1:04:59, 17.65s/it]\u001b[A\u001b[A"
          ]
        },
        {
          "output_type": "stream",
          "name": "stdout",
          "text": [
            "Appended result to Google Drive file: [279, 0.2549019607843137, 0.7843137254901961, 0.5907263468239078, 0.5791666666666667, 0.0, 0.0]\n"
          ]
        },
        {
          "output_type": "stream",
          "name": "stderr",
          "text": [
            "\n",
            "\n",
            "Processing medical dataset:  56%|█████▌    | 280/500 [1:30:40<1:02:50, 17.14s/it]\u001b[A\u001b[A"
          ]
        },
        {
          "output_type": "stream",
          "name": "stdout",
          "text": [
            "Appended result to Google Drive file: [280, 0.5416666666666667, 0.6666666666666667, 0.6838183034407793, 0.6307425097698655, 1.886792452830189, 0.0]\n"
          ]
        },
        {
          "output_type": "stream",
          "name": "stderr",
          "text": [
            "\n",
            "\n",
            "Processing medical dataset:  56%|█████▌    | 281/500 [1:30:55<1:00:24, 16.55s/it]\u001b[A\u001b[A"
          ]
        },
        {
          "output_type": "stream",
          "name": "stdout",
          "text": [
            "Appended result to Google Drive file: [281, 0.44999999999999996, 0.6333333333333333, 0.5544987922705314, 0.6803683737646002, 4.966887417218543, 5.2631578947368425]\n"
          ]
        },
        {
          "output_type": "stream",
          "name": "stderr",
          "text": [
            "\n",
            "\n",
            "Processing medical dataset:  56%|█████▋    | 282/500 [1:31:12<1:00:36, 16.68s/it]\u001b[A\u001b[A"
          ]
        },
        {
          "output_type": "stream",
          "name": "stdout",
          "text": [
            "Appended result to Google Drive file: [282, 0.5333333333333333, 0.8, 0.6538817268561997, 0.7837667454688731, 2.7777777777777777, 2.8248587570621466]\n"
          ]
        },
        {
          "output_type": "stream",
          "name": "stderr",
          "text": [
            "\n",
            "\n",
            "Processing medical dataset:  57%|█████▋    | 283/500 [1:31:30<1:01:28, 17.00s/it]\u001b[A\u001b[A"
          ]
        },
        {
          "output_type": "stream",
          "name": "stdout",
          "text": [
            "Appended result to Google Drive file: [283, 0.631578947368421, 1.1929824561403508, 0.6175410277105192, 0.6436357975442215, 2.7322404371584694, 2.6455026455026456]\n"
          ]
        },
        {
          "output_type": "stream",
          "name": "stderr",
          "text": [
            "\n",
            "\n",
            "Processing medical dataset:  57%|█████▋    | 284/500 [1:31:44<57:53, 16.08s/it]  \u001b[A\u001b[A"
          ]
        },
        {
          "output_type": "stream",
          "name": "stdout",
          "text": [
            "Appended result to Google Drive file: [284, 0.4358974358974359, 0.6153846153846154, 0.6540816326530612, 0.7002977291545549, 0.0, 0.0]\n"
          ]
        },
        {
          "output_type": "stream",
          "name": "stderr",
          "text": [
            "\n",
            "\n",
            "Processing medical dataset:  57%|█████▋    | 285/500 [1:32:02<1:00:17, 16.83s/it]\u001b[A\u001b[A"
          ]
        },
        {
          "output_type": "stream",
          "name": "stdout",
          "text": [
            "Appended result to Google Drive file: [285, 0.3529411764705882, 0.6666666666666667, 0.6677132391418105, 0.8410011306403536, 3.558718861209964, 3.508771929824561]\n"
          ]
        },
        {
          "output_type": "stream",
          "name": "stderr",
          "text": [
            "\n",
            "\n",
            "Processing medical dataset:  57%|█████▋    | 286/500 [1:32:19<1:00:10, 16.87s/it]\u001b[A\u001b[A"
          ]
        },
        {
          "output_type": "stream",
          "name": "stdout",
          "text": [
            "Appended result to Google Drive file: [286, 0.5714285714285714, 0.7380952380952381, 0.6935400516795865, 0.647208583378796, 3.1645569620253164, 3.0487804878048776]\n"
          ]
        },
        {
          "output_type": "stream",
          "name": "stderr",
          "text": [
            "\n",
            "\n",
            "Processing medical dataset:  57%|█████▋    | 287/500 [1:32:36<1:00:11, 16.96s/it]\u001b[A\u001b[A"
          ]
        },
        {
          "output_type": "stream",
          "name": "stdout",
          "text": [
            "Appended result to Google Drive file: [287, 0.6666666666666667, 0.8947368421052632, 0.5346153846153846, 0.49108138238573024, 2.5125628140703515, 0.0]\n"
          ]
        },
        {
          "output_type": "stream",
          "name": "stderr",
          "text": [
            "\n",
            "\n",
            "Processing medical dataset:  58%|█████▊    | 288/500 [1:32:54<1:00:51, 17.22s/it]\u001b[A\u001b[A"
          ]
        },
        {
          "output_type": "stream",
          "name": "stdout",
          "text": [
            "Appended result to Google Drive file: [288, 0.4814814814814815, 0.6666666666666667, 0.6139433551198257, 0.6757991248872708, 1.9762845849802373, 3.802281368821293]\n"
          ]
        },
        {
          "output_type": "stream",
          "name": "stderr",
          "text": [
            "\n",
            "\n",
            "Processing medical dataset:  58%|█████▊    | 289/500 [1:33:09<57:58, 16.49s/it]  \u001b[A\u001b[A"
          ]
        },
        {
          "output_type": "stream",
          "name": "stdout",
          "text": [
            "Appended result to Google Drive file: [289, 0.5777777777777777, 0.7111111111111111, 0.6366436925647452, 0.5918524104798615, 5.0761421319796955, 0.0]\n"
          ]
        },
        {
          "output_type": "stream",
          "name": "stderr",
          "text": [
            "\n",
            "\n",
            "Processing medical dataset:  58%|█████▊    | 290/500 [1:33:28<1:00:15, 17.22s/it]\u001b[A\u001b[A"
          ]
        },
        {
          "output_type": "stream",
          "name": "stdout",
          "text": [
            "Appended result to Google Drive file: [290, 0.33333333333333337, 1.6274509803921569, 0.7341719077568135, 0.7715336629001883, 5.39568345323741, 0.8025682182985555]\n"
          ]
        },
        {
          "output_type": "stream",
          "name": "stderr",
          "text": [
            "\n",
            "\n",
            "Processing medical dataset:  58%|█████▊    | 291/500 [1:33:42<56:34, 16.24s/it]  \u001b[A\u001b[A"
          ]
        },
        {
          "output_type": "stream",
          "name": "stdout",
          "text": [
            "Appended result to Google Drive file: [291, 0.47916666666666663, 0.6666666666666667, 0.5813008130081301, 0.6177133655394526, 3.4965034965034962, 3.4722222222222223]\n"
          ]
        },
        {
          "output_type": "stream",
          "name": "stderr",
          "text": [
            "\n",
            "\n",
            "Processing medical dataset:  58%|█████▊    | 292/500 [1:33:56<53:50, 15.53s/it]\u001b[A\u001b[A"
          ]
        },
        {
          "output_type": "stream",
          "name": "stdout",
          "text": [
            "Appended result to Google Drive file: [292, 0.2777777777777778, 0.6851851851851851, 0.6165737643998513, 0.5371673390249242, 7.537688442211056, 3.831417624521073]\n"
          ]
        },
        {
          "output_type": "stream",
          "name": "stderr",
          "text": [
            "\n",
            "\n",
            "Processing medical dataset:  59%|█████▊    | 293/500 [1:34:15<57:29, 16.66s/it]\u001b[A\u001b[A"
          ]
        },
        {
          "output_type": "stream",
          "name": "stdout",
          "text": [
            "Appended result to Google Drive file: [293, 0.6666666666666667, 1.0222222222222221, 0.6004879301489471, 0.6873737373737373, 0.0, 0.0]\n"
          ]
        },
        {
          "output_type": "stream",
          "name": "stderr",
          "text": [
            "\n",
            "\n",
            "Processing medical dataset:  59%|█████▉    | 294/500 [1:34:34<59:11, 17.24s/it]\u001b[A\u001b[A"
          ]
        },
        {
          "output_type": "stream",
          "name": "stdout",
          "text": [
            "Appended result to Google Drive file: [294, 0.33333333333333337, 0.5, 0.5307924984875984, 0.5503083394592828, 2.976190476190476, 2.857142857142857]\n"
          ]
        },
        {
          "output_type": "stream",
          "name": "stderr",
          "text": [
            "\n",
            "\n",
            "Processing medical dataset:  59%|█████▉    | 295/500 [1:34:53<1:00:43, 17.77s/it]\u001b[A\u001b[A"
          ]
        },
        {
          "output_type": "stream",
          "name": "stdout",
          "text": [
            "Appended result to Google Drive file: [295, 0.5476190476190477, 0.6428571428571428, 0.5448508069197724, 0.5743448894709399, 2.7777777777777777, 0.0]\n"
          ]
        },
        {
          "output_type": "stream",
          "name": "stderr",
          "text": [
            "\n",
            "\n",
            "Processing medical dataset:  59%|█████▉    | 296/500 [1:35:09<59:14, 17.43s/it]  \u001b[A\u001b[A"
          ]
        },
        {
          "output_type": "stream",
          "name": "stdout",
          "text": [
            "Appended result to Google Drive file: [296, 0.5416666666666667, 0.6666666666666667, 0.5278829048937604, 0.6145021645021645, 5.235602094240837, 2.7624309392265194]\n"
          ]
        },
        {
          "output_type": "stream",
          "name": "stderr",
          "text": [
            "\n",
            "\n",
            "Processing medical dataset:  59%|█████▉    | 297/500 [1:35:31<1:03:00, 18.63s/it]\u001b[A\u001b[A"
          ]
        },
        {
          "output_type": "stream",
          "name": "stdout",
          "text": [
            "Appended result to Google Drive file: [297, 0.39583333333333337, 0.8541666666666666, 0.7067403326994119, 0.9368590695873736, 5.649717514124293, 0.0]\n"
          ]
        },
        {
          "output_type": "stream",
          "name": "stderr",
          "text": [
            "\n",
            "\n",
            "Processing medical dataset:  60%|█████▉    | 298/500 [1:35:50<1:03:03, 18.73s/it]\u001b[A\u001b[A"
          ]
        },
        {
          "output_type": "stream",
          "name": "stdout",
          "text": [
            "Appended result to Google Drive file: [298, 0.48888888888888893, 1.5777777777777777, 0.5633879781420764, 0.5314447320487009, 5.181347150259068, 0.0]\n"
          ]
        },
        {
          "output_type": "stream",
          "name": "stderr",
          "text": [
            "\n",
            "\n",
            "Processing medical dataset:  60%|█████▉    | 299/500 [1:36:07<1:01:45, 18.43s/it]\u001b[A\u001b[A"
          ]
        },
        {
          "output_type": "stream",
          "name": "stdout",
          "text": [
            "Appended result to Google Drive file: [299, 0.5, 0.8541666666666666, 0.6947169811320754, 0.667869957379324, 0.0, 0.0]\n"
          ]
        },
        {
          "output_type": "stream",
          "name": "stderr",
          "text": [
            "\n",
            "\n",
            "Processing medical dataset:  60%|██████    | 300/500 [1:36:27<1:02:31, 18.76s/it]\u001b[A\u001b[A"
          ]
        },
        {
          "output_type": "stream",
          "name": "stdout",
          "text": [
            "Appended result to Google Drive file: [300, 0.2407407407407407, 0.4444444444444444, 0.6627210884353741, 0.6440991490935998, 0.0, 0.0]\n"
          ]
        },
        {
          "output_type": "stream",
          "name": "stderr",
          "text": [
            "\n",
            "\n",
            "Processing medical dataset:  60%|██████    | 301/500 [1:36:43<59:21, 17.90s/it]  \u001b[A\u001b[A"
          ]
        },
        {
          "output_type": "stream",
          "name": "stdout",
          "text": [
            "Appended result to Google Drive file: [301, 0.5087719298245614, 0.6842105263157895, 0.5211341525857655, 0.6692123390236597, 3.508771929824561, 1.779359430604982]\n"
          ]
        },
        {
          "output_type": "stream",
          "name": "stderr",
          "text": [
            "\n",
            "\n",
            "Processing medical dataset:  60%|██████    | 302/500 [1:37:03<1:01:44, 18.71s/it]\u001b[A\u001b[A"
          ]
        },
        {
          "output_type": "stream",
          "name": "stdout",
          "text": [
            "Appended result to Google Drive file: [302, 0.5333333333333333, 0.5833333333333333, 0.565564335186811, 0.225972706155633, 2.3255813953488373, 0.0]\n"
          ]
        },
        {
          "output_type": "stream",
          "name": "stderr",
          "text": [
            "\n",
            "\n",
            "Processing medical dataset:  61%|██████    | 303/500 [1:37:19<58:42, 17.88s/it]  \u001b[A\u001b[A"
          ]
        },
        {
          "output_type": "stream",
          "name": "stdout",
          "text": [
            "Appended result to Google Drive file: [303, 0.41666666666666663, 0.6166666666666667, 0.5215899919289749, 0.6185400516795866, 1.6778523489932886, 0.0]\n"
          ]
        },
        {
          "output_type": "stream",
          "name": "stderr",
          "text": [
            "\n",
            "\n",
            "Processing medical dataset:  61%|██████    | 304/500 [1:37:42<1:02:39, 19.18s/it]\u001b[A\u001b[A"
          ]
        },
        {
          "output_type": "stream",
          "name": "stdout",
          "text": [
            "Appended result to Google Drive file: [304, 0.3555555555555555, 1.0222222222222221, 0.6374963028689736, 0.6273911273911273, 0.0, 1.865671641791045]\n"
          ]
        },
        {
          "output_type": "stream",
          "name": "stderr",
          "text": [
            "\n",
            "\n",
            "Processing medical dataset:  61%|██████    | 305/500 [1:37:58<59:22, 18.27s/it]  \u001b[A\u001b[A"
          ]
        },
        {
          "output_type": "stream",
          "name": "stdout",
          "text": [
            "Appended result to Google Drive file: [305, 0.543859649122807, 0.8070175438596492, 0.5795678409108537, 0.4503928170594837, 1.7730496453900706, 1.9230769230769231]\n"
          ]
        },
        {
          "output_type": "stream",
          "name": "stderr",
          "text": [
            "\n",
            "\n",
            "Processing medical dataset:  61%|██████    | 306/500 [1:38:16<59:12, 18.31s/it]\u001b[A\u001b[A"
          ]
        },
        {
          "output_type": "stream",
          "name": "stdout",
          "text": [
            "Appended result to Google Drive file: [306, 0.875, 0.9583333333333334, 0.8461879432624113, 0.7855380820228183, 0.0, 0.0]\n"
          ]
        },
        {
          "output_type": "stream",
          "name": "stderr",
          "text": [
            "\n",
            "\n",
            "Processing medical dataset:  61%|██████▏   | 307/500 [1:38:34<58:26, 18.17s/it]\u001b[A\u001b[A"
          ]
        },
        {
          "output_type": "stream",
          "name": "stdout",
          "text": [
            "Appended result to Google Drive file: [307, 0.6140350877192983, 0.6842105263157895, 0.5680196253345228, 0.47434996112016536, 5.291005291005291, 5.291005291005291]\n"
          ]
        },
        {
          "output_type": "stream",
          "name": "stderr",
          "text": [
            "\n",
            "\n",
            "Processing medical dataset:  62%|██████▏   | 308/500 [1:38:54<1:00:16, 18.84s/it]\u001b[A\u001b[A"
          ]
        },
        {
          "output_type": "stream",
          "name": "stdout",
          "text": [
            "Appended result to Google Drive file: [308, 0.5416666666666667, 0.8958333333333334, 0.5275171509281679, 0.6471434997750787, 2.3041474654377883, 2.403846153846154]\n"
          ]
        },
        {
          "output_type": "stream",
          "name": "stderr",
          "text": [
            "\n",
            "\n",
            "Processing medical dataset:  62%|██████▏   | 309/500 [1:39:15<1:02:06, 19.51s/it]\u001b[A\u001b[A"
          ]
        },
        {
          "output_type": "stream",
          "name": "stdout",
          "text": [
            "Appended result to Google Drive file: [309, 0.4117647058823529, 1.0392156862745099, 0.4055253623188406, 0.5440731827718129, 2.1929824561403506, 1.7301038062283738]\n"
          ]
        },
        {
          "output_type": "stream",
          "name": "stderr",
          "text": [
            "\n",
            "\n",
            "Processing medical dataset:  62%|██████▏   | 310/500 [1:39:30<56:43, 17.92s/it]  \u001b[A\u001b[A"
          ]
        },
        {
          "output_type": "stream",
          "name": "stdout",
          "text": [
            "Appended result to Google Drive file: [310, 0.5833333333333333, 1.0416666666666667, 0.7401254405971387, 0.4506346729357085, 3.4129692832764498, 0.0]\n"
          ]
        },
        {
          "output_type": "stream",
          "name": "stderr",
          "text": [
            "\n",
            "\n",
            "Processing medical dataset:  62%|██████▏   | 311/500 [1:39:44<53:05, 16.85s/it]\u001b[A\u001b[A"
          ]
        },
        {
          "output_type": "stream",
          "name": "stdout",
          "text": [
            "Appended result to Google Drive file: [311, 0.47619047619047616, 0.7142857142857143, 0.5844139194139194, 0.5493511414227527, 2.8901734104046244, 3.731343283582089]\n"
          ]
        },
        {
          "output_type": "stream",
          "name": "stderr",
          "text": [
            "\n",
            "\n",
            "Processing medical dataset:  62%|██████▏   | 312/500 [1:40:03<54:25, 17.37s/it]\u001b[A\u001b[A"
          ]
        },
        {
          "output_type": "stream",
          "name": "stdout",
          "text": [
            "Appended result to Google Drive file: [312, 0.5555555555555556, 0.7555555555555555, 0.6515742909185532, 0.686996537745533, 3.3670033670033668, 3.5211267605633805]\n"
          ]
        },
        {
          "output_type": "stream",
          "name": "stderr",
          "text": [
            "\n",
            "\n",
            "Processing medical dataset:  63%|██████▎   | 313/500 [1:40:17<51:43, 16.60s/it]\u001b[A\u001b[A"
          ]
        },
        {
          "output_type": "stream",
          "name": "stdout",
          "text": [
            "Appended result to Google Drive file: [313, 0.3137254901960784, 0.4117647058823529, 0.5368721630578288, 0.6179084967320261, 0.0, 3.0120481927710845]\n"
          ]
        },
        {
          "output_type": "stream",
          "name": "stderr",
          "text": [
            "\n",
            "\n",
            "Processing medical dataset:  63%|██████▎   | 314/500 [1:40:36<53:30, 17.26s/it]\u001b[A\u001b[A"
          ]
        },
        {
          "output_type": "stream",
          "name": "stdout",
          "text": [
            "Appended result to Google Drive file: [314, 0.5714285714285714, 0.7619047619047619, 0.5352584222640719, 0.6540919230411748, 0.0, 0.0]\n"
          ]
        },
        {
          "output_type": "stream",
          "name": "stderr",
          "text": [
            "\n",
            "\n",
            "Processing medical dataset:  63%|██████▎   | 315/500 [1:40:51<50:58, 16.53s/it]\u001b[A\u001b[A"
          ]
        },
        {
          "output_type": "stream",
          "name": "stdout",
          "text": [
            "Appended result to Google Drive file: [315, 0.41025641025641024, 0.5128205128205128, 0.7240925058548009, 0.786723163841808, 4.225352112676056, 4.451038575667656]\n"
          ]
        },
        {
          "output_type": "stream",
          "name": "stderr",
          "text": [
            "\n",
            "\n",
            "Processing medical dataset:  63%|██████▎   | 316/500 [1:41:08<51:28, 16.79s/it]\u001b[A\u001b[A"
          ]
        },
        {
          "output_type": "stream",
          "name": "stdout",
          "text": [
            "Appended result to Google Drive file: [316, 0.6842105263157895, 0.8245614035087719, 0.7412587412587412, 0.5727955621200821, 0.0, 2.590673575129534]\n"
          ]
        },
        {
          "output_type": "stream",
          "name": "stderr",
          "text": [
            "\n",
            "\n",
            "Processing medical dataset:  63%|██████▎   | 317/500 [1:41:30<55:06, 18.07s/it]\u001b[A\u001b[A"
          ]
        },
        {
          "output_type": "stream",
          "name": "stdout",
          "text": [
            "Appended result to Google Drive file: [317, 0.4444444444444444, 0.8333333333333334, 0.5738335738335739, 0.60423352214397, 3.067484662576687, 3.0864197530864192]\n"
          ]
        },
        {
          "output_type": "stream",
          "name": "stderr",
          "text": [
            "\n",
            "\n",
            "Processing medical dataset:  64%|██████▎   | 318/500 [1:41:43<50:49, 16.75s/it]\u001b[A\u001b[A"
          ]
        },
        {
          "output_type": "stream",
          "name": "stdout",
          "text": [
            "Appended result to Google Drive file: [318, 0.6470588235294117, 0.7647058823529411, 0.5214329083181543, 0.49507554272160065, 2.717391304347826, 0.0]\n"
          ]
        },
        {
          "output_type": "stream",
          "name": "stderr",
          "text": [
            "\n",
            "\n",
            "Processing medical dataset:  64%|██████▍   | 319/500 [1:42:03<52:55, 17.55s/it]\u001b[A\u001b[A"
          ]
        },
        {
          "output_type": "stream",
          "name": "stdout",
          "text": [
            "Appended result to Google Drive file: [319, 0.4375, 0.75, 0.6583261432269197, 0.7176261893243026, 2.564102564102564, 0.0]\n"
          ]
        },
        {
          "output_type": "stream",
          "name": "stderr",
          "text": [
            "\n",
            "\n",
            "Processing medical dataset:  64%|██████▍   | 320/500 [1:42:19<51:26, 17.15s/it]\u001b[A\u001b[A"
          ]
        },
        {
          "output_type": "stream",
          "name": "stdout",
          "text": [
            "Appended result to Google Drive file: [320, 0.40740740740740744, 0.7222222222222222, 0.600250626566416, 0.5090230973672232, 0.0, 0.0]\n"
          ]
        },
        {
          "output_type": "stream",
          "name": "stderr",
          "text": [
            "\n",
            "\n",
            "Processing medical dataset:  64%|██████▍   | 321/500 [1:42:36<51:05, 17.13s/it]\u001b[A\u001b[A"
          ]
        },
        {
          "output_type": "stream",
          "name": "stdout",
          "text": [
            "Appended result to Google Drive file: [321, 0.5208333333333333, 0.6666666666666667, 0.6069202081767833, 0.626302391198121, 5.181347150259068, 0.0]\n"
          ]
        },
        {
          "output_type": "stream",
          "name": "stderr",
          "text": [
            "\n",
            "\n",
            "Processing medical dataset:  64%|██████▍   | 322/500 [1:42:55<52:28, 17.69s/it]\u001b[A\u001b[A"
          ]
        },
        {
          "output_type": "stream",
          "name": "stdout",
          "text": [
            "Appended result to Google Drive file: [322, 0.47916666666666663, 1.3125, 0.4864378777422255, 0.4807394190552933, 3.048780487804878, 2.109704641350211]\n"
          ]
        },
        {
          "output_type": "stream",
          "name": "stderr",
          "text": [
            "\n",
            "\n",
            "Processing medical dataset:  65%|██████▍   | 323/500 [1:43:07<46:47, 15.86s/it]\u001b[A\u001b[A"
          ]
        },
        {
          "output_type": "stream",
          "name": "stdout",
          "text": [
            "Appended result to Google Drive file: [323, 0.42105263157894735, 0.6842105263157895, 0.6824751580849142, 1.0, 2.1645021645021645, 0.0]\n"
          ]
        },
        {
          "output_type": "stream",
          "name": "stderr",
          "text": [
            "\n",
            "\n",
            "Processing medical dataset:  65%|██████▍   | 324/500 [1:43:22<46:04, 15.71s/it]\u001b[A\u001b[A"
          ]
        },
        {
          "output_type": "stream",
          "name": "stdout",
          "text": [
            "Appended result to Google Drive file: [324, 0.4222222222222223, 0.7555555555555555, 0.5271317829457365, 0.5811260674482559, 7.177033492822968, 5.952380952380952]\n"
          ]
        },
        {
          "output_type": "stream",
          "name": "stderr",
          "text": [
            "\n",
            "\n",
            "Processing medical dataset:  65%|██████▌   | 325/500 [1:43:35<43:58, 15.08s/it]\u001b[A\u001b[A"
          ]
        },
        {
          "output_type": "stream",
          "name": "stdout",
          "text": [
            "Appended result to Google Drive file: [325, 0.5128205128205128, 0.717948717948718, 0.5699736495388669, 0.5371428571428571, 6.493506493506493, 6.787330316742081]\n"
          ]
        },
        {
          "output_type": "stream",
          "name": "stderr",
          "text": [
            "\n",
            "\n",
            "Processing medical dataset:  65%|██████▌   | 326/500 [1:43:53<45:57, 15.85s/it]\u001b[A\u001b[A"
          ]
        },
        {
          "output_type": "stream",
          "name": "stdout",
          "text": [
            "Appended result to Google Drive file: [326, 0.5686274509803921, 0.7058823529411764, 0.48627015480590097, 0.6474460921269432, 5.208333333333334, 2.976190476190476]\n"
          ]
        },
        {
          "output_type": "stream",
          "name": "stderr",
          "text": [
            "\n",
            "\n",
            "Processing medical dataset:  65%|██████▌   | 327/500 [1:44:09<45:49, 15.89s/it]\u001b[A\u001b[A"
          ]
        },
        {
          "output_type": "stream",
          "name": "stdout",
          "text": [
            "Appended result to Google Drive file: [327, 0.5, 0.5625, 0.4971846328515757, 0.6155309243335487, 1.529051987767584, 3.3112582781456954]\n"
          ]
        },
        {
          "output_type": "stream",
          "name": "stderr",
          "text": [
            "\n",
            "\n",
            "Processing medical dataset:  66%|██████▌   | 328/500 [1:44:23<43:45, 15.27s/it]\u001b[A\u001b[A"
          ]
        },
        {
          "output_type": "stream",
          "name": "stdout",
          "text": [
            "Appended result to Google Drive file: [328, 0.38095238095238093, 0.5238095238095238, 0.5246913580246914, 0.4618894256575416, 3.6231884057971016, 3.571428571428571]\n"
          ]
        },
        {
          "output_type": "stream",
          "name": "stderr",
          "text": [
            "\n",
            "\n",
            "Processing medical dataset:  66%|██████▌   | 329/500 [1:44:42<47:08, 16.54s/it]\u001b[A\u001b[A"
          ]
        },
        {
          "output_type": "stream",
          "name": "stdout",
          "text": [
            "Appended result to Google Drive file: [329, 0.7037037037037037, 1.6296296296296298, 0.7231400610333578, 0.7022209234365868, 5.025125628140703, 1.1876484560570073]\n"
          ]
        },
        {
          "output_type": "stream",
          "name": "stderr",
          "text": [
            "\n",
            "\n",
            "Processing medical dataset:  66%|██████▌   | 330/500 [1:44:56<44:35, 15.74s/it]\u001b[A\u001b[A"
          ]
        },
        {
          "output_type": "stream",
          "name": "stdout",
          "text": [
            "Appended result to Google Drive file: [330, 0.5882352941176471, 0.9019607843137255, 0.5396361273554255, 0.5366710584101888, 2.873563218390805, 3.1847133757961785]\n"
          ]
        },
        {
          "output_type": "stream",
          "name": "stderr",
          "text": [
            "\n",
            "\n",
            "Processing medical dataset:  66%|██████▌   | 331/500 [1:45:10<42:17, 15.01s/it]\u001b[A\u001b[A"
          ]
        },
        {
          "output_type": "stream",
          "name": "stdout",
          "text": [
            "Appended result to Google Drive file: [331, 0.40476190476190477, 0.9523809523809523, 0.47800139762403915, 0.6697619047619048, 3.1055900621118013, 4.807692307692308]\n"
          ]
        },
        {
          "output_type": "stream",
          "name": "stderr",
          "text": [
            "\n",
            "\n",
            "Processing medical dataset:  66%|██████▋   | 332/500 [1:45:34<49:42, 17.76s/it]\u001b[A\u001b[A"
          ]
        },
        {
          "output_type": "stream",
          "name": "stdout",
          "text": [
            "Appended result to Google Drive file: [332, 0.2962962962962963, 0.7592592592592593, 0.39945945945945943, 0.557010582010582, 0.0, 0.0]\n"
          ]
        },
        {
          "output_type": "stream",
          "name": "stderr",
          "text": [
            "\n",
            "\n",
            "Processing medical dataset:  67%|██████▋   | 333/500 [1:45:49<47:40, 17.13s/it]\u001b[A\u001b[A"
          ]
        },
        {
          "output_type": "stream",
          "name": "stdout",
          "text": [
            "Appended result to Google Drive file: [333, 0.3137254901960784, 0.8823529411764706, 0.5421401039048098, 1.0, 4.0, 0.0]\n"
          ]
        },
        {
          "output_type": "stream",
          "name": "stderr",
          "text": [
            "\n",
            "\n",
            "Processing medical dataset:  67%|██████▋   | 334/500 [1:46:06<46:44, 16.89s/it]\u001b[A\u001b[A"
          ]
        },
        {
          "output_type": "stream",
          "name": "stdout",
          "text": [
            "Appended result to Google Drive file: [334, 0.4222222222222223, 0.8, 0.6626984126984127, 0.6030598381475575, 3.257328990228013, 0.0]\n"
          ]
        },
        {
          "output_type": "stream",
          "name": "stderr",
          "text": [
            "\n",
            "\n",
            "Processing medical dataset:  67%|██████▋   | 335/500 [1:46:24<47:33, 17.29s/it]\u001b[A\u001b[A"
          ]
        },
        {
          "output_type": "stream",
          "name": "stdout",
          "text": [
            "Appended result to Google Drive file: [335, 0.6041666666666667, 1.0208333333333333, 0.6799854041233352, 0.4833644431345581, 0.0, 0.0]\n"
          ]
        },
        {
          "output_type": "stream",
          "name": "stderr",
          "text": [
            "\n",
            "\n",
            "Processing medical dataset:  67%|██████▋   | 336/500 [1:46:42<48:13, 17.64s/it]\u001b[A\u001b[A"
          ]
        },
        {
          "output_type": "stream",
          "name": "stdout",
          "text": [
            "Appended result to Google Drive file: [336, 0.38596491228070173, 0.6491228070175439, 0.6451545530492899, 0.6632063916854282, 0.0, 0.0]\n"
          ]
        },
        {
          "output_type": "stream",
          "name": "stderr",
          "text": [
            "\n",
            "\n",
            "Processing medical dataset:  67%|██████▋   | 337/500 [1:47:04<51:22, 18.91s/it]\u001b[A\u001b[A"
          ]
        },
        {
          "output_type": "stream",
          "name": "stdout",
          "text": [
            "Appended result to Google Drive file: [337, 0.7719298245614035, 0.8245614035087719, 0.7673360313767006, 0.6704402515723271, 0.0, 2.403846153846154]\n"
          ]
        },
        {
          "output_type": "stream",
          "name": "stderr",
          "text": [
            "\n",
            "\n",
            "Processing medical dataset:  68%|██████▊   | 338/500 [1:47:22<49:59, 18.52s/it]\u001b[A\u001b[A"
          ]
        },
        {
          "output_type": "stream",
          "name": "stdout",
          "text": [
            "Appended result to Google Drive file: [338, 0.4444444444444444, 0.537037037037037, 0.6842043963857932, 0.7635897435897435, 0.0, 0.0]\n"
          ]
        },
        {
          "output_type": "stream",
          "name": "stderr",
          "text": [
            "\n",
            "\n",
            "Processing medical dataset:  68%|██████▊   | 339/500 [1:47:38<47:36, 17.74s/it]\u001b[A\u001b[A"
          ]
        },
        {
          "output_type": "stream",
          "name": "stdout",
          "text": [
            "Appended result to Google Drive file: [339, 0.6041666666666667, 0.8541666666666666, 0.5721370058826764, 0.5669753086419753, 3.125, 2.9940119760479043]\n"
          ]
        },
        {
          "output_type": "stream",
          "name": "stderr",
          "text": [
            "\n",
            "\n",
            "Processing medical dataset:  68%|██████▊   | 340/500 [1:47:53<45:34, 17.09s/it]\u001b[A\u001b[A"
          ]
        },
        {
          "output_type": "stream",
          "name": "stdout",
          "text": [
            "Appended result to Google Drive file: [340, 0.5833333333333333, 0.75, 0.8644614512471654, 0.7056360708534622, 3.703703703703704, 4.0983606557377055]\n"
          ]
        },
        {
          "output_type": "stream",
          "name": "stderr",
          "text": [
            "\n",
            "\n",
            "Processing medical dataset:  68%|██████▊   | 341/500 [1:48:07<42:37, 16.09s/it]\u001b[A\u001b[A"
          ]
        },
        {
          "output_type": "stream",
          "name": "stdout",
          "text": [
            "Appended result to Google Drive file: [341, 0.45833333333333337, 0.5, 0.5984647410876919, 0.26847777191026617, 0.0, 0.0]\n"
          ]
        },
        {
          "output_type": "stream",
          "name": "stderr",
          "text": [
            "\n",
            "\n",
            "Processing medical dataset:  68%|██████▊   | 342/500 [1:48:19<38:41, 14.70s/it]\u001b[A\u001b[A"
          ]
        },
        {
          "output_type": "stream",
          "name": "stdout",
          "text": [
            "Appended result to Google Drive file: [342, 0.33333333333333337, 0.5757575757575757, 0.5556449876266023, 0.4084595431344657, 5.7251908396946565, 6.024096385542169]\n"
          ]
        },
        {
          "output_type": "stream",
          "name": "stderr",
          "text": [
            "\n",
            "\n",
            "Processing medical dataset:  69%|██████▊   | 343/500 [1:48:36<40:14, 15.38s/it]\u001b[A\u001b[A"
          ]
        },
        {
          "output_type": "stream",
          "name": "stdout",
          "text": [
            "Appended result to Google Drive file: [343, 0.641025641025641, 0.7692307692307692, 0.6864456474413664, 0.8684699543680247, 0.0, 0.0]\n"
          ]
        },
        {
          "output_type": "stream",
          "name": "stderr",
          "text": [
            "\n",
            "\n",
            "Processing medical dataset:  69%|██████▉   | 344/500 [1:48:53<41:32, 15.98s/it]\u001b[A\u001b[A"
          ]
        },
        {
          "output_type": "stream",
          "name": "stdout",
          "text": [
            "Appended result to Google Drive file: [344, 0.6862745098039216, 0.7450980392156863, 0.610543772366239, 0.7516708437761069, 1.9762845849802375, 2.1097046413502105]\n"
          ]
        },
        {
          "output_type": "stream",
          "name": "stderr",
          "text": [
            "\n",
            "\n",
            "Processing medical dataset:  69%|██████▉   | 345/500 [1:49:10<41:55, 16.23s/it]\u001b[A\u001b[A"
          ]
        },
        {
          "output_type": "stream",
          "name": "stdout",
          "text": [
            "Appended result to Google Drive file: [345, 0.40476190476190477, 0.6428571428571428, 0.6888691577259834, 0.6494291837132281, 0.0, 0.0]\n"
          ]
        },
        {
          "output_type": "stream",
          "name": "stderr",
          "text": [
            "\n",
            "\n",
            "Processing medical dataset:  69%|██████▉   | 346/500 [1:49:27<42:18, 16.49s/it]\u001b[A\u001b[A"
          ]
        },
        {
          "output_type": "stream",
          "name": "stdout",
          "text": [
            "Appended result to Google Drive file: [346, 0.5, 1.2592592592592593, 0.7123717711036953, 0.617989417989418, 4.087193460490464, 1.2953367875647668]\n"
          ]
        },
        {
          "output_type": "stream",
          "name": "stderr",
          "text": [
            "\n",
            "\n",
            "Processing medical dataset:  69%|██████▉   | 347/500 [1:49:43<41:48, 16.40s/it]\u001b[A\u001b[A"
          ]
        },
        {
          "output_type": "stream",
          "name": "stdout",
          "text": [
            "Appended result to Google Drive file: [347, 0.5128205128205128, 0.8717948717948718, 0.5446596717783159, 0.7568707482993197, 5.415162454873645, 5.617977528089887]\n"
          ]
        },
        {
          "output_type": "stream",
          "name": "stderr",
          "text": [
            "\n",
            "\n",
            "Processing medical dataset:  70%|██████▉   | 348/500 [1:50:03<44:12, 17.45s/it]\u001b[A\u001b[A"
          ]
        },
        {
          "output_type": "stream",
          "name": "stdout",
          "text": [
            "Appended result to Google Drive file: [348, 0.37037037037037035, 0.5555555555555556, 0.5776201733648542, 0.6764941912985022, 2.8409090909090904, 0.0]\n"
          ]
        },
        {
          "output_type": "stream",
          "name": "stderr",
          "text": [
            "\n",
            "\n",
            "Processing medical dataset:  70%|██████▉   | 349/500 [1:50:16<40:44, 16.19s/it]\u001b[A\u001b[A"
          ]
        },
        {
          "output_type": "stream",
          "name": "stdout",
          "text": [
            "Appended result to Google Drive file: [349, 0.33333333333333337, 0.5208333333333333, 0.38608058608058604, 0.5767984281793415, 0.0, 2.8901734104046244]\n"
          ]
        },
        {
          "output_type": "stream",
          "name": "stderr",
          "text": [
            "\n",
            "\n",
            "Processing medical dataset:  70%|███████   | 350/500 [1:50:35<42:23, 16.96s/it]\u001b[A\u001b[A"
          ]
        },
        {
          "output_type": "stream",
          "name": "stdout",
          "text": [
            "Appended result to Google Drive file: [350, 0.5454545454545454, 0.8484848484848485, 0.6188249700815452, 0.7369372562920949, 4.731861198738171, 4.347826086956521]\n"
          ]
        },
        {
          "output_type": "stream",
          "name": "stderr",
          "text": [
            "\n",
            "\n",
            "Processing medical dataset:  70%|███████   | 351/500 [1:50:49<39:41, 15.98s/it]\u001b[A\u001b[A"
          ]
        },
        {
          "output_type": "stream",
          "name": "stdout",
          "text": [
            "Appended result to Google Drive file: [351, 0.4871794871794872, 0.5897435897435898, 0.7193378561345893, 0.6236179988979541, 4.870129870129871, 4.918032786885246]\n"
          ]
        },
        {
          "output_type": "stream",
          "name": "stderr",
          "text": [
            "\n",
            "\n",
            "Processing medical dataset:  70%|███████   | 352/500 [1:51:04<39:06, 15.86s/it]\u001b[A\u001b[A"
          ]
        },
        {
          "output_type": "stream",
          "name": "stdout",
          "text": [
            "Appended result to Google Drive file: [352, 0.5111111111111111, 0.7333333333333334, 0.6670211365316643, 0.6512860828898565, 5.769230769230769, 5.597014925373134]\n"
          ]
        },
        {
          "output_type": "stream",
          "name": "stderr",
          "text": [
            "\n",
            "\n",
            "Processing medical dataset:  71%|███████   | 353/500 [1:51:25<42:21, 17.29s/it]\u001b[A\u001b[A"
          ]
        },
        {
          "output_type": "stream",
          "name": "stdout",
          "text": [
            "Appended result to Google Drive file: [353, 0.5416666666666667, 0.625, 0.7227263561201855, 0.7550302309445932, 4.347826086956521, 4.504504504504505]\n"
          ]
        },
        {
          "output_type": "stream",
          "name": "stderr",
          "text": [
            "\n",
            "\n",
            "Processing medical dataset:  71%|███████   | 354/500 [1:51:39<39:24, 16.20s/it]\u001b[A\u001b[A"
          ]
        },
        {
          "output_type": "stream",
          "name": "stdout",
          "text": [
            "Appended result to Google Drive file: [354, 0.5087719298245614, 0.8245614035087719, 0.5631405776846028, 0.5057791232435003, 0.0, 3.401360544217687]\n"
          ]
        },
        {
          "output_type": "stream",
          "name": "stderr",
          "text": [
            "\n",
            "\n",
            "Processing medical dataset:  71%|███████   | 355/500 [1:51:55<39:22, 16.29s/it]\u001b[A\u001b[A"
          ]
        },
        {
          "output_type": "stream",
          "name": "stdout",
          "text": [
            "Appended result to Google Drive file: [355, 0.3555555555555555, 1.0, 0.6473727422003285, 0.3718855218855219, 5.05050505050505, 0.0]\n"
          ]
        },
        {
          "output_type": "stream",
          "name": "stderr",
          "text": [
            "\n",
            "\n",
            "Processing medical dataset:  71%|███████   | 356/500 [1:52:11<38:54, 16.21s/it]\u001b[A\u001b[A"
          ]
        },
        {
          "output_type": "stream",
          "name": "stdout",
          "text": [
            "Appended result to Google Drive file: [356, 0.4901960784313726, 1.3333333333333333, 0.5889293286991496, 0.8809523809523809, 2.9239766081871346, 0.0]\n"
          ]
        },
        {
          "output_type": "stream",
          "name": "stderr",
          "text": [
            "\n",
            "\n",
            "Processing medical dataset:  71%|███████▏  | 357/500 [1:52:28<38:51, 16.31s/it]\u001b[A\u001b[A"
          ]
        },
        {
          "output_type": "stream",
          "name": "stdout",
          "text": [
            "Appended result to Google Drive file: [357, 0.43137254901960786, 0.5882352941176471, 0.49947161835748793, 0.6789515880357694, 3.4602076124567476, 0.0]\n"
          ]
        },
        {
          "output_type": "stream",
          "name": "stderr",
          "text": [
            "\n",
            "\n",
            "Processing medical dataset:  72%|███████▏  | 358/500 [1:52:42<37:32, 15.86s/it]\u001b[A\u001b[A"
          ]
        },
        {
          "output_type": "stream",
          "name": "stdout",
          "text": [
            "Appended result to Google Drive file: [358, 0.8333333333333334, 1.037037037037037, 0.5580357142857143, 0.4701126607621568, 4.792332268370606, 0.0]\n"
          ]
        },
        {
          "output_type": "stream",
          "name": "stderr",
          "text": [
            "\n",
            "\n",
            "Processing medical dataset:  72%|███████▏  | 359/500 [1:52:57<36:30, 15.53s/it]\u001b[A\u001b[A"
          ]
        },
        {
          "output_type": "stream",
          "name": "stdout",
          "text": [
            "Appended result to Google Drive file: [359, 0.537037037037037, 0.962962962962963, 0.49897956217111955, 0.6750524109014675, 3.3112582781456954, 3.225806451612903]\n"
          ]
        },
        {
          "output_type": "stream",
          "name": "stderr",
          "text": [
            "\n",
            "\n",
            "Processing medical dataset:  72%|███████▏  | 360/500 [1:53:13<36:07, 15.48s/it]\u001b[A\u001b[A"
          ]
        },
        {
          "output_type": "stream",
          "name": "stdout",
          "text": [
            "Appended result to Google Drive file: [360, 0.4545454545454546, 0.7878787878787878, 0.7084125735020876, 0.8086956521739129, 5.454545454545455, 1.8796992481203008]\n"
          ]
        },
        {
          "output_type": "stream",
          "name": "stderr",
          "text": [
            "\n",
            "\n",
            "Processing medical dataset:  72%|███████▏  | 361/500 [1:53:25<33:35, 14.50s/it]\u001b[A\u001b[A"
          ]
        },
        {
          "output_type": "stream",
          "name": "stdout",
          "text": [
            "Appended result to Google Drive file: [361, 0.45238095238095233, 0.5476190476190477, 0.49277777777777776, 0.6068858800773694, 3.4482758620689653, 0.0]\n"
          ]
        },
        {
          "output_type": "stream",
          "name": "stderr",
          "text": [
            "\n",
            "\n",
            "Processing medical dataset:  72%|███████▏  | 362/500 [1:53:41<34:53, 15.17s/it]\u001b[A\u001b[A"
          ]
        },
        {
          "output_type": "stream",
          "name": "stdout",
          "text": [
            "Appended result to Google Drive file: [362, 0.3921568627450981, 0.6666666666666667, 0.44876543209876546, 0.5376068376068376, 3.831417624521073, 5.952380952380952]\n"
          ]
        },
        {
          "output_type": "stream",
          "name": "stderr",
          "text": [
            "\n",
            "\n",
            "Processing medical dataset:  73%|███████▎  | 363/500 [1:53:57<35:08, 15.39s/it]\u001b[A\u001b[A"
          ]
        },
        {
          "output_type": "stream",
          "name": "stdout",
          "text": [
            "Appended result to Google Drive file: [363, 0.55, 0.8166666666666667, 0.6333158942856179, 0.41520763187429854, 6.147540983606558, 4.385964912280701]\n"
          ]
        },
        {
          "output_type": "stream",
          "name": "stderr",
          "text": [
            "\n",
            "\n",
            "Processing medical dataset:  73%|███████▎  | 364/500 [1:54:16<36:56, 16.30s/it]\u001b[A\u001b[A"
          ]
        },
        {
          "output_type": "stream",
          "name": "stdout",
          "text": [
            "Appended result to Google Drive file: [364, 0.3492063492063492, 0.7777777777777778, 0.389249941765665, 0.5903945111492281, 4.545454545454546, 6.2761506276150625]\n"
          ]
        },
        {
          "output_type": "stream",
          "name": "stderr",
          "text": [
            "\n",
            "\n",
            "Processing medical dataset:  73%|███████▎  | 365/500 [1:54:29<34:46, 15.45s/it]\u001b[A\u001b[A"
          ]
        },
        {
          "output_type": "stream",
          "name": "stdout",
          "text": [
            "Appended result to Google Drive file: [365, 0.6666666666666667, 0.8333333333333334, 0.5524066747819031, 0.7869483845547675, 5.136986301369863, 5.555555555555555]\n"
          ]
        },
        {
          "output_type": "stream",
          "name": "stderr",
          "text": [
            "\n",
            "\n",
            "Processing medical dataset:  73%|███████▎  | 366/500 [1:54:45<34:56, 15.65s/it]\u001b[A\u001b[A"
          ]
        },
        {
          "output_type": "stream",
          "name": "stdout",
          "text": [
            "Appended result to Google Drive file: [366, 0.5490196078431373, 0.7254901960784313, 0.6356602461865619, 0.7029862235029408, 2.564102564102564, 0.0]\n"
          ]
        },
        {
          "output_type": "stream",
          "name": "stderr",
          "text": [
            "\n",
            "\n",
            "Processing medical dataset:  73%|███████▎  | 367/500 [1:55:03<35:58, 16.23s/it]\u001b[A\u001b[A"
          ]
        },
        {
          "output_type": "stream",
          "name": "stdout",
          "text": [
            "Appended result to Google Drive file: [367, 0.5, 0.7916666666666666, 0.38070425045386297, 0.7213071895424837, 0.0, 5.291005291005291]\n"
          ]
        },
        {
          "output_type": "stream",
          "name": "stderr",
          "text": [
            "\n",
            "\n",
            "Processing medical dataset:  74%|███████▎  | 368/500 [1:55:19<35:25, 16.10s/it]\u001b[A\u001b[A"
          ]
        },
        {
          "output_type": "stream",
          "name": "stdout",
          "text": [
            "Appended result to Google Drive file: [368, 0.7450980392156863, 1.1176470588235294, 0.6115305882747744, 1.0, 2.8409090909090904, 0.0]\n"
          ]
        },
        {
          "output_type": "stream",
          "name": "stderr",
          "text": [
            "\n",
            "\n",
            "Processing medical dataset:  74%|███████▍  | 369/500 [1:55:33<33:50, 15.50s/it]\u001b[A\u001b[A"
          ]
        },
        {
          "output_type": "stream",
          "name": "stdout",
          "text": [
            "Appended result to Google Drive file: [369, 0.41025641025641024, 0.8717948717948718, 0.6995336741099454, 0.6155683215792506, 4.70219435736677, 4.901960784313725]\n"
          ]
        },
        {
          "output_type": "stream",
          "name": "stderr",
          "text": [
            "\n",
            "\n",
            "Processing medical dataset:  74%|███████▍  | 370/500 [1:55:50<34:21, 15.86s/it]\u001b[A\u001b[A"
          ]
        },
        {
          "output_type": "stream",
          "name": "stdout",
          "text": [
            "Appended result to Google Drive file: [370, 0.37681159420289856, 0.5942028985507246, 0.6717948717948717, 0.6576467505241089, 2.5773195876288666, 0.0]\n"
          ]
        },
        {
          "output_type": "stream",
          "name": "stderr",
          "text": [
            "\n",
            "\n",
            "Processing medical dataset:  74%|███████▍  | 371/500 [1:56:05<33:34, 15.61s/it]\u001b[A\u001b[A"
          ]
        },
        {
          "output_type": "stream",
          "name": "stdout",
          "text": [
            "Appended result to Google Drive file: [371, 0.3555555555555555, 0.7555555555555555, 0.5111879356949779, 0.5924478072019056, 2.4999999999999996, 2.5125628140703515]\n"
          ]
        },
        {
          "output_type": "stream",
          "name": "stderr",
          "text": [
            "\n",
            "\n",
            "Processing medical dataset:  74%|███████▍  | 372/500 [1:56:19<32:29, 15.23s/it]\u001b[A\u001b[A"
          ]
        },
        {
          "output_type": "stream",
          "name": "stdout",
          "text": [
            "Appended result to Google Drive file: [372, 0.6190476190476191, 1.0238095238095237, 0.7912386086510076, 0.6366937916955681, 4.934210526315789, 4.1208791208791204]\n"
          ]
        },
        {
          "output_type": "stream",
          "name": "stderr",
          "text": [
            "\n",
            "\n",
            "Processing medical dataset:  75%|███████▍  | 373/500 [1:56:33<31:47, 15.02s/it]\u001b[A\u001b[A"
          ]
        },
        {
          "output_type": "stream",
          "name": "stdout",
          "text": [
            "Appended result to Google Drive file: [373, 0.4901960784313726, 0.7450980392156863, 0.4999132622083442, 0.6890264877880977, 2.392344497607655, 2.487562189054727]\n"
          ]
        },
        {
          "output_type": "stream",
          "name": "stderr",
          "text": [
            "\n",
            "\n",
            "Processing medical dataset:  75%|███████▍  | 374/500 [1:56:45<29:05, 13.85s/it]\u001b[A\u001b[A"
          ]
        },
        {
          "output_type": "stream",
          "name": "stdout",
          "text": [
            "Appended result to Google Drive file: [374, 0.45238095238095233, 0.7857142857142857, 0.7421602787456445, 0.6482972238786192, 4.3478260869565215, 2.314814814814815]\n"
          ]
        },
        {
          "output_type": "stream",
          "name": "stderr",
          "text": [
            "\n",
            "\n",
            "Processing medical dataset:  75%|███████▌  | 375/500 [1:57:00<29:53, 14.35s/it]\u001b[A\u001b[A"
          ]
        },
        {
          "output_type": "stream",
          "name": "stdout",
          "text": [
            "Appended result to Google Drive file: [375, 0.47058823529411764, 1.0784313725490196, 0.5860373137770398, 0.5030644200657073, 4.643962848297214, 2.638522427440633]\n"
          ]
        },
        {
          "output_type": "stream",
          "name": "stderr",
          "text": [
            "\n",
            "\n",
            "Processing medical dataset:  75%|███████▌  | 376/500 [1:57:17<31:25, 15.21s/it]\u001b[A\u001b[A"
          ]
        },
        {
          "output_type": "stream",
          "name": "stdout",
          "text": [
            "Appended result to Google Drive file: [376, 0.375, 0.6875, 0.5867610201975527, 0.4811759162822993, 5.7251908396946565, 3.6363636363636362]\n"
          ]
        },
        {
          "output_type": "stream",
          "name": "stderr",
          "text": [
            "\n",
            "\n",
            "Processing medical dataset:  75%|███████▌  | 377/500 [1:57:34<32:14, 15.73s/it]\u001b[A\u001b[A"
          ]
        },
        {
          "output_type": "stream",
          "name": "stdout",
          "text": [
            "Appended result to Google Drive file: [377, 0.5, 0.8333333333333334, 0.6071428571428572, 0.3924916073036928, 1.5625000000000004, 5.555555555555555]\n"
          ]
        },
        {
          "output_type": "stream",
          "name": "stderr",
          "text": [
            "\n",
            "\n",
            "Processing medical dataset:  76%|███████▌  | 378/500 [1:57:54<34:16, 16.86s/it]\u001b[A\u001b[A"
          ]
        },
        {
          "output_type": "stream",
          "name": "stdout",
          "text": [
            "Appended result to Google Drive file: [378, 0.33333333333333337, 0.8947368421052632, 0.5871685396200234, 1.0, 5.474452554744525, 0.0]\n"
          ]
        },
        {
          "output_type": "stream",
          "name": "stderr",
          "text": [
            "\n",
            "\n",
            "Processing medical dataset:  76%|███████▌  | 379/500 [1:58:11<33:56, 16.83s/it]\u001b[A\u001b[A"
          ]
        },
        {
          "output_type": "stream",
          "name": "stdout",
          "text": [
            "Appended result to Google Drive file: [379, 0.5087719298245614, 0.8596491228070176, 0.4241290889257228, 0.7292526101349631, 0.0, 0.0]\n"
          ]
        },
        {
          "output_type": "stream",
          "name": "stderr",
          "text": [
            "\n",
            "\n",
            "Processing medical dataset:  76%|███████▌  | 380/500 [1:58:29<34:23, 17.20s/it]\u001b[A\u001b[A"
          ]
        },
        {
          "output_type": "stream",
          "name": "stdout",
          "text": [
            "Appended result to Google Drive file: [380, 0.7083333333333333, 0.8541666666666666, 0.6991582491582492, 0.5571284125379171, 5.780346820809249, 3.0674846625766876]\n"
          ]
        },
        {
          "output_type": "stream",
          "name": "stderr",
          "text": [
            "\n",
            "\n",
            "Processing medical dataset:  76%|███████▌  | 381/500 [1:58:42<32:07, 16.20s/it]\u001b[A\u001b[A"
          ]
        },
        {
          "output_type": "stream",
          "name": "stdout",
          "text": [
            "Appended result to Google Drive file: [381, 0.6904761904761905, 0.8333333333333334, 0.5217838765008576, 0.4373348873348873, 5.649717514124293, 6.17283950617284]\n"
          ]
        },
        {
          "output_type": "stream",
          "name": "stderr",
          "text": [
            "\n",
            "\n",
            "Processing medical dataset:  76%|███████▋  | 382/500 [1:59:02<33:41, 17.13s/it]\u001b[A\u001b[A"
          ]
        },
        {
          "output_type": "stream",
          "name": "stdout",
          "text": [
            "Appended result to Google Drive file: [382, 0.5476190476190477, 0.9047619047619048, 0.6023884396525906, 0.7809199062022675, 3.6900369003690034, 3.8461538461538463]\n"
          ]
        },
        {
          "output_type": "stream",
          "name": "stderr",
          "text": [
            "\n",
            "\n",
            "Processing medical dataset:  77%|███████▋  | 383/500 [1:59:16<31:46, 16.30s/it]\u001b[A\u001b[A"
          ]
        },
        {
          "output_type": "stream",
          "name": "stdout",
          "text": [
            "Appended result to Google Drive file: [383, 0.5490196078431373, 0.7254901960784313, 0.6657070235501609, 0.6317620650953985, 4.78468899521531, 0.0]\n"
          ]
        },
        {
          "output_type": "stream",
          "name": "stderr",
          "text": [
            "\n",
            "\n",
            "Processing medical dataset:  77%|███████▋  | 384/500 [1:59:31<30:55, 15.99s/it]\u001b[A\u001b[A"
          ]
        },
        {
          "output_type": "stream",
          "name": "stdout",
          "text": [
            "Appended result to Google Drive file: [384, 0.47916666666666663, 0.7291666666666667, 0.49672560326855636, 0.5999074930619798, 4.166666666666666, 0.0]\n"
          ]
        },
        {
          "output_type": "stream",
          "name": "stderr",
          "text": [
            "\n",
            "\n",
            "Processing medical dataset:  77%|███████▋  | 385/500 [1:59:45<29:12, 15.24s/it]\u001b[A\u001b[A"
          ]
        },
        {
          "output_type": "stream",
          "name": "stdout",
          "text": [
            "Appended result to Google Drive file: [385, 0.5897435897435898, 0.9487179487179487, 0.563880766731644, 0.3591363691899534, 1.9685039370078743, 4.716981132075471]\n"
          ]
        },
        {
          "output_type": "stream",
          "name": "stderr",
          "text": [
            "\n",
            "\n",
            "Processing medical dataset:  77%|███████▋  | 386/500 [2:00:00<29:11, 15.36s/it]\u001b[A\u001b[A"
          ]
        },
        {
          "output_type": "stream",
          "name": "stdout",
          "text": [
            "Appended result to Google Drive file: [386, 0.375, 0.875, 0.6689291101055806, 0.6778278278278278, 5.74712643678161, 0.0]\n"
          ]
        },
        {
          "output_type": "stream",
          "name": "stderr",
          "text": [
            "\n",
            "\n",
            "Processing medical dataset:  77%|███████▋  | 387/500 [2:00:13<27:07, 14.40s/it]\u001b[A\u001b[A"
          ]
        },
        {
          "output_type": "stream",
          "name": "stdout",
          "text": [
            "Appended result to Google Drive file: [387, 0.3137254901960784, 0.6470588235294117, 0.7054693274205469, 0.645014487276392, 3.333333333333334, 2.8089887640449436]\n"
          ]
        },
        {
          "output_type": "stream",
          "name": "stderr",
          "text": [
            "\n",
            "\n",
            "Processing medical dataset:  78%|███████▊  | 388/500 [2:00:27<26:40, 14.29s/it]\u001b[A\u001b[A"
          ]
        },
        {
          "output_type": "stream",
          "name": "stdout",
          "text": [
            "Appended result to Google Drive file: [388, 0.7166666666666667, 0.8333333333333334, 0.5746271972547773, 0.5054214402618658, 5.434782608695652, 0.0]\n"
          ]
        },
        {
          "output_type": "stream",
          "name": "stderr",
          "text": [
            "\n",
            "\n",
            "Processing medical dataset:  78%|███████▊  | 389/500 [2:00:38<24:38, 13.32s/it]\u001b[A\u001b[A"
          ]
        },
        {
          "output_type": "stream",
          "name": "stdout",
          "text": [
            "Appended result to Google Drive file: [389, 0.5714285714285714, 0.7619047619047619, 0.4667822783764813, 0.6967028985507246, 2.222222222222222, 2.1367521367521367]\n"
          ]
        },
        {
          "output_type": "stream",
          "name": "stderr",
          "text": [
            "\n",
            "\n",
            "Processing medical dataset:  78%|███████▊  | 390/500 [2:00:52<24:42, 13.47s/it]\u001b[A\u001b[A"
          ]
        },
        {
          "output_type": "stream",
          "name": "stdout",
          "text": [
            "Appended result to Google Drive file: [390, 0.2666666666666667, 0.8888888888888888, 0.5041417806539567, 0.5666666666666665, 4.601226993865031, 0.0]\n"
          ]
        },
        {
          "output_type": "stream",
          "name": "stderr",
          "text": [
            "\n",
            "\n",
            "Processing medical dataset:  78%|███████▊  | 391/500 [2:01:04<23:57, 13.19s/it]\u001b[A\u001b[A"
          ]
        },
        {
          "output_type": "stream",
          "name": "stdout",
          "text": [
            "Appended result to Google Drive file: [391, 0.36111111111111116, 0.5, 0.5517782240720798, 0.6370156758355517, 4.25531914893617, 4.329004329004329]\n"
          ]
        },
        {
          "output_type": "stream",
          "name": "stderr",
          "text": [
            "\n",
            "\n",
            "Processing medical dataset:  78%|███████▊  | 392/500 [2:01:29<30:19, 16.85s/it]\u001b[A\u001b[A"
          ]
        },
        {
          "output_type": "stream",
          "name": "stdout",
          "text": [
            "Appended result to Google Drive file: [392, 0.4920634920634921, 0.7777777777777778, 0.614943316173928, 0.6191135117252612, 2.2727272727272725, 1.2224938875305622]\n"
          ]
        },
        {
          "output_type": "stream",
          "name": "stderr",
          "text": [
            "\n",
            "\n",
            "Processing medical dataset:  79%|███████▊  | 393/500 [2:01:45<29:20, 16.45s/it]\u001b[A\u001b[A"
          ]
        },
        {
          "output_type": "stream",
          "name": "stdout",
          "text": [
            "Appended result to Google Drive file: [393, 0.2857142857142857, 0.5238095238095238, 0.6372495446265938, 0.8091337099811676, 1.7123287671232879, 1.76678445229682]\n"
          ]
        },
        {
          "output_type": "stream",
          "name": "stderr",
          "text": [
            "\n",
            "\n",
            "Processing medical dataset:  79%|███████▉  | 394/500 [2:02:06<31:26, 17.80s/it]\u001b[A\u001b[A"
          ]
        },
        {
          "output_type": "stream",
          "name": "stdout",
          "text": [
            "Appended result to Google Drive file: [394, 0.5294117647058824, 1.7450980392156863, 0.7223100755632194, 0.9473326292882746, 4.926108374384236, 0.0]\n"
          ]
        },
        {
          "output_type": "stream",
          "name": "stderr",
          "text": [
            "\n",
            "\n",
            "Processing medical dataset:  79%|███████▉  | 395/500 [2:02:26<32:15, 18.43s/it]\u001b[A\u001b[A"
          ]
        },
        {
          "output_type": "stream",
          "name": "stdout",
          "text": [
            "Appended result to Google Drive file: [395, 0.4814814814814815, 0.7407407407407407, 0.7051936994465731, 0.6583461736004109, 2.4509803921568625, 2.551020408163265]\n"
          ]
        },
        {
          "output_type": "stream",
          "name": "stderr",
          "text": [
            "\n",
            "\n",
            "Processing medical dataset:  79%|███████▉  | 396/500 [2:02:45<32:14, 18.60s/it]\u001b[A\u001b[A"
          ]
        },
        {
          "output_type": "stream",
          "name": "stdout",
          "text": [
            "Appended result to Google Drive file: [396, 0.5, 1.1481481481481481, 0.5541125541125541, 0.42065470255898973, 0.0, 1.7421602787456445]\n"
          ]
        },
        {
          "output_type": "stream",
          "name": "stderr",
          "text": [
            "\n",
            "\n",
            "Processing medical dataset:  79%|███████▉  | 397/500 [2:03:01<30:42, 17.89s/it]\u001b[A\u001b[A"
          ]
        },
        {
          "output_type": "stream",
          "name": "stdout",
          "text": [
            "Appended result to Google Drive file: [397, 0.36363636363636365, 1.0909090909090908, 0.6329973240892781, 0.54320987654321, 5.2631578947368425, 2.0242914979757085]\n"
          ]
        },
        {
          "output_type": "stream",
          "name": "stderr",
          "text": [
            "\n",
            "\n",
            "Processing medical dataset:  80%|███████▉  | 398/500 [2:03:17<29:30, 17.36s/it]\u001b[A\u001b[A"
          ]
        },
        {
          "output_type": "stream",
          "name": "stdout",
          "text": [
            "Appended result to Google Drive file: [398, 0.5625, 0.8333333333333334, 0.6367322291235334, 0.6468599033816425, 0.0, 0.0]\n"
          ]
        },
        {
          "output_type": "stream",
          "name": "stderr",
          "text": [
            "\n",
            "\n",
            "Processing medical dataset:  80%|███████▉  | 399/500 [2:03:38<31:06, 18.48s/it]\u001b[A\u001b[A"
          ]
        },
        {
          "output_type": "stream",
          "name": "stdout",
          "text": [
            "Appended result to Google Drive file: [399, 0.4736842105263158, 0.7719298245614035, 0.7435049019607843, 0.7827027201853541, 4.213483146067416, 4.3103448275862055]\n"
          ]
        },
        {
          "output_type": "stream",
          "name": "stderr",
          "text": [
            "\n",
            "\n",
            "Processing medical dataset:  80%|████████  | 400/500 [2:03:54<29:11, 17.51s/it]\u001b[A\u001b[A"
          ]
        },
        {
          "output_type": "stream",
          "name": "stdout",
          "text": [
            "Appended result to Google Drive file: [400, 0.2941176470588235, 0.7058823529411764, 0.5126777926454554, 0.5539083557951483, 3.448275862068965, 1.76678445229682]\n"
          ]
        },
        {
          "output_type": "stream",
          "name": "stderr",
          "text": [
            "\n",
            "\n",
            "Processing medical dataset:  80%|████████  | 401/500 [2:04:09<27:55, 16.92s/it]\u001b[A\u001b[A"
          ]
        },
        {
          "output_type": "stream",
          "name": "stdout",
          "text": [
            "Appended result to Google Drive file: [401, 0.33333333333333337, 0.5833333333333333, 0.8140952003697102, 0.7319223985890652, 5.172413793103449, 3.6101083032490973]\n"
          ]
        },
        {
          "output_type": "stream",
          "name": "stderr",
          "text": [
            "\n",
            "\n",
            "Processing medical dataset:  80%|████████  | 402/500 [2:04:25<26:54, 16.48s/it]\u001b[A\u001b[A"
          ]
        },
        {
          "output_type": "stream",
          "name": "stdout",
          "text": [
            "Appended result to Google Drive file: [402, 0.3125, 0.45833333333333337, 0.3367400419287212, 0.2996632996632997, 4.854368932038835, 4.132231404958678]\n"
          ]
        },
        {
          "output_type": "stream",
          "name": "stderr",
          "text": [
            "\n",
            "\n",
            "Processing medical dataset:  81%|████████  | 403/500 [2:04:41<26:41, 16.51s/it]\u001b[A\u001b[A"
          ]
        },
        {
          "output_type": "stream",
          "name": "stdout",
          "text": [
            "Appended result to Google Drive file: [403, 0.5490196078431373, 0.7450980392156863, 0.49328843199810946, 0.6096510931416592, 5.10204081632653, 3.1446540880503147]\n"
          ]
        },
        {
          "output_type": "stream",
          "name": "stderr",
          "text": [
            "\n",
            "\n",
            "Processing medical dataset:  81%|████████  | 404/500 [2:04:58<26:29, 16.56s/it]\u001b[A\u001b[A"
          ]
        },
        {
          "output_type": "stream",
          "name": "stdout",
          "text": [
            "Appended result to Google Drive file: [404, 0.5098039215686274, 0.7450980392156863, 0.6236541236541236, 0.6954751310980454, 4.716981132075471, 4.405286343612334]\n"
          ]
        },
        {
          "output_type": "stream",
          "name": "stderr",
          "text": [
            "\n",
            "\n",
            "Processing medical dataset:  81%|████████  | 405/500 [2:05:22<29:42, 18.77s/it]\u001b[A\u001b[A"
          ]
        },
        {
          "output_type": "stream",
          "name": "stdout",
          "text": [
            "Appended result to Google Drive file: [405, 0.196078431372549, 0.7843137254901961, 0.5239360961897075, 0.7037037037037037, 0.0, 0.0]\n"
          ]
        },
        {
          "output_type": "stream",
          "name": "stderr",
          "text": [
            "\n",
            "\n",
            "Processing medical dataset:  81%|████████  | 406/500 [2:05:41<29:47, 19.02s/it]\u001b[A\u001b[A"
          ]
        },
        {
          "output_type": "stream",
          "name": "stdout",
          "text": [
            "Appended result to Google Drive file: [406, 0.5476190476190477, 0.9523809523809523, 0.5879120879120879, 0.6627705627705628, 0.0, 0.0]\n"
          ]
        },
        {
          "output_type": "stream",
          "name": "stderr",
          "text": [
            "\n",
            "\n",
            "Processing medical dataset:  81%|████████▏ | 407/500 [2:06:02<30:12, 19.49s/it]\u001b[A\u001b[A"
          ]
        },
        {
          "output_type": "stream",
          "name": "stdout",
          "text": [
            "Appended result to Google Drive file: [407, 0.6666666666666667, 1.5555555555555556, 0.5604921394395078, 0.6241293532338309, 2.564102564102564, 1.785714285714286]\n"
          ]
        },
        {
          "output_type": "stream",
          "name": "stderr",
          "text": [
            "\n",
            "\n",
            "Processing medical dataset:  82%|████████▏ | 408/500 [2:06:21<29:40, 19.35s/it]\u001b[A\u001b[A"
          ]
        },
        {
          "output_type": "stream",
          "name": "stdout",
          "text": [
            "Appended result to Google Drive file: [408, 0.5, 0.85, 0.5441202475685234, 0.6598833370019811, 2.3474178403755865, 2.380952380952381]\n"
          ]
        },
        {
          "output_type": "stream",
          "name": "stderr",
          "text": [
            "\n",
            "\n",
            "Processing medical dataset:  82%|████████▏ | 409/500 [2:06:36<27:35, 18.19s/it]\u001b[A\u001b[A"
          ]
        },
        {
          "output_type": "stream",
          "name": "stdout",
          "text": [
            "Appended result to Google Drive file: [409, 0.33333333333333337, 0.6666666666666667, 0.3543065268545289, 0.6678160919540229, 1.4450867052023122, 3.484320557491289]\n"
          ]
        },
        {
          "output_type": "stream",
          "name": "stderr",
          "text": [
            "\n",
            "\n",
            "Processing medical dataset:  82%|████████▏ | 410/500 [2:06:55<27:34, 18.38s/it]\u001b[A\u001b[A"
          ]
        },
        {
          "output_type": "stream",
          "name": "stdout",
          "text": [
            "Appended result to Google Drive file: [410, 0.5333333333333333, 0.8222222222222222, 0.6918283166109255, 0.7256621098434235, 5.74712643678161, 5.617977528089887]\n"
          ]
        },
        {
          "output_type": "stream",
          "name": "stderr",
          "text": [
            "\n",
            "\n",
            "Processing medical dataset:  82%|████████▏ | 411/500 [2:07:10<25:28, 17.18s/it]\u001b[A\u001b[A"
          ]
        },
        {
          "output_type": "stream",
          "name": "stdout",
          "text": [
            "Appended result to Google Drive file: [411, 0.5686274509803921, 0.8431372549019608, 0.8258625505726309, 0.8532411567002761, 2.1008403361344534, 0.0]\n"
          ]
        },
        {
          "output_type": "stream",
          "name": "stderr",
          "text": [
            "\n",
            "\n",
            "Processing medical dataset:  82%|████████▏ | 412/500 [2:07:24<23:45, 16.19s/it]\u001b[A\u001b[A"
          ]
        },
        {
          "output_type": "stream",
          "name": "stdout",
          "text": [
            "Appended result to Google Drive file: [412, 0.41666666666666663, 0.6388888888888888, 0.41418115728460553, 0.6254021230241505, 0.0, 5.813953488372093]\n"
          ]
        },
        {
          "output_type": "stream",
          "name": "stderr",
          "text": [
            "\n",
            "\n",
            "Processing medical dataset:  83%|████████▎ | 413/500 [2:07:40<23:44, 16.37s/it]\u001b[A\u001b[A"
          ]
        },
        {
          "output_type": "stream",
          "name": "stdout",
          "text": [
            "Appended result to Google Drive file: [413, 0.3921568627450981, 0.7058823529411764, 0.5722430816298151, 0.6383169934640524, 0.0, 0.0]\n"
          ]
        },
        {
          "output_type": "stream",
          "name": "stderr",
          "text": [
            "\n",
            "\n",
            "Processing medical dataset:  83%|████████▎ | 414/500 [2:07:56<23:14, 16.22s/it]\u001b[A\u001b[A"
          ]
        },
        {
          "output_type": "stream",
          "name": "stdout",
          "text": [
            "Appended result to Google Drive file: [414, 0.35416666666666663, 0.5625, 0.5158043529252003, 0.614327607875995, 2.4271844660194177, 2.4390243902439024]\n"
          ]
        },
        {
          "output_type": "stream",
          "name": "stderr",
          "text": [
            "\n",
            "\n",
            "Processing medical dataset:  83%|████████▎ | 415/500 [2:08:12<22:54, 16.17s/it]\u001b[A\u001b[A"
          ]
        },
        {
          "output_type": "stream",
          "name": "stdout",
          "text": [
            "Appended result to Google Drive file: [415, 0.5952380952380952, 0.8095238095238095, 0.6360245428588785, 0.6118169398907104, 0.0, 0.0]\n"
          ]
        },
        {
          "output_type": "stream",
          "name": "stderr",
          "text": [
            "\n",
            "\n",
            "Processing medical dataset:  83%|████████▎ | 416/500 [2:08:32<23:58, 17.13s/it]\u001b[A\u001b[A"
          ]
        },
        {
          "output_type": "stream",
          "name": "stdout",
          "text": [
            "Appended result to Google Drive file: [416, 0.6, 1.4666666666666668, 0.6749762583095916, 0.7142857142857143, 1.5673981191222568, 0.0]\n"
          ]
        },
        {
          "output_type": "stream",
          "name": "stderr",
          "text": [
            "\n",
            "\n",
            "Processing medical dataset:  83%|████████▎ | 417/500 [2:08:48<23:34, 17.04s/it]\u001b[A\u001b[A"
          ]
        },
        {
          "output_type": "stream",
          "name": "stdout",
          "text": [
            "Appended result to Google Drive file: [417, 0.23809523809523814, 0.5952380952380952, 0.2787225022375053, 0.312118846545076, 5.514705882352941, 3.6101083032490973]\n"
          ]
        },
        {
          "output_type": "stream",
          "name": "stderr",
          "text": [
            "\n",
            "\n",
            "Processing medical dataset:  84%|████████▎ | 418/500 [2:09:03<22:25, 16.41s/it]\u001b[A\u001b[A"
          ]
        },
        {
          "output_type": "stream",
          "name": "stdout",
          "text": [
            "Appended result to Google Drive file: [418, 0.5294117647058824, 0.6862745098039216, 0.5736651947009234, 0.5354312354312354, 3.2051282051282057, 3.289473684210526]\n"
          ]
        },
        {
          "output_type": "stream",
          "name": "stderr",
          "text": [
            "\n",
            "\n",
            "Processing medical dataset:  84%|████████▍ | 419/500 [2:09:22<22:54, 16.97s/it]\u001b[A\u001b[A"
          ]
        },
        {
          "output_type": "stream",
          "name": "stdout",
          "text": [
            "Appended result to Google Drive file: [419, 0.625, 0.75, 0.5217064544650752, 0.613132779170515, 0.0, 2.7472527472527473]\n"
          ]
        },
        {
          "output_type": "stream",
          "name": "stderr",
          "text": [
            "\n",
            "\n",
            "Processing medical dataset:  84%|████████▍ | 420/500 [2:09:42<23:58, 17.98s/it]\u001b[A\u001b[A"
          ]
        },
        {
          "output_type": "stream",
          "name": "stdout",
          "text": [
            "Appended result to Google Drive file: [420, 0.40740740740740744, 0.6666666666666667, 0.5788398692810458, 0.6930865369403576, 2.9239766081871346, 0.0]\n"
          ]
        },
        {
          "output_type": "stream",
          "name": "stderr",
          "text": [
            "\n",
            "\n",
            "Processing medical dataset:  84%|████████▍ | 421/500 [2:09:59<23:12, 17.62s/it]\u001b[A\u001b[A"
          ]
        },
        {
          "output_type": "stream",
          "name": "stdout",
          "text": [
            "Appended result to Google Drive file: [421, 0.4444444444444444, 0.6666666666666667, 0.8041769992989506, 0.768925033630916, 3.597122302158273, 2.083333333333333]\n"
          ]
        },
        {
          "output_type": "stream",
          "name": "stderr",
          "text": [
            "\n",
            "\n",
            "Processing medical dataset:  84%|████████▍ | 422/500 [2:10:18<23:39, 18.20s/it]\u001b[A\u001b[A"
          ]
        },
        {
          "output_type": "stream",
          "name": "stdout",
          "text": [
            "Appended result to Google Drive file: [422, 0.28888888888888886, 0.4222222222222223, 0.5778988431530804, 0.5356252157585862, 2.7472527472527473, 2.793296089385475]\n"
          ]
        },
        {
          "output_type": "stream",
          "name": "stderr",
          "text": [
            "\n",
            "\n",
            "Processing medical dataset:  85%|████████▍ | 423/500 [2:10:37<23:29, 18.30s/it]\u001b[A\u001b[A"
          ]
        },
        {
          "output_type": "stream",
          "name": "stdout",
          "text": [
            "Appended result to Google Drive file: [423, 0.375, 0.5208333333333333, 0.4695909339430389, 0.2796825396825397, 3.257328990228013, 4.504504504504505]\n"
          ]
        },
        {
          "output_type": "stream",
          "name": "stderr",
          "text": [
            "\n",
            "\n",
            "Processing medical dataset:  85%|████████▍ | 424/500 [2:10:53<22:30, 17.78s/it]\u001b[A\u001b[A"
          ]
        },
        {
          "output_type": "stream",
          "name": "stdout",
          "text": [
            "Appended result to Google Drive file: [424, 0.22807017543859653, 0.5964912280701755, 0.8276143790849674, 0.8193815987933636, 4.518072289156626, 4.335260115606936]\n"
          ]
        },
        {
          "output_type": "stream",
          "name": "stderr",
          "text": [
            "\n",
            "\n",
            "Processing medical dataset:  85%|████████▌ | 425/500 [2:11:10<21:50, 17.47s/it]\u001b[A\u001b[A"
          ]
        },
        {
          "output_type": "stream",
          "name": "stdout",
          "text": [
            "Appended result to Google Drive file: [425, 0.3921568627450981, 0.7843137254901961, 0.5667341010478265, 0.602782392026578, 2.7322404371584694, 2.9940119760479043]\n"
          ]
        },
        {
          "output_type": "stream",
          "name": "stderr",
          "text": [
            "\n",
            "\n",
            "Processing medical dataset:  85%|████████▌ | 426/500 [2:11:28<21:35, 17.51s/it]\u001b[A\u001b[A"
          ]
        },
        {
          "output_type": "stream",
          "name": "stdout",
          "text": [
            "Appended result to Google Drive file: [426, 0.607843137254902, 1.2352941176470589, 0.8373866213151927, 0.5026086956521739, 3.731343283582089, 3.3333333333333335]\n"
          ]
        },
        {
          "output_type": "stream",
          "name": "stderr",
          "text": [
            "\n",
            "\n",
            "Processing medical dataset:  85%|████████▌ | 427/500 [2:11:40<19:32, 16.06s/it]\u001b[A\u001b[A"
          ]
        },
        {
          "output_type": "stream",
          "name": "stdout",
          "text": [
            "Appended result to Google Drive file: [427, 0.5, 0.7916666666666666, 0.5342312008978677, 0.6023914181057038, 2.873563218390805, 2.857142857142857]\n"
          ]
        },
        {
          "output_type": "stream",
          "name": "stderr",
          "text": [
            "\n",
            "\n",
            "Processing medical dataset:  86%|████████▌ | 428/500 [2:11:59<20:09, 16.80s/it]\u001b[A\u001b[A"
          ]
        },
        {
          "output_type": "stream",
          "name": "stdout",
          "text": [
            "Appended result to Google Drive file: [428, 0.47619047619047616, 0.6428571428571428, 0.45784832451499113, 0.5449020978062783, 2.7322404371584694, 2.8248587570621466]\n"
          ]
        },
        {
          "output_type": "stream",
          "name": "stderr",
          "text": [
            "\n",
            "\n",
            "Processing medical dataset:  86%|████████▌ | 429/500 [2:12:15<19:37, 16.58s/it]\u001b[A\u001b[A"
          ]
        },
        {
          "output_type": "stream",
          "name": "stdout",
          "text": [
            "Appended result to Google Drive file: [429, 0.40476190476190477, 0.6666666666666667, 0.660020222446916, 0.4790844069402766, 5.952380952380952, 5.847953216374269]\n"
          ]
        },
        {
          "output_type": "stream",
          "name": "stderr",
          "text": [
            "\n",
            "\n",
            "Processing medical dataset:  86%|████████▌ | 430/500 [2:12:31<19:00, 16.30s/it]\u001b[A\u001b[A"
          ]
        },
        {
          "output_type": "stream",
          "name": "stdout",
          "text": [
            "Appended result to Google Drive file: [430, 0.6666666666666667, 0.7708333333333334, 0.7025120772946859, 0.8815751039209078, 5.617977528089887, 0.0]\n"
          ]
        },
        {
          "output_type": "stream",
          "name": "stderr",
          "text": [
            "\n",
            "\n",
            "Processing medical dataset:  86%|████████▌ | 431/500 [2:12:51<20:00, 17.41s/it]\u001b[A\u001b[A"
          ]
        },
        {
          "output_type": "stream",
          "name": "stdout",
          "text": [
            "Appended result to Google Drive file: [431, 0.5555555555555556, 0.8888888888888888, 0.6558524226424808, 0.5672514619883041, 4.335260115606936, 0.0]\n"
          ]
        },
        {
          "output_type": "stream",
          "name": "stderr",
          "text": [
            "\n",
            "\n",
            "Processing medical dataset:  86%|████████▋ | 432/500 [2:13:04<18:21, 16.21s/it]\u001b[A\u001b[A"
          ]
        },
        {
          "output_type": "stream",
          "name": "stdout",
          "text": [
            "Appended result to Google Drive file: [432, 0.4509803921568627, 0.6470588235294117, 0.64880174291939, 0.6397163120567376, 3.4482758620689653, 3.1645569620253164]\n"
          ]
        },
        {
          "output_type": "stream",
          "name": "stderr",
          "text": [
            "\n",
            "\n",
            "Processing medical dataset:  87%|████████▋ | 433/500 [2:13:21<18:24, 16.49s/it]\u001b[A\u001b[A"
          ]
        },
        {
          "output_type": "stream",
          "name": "stdout",
          "text": [
            "Appended result to Google Drive file: [433, 0.4358974358974359, 0.641025641025641, 0.6037048665620094, 0.6240106896906157, 6.198347107438017, 6.8493150684931505]\n"
          ]
        },
        {
          "output_type": "stream",
          "name": "stderr",
          "text": [
            "\n",
            "\n",
            "Processing medical dataset:  87%|████████▋ | 434/500 [2:13:40<18:56, 17.23s/it]\u001b[A\u001b[A"
          ]
        },
        {
          "output_type": "stream",
          "name": "stdout",
          "text": [
            "Appended result to Google Drive file: [434, 0.4666666666666667, 0.6166666666666667, 0.49325809875962695, 0.6793103448275861, 0.0, 0.0]\n"
          ]
        },
        {
          "output_type": "stream",
          "name": "stderr",
          "text": [
            "\n",
            "\n",
            "Processing medical dataset:  87%|████████▋ | 435/500 [2:13:55<17:50, 16.47s/it]\u001b[A\u001b[A"
          ]
        },
        {
          "output_type": "stream",
          "name": "stdout",
          "text": [
            "Appended result to Google Drive file: [435, 0.42592592592592593, 0.9444444444444444, 0.7529190207156309, 0.6296296296296297, 2.3474178403755865, 2.941176470588235]\n"
          ]
        },
        {
          "output_type": "stream",
          "name": "stderr",
          "text": [
            "\n",
            "\n",
            "Processing medical dataset:  87%|████████▋ | 436/500 [2:14:13<18:14, 17.10s/it]\u001b[A\u001b[A"
          ]
        },
        {
          "output_type": "stream",
          "name": "stdout",
          "text": [
            "Appended result to Google Drive file: [436, 0.7333333333333334, 1.6888888888888889, 0.6665946678525295, 0.5497082613377408, 2.5380710659898478, 1.2376237623762378]\n"
          ]
        },
        {
          "output_type": "stream",
          "name": "stderr",
          "text": [
            "\n",
            "\n",
            "Processing medical dataset:  87%|████████▋ | 437/500 [2:14:32<18:18, 17.43s/it]\u001b[A\u001b[A"
          ]
        },
        {
          "output_type": "stream",
          "name": "stdout",
          "text": [
            "Appended result to Google Drive file: [437, 0.4385964912280702, 0.631578947368421, 0.7655232305688232, 0.6235897435897436, 2.6881720430107525, 2.6595744680851063]\n"
          ]
        },
        {
          "output_type": "stream",
          "name": "stderr",
          "text": [
            "\n",
            "\n",
            "Processing medical dataset:  88%|████████▊ | 438/500 [2:14:48<17:45, 17.18s/it]\u001b[A\u001b[A"
          ]
        },
        {
          "output_type": "stream",
          "name": "stdout",
          "text": [
            "Appended result to Google Drive file: [438, 0.45833333333333337, 1.0833333333333333, 0.5451915380217267, 0.8173496983565633, 4.975124378109454, 0.0]\n"
          ]
        },
        {
          "output_type": "stream",
          "name": "stderr",
          "text": [
            "\n",
            "\n",
            "Processing medical dataset:  88%|████████▊ | 439/500 [2:15:06<17:44, 17.46s/it]\u001b[A\u001b[A"
          ]
        },
        {
          "output_type": "stream",
          "name": "stdout",
          "text": [
            "Appended result to Google Drive file: [439, 0.4035087719298246, 0.7543859649122807, 0.6274154589371981, 0.7693798449612403, 4.716981132075471, 2.314814814814815]\n"
          ]
        },
        {
          "output_type": "stream",
          "name": "stderr",
          "text": [
            "\n",
            "\n",
            "Processing medical dataset:  88%|████████▊ | 440/500 [2:15:24<17:22, 17.37s/it]\u001b[A\u001b[A"
          ]
        },
        {
          "output_type": "stream",
          "name": "stdout",
          "text": [
            "Appended result to Google Drive file: [440, 0.35, 0.8166666666666667, 0.5719298245614035, 0.4524406253729562, 2.551020408163265, 0.0]\n"
          ]
        },
        {
          "output_type": "stream",
          "name": "stderr",
          "text": [
            "\n",
            "\n",
            "Processing medical dataset:  88%|████████▊ | 441/500 [2:15:36<15:36, 15.88s/it]\u001b[A\u001b[A"
          ]
        },
        {
          "output_type": "stream",
          "name": "stdout",
          "text": [
            "Appended result to Google Drive file: [441, 0.6222222222222222, 0.9111111111111111, 0.46073126220185046, 0.5, 4.016064257028113, 0.0]\n"
          ]
        },
        {
          "output_type": "stream",
          "name": "stderr",
          "text": [
            "\n",
            "\n",
            "Processing medical dataset:  88%|████████▊ | 442/500 [2:15:53<15:34, 16.12s/it]\u001b[A\u001b[A"
          ]
        },
        {
          "output_type": "stream",
          "name": "stdout",
          "text": [
            "Appended result to Google Drive file: [442, 0.5185185185185186, 0.6111111111111112, 0.5018341307814992, 0.5378760868428434, 5.9880239520958085, 3.289473684210526]\n"
          ]
        },
        {
          "output_type": "stream",
          "name": "stderr",
          "text": [
            "\n",
            "\n",
            "Processing medical dataset:  89%|████████▊ | 443/500 [2:16:08<15:09, 15.95s/it]\u001b[A\u001b[A"
          ]
        },
        {
          "output_type": "stream",
          "name": "stdout",
          "text": [
            "Appended result to Google Drive file: [443, 0.8, 0.9333333333333333, 0.6562616127833518, 0.6796637354128642, 6.0, 3.64963503649635]\n"
          ]
        },
        {
          "output_type": "stream",
          "name": "stderr",
          "text": [
            "\n",
            "\n",
            "Processing medical dataset:  89%|████████▉ | 444/500 [2:16:24<14:51, 15.93s/it]\u001b[A\u001b[A"
          ]
        },
        {
          "output_type": "stream",
          "name": "stdout",
          "text": [
            "Appended result to Google Drive file: [444, 0.15384615384615385, 0.641025641025641, 0.5077972709551657, 0.7327801827801829, 2.5, 2.5380710659898478]\n"
          ]
        },
        {
          "output_type": "stream",
          "name": "stderr",
          "text": [
            "\n",
            "\n",
            "Processing medical dataset:  89%|████████▉ | 445/500 [2:16:42<15:16, 16.66s/it]\u001b[A\u001b[A"
          ]
        },
        {
          "output_type": "stream",
          "name": "stdout",
          "text": [
            "Appended result to Google Drive file: [445, 0.4901960784313726, 0.9411764705882353, 0.550552079499448, 0.6470588235294118, 1.8315018315018312, 0.0]\n"
          ]
        },
        {
          "output_type": "stream",
          "name": "stderr",
          "text": [
            "\n",
            "\n",
            "Processing medical dataset:  89%|████████▉ | 446/500 [2:16:56<14:08, 15.72s/it]\u001b[A\u001b[A"
          ]
        },
        {
          "output_type": "stream",
          "name": "stdout",
          "text": [
            "Appended result to Google Drive file: [446, 0.6, 0.9333333333333333, 0.7998993558776167, 0.4533730158730158, 6.134969325153375, 0.0]\n"
          ]
        },
        {
          "output_type": "stream",
          "name": "stderr",
          "text": [
            "\n",
            "\n",
            "Processing medical dataset:  89%|████████▉ | 447/500 [2:17:14<14:30, 16.43s/it]\u001b[A\u001b[A"
          ]
        },
        {
          "output_type": "stream",
          "name": "stdout",
          "text": [
            "Appended result to Google Drive file: [447, 0.4666666666666667, 0.6666666666666667, 0.6256396912134616, 0.30824096880131363, 5.05050505050505, 4.830917874396135]\n"
          ]
        },
        {
          "output_type": "stream",
          "name": "stderr",
          "text": [
            "\n",
            "\n",
            "Processing medical dataset:  90%|████████▉ | 448/500 [2:17:30<14:10, 16.36s/it]\u001b[A\u001b[A"
          ]
        },
        {
          "output_type": "stream",
          "name": "stdout",
          "text": [
            "Appended result to Google Drive file: [448, 0.39583333333333337, 0.8125, 0.6340130023640662, 0.8528455284552846, 0.0, 2.9069767441860463]\n"
          ]
        },
        {
          "output_type": "stream",
          "name": "stderr",
          "text": [
            "\n",
            "\n",
            "Processing medical dataset:  90%|████████▉ | 449/500 [2:17:57<16:39, 19.60s/it]\u001b[A\u001b[A"
          ]
        },
        {
          "output_type": "stream",
          "name": "stdout",
          "text": [
            "Appended result to Google Drive file: [449, 0.5, 0.8125, 0.615891132572432, 0.6947483186212695, 4.189944134078211, 4.451038575667656]\n"
          ]
        },
        {
          "output_type": "stream",
          "name": "stderr",
          "text": [
            "\n",
            "\n",
            "Processing medical dataset:  90%|█████████ | 450/500 [2:18:12<14:59, 17.99s/it]\u001b[A\u001b[A"
          ]
        },
        {
          "output_type": "stream",
          "name": "stdout",
          "text": [
            "Appended result to Google Drive file: [450, 0.4385964912280702, 0.5614035087719298, 0.6423728813559322, 0.6320987654320988, 2.7027027027027026, 2.976190476190476]\n"
          ]
        },
        {
          "output_type": "stream",
          "name": "stderr",
          "text": [
            "\n",
            "\n",
            "Processing medical dataset:  90%|█████████ | 451/500 [2:18:29<14:33, 17.82s/it]\u001b[A\u001b[A"
          ]
        },
        {
          "output_type": "stream",
          "name": "stdout",
          "text": [
            "Appended result to Google Drive file: [451, 0.3921568627450981, 0.7647058823529411, 0.6729559748427673, 0.7263888888888888, 2.604166666666667, 0.0]\n"
          ]
        },
        {
          "output_type": "stream",
          "name": "stderr",
          "text": [
            "\n",
            "\n",
            "Processing medical dataset:  90%|█████████ | 452/500 [2:18:47<14:24, 18.01s/it]\u001b[A\u001b[A"
          ]
        },
        {
          "output_type": "stream",
          "name": "stdout",
          "text": [
            "Appended result to Google Drive file: [452, 0.37254901960784315, 0.9019607843137255, 0.5950062959672909, 0.5766908212560387, 2.2522522522522523, 2.392344497607655]\n"
          ]
        },
        {
          "output_type": "stream",
          "name": "stderr",
          "text": [
            "\n",
            "\n",
            "Processing medical dataset:  91%|█████████ | 453/500 [2:19:02<13:24, 17.11s/it]\u001b[A\u001b[A"
          ]
        },
        {
          "output_type": "stream",
          "name": "stdout",
          "text": [
            "Appended result to Google Drive file: [453, 0.3529411764705882, 0.6862745098039216, 0.5981471001278585, 0.7569444444444445, 4.78468899521531, 0.0]\n"
          ]
        },
        {
          "output_type": "stream",
          "name": "stderr",
          "text": [
            "\n",
            "\n",
            "Processing medical dataset:  91%|█████████ | 454/500 [2:19:18<12:39, 16.52s/it]\u001b[A\u001b[A"
          ]
        },
        {
          "output_type": "stream",
          "name": "stdout",
          "text": [
            "Appended result to Google Drive file: [454, 0.35416666666666663, 0.875, 0.7215399610136451, 0.4970760233918128, 4.926108374384236, 0.0]\n"
          ]
        },
        {
          "output_type": "stream",
          "name": "stderr",
          "text": [
            "\n",
            "\n",
            "Processing medical dataset:  91%|█████████ | 455/500 [2:19:32<11:52, 15.84s/it]\u001b[A\u001b[A"
          ]
        },
        {
          "output_type": "stream",
          "name": "stdout",
          "text": [
            "Appended result to Google Drive file: [455, 0.29166666666666663, 0.7708333333333334, 0.6296803172263746, 0.4187643020594966, 5.291005291005291, 0.0]\n"
          ]
        },
        {
          "output_type": "stream",
          "name": "stderr",
          "text": [
            "\n",
            "\n",
            "Processing medical dataset:  91%|█████████ | 456/500 [2:19:45<11:05, 15.12s/it]\u001b[A\u001b[A"
          ]
        },
        {
          "output_type": "stream",
          "name": "stdout",
          "text": [
            "Appended result to Google Drive file: [456, 0.4901960784313726, 0.8627450980392157, 0.609521163286098, 0.5686274509803922, 4.694835680751173, 0.0]\n"
          ]
        },
        {
          "output_type": "stream",
          "name": "stderr",
          "text": [
            "\n",
            "\n",
            "Processing medical dataset:  91%|█████████▏| 457/500 [2:20:00<10:50, 15.12s/it]\u001b[A\u001b[A"
          ]
        },
        {
          "output_type": "stream",
          "name": "stdout",
          "text": [
            "Appended result to Google Drive file: [457, 0.47058823529411764, 0.7450980392156863, 0.5397652116402116, 0.7159863945578232, 2.5380710659898478, 0.0]\n"
          ]
        },
        {
          "output_type": "stream",
          "name": "stderr",
          "text": [
            "\n",
            "\n",
            "Processing medical dataset:  92%|█████████▏| 458/500 [2:20:15<10:30, 15.02s/it]\u001b[A\u001b[A"
          ]
        },
        {
          "output_type": "stream",
          "name": "stdout",
          "text": [
            "Appended result to Google Drive file: [458, 0.375, 1.0833333333333333, 0.6125856535692602, 0.5964421543368912, 4.587155963302752, 0.0]\n"
          ]
        },
        {
          "output_type": "stream",
          "name": "stderr",
          "text": [
            "\n",
            "\n",
            "Processing medical dataset:  92%|█████████▏| 459/500 [2:20:31<10:24, 15.24s/it]\u001b[A\u001b[A"
          ]
        },
        {
          "output_type": "stream",
          "name": "stdout",
          "text": [
            "Appended result to Google Drive file: [459, 0.43137254901960786, 0.8235294117647058, 0.641354723707665, 0.7386018237082067, 2.403846153846154, 0.0]\n"
          ]
        },
        {
          "output_type": "stream",
          "name": "stderr",
          "text": [
            "\n",
            "\n",
            "Processing medical dataset:  92%|█████████▏| 460/500 [2:20:50<10:55, 16.39s/it]\u001b[A\u001b[A"
          ]
        },
        {
          "output_type": "stream",
          "name": "stdout",
          "text": [
            "Appended result to Google Drive file: [460, 0.6041666666666667, 0.6666666666666667, 0.5891491549386286, 0.5634912257553767, 5.555555555555555, 0.0]\n"
          ]
        },
        {
          "output_type": "stream",
          "name": "stderr",
          "text": [
            "\n",
            "\n",
            "Processing medical dataset:  92%|█████████▏| 461/500 [2:21:03<10:02, 15.45s/it]\u001b[A\u001b[A"
          ]
        },
        {
          "output_type": "stream",
          "name": "stdout",
          "text": [
            "Appended result to Google Drive file: [461, 0.3571428571428571, 0.6666666666666667, 0.555490333100396, 0.5003019323671497, 0.0, 6.622516556291391]\n"
          ]
        },
        {
          "output_type": "stream",
          "name": "stderr",
          "text": [
            "\n",
            "\n",
            "Processing medical dataset:  92%|█████████▏| 462/500 [2:21:19<09:47, 15.47s/it]\u001b[A\u001b[A"
          ]
        },
        {
          "output_type": "stream",
          "name": "stdout",
          "text": [
            "Appended result to Google Drive file: [462, 0.38095238095238093, 0.5476190476190477, 0.6667663340623292, 0.657796451914099, 2.4390243902439024, 0.0]\n"
          ]
        },
        {
          "output_type": "stream",
          "name": "stderr",
          "text": [
            "\n",
            "\n",
            "Processing medical dataset:  93%|█████████▎| 463/500 [2:21:37<10:01, 16.25s/it]\u001b[A\u001b[A"
          ]
        },
        {
          "output_type": "stream",
          "name": "stdout",
          "text": [
            "Appended result to Google Drive file: [463, 0.8205128205128205, 1.3333333333333333, 0.4841513017613646, 0.3547315257841574, 6.024096385542169, 1.7182130584192439]\n"
          ]
        },
        {
          "output_type": "stream",
          "name": "stderr",
          "text": [
            "\n",
            "\n",
            "Processing medical dataset:  93%|█████████▎| 464/500 [2:21:52<09:34, 15.95s/it]\u001b[A\u001b[A"
          ]
        },
        {
          "output_type": "stream",
          "name": "stdout",
          "text": [
            "Appended result to Google Drive file: [464, 0.4358974358974359, 0.8461538461538461, 0.5739130434782608, 0.5933224023569513, 3.125, 6.17283950617284]\n"
          ]
        },
        {
          "output_type": "stream",
          "name": "stderr",
          "text": [
            "\n",
            "\n",
            "Processing medical dataset:  93%|█████████▎| 465/500 [2:22:12<10:02, 17.21s/it]\u001b[A\u001b[A"
          ]
        },
        {
          "output_type": "stream",
          "name": "stdout",
          "text": [
            "Appended result to Google Drive file: [465, 0.33333333333333337, 0.6, 0.3999860950669576, 0.6949186991869919, 0.0, 0.0]\n"
          ]
        },
        {
          "output_type": "stream",
          "name": "stderr",
          "text": [
            "\n",
            "\n",
            "Processing medical dataset:  93%|█████████▎| 466/500 [2:22:30<09:53, 17.45s/it]\u001b[A\u001b[A"
          ]
        },
        {
          "output_type": "stream",
          "name": "stdout",
          "text": [
            "Appended result to Google Drive file: [466, 0.2777777777777778, 0.6666666666666667, 0.5733652312599681, 0.4975413129301611, 2.5125628140703515, 0.0]\n"
          ]
        },
        {
          "output_type": "stream",
          "name": "stderr",
          "text": [
            "\n",
            "\n",
            "Processing medical dataset:  93%|█████████▎| 467/500 [2:22:55<10:45, 19.56s/it]\u001b[A\u001b[A"
          ]
        },
        {
          "output_type": "stream",
          "name": "stdout",
          "text": [
            "Appended result to Google Drive file: [467, 0.45833333333333337, 0.7291666666666667, 0.6321980307274425, 0.7259615384615384, 2.4999999999999996, 0.0]\n"
          ]
        },
        {
          "output_type": "stream",
          "name": "stderr",
          "text": [
            "\n",
            "\n",
            "Processing medical dataset:  94%|█████████▎| 468/500 [2:23:09<09:36, 18.02s/it]\u001b[A\u001b[A"
          ]
        },
        {
          "output_type": "stream",
          "name": "stdout",
          "text": [
            "Appended result to Google Drive file: [468, 0.5614035087719298, 0.8245614035087719, 0.540936978565011, 0.6654342896578921, 6.024096385542169, 0.0]\n"
          ]
        },
        {
          "output_type": "stream",
          "name": "stderr",
          "text": [
            "\n",
            "\n",
            "Processing medical dataset:  94%|█████████▍| 469/500 [2:23:28<09:23, 18.18s/it]\u001b[A\u001b[A"
          ]
        },
        {
          "output_type": "stream",
          "name": "stdout",
          "text": [
            "Appended result to Google Drive file: [469, 0.5625, 1.125, 0.6644444444444444, 0.7734215470064526, 5.434782608695652, 4.076086956521738]\n"
          ]
        },
        {
          "output_type": "stream",
          "name": "stderr",
          "text": [
            "\n",
            "\n",
            "Processing medical dataset:  94%|█████████▍| 470/500 [2:23:43<08:42, 17.41s/it]\u001b[A\u001b[A"
          ]
        },
        {
          "output_type": "stream",
          "name": "stdout",
          "text": [
            "Appended result to Google Drive file: [470, 0.33333333333333337, 0.8333333333333334, 0.4912257495590828, 0.5745581447709107, 3.289473684210526, 5.88235294117647]\n"
          ]
        },
        {
          "output_type": "stream",
          "name": "stderr",
          "text": [
            "\n",
            "\n",
            "Processing medical dataset:  94%|█████████▍| 471/500 [2:24:00<08:18, 17.20s/it]\u001b[A\u001b[A"
          ]
        },
        {
          "output_type": "stream",
          "name": "stdout",
          "text": [
            "Appended result to Google Drive file: [471, 0.5740740740740741, 0.7777777777777778, 0.5134054624620662, 0.6045471821239305, 0.0, 0.0]\n"
          ]
        },
        {
          "output_type": "stream",
          "name": "stderr",
          "text": [
            "\n",
            "\n",
            "Processing medical dataset:  94%|█████████▍| 472/500 [2:24:17<08:02, 17.24s/it]\u001b[A\u001b[A"
          ]
        },
        {
          "output_type": "stream",
          "name": "stdout",
          "text": [
            "Appended result to Google Drive file: [472, 0.2222222222222222, 0.6222222222222222, 0.6686868686868687, 0.6413298565840938, 5.2631578947368425, 4.918032786885246]\n"
          ]
        },
        {
          "output_type": "stream",
          "name": "stderr",
          "text": [
            "\n",
            "\n",
            "Processing medical dataset:  95%|█████████▍| 473/500 [2:24:32<07:27, 16.57s/it]\u001b[A\u001b[A"
          ]
        },
        {
          "output_type": "stream",
          "name": "stdout",
          "text": [
            "Appended result to Google Drive file: [473, 0.6458333333333333, 0.8958333333333334, 0.6627450980392157, 0.683248299319728, 7.042253521126761, 3.1645569620253164]\n"
          ]
        },
        {
          "output_type": "stream",
          "name": "stderr",
          "text": [
            "\n",
            "\n",
            "Processing medical dataset:  95%|█████████▍| 474/500 [2:24:54<07:46, 17.95s/it]\u001b[A\u001b[A"
          ]
        },
        {
          "output_type": "stream",
          "name": "stdout",
          "text": [
            "Appended result to Google Drive file: [474, 0.368421052631579, 0.8596491228070176, 0.48010872251050163, 0.48425269630001044, 1.9920318725099604, 2.747252747252747]\n"
          ]
        },
        {
          "output_type": "stream",
          "name": "stderr",
          "text": [
            "\n",
            "\n",
            "Processing medical dataset:  95%|█████████▌| 475/500 [2:25:13<07:36, 18.27s/it]\u001b[A\u001b[A"
          ]
        },
        {
          "output_type": "stream",
          "name": "stdout",
          "text": [
            "Appended result to Google Drive file: [475, 0.35416666666666663, 0.9583333333333334, 0.5841529845510097, 0.9540229885057471, 3.9370078740157486, 0.0]\n"
          ]
        },
        {
          "output_type": "stream",
          "name": "stderr",
          "text": [
            "\n",
            "\n",
            "Processing medical dataset:  95%|█████████▌| 476/500 [2:25:29<07:07, 17.81s/it]\u001b[A\u001b[A"
          ]
        },
        {
          "output_type": "stream",
          "name": "stdout",
          "text": [
            "Appended result to Google Drive file: [476, 0.30952380952380953, 1.5, 0.4330711263881544, 0.6300657541599571, 2.9940119760479043, 0.0]\n"
          ]
        },
        {
          "output_type": "stream",
          "name": "stderr",
          "text": [
            "\n",
            "\n",
            "Processing medical dataset:  95%|█████████▌| 477/500 [2:25:45<06:34, 17.15s/it]\u001b[A\u001b[A"
          ]
        },
        {
          "output_type": "stream",
          "name": "stdout",
          "text": [
            "Appended result to Google Drive file: [477, 0.6190476190476191, 0.6190476190476191, 0.6991426004364009, 0.6215488215488215, 2.6881720430107525, 0.0]\n"
          ]
        },
        {
          "output_type": "stream",
          "name": "stderr",
          "text": [
            "\n",
            "\n",
            "Processing medical dataset:  96%|█████████▌| 478/500 [2:26:02<06:18, 17.19s/it]\u001b[A\u001b[A"
          ]
        },
        {
          "output_type": "stream",
          "name": "stdout",
          "text": [
            "Appended result to Google Drive file: [478, 0.28888888888888886, 0.8888888888888888, 0.7057971014492753, 0.5362318840579711, 2.9069767441860463, 3.8167938931297716]\n"
          ]
        },
        {
          "output_type": "stream",
          "name": "stderr",
          "text": [
            "\n",
            "\n",
            "Processing medical dataset:  96%|█████████▌| 479/500 [2:26:21<06:12, 17.75s/it]\u001b[A\u001b[A"
          ]
        },
        {
          "output_type": "stream",
          "name": "stdout",
          "text": [
            "Appended result to Google Drive file: [479, 0.33333333333333337, 0.7916666666666666, 0.41340048840048843, 0.5804132973944295, 5.859374999999999, 1.9305019305019304]\n"
          ]
        },
        {
          "output_type": "stream",
          "name": "stderr",
          "text": [
            "\n",
            "\n",
            "Processing medical dataset:  96%|█████████▌| 480/500 [2:26:38<05:48, 17.43s/it]\u001b[A\u001b[A"
          ]
        },
        {
          "output_type": "stream",
          "name": "stdout",
          "text": [
            "Appended result to Google Drive file: [480, 0.6428571428571428, 1.1428571428571428, 0.6128712709172479, 0.40107905231057944, 2.551020408163265, 2.2421524663677133]\n"
          ]
        },
        {
          "output_type": "stream",
          "name": "stderr",
          "text": [
            "\n",
            "\n",
            "Processing medical dataset:  96%|█████████▌| 481/500 [2:26:57<05:42, 18.03s/it]\u001b[A\u001b[A"
          ]
        },
        {
          "output_type": "stream",
          "name": "stdout",
          "text": [
            "Appended result to Google Drive file: [481, 0.25, 0.8125, 0.5260555251807303, 0.7246138385770472, 2.7322404371584694, 5.681818181818181]\n"
          ]
        },
        {
          "output_type": "stream",
          "name": "stderr",
          "text": [
            "\n",
            "\n",
            "Processing medical dataset:  96%|█████████▋| 482/500 [2:27:19<05:43, 19.07s/it]\u001b[A\u001b[A"
          ]
        },
        {
          "output_type": "stream",
          "name": "stdout",
          "text": [
            "Appended result to Google Drive file: [482, 0.43333333333333335, 1.0, 0.5550276015064748, 0.46823723465289735, 2.8901734104046244, 3.225806451612904]\n"
          ]
        },
        {
          "output_type": "stream",
          "name": "stderr",
          "text": [
            "\n",
            "\n",
            "Processing medical dataset:  97%|█████████▋| 483/500 [2:27:40<05:32, 19.58s/it]\u001b[A\u001b[A"
          ]
        },
        {
          "output_type": "stream",
          "name": "stdout",
          "text": [
            "Appended result to Google Drive file: [483, 0.28985507246376807, 0.6956521739130435, 0.605053358443189, 0.46587800562769716, 5.338078291814947, 2.1645021645021645]\n"
          ]
        },
        {
          "output_type": "stream",
          "name": "stderr",
          "text": [
            "\n",
            "\n",
            "Processing medical dataset:  97%|█████████▋| 484/500 [2:27:57<05:02, 18.93s/it]\u001b[A\u001b[A"
          ]
        },
        {
          "output_type": "stream",
          "name": "stdout",
          "text": [
            "Appended result to Google Drive file: [484, 0.5384615384615384, 0.8974358974358975, 0.6280982905982906, 0.3441981623567301, 5.836575875486381, 2.3474178403755865]\n"
          ]
        },
        {
          "output_type": "stream",
          "name": "stderr",
          "text": [
            "\n",
            "\n",
            "Processing medical dataset:  97%|█████████▋| 485/500 [2:28:13<04:31, 18.07s/it]\u001b[A\u001b[A"
          ]
        },
        {
          "output_type": "stream",
          "name": "stdout",
          "text": [
            "Appended result to Google Drive file: [485, 0.23333333333333328, 0.33333333333333337, 0.47975494291283766, 0.4240106258948977, 4.878048780487805, 5.4945054945054945]\n"
          ]
        },
        {
          "output_type": "stream",
          "name": "stderr",
          "text": [
            "\n",
            "\n",
            "Processing medical dataset:  97%|█████████▋| 486/500 [2:28:32<04:17, 18.37s/it]\u001b[A\u001b[A"
          ]
        },
        {
          "output_type": "stream",
          "name": "stdout",
          "text": [
            "Appended result to Google Drive file: [486, 0.4444444444444444, 0.9166666666666666, 0.5014652014652015, 0.54320987654321, 4.9504950495049505, 2.777777777777778]\n"
          ]
        },
        {
          "output_type": "stream",
          "name": "stderr",
          "text": [
            "\n",
            "\n",
            "Processing medical dataset:  97%|█████████▋| 487/500 [2:28:52<04:03, 18.72s/it]\u001b[A\u001b[A"
          ]
        },
        {
          "output_type": "stream",
          "name": "stdout",
          "text": [
            "Appended result to Google Drive file: [487, 0.5952380952380952, 0.7857142857142857, 0.518539870212756, 0.577698087431694, 4.424778761061947, 4.518072289156626]\n"
          ]
        },
        {
          "output_type": "stream",
          "name": "stderr",
          "text": [
            "\n",
            "\n",
            "Processing medical dataset:  98%|█████████▊| 488/500 [2:29:15<04:01, 20.10s/it]\u001b[A\u001b[A"
          ]
        },
        {
          "output_type": "stream",
          "name": "stdout",
          "text": [
            "Appended result to Google Drive file: [488, 0.35185185185185186, 1.7777777777777777, 0.36896929824561403, 0.7072155677757804, 6.622516556291391, 2.1691973969631237]\n"
          ]
        },
        {
          "output_type": "stream",
          "name": "stderr",
          "text": [
            "\n",
            "\n",
            "Processing medical dataset:  98%|█████████▊| 489/500 [2:29:33<03:32, 19.34s/it]\u001b[A\u001b[A"
          ]
        },
        {
          "output_type": "stream",
          "name": "stdout",
          "text": [
            "Appended result to Google Drive file: [489, 0.3111111111111111, 0.6, 0.5924759498475737, 0.5857583774250441, 5.300353356890459, 5.454545454545455]\n"
          ]
        },
        {
          "output_type": "stream",
          "name": "stderr",
          "text": [
            "\n",
            "\n",
            "Processing medical dataset:  98%|█████████▊| 490/500 [2:29:54<03:18, 19.85s/it]\u001b[A\u001b[A"
          ]
        },
        {
          "output_type": "stream",
          "name": "stdout",
          "text": [
            "Appended result to Google Drive file: [490, 0.6875, 1.4375, 0.677970177970178, 0.6309523809523809, 4.477611940298507, 0.0]\n"
          ]
        },
        {
          "output_type": "stream",
          "name": "stderr",
          "text": [
            "\n",
            "\n",
            "Processing medical dataset:  98%|█████████▊| 491/500 [2:30:15<03:02, 20.27s/it]\u001b[A\u001b[A"
          ]
        },
        {
          "output_type": "stream",
          "name": "stdout",
          "text": [
            "Appended result to Google Drive file: [491, 0.21568627450980393, 1.1176470588235294, 0.32964852607709744, 0.512012715562783, 6.0606060606060606, 0.0]\n"
          ]
        },
        {
          "output_type": "stream",
          "name": "stderr",
          "text": [
            "\n",
            "\n",
            "Processing medical dataset:  98%|█████████▊| 492/500 [2:30:36<02:44, 20.58s/it]\u001b[A\u001b[A"
          ]
        },
        {
          "output_type": "stream",
          "name": "stdout",
          "text": [
            "Appended result to Google Drive file: [492, 0.24444444444444446, 0.7555555555555555, 0.44812476081132796, 0.3845891663618528, 0.0, 0.0]\n"
          ]
        },
        {
          "output_type": "stream",
          "name": "stderr",
          "text": [
            "\n",
            "\n",
            "Processing medical dataset:  99%|█████████▊| 493/500 [2:30:56<02:22, 20.29s/it]\u001b[A\u001b[A"
          ]
        },
        {
          "output_type": "stream",
          "name": "stdout",
          "text": [
            "Appended result to Google Drive file: [493, 0.21052631578947367, 0.5614035087719298, 0.3846509971509972, 0.5947623926619828, 2.293577981651376, 2.5380710659898478]\n"
          ]
        },
        {
          "output_type": "stream",
          "name": "stderr",
          "text": [
            "\n",
            "\n",
            "Processing medical dataset:  99%|█████████▉| 494/500 [2:31:16<02:01, 20.17s/it]\u001b[A\u001b[A"
          ]
        },
        {
          "output_type": "stream",
          "name": "stdout",
          "text": [
            "Appended result to Google Drive file: [494, 0.75, 1.125, 0.5449784046798972, 0.923076923076923, 4.566210045662101, 0.0]\n"
          ]
        },
        {
          "output_type": "stream",
          "name": "stderr",
          "text": [
            "\n",
            "\n",
            "Processing medical dataset:  99%|█████████▉| 495/500 [2:31:30<01:31, 18.28s/it]\u001b[A\u001b[A"
          ]
        },
        {
          "output_type": "stream",
          "name": "stdout",
          "text": [
            "Appended result to Google Drive file: [495, 0.6041666666666667, 0.6875, 0.6336374763547346, 0.5897030455578742, 4.587155963302751, 6.122448979591836]\n"
          ]
        },
        {
          "output_type": "stream",
          "name": "stderr",
          "text": [
            "\n",
            "\n",
            "Processing medical dataset:  99%|█████████▉| 496/500 [2:31:45<01:09, 17.27s/it]\u001b[A\u001b[A"
          ]
        },
        {
          "output_type": "stream",
          "name": "stdout",
          "text": [
            "Appended result to Google Drive file: [496, 0.49122807017543857, 0.7543859649122807, 0.4746032423612889, 0.3505728314238952, 0.0, 0.0]\n"
          ]
        },
        {
          "output_type": "stream",
          "name": "stderr",
          "text": [
            "\n",
            "\n",
            "Processing medical dataset:  99%|█████████▉| 497/500 [2:32:05<00:54, 18.25s/it]\u001b[A\u001b[A"
          ]
        },
        {
          "output_type": "stream",
          "name": "stdout",
          "text": [
            "Appended result to Google Drive file: [497, 0.40909090909090906, 0.7424242424242424, 0.6374607363796827, 0.6992659627953746, 2.717391304347826, 0.0]\n"
          ]
        },
        {
          "output_type": "stream",
          "name": "stderr",
          "text": [
            "\n",
            "\n",
            "Processing medical dataset: 100%|█████████▉| 498/500 [2:32:26<00:37, 18.99s/it]\u001b[A\u001b[A"
          ]
        },
        {
          "output_type": "stream",
          "name": "stdout",
          "text": [
            "Appended result to Google Drive file: [498, 0.2941176470588235, 0.6666666666666667, 0.501031991744066, 0.6960439560439561, 4.761904761904762, 5.181347150259068]\n"
          ]
        },
        {
          "output_type": "stream",
          "name": "stderr",
          "text": [
            "\n",
            "\n",
            "Processing medical dataset: 100%|█████████▉| 499/500 [2:32:41<00:17, 17.97s/it]\u001b[A\u001b[A"
          ]
        },
        {
          "output_type": "stream",
          "name": "stdout",
          "text": [
            "Appended result to Google Drive file: [499, 0.625, 0.8125, 0.7110341415141019, 0.7738095238095238, 5.05050505050505, 5.494505494505495]\n"
          ]
        },
        {
          "output_type": "stream",
          "name": "stderr",
          "text": [
            "\n",
            "\n",
            "Processing medical dataset: 100%|██████████| 500/500 [2:32:57<00:00, 18.35s/it]"
          ]
        },
        {
          "output_type": "stream",
          "name": "stdout",
          "text": [
            "Appended result to Google Drive file: [500, 0.6888888888888889, 0.7333333333333334, 0.565231414288018, 0.4632478632478632, 6.25, 4.8076923076923075]\n"
          ]
        },
        {
          "output_type": "stream",
          "name": "stderr",
          "text": [
            "\n",
            "\n",
            "Datasets for Simplified Chinese: 100%|██████████| 2/2 [2:47:06<00:00, 5753.28s/it]\u001b[A\n",
            "Target Languages:  50%|█████     | 1/2 [2:47:06<2:47:06, 10026.03s/it]\n",
            "Datasets for French:   0%|          | 0/2 [00:00<?, ?it/s]\u001b[A"
          ]
        },
        {
          "output_type": "stream",
          "name": "stdout",
          "text": [
            "Processing dataset: law\n"
          ]
        },
        {
          "output_type": "stream",
          "name": "stderr",
          "text": [
            "\n",
            "\n",
            "Processing law dataset:   0%|          | 0/500 [00:00<?, ?it/s]\u001b[A\u001b[A\n",
            "\n",
            "Processing law dataset:   0%|          | 1/500 [00:13<1:53:05, 13.60s/it]\u001b[A\u001b[A"
          ]
        },
        {
          "output_type": "stream",
          "name": "stdout",
          "text": [
            "Appended result to Google Drive file: [1, 0.41666666666666663, 0.8541666666666666, 0.7482067840992151, 0.290802764486975, 1.4285714285714284, 2.2075055187637966]\n"
          ]
        },
        {
          "output_type": "stream",
          "name": "stderr",
          "text": [
            "\n",
            "\n",
            "Processing law dataset:   0%|          | 2/500 [00:26<1:51:26, 13.43s/it]\u001b[A\u001b[A"
          ]
        },
        {
          "output_type": "stream",
          "name": "stdout",
          "text": [
            "Appended result to Google Drive file: [2, 0.7894736842105263, 0.7894736842105263, 0.8057666082213131, 0.3167297183690626, 1.5756302521008403, 1.973684210526316]\n"
          ]
        },
        {
          "output_type": "stream",
          "name": "stderr",
          "text": [
            "\n",
            "\n",
            "Processing law dataset:   1%|          | 3/500 [00:37<1:39:18, 11.99s/it]\u001b[A\u001b[A"
          ]
        },
        {
          "output_type": "stream",
          "name": "stdout",
          "text": [
            "Appended result to Google Drive file: [3, 0.0625, 0.8125, 0.5, 0.2493885394828791, 18.29268292682927, 2.782931354359926]\n"
          ]
        },
        {
          "output_type": "stream",
          "name": "stderr",
          "text": [
            "\n",
            "\n",
            "Processing law dataset:   1%|          | 4/500 [00:49<1:40:43, 12.18s/it]\u001b[A\u001b[A"
          ]
        },
        {
          "output_type": "stream",
          "name": "stdout",
          "text": [
            "Appended result to Google Drive file: [4, 0.5454545454545454, 0.7272727272727273, 0.7613481394895771, 0.4523809523809524, 1.8359853121175032, 1.8761726078799248]\n"
          ]
        },
        {
          "output_type": "stream",
          "name": "stderr",
          "text": [
            "\n",
            "\n",
            "Processing law dataset:   1%|          | 5/500 [01:03<1:45:12, 12.75s/it]\u001b[A\u001b[A"
          ]
        },
        {
          "output_type": "stream",
          "name": "stdout",
          "text": [
            "Appended result to Google Drive file: [5, 0.37037037037037035, 0.7037037037037037, 0.4596633525204954, 0.7235449735449735, 1.7094017094017095, 1.0277492291880783]\n"
          ]
        },
        {
          "output_type": "stream",
          "name": "stderr",
          "text": [
            "\n",
            "\n",
            "Processing law dataset:   1%|          | 6/500 [01:14<1:39:39, 12.10s/it]\u001b[A\u001b[A"
          ]
        },
        {
          "output_type": "stream",
          "name": "stdout",
          "text": [
            "Appended result to Google Drive file: [6, 0.5454545454545454, 1.0, 0.8492056836710925, 0.35632183908045983, 1.7421602787456445, 2.717391304347826]\n"
          ]
        },
        {
          "output_type": "stream",
          "name": "stderr",
          "text": [
            "\n",
            "\n",
            "Processing law dataset:   1%|▏         | 7/500 [01:25<1:37:49, 11.91s/it]\u001b[A\u001b[A"
          ]
        },
        {
          "output_type": "stream",
          "name": "stdout",
          "text": [
            "Appended result to Google Drive file: [7, 0.5, 0.8333333333333334, 0.8655242966751917, 0.7065132139812448, 1.7421602787456445, 1.631321370309951]\n"
          ]
        },
        {
          "output_type": "stream",
          "name": "stderr",
          "text": [
            "\n",
            "\n",
            "Processing law dataset:   2%|▏         | 8/500 [01:37<1:38:06, 11.97s/it]\u001b[A\u001b[A"
          ]
        },
        {
          "output_type": "stream",
          "name": "stdout",
          "text": [
            "Appended result to Google Drive file: [8, 0.5, 0.6111111111111112, 0.7738869760350822, 0.7021724886835691, 1.989389920424403, 1.973684210526316]\n"
          ]
        },
        {
          "output_type": "stream",
          "name": "stderr",
          "text": [
            "\n",
            "\n",
            "Processing law dataset:   2%|▏         | 9/500 [01:50<1:39:39, 12.18s/it]\u001b[A\u001b[A"
          ]
        },
        {
          "output_type": "stream",
          "name": "stdout",
          "text": [
            "Appended result to Google Drive file: [9, 0.4545454545454546, 0.696969696969697, 0.45597818795162254, 0.8397337429595494, 0.7183908045977011, 0.6553079947575361]\n"
          ]
        },
        {
          "output_type": "stream",
          "name": "stderr",
          "text": [
            "\n",
            "\n",
            "Processing law dataset:   2%|▏         | 10/500 [02:01<1:37:15, 11.91s/it]\u001b[A\u001b[A"
          ]
        },
        {
          "output_type": "stream",
          "name": "stdout",
          "text": [
            "Appended result to Google Drive file: [10, 0.6444444444444444, 0.7777777777777778, 0.7130647130647131, 0.7240530303030303, 1.440922190201729, 1.5274949083503055]\n"
          ]
        },
        {
          "output_type": "stream",
          "name": "stderr",
          "text": [
            "\n",
            "\n",
            "Processing law dataset:   2%|▏         | 11/500 [02:12<1:32:46, 11.38s/it]\u001b[A\u001b[A"
          ]
        },
        {
          "output_type": "stream",
          "name": "stdout",
          "text": [
            "Appended result to Google Drive file: [11, 0.3529411764705882, 0.6274509803921569, 0.7662141779788838, 0.38114478114478106, 1.5082956259426845, 2.2321428571428577]\n"
          ]
        },
        {
          "output_type": "stream",
          "name": "stderr",
          "text": [
            "\n",
            "\n",
            "Processing law dataset:   2%|▏         | 12/500 [02:20<1:25:42, 10.54s/it]\u001b[A\u001b[A"
          ]
        },
        {
          "output_type": "stream",
          "name": "stdout",
          "text": [
            "Appended result to Google Drive file: [12, 0.6, 0.9, 0.7443683923005239, 1.0, 1.997336884154461, 5.376344086021505]\n"
          ]
        },
        {
          "output_type": "stream",
          "name": "stderr",
          "text": [
            "\n",
            "\n",
            "Processing law dataset:   3%|▎         | 13/500 [02:31<1:25:46, 10.57s/it]\u001b[A\u001b[A"
          ]
        },
        {
          "output_type": "stream",
          "name": "stdout",
          "text": [
            "Appended result to Google Drive file: [13, 2.0444444444444443, 1.911111111111111, 0.7195297104111694, 0.5733333333333334, 1.8633540372670807, 2.066115702479339]\n"
          ]
        },
        {
          "output_type": "stream",
          "name": "stderr",
          "text": [
            "\n",
            "\n",
            "Processing law dataset:   3%|▎         | 14/500 [02:41<1:24:53, 10.48s/it]\u001b[A\u001b[A"
          ]
        },
        {
          "output_type": "stream",
          "name": "stdout",
          "text": [
            "Appended result to Google Drive file: [14, 0.20833333333333337, 0.8333333333333334, 0.6807773289966327, 0.20621239860336674, 1.169590643274854, 1.2091898428053203]\n"
          ]
        },
        {
          "output_type": "stream",
          "name": "stderr",
          "text": [
            "\n",
            "\n",
            "Processing law dataset:   3%|▎         | 15/500 [02:50<1:19:57,  9.89s/it]\u001b[A\u001b[A"
          ]
        },
        {
          "output_type": "stream",
          "name": "stdout",
          "text": [
            "Appended result to Google Drive file: [15, 0.5641025641025641, 0.9230769230769231, 0.7805323868677906, 1.0, 1.7361111111111112, 4.166666666666666]\n"
          ]
        },
        {
          "output_type": "stream",
          "name": "stderr",
          "text": [
            "\n",
            "\n",
            "Processing law dataset:   3%|▎         | 16/500 [03:00<1:21:28, 10.10s/it]\u001b[A\u001b[A"
          ]
        },
        {
          "output_type": "stream",
          "name": "stdout",
          "text": [
            "Appended result to Google Drive file: [16, 0.8611111111111112, 1.0555555555555556, 0.749981684981685, 0.5861213326002058, 1.5974440894568689, 1.3368983957219254]\n"
          ]
        },
        {
          "output_type": "stream",
          "name": "stderr",
          "text": [
            "\n",
            "\n",
            "Processing law dataset:   3%|▎         | 17/500 [03:08<1:16:20,  9.48s/it]\u001b[A\u001b[A"
          ]
        },
        {
          "output_type": "stream",
          "name": "stdout",
          "text": [
            "Appended result to Google Drive file: [17, 0.8431372549019608, 0.07843137254901966, 0.8942018942018942, 0.0, 1.6722408026755853, 8.333333333333332]\n"
          ]
        },
        {
          "output_type": "stream",
          "name": "stderr",
          "text": [
            "\n",
            "\n",
            "Processing law dataset:   4%|▎         | 18/500 [03:18<1:16:21,  9.50s/it]\u001b[A\u001b[A"
          ]
        },
        {
          "output_type": "stream",
          "name": "stdout",
          "text": [
            "Appended result to Google Drive file: [18, 0.19999999999999996, 0.8666666666666667, 0.8409197012138189, 0.31160551652354934, 1.6375545851528384, 2.5167785234899323]\n"
          ]
        },
        {
          "output_type": "stream",
          "name": "stderr",
          "text": [
            "\n",
            "\n",
            "Processing law dataset:   4%|▍         | 19/500 [03:29<1:20:04,  9.99s/it]\u001b[A\u001b[A"
          ]
        },
        {
          "output_type": "stream",
          "name": "stdout",
          "text": [
            "Appended result to Google Drive file: [19, 0.4901960784313726, 0.8235294117647058, 0.7153212348769294, 0.8016594516594516, 0.8077544426494345, 0.0]\n"
          ]
        },
        {
          "output_type": "stream",
          "name": "stderr",
          "text": [
            "\n",
            "\n",
            "Processing law dataset:   4%|▍         | 20/500 [03:38<1:16:58,  9.62s/it]\u001b[A\u001b[A"
          ]
        },
        {
          "output_type": "stream",
          "name": "stdout",
          "text": [
            "Appended result to Google Drive file: [20, 0.33333333333333337, 0.4545454545454546, 0.6251890889572049, 0.8395685877991238, 1.2690355329949239, 1.016260162601626]\n"
          ]
        },
        {
          "output_type": "stream",
          "name": "stderr",
          "text": [
            "\n",
            "\n",
            "Processing law dataset:   4%|▍         | 21/500 [03:47<1:17:15,  9.68s/it]\u001b[A\u001b[A"
          ]
        },
        {
          "output_type": "stream",
          "name": "stdout",
          "text": [
            "Appended result to Google Drive file: [21, 0.33333333333333337, 0.9791666666666666, 0.3175618073316283, 0.7417283950617284, 3.1779661016949152, 1.4691478942213514]\n"
          ]
        },
        {
          "output_type": "stream",
          "name": "stderr",
          "text": [
            "\n",
            "\n",
            "Processing law dataset:   4%|▍         | 22/500 [03:58<1:18:02,  9.80s/it]\u001b[A\u001b[A"
          ]
        },
        {
          "output_type": "stream",
          "name": "stdout",
          "text": [
            "Appended result to Google Drive file: [22, 0.5714285714285714, 0.9285714285714286, 0.9172214985284893, 0.2421880523153058, 2.013422818791946, 1.953125]\n"
          ]
        },
        {
          "output_type": "stream",
          "name": "stderr",
          "text": [
            "\n",
            "\n",
            "Processing law dataset:   5%|▍         | 23/500 [04:08<1:19:41, 10.02s/it]\u001b[A\u001b[A"
          ]
        },
        {
          "output_type": "stream",
          "name": "stdout",
          "text": [
            "Appended result to Google Drive file: [23, 0.607843137254902, 0.9411764705882353, 0.7249163879598663, 0.5151515151515151, 1.7301038062283736, 1.8148820326678767]\n"
          ]
        },
        {
          "output_type": "stream",
          "name": "stderr",
          "text": [
            "\n",
            "\n",
            "Processing law dataset:   5%|▍         | 24/500 [04:20<1:24:41, 10.68s/it]\u001b[A\u001b[A"
          ]
        },
        {
          "output_type": "stream",
          "name": "stdout",
          "text": [
            "Appended result to Google Drive file: [24, 0.5098039215686274, 0.9019607843137255, 0.8272841051314143, 0.6182336182336182, 1.5723270440251573, 1.3404825737265416]\n"
          ]
        },
        {
          "output_type": "stream",
          "name": "stderr",
          "text": [
            "\n",
            "\n",
            "Processing law dataset:   5%|▌         | 25/500 [04:30<1:21:30, 10.29s/it]\u001b[A\u001b[A"
          ]
        },
        {
          "output_type": "stream",
          "name": "stdout",
          "text": [
            "Appended result to Google Drive file: [25, 0.6111111111111112, 1.1388888888888888, 0.7793724659895828, 0.10348583877995643, 1.6666666666666667, 2.7075812274368234]\n"
          ]
        },
        {
          "output_type": "stream",
          "name": "stderr",
          "text": [
            "\n",
            "\n",
            "Processing law dataset:   5%|▌         | 26/500 [04:39<1:20:13, 10.15s/it]\u001b[A\u001b[A"
          ]
        },
        {
          "output_type": "stream",
          "name": "stdout",
          "text": [
            "Appended result to Google Drive file: [26, 0.5757575757575757, 0.9393939393939394, 0.579696394686907, 0.8333333333333334, 1.691093573844419, 3.0487804878048785]\n"
          ]
        },
        {
          "output_type": "stream",
          "name": "stderr",
          "text": [
            "\n",
            "\n",
            "Processing law dataset:   5%|▌         | 27/500 [04:48<1:16:48,  9.74s/it]\u001b[A\u001b[A"
          ]
        },
        {
          "output_type": "stream",
          "name": "stdout",
          "text": [
            "Appended result to Google Drive file: [27, 0.5, 0.6111111111111112, 0.8924963924963926, 0.10966573165030387, 1.8679950186799503, 3.3259423503325944]\n"
          ]
        },
        {
          "output_type": "stream",
          "name": "stderr",
          "text": [
            "\n",
            "\n",
            "Processing law dataset:   6%|▌         | 28/500 [04:59<1:17:52,  9.90s/it]\u001b[A\u001b[A"
          ]
        },
        {
          "output_type": "stream",
          "name": "stdout",
          "text": [
            "Appended result to Google Drive file: [28, 0.6666666666666667, 0.7291666666666667, 0.6992802519118309, 0.03333333333333333, 0.8561643835616439, 1.4577259475218658]\n"
          ]
        },
        {
          "output_type": "stream",
          "name": "stderr",
          "text": [
            "\n",
            "\n",
            "Processing law dataset:   6%|▌         | 29/500 [05:09<1:18:17,  9.97s/it]\u001b[A\u001b[A"
          ]
        },
        {
          "output_type": "stream",
          "name": "stdout",
          "text": [
            "Appended result to Google Drive file: [29, 0.27083333333333337, 1.0, 0.7175773535220539, 1.0, 1.5243902439024388, 3.03030303030303]\n"
          ]
        },
        {
          "output_type": "stream",
          "name": "stderr",
          "text": [
            "\n",
            "\n",
            "Processing law dataset:   6%|▌         | 30/500 [05:20<1:20:32, 10.28s/it]\u001b[A\u001b[A"
          ]
        },
        {
          "output_type": "stream",
          "name": "stdout",
          "text": [
            "Appended result to Google Drive file: [30, 0.41666666666666663, 0.4722222222222222, 0.6271231279705857, 0.7298187008638987, 1.8072289156626509, 1.8382352941176467]\n"
          ]
        },
        {
          "output_type": "stream",
          "name": "stderr",
          "text": [
            "\n",
            "\n",
            "Processing law dataset:   6%|▌         | 31/500 [05:31<1:22:54, 10.61s/it]\u001b[A\u001b[A"
          ]
        },
        {
          "output_type": "stream",
          "name": "stdout",
          "text": [
            "Appended result to Google Drive file: [31, 0.4035087719298246, 0.9473684210526316, 0.8938235294117648, 0.873015873015873, 1.6703786191536747, 3.34075723830735]\n"
          ]
        },
        {
          "output_type": "stream",
          "name": "stderr",
          "text": [
            "\n",
            "\n",
            "Processing law dataset:   6%|▋         | 32/500 [05:41<1:20:16, 10.29s/it]\u001b[A\u001b[A"
          ]
        },
        {
          "output_type": "stream",
          "name": "stdout",
          "text": [
            "Appended result to Google Drive file: [32, 0.5666666666666667, 0.8, 0.4444444444444444, 0.85, 1.7064846416382253, 1.855287569573284]\n"
          ]
        },
        {
          "output_type": "stream",
          "name": "stderr",
          "text": [
            "\n",
            "\n",
            "Processing law dataset:   7%|▋         | 33/500 [05:51<1:19:37, 10.23s/it]\u001b[A\u001b[A"
          ]
        },
        {
          "output_type": "stream",
          "name": "stdout",
          "text": [
            "Appended result to Google Drive file: [33, 0.1777777777777778, 0.6, 0.4666666666666666, 0.7225556889422435, 1.506024096385542, 0.9523809523809524]\n"
          ]
        },
        {
          "output_type": "stream",
          "name": "stderr",
          "text": [
            "\n",
            "\n",
            "Processing law dataset:   7%|▋         | 34/500 [05:59<1:14:15,  9.56s/it]\u001b[A\u001b[A"
          ]
        },
        {
          "output_type": "stream",
          "name": "stdout",
          "text": [
            "Appended result to Google Drive file: [34, 0.08333333333333337, 0.9722222222222222, 1.0, 0.3567251461988305, 0.0, 3.303964757709252]\n"
          ]
        },
        {
          "output_type": "stream",
          "name": "stderr",
          "text": [
            "\n",
            "\n",
            "Processing law dataset:   7%|▋         | 35/500 [06:09<1:14:46,  9.65s/it]\u001b[A\u001b[A"
          ]
        },
        {
          "output_type": "stream",
          "name": "stdout",
          "text": [
            "Appended result to Google Drive file: [35, 0.7083333333333333, 0.875, 0.8159214884083382, 0.4160856394221872, 1.5228426395939085, 1.9582245430809397]\n"
          ]
        },
        {
          "output_type": "stream",
          "name": "stderr",
          "text": [
            "\n",
            "\n",
            "Processing law dataset:   7%|▋         | 36/500 [06:16<1:08:24,  8.85s/it]\u001b[A\u001b[A"
          ]
        },
        {
          "output_type": "stream",
          "name": "stdout",
          "text": [
            "Appended result to Google Drive file: [36, 0.2142857142857143, 0.8571428571428572, 0.8095238095238096, 0.9166666666666666, 12.048192771084338, 3.831417624521072]\n"
          ]
        },
        {
          "output_type": "stream",
          "name": "stderr",
          "text": [
            "\n",
            "\n",
            "Processing law dataset:   7%|▋         | 37/500 [06:26<1:12:32,  9.40s/it]\u001b[A\u001b[A"
          ]
        },
        {
          "output_type": "stream",
          "name": "stdout",
          "text": [
            "Appended result to Google Drive file: [37, 0.5, 0.7857142857142857, 0.923076923076923, 1.0, 1.7921146953405016, 4.424778761061947]\n"
          ]
        },
        {
          "output_type": "stream",
          "name": "stderr",
          "text": [
            "\n",
            "\n",
            "Processing law dataset:   8%|▊         | 38/500 [06:33<1:07:19,  8.74s/it]\u001b[A\u001b[A"
          ]
        },
        {
          "output_type": "stream",
          "name": "stdout",
          "text": [
            "Appended result to Google Drive file: [38, 0.07017543859649122, 0.7894736842105263, 0.1553030303030303, 0.4000000000000001, 5.88235294117647, 0.0]\n"
          ]
        },
        {
          "output_type": "stream",
          "name": "stderr",
          "text": [
            "\n",
            "\n",
            "Processing law dataset:   8%|▊         | 39/500 [06:42<1:06:22,  8.64s/it]\u001b[A\u001b[A"
          ]
        },
        {
          "output_type": "stream",
          "name": "stdout",
          "text": [
            "Appended result to Google Drive file: [39, 0.07692307692307687, 0.5641025641025641, 1.0, 0.5052061122956645, 33.33333333333333, 1.3698630136986303]\n"
          ]
        },
        {
          "output_type": "stream",
          "name": "stderr",
          "text": [
            "\n",
            "\n",
            "Processing law dataset:   8%|▊         | 40/500 [06:50<1:06:06,  8.62s/it]\u001b[A\u001b[A"
          ]
        },
        {
          "output_type": "stream",
          "name": "stdout",
          "text": [
            "Appended result to Google Drive file: [40, 0.3076923076923077, 0.9743589743589743, 0.07971014492753624, 0.1586734693877551, 2.702702702702703, 2.358490566037736]\n"
          ]
        },
        {
          "output_type": "stream",
          "name": "stderr",
          "text": [
            "\n",
            "\n",
            "Processing law dataset:   8%|▊         | 41/500 [07:00<1:08:06,  8.90s/it]\u001b[A\u001b[A"
          ]
        },
        {
          "output_type": "stream",
          "name": "stdout",
          "text": [
            "Appended result to Google Drive file: [41, 0.2222222222222222, 0.9166666666666666, 0.6778751897293196, 0.4666666666666666, 1.4720314033366046, 2.0533880903490758]\n"
          ]
        },
        {
          "output_type": "stream",
          "name": "stderr",
          "text": [
            "\n",
            "\n",
            "Processing law dataset:   8%|▊         | 42/500 [07:09<1:09:05,  9.05s/it]\u001b[A\u001b[A"
          ]
        },
        {
          "output_type": "stream",
          "name": "stdout",
          "text": [
            "Appended result to Google Drive file: [42, 0.8541666666666666, 0.8958333333333334, 0.903397212543554, 0.8271317829457364, 1.8450184501845017, 1.893939393939394]\n"
          ]
        },
        {
          "output_type": "stream",
          "name": "stderr",
          "text": [
            "\n",
            "\n",
            "Processing law dataset:   9%|▊         | 43/500 [07:18<1:08:00,  8.93s/it]\u001b[A\u001b[A"
          ]
        },
        {
          "output_type": "stream",
          "name": "stdout",
          "text": [
            "Appended result to Google Drive file: [43, 0.19047619047619047, 0.6428571428571428, 0.8518518518518517, 0.40680851063829787, 5.102040816326531, 1.538461538461538]\n"
          ]
        },
        {
          "output_type": "stream",
          "name": "stderr",
          "text": [
            "\n",
            "\n",
            "Processing law dataset:   9%|▉         | 44/500 [07:29<1:12:21,  9.52s/it]\u001b[A\u001b[A"
          ]
        },
        {
          "output_type": "stream",
          "name": "stdout",
          "text": [
            "Appended result to Google Drive file: [44, 0.5789473684210527, 1.3157894736842106, 0.8186813186813185, 0.35394480705370435, 1.3568521031207597, 0.8771929824561403]\n"
          ]
        },
        {
          "output_type": "stream",
          "name": "stderr",
          "text": [
            "\n",
            "\n",
            "Processing law dataset:   9%|▉         | 45/500 [07:40<1:15:07,  9.91s/it]\u001b[A\u001b[A"
          ]
        },
        {
          "output_type": "stream",
          "name": "stdout",
          "text": [
            "Appended result to Google Drive file: [45, 0.6923076923076923, 0.8717948717948718, 0.7224816027039745, 0.6899881164587046, 1.7814726840855106, 1.9059720457433296]\n"
          ]
        },
        {
          "output_type": "stream",
          "name": "stderr",
          "text": [
            "\n",
            "\n",
            "Processing law dataset:   9%|▉         | 46/500 [07:50<1:14:52,  9.90s/it]\u001b[A\u001b[A"
          ]
        },
        {
          "output_type": "stream",
          "name": "stdout",
          "text": [
            "Appended result to Google Drive file: [46, 0.47619047619047616, 0.8571428571428572, 0.7620689655172415, 0.16459884201819686, 1.3574660633484166, 3.3632286995515694]\n"
          ]
        },
        {
          "output_type": "stream",
          "name": "stderr",
          "text": [
            "\n",
            "\n",
            "Processing law dataset:   9%|▉         | 47/500 [07:58<1:11:55,  9.53s/it]\u001b[A\u001b[A"
          ]
        },
        {
          "output_type": "stream",
          "name": "stdout",
          "text": [
            "Appended result to Google Drive file: [47, 0.5185185185185186, 0.962962962962963, 0.7452213589838451, 0.888888888888889, 1.8564356435643563, 4.149377593360995]\n"
          ]
        },
        {
          "output_type": "stream",
          "name": "stderr",
          "text": [
            "\n",
            "\n",
            "Processing law dataset:  10%|▉         | 48/500 [08:07<1:09:43,  9.25s/it]\u001b[A\u001b[A"
          ]
        },
        {
          "output_type": "stream",
          "name": "stdout",
          "text": [
            "Appended result to Google Drive file: [48, 0.6666666666666667, 0.7, 0.6136363636363636, 1.0, 1.8382352941176467, 4.23728813559322]\n"
          ]
        },
        {
          "output_type": "stream",
          "name": "stderr",
          "text": [
            "\n",
            "\n",
            "Processing law dataset:  10%|▉         | 49/500 [08:18<1:13:29,  9.78s/it]\u001b[A\u001b[A"
          ]
        },
        {
          "output_type": "stream",
          "name": "stdout",
          "text": [
            "Appended result to Google Drive file: [49, 0.48484848484848486, 0.8484848484848485, 0.34061086624607495, 0.7290473407364114, 1.358695652173913, 1.5243902439024388]\n"
          ]
        },
        {
          "output_type": "stream",
          "name": "stderr",
          "text": [
            "\n",
            "\n",
            "Processing law dataset:  10%|█         | 50/500 [08:28<1:13:19,  9.78s/it]\u001b[A\u001b[A"
          ]
        },
        {
          "output_type": "stream",
          "name": "stdout",
          "text": [
            "Appended result to Google Drive file: [50, 0.3571428571428571, 0.6904761904761905, 0.8736662756270599, 0.4193548387096773, 1.646542261251372, 3.205128205128205]\n"
          ]
        },
        {
          "output_type": "stream",
          "name": "stderr",
          "text": [
            "\n",
            "\n",
            "Processing law dataset:  10%|█         | 51/500 [08:37<1:12:27,  9.68s/it]\u001b[A\u001b[A"
          ]
        },
        {
          "output_type": "stream",
          "name": "stdout",
          "text": [
            "Appended result to Google Drive file: [51, 0.2941176470588235, 0.7450980392156863, 0.7620915032679738, 0.8151839464882943, 5.415162454873645, 1.7985611510791366]\n"
          ]
        },
        {
          "output_type": "stream",
          "name": "stderr",
          "text": [
            "\n",
            "\n",
            "Processing law dataset:  10%|█         | 52/500 [08:46<1:11:11,  9.53s/it]\u001b[A\u001b[A"
          ]
        },
        {
          "output_type": "stream",
          "name": "stdout",
          "text": [
            "Appended result to Google Drive file: [52, 0.4375, 0.625, 0.8191125506806496, 1.0, 1.5649452269170578, 2.4752475247524752]\n"
          ]
        },
        {
          "output_type": "stream",
          "name": "stderr",
          "text": [
            "\n",
            "\n",
            "Processing law dataset:  11%|█         | 53/500 [08:59<1:18:47, 10.58s/it]\u001b[A\u001b[A"
          ]
        },
        {
          "output_type": "stream",
          "name": "stdout",
          "text": [
            "Appended result to Google Drive file: [53, 0.19047619047619047, 0.6666666666666667, 0.5767530911364268, 0.40298507462686567, 1.5706806282722516, 2.115655853314527]\n"
          ]
        },
        {
          "output_type": "stream",
          "name": "stderr",
          "text": [
            "\n",
            "\n",
            "Processing law dataset:  11%|█         | 54/500 [09:10<1:18:34, 10.57s/it]\u001b[A\u001b[A"
          ]
        },
        {
          "output_type": "stream",
          "name": "stdout",
          "text": [
            "Appended result to Google Drive file: [54, 0.641025641025641, 0.9230769230769231, 0.8458950483266593, 0.9123847167325428, 1.7281105990783407, 1.80940892641737]\n"
          ]
        },
        {
          "output_type": "stream",
          "name": "stderr",
          "text": [
            "\n",
            "\n",
            "Processing law dataset:  11%|█         | 55/500 [09:20<1:17:03, 10.39s/it]\u001b[A\u001b[A"
          ]
        },
        {
          "output_type": "stream",
          "name": "stdout",
          "text": [
            "Appended result to Google Drive file: [55, 0.41025641025641024, 1.0256410256410255, 0.7496340868433892, 0.10261022927689593, 1.187648456057007, 1.6366612111292964]\n"
          ]
        },
        {
          "output_type": "stream",
          "name": "stderr",
          "text": [
            "\n",
            "\n",
            "Processing law dataset:  11%|█         | 56/500 [09:33<1:22:05, 11.09s/it]\u001b[A\u001b[A"
          ]
        },
        {
          "output_type": "stream",
          "name": "stdout",
          "text": [
            "Appended result to Google Drive file: [56, 0.4833333333333333, 1.3666666666666667, 0.3163928339366936, 0.5994676379938358, 1.2970168612191961, 1.0155721056194988]\n"
          ]
        },
        {
          "output_type": "stream",
          "name": "stderr",
          "text": [
            "\n",
            "\n",
            "Processing law dataset:  11%|█▏        | 57/500 [09:44<1:23:37, 11.33s/it]\u001b[A\u001b[A"
          ]
        },
        {
          "output_type": "stream",
          "name": "stdout",
          "text": [
            "Appended result to Google Drive file: [57, 0.4375, 0.6875, 0.8870859538784067, 0.2606060606060606, 1.9230769230769231, 1.5797788309636653]\n"
          ]
        },
        {
          "output_type": "stream",
          "name": "stderr",
          "text": [
            "\n",
            "\n",
            "Processing law dataset:  12%|█▏        | 58/500 [09:56<1:24:19, 11.45s/it]\u001b[A\u001b[A"
          ]
        },
        {
          "output_type": "stream",
          "name": "stdout",
          "text": [
            "Appended result to Google Drive file: [58, 0.6521739130434783, 0.7536231884057971, 0.7793260473588344, 0.6788998357963876, 1.4058106841611997, 1.49402390438247]\n"
          ]
        },
        {
          "output_type": "stream",
          "name": "stderr",
          "text": [
            "\n",
            "\n",
            "Processing law dataset:  12%|█▏        | 59/500 [10:07<1:22:06, 11.17s/it]\u001b[A\u001b[A"
          ]
        },
        {
          "output_type": "stream",
          "name": "stdout",
          "text": [
            "Appended result to Google Drive file: [59, 0.6296296296296297, 0.8888888888888888, 0.7745614035087719, 0.07327251552795032, 1.594048884165781, 2.9182879377431905]\n"
          ]
        },
        {
          "output_type": "stream",
          "name": "stderr",
          "text": [
            "\n",
            "\n",
            "Processing law dataset:  12%|█▏        | 60/500 [10:16<1:18:49, 10.75s/it]\u001b[A\u001b[A"
          ]
        },
        {
          "output_type": "stream",
          "name": "stdout",
          "text": [
            "Appended result to Google Drive file: [60, 0.7407407407407407, 0.7777777777777778, 0.5171111783764393, 0.7023636740617872, 2.0746887966804977, 1.7921146953405016]\n"
          ]
        },
        {
          "output_type": "stream",
          "name": "stderr",
          "text": [
            "\n",
            "\n",
            "Processing law dataset:  12%|█▏        | 61/500 [10:28<1:19:53, 10.92s/it]\u001b[A\u001b[A"
          ]
        },
        {
          "output_type": "stream",
          "name": "stdout",
          "text": [
            "Appended result to Google Drive file: [61, 0.36363636363636365, 0.7272727272727273, 0.24780013435975376, 0.8012462189957653, 1.243781094527363, 0.7727975270479135]\n"
          ]
        },
        {
          "output_type": "stream",
          "name": "stderr",
          "text": [
            "\n",
            "\n",
            "Processing law dataset:  12%|█▏        | 62/500 [10:41<1:24:48, 11.62s/it]\u001b[A\u001b[A"
          ]
        },
        {
          "output_type": "stream",
          "name": "stdout",
          "text": [
            "Appended result to Google Drive file: [62, 0.6222222222222222, 0.6666666666666667, 0.7839978734715577, 0.8264150943396227, 0.8695652173913043, 0.8650519031141868]\n"
          ]
        },
        {
          "output_type": "stream",
          "name": "stderr",
          "text": [
            "\n",
            "\n",
            "Processing law dataset:  13%|█▎        | 63/500 [10:53<1:25:05, 11.68s/it]\u001b[A\u001b[A"
          ]
        },
        {
          "output_type": "stream",
          "name": "stdout",
          "text": [
            "Appended result to Google Drive file: [63, 0.6666666666666667, 0.6274509803921569, 0.836631809408579, 0.8468202956073577, 0.7680491551459292, 1.6233766233766236]\n"
          ]
        },
        {
          "output_type": "stream",
          "name": "stderr",
          "text": [
            "\n",
            "\n",
            "Processing law dataset:  13%|█▎        | 64/500 [11:04<1:22:57, 11.42s/it]\u001b[A\u001b[A"
          ]
        },
        {
          "output_type": "stream",
          "name": "stdout",
          "text": [
            "Appended result to Google Drive file: [64, 0.641025641025641, 0.7948717948717949, 0.7124592140729181, 0.5878249475890985, 1.5974440894568689, 2.0964360587002098]\n"
          ]
        },
        {
          "output_type": "stream",
          "name": "stderr",
          "text": [
            "\n",
            "\n",
            "Processing law dataset:  13%|█▎        | 65/500 [11:14<1:21:31, 11.25s/it]\u001b[A\u001b[A"
          ]
        },
        {
          "output_type": "stream",
          "name": "stdout",
          "text": [
            "Appended result to Google Drive file: [65, 0.35185185185185186, 0.8148148148148149, 0.8136437908496732, 0.3333333333333333, 1.5353121801432958, 1.8072289156626509]\n"
          ]
        },
        {
          "output_type": "stream",
          "name": "stderr",
          "text": [
            "\n",
            "\n",
            "Processing law dataset:  13%|█▎        | 66/500 [11:24<1:18:09, 10.81s/it]\u001b[A\u001b[A"
          ]
        },
        {
          "output_type": "stream",
          "name": "stdout",
          "text": [
            "Appended result to Google Drive file: [66, 0.45238095238095233, 0.9285714285714286, 0.8419673142152329, 1.0, 1.8281535648994516, 0.0]\n"
          ]
        },
        {
          "output_type": "stream",
          "name": "stderr",
          "text": [
            "\n",
            "\n",
            "Processing law dataset:  13%|█▎        | 67/500 [11:33<1:13:10, 10.14s/it]\u001b[A\u001b[A"
          ]
        },
        {
          "output_type": "stream",
          "name": "stdout",
          "text": [
            "Appended result to Google Drive file: [67, 0.09090909090909094, 0.5151515151515151, 0.1111111111111111, 0.901595744680851, 22.388059701492537, 1.9059720457433296]\n"
          ]
        },
        {
          "output_type": "stream",
          "name": "stderr",
          "text": [
            "\n",
            "\n",
            "Processing law dataset:  14%|█▎        | 68/500 [11:42<1:11:04,  9.87s/it]\u001b[A\u001b[A"
          ]
        },
        {
          "output_type": "stream",
          "name": "stdout",
          "text": [
            "Appended result to Google Drive file: [68, 0.75, 1.0, 0.9330555555555556, 1.0, 1.7513134851138354, 4.424778761061947]\n"
          ]
        },
        {
          "output_type": "stream",
          "name": "stderr",
          "text": [
            "\n",
            "\n",
            "Processing law dataset:  14%|█▍        | 69/500 [11:52<1:10:18,  9.79s/it]\u001b[A\u001b[A"
          ]
        },
        {
          "output_type": "stream",
          "name": "stdout",
          "text": [
            "Appended result to Google Drive file: [69, 0.2941176470588235, 0.5294117647058824, 0.8699416991158059, 0.16101614434947767, 1.1135857461024499, 2.34192037470726]\n"
          ]
        },
        {
          "output_type": "stream",
          "name": "stderr",
          "text": [
            "\n",
            "\n",
            "Processing law dataset:  14%|█▍        | 70/500 [11:59<1:04:07,  8.95s/it]\u001b[A\u001b[A"
          ]
        },
        {
          "output_type": "stream",
          "name": "stdout",
          "text": [
            "Appended result to Google Drive file: [70, 0.0714285714285714, 0.38095238095238093, 0.7777777777777777, 0.38095238095238093, 16.666666666666668, 6.072874493927125]\n"
          ]
        },
        {
          "output_type": "stream",
          "name": "stderr",
          "text": [
            "\n",
            "\n",
            "Processing law dataset:  14%|█▍        | 71/500 [12:08<1:05:47,  9.20s/it]\u001b[A\u001b[A"
          ]
        },
        {
          "output_type": "stream",
          "name": "stdout",
          "text": [
            "Appended result to Google Drive file: [71, 0.2222222222222222, 0.7777777777777778, 0.5722092115534738, 1.0, 1.4204545454545452, 4.8543689320388355]\n"
          ]
        },
        {
          "output_type": "stream",
          "name": "stderr",
          "text": [
            "\n",
            "\n",
            "Processing law dataset:  14%|█▍        | 72/500 [12:18<1:06:36,  9.34s/it]\u001b[A\u001b[A"
          ]
        },
        {
          "output_type": "stream",
          "name": "stdout",
          "text": [
            "Appended result to Google Drive file: [72, 0.5625, 0.8125, 0.4061139607358095, 0.64291146761735, 1.5313935681470137, 1.1560693641618496]\n"
          ]
        },
        {
          "output_type": "stream",
          "name": "stderr",
          "text": [
            "\n",
            "\n",
            "Processing law dataset:  15%|█▍        | 73/500 [12:27<1:06:14,  9.31s/it]\u001b[A\u001b[A"
          ]
        },
        {
          "output_type": "stream",
          "name": "stdout",
          "text": [
            "Appended result to Google Drive file: [73, 1.1, 1.1666666666666667, 0.7954545454545454, 0.30191570881226054, 1.858736059479554, 3.3259423503325944]\n"
          ]
        },
        {
          "output_type": "stream",
          "name": "stderr",
          "text": [
            "\n",
            "\n",
            "Processing law dataset:  15%|█▍        | 74/500 [12:35<1:03:21,  8.92s/it]\u001b[A\u001b[A"
          ]
        },
        {
          "output_type": "stream",
          "name": "stdout",
          "text": [
            "Appended result to Google Drive file: [74, 0.1333333333333333, 0.8666666666666667, 1.0, 1.0, 11.627906976744185, 3.125]\n"
          ]
        },
        {
          "output_type": "stream",
          "name": "stderr",
          "text": [
            "\n",
            "\n",
            "Processing law dataset:  15%|█▌        | 75/500 [12:45<1:05:28,  9.24s/it]\u001b[A\u001b[A"
          ]
        },
        {
          "output_type": "stream",
          "name": "stdout",
          "text": [
            "Appended result to Google Drive file: [75, 0.6428571428571428, 1.0, 0.8336162375636059, 0.37254901960784315, 1.6750418760469015, 3.571428571428572]\n"
          ]
        },
        {
          "output_type": "stream",
          "name": "stderr",
          "text": [
            "\n",
            "\n",
            "Processing law dataset:  15%|█▌        | 76/500 [12:55<1:07:06,  9.50s/it]\u001b[A\u001b[A"
          ]
        },
        {
          "output_type": "stream",
          "name": "stdout",
          "text": [
            "Appended result to Google Drive file: [76, 0.7037037037037037, 1.0, 0.4367608581894296, 0.8305329311211663, 2.31839258114374, 1.7942583732057416]\n"
          ]
        },
        {
          "output_type": "stream",
          "name": "stderr",
          "text": [
            "\n",
            "\n",
            "Processing law dataset:  15%|█▌        | 77/500 [13:04<1:05:16,  9.26s/it]\u001b[A\u001b[A"
          ]
        },
        {
          "output_type": "stream",
          "name": "stdout",
          "text": [
            "Appended result to Google Drive file: [77, 0.125, 0.875, 1.0, 0.14707017120810226, 7.575757575757576, 2.3923444976076556]\n"
          ]
        },
        {
          "output_type": "stream",
          "name": "stderr",
          "text": [
            "\n",
            "\n",
            "Processing law dataset:  16%|█▌        | 78/500 [13:16<1:09:34,  9.89s/it]\u001b[A\u001b[A"
          ]
        },
        {
          "output_type": "stream",
          "name": "stdout",
          "text": [
            "Appended result to Google Drive file: [78, 0.4722222222222222, 1.3055555555555556, 0.6627670940170941, 0.42091253136029255, 1.7523364485981308, 1.457725947521866]\n"
          ]
        },
        {
          "output_type": "stream",
          "name": "stderr",
          "text": [
            "\n",
            "\n",
            "Processing law dataset:  16%|█▌        | 79/500 [13:24<1:06:59,  9.55s/it]\u001b[A\u001b[A"
          ]
        },
        {
          "output_type": "stream",
          "name": "stdout",
          "text": [
            "Appended result to Google Drive file: [79, 0.1875, 0.875, 0.8333333333333334, 0.7219686746002535, 10.869565217391305, 1.557632398753894]\n"
          ]
        },
        {
          "output_type": "stream",
          "name": "stderr",
          "text": [
            "\n",
            "\n",
            "Processing law dataset:  16%|█▌        | 80/500 [13:33<1:04:53,  9.27s/it]\u001b[A\u001b[A"
          ]
        },
        {
          "output_type": "stream",
          "name": "stdout",
          "text": [
            "Appended result to Google Drive file: [80, 0.28888888888888886, 0.8666666666666667, 0.8030075187969925, 0.923076923076923, 4.966887417218543, 1.632208922742111]\n"
          ]
        },
        {
          "output_type": "stream",
          "name": "stderr",
          "text": [
            "\n",
            "\n",
            "Processing law dataset:  16%|█▌        | 81/500 [13:43<1:05:36,  9.39s/it]\u001b[A\u001b[A"
          ]
        },
        {
          "output_type": "stream",
          "name": "stdout",
          "text": [
            "Appended result to Google Drive file: [81, 0.2222222222222222, 1.1555555555555554, 0.288399388124044, 0.38888888888888884, 1.7035775127768313, 3.546099290780141]\n"
          ]
        },
        {
          "output_type": "stream",
          "name": "stderr",
          "text": [
            "\n",
            "\n",
            "Processing law dataset:  16%|█▋        | 82/500 [13:52<1:06:28,  9.54s/it]\u001b[A\u001b[A"
          ]
        },
        {
          "output_type": "stream",
          "name": "stdout",
          "text": [
            "Appended result to Google Drive file: [82, 0.6904761904761905, 0.9047619047619048, 0.7885055196375951, 0.3556413556413556, 1.6574585635359118, 2.9126213592233006]\n"
          ]
        },
        {
          "output_type": "stream",
          "name": "stderr",
          "text": [
            "\n",
            "\n",
            "Processing law dataset:  17%|█▋        | 83/500 [14:01<1:04:33,  9.29s/it]\u001b[A\u001b[A"
          ]
        },
        {
          "output_type": "stream",
          "name": "stdout",
          "text": [
            "Appended result to Google Drive file: [83, 0.5555555555555556, 1.0, 0.16959064327485382, 0.25592179100951035, 1.9920318725099604, 2.857142857142857]\n"
          ]
        },
        {
          "output_type": "stream",
          "name": "stderr",
          "text": [
            "\n",
            "\n",
            "Processing law dataset:  17%|█▋        | 84/500 [14:11<1:05:38,  9.47s/it]\u001b[A\u001b[A"
          ]
        },
        {
          "output_type": "stream",
          "name": "stdout",
          "text": [
            "Appended result to Google Drive file: [84, 0.0, 1.5087719298245614, 1.0, 0.34887539361223574, 29.411764705882355, 1.2096774193548385]\n"
          ]
        },
        {
          "output_type": "stream",
          "name": "stderr",
          "text": [
            "\n",
            "\n",
            "Processing law dataset:  17%|█▋        | 85/500 [14:21<1:06:30,  9.62s/it]\u001b[A\u001b[A"
          ]
        },
        {
          "output_type": "stream",
          "name": "stdout",
          "text": [
            "Appended result to Google Drive file: [85, 0.8333333333333334, 1.5416666666666665, 0.6907173236120604, 0.2703120796341136, 0.0, 0.0]\n"
          ]
        },
        {
          "output_type": "stream",
          "name": "stderr",
          "text": [
            "\n",
            "\n",
            "Processing law dataset:  17%|█▋        | 86/500 [14:29<1:03:42,  9.23s/it]\u001b[A\u001b[A"
          ]
        },
        {
          "output_type": "stream",
          "name": "stdout",
          "text": [
            "Appended result to Google Drive file: [86, 0.33333333333333337, 0.875, 0.4557367149758454, 1.0, 2.717391304347826, 2.747252747252747]\n"
          ]
        },
        {
          "output_type": "stream",
          "name": "stderr",
          "text": [
            "\n",
            "\n",
            "Processing law dataset:  17%|█▋        | 87/500 [14:40<1:05:26,  9.51s/it]\u001b[A\u001b[A"
          ]
        },
        {
          "output_type": "stream",
          "name": "stdout",
          "text": [
            "Appended result to Google Drive file: [87, 0.1428571428571429, 0.9047619047619048, 0.3333333333333333, 0.40606060606060607, 1.2690355329949239, 2.1246458923512748]\n"
          ]
        },
        {
          "output_type": "stream",
          "name": "stderr",
          "text": [
            "\n",
            "\n",
            "Processing law dataset:  18%|█▊        | 88/500 [14:51<1:09:17, 10.09s/it]\u001b[A\u001b[A"
          ]
        },
        {
          "output_type": "stream",
          "name": "stdout",
          "text": [
            "Appended result to Google Drive file: [88, 0.5555555555555556, 1.6, 0.7316239316239316, 0.6136310360993905, 2.2522522522522523, 1.119402985074627]\n"
          ]
        },
        {
          "output_type": "stream",
          "name": "stderr",
          "text": [
            "\n",
            "\n",
            "Processing law dataset:  18%|█▊        | 89/500 [15:00<1:07:31,  9.86s/it]\u001b[A\u001b[A"
          ]
        },
        {
          "output_type": "stream",
          "name": "stdout",
          "text": [
            "Appended result to Google Drive file: [89, 0.30000000000000004, 0.7, 1.0, 0.6379119059446928, 7.8125, 1.6797312430011198]\n"
          ]
        },
        {
          "output_type": "stream",
          "name": "stderr",
          "text": [
            "\n",
            "\n",
            "Processing law dataset:  18%|█▊        | 90/500 [15:10<1:06:10,  9.68s/it]\u001b[A\u001b[A"
          ]
        },
        {
          "output_type": "stream",
          "name": "stdout",
          "text": [
            "Appended result to Google Drive file: [90, 0.19999999999999996, 1.0, 0.8911111111111111, 0.47826086956521735, 1.9582245430809397, 0.0]\n"
          ]
        },
        {
          "output_type": "stream",
          "name": "stderr",
          "text": [
            "\n",
            "\n",
            "Processing law dataset:  18%|█▊        | 91/500 [15:20<1:07:22,  9.88s/it]\u001b[A\u001b[A"
          ]
        },
        {
          "output_type": "stream",
          "name": "stdout",
          "text": [
            "Appended result to Google Drive file: [91, 0.6458333333333333, 1.125, 0.6591304347826087, 0.12630168058562738, 1.726121979286536, 1.457725947521866]\n",
            "Error occurred: Error code: 500 - {'type': 'error', 'error': {'type': 'api_error', 'message': 'Internal server error'}}\n",
            "Retrying (attempt 1/5)...\n"
          ]
        },
        {
          "output_type": "stream",
          "name": "stderr",
          "text": [
            "\n",
            "\n",
            "Processing law dataset:  18%|█▊        | 92/500 [16:41<3:32:46, 31.29s/it]\u001b[A\u001b[A"
          ]
        },
        {
          "output_type": "stream",
          "name": "stdout",
          "text": [
            "Appended result to Google Drive file: [92, 0.5714285714285714, 0.9047619047619048, 0.8765008576329331, 0.9620222544750847, 1.1160714285714288, 1.6357688113413302]\n"
          ]
        },
        {
          "output_type": "stream",
          "name": "stderr",
          "text": [
            "\n",
            "\n",
            "Processing law dataset:  19%|█▊        | 93/500 [16:50<2:47:20, 24.67s/it]\u001b[A\u001b[A"
          ]
        },
        {
          "output_type": "stream",
          "name": "stdout",
          "text": [
            "Appended result to Google Drive file: [93, 0.4871794871794872, 0.8205128205128205, 0.6765247157841845, 0.3898305084745763, 1.51285930408472, 4.9504950495049505]\n"
          ]
        },
        {
          "output_type": "stream",
          "name": "stderr",
          "text": [
            "\n",
            "\n",
            "Processing law dataset:  19%|█▉        | 94/500 [17:01<2:17:36, 20.34s/it]\u001b[A\u001b[A"
          ]
        },
        {
          "output_type": "stream",
          "name": "stdout",
          "text": [
            "Appended result to Google Drive file: [94, 0.45238095238095233, 1.0, 0.7956306536951697, 1.0, 1.6574585635359118, 0.0]\n"
          ]
        },
        {
          "output_type": "stream",
          "name": "stderr",
          "text": [
            "\n",
            "\n",
            "Processing law dataset:  19%|█▉        | 95/500 [17:12<1:58:18, 17.53s/it]\u001b[A\u001b[A"
          ]
        },
        {
          "output_type": "stream",
          "name": "stdout",
          "text": [
            "Appended result to Google Drive file: [95, 0.75, 0.9722222222222222, 0.8540489642184558, 0.6949006274791144, 1.6930022573363432, 1.7162471395881007]\n"
          ]
        },
        {
          "output_type": "stream",
          "name": "stderr",
          "text": [
            "\n",
            "\n",
            "Processing law dataset:  19%|█▉        | 96/500 [17:20<1:40:06, 14.87s/it]\u001b[A\u001b[A"
          ]
        },
        {
          "output_type": "stream",
          "name": "stdout",
          "text": [
            "Appended result to Google Drive file: [96, 0.28205128205128205, 0.9743589743589743, 0.3333333333333333, 0.8810310965630115, 11.194029850746269, 1.8315018315018312]\n"
          ]
        },
        {
          "output_type": "stream",
          "name": "stderr",
          "text": [
            "\n",
            "\n",
            "Processing law dataset:  19%|█▉        | 97/500 [17:29<1:26:47, 12.92s/it]\u001b[A\u001b[A"
          ]
        },
        {
          "output_type": "stream",
          "name": "stdout",
          "text": [
            "Appended result to Google Drive file: [97, 0.19999999999999996, 1.0666666666666667, 0.6829836829836831, 0.5170482789786849, 8.02139037433155, 1.461988304093567]\n"
          ]
        },
        {
          "output_type": "stream",
          "name": "stderr",
          "text": [
            "\n",
            "\n",
            "Processing law dataset:  20%|█▉        | 98/500 [17:40<1:23:57, 12.53s/it]\u001b[A\u001b[A"
          ]
        },
        {
          "output_type": "stream",
          "name": "stdout",
          "text": [
            "Appended result to Google Drive file: [98, 0.641025641025641, 0.7948717948717949, 0.7353177184992409, 0.18862090290661718, 1.1402508551881416, 1.5698587127158554]\n"
          ]
        },
        {
          "output_type": "stream",
          "name": "stderr",
          "text": [
            "\n",
            "\n",
            "Processing law dataset:  20%|█▉        | 99/500 [17:50<1:18:12, 11.70s/it]\u001b[A\u001b[A"
          ]
        },
        {
          "output_type": "stream",
          "name": "stdout",
          "text": [
            "Appended result to Google Drive file: [99, 0.6060606060606061, 0.8181818181818181, 0.6885193476175248, 0.10274725274725273, 1.7182130584192439, 1.2285012285012284]\n"
          ]
        },
        {
          "output_type": "stream",
          "name": "stderr",
          "text": [
            "\n",
            "\n",
            "Processing law dataset:  20%|██        | 100/500 [18:01<1:17:02, 11.56s/it]\u001b[A\u001b[A"
          ]
        },
        {
          "output_type": "stream",
          "name": "stdout",
          "text": [
            "Appended result to Google Drive file: [100, 0.4444444444444444, 1.0, 0.6849184957001668, 0.3333333333333333, 0.0, 0.0]\n"
          ]
        },
        {
          "output_type": "stream",
          "name": "stderr",
          "text": [
            "\n",
            "\n",
            "Processing law dataset:  20%|██        | 101/500 [18:11<1:13:01, 10.98s/it]\u001b[A\u001b[A"
          ]
        },
        {
          "output_type": "stream",
          "name": "stdout",
          "text": [
            "Appended result to Google Drive file: [101, 0.28205128205128205, 1.1025641025641026, 0.411119832548404, 0.31482932207569886, 1.9646365422396856, 1.8691588785046727]\n"
          ]
        },
        {
          "output_type": "stream",
          "name": "stderr",
          "text": [
            "\n",
            "\n",
            "Processing law dataset:  20%|██        | 102/500 [18:21<1:11:37, 10.80s/it]\u001b[A\u001b[A"
          ]
        },
        {
          "output_type": "stream",
          "name": "stdout",
          "text": [
            "Appended result to Google Drive file: [102, 0.45833333333333337, 0.6875, 0.38587229763700354, 0.2384416195856874, 0.7923930269413629, 1.1312217194570138]\n"
          ]
        },
        {
          "output_type": "stream",
          "name": "stderr",
          "text": [
            "\n",
            "\n",
            "Processing law dataset:  21%|██        | 103/500 [18:29<1:05:56,  9.97s/it]\u001b[A\u001b[A"
          ]
        },
        {
          "output_type": "stream",
          "name": "stdout",
          "text": [
            "Appended result to Google Drive file: [103, 0.5277777777777778, 0.8333333333333334, 0.39393939393939387, 0.41932367149758454, 2.976190476190476, 2.747252747252747]\n"
          ]
        },
        {
          "output_type": "stream",
          "name": "stderr",
          "text": [
            "\n",
            "\n",
            "Processing law dataset:  21%|██        | 104/500 [18:40<1:07:19, 10.20s/it]\u001b[A\u001b[A"
          ]
        },
        {
          "output_type": "stream",
          "name": "stdout",
          "text": [
            "Appended result to Google Drive file: [104, 0.33333333333333337, 1.0, 0.6481730134272506, 0.10835830835830836, 1.805054151624549, 0.7256894049346879]\n"
          ]
        },
        {
          "output_type": "stream",
          "name": "stderr",
          "text": [
            "\n",
            "\n",
            "Processing law dataset:  21%|██        | 105/500 [18:50<1:07:00, 10.18s/it]\u001b[A\u001b[A"
          ]
        },
        {
          "output_type": "stream",
          "name": "stdout",
          "text": [
            "Appended result to Google Drive file: [105, 0.8125, 0.7916666666666666, 1.0, 0.8972624798711756, 1.6666666666666667, 1.547987616099071]\n"
          ]
        },
        {
          "output_type": "stream",
          "name": "stderr",
          "text": [
            "\n",
            "\n",
            "Processing law dataset:  21%|██        | 106/500 [19:00<1:06:38, 10.15s/it]\u001b[A\u001b[A"
          ]
        },
        {
          "output_type": "stream",
          "name": "stdout",
          "text": [
            "Appended result to Google Drive file: [106, 0.45238095238095233, 0.7619047619047619, 0.7793367346938775, 0.3428886047172492, 1.5847860538827259, 2.450980392156863]\n"
          ]
        },
        {
          "output_type": "stream",
          "name": "stderr",
          "text": [
            "\n",
            "\n",
            "Processing law dataset:  21%|██▏       | 107/500 [19:09<1:03:52,  9.75s/it]\u001b[A\u001b[A"
          ]
        },
        {
          "output_type": "stream",
          "name": "stdout",
          "text": [
            "Appended result to Google Drive file: [107, 0.7333333333333334, 0.5111111111111111, 0.7236473050758766, 0.40326340326340326, 1.3245033112582782, 4.694835680751173]\n"
          ]
        },
        {
          "output_type": "stream",
          "name": "stderr",
          "text": [
            "\n",
            "\n",
            "Processing law dataset:  22%|██▏       | 108/500 [19:19<1:03:57,  9.79s/it]\u001b[A\u001b[A"
          ]
        },
        {
          "output_type": "stream",
          "name": "stdout",
          "text": [
            "Appended result to Google Drive file: [108, 0.11111111111111116, 0.37037037037037035, 0.6116119500162772, 0.7679479932165064, 2.3474178403755865, 1.6722408026755853]\n"
          ]
        },
        {
          "output_type": "stream",
          "name": "stderr",
          "text": [
            "\n",
            "\n",
            "Processing law dataset:  22%|██▏       | 109/500 [19:29<1:03:35,  9.76s/it]\u001b[A\u001b[A"
          ]
        },
        {
          "output_type": "stream",
          "name": "stdout",
          "text": [
            "Appended result to Google Drive file: [109, 0.7333333333333334, 0.9333333333333333, 0.6798170383076044, 0.620720754341444, 2.1321961620469088, 2.688172043010753]\n"
          ]
        },
        {
          "output_type": "stream",
          "name": "stderr",
          "text": [
            "\n",
            "\n",
            "Processing law dataset:  22%|██▏       | 110/500 [19:38<1:02:54,  9.68s/it]\u001b[A\u001b[A"
          ]
        },
        {
          "output_type": "stream",
          "name": "stdout",
          "text": [
            "Appended result to Google Drive file: [110, 0.5625, 0.7708333333333334, 0.8891482124764799, 0.9191176470588235, 0.8305647840531563, 1.9762845849802375]\n"
          ]
        },
        {
          "output_type": "stream",
          "name": "stderr",
          "text": [
            "\n",
            "\n",
            "Processing law dataset:  22%|██▏       | 111/500 [19:48<1:03:45,  9.84s/it]\u001b[A\u001b[A"
          ]
        },
        {
          "output_type": "stream",
          "name": "stdout",
          "text": [
            "Appended result to Google Drive file: [111, 0.1875, 0.8333333333333334, 0.36054421768707484, 0.7067258045628266, 4.0650406504065035, 1.3333333333333335]\n"
          ]
        },
        {
          "output_type": "stream",
          "name": "stderr",
          "text": [
            "\n",
            "\n",
            "Processing law dataset:  22%|██▏       | 112/500 [19:58<1:03:13,  9.78s/it]\u001b[A\u001b[A"
          ]
        },
        {
          "output_type": "stream",
          "name": "stdout",
          "text": [
            "Appended result to Google Drive file: [112, 0.5833333333333333, 0.8541666666666666, 0.6886800334168756, 0.8707692307692309, 1.4792899408284024, 2.8462998102466797]\n"
          ]
        },
        {
          "output_type": "stream",
          "name": "stderr",
          "text": [
            "\n",
            "\n",
            "Processing law dataset:  23%|██▎       | 113/500 [20:06<1:00:29,  9.38s/it]\u001b[A\u001b[A"
          ]
        },
        {
          "output_type": "stream",
          "name": "stdout",
          "text": [
            "Appended result to Google Drive file: [113, 0.19999999999999996, 0.6, 0.7333333333333334, 0.27799864773495603, 10.0, 1.8726591760299627]\n"
          ]
        },
        {
          "output_type": "stream",
          "name": "stderr",
          "text": [
            "\n",
            "\n",
            "Processing law dataset:  23%|██▎       | 114/500 [20:15<59:08,  9.19s/it]  \u001b[A\u001b[A"
          ]
        },
        {
          "output_type": "stream",
          "name": "stdout",
          "text": [
            "Appended result to Google Drive file: [114, 0.6153846153846154, 0.717948717948718, 0.8833333333333333, 0.2525879917184265, 0.8237232289950577, 1.9305019305019304]\n"
          ]
        },
        {
          "output_type": "stream",
          "name": "stderr",
          "text": [
            "\n",
            "\n",
            "Processing law dataset:  23%|██▎       | 115/500 [20:23<56:31,  8.81s/it]\u001b[A\u001b[A"
          ]
        },
        {
          "output_type": "stream",
          "name": "stdout",
          "text": [
            "Appended result to Google Drive file: [115, 0.039215686274509776, 0.8235294117647058, 0.6666666666666666, 0.33555555555555555, 11.718750000000002, 2.0746887966804977]\n"
          ]
        },
        {
          "output_type": "stream",
          "name": "stderr",
          "text": [
            "\n",
            "\n",
            "Processing law dataset:  23%|██▎       | 116/500 [20:34<1:00:37,  9.47s/it]\u001b[A\u001b[A"
          ]
        },
        {
          "output_type": "stream",
          "name": "stdout",
          "text": [
            "Appended result to Google Drive file: [116, 0.8, 1.1833333333333333, 0.8327487976322604, 0.7585578242964996, 0.9960159362549801, 0.8375209380234507]\n"
          ]
        },
        {
          "output_type": "stream",
          "name": "stderr",
          "text": [
            "\n",
            "\n",
            "Processing law dataset:  23%|██▎       | 117/500 [20:45<1:03:20,  9.92s/it]\u001b[A\u001b[A"
          ]
        },
        {
          "output_type": "stream",
          "name": "stdout",
          "text": [
            "Appended result to Google Drive file: [117, 0.33333333333333337, 0.6888888888888889, 0.5231887609246101, 0.8278554778554779, 2.0746887966804977, 1.6094420600858368]\n"
          ]
        },
        {
          "output_type": "stream",
          "name": "stderr",
          "text": [
            "\n",
            "\n",
            "Processing law dataset:  24%|██▎       | 118/500 [20:52<58:17,  9.16s/it]  \u001b[A\u001b[A"
          ]
        },
        {
          "output_type": "stream",
          "name": "stdout",
          "text": [
            "Appended result to Google Drive file: [118, 0.30000000000000004, 1.0, 0.5416666666666666, 1.0, 3.90625, 3.8461538461538463]\n"
          ]
        },
        {
          "output_type": "stream",
          "name": "stderr",
          "text": [
            "\n",
            "\n",
            "Processing law dataset:  24%|██▍       | 119/500 [21:02<58:52,  9.27s/it]\u001b[A\u001b[A"
          ]
        },
        {
          "output_type": "stream",
          "name": "stdout",
          "text": [
            "Appended result to Google Drive file: [119, 0.0, 0.8571428571428572, 0.6363636363636364, 1.0, 7.042253521126761, 3.0487804878048785]\n"
          ]
        },
        {
          "output_type": "stream",
          "name": "stderr",
          "text": [
            "\n",
            "\n",
            "Processing law dataset:  24%|██▍       | 120/500 [21:13<1:01:42,  9.74s/it]\u001b[A\u001b[A"
          ]
        },
        {
          "output_type": "stream",
          "name": "stdout",
          "text": [
            "Appended result to Google Drive file: [120, 0.8, 1.0, 0.7735080149797026, 0.023255813953488372, 0.7309941520467835, 1.1415525114155252]\n"
          ]
        },
        {
          "output_type": "stream",
          "name": "stderr",
          "text": [
            "\n",
            "\n",
            "Processing law dataset:  24%|██▍       | 121/500 [21:21<59:23,  9.40s/it]  \u001b[A\u001b[A"
          ]
        },
        {
          "output_type": "stream",
          "name": "stdout",
          "text": [
            "Appended result to Google Drive file: [121, 0.0625, 0.5833333333333333, 0.42857142857142855, 0.7066544566544567, 11.235955056179776, 2.0053475935828877]\n"
          ]
        },
        {
          "output_type": "stream",
          "name": "stderr",
          "text": [
            "\n",
            "\n",
            "Processing law dataset:  24%|██▍       | 122/500 [21:31<1:00:27,  9.60s/it]\u001b[A\u001b[A"
          ]
        },
        {
          "output_type": "stream",
          "name": "stdout",
          "text": [
            "Appended result to Google Drive file: [122, 0.4, 0.9833333333333333, 0.824113475177305, 0.41125541125541126, 1.7064846416382253, 0.7886435331230284]\n"
          ]
        },
        {
          "output_type": "stream",
          "name": "stderr",
          "text": [
            "\n",
            "\n",
            "Processing law dataset:  25%|██▍       | 123/500 [21:41<59:52,  9.53s/it]  \u001b[A\u001b[A"
          ]
        },
        {
          "output_type": "stream",
          "name": "stdout",
          "text": [
            "Appended result to Google Drive file: [123, 0.8571428571428572, 0.8571428571428572, 0.6724534117976741, 1.0, 1.4895729890764646, 4.385964912280701]\n"
          ]
        },
        {
          "output_type": "stream",
          "name": "stderr",
          "text": [
            "\n",
            "\n",
            "Processing law dataset:  25%|██▍       | 124/500 [21:50<58:12,  9.29s/it]\u001b[A\u001b[A"
          ]
        },
        {
          "output_type": "stream",
          "name": "stdout",
          "text": [
            "Appended result to Google Drive file: [124, 0.5, 0.7777777777777778, 0.4573736056786904, 0.5111111111111111, 1.3850415512465375, 1.3123359580052494]\n"
          ]
        },
        {
          "output_type": "stream",
          "name": "stderr",
          "text": [
            "\n",
            "\n",
            "Processing law dataset:  25%|██▌       | 125/500 [21:59<58:52,  9.42s/it]\u001b[A\u001b[A"
          ]
        },
        {
          "output_type": "stream",
          "name": "stdout",
          "text": [
            "Appended result to Google Drive file: [125, 0.6041666666666667, 0.875, 0.7304292929292929, 0.9436507936507935, 1.6949152542372885, 1.9181585677749362]\n"
          ]
        },
        {
          "output_type": "stream",
          "name": "stderr",
          "text": [
            "\n",
            "\n",
            "Processing law dataset:  25%|██▌       | 126/500 [22:09<58:54,  9.45s/it]\u001b[A\u001b[A"
          ]
        },
        {
          "output_type": "stream",
          "name": "stdout",
          "text": [
            "Appended result to Google Drive file: [126, 0.5333333333333333, 0.9, 0.7973655473655473, 0.635752688172043, 1.329787234042553, 0.8620689655172415]\n"
          ]
        },
        {
          "output_type": "stream",
          "name": "stderr",
          "text": [
            "\n",
            "\n",
            "Processing law dataset:  25%|██▌       | 127/500 [22:17<55:41,  8.96s/it]\u001b[A\u001b[A"
          ]
        },
        {
          "output_type": "stream",
          "name": "stdout",
          "text": [
            "Appended result to Google Drive file: [127, 0.030303030303030276, 1.0, 0.32275132275132273, 1.0, 12.711864406779661, 3.968253968253969]\n"
          ]
        },
        {
          "output_type": "stream",
          "name": "stderr",
          "text": [
            "\n",
            "\n",
            "Processing law dataset:  26%|██▌       | 128/500 [22:26<55:59,  9.03s/it]\u001b[A\u001b[A"
          ]
        },
        {
          "output_type": "stream",
          "name": "stdout",
          "text": [
            "Appended result to Google Drive file: [128, 0.33333333333333337, 1.0, 0.41030303030303034, 0.6190660760428203, 2.0547945205479454, 0.9775171065493646]\n"
          ]
        },
        {
          "output_type": "stream",
          "name": "stderr",
          "text": [
            "\n",
            "\n",
            "Processing law dataset:  26%|██▌       | 129/500 [22:37<58:56,  9.53s/it]\u001b[A\u001b[A"
          ]
        },
        {
          "output_type": "stream",
          "name": "stdout",
          "text": [
            "Appended result to Google Drive file: [129, 0.11111111111111116, 1.1777777777777778, 0.0, 0.5120292258514192, 32.608695652173914, 1.1764705882352944]\n"
          ]
        },
        {
          "output_type": "stream",
          "name": "stderr",
          "text": [
            "\n",
            "\n",
            "Processing law dataset:  26%|██▌       | 130/500 [22:44<54:17,  8.80s/it]\u001b[A\u001b[A"
          ]
        },
        {
          "output_type": "stream",
          "name": "stdout",
          "text": [
            "Appended result to Google Drive file: [130, 0.5555555555555556, 0.4444444444444444, 0.39110413396127686, 1.0, 3.303964757709252, 7.042253521126761]\n"
          ]
        },
        {
          "output_type": "stream",
          "name": "stderr",
          "text": [
            "\n",
            "\n",
            "Processing law dataset:  26%|██▌       | 131/500 [22:54<57:13,  9.30s/it]\u001b[A\u001b[A"
          ]
        },
        {
          "output_type": "stream",
          "name": "stdout",
          "text": [
            "Appended result to Google Drive file: [131, 0.6470588235294117, 0.9215686274509804, 0.8096179183135707, 0.8430958132045089, 2.1994134897360706, 1.9108280254777072]\n"
          ]
        },
        {
          "output_type": "stream",
          "name": "stderr",
          "text": [
            "\n",
            "\n",
            "Processing law dataset:  26%|██▋       | 132/500 [23:04<58:55,  9.61s/it]\u001b[A\u001b[A"
          ]
        },
        {
          "output_type": "stream",
          "name": "stdout",
          "text": [
            "Appended result to Google Drive file: [132, 0.4242424242424242, 0.696969696969697, 0.736155154607861, 0.1604976564653984, 1.5797788309636653, 2.304147465437788]\n"
          ]
        },
        {
          "output_type": "stream",
          "name": "stderr",
          "text": [
            "\n",
            "\n",
            "Processing law dataset:  27%|██▋       | 133/500 [23:15<1:01:15, 10.02s/it]\u001b[A\u001b[A"
          ]
        },
        {
          "output_type": "stream",
          "name": "stdout",
          "text": [
            "Appended result to Google Drive file: [133, 0.6862745098039216, 0.8431372549019608, 0.8589743589743589, 0.3474890931031282, 1.5228426395939085, 1.2406947890818856]\n"
          ]
        },
        {
          "output_type": "stream",
          "name": "stderr",
          "text": [
            "\n",
            "\n",
            "Processing law dataset:  27%|██▋       | 134/500 [23:24<58:03,  9.52s/it]  \u001b[A\u001b[A"
          ]
        },
        {
          "output_type": "stream",
          "name": "stdout",
          "text": [
            "Appended result to Google Drive file: [134, 0.7142857142857143, 1.0, 0.7781028607299794, 1.0, 1.687289088863892, 0.0]\n"
          ]
        },
        {
          "output_type": "stream",
          "name": "stderr",
          "text": [
            "\n",
            "\n",
            "Processing law dataset:  27%|██▋       | 135/500 [23:33<57:16,  9.42s/it]\u001b[A\u001b[A"
          ]
        },
        {
          "output_type": "stream",
          "name": "stdout",
          "text": [
            "Appended result to Google Drive file: [135, 0.6666666666666667, 0.8947368421052632, 0.7515873015873016, 0.11359870508806678, 2.103786816269285, 2.097902097902098]\n"
          ]
        },
        {
          "output_type": "stream",
          "name": "stderr",
          "text": [
            "\n",
            "\n",
            "Processing law dataset:  27%|██▋       | 136/500 [23:43<58:20,  9.62s/it]\u001b[A\u001b[A"
          ]
        },
        {
          "output_type": "stream",
          "name": "stdout",
          "text": [
            "Appended result to Google Drive file: [136, 0.15384615384615385, 0.6923076923076923, 0.774957264957265, 0.15498705392322412, 1.7878426698450536, 2.608695652173913]\n"
          ]
        },
        {
          "output_type": "stream",
          "name": "stderr",
          "text": [
            "\n",
            "\n",
            "Processing law dataset:  27%|██▋       | 137/500 [23:50<53:03,  8.77s/it]\u001b[A\u001b[A"
          ]
        },
        {
          "output_type": "stream",
          "name": "stdout",
          "text": [
            "Appended result to Google Drive file: [137, 0.030303030303030276, 0.8484848484848485, 0.75, 0.47222222222222227, 14.925373134328357, 4.524886877828053]\n"
          ]
        },
        {
          "output_type": "stream",
          "name": "stderr",
          "text": [
            "\n",
            "\n",
            "Processing law dataset:  28%|██▊       | 138/500 [23:57<49:32,  8.21s/it]\u001b[A\u001b[A"
          ]
        },
        {
          "output_type": "stream",
          "name": "stdout",
          "text": [
            "Appended result to Google Drive file: [138, 0.11111111111111116, 1.0, 0.30158730158730157, 1.0, 16.129032258064516, 5.319148936170213]\n"
          ]
        },
        {
          "output_type": "stream",
          "name": "stderr",
          "text": [
            "\n",
            "\n",
            "Processing law dataset:  28%|██▊       | 139/500 [24:09<57:02,  9.48s/it]\u001b[A\u001b[A"
          ]
        },
        {
          "output_type": "stream",
          "name": "stdout",
          "text": [
            "Appended result to Google Drive file: [139, 0.45833333333333337, 0.875, 0.7741269329319644, 0.08106206411291157, 1.6835016835016834, 2.0804438280166435]\n"
          ]
        },
        {
          "output_type": "stream",
          "name": "stderr",
          "text": [
            "\n",
            "\n",
            "Processing law dataset:  28%|██▊       | 140/500 [24:20<59:35,  9.93s/it]\u001b[A\u001b[A"
          ]
        },
        {
          "output_type": "stream",
          "name": "stdout",
          "text": [
            "Appended result to Google Drive file: [140, 0.41666666666666663, 0.6875, 0.9166666666666666, 0.8029461279461279, 2.304147465437788, 2.186588921282799]\n"
          ]
        },
        {
          "output_type": "stream",
          "name": "stderr",
          "text": [
            "\n",
            "\n",
            "Processing law dataset:  28%|██▊       | 141/500 [24:30<59:50, 10.00s/it]\u001b[A\u001b[A"
          ]
        },
        {
          "output_type": "stream",
          "name": "stdout",
          "text": [
            "Appended result to Google Drive file: [141, 0.5384615384615384, 0.9230769230769231, 0.8430535513868848, 1.0, 0.8771929824561403, 2.4999999999999996]\n"
          ]
        },
        {
          "output_type": "stream",
          "name": "stderr",
          "text": [
            "\n",
            "\n",
            "Processing law dataset:  28%|██▊       | 142/500 [24:39<58:02,  9.73s/it]\u001b[A\u001b[A"
          ]
        },
        {
          "output_type": "stream",
          "name": "stdout",
          "text": [
            "Appended result to Google Drive file: [142, 0.9, 0.6333333333333333, 0.8248831447472605, 0.2708333333333333, 0.8278145695364238, 0.88339222614841]\n"
          ]
        },
        {
          "output_type": "stream",
          "name": "stderr",
          "text": [
            "\n",
            "\n",
            "Processing law dataset:  29%|██▊       | 143/500 [24:47<54:50,  9.22s/it]\u001b[A\u001b[A"
          ]
        },
        {
          "output_type": "stream",
          "name": "stdout",
          "text": [
            "Appended result to Google Drive file: [143, 0.4242424242424242, 0.8181818181818181, 0.9523809523809524, 0.09964431703562138, 2.9182879377431905, 3.778337531486146]\n"
          ]
        },
        {
          "output_type": "stream",
          "name": "stderr",
          "text": [
            "\n",
            "\n",
            "Processing law dataset:  29%|██▉       | 144/500 [24:56<53:37,  9.04s/it]\u001b[A\u001b[A"
          ]
        },
        {
          "output_type": "stream",
          "name": "stdout",
          "text": [
            "Appended result to Google Drive file: [144, 0.40476190476190477, 0.8333333333333334, 0.29895553740226394, 0.2619047619047619, 1.9762845849802368, 0.0]\n"
          ]
        },
        {
          "output_type": "stream",
          "name": "stderr",
          "text": [
            "\n",
            "\n",
            "Processing law dataset:  29%|██▉       | 145/500 [25:03<50:09,  8.48s/it]\u001b[A\u001b[A"
          ]
        },
        {
          "output_type": "stream",
          "name": "stdout",
          "text": [
            "Appended result to Google Drive file: [145, 0.1333333333333333, 0.6222222222222222, 0.537878787878788, 0.08194662480376765, 9.554140127388536, 3.504672897196262]\n"
          ]
        },
        {
          "output_type": "stream",
          "name": "stderr",
          "text": [
            "\n",
            "\n",
            "Processing law dataset:  29%|██▉       | 146/500 [25:13<53:14,  9.02s/it]\u001b[A\u001b[A"
          ]
        },
        {
          "output_type": "stream",
          "name": "stdout",
          "text": [
            "Appended result to Google Drive file: [146, 0.4, 0.65, 0.6644537619380387, 0.21383647798742136, 1.4464802314368368, 1.7899761336515516]\n"
          ]
        },
        {
          "output_type": "stream",
          "name": "stderr",
          "text": [
            "\n",
            "\n",
            "Processing law dataset:  29%|██▉       | 147/500 [25:23<54:47,  9.31s/it]\u001b[A\u001b[A"
          ]
        },
        {
          "output_type": "stream",
          "name": "stdout",
          "text": [
            "Appended result to Google Drive file: [147, 0.5555555555555556, 0.7555555555555555, 0.8686647173489278, 0.29676463886990206, 1.483679525222552, 1.2285012285012287]\n"
          ]
        },
        {
          "output_type": "stream",
          "name": "stderr",
          "text": [
            "\n",
            "\n",
            "Processing law dataset:  30%|██▉       | 148/500 [25:34<57:06,  9.74s/it]\u001b[A\u001b[A"
          ]
        },
        {
          "output_type": "stream",
          "name": "stdout",
          "text": [
            "Appended result to Google Drive file: [148, 0.7083333333333333, 0.75, 0.7529212267869255, 0.7846320346320347, 1.5182186234817814, 1.4866204162537164]\n"
          ]
        },
        {
          "output_type": "stream",
          "name": "stderr",
          "text": [
            "\n",
            "\n",
            "Processing law dataset:  30%|██▉       | 149/500 [25:41<52:28,  8.97s/it]\u001b[A\u001b[A"
          ]
        },
        {
          "output_type": "stream",
          "name": "stdout",
          "text": [
            "Appended result to Google Drive file: [149, 0.36111111111111116, 0.33333333333333337, 0.457624716553288, 0.3333333333333333, 3.067484662576687, 10.714285714285714]\n"
          ]
        },
        {
          "output_type": "stream",
          "name": "stderr",
          "text": [
            "\n",
            "\n",
            "Processing law dataset:  30%|███       | 150/500 [25:52<55:49,  9.57s/it]\u001b[A\u001b[A"
          ]
        },
        {
          "output_type": "stream",
          "name": "stdout",
          "text": [
            "Appended result to Google Drive file: [150, 0.45238095238095233, 1.7142857142857144, 0.6550472040668119, 0.3695408422120751, 1.7462165308498256, 1.1914217633042097]\n"
          ]
        },
        {
          "output_type": "stream",
          "name": "stderr",
          "text": [
            "\n",
            "\n",
            "Processing law dataset:  30%|███       | 151/500 [26:04<58:59, 10.14s/it]\u001b[A\u001b[A"
          ]
        },
        {
          "output_type": "stream",
          "name": "stdout",
          "text": [
            "Appended result to Google Drive file: [151, 0.8333333333333334, 0.9074074074074074, 0.8278262503131001, 0.6862745098039215, 1.5060240963855422, 2.5295109612141657]\n"
          ]
        },
        {
          "output_type": "stream",
          "name": "stderr",
          "text": [
            "\n",
            "\n",
            "Processing law dataset:  30%|███       | 152/500 [26:14<59:24, 10.24s/it]\u001b[A\u001b[A"
          ]
        },
        {
          "output_type": "stream",
          "name": "stdout",
          "text": [
            "Appended result to Google Drive file: [152, 0.6296296296296297, 0.7777777777777778, 0.81142209696735, 0.7275460909001282, 1.632208922742111, 1.6181229773462782]\n"
          ]
        },
        {
          "output_type": "stream",
          "name": "stderr",
          "text": [
            "\n",
            "\n",
            "Processing law dataset:  31%|███       | 153/500 [26:23<56:21,  9.75s/it]\u001b[A\u001b[A"
          ]
        },
        {
          "output_type": "stream",
          "name": "stdout",
          "text": [
            "Appended result to Google Drive file: [153, 0.1428571428571429, 0.8571428571428572, 0.6241769925980453, 1.0, 1.6666666666666667, 4.166666666666666]\n"
          ]
        },
        {
          "output_type": "stream",
          "name": "stderr",
          "text": [
            "\n",
            "\n",
            "Processing law dataset:  31%|███       | 154/500 [26:34<57:47, 10.02s/it]\u001b[A\u001b[A"
          ]
        },
        {
          "output_type": "stream",
          "name": "stdout",
          "text": [
            "Appended result to Google Drive file: [154, 0.3921568627450981, 0.6666666666666667, 0.8071717528769491, 0.658718868546924, 1.7772511848341235, 1.889168765743073]\n"
          ]
        },
        {
          "output_type": "stream",
          "name": "stderr",
          "text": [
            "\n",
            "\n",
            "Processing law dataset:  31%|███       | 155/500 [26:42<55:08,  9.59s/it]\u001b[A\u001b[A"
          ]
        },
        {
          "output_type": "stream",
          "name": "stdout",
          "text": [
            "Appended result to Google Drive file: [155, 0.2142857142857143, 0.7380952380952381, 0.1988095238095238, 0.6070465922217944, 1.937984496124031, 1.903553299492386]\n"
          ]
        },
        {
          "output_type": "stream",
          "name": "stderr",
          "text": [
            "\n",
            "\n",
            "Processing law dataset:  31%|███       | 156/500 [26:50<52:27,  9.15s/it]\u001b[A\u001b[A"
          ]
        },
        {
          "output_type": "stream",
          "name": "stdout",
          "text": [
            "Appended result to Google Drive file: [156, 0.4285714285714286, 0.5952380952380952, 0.7947771364438031, 0.027777777777777776, 1.5625, 4.524886877828054]\n"
          ]
        },
        {
          "output_type": "stream",
          "name": "stderr",
          "text": [
            "\n",
            "\n",
            "Processing law dataset:  31%|███▏      | 157/500 [26:58<50:14,  8.79s/it]\u001b[A\u001b[A"
          ]
        },
        {
          "output_type": "stream",
          "name": "stdout",
          "text": [
            "Appended result to Google Drive file: [157, 0.5, 0.8333333333333334, 0.6853801169590644, 1.0, 0.0, 0.0]\n"
          ]
        },
        {
          "output_type": "stream",
          "name": "stderr",
          "text": [
            "\n",
            "\n",
            "Processing law dataset:  32%|███▏      | 158/500 [27:08<51:04,  8.96s/it]\u001b[A\u001b[A"
          ]
        },
        {
          "output_type": "stream",
          "name": "stdout",
          "text": [
            "Appended result to Google Drive file: [158, 0.5614035087719298, 0.8421052631578947, 0.7972129397567995, 1.0, 1.4866204162537164, 3.246753246753247]\n"
          ]
        },
        {
          "output_type": "stream",
          "name": "stderr",
          "text": [
            "\n",
            "\n",
            "Processing law dataset:  32%|███▏      | 159/500 [27:16<49:41,  8.74s/it]\u001b[A\u001b[A"
          ]
        },
        {
          "output_type": "stream",
          "name": "stdout",
          "text": [
            "Appended result to Google Drive file: [159, 0.14492753623188404, 0.7101449275362319, 0.7037037037037037, 0.49659863945578236, 4.62962962962963, 0.7363770250368188]\n"
          ]
        },
        {
          "output_type": "stream",
          "name": "stderr",
          "text": [
            "\n",
            "\n",
            "Processing law dataset:  32%|███▏      | 160/500 [27:25<50:05,  8.84s/it]\u001b[A\u001b[A"
          ]
        },
        {
          "output_type": "stream",
          "name": "stdout",
          "text": [
            "Appended result to Google Drive file: [160, 0.2592592592592593, 0.33333333333333337, 0.5, 0.7580767997434664, 3.0211480362537766, 1.858736059479554]\n"
          ]
        },
        {
          "output_type": "stream",
          "name": "stderr",
          "text": [
            "\n",
            "\n",
            "Processing law dataset:  32%|███▏      | 161/500 [27:34<50:58,  9.02s/it]\u001b[A\u001b[A"
          ]
        },
        {
          "output_type": "stream",
          "name": "stdout",
          "text": [
            "Appended result to Google Drive file: [161, 0.33333333333333337, 1.0, 0.7792860734037205, 0.14906832298136644, 1.6251354279523293, 2.5974025974025974]\n"
          ]
        },
        {
          "output_type": "stream",
          "name": "stderr",
          "text": [
            "\n",
            "\n",
            "Processing law dataset:  32%|███▏      | 162/500 [27:46<56:08,  9.97s/it]\u001b[A\u001b[A"
          ]
        },
        {
          "output_type": "stream",
          "name": "stdout",
          "text": [
            "Appended result to Google Drive file: [162, 0.6666666666666667, 1.2708333333333333, 0.8810103963612735, 0.5377777777777778, 1.4970059880239521, 0.4945598417408506]\n"
          ]
        },
        {
          "output_type": "stream",
          "name": "stderr",
          "text": [
            "\n",
            "\n",
            "Processing law dataset:  33%|███▎      | 163/500 [27:54<52:15,  9.30s/it]\u001b[A\u001b[A"
          ]
        },
        {
          "output_type": "stream",
          "name": "stdout",
          "text": [
            "Appended result to Google Drive file: [163, 0.19999999999999996, 0.6, 0.7777777777777777, 0.15151515151515152, 8.108108108108107, 3.232758620689655]\n"
          ]
        },
        {
          "output_type": "stream",
          "name": "stderr",
          "text": [
            "\n",
            "\n",
            "Processing law dataset:  33%|███▎      | 164/500 [28:03<50:22,  8.99s/it]\u001b[A\u001b[A"
          ]
        },
        {
          "output_type": "stream",
          "name": "stdout",
          "text": [
            "Appended result to Google Drive file: [164, 0.5454545454545454, 1.0, 0.7535662413113394, 0.5061728395061729, 1.7064846416382253, 3.875968992248062]\n"
          ]
        },
        {
          "output_type": "stream",
          "name": "stderr",
          "text": [
            "\n",
            "\n",
            "Processing law dataset:  33%|███▎      | 165/500 [28:11<49:17,  8.83s/it]\u001b[A\u001b[A"
          ]
        },
        {
          "output_type": "stream",
          "name": "stdout",
          "text": [
            "Appended result to Google Drive file: [165, 0.26190476190476186, 0.6428571428571428, 0.7604747162022704, 0.08208886248101933, 1.6420361247947453, 2.0120724346076457]\n"
          ]
        },
        {
          "output_type": "stream",
          "name": "stderr",
          "text": [
            "\n",
            "\n",
            "Processing law dataset:  33%|███▎      | 166/500 [28:21<51:48,  9.31s/it]\u001b[A\u001b[A"
          ]
        },
        {
          "output_type": "stream",
          "name": "stdout",
          "text": [
            "Appended result to Google Drive file: [166, 0.625, 0.875, 0.905578231292517, 0.46163056137898906, 1.858736059479554, 2.177068214804064]\n"
          ]
        },
        {
          "output_type": "stream",
          "name": "stderr",
          "text": [
            "\n",
            "\n",
            "Processing law dataset:  33%|███▎      | 167/500 [28:34<57:05, 10.29s/it]\u001b[A\u001b[A"
          ]
        },
        {
          "output_type": "stream",
          "name": "stdout",
          "text": [
            "Appended result to Google Drive file: [167, 0.21052631578947367, 0.4736842105263158, 0.785385511297461, 0.6988032181694154, 1.5948963317384368, 1.2330456226880393]\n"
          ]
        },
        {
          "output_type": "stream",
          "name": "stderr",
          "text": [
            "\n",
            "\n",
            "Processing law dataset:  34%|███▎      | 168/500 [28:45<58:39, 10.60s/it]\u001b[A\u001b[A"
          ]
        },
        {
          "output_type": "stream",
          "name": "stdout",
          "text": [
            "Appended result to Google Drive file: [168, 0.6923076923076923, 1.1538461538461537, 0.8677124183006536, 0.22766936874533272, 1.510574018126888, 1.5906680805938496]\n"
          ]
        },
        {
          "output_type": "stream",
          "name": "stderr",
          "text": [
            "\n",
            "\n",
            "Processing law dataset:  34%|███▍      | 169/500 [28:52<52:43,  9.56s/it]\u001b[A\u001b[A"
          ]
        },
        {
          "output_type": "stream",
          "name": "stdout",
          "text": [
            "Appended result to Google Drive file: [169, 0.02083333333333337, 1.1875, 0.5158730158730159, 0.3329736998467649, 14.018691588785046, 3.3259423503325944]\n"
          ]
        },
        {
          "output_type": "stream",
          "name": "stderr",
          "text": [
            "\n",
            "\n",
            "Processing law dataset:  34%|███▍      | 170/500 [29:02<53:27,  9.72s/it]\u001b[A\u001b[A"
          ]
        },
        {
          "output_type": "stream",
          "name": "stdout",
          "text": [
            "Appended result to Google Drive file: [170, 0.5, 1.0714285714285714, 0.47725842557537373, 0.08555614437967379, 2.024291497975709, 0.0]\n"
          ]
        },
        {
          "output_type": "stream",
          "name": "stderr",
          "text": [
            "\n",
            "\n",
            "Processing law dataset:  34%|███▍      | 171/500 [29:12<53:12,  9.70s/it]\u001b[A\u001b[A"
          ]
        },
        {
          "output_type": "stream",
          "name": "stdout",
          "text": [
            "Appended result to Google Drive file: [171, 0.8181818181818181, 0.8484848484848485, 0.6175401816911251, 0.700709219858156, 1.8450184501845017, 1.968503937007874]\n"
          ]
        },
        {
          "output_type": "stream",
          "name": "stderr",
          "text": [
            "\n",
            "\n",
            "Processing law dataset:  34%|███▍      | 172/500 [29:21<52:13,  9.55s/it]\u001b[A\u001b[A"
          ]
        },
        {
          "output_type": "stream",
          "name": "stdout",
          "text": [
            "Appended result to Google Drive file: [172, 0.28888888888888886, 0.7111111111111111, 0.7634672970843184, 0.33675925925925926, 1.7182130584192439, 2.4671052631578942]\n"
          ]
        },
        {
          "output_type": "stream",
          "name": "stderr",
          "text": [
            "\n",
            "\n",
            "Processing law dataset:  35%|███▍      | 173/500 [29:31<51:32,  9.46s/it]\u001b[A\u001b[A"
          ]
        },
        {
          "output_type": "stream",
          "name": "stdout",
          "text": [
            "Appended result to Google Drive file: [173, 0.6666666666666667, 0.8125, 0.8594793915099187, 0.8708333333333332, 1.7523364485981308, 4.838709677419355]\n"
          ]
        },
        {
          "output_type": "stream",
          "name": "stderr",
          "text": [
            "\n",
            "\n",
            "Processing law dataset:  35%|███▍      | 174/500 [29:41<53:18,  9.81s/it]\u001b[A\u001b[A"
          ]
        },
        {
          "output_type": "stream",
          "name": "stdout",
          "text": [
            "Appended result to Google Drive file: [174, 0.15384615384615385, 0.7435897435897436, 0.7666666666666666, 0.7485507246376812, 2.1186440677966103, 2.0491803278688523]\n"
          ]
        },
        {
          "output_type": "stream",
          "name": "stderr",
          "text": [
            "\n",
            "\n",
            "Processing law dataset:  35%|███▌      | 175/500 [29:51<53:24,  9.86s/it]\u001b[A\u001b[A"
          ]
        },
        {
          "output_type": "stream",
          "name": "stdout",
          "text": [
            "Appended result to Google Drive file: [175, 0.4385964912280702, 0.8947368421052632, 0.7640344747262987, 0.37777777777777777, 1.0256410256410255, 2.411575562700965]\n"
          ]
        },
        {
          "output_type": "stream",
          "name": "stderr",
          "text": [
            "\n",
            "\n",
            "Processing law dataset:  35%|███▌      | 176/500 [30:01<53:00,  9.82s/it]\u001b[A\u001b[A"
          ]
        },
        {
          "output_type": "stream",
          "name": "stdout",
          "text": [
            "Appended result to Google Drive file: [176, 0.6666666666666667, 1.1555555555555554, 0.8684967320261437, 0.4479166666666667, 1.805054151624549, 2.097902097902098]\n"
          ]
        },
        {
          "output_type": "stream",
          "name": "stderr",
          "text": [
            "\n",
            "\n",
            "Processing law dataset:  35%|███▌      | 177/500 [30:08<48:23,  8.99s/it]\u001b[A\u001b[A"
          ]
        },
        {
          "output_type": "stream",
          "name": "stdout",
          "text": [
            "Appended result to Google Drive file: [177, 0.08333333333333337, 0.9444444444444444, 0.3333333333333333, 0.041111111111111105, 0.0, 0.0]\n"
          ]
        },
        {
          "output_type": "stream",
          "name": "stderr",
          "text": [
            "\n",
            "\n",
            "Processing law dataset:  36%|███▌      | 178/500 [30:18<50:40,  9.44s/it]\u001b[A\u001b[A"
          ]
        },
        {
          "output_type": "stream",
          "name": "stdout",
          "text": [
            "Appended result to Google Drive file: [178, 0.5416666666666667, 0.875, 0.7934648684648685, 0.659786990244281, 1.0604453870625663, 1.0548523206751057]\n"
          ]
        },
        {
          "output_type": "stream",
          "name": "stderr",
          "text": [
            "\n",
            "\n",
            "Processing law dataset:  36%|███▌      | 179/500 [30:27<49:19,  9.22s/it]\u001b[A\u001b[A"
          ]
        },
        {
          "output_type": "stream",
          "name": "stdout",
          "text": [
            "Appended result to Google Drive file: [179, 0.543859649122807, 0.052631578947368474, 0.7546031746031746, 1.0, 1.4478764478764479, 11.111111111111112]\n"
          ]
        },
        {
          "output_type": "stream",
          "name": "stderr",
          "text": [
            "\n",
            "\n",
            "Processing law dataset:  36%|███▌      | 180/500 [30:34<44:53,  8.42s/it]\u001b[A\u001b[A"
          ]
        },
        {
          "output_type": "stream",
          "name": "stdout",
          "text": [
            "Appended result to Google Drive file: [180, 0.0, 0.7333333333333334, 1.0, 0.4666666666666666, 7.575757575757576, 2.67379679144385]\n"
          ]
        },
        {
          "output_type": "stream",
          "name": "stderr",
          "text": [
            "\n",
            "\n",
            "Processing law dataset:  36%|███▌      | 181/500 [30:41<43:31,  8.19s/it]\u001b[A\u001b[A"
          ]
        },
        {
          "output_type": "stream",
          "name": "stdout",
          "text": [
            "Appended result to Google Drive file: [181, 0.15384615384615385, 0.8717948717948718, 0.7999999999999999, 0.21052631578947367, 10.416666666666668, 2.487562189054726]\n"
          ]
        },
        {
          "output_type": "stream",
          "name": "stderr",
          "text": [
            "\n",
            "\n",
            "Processing law dataset:  36%|███▋      | 182/500 [30:51<46:14,  8.73s/it]\u001b[A\u001b[A"
          ]
        },
        {
          "output_type": "stream",
          "name": "stdout",
          "text": [
            "Appended result to Google Drive file: [182, 0.5185185185185186, 0.5185185185185186, 0.7204830257461836, 0.1473559120617944, 1.0706638115631693, 2.0242914979757085]\n"
          ]
        },
        {
          "output_type": "stream",
          "name": "stderr",
          "text": [
            "\n",
            "\n",
            "Processing law dataset:  37%|███▋      | 183/500 [31:01<47:57,  9.08s/it]\u001b[A\u001b[A"
          ]
        },
        {
          "output_type": "stream",
          "name": "stdout",
          "text": [
            "Appended result to Google Drive file: [183, 0.7291666666666667, 0.75, 0.7787608388788062, 0.7991525423728812, 1.5873015873015872, 1.4895729890764646]\n"
          ]
        },
        {
          "output_type": "stream",
          "name": "stderr",
          "text": [
            "\n",
            "\n",
            "Processing law dataset:  37%|███▋      | 184/500 [31:14<53:04, 10.08s/it]\u001b[A\u001b[A"
          ]
        },
        {
          "output_type": "stream",
          "name": "stdout",
          "text": [
            "Appended result to Google Drive file: [184, 0.6818181818181819, 1.4848484848484849, 0.5214285714285715, 0.6687258687258687, 1.9047619047619049, 1.2422360248447202]\n"
          ]
        },
        {
          "output_type": "stream",
          "name": "stderr",
          "text": [
            "\n",
            "\n",
            "Processing law dataset:  37%|███▋      | 185/500 [31:22<50:52,  9.69s/it]\u001b[A\u001b[A"
          ]
        },
        {
          "output_type": "stream",
          "name": "stdout",
          "text": [
            "Appended result to Google Drive file: [185, 0.75, 0.7222222222222222, 0.9309686640613691, 0.888888888888889, 1.7985611510791366, 6.3559322033898304]\n"
          ]
        },
        {
          "output_type": "stream",
          "name": "stderr",
          "text": [
            "\n",
            "\n",
            "Processing law dataset:  37%|███▋      | 186/500 [31:29<45:16,  8.65s/it]\u001b[A\u001b[A"
          ]
        },
        {
          "output_type": "stream",
          "name": "stdout",
          "text": [
            "Appended result to Google Drive file: [186, 0.0, 0.8888888888888888, 0.5555555555555555, 0.888888888888889, 28.30188679245283, 3.7735849056603765]\n"
          ]
        },
        {
          "output_type": "stream",
          "name": "stderr",
          "text": [
            "\n",
            "\n",
            "Processing law dataset:  37%|███▋      | 187/500 [31:40<49:02,  9.40s/it]\u001b[A\u001b[A"
          ]
        },
        {
          "output_type": "stream",
          "name": "stdout",
          "text": [
            "Appended result to Google Drive file: [187, 0.6, 0.7333333333333334, 0.871345029239766, 0.8190010545489407, 1.1627906976744184, 1.1820330969267137]\n"
          ]
        },
        {
          "output_type": "stream",
          "name": "stderr",
          "text": [
            "\n",
            "\n",
            "Processing law dataset:  38%|███▊      | 188/500 [31:50<50:42,  9.75s/it]\u001b[A\u001b[A"
          ]
        },
        {
          "output_type": "stream",
          "name": "stdout",
          "text": [
            "Appended result to Google Drive file: [188, 0.5833333333333333, 0.85, 0.7200363196125908, 0.44606887589343724, 1.483679525222552, 2.0080321285140568]\n"
          ]
        },
        {
          "output_type": "stream",
          "name": "stderr",
          "text": [
            "\n",
            "\n",
            "Processing law dataset:  38%|███▊      | 189/500 [32:01<52:10, 10.07s/it]\u001b[A\u001b[A"
          ]
        },
        {
          "output_type": "stream",
          "name": "stdout",
          "text": [
            "Appended result to Google Drive file: [189, 0.8055555555555556, 0.9166666666666666, 0.8011695906432749, 0.7492125744067074, 0.6435006435006435, 0.6544502617801046]\n"
          ]
        },
        {
          "output_type": "stream",
          "name": "stderr",
          "text": [
            "\n",
            "\n",
            "Processing law dataset:  38%|███▊      | 190/500 [32:09<48:45,  9.44s/it]\u001b[A\u001b[A"
          ]
        },
        {
          "output_type": "stream",
          "name": "stdout",
          "text": [
            "Appended result to Google Drive file: [190, 0.0, 0.41025641025641024, 0.7141339869281046, 0.8490566037735849, 4.273504273504273, 1.8115942028985508]\n"
          ]
        },
        {
          "output_type": "stream",
          "name": "stderr",
          "text": [
            "\n",
            "\n",
            "Processing law dataset:  38%|███▊      | 191/500 [32:19<48:46,  9.47s/it]\u001b[A\u001b[A"
          ]
        },
        {
          "output_type": "stream",
          "name": "stdout",
          "text": [
            "Appended result to Google Drive file: [191, 0.5333333333333333, 0.7333333333333334, 0.7396874730208064, 1.0, 1.1600928074245942, 3.2362459546925564]\n"
          ]
        },
        {
          "output_type": "stream",
          "name": "stderr",
          "text": [
            "\n",
            "\n",
            "Processing law dataset:  38%|███▊      | 192/500 [32:27<46:39,  9.09s/it]\u001b[A\u001b[A"
          ]
        },
        {
          "output_type": "stream",
          "name": "stdout",
          "text": [
            "Appended result to Google Drive file: [192, 0.16666666666666663, 0.8611111111111112, 1.0, 0.5821357386574778, 26.31578947368421, 1.6611295681063125]\n"
          ]
        },
        {
          "output_type": "stream",
          "name": "stderr",
          "text": [
            "\n",
            "\n",
            "Processing law dataset:  39%|███▊      | 193/500 [32:37<47:53,  9.36s/it]\u001b[A\u001b[A"
          ]
        },
        {
          "output_type": "stream",
          "name": "stdout",
          "text": [
            "Appended result to Google Drive file: [193, 0.24444444444444446, 0.8222222222222222, 0.7444739168877099, 0.835650522317189, 3.3557046979865772, 1.7211703958691909]\n"
          ]
        },
        {
          "output_type": "stream",
          "name": "stderr",
          "text": [
            "\n",
            "\n",
            "Processing law dataset:  39%|███▉      | 194/500 [32:46<46:33,  9.13s/it]\u001b[A\u001b[A"
          ]
        },
        {
          "output_type": "stream",
          "name": "stdout",
          "text": [
            "Appended result to Google Drive file: [194, 0.09259259259259256, 0.9074074074074074, 0.8666666666666667, 0.08567053513862026, 2.631578947368421, 2.6315789473684217]\n"
          ]
        },
        {
          "output_type": "stream",
          "name": "stderr",
          "text": [
            "\n",
            "\n",
            "Processing law dataset:  39%|███▉      | 195/500 [32:54<45:19,  8.92s/it]\u001b[A\u001b[A"
          ]
        },
        {
          "output_type": "stream",
          "name": "stdout",
          "text": [
            "Appended result to Google Drive file: [195, 0.25, 0.5416666666666667, 0.8122655122655122, 0.09999999999999999, 0.0, 0.0]\n"
          ]
        },
        {
          "output_type": "stream",
          "name": "stderr",
          "text": [
            "\n",
            "\n",
            "Processing law dataset:  39%|███▉      | 196/500 [33:05<48:35,  9.59s/it]\u001b[A\u001b[A"
          ]
        },
        {
          "output_type": "stream",
          "name": "stdout",
          "text": [
            "Appended result to Google Drive file: [196, 0.4, 0.7, 0.6277063321954963, 0.6454494836303403, 1.80940892641737, 1.7182130584192439]\n"
          ]
        },
        {
          "output_type": "stream",
          "name": "stderr",
          "text": [
            "\n",
            "\n",
            "Processing law dataset:  39%|███▉      | 197/500 [33:15<48:28,  9.60s/it]\u001b[A\u001b[A"
          ]
        },
        {
          "output_type": "stream",
          "name": "stdout",
          "text": [
            "Appended result to Google Drive file: [197, 0.48484848484848486, 1.0, 0.6402196673383114, 1.0, 1.8484288354898337, 1.785714285714286]\n"
          ]
        },
        {
          "output_type": "stream",
          "name": "stderr",
          "text": [
            "\n",
            "\n",
            "Processing law dataset:  40%|███▉      | 198/500 [33:24<48:12,  9.58s/it]\u001b[A\u001b[A"
          ]
        },
        {
          "output_type": "stream",
          "name": "stdout",
          "text": [
            "Appended result to Google Drive file: [198, 0.8787878787878788, 0.7272727272727273, 0.7601400625716734, 0.6086956521739131, 0.8445945945945945, 0.8375209380234507]\n"
          ]
        },
        {
          "output_type": "stream",
          "name": "stderr",
          "text": [
            "\n",
            "\n",
            "Processing law dataset:  40%|███▉      | 199/500 [33:31<43:04,  8.59s/it]\u001b[A\u001b[A"
          ]
        },
        {
          "output_type": "stream",
          "name": "stdout",
          "text": [
            "Appended result to Google Drive file: [199, 0.30000000000000004, 0.30000000000000004, 0.7333333333333334, 1.0, 10.638297872340425, 10.416666666666668]\n"
          ]
        },
        {
          "output_type": "stream",
          "name": "stderr",
          "text": [
            "\n",
            "\n",
            "Processing law dataset:  40%|████      | 200/500 [33:40<44:20,  8.87s/it]\u001b[A\u001b[A"
          ]
        },
        {
          "output_type": "stream",
          "name": "stdout",
          "text": [
            "Appended result to Google Drive file: [200, 0.43333333333333335, 0.7666666666666666, 0.8030437352245863, 0.6336753834271213, 1.8007202881152464, 1.8915510718789406]\n"
          ]
        },
        {
          "output_type": "stream",
          "name": "stderr",
          "text": [
            "\n",
            "\n",
            "Processing law dataset:  40%|████      | 201/500 [33:51<47:29,  9.53s/it]\u001b[A\u001b[A"
          ]
        },
        {
          "output_type": "stream",
          "name": "stdout",
          "text": [
            "Appended result to Google Drive file: [201, 0.7142857142857143, 0.7857142857142857, 0.7516708437761069, 0.5609408410548825, 1.6233766233766236, 1.5723270440251573]\n"
          ]
        },
        {
          "output_type": "stream",
          "name": "stderr",
          "text": [
            "\n",
            "\n",
            "Processing law dataset:  40%|████      | 202/500 [34:00<46:13,  9.31s/it]\u001b[A\u001b[A"
          ]
        },
        {
          "output_type": "stream",
          "name": "stdout",
          "text": [
            "Appended result to Google Drive file: [202, 0.6666666666666667, 0.050000000000000044, 0.7071201814058957, 0.4666666666666666, 1.7321016166281753, 19.480519480519483]\n"
          ]
        },
        {
          "output_type": "stream",
          "name": "stderr",
          "text": [
            "\n",
            "\n",
            "Processing law dataset:  41%|████      | 203/500 [34:08<44:18,  8.95s/it]\u001b[A\u001b[A"
          ]
        },
        {
          "output_type": "stream",
          "name": "stdout",
          "text": [
            "Appended result to Google Drive file: [203, 0.11111111111111116, 0.8148148148148149, 0.5499999999999999, 0.8950213176619709, 30.0, 1.7814726840855106]\n"
          ]
        },
        {
          "output_type": "stream",
          "name": "stderr",
          "text": [
            "\n",
            "\n",
            "Processing law dataset:  41%|████      | 204/500 [34:18<45:43,  9.27s/it]\u001b[A\u001b[A"
          ]
        },
        {
          "output_type": "stream",
          "name": "stdout",
          "text": [
            "Appended result to Google Drive file: [204, 0.6428571428571428, 1.7142857142857144, 0.7453618049131463, 0.7676518883415436, 1.9607843137254901, 2.3094688221709005]\n"
          ]
        },
        {
          "output_type": "stream",
          "name": "stderr",
          "text": [
            "\n",
            "\n",
            "Processing law dataset:  41%|████      | 205/500 [34:27<45:26,  9.24s/it]\u001b[A\u001b[A"
          ]
        },
        {
          "output_type": "stream",
          "name": "stdout",
          "text": [
            "Appended result to Google Drive file: [205, 0.125, 0.9791666666666666, 0.4545454545454546, 0.9102232087803674, 10.0, 1.5416238437821168]\n"
          ]
        },
        {
          "output_type": "stream",
          "name": "stderr",
          "text": [
            "\n",
            "\n",
            "Processing law dataset:  41%|████      | 206/500 [34:35<43:28,  8.87s/it]\u001b[A\u001b[A"
          ]
        },
        {
          "output_type": "stream",
          "name": "stdout",
          "text": [
            "Appended result to Google Drive file: [206, 0.8666666666666667, 0.9, 0.8618865451711741, 0.4385964912280702, 1.6339869281045754, 6.198347107438017]\n"
          ]
        },
        {
          "output_type": "stream",
          "name": "stderr",
          "text": [
            "\n",
            "\n",
            "Processing law dataset:  41%|████▏     | 207/500 [34:44<42:50,  8.77s/it]\u001b[A\u001b[A"
          ]
        },
        {
          "output_type": "stream",
          "name": "stdout",
          "text": [
            "Appended result to Google Drive file: [207, 0.6153846153846154, 0.5384615384615384, 0.8485810485810487, 0.5555555555555555, 1.9815059445178338, 7.894736842105263]\n"
          ]
        },
        {
          "output_type": "stream",
          "name": "stderr",
          "text": [
            "\n",
            "\n",
            "Processing law dataset:  42%|████▏     | 208/500 [34:53<42:52,  8.81s/it]\u001b[A\u001b[A"
          ]
        },
        {
          "output_type": "stream",
          "name": "stdout",
          "text": [
            "Appended result to Google Drive file: [208, 0.7435897435897436, 0.9230769230769231, 0.7467280245431506, 0.4615384615384615, 1.0593220338983051, 2.5906735751295336]\n"
          ]
        },
        {
          "output_type": "stream",
          "name": "stderr",
          "text": [
            "\n",
            "\n",
            "Processing law dataset:  42%|████▏     | 209/500 [35:02<42:50,  8.83s/it]\u001b[A\u001b[A"
          ]
        },
        {
          "output_type": "stream",
          "name": "stdout",
          "text": [
            "Appended result to Google Drive file: [209, 0.1333333333333333, 0.7111111111111111, 0.11925925925925927, 0.6704134986991336, 3.7500000000000004, 1.5974440894568689]\n"
          ]
        },
        {
          "output_type": "stream",
          "name": "stderr",
          "text": [
            "\n",
            "\n",
            "Processing law dataset:  42%|████▏     | 210/500 [35:15<49:26, 10.23s/it]\u001b[A\u001b[A"
          ]
        },
        {
          "output_type": "stream",
          "name": "stdout",
          "text": [
            "Appended result to Google Drive file: [210, 0.5873015873015873, 0.746031746031746, 0.8323294868186509, 0.6955755332275692, 1.668520578420467, 1.6059957173447537]\n"
          ]
        },
        {
          "output_type": "stream",
          "name": "stderr",
          "text": [
            "\n",
            "\n",
            "Processing law dataset:  42%|████▏     | 211/500 [35:25<48:12, 10.01s/it]\u001b[A\u001b[A"
          ]
        },
        {
          "output_type": "stream",
          "name": "stdout",
          "text": [
            "Appended result to Google Drive file: [211, 0.5277777777777778, 0.6944444444444444, 0.8166114194675712, 0.30940343781597573, 2.164502164502165, 3.1645569620253164]\n"
          ]
        },
        {
          "output_type": "stream",
          "name": "stderr",
          "text": [
            "\n",
            "\n",
            "Processing law dataset:  42%|████▏     | 212/500 [35:34<47:28,  9.89s/it]\u001b[A\u001b[A"
          ]
        },
        {
          "output_type": "stream",
          "name": "stdout",
          "text": [
            "Appended result to Google Drive file: [212, 0.7857142857142857, 0.9285714285714286, 0.9175170068027211, 0.4166666666666667, 1.7543859649122806, 2.9585798816568047]\n"
          ]
        },
        {
          "output_type": "stream",
          "name": "stderr",
          "text": [
            "\n",
            "\n",
            "Processing law dataset:  43%|████▎     | 213/500 [35:45<48:53, 10.22s/it]\u001b[A\u001b[A"
          ]
        },
        {
          "output_type": "stream",
          "name": "stdout",
          "text": [
            "Appended result to Google Drive file: [213, 0.6666666666666667, 0.8333333333333334, 0.6799432225809344, 0.8408580413297395, 1.7064846416382253, 1.726121979286536]\n"
          ]
        },
        {
          "output_type": "stream",
          "name": "stderr",
          "text": [
            "\n",
            "\n",
            "Processing law dataset:  43%|████▎     | 214/500 [35:55<47:53, 10.05s/it]\u001b[A\u001b[A"
          ]
        },
        {
          "output_type": "stream",
          "name": "stdout",
          "text": [
            "Appended result to Google Drive file: [214, 0.7555555555555555, 0.8888888888888888, 0.7070560303893637, 0.43689878048043146, 0.7974481658692184, 0.8210180623973727]\n"
          ]
        },
        {
          "output_type": "stream",
          "name": "stderr",
          "text": [
            "\n",
            "\n",
            "Processing law dataset:  43%|████▎     | 215/500 [36:03<45:49,  9.65s/it]\u001b[A\u001b[A"
          ]
        },
        {
          "output_type": "stream",
          "name": "stdout",
          "text": [
            "Appended result to Google Drive file: [215, 0.24242424242424243, 0.8181818181818181, 0.7315646258503401, 1.0, 0.8680555555555556, 0.0]\n"
          ]
        },
        {
          "output_type": "stream",
          "name": "stderr",
          "text": [
            "\n",
            "\n",
            "Processing law dataset:  43%|████▎     | 216/500 [36:11<42:33,  8.99s/it]\u001b[A\u001b[A"
          ]
        },
        {
          "output_type": "stream",
          "name": "stdout",
          "text": [
            "Appended result to Google Drive file: [216, 0.13636363636363635, 0.43939393939393945, 1.0, 0.2801932367149758, 0.0, 0.0]\n"
          ]
        },
        {
          "output_type": "stream",
          "name": "stderr",
          "text": [
            "\n",
            "\n",
            "Processing law dataset:  43%|████▎     | 217/500 [36:20<42:53,  9.10s/it]\u001b[A\u001b[A"
          ]
        },
        {
          "output_type": "stream",
          "name": "stdout",
          "text": [
            "Appended result to Google Drive file: [217, 0.13888888888888884, 0.6666666666666667, 0.5873015873015873, 0.9722222222222223, 9.615384615384615, 1.687289088863892]\n"
          ]
        },
        {
          "output_type": "stream",
          "name": "stderr",
          "text": [
            "\n",
            "\n",
            "Processing law dataset:  44%|████▎     | 218/500 [36:29<42:35,  9.06s/it]\u001b[A\u001b[A"
          ]
        },
        {
          "output_type": "stream",
          "name": "stdout",
          "text": [
            "Appended result to Google Drive file: [218, 0.7142857142857143, 0.6666666666666667, 0.7605198613337718, 0.10747126436781611, 1.770956316410862, 3.1446540880503147]\n"
          ]
        },
        {
          "output_type": "stream",
          "name": "stderr",
          "text": [
            "\n",
            "\n",
            "Processing law dataset:  44%|████▍     | 219/500 [36:41<45:30,  9.72s/it]\u001b[A\u001b[A"
          ]
        },
        {
          "output_type": "stream",
          "name": "stdout",
          "text": [
            "Appended result to Google Drive file: [219, 0.36363636363636365, 1.0, 0.9858156028368793, 1.0, 2.183406113537118, 3.289473684210527]\n"
          ]
        },
        {
          "output_type": "stream",
          "name": "stderr",
          "text": [
            "\n",
            "\n",
            "Processing law dataset:  44%|████▍     | 220/500 [36:49<43:06,  9.24s/it]\u001b[A\u001b[A"
          ]
        },
        {
          "output_type": "stream",
          "name": "stdout",
          "text": [
            "Appended result to Google Drive file: [220, 0.17647058823529416, 0.6470588235294117, 1.0, 0.38827838827838823, 9.615384615384615, 2.610966057441253]\n"
          ]
        },
        {
          "output_type": "stream",
          "name": "stderr",
          "text": [
            "\n",
            "\n",
            "Processing law dataset:  44%|████▍     | 221/500 [36:55<39:25,  8.48s/it]\u001b[A\u001b[A"
          ]
        },
        {
          "output_type": "stream",
          "name": "stdout",
          "text": [
            "Appended result to Google Drive file: [221, 0.0625, 0.0625, 0.3333333333333333, 1.0, 0.0, 0.0]\n"
          ]
        },
        {
          "output_type": "stream",
          "name": "stderr",
          "text": [
            "\n",
            "\n",
            "Processing law dataset:  44%|████▍     | 222/500 [37:05<40:48,  8.81s/it]\u001b[A\u001b[A"
          ]
        },
        {
          "output_type": "stream",
          "name": "stdout",
          "text": [
            "Appended result to Google Drive file: [222, 0.6190476190476191, 1.1904761904761905, 0.3219230259671436, 0.46716378859236, 1.5673981191222568, 0.6830601092896175]\n"
          ]
        },
        {
          "output_type": "stream",
          "name": "stderr",
          "text": [
            "\n",
            "\n",
            "Processing law dataset:  45%|████▍     | 223/500 [37:16<43:11,  9.36s/it]\u001b[A\u001b[A"
          ]
        },
        {
          "output_type": "stream",
          "name": "stdout",
          "text": [
            "Appended result to Google Drive file: [223, 0.6190476190476191, 0.9523809523809523, 0.6135804132973944, 0.5002645502645503, 1.8726591760299627, 1.8867924528301887]\n"
          ]
        },
        {
          "output_type": "stream",
          "name": "stderr",
          "text": [
            "\n",
            "\n",
            "Processing law dataset:  45%|████▍     | 224/500 [37:25<43:35,  9.48s/it]\u001b[A\u001b[A"
          ]
        },
        {
          "output_type": "stream",
          "name": "stdout",
          "text": [
            "Appended result to Google Drive file: [224, 0.9333333333333333, 0.8666666666666667, 0.8808080808080808, 0.9263943785682915, 1.6629711751662972, 1.687289088863892]\n"
          ]
        },
        {
          "output_type": "stream",
          "name": "stderr",
          "text": [
            "\n",
            "\n",
            "Processing law dataset:  45%|████▌     | 225/500 [37:35<43:38,  9.52s/it]\u001b[A\u001b[A"
          ]
        },
        {
          "output_type": "stream",
          "name": "stdout",
          "text": [
            "Appended result to Google Drive file: [225, 0.4444444444444444, 0.8, 0.4061492585428756, 0.8157342657342658, 2.8301886792452833, 1.4231499051233396]\n"
          ]
        },
        {
          "output_type": "stream",
          "name": "stderr",
          "text": [
            "\n",
            "\n",
            "Processing law dataset:  45%|████▌     | 226/500 [37:44<42:28,  9.30s/it]\u001b[A\u001b[A"
          ]
        },
        {
          "output_type": "stream",
          "name": "stdout",
          "text": [
            "Appended result to Google Drive file: [226, 0.2222222222222222, 0.7777777777777778, 0.6362712200123505, 0.8095238095238096, 0.949667616334283, 0.0]\n"
          ]
        },
        {
          "output_type": "stream",
          "name": "stderr",
          "text": [
            "\n",
            "\n",
            "Processing law dataset:  45%|████▌     | 227/500 [37:53<42:54,  9.43s/it]\u001b[A\u001b[A"
          ]
        },
        {
          "output_type": "stream",
          "name": "stdout",
          "text": [
            "Appended result to Google Drive file: [227, 0.27450980392156865, 0.6274509803921569, 0.8333333333333334, 0.3965446655203471, 5.172413793103449, 1.7605633802816902]\n"
          ]
        },
        {
          "output_type": "stream",
          "name": "stderr",
          "text": [
            "\n",
            "\n",
            "Processing law dataset:  46%|████▌     | 228/500 [38:02<41:56,  9.25s/it]\u001b[A\u001b[A"
          ]
        },
        {
          "output_type": "stream",
          "name": "stdout",
          "text": [
            "Appended result to Google Drive file: [228, 0.05882352941176472, 0.8823529411764706, 1.0, 0.38219822812846066, 0.0, 2.4311183144246353]\n"
          ]
        },
        {
          "output_type": "stream",
          "name": "stderr",
          "text": [
            "\n",
            "\n",
            "Processing law dataset:  46%|████▌     | 229/500 [38:10<40:06,  8.88s/it]\u001b[A\u001b[A"
          ]
        },
        {
          "output_type": "stream",
          "name": "stdout",
          "text": [
            "Appended result to Google Drive file: [229, 0.2222222222222222, 1.0, 0.9031848555024847, 1.0, 1.7523364485981308, 5.434782608695652]\n"
          ]
        },
        {
          "output_type": "stream",
          "name": "stderr",
          "text": [
            "\n",
            "\n",
            "Processing law dataset:  46%|████▌     | 230/500 [38:19<40:07,  8.92s/it]\u001b[A\u001b[A"
          ]
        },
        {
          "output_type": "stream",
          "name": "stdout",
          "text": [
            "Appended result to Google Drive file: [230, 0.0, 0.7, 0.75, 0.6447568545237802, 11.194029850746269, 1.5560165975103735]\n"
          ]
        },
        {
          "output_type": "stream",
          "name": "stderr",
          "text": [
            "\n",
            "\n",
            "Processing law dataset:  46%|████▌     | 231/500 [38:27<37:47,  8.43s/it]\u001b[A\u001b[A"
          ]
        },
        {
          "output_type": "stream",
          "name": "stdout",
          "text": [
            "Appended result to Google Drive file: [231, 0.05555555555555558, 0.2222222222222222, 0.5022946859903382, 0.46496212121212127, 2.0000000000000004, 1.7482517482517481]\n"
          ]
        },
        {
          "output_type": "stream",
          "name": "stderr",
          "text": [
            "\n",
            "\n",
            "Processing law dataset:  46%|████▋     | 232/500 [38:36<39:08,  8.76s/it]\u001b[A\u001b[A"
          ]
        },
        {
          "output_type": "stream",
          "name": "stdout",
          "text": [
            "Appended result to Google Drive file: [232, 0.3137254901960784, 0.6862745098039216, 0.6973856209150325, 0.6342196290613474, 1.8691588785046727, 1.7513134851138354]\n"
          ]
        },
        {
          "output_type": "stream",
          "name": "stderr",
          "text": [
            "\n",
            "\n",
            "Processing law dataset:  47%|████▋     | 233/500 [38:46<39:51,  8.96s/it]\u001b[A\u001b[A"
          ]
        },
        {
          "output_type": "stream",
          "name": "stdout",
          "text": [
            "Appended result to Google Drive file: [233, 0.5, 0.6666666666666667, 0.7005770782889428, 0.21313131313131314, 1.824817518248175, 0.0]\n"
          ]
        },
        {
          "output_type": "stream",
          "name": "stderr",
          "text": [
            "\n",
            "\n",
            "Processing law dataset:  47%|████▋     | 234/500 [38:53<38:02,  8.58s/it]\u001b[A\u001b[A"
          ]
        },
        {
          "output_type": "stream",
          "name": "stdout",
          "text": [
            "Appended result to Google Drive file: [234, 0.2142857142857143, 0.8095238095238095, 0.17989417989417988, 0.75, 1.8181818181818181, 0.0]\n"
          ]
        },
        {
          "output_type": "stream",
          "name": "stderr",
          "text": [
            "\n",
            "\n",
            "Processing law dataset:  47%|████▋     | 235/500 [38:59<34:33,  7.82s/it]\u001b[A\u001b[A"
          ]
        },
        {
          "output_type": "stream",
          "name": "stdout",
          "text": [
            "Appended result to Google Drive file: [235, 0.11764705882352944, 0.07843137254901966, 0.6666666666666666, 0.4666666666666666, 21.12676056338028, 21.12676056338028]\n"
          ]
        },
        {
          "output_type": "stream",
          "name": "stderr",
          "text": [
            "\n",
            "\n",
            "Processing law dataset:  47%|████▋     | 236/500 [39:10<38:18,  8.71s/it]\u001b[A\u001b[A"
          ]
        },
        {
          "output_type": "stream",
          "name": "stdout",
          "text": [
            "Appended result to Google Drive file: [236, 0.45833333333333337, 0.5208333333333333, 0.7331154915608451, 0.850664767331434, 0.8156606851549755, 1.689189189189189]\n"
          ]
        },
        {
          "output_type": "stream",
          "name": "stderr",
          "text": [
            "\n",
            "\n",
            "Processing law dataset:  47%|████▋     | 237/500 [39:21<41:29,  9.46s/it]\u001b[A\u001b[A"
          ]
        },
        {
          "output_type": "stream",
          "name": "stdout",
          "text": [
            "Appended result to Google Drive file: [237, 0.5333333333333333, 0.8666666666666667, 0.7160493827160493, 0.7221212121212122, 1.893939393939394, 1.9455252918287937]\n"
          ]
        },
        {
          "output_type": "stream",
          "name": "stderr",
          "text": [
            "\n",
            "\n",
            "Processing law dataset:  48%|████▊     | 238/500 [39:30<40:35,  9.30s/it]\u001b[A\u001b[A"
          ]
        },
        {
          "output_type": "stream",
          "name": "stdout",
          "text": [
            "Appended result to Google Drive file: [238, 0.24637681159420288, 0.8260869565217391, 0.5933806146572104, 1.0, 0.0, 0.0]\n"
          ]
        },
        {
          "output_type": "stream",
          "name": "stderr",
          "text": [
            "\n",
            "\n",
            "Processing law dataset:  48%|████▊     | 239/500 [39:40<40:27,  9.30s/it]\u001b[A\u001b[A"
          ]
        },
        {
          "output_type": "stream",
          "name": "stdout",
          "text": [
            "Appended result to Google Drive file: [239, 0.07692307692307687, 0.8205128205128205, 0.4222222222222222, 0.8332637148426622, 21.27659574468085, 1.4598540145985404]\n"
          ]
        },
        {
          "output_type": "stream",
          "name": "stderr",
          "text": [
            "\n",
            "\n",
            "Processing law dataset:  48%|████▊     | 240/500 [39:49<40:48,  9.42s/it]\u001b[A\u001b[A"
          ]
        },
        {
          "output_type": "stream",
          "name": "stdout",
          "text": [
            "Appended result to Google Drive file: [240, 0.3666666666666667, 0.8, 0.5979139218269653, 0.8564723320158102, 1.3850415512465375, 1.8450184501845017]\n"
          ]
        },
        {
          "output_type": "stream",
          "name": "stderr",
          "text": [
            "\n",
            "\n",
            "Processing law dataset:  48%|████▊     | 241/500 [39:58<39:54,  9.25s/it]\u001b[A\u001b[A"
          ]
        },
        {
          "output_type": "stream",
          "name": "stdout",
          "text": [
            "Appended result to Google Drive file: [241, 0.5, 0.8, 0.8044784580498866, 0.3333333333333333, 1.7964071856287425, 3.003003003003003]\n"
          ]
        },
        {
          "output_type": "stream",
          "name": "stderr",
          "text": [
            "\n",
            "\n",
            "Processing law dataset:  48%|████▊     | 242/500 [40:08<40:08,  9.33s/it]\u001b[A\u001b[A"
          ]
        },
        {
          "output_type": "stream",
          "name": "stdout",
          "text": [
            "Appended result to Google Drive file: [242, 0.33333333333333337, 0.7777777777777778, 0.8110436356062382, 0.5362318840579711, 1.4312977099236641, 5.514705882352941]\n"
          ]
        },
        {
          "output_type": "stream",
          "name": "stderr",
          "text": [
            "\n",
            "\n",
            "Processing law dataset:  49%|████▊     | 243/500 [40:18<41:18,  9.65s/it]\u001b[A\u001b[A"
          ]
        },
        {
          "output_type": "stream",
          "name": "stdout",
          "text": [
            "Appended result to Google Drive file: [243, 0.6388888888888888, 1.0, 0.6762857331484783, 0.7742455956741671, 1.89873417721519, 1.9505851755526655]\n"
          ]
        },
        {
          "output_type": "stream",
          "name": "stderr",
          "text": [
            "\n",
            "\n",
            "Processing law dataset:  49%|████▉     | 244/500 [40:27<40:34,  9.51s/it]\u001b[A\u001b[A"
          ]
        },
        {
          "output_type": "stream",
          "name": "stdout",
          "text": [
            "Appended result to Google Drive file: [244, 0.368421052631579, 0.9122807017543859, 0.8537549407114624, 0.3541666666666667, 2.2935779816513757, 1.3175230566534912]\n"
          ]
        },
        {
          "output_type": "stream",
          "name": "stderr",
          "text": [
            "\n",
            "\n",
            "Processing law dataset:  49%|████▉     | 245/500 [40:37<40:46,  9.59s/it]\u001b[A\u001b[A"
          ]
        },
        {
          "output_type": "stream",
          "name": "stdout",
          "text": [
            "Appended result to Google Drive file: [245, 0.33333333333333337, 0.8888888888888888, 0.36071829405162736, 0.06547619047619048, 2.2522522522522523, 2.320185614849188]\n"
          ]
        },
        {
          "output_type": "stream",
          "name": "stderr",
          "text": [
            "\n",
            "\n",
            "Processing law dataset:  49%|████▉     | 246/500 [40:47<41:13,  9.74s/it]\u001b[A\u001b[A"
          ]
        },
        {
          "output_type": "stream",
          "name": "stdout",
          "text": [
            "Appended result to Google Drive file: [246, 0.75, 0.6875, 0.6788934336104148, 0.5142619083688619, 1.949317738791423, 2.3529411764705874]\n"
          ]
        },
        {
          "output_type": "stream",
          "name": "stderr",
          "text": [
            "\n",
            "\n",
            "Processing law dataset:  49%|████▉     | 247/500 [40:56<40:02,  9.50s/it]\u001b[A\u001b[A"
          ]
        },
        {
          "output_type": "stream",
          "name": "stdout",
          "text": [
            "Appended result to Google Drive file: [247, 0.7857142857142857, 0.7857142857142857, 0.8397435897435898, 1.0, 1.4970059880239521, 0.0]\n"
          ]
        },
        {
          "output_type": "stream",
          "name": "stderr",
          "text": [
            "\n",
            "\n",
            "Processing law dataset:  50%|████▉     | 248/500 [41:03<37:17,  8.88s/it]\u001b[A\u001b[A"
          ]
        },
        {
          "output_type": "stream",
          "name": "stdout",
          "text": [
            "Appended result to Google Drive file: [248, 0.5, 1.0714285714285714, 0.35841836734693877, 1.0, 2.964426877470356, 3.73134328358209]\n"
          ]
        },
        {
          "output_type": "stream",
          "name": "stderr",
          "text": [
            "\n",
            "\n",
            "Processing law dataset:  50%|████▉     | 249/500 [41:14<39:10,  9.36s/it]\u001b[A\u001b[A"
          ]
        },
        {
          "output_type": "stream",
          "name": "stdout",
          "text": [
            "Appended result to Google Drive file: [249, 1.0, 1.0666666666666667, 0.6872038409351843, 0.7354497354497355, 1.0695187165775402, 1.0834236186348865]\n"
          ]
        },
        {
          "output_type": "stream",
          "name": "stderr",
          "text": [
            "\n",
            "\n",
            "Processing law dataset:  50%|█████     | 250/500 [41:25<41:34,  9.98s/it]\u001b[A\u001b[A"
          ]
        },
        {
          "output_type": "stream",
          "name": "stdout",
          "text": [
            "Appended result to Google Drive file: [250, 0.5952380952380952, 1.119047619047619, 0.6547340736411456, 0.6225959965751574, 1.3392857142857144, 1.2541806020066892]\n"
          ]
        },
        {
          "output_type": "stream",
          "name": "stderr",
          "text": [
            "\n",
            "\n",
            "Processing law dataset:  50%|█████     | 251/500 [41:35<40:29,  9.76s/it]\u001b[A\u001b[A"
          ]
        },
        {
          "output_type": "stream",
          "name": "stdout",
          "text": [
            "Appended result to Google Drive file: [251, 0.5555555555555556, 0.8666666666666667, 0.7774470899470899, 0.9333333333333332, 1.6420361247947455, 1.6835016835016838]\n"
          ]
        },
        {
          "output_type": "stream",
          "name": "stderr",
          "text": [
            "\n",
            "\n",
            "Processing law dataset:  50%|█████     | 252/500 [41:49<45:45, 11.07s/it]\u001b[A\u001b[A"
          ]
        },
        {
          "output_type": "stream",
          "name": "stdout",
          "text": [
            "Appended result to Google Drive file: [252, 0.5977011494252873, 0.8850574712643678, 0.8387111963138599, 0.8783304745568895, 1.4807502467917077, 1.4367816091954022]\n"
          ]
        },
        {
          "output_type": "stream",
          "name": "stderr",
          "text": [
            "\n",
            "\n",
            "Processing law dataset:  51%|█████     | 253/500 [41:58<43:43, 10.62s/it]\u001b[A\u001b[A"
          ]
        },
        {
          "output_type": "stream",
          "name": "stdout",
          "text": [
            "Appended result to Google Drive file: [253, 0.33333333333333337, 0.6458333333333333, 0.30151912754000765, 0.3868156199677939, 1.9011406844106464, 2.7322404371584703]\n"
          ]
        },
        {
          "output_type": "stream",
          "name": "stderr",
          "text": [
            "\n",
            "\n",
            "Processing law dataset:  51%|█████     | 254/500 [42:12<46:51, 11.43s/it]\u001b[A\u001b[A"
          ]
        },
        {
          "output_type": "stream",
          "name": "stdout",
          "text": [
            "Appended result to Google Drive file: [254, 0.6923076923076923, 0.9487179487179487, 0.8292929292929293, 0.9738562091503269, 1.971090670170828, 1.9762845849802373]\n"
          ]
        },
        {
          "output_type": "stream",
          "name": "stderr",
          "text": [
            "\n",
            "\n",
            "Processing law dataset:  51%|█████     | 255/500 [42:20<42:39, 10.45s/it]\u001b[A\u001b[A"
          ]
        },
        {
          "output_type": "stream",
          "name": "stdout",
          "text": [
            "Appended result to Google Drive file: [255, 0.2564102564102564, 0.3589743589743589, 0.7787830687830688, 0.8152564102564103, 3.6319612590799037, 3.7128712871287135]\n"
          ]
        },
        {
          "output_type": "stream",
          "name": "stderr",
          "text": [
            "\n",
            "\n",
            "Processing law dataset:  51%|█████     | 256/500 [42:28<39:59,  9.83s/it]\u001b[A\u001b[A"
          ]
        },
        {
          "output_type": "stream",
          "name": "stdout",
          "text": [
            "Appended result to Google Drive file: [256, 0.08771929824561409, 0.8771929824561404, 0.42857142857142855, 0.6542606516290727, 17.045454545454543, 1.5641293013555788]\n"
          ]
        },
        {
          "output_type": "stream",
          "name": "stderr",
          "text": [
            "\n",
            "\n",
            "Processing law dataset:  51%|█████▏    | 257/500 [42:38<40:07,  9.91s/it]\u001b[A\u001b[A"
          ]
        },
        {
          "output_type": "stream",
          "name": "stdout",
          "text": [
            "Appended result to Google Drive file: [257, 0.5396825396825398, 0.7619047619047619, 0.5902355825604947, 1.0, 1.5259409969481177, 0.0]\n"
          ]
        },
        {
          "output_type": "stream",
          "name": "stderr",
          "text": [
            "\n",
            "\n",
            "Processing law dataset:  52%|█████▏    | 258/500 [42:47<38:51,  9.64s/it]\u001b[A\u001b[A"
          ]
        },
        {
          "output_type": "stream",
          "name": "stdout",
          "text": [
            "Appended result to Google Drive file: [258, 0.33333333333333337, 0.75, 0.3583430458430458, 0.29689754689754694, 0.7052186177715091, 1.1574074074074074]\n"
          ]
        },
        {
          "output_type": "stream",
          "name": "stderr",
          "text": [
            "\n",
            "\n",
            "Processing law dataset:  52%|█████▏    | 259/500 [42:57<39:10,  9.75s/it]\u001b[A\u001b[A"
          ]
        },
        {
          "output_type": "stream",
          "name": "stdout",
          "text": [
            "Appended result to Google Drive file: [259, 0.3833333333333333, 0.8666666666666667, 0.8562091503267973, 0.8582502768549279, 1.5657620041753653, 1.5906680805938496]\n"
          ]
        },
        {
          "output_type": "stream",
          "name": "stderr",
          "text": [
            "\n",
            "\n",
            "Processing law dataset:  52%|█████▏    | 260/500 [43:06<37:59,  9.50s/it]\u001b[A\u001b[A"
          ]
        },
        {
          "output_type": "stream",
          "name": "stdout",
          "text": [
            "Appended result to Google Drive file: [260, 0.3921568627450981, 0.7254901960784313, 0.30931477967531096, 0.2530350601779173, 2.3529411764705874, 2.6246719160104988]\n"
          ]
        },
        {
          "output_type": "stream",
          "name": "stderr",
          "text": [
            "\n",
            "\n",
            "Processing law dataset:  52%|█████▏    | 261/500 [43:16<38:19,  9.62s/it]\u001b[A\u001b[A"
          ]
        },
        {
          "output_type": "stream",
          "name": "stdout",
          "text": [
            "Appended result to Google Drive file: [261, 0.17647058823529416, 0.6862745098039216, 0.45408839526486583, 0.3052740547019723, 1.5243902439024393, 0.7256894049346879]\n"
          ]
        },
        {
          "output_type": "stream",
          "name": "stderr",
          "text": [
            "\n",
            "\n",
            "Processing law dataset:  52%|█████▏    | 262/500 [43:24<36:29,  9.20s/it]\u001b[A\u001b[A"
          ]
        },
        {
          "output_type": "stream",
          "name": "stdout",
          "text": [
            "Appended result to Google Drive file: [262, 0.4666666666666667, 1.0, 0.9099326599326599, 0.4166666666666667, 1.989389920424403, 3.322259136212625]\n"
          ]
        },
        {
          "output_type": "stream",
          "name": "stderr",
          "text": [
            "\n",
            "\n",
            "Processing law dataset:  53%|█████▎    | 263/500 [43:34<36:59,  9.37s/it]\u001b[A\u001b[A"
          ]
        },
        {
          "output_type": "stream",
          "name": "stdout",
          "text": [
            "Appended result to Google Drive file: [263, 0.2666666666666667, 1.0, 0.6093544137022399, 1.0, 2.610966057441253, 2.3364485981308416]\n"
          ]
        },
        {
          "output_type": "stream",
          "name": "stderr",
          "text": [
            "\n",
            "\n",
            "Processing law dataset:  53%|█████▎    | 264/500 [43:44<37:10,  9.45s/it]\u001b[A\u001b[A"
          ]
        },
        {
          "output_type": "stream",
          "name": "stdout",
          "text": [
            "Appended result to Google Drive file: [264, 0.6, 0.9, 0.9283549783549784, 0.3563218390804597, 1.646542261251372, 4.983388704318937]\n"
          ]
        },
        {
          "output_type": "stream",
          "name": "stderr",
          "text": [
            "\n",
            "\n",
            "Processing law dataset:  53%|█████▎    | 265/500 [43:54<38:13,  9.76s/it]\u001b[A\u001b[A"
          ]
        },
        {
          "output_type": "stream",
          "name": "stdout",
          "text": [
            "Appended result to Google Drive file: [265, 0.4, 0.7333333333333334, 0.8721340011573085, 0.6150322841000807, 1.5856236786469344, 1.7899761336515516]\n"
          ]
        },
        {
          "output_type": "stream",
          "name": "stderr",
          "text": [
            "\n",
            "\n",
            "Processing law dataset:  53%|█████▎    | 266/500 [44:03<37:13,  9.55s/it]\u001b[A\u001b[A"
          ]
        },
        {
          "output_type": "stream",
          "name": "stdout",
          "text": [
            "Appended result to Google Drive file: [266, 0.6666666666666667, 0.9583333333333334, 0.8294333113420199, 0.9365079365079364, 2.1582733812949644, 4.1208791208791204]\n"
          ]
        },
        {
          "output_type": "stream",
          "name": "stderr",
          "text": [
            "\n",
            "\n",
            "Processing law dataset:  53%|█████▎    | 267/500 [44:13<37:27,  9.65s/it]\u001b[A\u001b[A"
          ]
        },
        {
          "output_type": "stream",
          "name": "stdout",
          "text": [
            "Appended result to Google Drive file: [267, 0.3125, 0.625, 0.709831154684096, 0.48080186097427474, 2.9069767441860463, 1.920614596670935]\n"
          ]
        },
        {
          "output_type": "stream",
          "name": "stderr",
          "text": [
            "\n",
            "\n",
            "Processing law dataset:  54%|█████▎    | 268/500 [44:21<35:09,  9.09s/it]\u001b[A\u001b[A"
          ]
        },
        {
          "output_type": "stream",
          "name": "stdout",
          "text": [
            "Appended result to Google Drive file: [268, 0.09090909090909094, 0.5454545454545454, 0.3333333333333333, 0.2549019607843137, 46.875, 1.7152658662092628]\n"
          ]
        },
        {
          "output_type": "stream",
          "name": "stderr",
          "text": [
            "\n",
            "\n",
            "Processing law dataset:  54%|█████▍    | 269/500 [44:31<36:11,  9.40s/it]\u001b[A\u001b[A"
          ]
        },
        {
          "output_type": "stream",
          "name": "stdout",
          "text": [
            "Appended result to Google Drive file: [269, 0.5625, 0.875, 0.7350039401103231, 1.0, 1.3908205841446453, 0.0]\n"
          ]
        },
        {
          "output_type": "stream",
          "name": "stderr",
          "text": [
            "\n",
            "\n",
            "Processing law dataset:  54%|█████▍    | 270/500 [44:40<35:30,  9.26s/it]\u001b[A\u001b[A"
          ]
        },
        {
          "output_type": "stream",
          "name": "stdout",
          "text": [
            "Appended result to Google Drive file: [270, 0.11904761904761907, 0.8571428571428572, 0.6705182072829131, 0.7921800735360058, 8.264462809917354, 1.3404825737265416]\n"
          ]
        },
        {
          "output_type": "stream",
          "name": "stderr",
          "text": [
            "\n",
            "\n",
            "Processing law dataset:  54%|█████▍    | 271/500 [44:50<36:35,  9.59s/it]\u001b[A\u001b[A"
          ]
        },
        {
          "output_type": "stream",
          "name": "stdout",
          "text": [
            "Appended result to Google Drive file: [271, 0.5555555555555556, 0.8888888888888888, 0.34972824217406256, 0.8737181391747472, 2.8790786948176583, 2.626970227670753]\n"
          ]
        },
        {
          "output_type": "stream",
          "name": "stderr",
          "text": [
            "\n",
            "\n",
            "Processing law dataset:  54%|█████▍    | 272/500 [45:00<36:38,  9.64s/it]\u001b[A\u001b[A"
          ]
        },
        {
          "output_type": "stream",
          "name": "stdout",
          "text": [
            "Appended result to Google Drive file: [272, 0.11111111111111116, 0.37037037037037035, 0.5108277676583688, 0.6587578102061463, 2.0876826722338206, 1.6949152542372885]\n"
          ]
        },
        {
          "output_type": "stream",
          "name": "stderr",
          "text": [
            "\n",
            "\n",
            "Processing law dataset:  55%|█████▍    | 273/500 [45:09<36:03,  9.53s/it]\u001b[A\u001b[A"
          ]
        },
        {
          "output_type": "stream",
          "name": "stdout",
          "text": [
            "Appended result to Google Drive file: [273, 0.25, 0.7333333333333334, 0.7432098765432098, 0.7047411707789065, 3.1055900621118013, 1.6930022573363432]\n"
          ]
        },
        {
          "output_type": "stream",
          "name": "stderr",
          "text": [
            "\n",
            "\n",
            "Processing law dataset:  55%|█████▍    | 274/500 [45:20<36:51,  9.78s/it]\u001b[A\u001b[A"
          ]
        },
        {
          "output_type": "stream",
          "name": "stdout",
          "text": [
            "Appended result to Google Drive file: [274, 0.5098039215686274, 0.6666666666666667, 0.7289103986018687, 0.14608253588516748, 1.51285930408472, 2.178649237472767]\n"
          ]
        },
        {
          "output_type": "stream",
          "name": "stderr",
          "text": [
            "\n",
            "\n",
            "Processing law dataset:  55%|█████▌    | 275/500 [45:31<37:54, 10.11s/it]\u001b[A\u001b[A"
          ]
        },
        {
          "output_type": "stream",
          "name": "stdout",
          "text": [
            "Appended result to Google Drive file: [275, 0.8235294117647058, 1.0, 0.886613475177305, 0.6444444444444445, 1.1947431302270015, 0.5428881650380022]\n"
          ]
        },
        {
          "output_type": "stream",
          "name": "stderr",
          "text": [
            "\n",
            "\n",
            "Processing law dataset:  55%|█████▌    | 276/500 [45:40<36:43,  9.84s/it]\u001b[A\u001b[A"
          ]
        },
        {
          "output_type": "stream",
          "name": "stdout",
          "text": [
            "Appended result to Google Drive file: [276, 0.46153846153846156, 0.8974358974358975, 0.5988224274053259, 0.9298245614035089, 1.6538037486218304, 3.588516746411483]\n"
          ]
        },
        {
          "output_type": "stream",
          "name": "stderr",
          "text": [
            "\n",
            "\n",
            "Processing law dataset:  55%|█████▌    | 277/500 [45:48<34:58,  9.41s/it]\u001b[A\u001b[A"
          ]
        },
        {
          "output_type": "stream",
          "name": "stdout",
          "text": [
            "Appended result to Google Drive file: [277, 0.16666666666666663, 0.5208333333333333, 0.17240981240981237, 0.1735904539400052, 4.424778761061947, 2.3400936037441493]\n"
          ]
        },
        {
          "output_type": "stream",
          "name": "stderr",
          "text": [
            "\n",
            "\n",
            "Processing law dataset:  56%|█████▌    | 278/500 [45:59<36:05,  9.75s/it]\u001b[A\u001b[A"
          ]
        },
        {
          "output_type": "stream",
          "name": "stdout",
          "text": [
            "Appended result to Google Drive file: [278, 0.717948717948718, 0.8717948717948718, 0.701121794871795, 0.5161290322580645, 1.4177693761814747, 2.1186440677966103]\n"
          ]
        },
        {
          "output_type": "stream",
          "name": "stderr",
          "text": [
            "\n",
            "\n",
            "Processing law dataset:  56%|█████▌    | 279/500 [46:10<37:44, 10.25s/it]\u001b[A\u001b[A"
          ]
        },
        {
          "output_type": "stream",
          "name": "stdout",
          "text": [
            "Appended result to Google Drive file: [279, 0.5277777777777778, 1.1666666666666667, 0.701984126984127, 0.3177878273977765, 0.979431929480901, 1.675977653631285]\n"
          ]
        },
        {
          "output_type": "stream",
          "name": "stderr",
          "text": [
            "\n",
            "\n",
            "Processing law dataset:  56%|█████▌    | 280/500 [46:18<34:47,  9.49s/it]\u001b[A\u001b[A"
          ]
        },
        {
          "output_type": "stream",
          "name": "stdout",
          "text": [
            "Appended result to Google Drive file: [280, 0.0, 0.7380952380952381, 0.3333333333333333, 0.15219382067208154, 9.25925925925926, 1.3404825737265416]\n"
          ]
        },
        {
          "output_type": "stream",
          "name": "stderr",
          "text": [
            "\n",
            "\n",
            "Processing law dataset:  56%|█████▌    | 281/500 [46:26<32:41,  8.96s/it]\u001b[A\u001b[A"
          ]
        },
        {
          "output_type": "stream",
          "name": "stdout",
          "text": [
            "Appended result to Google Drive file: [281, 0.13888888888888884, 0.6666666666666667, 0.7197368421052631, 0.48738961946509124, 0.0, 0.9960159362549802]\n"
          ]
        },
        {
          "output_type": "stream",
          "name": "stderr",
          "text": [
            "\n",
            "\n",
            "Processing law dataset:  56%|█████▋    | 282/500 [46:35<33:01,  9.09s/it]\u001b[A\u001b[A"
          ]
        },
        {
          "output_type": "stream",
          "name": "stdout",
          "text": [
            "Appended result to Google Drive file: [282, 0.7878787878787878, 0.7575757575757576, 0.5527603074772887, 0.3333333333333333, 1.65929203539823, 3.2467532467532463]\n"
          ]
        },
        {
          "output_type": "stream",
          "name": "stderr",
          "text": [
            "\n",
            "\n",
            "Processing law dataset:  57%|█████▋    | 283/500 [46:41<30:01,  8.30s/it]\u001b[A\u001b[A"
          ]
        },
        {
          "output_type": "stream",
          "name": "stdout",
          "text": [
            "Appended result to Google Drive file: [283, 0.1428571428571429, 0.2857142857142857, 0.7999999999999999, 0.3055555555555556, 3.875968992248062, 4.504504504504504]\n"
          ]
        },
        {
          "output_type": "stream",
          "name": "stderr",
          "text": [
            "\n",
            "\n",
            "Processing law dataset:  57%|█████▋    | 284/500 [46:52<32:28,  9.02s/it]\u001b[A\u001b[A"
          ]
        },
        {
          "output_type": "stream",
          "name": "stdout",
          "text": [
            "Appended result to Google Drive file: [284, 0.9607843137254902, 1.4705882352941178, 0.89024231678487, 0.5287356321839081, 1.8292682926829267, 1.129943502824859]\n"
          ]
        },
        {
          "output_type": "stream",
          "name": "stderr",
          "text": [
            "\n",
            "\n",
            "Processing law dataset:  57%|█████▋    | 285/500 [47:02<33:09,  9.25s/it]\u001b[A\u001b[A"
          ]
        },
        {
          "output_type": "stream",
          "name": "stdout",
          "text": [
            "Appended result to Google Drive file: [285, 0.7111111111111111, 0.8888888888888888, 0.808390022675737, 0.0988938097233028, 1.626898047722343, 2.9585798816568047]\n"
          ]
        },
        {
          "output_type": "stream",
          "name": "stderr",
          "text": [
            "\n",
            "\n",
            "Processing law dataset:  57%|█████▋    | 286/500 [47:12<33:25,  9.37s/it]\u001b[A\u001b[A"
          ]
        },
        {
          "output_type": "stream",
          "name": "stdout",
          "text": [
            "Appended result to Google Drive file: [286, 0.48611111111111116, 0.7361111111111112, 0.862403381642512, 0.49685534591194963, 0.8, 1.1312217194570138]\n"
          ]
        },
        {
          "output_type": "stream",
          "name": "stderr",
          "text": [
            "\n",
            "\n",
            "Processing law dataset:  57%|█████▋    | 287/500 [47:21<33:02,  9.31s/it]\u001b[A\u001b[A"
          ]
        },
        {
          "output_type": "stream",
          "name": "stdout",
          "text": [
            "Appended result to Google Drive file: [287, 0.6296296296296297, 0.8888888888888888, 0.7671485260770975, 0.4166666666666667, 1.773049645390071, 2.384737678855326]\n"
          ]
        },
        {
          "output_type": "stream",
          "name": "stderr",
          "text": [
            "\n",
            "\n",
            "Processing law dataset:  58%|█████▊    | 288/500 [47:31<34:24,  9.74s/it]\u001b[A\u001b[A"
          ]
        },
        {
          "output_type": "stream",
          "name": "stdout",
          "text": [
            "Appended result to Google Drive file: [288, 0.9074074074074074, 0.962962962962963, 0.6953643978049486, 0.8112745098039217, 1.6008537886872998, 1.5015015015015016]\n"
          ]
        },
        {
          "output_type": "stream",
          "name": "stderr",
          "text": [
            "\n",
            "\n",
            "Processing law dataset:  58%|█████▊    | 289/500 [47:41<34:11,  9.72s/it]\u001b[A\u001b[A"
          ]
        },
        {
          "output_type": "stream",
          "name": "stdout",
          "text": [
            "Appended result to Google Drive file: [289, 0.23529411764705888, 0.9019607843137255, 0.39466561035188485, 0.5321637426900585, 1.0204081632653061, 0.9803921568627451]\n"
          ]
        },
        {
          "output_type": "stream",
          "name": "stderr",
          "text": [
            "\n",
            "\n",
            "Processing law dataset:  58%|█████▊    | 290/500 [47:50<33:27,  9.56s/it]\u001b[A\u001b[A"
          ]
        },
        {
          "output_type": "stream",
          "name": "stdout",
          "text": [
            "Appended result to Google Drive file: [290, 0.125, 1.0416666666666667, 1.0, 0.21865855425177458, 10.0, 1.7103762827822118]\n"
          ]
        },
        {
          "output_type": "stream",
          "name": "stderr",
          "text": [
            "\n",
            "\n",
            "Processing law dataset:  58%|█████▊    | 291/500 [48:01<34:20,  9.86s/it]\u001b[A\u001b[A"
          ]
        },
        {
          "output_type": "stream",
          "name": "stdout",
          "text": [
            "Appended result to Google Drive file: [291, 0.23809523809523814, 0.4285714285714286, 0.8249359029758304, 0.6967039639170786, 1.5839493136219642, 1.6198704103671704]\n"
          ]
        },
        {
          "output_type": "stream",
          "name": "stderr",
          "text": [
            "\n",
            "\n",
            "Processing law dataset:  58%|█████▊    | 292/500 [48:11<34:03,  9.82s/it]\u001b[A\u001b[A"
          ]
        },
        {
          "output_type": "stream",
          "name": "stdout",
          "text": [
            "Appended result to Google Drive file: [292, 0.23809523809523814, 1.7857142857142856, 0.9111111111111111, 0.5422987553447799, 3.378378378378378, 0.5841121495327102]\n"
          ]
        },
        {
          "output_type": "stream",
          "name": "stderr",
          "text": [
            "\n",
            "\n",
            "Processing law dataset:  59%|█████▊    | 293/500 [48:22<35:09, 10.19s/it]\u001b[A\u001b[A"
          ]
        },
        {
          "output_type": "stream",
          "name": "stdout",
          "text": [
            "Appended result to Google Drive file: [293, 0.33333333333333337, 0.7666666666666666, 0.43259441707717566, 0.7000894531927303, 1.9255455712451859, 1.6853932584269662]\n"
          ]
        },
        {
          "output_type": "stream",
          "name": "stderr",
          "text": [
            "\n",
            "\n",
            "Processing law dataset:  59%|█████▉    | 294/500 [48:31<33:35,  9.79s/it]\u001b[A\u001b[A"
          ]
        },
        {
          "output_type": "stream",
          "name": "stdout",
          "text": [
            "Appended result to Google Drive file: [294, 0.5666666666666667, 0.8666666666666667, 0.7958132045088567, 0.4583333333333333, 1.1655011655011653, 1.8115942028985508]\n"
          ]
        },
        {
          "output_type": "stream",
          "name": "stderr",
          "text": [
            "\n",
            "\n",
            "Processing law dataset:  59%|█████▉    | 295/500 [48:40<32:47,  9.60s/it]\u001b[A\u001b[A"
          ]
        },
        {
          "output_type": "stream",
          "name": "stdout",
          "text": [
            "Appended result to Google Drive file: [295, 0.5897435897435898, 0.7692307692307692, 0.8279569892473116, 1.0, 2.164502164502165, 1.7605633802816902]\n"
          ]
        },
        {
          "output_type": "stream",
          "name": "stderr",
          "text": [
            "\n",
            "\n",
            "Processing law dataset:  59%|█████▉    | 296/500 [48:51<33:54,  9.97s/it]\u001b[A\u001b[A"
          ]
        },
        {
          "output_type": "stream",
          "name": "stdout",
          "text": [
            "Appended result to Google Drive file: [296, 0.5740740740740741, 0.6666666666666667, 0.7156593133707384, 0.7311695174523711, 1.7162471395881007, 1.7182130584192439]\n"
          ]
        },
        {
          "output_type": "stream",
          "name": "stderr",
          "text": [
            "\n",
            "\n",
            "Processing law dataset:  59%|█████▉    | 297/500 [49:01<34:38, 10.24s/it]\u001b[A\u001b[A"
          ]
        },
        {
          "output_type": "stream",
          "name": "stdout",
          "text": [
            "Appended result to Google Drive file: [297, 0.7083333333333333, 0.875, 0.6074281261306392, 0.7803009002343075, 0.5341880341880341, 1.0869565217391306]\n"
          ]
        },
        {
          "output_type": "stream",
          "name": "stderr",
          "text": [
            "\n",
            "\n",
            "Processing law dataset:  60%|█████▉    | 298/500 [49:11<34:18, 10.19s/it]\u001b[A\u001b[A"
          ]
        },
        {
          "output_type": "stream",
          "name": "stdout",
          "text": [
            "Appended result to Google Drive file: [298, 0.47916666666666663, 0.9375, 0.6646774651889741, 0.978494623655914, 1.0964912280701755, 1.506024096385542]\n"
          ]
        },
        {
          "output_type": "stream",
          "name": "stderr",
          "text": [
            "\n",
            "\n",
            "Processing law dataset:  60%|█████▉    | 299/500 [49:23<35:31, 10.61s/it]\u001b[A\u001b[A"
          ]
        },
        {
          "output_type": "stream",
          "name": "stdout",
          "text": [
            "Appended result to Google Drive file: [299, 0.4814814814814815, 0.7222222222222222, 0.8316091954022989, 0.7914987508889659, 1.4985014985014986, 1.5015015015015016]\n"
          ]
        },
        {
          "output_type": "stream",
          "name": "stderr",
          "text": [
            "\n",
            "\n",
            "Processing law dataset:  60%|██████    | 300/500 [49:31<32:41,  9.81s/it]\u001b[A\u001b[A"
          ]
        },
        {
          "output_type": "stream",
          "name": "stdout",
          "text": [
            "Appended result to Google Drive file: [300, 0.33333333333333337, 1.0, 0.3327508822420941, 0.2531855500821018, 2.4038461538461537, 2.4271844660194173]\n"
          ]
        },
        {
          "output_type": "stream",
          "name": "stderr",
          "text": [
            "\n",
            "\n",
            "Processing law dataset:  60%|██████    | 301/500 [49:38<30:10,  9.10s/it]\u001b[A\u001b[A"
          ]
        },
        {
          "output_type": "stream",
          "name": "stdout",
          "text": [
            "Appended result to Google Drive file: [301, 0.11111111111111116, 1.0, 0.6666666666666666, 0.4583333333333333, 11.450381679389311, 3.90625]\n"
          ]
        },
        {
          "output_type": "stream",
          "name": "stderr",
          "text": [
            "\n",
            "\n",
            "Processing law dataset:  60%|██████    | 302/500 [49:50<32:31,  9.86s/it]\u001b[A\u001b[A"
          ]
        },
        {
          "output_type": "stream",
          "name": "stdout",
          "text": [
            "Appended result to Google Drive file: [302, 0.37777777777777777, 0.8444444444444444, 0.7429339143064633, 0.34174199425408175, 1.466275659824047, 1.3309671694764864]\n"
          ]
        },
        {
          "output_type": "stream",
          "name": "stderr",
          "text": [
            "\n",
            "\n",
            "Processing law dataset:  61%|██████    | 303/500 [49:58<30:15,  9.22s/it]\u001b[A\u001b[A"
          ]
        },
        {
          "output_type": "stream",
          "name": "stdout",
          "text": [
            "Appended result to Google Drive file: [303, 0.36111111111111116, 0.5, 0.2755102040816326, 0.43703703703703706, 2.5316455696202533, 4.2492917847025495]\n"
          ]
        },
        {
          "output_type": "stream",
          "name": "stderr",
          "text": [
            "\n",
            "\n",
            "Processing law dataset:  61%|██████    | 304/500 [50:09<31:50,  9.74s/it]\u001b[A\u001b[A"
          ]
        },
        {
          "output_type": "stream",
          "name": "stdout",
          "text": [
            "Appended result to Google Drive file: [304, 0.41666666666666663, 0.6875, 0.6245253311104936, 0.30231842877389076, 1.6666666666666667, 1.5360983102918584]\n"
          ]
        },
        {
          "output_type": "stream",
          "name": "stderr",
          "text": [
            "\n",
            "\n",
            "Processing law dataset:  61%|██████    | 305/500 [50:18<31:19,  9.64s/it]\u001b[A\u001b[A"
          ]
        },
        {
          "output_type": "stream",
          "name": "stdout",
          "text": [
            "Appended result to Google Drive file: [305, 0.8235294117647058, 0.6274509803921569, 0.6654084967320261, 0.2994306418219462, 1.724137931034483, 5.836575875486381]\n"
          ]
        },
        {
          "output_type": "stream",
          "name": "stderr",
          "text": [
            "\n",
            "\n",
            "Processing law dataset:  61%|██████    | 306/500 [50:30<33:04, 10.23s/it]\u001b[A\u001b[A"
          ]
        },
        {
          "output_type": "stream",
          "name": "stdout",
          "text": [
            "Appended result to Google Drive file: [306, 0.23529411764705888, 0.5686274509803921, 0.7928436911487758, 0.6512552424833127, 1.7321016166281753, 1.2285012285012287]\n"
          ]
        },
        {
          "output_type": "stream",
          "name": "stderr",
          "text": [
            "\n",
            "\n",
            "Processing law dataset:  61%|██████▏   | 307/500 [50:40<32:40, 10.16s/it]\u001b[A\u001b[A"
          ]
        },
        {
          "output_type": "stream",
          "name": "stdout",
          "text": [
            "Appended result to Google Drive file: [307, 0.050000000000000044, 0.44999999999999996, 0.5833333333333334, 0.7703710390900064, 13.636363636363638, 1.7006802721088434]\n"
          ]
        },
        {
          "output_type": "stream",
          "name": "stderr",
          "text": [
            "\n",
            "\n",
            "Processing law dataset:  62%|██████▏   | 308/500 [50:50<32:51, 10.27s/it]\u001b[A\u001b[A"
          ]
        },
        {
          "output_type": "stream",
          "name": "stdout",
          "text": [
            "Appended result to Google Drive file: [308, 0.5, 0.8333333333333334, 0.7311180882609455, 0.24454177897574125, 1.7825311942959, 4.347826086956521]\n"
          ]
        },
        {
          "output_type": "stream",
          "name": "stderr",
          "text": [
            "\n",
            "\n",
            "Processing law dataset:  62%|██████▏   | 309/500 [51:00<32:15, 10.13s/it]\u001b[A\u001b[A"
          ]
        },
        {
          "output_type": "stream",
          "name": "stdout",
          "text": [
            "Appended result to Google Drive file: [309, 0.33333333333333337, 0.8611111111111112, 0.2704761904761905, 0.8781965552178318, 4.0540540540540535, 1.989389920424403]\n"
          ]
        },
        {
          "output_type": "stream",
          "name": "stderr",
          "text": [
            "\n",
            "\n",
            "Processing law dataset:  62%|██████▏   | 310/500 [51:08<29:44,  9.39s/it]\u001b[A\u001b[A"
          ]
        },
        {
          "output_type": "stream",
          "name": "stdout",
          "text": [
            "Appended result to Google Drive file: [310, 0.24242424242424243, 0.24242424242424243, 0.5944827586206897, 0.4465277777777778, 3.3259423503325944, 3.4802784222737824]\n"
          ]
        },
        {
          "output_type": "stream",
          "name": "stderr",
          "text": [
            "\n",
            "\n",
            "Processing law dataset:  62%|██████▏   | 311/500 [51:19<31:20,  9.95s/it]\u001b[A\u001b[A"
          ]
        },
        {
          "output_type": "stream",
          "name": "stdout",
          "text": [
            "Appended result to Google Drive file: [311, 0.29166666666666663, 0.875, 0.4807843137254902, 0.814151747655584, 1.6722408026755855, 1.5290519877675843]\n"
          ]
        },
        {
          "output_type": "stream",
          "name": "stderr",
          "text": [
            "\n",
            "\n",
            "Processing law dataset:  62%|██████▏   | 312/500 [1:01:31<9:57:22, 190.65s/it]\u001b[A\u001b[A"
          ]
        },
        {
          "output_type": "stream",
          "name": "stdout",
          "text": [
            "Appended result to Google Drive file: [312, 0.40476190476190477, 0.5, 0.7797619047619048, 0.75633423180593, 1.5657620041753653, 1.582278481012658]\n"
          ]
        },
        {
          "output_type": "stream",
          "name": "stderr",
          "text": [
            "\n",
            "\n",
            "Processing law dataset:  63%|██████▎   | 313/500 [1:01:40<7:03:53, 136.01s/it]\u001b[A\u001b[A"
          ]
        },
        {
          "output_type": "stream",
          "name": "stdout",
          "text": [
            "Appended result to Google Drive file: [313, 0.0625, 1.0, 0.47301587301587295, 0.36936936936936937, 4.901960784313726, 2.5996533795493937]\n"
          ]
        },
        {
          "output_type": "stream",
          "name": "stderr",
          "text": [
            "\n",
            "\n",
            "Processing law dataset:  63%|██████▎   | 314/500 [1:01:51<5:05:10, 98.44s/it] \u001b[A\u001b[A"
          ]
        },
        {
          "output_type": "stream",
          "name": "stdout",
          "text": [
            "Appended result to Google Drive file: [314, 0.8095238095238095, 1.119047619047619, 0.7361509835194046, 0.6708333333333333, 1.0319917440660475, 1.5060240963855422]\n"
          ]
        },
        {
          "output_type": "stream",
          "name": "stderr",
          "text": [
            "\n",
            "\n",
            "Processing law dataset:  63%|██████▎   | 315/500 [1:02:00<3:41:34, 71.86s/it]\u001b[A\u001b[A"
          ]
        },
        {
          "output_type": "stream",
          "name": "stdout",
          "text": [
            "Appended result to Google Drive file: [315, 0.6666666666666667, 0.7037037037037037, 0.6505010206761026, 0.8225995078882619, 1.4591439688715953, 1.46484375]\n"
          ]
        },
        {
          "output_type": "stream",
          "name": "stderr",
          "text": [
            "\n",
            "\n",
            "Processing law dataset:  63%|██████▎   | 316/500 [1:02:10<2:42:40, 53.04s/it]\u001b[A\u001b[A"
          ]
        },
        {
          "output_type": "stream",
          "name": "stdout",
          "text": [
            "Appended result to Google Drive file: [316, 0.36363636363636365, 1.0303030303030303, 0.5106465350367789, 0.5187195504578146, 2.1691973969631237, 1.6853932584269662]\n"
          ]
        },
        {
          "output_type": "stream",
          "name": "stderr",
          "text": [
            "\n",
            "\n",
            "Processing law dataset:  63%|██████▎   | 317/500 [1:02:20<2:02:53, 40.29s/it]\u001b[A\u001b[A"
          ]
        },
        {
          "output_type": "stream",
          "name": "stdout",
          "text": [
            "Appended result to Google Drive file: [317, 0.5555555555555556, 0.9333333333333333, 0.6598639455782314, 0.8437405731523379, 0.9980039920159679, 0.7886435331230284]\n"
          ]
        },
        {
          "output_type": "stream",
          "name": "stderr",
          "text": [
            "\n",
            "\n",
            "Processing law dataset:  64%|██████▎   | 318/500 [1:02:30<1:34:44, 31.23s/it]\u001b[A\u001b[A"
          ]
        },
        {
          "output_type": "stream",
          "name": "stdout",
          "text": [
            "Appended result to Google Drive file: [318, 0.46153846153846156, 0.9230769230769231, 0.6062659380692167, 0.08666666666666667, 1.41643059490085, 2.5684931506849313]\n"
          ]
        },
        {
          "output_type": "stream",
          "name": "stderr",
          "text": [
            "\n",
            "\n",
            "Processing law dataset:  64%|██████▍   | 319/500 [1:02:40<1:15:05, 24.89s/it]\u001b[A\u001b[A"
          ]
        },
        {
          "output_type": "stream",
          "name": "stdout",
          "text": [
            "Appended result to Google Drive file: [319, 0.6666666666666667, 1.0, 0.6726516915834022, 0.860213529856387, 1.5228426395939085, 1.549586776859504]\n"
          ]
        },
        {
          "output_type": "stream",
          "name": "stderr",
          "text": [
            "\n",
            "\n",
            "Processing law dataset:  64%|██████▍   | 320/500 [1:02:50<1:01:06, 20.37s/it]\u001b[A\u001b[A"
          ]
        },
        {
          "output_type": "stream",
          "name": "stdout",
          "text": [
            "Appended result to Google Drive file: [320, 0.38095238095238093, 0.7857142857142857, 0.6400027847396268, 0.600259571706684, 1.6853932584269662, 1.4563106796116503]\n"
          ]
        },
        {
          "output_type": "stream",
          "name": "stderr",
          "text": [
            "\n",
            "\n",
            "Processing law dataset:  64%|██████▍   | 321/500 [1:03:01<51:49, 17.37s/it]  \u001b[A\u001b[A"
          ]
        },
        {
          "output_type": "stream",
          "name": "stdout",
          "text": [
            "Appended result to Google Drive file: [321, 0.5, 0.6875, 0.7701202590194264, 0.8386524822695035, 0.0, 0.0]\n"
          ]
        },
        {
          "output_type": "stream",
          "name": "stderr",
          "text": [
            "\n",
            "\n",
            "Processing law dataset:  64%|██████▍   | 322/500 [1:03:09<43:55, 14.81s/it]\u001b[A\u001b[A"
          ]
        },
        {
          "output_type": "stream",
          "name": "stdout",
          "text": [
            "Appended result to Google Drive file: [322, 0.375, 0.7083333333333333, 0.7596852300242131, 0.8974358974358975, 0.5903187721369539, 4.065040650406504]\n"
          ]
        },
        {
          "output_type": "stream",
          "name": "stderr",
          "text": [
            "\n",
            "\n",
            "Processing law dataset:  65%|██████▍   | 323/500 [1:03:21<40:42, 13.80s/it]\u001b[A\u001b[A"
          ]
        },
        {
          "output_type": "stream",
          "name": "stdout",
          "text": [
            "Appended result to Google Drive file: [323, 0.6666666666666667, 0.5, 0.8621951656542852, 0.456140350877193, 1.4124293785310735, 1.3812154696132597]\n"
          ]
        },
        {
          "output_type": "stream",
          "name": "stderr",
          "text": [
            "\n",
            "\n",
            "Processing law dataset:  65%|██████▍   | 324/500 [1:03:33<38:47, 13.22s/it]\u001b[A\u001b[A"
          ]
        },
        {
          "output_type": "stream",
          "name": "stdout",
          "text": [
            "Appended result to Google Drive file: [324, 0.2777777777777778, 0.6666666666666667, 0.8177563364055299, 0.7254098360655737, 1.4430014430014433, 1.4858841010401191]\n"
          ]
        },
        {
          "output_type": "stream",
          "name": "stderr",
          "text": [
            "\n",
            "\n",
            "Processing law dataset:  65%|██████▌   | 325/500 [1:03:43<35:37, 12.21s/it]\u001b[A\u001b[A"
          ]
        },
        {
          "output_type": "stream",
          "name": "stdout",
          "text": [
            "Appended result to Google Drive file: [325, 0.6944444444444444, 0.9444444444444444, 0.7932256235827664, 0.7453181386514719, 1.6556291390728477, 1.675977653631285]\n"
          ]
        },
        {
          "output_type": "stream",
          "name": "stderr",
          "text": [
            "\n",
            "\n",
            "Processing law dataset:  65%|██████▌   | 326/500 [1:03:54<34:33, 11.92s/it]\u001b[A\u001b[A"
          ]
        },
        {
          "output_type": "stream",
          "name": "stdout",
          "text": [
            "Appended result to Google Drive file: [326, 0.6, 1.1111111111111112, 0.6119116783701976, 0.31530363372541753, 1.6949152542372885, 1.3351134846461947]\n"
          ]
        },
        {
          "output_type": "stream",
          "name": "stderr",
          "text": [
            "\n",
            "\n",
            "Processing law dataset:  65%|██████▌   | 327/500 [1:04:03<31:54, 11.07s/it]\u001b[A\u001b[A"
          ]
        },
        {
          "output_type": "stream",
          "name": "stdout",
          "text": [
            "Appended result to Google Drive file: [327, 0.75, 0.8333333333333334, 0.6858914313751728, 0.3333333333333333, 1.081081081081081, 3.2362459546925564]\n"
          ]
        },
        {
          "output_type": "stream",
          "name": "stderr",
          "text": [
            "\n",
            "\n",
            "Processing law dataset:  66%|██████▌   | 328/500 [1:04:11<29:26, 10.27s/it]\u001b[A\u001b[A"
          ]
        },
        {
          "output_type": "stream",
          "name": "stdout",
          "text": [
            "Appended result to Google Drive file: [328, 0.125, 0.9375, 1.0, 0.8969184599619382, 11.904761904761905, 1.54320987654321]\n"
          ]
        },
        {
          "output_type": "stream",
          "name": "stderr",
          "text": [
            "\n",
            "\n",
            "Processing law dataset:  66%|██████▌   | 329/500 [1:04:21<29:02, 10.19s/it]\u001b[A\u001b[A"
          ]
        },
        {
          "output_type": "stream",
          "name": "stdout",
          "text": [
            "Appended result to Google Drive file: [329, 0.537037037037037, 0.7777777777777778, 0.7728867623604466, 0.3333333333333333, 1.6216216216216217, 3.579952267303103]\n"
          ]
        },
        {
          "output_type": "stream",
          "name": "stderr",
          "text": [
            "\n",
            "\n",
            "Processing law dataset:  66%|██████▌   | 330/500 [1:04:29<26:55,  9.50s/it]\u001b[A\u001b[A"
          ]
        },
        {
          "output_type": "stream",
          "name": "stdout",
          "text": [
            "Appended result to Google Drive file: [330, 0.45833333333333337, 0.875, 0.37094453165881736, 1.0, 2.3364485981308416, 4.901960784313725]\n"
          ]
        },
        {
          "output_type": "stream",
          "name": "stderr",
          "text": [
            "\n",
            "\n",
            "Processing law dataset:  66%|██████▌   | 331/500 [1:04:38<26:22,  9.36s/it]\u001b[A\u001b[A"
          ]
        },
        {
          "output_type": "stream",
          "name": "stdout",
          "text": [
            "Appended result to Google Drive file: [331, 0.41666666666666663, 0.8055555555555556, 0.13193494452044383, 0.5275641025641026, 0.9920634920634922, 0.6596306068601583]\n"
          ]
        },
        {
          "output_type": "stream",
          "name": "stderr",
          "text": [
            "\n",
            "\n",
            "Processing law dataset:  66%|██████▋   | 332/500 [1:04:50<28:40, 10.24s/it]\u001b[A\u001b[A"
          ]
        },
        {
          "output_type": "stream",
          "name": "stdout",
          "text": [
            "Appended result to Google Drive file: [332, 0.5555555555555556, 1.345679012345679, 0.8763931104356636, 0.8787878787878789, 1.0298661174047374, 0.962463907603465]\n"
          ]
        },
        {
          "output_type": "stream",
          "name": "stderr",
          "text": [
            "\n",
            "\n",
            "Processing law dataset:  67%|██████▋   | 333/500 [1:05:01<28:30, 10.24s/it]\u001b[A\u001b[A"
          ]
        },
        {
          "output_type": "stream",
          "name": "stdout",
          "text": [
            "Appended result to Google Drive file: [333, 0.6388888888888888, 0.9444444444444444, 0.8461538461538461, 0.8373369438621011, 1.557632398753894, 1.0893246187363834]\n"
          ]
        },
        {
          "output_type": "stream",
          "name": "stderr",
          "text": [
            "\n",
            "\n",
            "Processing law dataset:  67%|██████▋   | 334/500 [1:05:10<27:42, 10.01s/it]\u001b[A\u001b[A"
          ]
        },
        {
          "output_type": "stream",
          "name": "stdout",
          "text": [
            "Appended result to Google Drive file: [334, 0.47916666666666663, 0.9791666666666666, 0.5088086516657945, 0.9393939393939394, 1.8541409147095183, 2.7322404371584703]\n"
          ]
        },
        {
          "output_type": "stream",
          "name": "stderr",
          "text": [
            "\n",
            "\n",
            "Processing law dataset:  67%|██████▋   | 335/500 [1:05:21<28:07, 10.22s/it]\u001b[A\u001b[A"
          ]
        },
        {
          "output_type": "stream",
          "name": "stdout",
          "text": [
            "Appended result to Google Drive file: [335, 0.5714285714285714, 1.0, 0.788613273518934, 1.0, 1.612903225806452, 0.0]\n"
          ]
        },
        {
          "output_type": "stream",
          "name": "stderr",
          "text": [
            "\n",
            "\n",
            "Processing law dataset:  67%|██████▋   | 336/500 [1:05:30<26:54,  9.84s/it]\u001b[A\u001b[A"
          ]
        },
        {
          "output_type": "stream",
          "name": "stdout",
          "text": [
            "Appended result to Google Drive file: [336, 0.5666666666666667, 1.0, 0.8788840788840789, 1.0, 0.8361204013377926, 2.3364485981308407]\n"
          ]
        },
        {
          "output_type": "stream",
          "name": "stderr",
          "text": [
            "\n",
            "\n",
            "Processing law dataset:  67%|██████▋   | 337/500 [1:05:37<24:50,  9.14s/it]\u001b[A\u001b[A"
          ]
        },
        {
          "output_type": "stream",
          "name": "stdout",
          "text": [
            "Appended result to Google Drive file: [337, 0.16666666666666663, 0.16666666666666663, 1.0, 0.888888888888889, 12.82051282051282, 13.27433628318584]\n"
          ]
        },
        {
          "output_type": "stream",
          "name": "stderr",
          "text": [
            "\n",
            "\n",
            "Processing law dataset:  68%|██████▊   | 338/500 [1:05:46<24:31,  9.09s/it]\u001b[A\u001b[A"
          ]
        },
        {
          "output_type": "stream",
          "name": "stdout",
          "text": [
            "Appended result to Google Drive file: [338, 0.1875, 0.75, 0.5909090909090908, 0.7291293347790523, 8.720930232558139, 1.7462165308498256]\n"
          ]
        },
        {
          "output_type": "stream",
          "name": "stderr",
          "text": [
            "\n",
            "\n",
            "Processing law dataset:  68%|██████▊   | 339/500 [1:05:56<25:09,  9.38s/it]\u001b[A\u001b[A"
          ]
        },
        {
          "output_type": "stream",
          "name": "stdout",
          "text": [
            "Appended result to Google Drive file: [339, 0.5, 0.6666666666666667, 0.7804885590599877, 0.7931642512077296, 1.646542261251372, 1.7045454545454548]\n"
          ]
        },
        {
          "output_type": "stream",
          "name": "stderr",
          "text": [
            "\n",
            "\n",
            "Processing law dataset:  68%|██████▊   | 340/500 [1:06:07<25:57,  9.73s/it]\u001b[A\u001b[A"
          ]
        },
        {
          "output_type": "stream",
          "name": "stdout",
          "text": [
            "Appended result to Google Drive file: [340, 0.125, 1.2291666666666667, 0.6703703703703704, 0.1767711962833914, 3.4246575342465757, 1.5789473684210527]\n"
          ]
        },
        {
          "output_type": "stream",
          "name": "stderr",
          "text": [
            "\n",
            "\n",
            "Processing law dataset:  68%|██████▊   | 341/500 [1:06:17<25:59,  9.81s/it]\u001b[A\u001b[A"
          ]
        },
        {
          "output_type": "stream",
          "name": "stdout",
          "text": [
            "Appended result to Google Drive file: [341, 0.28888888888888886, 0.8, 0.38681250277888934, 0.37372826643513885, 3.4562211981566815, 2.604166666666667]\n"
          ]
        },
        {
          "output_type": "stream",
          "name": "stderr",
          "text": [
            "\n",
            "\n",
            "Processing law dataset:  68%|██████▊   | 342/500 [1:06:27<26:02,  9.89s/it]\u001b[A\u001b[A"
          ]
        },
        {
          "output_type": "stream",
          "name": "stdout",
          "text": [
            "Appended result to Google Drive file: [342, 0.5, 0.8958333333333334, 0.7701465201465201, 0.06172839506172839, 1.80940892641737, 2.640845070422535]\n"
          ]
        },
        {
          "output_type": "stream",
          "name": "stderr",
          "text": [
            "\n",
            "\n",
            "Processing law dataset:  69%|██████▊   | 343/500 [1:06:38<26:22, 10.08s/it]\u001b[A\u001b[A"
          ]
        },
        {
          "output_type": "stream",
          "name": "stdout",
          "text": [
            "Appended result to Google Drive file: [343, 0.33333333333333337, 0.8444444444444444, 0.5805691222357889, 0.16044616044616045, 1.7421602787456445, 2.824858757062147]\n"
          ]
        },
        {
          "output_type": "stream",
          "name": "stderr",
          "text": [
            "\n",
            "\n",
            "Processing law dataset:  69%|██████▉   | 344/500 [1:06:46<25:09,  9.68s/it]\u001b[A\u001b[A"
          ]
        },
        {
          "output_type": "stream",
          "name": "stdout",
          "text": [
            "Appended result to Google Drive file: [344, 0.07692307692307687, 0.5384615384615384, 1.0, 0.8553113553113553, 45.454545454545446, 1.8844221105527637]\n"
          ]
        },
        {
          "output_type": "stream",
          "name": "stderr",
          "text": [
            "\n",
            "\n",
            "Processing law dataset:  69%|██████▉   | 345/500 [1:06:56<25:10,  9.74s/it]\u001b[A\u001b[A"
          ]
        },
        {
          "output_type": "stream",
          "name": "stdout",
          "text": [
            "Appended result to Google Drive file: [345, 0.40476190476190477, 1.4523809523809523, 0.8370600414078675, 0.47345334307234355, 1.7605633802816902, 1.594048884165781]\n"
          ]
        },
        {
          "output_type": "stream",
          "name": "stderr",
          "text": [
            "\n",
            "\n",
            "Processing law dataset:  69%|██████▉   | 346/500 [1:07:06<24:45,  9.65s/it]\u001b[A\u001b[A"
          ]
        },
        {
          "output_type": "stream",
          "name": "stdout",
          "text": [
            "Appended result to Google Drive file: [346, 0.33333333333333337, 0.6666666666666667, 0.9512195121951219, 0.2983957219251337, 1.9181585677749362, 0.0]\n"
          ]
        },
        {
          "output_type": "stream",
          "name": "stderr",
          "text": [
            "\n",
            "\n",
            "Processing law dataset:  69%|██████▉   | 347/500 [1:07:15<24:47,  9.72s/it]\u001b[A\u001b[A"
          ]
        },
        {
          "output_type": "stream",
          "name": "stdout",
          "text": [
            "Appended result to Google Drive file: [347, 0.5714285714285714, 0.9285714285714286, 0.8743516973525959, 0.3523809523809524, 0.956022944550669, 0.0]\n"
          ]
        },
        {
          "output_type": "stream",
          "name": "stderr",
          "text": [
            "\n",
            "\n",
            "Processing law dataset:  70%|██████▉   | 348/500 [1:07:24<23:55,  9.44s/it]\u001b[A\u001b[A"
          ]
        },
        {
          "output_type": "stream",
          "name": "stdout",
          "text": [
            "Appended result to Google Drive file: [348, 0.4722222222222222, 0.6666666666666667, 0.8610371684905846, 0.10286935286935288, 1.607717041800643, 4.694835680751173]\n"
          ]
        },
        {
          "output_type": "stream",
          "name": "stderr",
          "text": [
            "\n",
            "\n",
            "Processing law dataset:  70%|██████▉   | 349/500 [1:07:33<23:19,  9.27s/it]\u001b[A\u001b[A"
          ]
        },
        {
          "output_type": "stream",
          "name": "stdout",
          "text": [
            "Appended result to Google Drive file: [349, 0.46153846153846156, 0.9230769230769231, 0.744702842377261, 0.9047619047619048, 0.0, 5.660377358490567]\n"
          ]
        },
        {
          "output_type": "stream",
          "name": "stderr",
          "text": [
            "\n",
            "\n",
            "Processing law dataset:  70%|███████   | 350/500 [1:07:44<24:05,  9.63s/it]\u001b[A\u001b[A"
          ]
        },
        {
          "output_type": "stream",
          "name": "stdout",
          "text": [
            "Appended result to Google Drive file: [350, 0.5833333333333333, 0.7083333333333333, 0.9024390243902438, 0.7832225913621262, 1.968503937007874, 1.8796992481203008]\n"
          ]
        },
        {
          "output_type": "stream",
          "name": "stderr",
          "text": [
            "\n",
            "\n",
            "Processing law dataset:  70%|███████   | 351/500 [1:07:52<23:02,  9.28s/it]\u001b[A\u001b[A"
          ]
        },
        {
          "output_type": "stream",
          "name": "stdout",
          "text": [
            "Appended result to Google Drive file: [351, 0.2857142857142857, 0.5238095238095238, 0.588787185354691, 0.12195121951219512, 2.9069767441860463, 0.0]\n"
          ]
        },
        {
          "output_type": "stream",
          "name": "stderr",
          "text": [
            "\n",
            "\n",
            "Processing law dataset:  70%|███████   | 352/500 [1:08:01<22:23,  9.08s/it]\u001b[A\u001b[A"
          ]
        },
        {
          "output_type": "stream",
          "name": "stdout",
          "text": [
            "Appended result to Google Drive file: [352, 0.48888888888888893, 0.9111111111111111, 0.39958798511430094, 0.4057724957555178, 1.689189189189189, 3.4965034965034962]\n"
          ]
        },
        {
          "output_type": "stream",
          "name": "stderr",
          "text": [
            "\n",
            "\n",
            "Processing law dataset:  71%|███████   | 353/500 [1:08:10<22:03,  9.00s/it]\u001b[A\u001b[A"
          ]
        },
        {
          "output_type": "stream",
          "name": "stdout",
          "text": [
            "Appended result to Google Drive file: [353, 0.4285714285714286, 1.0, 0.8135076252723312, 1.0, 1.7452006980802788, 4.9504950495049505]\n"
          ]
        },
        {
          "output_type": "stream",
          "name": "stderr",
          "text": [
            "\n",
            "\n",
            "Processing law dataset:  71%|███████   | 354/500 [1:08:20<22:41,  9.33s/it]\u001b[A\u001b[A"
          ]
        },
        {
          "output_type": "stream",
          "name": "stdout",
          "text": [
            "Appended result to Google Drive file: [354, 0.20833333333333337, 0.5833333333333333, 0.4458906525573192, 0.5137880986937592, 1.1574074074074074, 0.8561643835616439]\n"
          ]
        },
        {
          "output_type": "stream",
          "name": "stderr",
          "text": [
            "\n",
            "\n",
            "Processing law dataset:  71%|███████   | 355/500 [1:08:28<21:39,  8.96s/it]\u001b[A\u001b[A"
          ]
        },
        {
          "output_type": "stream",
          "name": "stdout",
          "text": [
            "Appended result to Google Drive file: [355, 0.13888888888888884, 0.9166666666666666, 0.375, 0.08527131782945736, 2.967359050445104, 2.7100271002710024]\n"
          ]
        },
        {
          "output_type": "stream",
          "name": "stderr",
          "text": [
            "\n",
            "\n",
            "Processing law dataset:  71%|███████   | 356/500 [1:08:36<20:49,  8.68s/it]\u001b[A\u001b[A"
          ]
        },
        {
          "output_type": "stream",
          "name": "stdout",
          "text": [
            "Appended result to Google Drive file: [356, 0.3055555555555556, 1.0, 0.42937853107344637, 1.0, 2.106741573033708, 4.166666666666666]\n"
          ]
        },
        {
          "output_type": "stream",
          "name": "stderr",
          "text": [
            "\n",
            "\n",
            "Processing law dataset:  71%|███████▏  | 357/500 [1:08:46<21:40,  9.09s/it]\u001b[A\u001b[A"
          ]
        },
        {
          "output_type": "stream",
          "name": "stdout",
          "text": [
            "Appended result to Google Drive file: [357, 0.5087719298245614, 0.9473684210526316, 0.4233106575963719, 0.5083540673163315, 1.9762845849802373, 1.70261066969353]\n"
          ]
        },
        {
          "output_type": "stream",
          "name": "stderr",
          "text": [
            "\n",
            "\n",
            "Processing law dataset:  72%|███████▏  | 358/500 [1:08:55<21:25,  9.05s/it]\u001b[A\u001b[A"
          ]
        },
        {
          "output_type": "stream",
          "name": "stdout",
          "text": [
            "Appended result to Google Drive file: [358, 0.4222222222222223, 1.1555555555555554, 0.39655172413793105, 0.7600000000000001, 1.0080645161290325, 2.6246719160104988]\n"
          ]
        },
        {
          "output_type": "stream",
          "name": "stderr",
          "text": [
            "\n",
            "\n",
            "Processing law dataset:  72%|███████▏  | 359/500 [1:09:02<19:52,  8.46s/it]\u001b[A\u001b[A"
          ]
        },
        {
          "output_type": "stream",
          "name": "stdout",
          "text": [
            "Appended result to Google Drive file: [359, 0.30000000000000004, 0.6666666666666667, 0.9298245614035089, 0.4666666666666666, 3.401360544217687, 5.376344086021505]\n"
          ]
        },
        {
          "output_type": "stream",
          "name": "stderr",
          "text": [
            "\n",
            "\n",
            "Processing law dataset:  72%|███████▏  | 360/500 [1:09:11<20:21,  8.73s/it]\u001b[A\u001b[A"
          ]
        },
        {
          "output_type": "stream",
          "name": "stdout",
          "text": [
            "Appended result to Google Drive file: [360, 0.7272727272727273, 0.7272727272727273, 0.6722222222222222, 0.7747957516339868, 2.727272727272727, 2.722323049001815]\n"
          ]
        },
        {
          "output_type": "stream",
          "name": "stderr",
          "text": [
            "\n",
            "\n",
            "Processing law dataset:  72%|███████▏  | 361/500 [1:09:21<20:54,  9.03s/it]\u001b[A\u001b[A"
          ]
        },
        {
          "output_type": "stream",
          "name": "stdout",
          "text": [
            "Appended result to Google Drive file: [361, 0.5757575757575757, 1.0, 0.8414224664224665, 0.861111111111111, 1.7045454545454548, 0.0]\n"
          ]
        },
        {
          "output_type": "stream",
          "name": "stderr",
          "text": [
            "\n",
            "\n",
            "Processing law dataset:  72%|███████▏  | 362/500 [1:09:29<20:15,  8.81s/it]\u001b[A\u001b[A"
          ]
        },
        {
          "output_type": "stream",
          "name": "stdout",
          "text": [
            "Appended result to Google Drive file: [362, 0.22807017543859653, 0.631578947368421, 0.47089947089947093, 0.36231884057971014, 0.0, 5.05050505050505]\n"
          ]
        },
        {
          "output_type": "stream",
          "name": "stderr",
          "text": [
            "\n",
            "\n",
            "Processing law dataset:  73%|███████▎  | 363/500 [1:09:40<21:20,  9.35s/it]\u001b[A\u001b[A"
          ]
        },
        {
          "output_type": "stream",
          "name": "stdout",
          "text": [
            "Appended result to Google Drive file: [363, 0.2142857142857143, 0.7380952380952381, 0.6909090909090909, 0.9104793344526975, 8.02139037433155, 1.6146393972012916]\n"
          ]
        },
        {
          "output_type": "stream",
          "name": "stderr",
          "text": [
            "\n",
            "\n",
            "Processing law dataset:  73%|███████▎  | 364/500 [1:09:50<21:56,  9.68s/it]\u001b[A\u001b[A"
          ]
        },
        {
          "output_type": "stream",
          "name": "stdout",
          "text": [
            "Appended result to Google Drive file: [364, 0.33333333333333337, 1.303030303030303, 0.5638740344622698, 0.3512357758933102, 1.7751479289940826, 1.49402390438247]\n"
          ]
        },
        {
          "output_type": "stream",
          "name": "stderr",
          "text": [
            "\n",
            "\n",
            "Processing law dataset:  73%|███████▎  | 365/500 [1:10:00<22:08,  9.84s/it]\u001b[A\u001b[A"
          ]
        },
        {
          "output_type": "stream",
          "name": "stdout",
          "text": [
            "Appended result to Google Drive file: [365, 0.8205128205128205, 0.8461538461538461, 0.798800795680591, 1.0, 1.6666666666666667, 4.901960784313725]\n"
          ]
        },
        {
          "output_type": "stream",
          "name": "stderr",
          "text": [
            "\n",
            "\n",
            "Processing law dataset:  73%|███████▎  | 366/500 [1:10:10<22:05,  9.89s/it]\u001b[A\u001b[A"
          ]
        },
        {
          "output_type": "stream",
          "name": "stdout",
          "text": [
            "Appended result to Google Drive file: [366, 0.6190476190476191, 0.8571428571428572, 0.8859081097748999, 0.4567901234567901, 2.086230876216968, 3.048780487804878]\n"
          ]
        },
        {
          "output_type": "stream",
          "name": "stderr",
          "text": [
            "\n",
            "\n",
            "Processing law dataset:  73%|███████▎  | 367/500 [1:10:21<22:14, 10.03s/it]\u001b[A\u001b[A"
          ]
        },
        {
          "output_type": "stream",
          "name": "stdout",
          "text": [
            "Appended result to Google Drive file: [367, 0.5625, 0.9375, 0.6112080557900992, 0.3444444444444445, 1.834862385321101, 2.6178010471204183]\n"
          ]
        },
        {
          "output_type": "stream",
          "name": "stderr",
          "text": [
            "\n",
            "\n",
            "Processing law dataset:  74%|███████▎  | 368/500 [1:10:33<23:20, 10.61s/it]\u001b[A\u001b[A"
          ]
        },
        {
          "output_type": "stream",
          "name": "stdout",
          "text": [
            "Appended result to Google Drive file: [368, 0.5952380952380952, 1.1666666666666667, 0.7727449834404831, 0.36434921411676974, 1.5948963317384368, 1.680672268907563]\n"
          ]
        },
        {
          "output_type": "stream",
          "name": "stderr",
          "text": [
            "\n",
            "\n",
            "Processing law dataset:  74%|███████▍  | 369/500 [1:10:41<21:43,  9.95s/it]\u001b[A\u001b[A"
          ]
        },
        {
          "output_type": "stream",
          "name": "stdout",
          "text": [
            "Appended result to Google Drive file: [369, 0.0, 0.625, 0.7777777777777777, 0.7794326241134751, 11.538461538461538, 1.5957446808510638]\n"
          ]
        },
        {
          "output_type": "stream",
          "name": "stderr",
          "text": [
            "\n",
            "\n",
            "Processing law dataset:  74%|███████▍  | 370/500 [1:10:52<22:00, 10.16s/it]\u001b[A\u001b[A"
          ]
        },
        {
          "output_type": "stream",
          "name": "stdout",
          "text": [
            "Appended result to Google Drive file: [370, 0.4722222222222222, 0.9166666666666666, 0.8327783943766187, 0.05853726362625139, 1.7985611510791366, 1.8416206261510126]\n"
          ]
        },
        {
          "output_type": "stream",
          "name": "stderr",
          "text": [
            "\n",
            "\n",
            "Processing law dataset:  74%|███████▍  | 371/500 [1:11:06<24:05, 11.21s/it]\u001b[A\u001b[A"
          ]
        },
        {
          "output_type": "stream",
          "name": "stdout",
          "text": [
            "Appended result to Google Drive file: [371, 0.6274509803921569, 0.9411764705882353, 0.8308080808080808, 0.5238095238095237, 1.3914656771799627, 1.3333333333333335]\n"
          ]
        },
        {
          "output_type": "stream",
          "name": "stderr",
          "text": [
            "\n",
            "\n",
            "Processing law dataset:  74%|███████▍  | 372/500 [1:11:15<22:43, 10.65s/it]\u001b[A\u001b[A"
          ]
        },
        {
          "output_type": "stream",
          "name": "stdout",
          "text": [
            "Appended result to Google Drive file: [372, 0.6153846153846154, 0.8974358974358975, 0.8832327802916038, 0.5904761904761905, 1.5873015873015872, 3.640776699029126]\n"
          ]
        },
        {
          "output_type": "stream",
          "name": "stderr",
          "text": [
            "\n",
            "\n",
            "Processing law dataset:  75%|███████▍  | 373/500 [1:11:22<20:08,  9.51s/it]\u001b[A\u001b[A"
          ]
        },
        {
          "output_type": "stream",
          "name": "stdout",
          "text": [
            "Appended result to Google Drive file: [373, 0.18181818181818177, 0.36363636363636365, 0.8518518518518517, 0.4057971014492754, 10.204081632653063, 3.816793893129771]\n"
          ]
        },
        {
          "output_type": "stream",
          "name": "stderr",
          "text": [
            "\n",
            "\n",
            "Processing law dataset:  75%|███████▍  | 374/500 [1:11:31<19:34,  9.32s/it]\u001b[A\u001b[A"
          ]
        },
        {
          "output_type": "stream",
          "name": "stdout",
          "text": [
            "Appended result to Google Drive file: [374, 0.45833333333333337, 0.9791666666666666, 0.6428977272727273, 0.3555555555555556, 1.6483516483516485, 4.385964912280701]\n"
          ]
        },
        {
          "output_type": "stream",
          "name": "stderr",
          "text": [
            "\n",
            "\n",
            "Processing law dataset:  75%|███████▌  | 375/500 [1:11:39<18:39,  8.95s/it]\u001b[A\u001b[A"
          ]
        },
        {
          "output_type": "stream",
          "name": "stdout",
          "text": [
            "Appended result to Google Drive file: [375, 0.2222222222222222, 0.8333333333333334, 0.0, 0.7384920634920635, 3.289473684210526, 2.6455026455026456]\n"
          ]
        },
        {
          "output_type": "stream",
          "name": "stderr",
          "text": [
            "\n",
            "\n",
            "Processing law dataset:  75%|███████▌  | 376/500 [1:11:45<17:04,  8.26s/it]\u001b[A\u001b[A"
          ]
        },
        {
          "output_type": "stream",
          "name": "stdout",
          "text": [
            "Appended result to Google Drive file: [376, 0.0, 0.47619047619047616, 0.7676767676767677, 0.42857142857142855, 7.8125, 5.2264808362369335]\n"
          ]
        },
        {
          "output_type": "stream",
          "name": "stderr",
          "text": [
            "\n",
            "\n",
            "Processing law dataset:  75%|███████▌  | 377/500 [1:11:56<18:10,  8.86s/it]\u001b[A\u001b[A"
          ]
        },
        {
          "output_type": "stream",
          "name": "stdout",
          "text": [
            "Appended result to Google Drive file: [377, 0.6842105263157895, 0.42105263157894735, 0.7069513819513819, 0.401937984496124, 1.079913606911447, 2.4038461538461537]\n"
          ]
        },
        {
          "output_type": "stream",
          "name": "stderr",
          "text": [
            "\n",
            "\n",
            "Processing law dataset:  76%|███████▌  | 378/500 [1:12:02<16:40,  8.20s/it]\u001b[A\u001b[A"
          ]
        },
        {
          "output_type": "stream",
          "name": "stdout",
          "text": [
            "Appended result to Google Drive file: [378, 0.07692307692307687, 0.10256410256410253, 0.6666666666666666, 0.06666666666666667, 0.0, 11.111111111111112]\n"
          ]
        },
        {
          "output_type": "stream",
          "name": "stderr",
          "text": [
            "\n",
            "\n",
            "Processing law dataset:  76%|███████▌  | 379/500 [1:12:12<17:14,  8.55s/it]\u001b[A\u001b[A"
          ]
        },
        {
          "output_type": "stream",
          "name": "stdout",
          "text": [
            "Appended result to Google Drive file: [379, 0.6666666666666667, 1.4444444444444444, 0.6870748299319729, 0.5031058370936018, 2.5167785234899323, 2.130681818181818]\n"
          ]
        },
        {
          "output_type": "stream",
          "name": "stderr",
          "text": [
            "\n",
            "\n",
            "Processing law dataset:  76%|███████▌  | 380/500 [1:12:21<17:18,  8.65s/it]\u001b[A\u001b[A"
          ]
        },
        {
          "output_type": "stream",
          "name": "stdout",
          "text": [
            "Appended result to Google Drive file: [380, 0.7878787878787878, 0.5151515151515151, 0.691156462585034, 0.08976310478187825, 2.0080321285140568, 6.896551724137931]\n"
          ]
        },
        {
          "output_type": "stream",
          "name": "stderr",
          "text": [
            "\n",
            "\n",
            "Processing law dataset:  76%|███████▌  | 381/500 [1:12:31<18:19,  9.24s/it]\u001b[A\u001b[A"
          ]
        },
        {
          "output_type": "stream",
          "name": "stdout",
          "text": [
            "Appended result to Google Drive file: [381, 0.6666666666666667, 0.8888888888888888, 0.7189569398688896, 0.7542730299667036, 1.1627906976744184, 1.1668611435239205]\n"
          ]
        },
        {
          "output_type": "stream",
          "name": "stderr",
          "text": [
            "\n",
            "\n",
            "Processing law dataset:  76%|███████▋  | 382/500 [1:12:44<20:13, 10.29s/it]\u001b[A\u001b[A"
          ]
        },
        {
          "output_type": "stream",
          "name": "stdout",
          "text": [
            "Appended result to Google Drive file: [382, 0.5151515151515151, 1.0606060606060606, 0.848062015503876, 0.8739117125390523, 1.9329896907216493, 1.7985611510791366]\n"
          ]
        },
        {
          "output_type": "stream",
          "name": "stderr",
          "text": [
            "\n",
            "\n",
            "Processing law dataset:  77%|███████▋  | 383/500 [1:12:57<21:28, 11.01s/it]\u001b[A\u001b[A"
          ]
        },
        {
          "output_type": "stream",
          "name": "stdout",
          "text": [
            "Appended result to Google Drive file: [383, 0.4666666666666667, 0.8, 0.7714771141575857, 0.7981558671213843, 1.6611295681063125, 1.646542261251372]\n"
          ]
        },
        {
          "output_type": "stream",
          "name": "stderr",
          "text": [
            "\n",
            "\n",
            "Processing law dataset:  77%|███████▋  | 384/500 [1:13:07<21:08, 10.93s/it]\u001b[A\u001b[A"
          ]
        },
        {
          "output_type": "stream",
          "name": "stdout",
          "text": [
            "Appended result to Google Drive file: [384, 0.43333333333333335, 0.7666666666666666, 0.7212646652864043, 0.38888888888888884, 1.9607843137254901, 2.5684931506849313]\n"
          ]
        },
        {
          "output_type": "stream",
          "name": "stderr",
          "text": [
            "\n",
            "\n",
            "Processing law dataset:  77%|███████▋  | 385/500 [1:13:15<19:12, 10.02s/it]\u001b[A\u001b[A"
          ]
        },
        {
          "output_type": "stream",
          "name": "stdout",
          "text": [
            "Appended result to Google Drive file: [385, 0.4444444444444444, 1.0, 0.1092156862745098, 0.9444444444444443, 4.1208791208791204, 4.983388704318937]\n"
          ]
        },
        {
          "output_type": "stream",
          "name": "stderr",
          "text": [
            "\n",
            "\n",
            "Processing law dataset:  77%|███████▋  | 386/500 [1:13:26<19:25, 10.22s/it]\u001b[A\u001b[A"
          ]
        },
        {
          "output_type": "stream",
          "name": "stdout",
          "text": [
            "Appended result to Google Drive file: [386, 0.11111111111111116, 0.7333333333333334, 0.6666666666666666, 0.8696329813976873, 9.615384615384615, 1.6816143497757845]\n"
          ]
        },
        {
          "output_type": "stream",
          "name": "stderr",
          "text": [
            "\n",
            "\n",
            "Processing law dataset:  77%|███████▋  | 387/500 [1:13:37<19:29, 10.35s/it]\u001b[A\u001b[A"
          ]
        },
        {
          "output_type": "stream",
          "name": "stdout",
          "text": [
            "Appended result to Google Drive file: [387, 0.9285714285714286, 1.0, 0.7987741073440869, 1.0, 1.440922190201729, 2.525252525252525]\n"
          ]
        },
        {
          "output_type": "stream",
          "name": "stderr",
          "text": [
            "\n",
            "\n",
            "Processing law dataset:  78%|███████▊  | 388/500 [1:13:48<19:58, 10.70s/it]\u001b[A\u001b[A"
          ]
        },
        {
          "output_type": "stream",
          "name": "stdout",
          "text": [
            "Appended result to Google Drive file: [388, 0.6851851851851851, 0.8703703703703703, 0.6867283950617283, 0.68612623512805, 0.8635578583765112, 0.8278145695364238]\n"
          ]
        },
        {
          "output_type": "stream",
          "name": "stderr",
          "text": [
            "\n",
            "\n",
            "Processing law dataset:  78%|███████▊  | 389/500 [1:13:55<17:57,  9.71s/it]\u001b[A\u001b[A"
          ]
        },
        {
          "output_type": "stream",
          "name": "stdout",
          "text": [
            "Appended result to Google Drive file: [389, 0.2142857142857143, 0.2142857142857143, 0.8974358974358975, 0.9444444444444443, 4.792332268370606, 4.838709677419355]\n"
          ]
        },
        {
          "output_type": "stream",
          "name": "stderr",
          "text": [
            "\n",
            "\n",
            "Processing law dataset:  78%|███████▊  | 390/500 [1:14:05<17:37,  9.62s/it]\u001b[A\u001b[A"
          ]
        },
        {
          "output_type": "stream",
          "name": "stdout",
          "text": [
            "Appended result to Google Drive file: [390, 0.5111111111111111, 0.8, 0.8775, 0.4133333333333334, 1.9305019305019304, 4.021447721179626]\n"
          ]
        },
        {
          "output_type": "stream",
          "name": "stderr",
          "text": [
            "\n",
            "\n",
            "Processing law dataset:  78%|███████▊  | 391/500 [1:14:14<17:24,  9.58s/it]\u001b[A\u001b[A"
          ]
        },
        {
          "output_type": "stream",
          "name": "stdout",
          "text": [
            "Appended result to Google Drive file: [391, 0.6111111111111112, 0.8055555555555556, 0.7777957336780865, 0.4833822091886608, 1.513622603430878, 1.824817518248175]\n"
          ]
        },
        {
          "output_type": "stream",
          "name": "stderr",
          "text": [
            "\n",
            "\n",
            "Processing law dataset:  78%|███████▊  | 392/500 [1:14:24<17:14,  9.58s/it]\u001b[A\u001b[A"
          ]
        },
        {
          "output_type": "stream",
          "name": "stdout",
          "text": [
            "Appended result to Google Drive file: [392, 0.3555555555555555, 1.2222222222222223, 0.3665206195472539, 0.22249124746637183, 2.976190476190476, 1.697792869269949]\n"
          ]
        },
        {
          "output_type": "stream",
          "name": "stderr",
          "text": [
            "\n",
            "\n",
            "Processing law dataset:  79%|███████▊  | 393/500 [1:14:41<21:05, 11.82s/it]\u001b[A\u001b[A"
          ]
        },
        {
          "output_type": "stream",
          "name": "stdout",
          "text": [
            "Appended result to Google Drive file: [393, 0.0714285714285714, 0.7857142857142857, 0.7777777777777777, 0.8753697131026325, 14.851485148514854, 1.8270401948842874]\n"
          ]
        },
        {
          "output_type": "stream",
          "name": "stderr",
          "text": [
            "\n",
            "\n",
            "Processing law dataset:  79%|███████▉  | 394/500 [1:14:49<18:50, 10.66s/it]\u001b[A\u001b[A"
          ]
        },
        {
          "output_type": "stream",
          "name": "stdout",
          "text": [
            "Appended result to Google Drive file: [394, 0.23076923076923073, 0.7692307692307692, 0.4707482993197279, 0.07660455486542443, 5.235602094240837, 4.62962962962963]\n"
          ]
        },
        {
          "output_type": "stream",
          "name": "stderr",
          "text": [
            "\n",
            "\n",
            "Processing law dataset:  79%|███████▉  | 395/500 [1:14:59<18:24, 10.52s/it]\u001b[A\u001b[A"
          ]
        },
        {
          "output_type": "stream",
          "name": "stdout",
          "text": [
            "Appended result to Google Drive file: [395, 0.18518518518518523, 0.9259259259259259, 0.8095238095238094, 0.25396825396825395, 6.329113924050633, 3.0487804878048785]\n"
          ]
        },
        {
          "output_type": "stream",
          "name": "stderr",
          "text": [
            "\n",
            "\n",
            "Processing law dataset:  79%|███████▉  | 396/500 [1:15:08<17:32, 10.12s/it]\u001b[A\u001b[A"
          ]
        },
        {
          "output_type": "stream",
          "name": "stdout",
          "text": [
            "Appended result to Google Drive file: [396, 0.3589743589743589, 0.23076923076923073, 0.6388888888888888, 0.43703703703703706, 1.6853932584269662, 0.0]\n"
          ]
        },
        {
          "output_type": "stream",
          "name": "stderr",
          "text": [
            "\n",
            "\n",
            "Processing law dataset:  79%|███████▉  | 397/500 [1:15:19<17:30, 10.20s/it]\u001b[A\u001b[A"
          ]
        },
        {
          "output_type": "stream",
          "name": "stdout",
          "text": [
            "Appended result to Google Drive file: [397, 0.4833333333333333, 1.0333333333333334, 0.6042328042328042, 0.14545454545454545, 2.100840336134454, 1.3679890560875514]\n"
          ]
        },
        {
          "output_type": "stream",
          "name": "stderr",
          "text": [
            "\n",
            "\n",
            "Processing law dataset:  80%|███████▉  | 398/500 [1:15:28<16:43,  9.84s/it]\u001b[A\u001b[A"
          ]
        },
        {
          "output_type": "stream",
          "name": "stdout",
          "text": [
            "Appended result to Google Drive file: [398, 0.2222222222222222, 1.0, 0.3476384264397583, 1.0, 2.1582733812949644, 2.777777777777778]\n"
          ]
        },
        {
          "output_type": "stream",
          "name": "stderr",
          "text": [
            "\n",
            "\n",
            "Processing law dataset:  80%|███████▉  | 399/500 [1:15:39<17:11, 10.22s/it]\u001b[A\u001b[A"
          ]
        },
        {
          "output_type": "stream",
          "name": "stdout",
          "text": [
            "Appended result to Google Drive file: [399, 0.40476190476190477, 1.1904761904761905, 0.6540589825819029, 0.4461538461538462, 1.7281105990783407, 2.100840336134454]\n"
          ]
        },
        {
          "output_type": "stream",
          "name": "stderr",
          "text": [
            "\n",
            "\n",
            "Processing law dataset:  80%|████████  | 400/500 [1:15:48<16:45, 10.05s/it]\u001b[A\u001b[A"
          ]
        },
        {
          "output_type": "stream",
          "name": "stdout",
          "text": [
            "Appended result to Google Drive file: [400, 0.47058823529411764, 1.0, 0.7046584227435292, 1.0, 1.8159806295399514, 0.0]\n"
          ]
        },
        {
          "output_type": "stream",
          "name": "stderr",
          "text": [
            "\n",
            "\n",
            "Processing law dataset:  80%|████████  | 401/500 [1:15:59<16:50, 10.21s/it]\u001b[A\u001b[A"
          ]
        },
        {
          "output_type": "stream",
          "name": "stdout",
          "text": [
            "Appended result to Google Drive file: [401, 0.41666666666666663, 0.6527777777777778, 0.7203014539148992, 0.7930769230769231, 0.946969696969697, 0.7836990595611284]\n"
          ]
        },
        {
          "output_type": "stream",
          "name": "stderr",
          "text": [
            "\n",
            "\n",
            "Processing law dataset:  80%|████████  | 402/500 [1:16:11<17:36, 10.78s/it]\u001b[A\u001b[A"
          ]
        },
        {
          "output_type": "stream",
          "name": "stdout",
          "text": [
            "Appended result to Google Drive file: [402, 0.2857142857142857, 0.9761904761904762, 0.8768424036281179, 0.88341384863124, 1.9633507853403138, 1.8382352941176467]\n"
          ]
        },
        {
          "output_type": "stream",
          "name": "stderr",
          "text": [
            "\n",
            "\n",
            "Processing law dataset:  81%|████████  | 403/500 [1:16:19<16:11, 10.02s/it]\u001b[A\u001b[A"
          ]
        },
        {
          "output_type": "stream",
          "name": "stdout",
          "text": [
            "Appended result to Google Drive file: [403, 0.06060606060606055, 1.0, 0.3148148148148148, 0.25492083868207105, 5.813953488372093, 1.1210762331838564]\n"
          ]
        },
        {
          "output_type": "stream",
          "name": "stderr",
          "text": [
            "\n",
            "\n",
            "Processing law dataset:  81%|████████  | 404/500 [1:16:29<16:01, 10.02s/it]\u001b[A\u001b[A"
          ]
        },
        {
          "output_type": "stream",
          "name": "stdout",
          "text": [
            "Appended result to Google Drive file: [404, 0.41025641025641024, 0.6923076923076923, 0.741022383160748, 0.9578900709219859, 1.7857142857142856, 1.7899761336515516]\n"
          ]
        },
        {
          "output_type": "stream",
          "name": "stderr",
          "text": [
            "\n",
            "\n",
            "Processing law dataset:  81%|████████  | 405/500 [1:16:39<15:43,  9.93s/it]\u001b[A\u001b[A"
          ]
        },
        {
          "output_type": "stream",
          "name": "stdout",
          "text": [
            "Appended result to Google Drive file: [405, 0.22916666666666663, 0.75, 0.5492063492063491, 0.9114564064619559, 3.8659793814432986, 1.6025641025641029]\n"
          ]
        },
        {
          "output_type": "stream",
          "name": "stderr",
          "text": [
            "\n",
            "\n",
            "Processing law dataset:  81%|████████  | 406/500 [1:16:48<14:50,  9.48s/it]\u001b[A\u001b[A"
          ]
        },
        {
          "output_type": "stream",
          "name": "stdout",
          "text": [
            "Appended result to Google Drive file: [406, 0.16666666666666663, 0.8333333333333334, 0.4057971014492754, 0.43209876543209874, 3.436426116838488, 2.232142857142857]\n"
          ]
        },
        {
          "output_type": "stream",
          "name": "stderr",
          "text": [
            "\n",
            "\n",
            "Processing law dataset:  81%|████████▏ | 407/500 [1:16:57<14:27,  9.33s/it]\u001b[A\u001b[A"
          ]
        },
        {
          "output_type": "stream",
          "name": "stdout",
          "text": [
            "Appended result to Google Drive file: [407, 0.6666666666666667, 0.6944444444444444, 0.6418632788868724, 0.2983032293377121, 1.607717041800643, 3.7037037037037033]\n"
          ]
        },
        {
          "output_type": "stream",
          "name": "stderr",
          "text": [
            "\n",
            "\n",
            "Processing law dataset:  82%|████████▏ | 408/500 [1:17:05<13:41,  8.93s/it]\u001b[A\u001b[A"
          ]
        },
        {
          "output_type": "stream",
          "name": "stdout",
          "text": [
            "Appended result to Google Drive file: [408, 0.11111111111111116, 0.8333333333333334, 0.20324074074074072, 0.6559139784946236, 3.440366972477064, 2.6315789473684217]\n"
          ]
        },
        {
          "output_type": "stream",
          "name": "stderr",
          "text": [
            "\n",
            "\n",
            "Processing law dataset:  82%|████████▏ | 409/500 [1:17:13<13:28,  8.89s/it]\u001b[A\u001b[A"
          ]
        },
        {
          "output_type": "stream",
          "name": "stdout",
          "text": [
            "Appended result to Google Drive file: [409, 0.8484848484848485, 0.9090909090909091, 0.712490551776266, 1.0, 1.7543859649122806, 2.4271844660194177]\n"
          ]
        },
        {
          "output_type": "stream",
          "name": "stderr",
          "text": [
            "\n",
            "\n",
            "Processing law dataset:  82%|████████▏ | 410/500 [1:17:23<13:38,  9.09s/it]\u001b[A\u001b[A"
          ]
        },
        {
          "output_type": "stream",
          "name": "stdout",
          "text": [
            "Appended result to Google Drive file: [410, 0.7333333333333334, 0.7555555555555555, 0.7947236949932367, 0.23410160354515966, 1.7452006980802788, 0.0]\n"
          ]
        },
        {
          "output_type": "stream",
          "name": "stderr",
          "text": [
            "\n",
            "\n",
            "Processing law dataset:  82%|████████▏ | 411/500 [1:17:34<14:24,  9.72s/it]\u001b[A\u001b[A"
          ]
        },
        {
          "output_type": "stream",
          "name": "stdout",
          "text": [
            "Appended result to Google Drive file: [411, 0.6507936507936508, 0.8571428571428572, 0.6458126448195961, 0.43540540540540534, 1.594048884165781, 2.6929982046678638]\n"
          ]
        },
        {
          "output_type": "stream",
          "name": "stderr",
          "text": [
            "\n",
            "\n",
            "Processing law dataset:  82%|████████▏ | 412/500 [1:17:44<14:19,  9.77s/it]\u001b[A\u001b[A"
          ]
        },
        {
          "output_type": "stream",
          "name": "stdout",
          "text": [
            "Appended result to Google Drive file: [412, 0.6875, 0.8125, 0.9824561403508772, 0.4545454545454546, 1.7857142857142856, 4.0650406504065035]\n"
          ]
        },
        {
          "output_type": "stream",
          "name": "stderr",
          "text": [
            "\n",
            "\n",
            "Processing law dataset:  83%|████████▎ | 413/500 [1:17:52<13:19,  9.19s/it]\u001b[A\u001b[A"
          ]
        },
        {
          "output_type": "stream",
          "name": "stdout",
          "text": [
            "Appended result to Google Drive file: [413, 0.2666666666666667, 0.4, 0.5089443184681279, 0.37777777777777777, 2.487562189054726, 5.952380952380952]\n"
          ]
        },
        {
          "output_type": "stream",
          "name": "stderr",
          "text": [
            "\n",
            "\n",
            "Processing law dataset:  83%|████████▎ | 414/500 [1:18:01<13:14,  9.24s/it]\u001b[A\u001b[A"
          ]
        },
        {
          "output_type": "stream",
          "name": "stdout",
          "text": [
            "Appended result to Google Drive file: [414, 0.7142857142857143, 0.9285714285714286, 0.7406193078324227, 0.35802469135802467, 1.5290519877675843, 3.7688442211055273]\n"
          ]
        },
        {
          "output_type": "stream",
          "name": "stderr",
          "text": [
            "\n",
            "\n",
            "Processing law dataset:  83%|████████▎ | 415/500 [1:18:20<16:57, 11.97s/it]\u001b[A\u001b[A"
          ]
        },
        {
          "output_type": "stream",
          "name": "stdout",
          "text": [
            "Appended result to Google Drive file: [415, 0.6944444444444444, 0.9166666666666666, 0.8221867612293144, 1.0, 1.726121979286536, 3.921568627450981]\n"
          ]
        },
        {
          "output_type": "stream",
          "name": "stderr",
          "text": [
            "\n",
            "\n",
            "Processing law dataset:  83%|████████▎ | 416/500 [1:18:31<16:30, 11.79s/it]\u001b[A\u001b[A"
          ]
        },
        {
          "output_type": "stream",
          "name": "stdout",
          "text": [
            "Appended result to Google Drive file: [416, 0.4444444444444444, 0.7407407407407407, 0.7941157607824274, 0.6397660818713451, 1.6304347826086956, 1.6163793103448276]\n"
          ]
        },
        {
          "output_type": "stream",
          "name": "stderr",
          "text": [
            "\n",
            "\n",
            "Processing law dataset:  83%|████████▎ | 417/500 [1:18:40<15:00, 10.85s/it]\u001b[A\u001b[A"
          ]
        },
        {
          "output_type": "stream",
          "name": "stdout",
          "text": [
            "Appended result to Google Drive file: [417, 1.0, 0.875, 0.9295084284099085, 1.0, 1.8450184501845017, 7.142857142857144]\n"
          ]
        },
        {
          "output_type": "stream",
          "name": "stderr",
          "text": [
            "\n",
            "\n",
            "Processing law dataset:  84%|████████▎ | 418/500 [1:18:50<14:37, 10.70s/it]\u001b[A\u001b[A"
          ]
        },
        {
          "output_type": "stream",
          "name": "stdout",
          "text": [
            "Appended result to Google Drive file: [418, 0.4242424242424242, 1.0303030303030303, 0.7033637284701114, 0.3854166666666667, 0.7776049766718507, 2.976190476190476]\n"
          ]
        },
        {
          "output_type": "stream",
          "name": "stderr",
          "text": [
            "\n",
            "\n",
            "Processing law dataset:  84%|████████▍ | 419/500 [1:18:58<13:16,  9.84s/it]\u001b[A\u001b[A"
          ]
        },
        {
          "output_type": "stream",
          "name": "stdout",
          "text": [
            "Appended result to Google Drive file: [419, 0.02564102564102566, 0.5641025641025641, 0.7321428571428572, 0.333604826546003, 11.494252873563218, 1.3812154696132597]\n"
          ]
        },
        {
          "output_type": "stream",
          "name": "stderr",
          "text": [
            "\n",
            "\n",
            "Processing law dataset:  84%|████████▍ | 420/500 [1:19:08<13:17,  9.96s/it]\u001b[A\u001b[A"
          ]
        },
        {
          "output_type": "stream",
          "name": "stdout",
          "text": [
            "Appended result to Google Drive file: [420, 0.7222222222222222, 0.8055555555555556, 0.8113207547169811, 0.42212356640769516, 1.865671641791045, 1.21654501216545]\n"
          ]
        },
        {
          "output_type": "stream",
          "name": "stderr",
          "text": [
            "\n",
            "\n",
            "Processing law dataset:  84%|████████▍ | 421/500 [1:19:15<11:56,  9.07s/it]\u001b[A\u001b[A"
          ]
        },
        {
          "output_type": "stream",
          "name": "stdout",
          "text": [
            "Appended result to Google Drive file: [421, 0.2857142857142857, 0.7142857142857143, 0.7435897435897436, 0.43480725623582767, 7.211538461538461, 3.6764705882352944]\n"
          ]
        },
        {
          "output_type": "stream",
          "name": "stderr",
          "text": [
            "\n",
            "\n",
            "Processing law dataset:  84%|████████▍ | 422/500 [1:19:23<11:15,  8.66s/it]\u001b[A\u001b[A"
          ]
        },
        {
          "output_type": "stream",
          "name": "stdout",
          "text": [
            "Appended result to Google Drive file: [422, 0.3076923076923077, 0.41025641025641024, 1.0, 0.6337301587301587, 5.4945054945054945, 5.4945054945054945]\n"
          ]
        },
        {
          "output_type": "stream",
          "name": "stderr",
          "text": [
            "\n",
            "\n",
            "Processing law dataset:  85%|████████▍ | 423/500 [1:19:31<11:05,  8.64s/it]\u001b[A\u001b[A"
          ]
        },
        {
          "output_type": "stream",
          "name": "stdout",
          "text": [
            "Appended result to Google Drive file: [423, 0.19047619047619047, 0.8571428571428572, 0.6963423050379571, 1.0, 2.3980815347721824, 1.4245014245014245]\n"
          ]
        },
        {
          "output_type": "stream",
          "name": "stderr",
          "text": [
            "\n",
            "\n",
            "Processing law dataset:  85%|████████▍ | 424/500 [1:19:41<11:21,  8.96s/it]\u001b[A\u001b[A"
          ]
        },
        {
          "output_type": "stream",
          "name": "stdout",
          "text": [
            "Appended result to Google Drive file: [424, 0.3939393939393939, 0.8787878787878788, 0.6206334522708251, 0.2829719963866305, 1.8518518518518514, 2.493765586034913]\n"
          ]
        },
        {
          "output_type": "stream",
          "name": "stderr",
          "text": [
            "\n",
            "\n",
            "Processing law dataset:  85%|████████▌ | 425/500 [1:19:51<11:33,  9.25s/it]\u001b[A\u001b[A"
          ]
        },
        {
          "output_type": "stream",
          "name": "stdout",
          "text": [
            "Appended result to Google Drive file: [425, 0.5555555555555556, 0.7777777777777778, 0.8494274019880489, 0.8727044025157232, 1.5384615384615383, 1.5608740894901145]\n"
          ]
        },
        {
          "output_type": "stream",
          "name": "stderr",
          "text": [
            "\n",
            "\n",
            "Processing law dataset:  85%|████████▌ | 426/500 [1:20:03<12:19, 10.00s/it]\u001b[A\u001b[A"
          ]
        },
        {
          "output_type": "stream",
          "name": "stdout",
          "text": [
            "Appended result to Google Drive file: [426, 0.5833333333333333, 0.6111111111111112, 0.8363403263403263, 0.6840175361361802, 1.4814814814814816, 2.106741573033708]\n"
          ]
        },
        {
          "output_type": "stream",
          "name": "stderr",
          "text": [
            "\n",
            "\n",
            "Processing law dataset:  85%|████████▌ | 427/500 [1:20:15<12:56, 10.64s/it]\u001b[A\u001b[A"
          ]
        },
        {
          "output_type": "stream",
          "name": "stdout",
          "text": [
            "Appended result to Google Drive file: [427, 0.6, 1.7111111111111112, 0.8089381839692399, 0.8373541720677012, 1.8633540372670807, 1.1389521640091116]\n"
          ]
        },
        {
          "output_type": "stream",
          "name": "stderr",
          "text": [
            "\n",
            "\n",
            "Processing law dataset:  86%|████████▌ | 428/500 [1:20:26<12:54, 10.76s/it]\u001b[A\u001b[A"
          ]
        },
        {
          "output_type": "stream",
          "name": "stdout",
          "text": [
            "Appended result to Google Drive file: [428, 0.7916666666666666, 0.7083333333333333, 0.8186868686868687, 0.5265942634363687, 2.1994134897360706, 2.857142857142857]\n"
          ]
        },
        {
          "output_type": "stream",
          "name": "stderr",
          "text": [
            "\n",
            "\n",
            "Processing law dataset:  86%|████████▌ | 429/500 [1:20:36<12:26, 10.52s/it]\u001b[A\u001b[A"
          ]
        },
        {
          "output_type": "stream",
          "name": "stdout",
          "text": [
            "Appended result to Google Drive file: [429, 0.08333333333333337, 0.2777777777777778, 0.8518518518518517, 0.7027474346242967, 9.316770186335404, 1.60427807486631]\n"
          ]
        },
        {
          "output_type": "stream",
          "name": "stderr",
          "text": [
            "\n",
            "\n",
            "Processing law dataset:  86%|████████▌ | 430/500 [1:20:44<11:37,  9.97s/it]\u001b[A\u001b[A"
          ]
        },
        {
          "output_type": "stream",
          "name": "stdout",
          "text": [
            "Appended result to Google Drive file: [430, 0.1428571428571429, 0.8333333333333334, 0.9444444444444443, 0.8004546371152542, 7.462686567164178, 1.400560224089636]\n"
          ]
        },
        {
          "output_type": "stream",
          "name": "stderr",
          "text": [
            "\n",
            "\n",
            "Processing law dataset:  86%|████████▌ | 431/500 [1:20:54<11:08,  9.69s/it]\u001b[A\u001b[A"
          ]
        },
        {
          "output_type": "stream",
          "name": "stdout",
          "text": [
            "Appended result to Google Drive file: [431, 0.19999999999999996, 0.8666666666666667, 0.607890499194847, 0.8257288731095276, 4.716981132075471, 1.8472906403940887]\n"
          ]
        },
        {
          "output_type": "stream",
          "name": "stderr",
          "text": [
            "\n",
            "\n",
            "Processing law dataset:  86%|████████▋ | 432/500 [1:21:06<11:49, 10.43s/it]\u001b[A\u001b[A"
          ]
        },
        {
          "output_type": "stream",
          "name": "stdout",
          "text": [
            "Appended result to Google Drive file: [432, 0.8181818181818181, 0.8636363636363636, 0.7573440723807253, 0.638634713144517, 1.5259409969481177, 1.5090543259557343]\n"
          ]
        },
        {
          "output_type": "stream",
          "name": "stderr",
          "text": [
            "\n",
            "\n",
            "Processing law dataset:  87%|████████▋ | 433/500 [1:21:16<11:36, 10.39s/it]\u001b[A\u001b[A"
          ]
        },
        {
          "output_type": "stream",
          "name": "stdout",
          "text": [
            "Appended result to Google Drive file: [433, 0.3939393939393939, 1.0606060606060606, 0.8377330646138258, 0.7362573099415205, 1.9157088122605366, 0.0]\n"
          ]
        },
        {
          "output_type": "stream",
          "name": "stderr",
          "text": [
            "\n",
            "\n",
            "Processing law dataset:  87%|████████▋ | 434/500 [1:21:26<11:25, 10.39s/it]\u001b[A\u001b[A"
          ]
        },
        {
          "output_type": "stream",
          "name": "stdout",
          "text": [
            "Appended result to Google Drive file: [434, 0.48484848484848486, 0.6515151515151515, 0.7870108043217288, 0.23456790123456792, 1.3831258644536653, 0.9398496240601504]\n"
          ]
        },
        {
          "output_type": "stream",
          "name": "stderr",
          "text": [
            "\n",
            "\n",
            "Processing law dataset:  87%|████████▋ | 435/500 [1:21:39<11:57, 11.04s/it]\u001b[A\u001b[A"
          ]
        },
        {
          "output_type": "stream",
          "name": "stdout",
          "text": [
            "Appended result to Google Drive file: [435, 0.5217391304347826, 1.318840579710145, 0.7163346847640871, 0.21035639412997906, 1.5321756894790601, 1.5321756894790601]\n"
          ]
        },
        {
          "output_type": "stream",
          "name": "stderr",
          "text": [
            "\n",
            "\n",
            "Processing law dataset:  87%|████████▋ | 436/500 [1:21:49<11:23, 10.68s/it]\u001b[A\u001b[A"
          ]
        },
        {
          "output_type": "stream",
          "name": "stdout",
          "text": [
            "Appended result to Google Drive file: [436, 0.4, 0.8666666666666667, 0.8176749344625932, 0.4481768590295722, 1.6181229773462782, 2.4330900243309]\n"
          ]
        },
        {
          "output_type": "stream",
          "name": "stderr",
          "text": [
            "\n",
            "\n",
            "Processing law dataset:  87%|████████▋ | 437/500 [1:21:58<10:48, 10.29s/it]\u001b[A\u001b[A"
          ]
        },
        {
          "output_type": "stream",
          "name": "stdout",
          "text": [
            "Appended result to Google Drive file: [437, 0.40476190476190477, 0.9047619047619048, 0.6709237633089816, 0.52, 0.7923930269413629, 1.893939393939394]\n"
          ]
        },
        {
          "output_type": "stream",
          "name": "stderr",
          "text": [
            "\n",
            "\n",
            "Processing law dataset:  88%|████████▊ | 438/500 [1:22:10<11:14, 10.88s/it]\u001b[A\u001b[A"
          ]
        },
        {
          "output_type": "stream",
          "name": "stdout",
          "text": [
            "Appended result to Google Drive file: [438, 0.3921568627450981, 1.0980392156862746, 0.8454719039825423, 0.3449737472390755, 1.644736842105263, 1.2831479897348164]\n"
          ]
        },
        {
          "output_type": "stream",
          "name": "stderr",
          "text": [
            "\n",
            "\n",
            "Processing law dataset:  88%|████████▊ | 439/500 [1:22:22<11:24, 11.22s/it]\u001b[A\u001b[A"
          ]
        },
        {
          "output_type": "stream",
          "name": "stdout",
          "text": [
            "Appended result to Google Drive file: [439, 0.4444444444444444, 0.5833333333333333, 0.7919888753222087, 0.70148437526702, 1.0193679918450562, 1.0193679918450562]\n"
          ]
        },
        {
          "output_type": "stream",
          "name": "stderr",
          "text": [
            "\n",
            "\n",
            "Processing law dataset:  88%|████████▊ | 440/500 [1:22:31<10:26, 10.45s/it]\u001b[A\u001b[A"
          ]
        },
        {
          "output_type": "stream",
          "name": "stdout",
          "text": [
            "Appended result to Google Drive file: [440, 0.5454545454545454, 0.696969696969697, 0.8476112076036088, 0.19620164781455104, 1.7793594306049825, 4.615384615384615]\n"
          ]
        },
        {
          "output_type": "stream",
          "name": "stderr",
          "text": [
            "\n",
            "\n",
            "Processing law dataset:  88%|████████▊ | 441/500 [1:22:41<10:07, 10.29s/it]\u001b[A\u001b[A"
          ]
        },
        {
          "output_type": "stream",
          "name": "stdout",
          "text": [
            "Appended result to Google Drive file: [441, 0.6666666666666667, 0.7777777777777778, 0.78585990023856, 0.31801801801801804, 0.9182736455463729, 3.1779661016949152]\n"
          ]
        },
        {
          "output_type": "stream",
          "name": "stderr",
          "text": [
            "\n",
            "\n",
            "Processing law dataset:  88%|████████▊ | 442/500 [1:22:50<09:39,  9.99s/it]\u001b[A\u001b[A"
          ]
        },
        {
          "output_type": "stream",
          "name": "stdout",
          "text": [
            "Appended result to Google Drive file: [442, 0.7111111111111111, 0.9333333333333333, 0.8652777777777777, 1.0, 1.7221584385763489, 3.03030303030303]\n"
          ]
        },
        {
          "output_type": "stream",
          "name": "stderr",
          "text": [
            "\n",
            "\n",
            "Processing law dataset:  89%|████████▊ | 443/500 [1:22:58<08:47,  9.25s/it]\u001b[A\u001b[A"
          ]
        },
        {
          "output_type": "stream",
          "name": "stdout",
          "text": [
            "Appended result to Google Drive file: [443, 0.08333333333333337, 0.6666666666666667, 1.0, 0.08910654562828475, 20.833333333333332, 2.0533880903490758]\n"
          ]
        },
        {
          "output_type": "stream",
          "name": "stderr",
          "text": [
            "\n",
            "\n",
            "Processing law dataset:  89%|████████▉ | 444/500 [1:23:10<09:19,  9.99s/it]\u001b[A\u001b[A"
          ]
        },
        {
          "output_type": "stream",
          "name": "stdout",
          "text": [
            "Appended result to Google Drive file: [444, 0.4444444444444444, 0.7037037037037037, 0.6405139420448333, 0.8438903863432166, 2.1276595744680846, 2.100840336134454]\n"
          ]
        },
        {
          "output_type": "stream",
          "name": "stderr",
          "text": [
            "\n",
            "\n",
            "Processing law dataset:  89%|████████▉ | 445/500 [1:23:19<09:03,  9.87s/it]\u001b[A\u001b[A"
          ]
        },
        {
          "output_type": "stream",
          "name": "stdout",
          "text": [
            "Appended result to Google Drive file: [445, 0.6333333333333333, 0.8666666666666667, 0.8019644876143488, 0.8089381839692399, 1.8484288354898337, 1.824817518248175]\n"
          ]
        },
        {
          "output_type": "stream",
          "name": "stderr",
          "text": [
            "\n",
            "\n",
            "Processing law dataset:  89%|████████▉ | 446/500 [1:23:29<08:52,  9.87s/it]\u001b[A\u001b[A"
          ]
        },
        {
          "output_type": "stream",
          "name": "stdout",
          "text": [
            "Appended result to Google Drive file: [446, 0.4444444444444444, 0.7555555555555555, 0.8053041729512319, 0.0, 0.8591065292096219, 1.1111111111111114]\n"
          ]
        },
        {
          "output_type": "stream",
          "name": "stderr",
          "text": [
            "\n",
            "\n",
            "Processing law dataset:  89%|████████▉ | 447/500 [1:23:38<08:26,  9.56s/it]\u001b[A\u001b[A"
          ]
        },
        {
          "output_type": "stream",
          "name": "stdout",
          "text": [
            "Appended result to Google Drive file: [447, 0.08333333333333337, 0.5833333333333333, 0.44841269841269843, 0.7838448580467562, 8.064516129032258, 0.8116883116883118]\n"
          ]
        },
        {
          "output_type": "stream",
          "name": "stderr",
          "text": [
            "\n",
            "\n",
            "Processing law dataset:  90%|████████▉ | 448/500 [1:23:48<08:21,  9.65s/it]\u001b[A\u001b[A"
          ]
        },
        {
          "output_type": "stream",
          "name": "stdout",
          "text": [
            "Appended result to Google Drive file: [448, 0.55, 0.85, 0.7370715308272612, 0.28291536050156746, 1.70261066969353, 2.5684931506849313]\n"
          ]
        },
        {
          "output_type": "stream",
          "name": "stderr",
          "text": [
            "\n",
            "\n",
            "Processing law dataset:  90%|████████▉ | 449/500 [1:23:57<08:05,  9.51s/it]\u001b[A\u001b[A"
          ]
        },
        {
          "output_type": "stream",
          "name": "stdout",
          "text": [
            "Appended result to Google Drive file: [449, 0.6444444444444444, 0.4222222222222223, 0.8586755456899741, 0.5685820624546114, 1.6853932584269662, 2.403846153846154]\n"
          ]
        },
        {
          "output_type": "stream",
          "name": "stderr",
          "text": [
            "\n",
            "\n",
            "Processing law dataset:  90%|█████████ | 450/500 [1:24:08<08:20, 10.00s/it]\u001b[A\u001b[A"
          ]
        },
        {
          "output_type": "stream",
          "name": "stdout",
          "text": [
            "Appended result to Google Drive file: [450, 0.5714285714285714, 0.8095238095238095, 0.7519181585677749, 0.7653703703703704, 1.6949152542372885, 1.8315018315018312]\n"
          ]
        },
        {
          "output_type": "stream",
          "name": "stderr",
          "text": [
            "\n",
            "\n",
            "Processing law dataset:  90%|█████████ | 451/500 [1:24:19<08:21, 10.24s/it]\u001b[A\u001b[A"
          ]
        },
        {
          "output_type": "stream",
          "name": "stdout",
          "text": [
            "Appended result to Google Drive file: [451, 0.25, 1.0277777777777777, 0.7454545454545455, 0.7107597716293369, 9.316770186335404, 1.6251354279523293]\n"
          ]
        },
        {
          "output_type": "stream",
          "name": "stderr",
          "text": [
            "\n",
            "\n",
            "Processing law dataset:  90%|█████████ | 452/500 [1:24:30<08:26, 10.55s/it]\u001b[A\u001b[A"
          ]
        },
        {
          "output_type": "stream",
          "name": "stdout",
          "text": [
            "Appended result to Google Drive file: [452, 0.7083333333333333, 0.8541666666666666, 0.7686963979416811, 0.8065936945653926, 0.7507507507507508, 1.510574018126888]\n"
          ]
        },
        {
          "output_type": "stream",
          "name": "stderr",
          "text": [
            "\n",
            "\n",
            "Processing law dataset:  91%|█████████ | 453/500 [1:24:39<07:49,  9.98s/it]\u001b[A\u001b[A"
          ]
        },
        {
          "output_type": "stream",
          "name": "stdout",
          "text": [
            "Appended result to Google Drive file: [453, 0.33333333333333337, 0.6, 0.5036557371432487, 0.047619047619047616, 0.9363295880149813, 0.0]\n"
          ]
        },
        {
          "output_type": "stream",
          "name": "stderr",
          "text": [
            "\n",
            "\n",
            "Processing law dataset:  91%|█████████ | 454/500 [1:24:47<07:20,  9.57s/it]\u001b[A\u001b[A"
          ]
        },
        {
          "output_type": "stream",
          "name": "stdout",
          "text": [
            "Appended result to Google Drive file: [454, 0.6060606060606061, 0.48484848484848486, 0.5138888888888888, 0.6750617283950616, 2.7522935779816518, 3.64963503649635]\n"
          ]
        },
        {
          "output_type": "stream",
          "name": "stderr",
          "text": [
            "\n",
            "\n",
            "Processing law dataset:  91%|█████████ | 455/500 [1:24:58<07:26,  9.93s/it]\u001b[A\u001b[A"
          ]
        },
        {
          "output_type": "stream",
          "name": "stdout",
          "text": [
            "Appended result to Google Drive file: [455, 0.6666666666666667, 0.8205128205128205, 0.811388888888889, 0.6194763729246487, 1.599147121535181, 1.4851485148514851]\n"
          ]
        },
        {
          "output_type": "stream",
          "name": "stderr",
          "text": [
            "\n",
            "\n",
            "Processing law dataset:  91%|█████████ | 456/500 [1:25:08<07:11,  9.81s/it]\u001b[A\u001b[A"
          ]
        },
        {
          "output_type": "stream",
          "name": "stdout",
          "text": [
            "Appended result to Google Drive file: [456, 0.41666666666666663, 1.1111111111111112, 0.618840579710145, 0.5607542226173209, 2.164502164502165, 1.5906680805938496]\n"
          ]
        },
        {
          "output_type": "stream",
          "name": "stderr",
          "text": [
            "\n",
            "\n",
            "Processing law dataset:  91%|█████████▏| 457/500 [1:25:16<06:43,  9.39s/it]\u001b[A\u001b[A"
          ]
        },
        {
          "output_type": "stream",
          "name": "stdout",
          "text": [
            "Appended result to Google Drive file: [457, 0.28205128205128205, 0.9743589743589743, 0.3900709219858156, 0.8752279897466234, 4.672897196261681, 1.8337408312958436]\n"
          ]
        },
        {
          "output_type": "stream",
          "name": "stderr",
          "text": [
            "\n",
            "\n",
            "Processing law dataset:  92%|█████████▏| 458/500 [1:25:27<06:49,  9.74s/it]\u001b[A\u001b[A"
          ]
        },
        {
          "output_type": "stream",
          "name": "stdout",
          "text": [
            "Appended result to Google Drive file: [458, 0.5128205128205128, 0.7948717948717949, 0.8655332503371719, 0.923076923076923, 1.467710371819961, 2.669039145907474]\n"
          ]
        },
        {
          "output_type": "stream",
          "name": "stderr",
          "text": [
            "\n",
            "\n",
            "Processing law dataset:  92%|█████████▏| 459/500 [1:25:34<06:14,  9.13s/it]\u001b[A\u001b[A"
          ]
        },
        {
          "output_type": "stream",
          "name": "stdout",
          "text": [
            "Appended result to Google Drive file: [459, 0.15384615384615385, 0.717948717948718, 0.5384615384615384, 0.18793650793650796, 8.823529411764707, 4.761904761904762]\n"
          ]
        },
        {
          "output_type": "stream",
          "name": "stderr",
          "text": [
            "\n",
            "\n",
            "Processing law dataset:  92%|█████████▏| 460/500 [1:25:44<06:06,  9.16s/it]\u001b[A\u001b[A"
          ]
        },
        {
          "output_type": "stream",
          "name": "stdout",
          "text": [
            "Appended result to Google Drive file: [460, 0.33333333333333337, 0.7407407407407407, 0.6, 0.8726038133415561, 4.62962962962963, 1.0570824524312898]\n"
          ]
        },
        {
          "output_type": "stream",
          "name": "stderr",
          "text": [
            "\n",
            "\n",
            "Processing law dataset:  92%|█████████▏| 461/500 [1:25:55<06:23,  9.84s/it]\u001b[A\u001b[A"
          ]
        },
        {
          "output_type": "stream",
          "name": "stdout",
          "text": [
            "Appended result to Google Drive file: [461, 0.5098039215686274, 0.6862745098039216, 0.718926756782667, 0.724605371850838, 1.7605633802816902, 1.76678445229682]\n"
          ]
        },
        {
          "output_type": "stream",
          "name": "stderr",
          "text": [
            "\n",
            "\n",
            "Processing law dataset:  92%|█████████▏| 462/500 [1:26:04<06:02,  9.53s/it]\u001b[A\u001b[A"
          ]
        },
        {
          "output_type": "stream",
          "name": "stdout",
          "text": [
            "Appended result to Google Drive file: [462, 0.6666666666666667, 0.9487179487179487, 0.699346405228758, 0.43790849673202614, 1.2970168612191961, 1.996007984031936]\n"
          ]
        },
        {
          "output_type": "stream",
          "name": "stderr",
          "text": [
            "\n",
            "\n",
            "Processing law dataset:  93%|█████████▎| 463/500 [1:26:10<05:17,  8.58s/it]\u001b[A\u001b[A"
          ]
        },
        {
          "output_type": "stream",
          "name": "stdout",
          "text": [
            "Appended result to Google Drive file: [463, 0.18181818181818177, 0.9090909090909091, 1.0, 0.4545454545454546, 0.0, 2.793296089385475]\n"
          ]
        },
        {
          "output_type": "stream",
          "name": "stderr",
          "text": [
            "\n",
            "\n",
            "Processing law dataset:  93%|█████████▎| 464/500 [1:26:17<04:54,  8.18s/it]\u001b[A\u001b[A"
          ]
        },
        {
          "output_type": "stream",
          "name": "stdout",
          "text": [
            "Appended result to Google Drive file: [464, 0.16666666666666663, 0.16666666666666663, 0.6302622498274673, 0.812636165577342, 5.244755244755246, 5.39568345323741]\n"
          ]
        },
        {
          "output_type": "stream",
          "name": "stderr",
          "text": [
            "\n",
            "\n",
            "Processing law dataset:  93%|█████████▎| 465/500 [1:26:28<05:17,  9.06s/it]\u001b[A\u001b[A"
          ]
        },
        {
          "output_type": "stream",
          "name": "stdout",
          "text": [
            "Appended result to Google Drive file: [465, 0.85, 1.45, 0.8464895392119112, 0.452991452991453, 1.7421602787456445, 1.9404915912031047]\n"
          ]
        },
        {
          "output_type": "stream",
          "name": "stderr",
          "text": [
            "\n",
            "\n",
            "Processing law dataset:  93%|█████████▎| 466/500 [1:26:38<05:15,  9.27s/it]\u001b[A\u001b[A"
          ]
        },
        {
          "output_type": "stream",
          "name": "stdout",
          "text": [
            "Appended result to Google Drive file: [466, 0.6888888888888889, 0.8222222222222222, 0.8196329813976874, 0.8555555555555555, 1.8679950186799503, 1.8495684340320593]\n"
          ]
        },
        {
          "output_type": "stream",
          "name": "stderr",
          "text": [
            "\n",
            "\n",
            "Processing law dataset:  93%|█████████▎| 467/500 [1:26:47<05:02,  9.18s/it]\u001b[A\u001b[A"
          ]
        },
        {
          "output_type": "stream",
          "name": "stdout",
          "text": [
            "Appended result to Google Drive file: [467, 0.2222222222222222, 0.8888888888888888, 0.37984496124031003, 0.3731656841841214, 41.66666666666667, 1.631321370309951]\n"
          ]
        },
        {
          "output_type": "stream",
          "name": "stderr",
          "text": [
            "\n",
            "\n",
            "Processing law dataset:  94%|█████████▎| 468/500 [1:26:56<04:52,  9.14s/it]\u001b[A\u001b[A"
          ]
        },
        {
          "output_type": "stream",
          "name": "stdout",
          "text": [
            "Appended result to Google Drive file: [468, 0.4722222222222222, 0.6388888888888888, 0.819845513963161, 0.6607167083357559, 2.5380710659898478, 2.1321961620469088]\n"
          ]
        },
        {
          "output_type": "stream",
          "name": "stderr",
          "text": [
            "\n",
            "\n",
            "Processing law dataset:  94%|█████████▍| 469/500 [1:27:04<04:25,  8.57s/it]\u001b[A\u001b[A"
          ]
        },
        {
          "output_type": "stream",
          "name": "stdout",
          "text": [
            "Appended result to Google Drive file: [469, 0.19999999999999996, 0.9333333333333333, 0.6923076923076922, 1.0, 8.47457627118644, 4.385964912280701]\n"
          ]
        },
        {
          "output_type": "stream",
          "name": "stderr",
          "text": [
            "\n",
            "\n",
            "Processing law dataset:  94%|█████████▍| 470/500 [1:27:12<04:13,  8.44s/it]\u001b[A\u001b[A"
          ]
        },
        {
          "output_type": "stream",
          "name": "stdout",
          "text": [
            "Appended result to Google Drive file: [470, 0.33333333333333337, 0.5666666666666667, 0.22280040221216693, 0.09695686785352438, 3.4965034965034962, 2.512562814070352]\n"
          ]
        },
        {
          "output_type": "stream",
          "name": "stderr",
          "text": [
            "\n",
            "\n",
            "Processing law dataset:  94%|█████████▍| 471/500 [1:27:20<04:03,  8.39s/it]\u001b[A\u001b[A"
          ]
        },
        {
          "output_type": "stream",
          "name": "stdout",
          "text": [
            "Appended result to Google Drive file: [471, 0.7333333333333334, 0.7333333333333334, 0.742049114331723, 0.3273081694134326, 1.2853470437017993, 3.802281368821293]\n"
          ]
        },
        {
          "output_type": "stream",
          "name": "stderr",
          "text": [
            "\n",
            "\n",
            "Processing law dataset:  94%|█████████▍| 472/500 [1:27:27<03:41,  7.91s/it]\u001b[A\u001b[A"
          ]
        },
        {
          "output_type": "stream",
          "name": "stdout",
          "text": [
            "Appended result to Google Drive file: [472, 0.1428571428571429, 0.1428571428571429, 0.2222222222222222, 0.13333333333333333, 25.0, 15.625]\n"
          ]
        },
        {
          "output_type": "stream",
          "name": "stderr",
          "text": [
            "\n",
            "\n",
            "Processing law dataset:  95%|█████████▍| 473/500 [1:27:37<03:54,  8.68s/it]\u001b[A\u001b[A"
          ]
        },
        {
          "output_type": "stream",
          "name": "stdout",
          "text": [
            "Appended result to Google Drive file: [473, 0.46153846153846156, 1.0512820512820513, 0.8337244626718311, 0.4008438818565401, 1.6778523489932882, 0.7225433526011561]\n"
          ]
        },
        {
          "output_type": "stream",
          "name": "stderr",
          "text": [
            "\n",
            "\n",
            "Processing law dataset:  95%|█████████▍| 474/500 [1:27:45<03:40,  8.49s/it]\u001b[A\u001b[A"
          ]
        },
        {
          "output_type": "stream",
          "name": "stdout",
          "text": [
            "Appended result to Google Drive file: [474, 0.33333333333333337, 1.0, 0.6259112867808521, 1.0, 3.968253968253969, 4.201680672268907]\n"
          ]
        },
        {
          "output_type": "stream",
          "name": "stderr",
          "text": [
            "\n",
            "\n",
            "Processing law dataset:  95%|█████████▌| 475/500 [1:27:55<03:43,  8.93s/it]\u001b[A\u001b[A"
          ]
        },
        {
          "output_type": "stream",
          "name": "stdout",
          "text": [
            "Appended result to Google Drive file: [475, 0.7222222222222222, 0.8333333333333334, 0.6922266139657444, 0.7517088184129532, 0.956022944550669, 0.9633911368015413]\n"
          ]
        },
        {
          "output_type": "stream",
          "name": "stderr",
          "text": [
            "\n",
            "\n",
            "Processing law dataset:  95%|█████████▌| 476/500 [1:28:06<03:44,  9.34s/it]\u001b[A\u001b[A"
          ]
        },
        {
          "output_type": "stream",
          "name": "stdout",
          "text": [
            "Appended result to Google Drive file: [476, 0.41666666666666663, 1.1111111111111112, 0.8723474304869653, 0.4444444444444445, 2.747252747252747, 1.5898251192368837]\n"
          ]
        },
        {
          "output_type": "stream",
          "name": "stderr",
          "text": [
            "\n",
            "\n",
            "Processing law dataset:  95%|█████████▌| 477/500 [1:28:16<03:40,  9.58s/it]\u001b[A\u001b[A"
          ]
        },
        {
          "output_type": "stream",
          "name": "stdout",
          "text": [
            "Appended result to Google Drive file: [477, 0.736842105263158, 0.8421052631578947, 0.6394072083727256, 1.0, 1.483679525222552, 1.1337868480725624]\n"
          ]
        },
        {
          "output_type": "stream",
          "name": "stderr",
          "text": [
            "\n",
            "\n",
            "Processing law dataset:  96%|█████████▌| 478/500 [1:28:24<03:25,  9.34s/it]\u001b[A\u001b[A"
          ]
        },
        {
          "output_type": "stream",
          "name": "stdout",
          "text": [
            "Appended result to Google Drive file: [478, 0.05555555555555558, 0.8333333333333334, 1.0, 0.48148148148148157, 33.33333333333333, 2.5906735751295336]\n"
          ]
        },
        {
          "output_type": "stream",
          "name": "stderr",
          "text": [
            "\n",
            "\n",
            "Processing law dataset:  96%|█████████▌| 479/500 [1:28:32<03:05,  8.83s/it]\u001b[A\u001b[A"
          ]
        },
        {
          "output_type": "stream",
          "name": "stdout",
          "text": [
            "Appended result to Google Drive file: [479, 0.07692307692307687, 0.15384615384615385, 0.6010101010101009, 0.7999999999999999, 5.617977528089887, 5.154639175257733]\n"
          ]
        },
        {
          "output_type": "stream",
          "name": "stderr",
          "text": [
            "\n",
            "\n",
            "Processing law dataset:  96%|█████████▌| 480/500 [1:28:42<03:04,  9.24s/it]\u001b[A\u001b[A"
          ]
        },
        {
          "output_type": "stream",
          "name": "stdout",
          "text": [
            "Appended result to Google Drive file: [480, 0.5833333333333333, 1.0833333333333333, 0.6640099542641916, 0.14487489911218723, 1.689189189189189, 0.7518796992481204]\n"
          ]
        },
        {
          "output_type": "stream",
          "name": "stderr",
          "text": [
            "\n",
            "\n",
            "Processing law dataset:  96%|█████████▌| 481/500 [1:28:50<02:47,  8.83s/it]\u001b[A\u001b[A"
          ]
        },
        {
          "output_type": "stream",
          "name": "stdout",
          "text": [
            "Appended result to Google Drive file: [481, 0.20833333333333337, 0.9166666666666666, 0.76079719584411, 0.3856209150326797, 0.9689922480620154, 1.5105740181268883]\n",
            "Error occurred: Error code: 500 - {'type': 'error', 'error': {'type': 'api_error', 'message': 'Internal server error'}}\n",
            "Retrying (attempt 1/5)...\n"
          ]
        },
        {
          "output_type": "stream",
          "name": "stderr",
          "text": [
            "\n",
            "\n",
            "Processing law dataset:  96%|█████████▋| 482/500 [1:29:56<07:49, 26.06s/it]\u001b[A\u001b[A"
          ]
        },
        {
          "output_type": "stream",
          "name": "stdout",
          "text": [
            "Appended result to Google Drive file: [482, 0.8571428571428572, 0.9523809523809523, 0.658671835042666, 0.8474694842475997, 1.4534883720930232, 1.4814814814814814]\n"
          ]
        },
        {
          "output_type": "stream",
          "name": "stderr",
          "text": [
            "\n",
            "\n",
            "Processing law dataset:  97%|█████████▋| 483/500 [1:30:05<05:55, 20.94s/it]\u001b[A\u001b[A"
          ]
        },
        {
          "output_type": "stream",
          "name": "stdout",
          "text": [
            "Appended result to Google Drive file: [483, 0.0, 1.0, 1.0, 0.40845070422535207, 20.833333333333336, 1.3755158184319118]\n"
          ]
        },
        {
          "output_type": "stream",
          "name": "stderr",
          "text": [
            "\n",
            "\n",
            "Processing law dataset:  97%|█████████▋| 484/500 [1:30:15<04:42, 17.67s/it]\u001b[A\u001b[A"
          ]
        },
        {
          "output_type": "stream",
          "name": "stdout",
          "text": [
            "Appended result to Google Drive file: [484, 0.40476190476190477, 0.8571428571428572, 0.7790070921985816, 0.20123253156201618, 1.21654501216545, 1.342281879194631]\n"
          ]
        },
        {
          "output_type": "stream",
          "name": "stderr",
          "text": [
            "\n",
            "\n",
            "Processing law dataset:  97%|█████████▋| 485/500 [1:30:27<03:59, 15.96s/it]\u001b[A\u001b[A"
          ]
        },
        {
          "output_type": "stream",
          "name": "stdout",
          "text": [
            "Appended result to Google Drive file: [485, 0.33333333333333337, 0.8809523809523809, 0.817163452172219, 0.22497420020639836, 1.612903225806452, 1.461988304093567]\n"
          ]
        },
        {
          "output_type": "stream",
          "name": "stderr",
          "text": [
            "\n",
            "\n",
            "Processing law dataset:  97%|█████████▋| 486/500 [1:30:45<03:49, 16.36s/it]\u001b[A\u001b[A"
          ]
        },
        {
          "output_type": "stream",
          "name": "stdout",
          "text": [
            "Appended result to Google Drive file: [486, 0.08333333333333337, 0.5277777777777778, 1.0, 0.6777207977207977, 33.33333333333333, 1.7301038062283736]\n"
          ]
        },
        {
          "output_type": "stream",
          "name": "stderr",
          "text": [
            "\n",
            "\n",
            "Processing law dataset:  97%|█████████▋| 487/500 [1:30:55<03:10, 14.64s/it]\u001b[A\u001b[A"
          ]
        },
        {
          "output_type": "stream",
          "name": "stdout",
          "text": [
            "Appended result to Google Drive file: [487, 0.5555555555555556, 1.1851851851851851, 0.7070707070707071, 0.25096188049451545, 0.6849315068493151, 1.1655011655011653]\n"
          ]
        },
        {
          "output_type": "stream",
          "name": "stderr",
          "text": [
            "\n",
            "\n",
            "Processing law dataset:  98%|█████████▊| 488/500 [1:31:06<02:40, 13.41s/it]\u001b[A\u001b[A"
          ]
        },
        {
          "output_type": "stream",
          "name": "stdout",
          "text": [
            "Appended result to Google Drive file: [488, 0.4222222222222223, 1.0, 0.6172555043522786, 1.0, 1.5290519877675843, 2.8089887640449436]\n"
          ]
        },
        {
          "output_type": "stream",
          "name": "stderr",
          "text": [
            "\n",
            "\n",
            "Processing law dataset:  98%|█████████▊| 489/500 [1:31:17<02:18, 12.59s/it]\u001b[A\u001b[A"
          ]
        },
        {
          "output_type": "stream",
          "name": "stdout",
          "text": [
            "Appended result to Google Drive file: [489, 0.1333333333333333, 0.6, 0.7301685891748003, 0.7245920745920746, 1.8963337547408345, 1.8726591760299627]\n"
          ]
        },
        {
          "output_type": "stream",
          "name": "stderr",
          "text": [
            "\n",
            "\n",
            "Processing law dataset:  98%|█████████▊| 490/500 [1:31:26<01:57, 11.73s/it]\u001b[A\u001b[A"
          ]
        },
        {
          "output_type": "stream",
          "name": "stdout",
          "text": [
            "Appended result to Google Drive file: [490, 0.33333333333333337, 0.9090909090909091, 0.6761904761904761, 0.7683454281567489, 7.389162561576354, 1.9059720457433296]\n"
          ]
        },
        {
          "output_type": "stream",
          "name": "stderr",
          "text": [
            "\n",
            "\n",
            "Processing law dataset:  98%|█████████▊| 491/500 [1:31:36<01:41, 11.27s/it]\u001b[A\u001b[A"
          ]
        },
        {
          "output_type": "stream",
          "name": "stdout",
          "text": [
            "Appended result to Google Drive file: [491, 0.35185185185185186, 0.8888888888888888, 0.6717690058479532, 0.36752136752136755, 2.1802325581395348, 3.416856492027334]\n"
          ]
        },
        {
          "output_type": "stream",
          "name": "stderr",
          "text": [
            "\n",
            "\n",
            "Processing law dataset:  98%|█████████▊| 492/500 [1:31:48<01:30, 11.31s/it]\u001b[A\u001b[A"
          ]
        },
        {
          "output_type": "stream",
          "name": "stdout",
          "text": [
            "Appended result to Google Drive file: [492, 0.5555555555555556, 0.7777777777777778, 0.6975183432249018, 0.4222222222222222, 1.7084282460136675, 3.6674816625916864]\n"
          ]
        },
        {
          "output_type": "stream",
          "name": "stderr",
          "text": [
            "\n",
            "\n",
            "Processing law dataset:  99%|█████████▊| 493/500 [1:31:56<01:12, 10.36s/it]\u001b[A\u001b[A"
          ]
        },
        {
          "output_type": "stream",
          "name": "stdout",
          "text": [
            "Appended result to Google Drive file: [493, 0.6904761904761905, 0.9761904761904762, 0.9666666666666667, 0.34458621300726566, 4.366812227074236, 5.2631578947368425]\n"
          ]
        },
        {
          "output_type": "stream",
          "name": "stderr",
          "text": [
            "\n",
            "\n",
            "Processing law dataset:  99%|█████████▉| 494/500 [1:32:07<01:03, 10.65s/it]\u001b[A\u001b[A"
          ]
        },
        {
          "output_type": "stream",
          "name": "stdout",
          "text": [
            "Appended result to Google Drive file: [494, 0.7037037037037037, 0.9259259259259259, 0.7124433106575964, 0.7625591016548463, 1.0526315789473684, 1.071811361200429]\n"
          ]
        },
        {
          "output_type": "stream",
          "name": "stderr",
          "text": [
            "\n",
            "\n",
            "Processing law dataset:  99%|█████████▉| 495/500 [1:32:17<00:51, 10.38s/it]\u001b[A\u001b[A"
          ]
        },
        {
          "output_type": "stream",
          "name": "stdout",
          "text": [
            "Appended result to Google Drive file: [495, 0.40476190476190477, 0.9285714285714286, 0.7371356828983947, 0.5151515151515151, 1.60427807486631, 4.166666666666666]\n"
          ]
        },
        {
          "output_type": "stream",
          "name": "stderr",
          "text": [
            "\n",
            "\n",
            "Processing law dataset:  99%|█████████▉| 496/500 [1:32:26<00:40, 10.05s/it]\u001b[A\u001b[A"
          ]
        },
        {
          "output_type": "stream",
          "name": "stdout",
          "text": [
            "Appended result to Google Drive file: [496, 0.4871794871794872, 0.7948717948717949, 0.5219235143393486, 0.10254472159234063, 2.2222222222222228, 1.400560224089636]\n"
          ]
        },
        {
          "output_type": "stream",
          "name": "stderr",
          "text": [
            "\n",
            "\n",
            "Processing law dataset:  99%|█████████▉| 497/500 [1:32:36<00:30, 10.00s/it]\u001b[A\u001b[A"
          ]
        },
        {
          "output_type": "stream",
          "name": "stdout",
          "text": [
            "Appended result to Google Drive file: [497, 0.38888888888888884, 0.8333333333333334, 0.47053872053872053, 0.6576566503610528, 1.3440860215053763, 1.467710371819961]\n"
          ]
        },
        {
          "output_type": "stream",
          "name": "stderr",
          "text": [
            "\n",
            "\n",
            "Processing law dataset: 100%|█████████▉| 498/500 [1:32:43<00:17,  8.95s/it]\u001b[A\u001b[A"
          ]
        },
        {
          "output_type": "stream",
          "name": "stdout",
          "text": [
            "Appended result to Google Drive file: [498, 0.09090909090909094, 0.09090909090909094, 0.7333333333333334, 0.7333333333333334, 21.12676056338028, 21.42857142857143]\n"
          ]
        },
        {
          "output_type": "stream",
          "name": "stderr",
          "text": [
            "\n",
            "\n",
            "Processing law dataset: 100%|█████████▉| 499/500 [1:32:53<00:09,  9.31s/it]\u001b[A\u001b[A"
          ]
        },
        {
          "output_type": "stream",
          "name": "stdout",
          "text": [
            "Appended result to Google Drive file: [499, 0.5882352941176471, 0.8823529411764706, 0.892482269503546, 0.40170940170940167, 1.5600624024960996, 3.215434083601285]\n"
          ]
        },
        {
          "output_type": "stream",
          "name": "stderr",
          "text": [
            "\n",
            "\n",
            "Processing law dataset: 100%|██████████| 500/500 [1:33:03<00:00, 11.17s/it]"
          ]
        },
        {
          "output_type": "stream",
          "name": "stdout",
          "text": [
            "Appended result to Google Drive file: [500, 0.36111111111111116, 0.7222222222222222, 0.47875816993464054, 0.5844695735802814, 2.4350649350649354, 1.7123287671232879]\n"
          ]
        },
        {
          "output_type": "stream",
          "name": "stderr",
          "text": [
            "\n",
            "\n",
            "Datasets for French:  50%|█████     | 1/2 [1:33:38<1:33:38, 5618.61s/it]\u001b[A"
          ]
        },
        {
          "output_type": "stream",
          "name": "stdout",
          "text": [
            "Processing dataset: medical\n"
          ]
        },
        {
          "output_type": "stream",
          "name": "stderr",
          "text": [
            "\n",
            "\n",
            "Processing medical dataset:   0%|          | 0/500 [00:00<?, ?it/s]\u001b[A\u001b[A\n",
            "\n",
            "Processing medical dataset:   0%|          | 1/500 [00:10<1:25:45, 10.31s/it]\u001b[A\u001b[A"
          ]
        },
        {
          "output_type": "stream",
          "name": "stdout",
          "text": [
            "Appended result to Google Drive file: [1, 0.7058823529411764, 0.9411764705882353, 0.8212806026365348, 1.0, 1.4312977099236641, 2.994011976047904]\n"
          ]
        },
        {
          "output_type": "stream",
          "name": "stderr",
          "text": [
            "\n",
            "\n",
            "Processing medical dataset:   0%|          | 2/500 [00:21<1:29:23, 10.77s/it]\u001b[A\u001b[A"
          ]
        },
        {
          "output_type": "stream",
          "name": "stdout",
          "text": [
            "Appended result to Google Drive file: [2, 0.8541666666666666, 0.9166666666666666, 0.7629442521912653, 0.7419449504148957, 1.6, 0.7898894154818327]\n"
          ]
        },
        {
          "output_type": "stream",
          "name": "stderr",
          "text": [
            "\n",
            "\n",
            "Processing medical dataset:   1%|          | 3/500 [00:32<1:30:58, 10.98s/it]\u001b[A\u001b[A"
          ]
        },
        {
          "output_type": "stream",
          "name": "stdout",
          "text": [
            "Appended result to Google Drive file: [3, 0.6140350877192983, 0.9122807017543859, 0.8914257126521278, 0.9540229885057471, 1.3297872340425534, 2.202643171806167]\n"
          ]
        },
        {
          "output_type": "stream",
          "name": "stderr",
          "text": [
            "\n",
            "\n",
            "Processing medical dataset:   1%|          | 4/500 [00:43<1:30:32, 10.95s/it]\u001b[A\u001b[A"
          ]
        },
        {
          "output_type": "stream",
          "name": "stdout",
          "text": [
            "Appended result to Google Drive file: [4, 0.5555555555555556, 0.9444444444444444, 0.6611258125280803, 0.09636363636363637, 1.221498371335505, 1.7523364485981308]\n"
          ]
        },
        {
          "output_type": "stream",
          "name": "stderr",
          "text": [
            "\n",
            "\n",
            "Processing medical dataset:   1%|          | 5/500 [00:54<1:30:55, 11.02s/it]\u001b[A\u001b[A"
          ]
        },
        {
          "output_type": "stream",
          "name": "stdout",
          "text": [
            "Appended result to Google Drive file: [5, 0.5714285714285714, 0.9047619047619048, 0.734918665563827, 0.3859020310633214, 1.4354066985645932, 2.0576131687242794]\n"
          ]
        },
        {
          "output_type": "stream",
          "name": "stderr",
          "text": [
            "\n",
            "\n",
            "Processing medical dataset:   1%|          | 6/500 [01:05<1:29:53, 10.92s/it]\u001b[A\u001b[A"
          ]
        },
        {
          "output_type": "stream",
          "name": "stdout",
          "text": [
            "Appended result to Google Drive file: [6, 0.8253968253968254, 0.9047619047619048, 0.8654970760233919, 0.29833922497165344, 1.4895729890764646, 2.717391304347826]\n"
          ]
        },
        {
          "output_type": "stream",
          "name": "stderr",
          "text": [
            "\n",
            "\n",
            "Processing medical dataset:   1%|▏         | 7/500 [01:16<1:29:55, 10.94s/it]\u001b[A\u001b[A"
          ]
        },
        {
          "output_type": "stream",
          "name": "stdout",
          "text": [
            "Appended result to Google Drive file: [7, 0.5, 1.0, 0.7281010536398468, 0.4829931972789116, 1.4851485148514851, 2.2388059701492535]\n"
          ]
        },
        {
          "output_type": "stream",
          "name": "stderr",
          "text": [
            "\n",
            "\n",
            "Processing medical dataset:   2%|▏         | 8/500 [01:27<1:30:04, 10.99s/it]\u001b[A\u001b[A"
          ]
        },
        {
          "output_type": "stream",
          "name": "stdout",
          "text": [
            "Appended result to Google Drive file: [8, 0.5964912280701755, 0.9473684210526316, 0.7180469289164941, 1.0, 1.3181019332161688, 2.688172043010753]\n"
          ]
        },
        {
          "output_type": "stream",
          "name": "stderr",
          "text": [
            "\n",
            "\n",
            "Processing medical dataset:   2%|▏         | 9/500 [01:39<1:31:50, 11.22s/it]\u001b[A\u001b[A"
          ]
        },
        {
          "output_type": "stream",
          "name": "stdout",
          "text": [
            "Appended result to Google Drive file: [9, 0.6296296296296297, 1.0, 0.841411183649087, 1.0, 1.4064697609001406, 2.512562814070352]\n"
          ]
        },
        {
          "output_type": "stream",
          "name": "stderr",
          "text": [
            "\n",
            "\n",
            "Processing medical dataset:   2%|▏         | 10/500 [01:50<1:31:59, 11.26s/it]\u001b[A\u001b[A"
          ]
        },
        {
          "output_type": "stream",
          "name": "stdout",
          "text": [
            "Appended result to Google Drive file: [10, 0.85, 1.0, 0.8872404092529879, 0.382716049382716, 1.5082956259426845, 1.0964912280701753]\n"
          ]
        },
        {
          "output_type": "stream",
          "name": "stderr",
          "text": [
            "\n",
            "\n",
            "Processing medical dataset:   2%|▏         | 11/500 [02:00<1:28:07, 10.81s/it]\u001b[A\u001b[A"
          ]
        },
        {
          "output_type": "stream",
          "name": "stdout",
          "text": [
            "Appended result to Google Drive file: [11, 0.6, 0.9333333333333333, 0.7865761689291101, 1.0, 1.3297872340425534, 2.9239766081871346]\n"
          ]
        },
        {
          "output_type": "stream",
          "name": "stderr",
          "text": [
            "\n",
            "\n",
            "Processing medical dataset:   2%|▏         | 12/500 [02:09<1:24:30, 10.39s/it]\u001b[A\u001b[A"
          ]
        },
        {
          "output_type": "stream",
          "name": "stdout",
          "text": [
            "Appended result to Google Drive file: [12, 0.33333333333333337, 1.0, 0.5031775868242033, 1.0, 2.0215633423180597, 1.65016501650165]\n"
          ]
        },
        {
          "output_type": "stream",
          "name": "stderr",
          "text": [
            "\n",
            "\n",
            "Processing medical dataset:   3%|▎         | 13/500 [02:19<1:23:03, 10.23s/it]\u001b[A\u001b[A"
          ]
        },
        {
          "output_type": "stream",
          "name": "stdout",
          "text": [
            "Appended result to Google Drive file: [13, 0.26190476190476186, 0.9761904761904762, 0.6554321409584567, 0.4166666666666667, 1.697792869269949, 1.5723270440251573]\n"
          ]
        },
        {
          "output_type": "stream",
          "name": "stderr",
          "text": [
            "\n",
            "\n",
            "Processing medical dataset:   3%|▎         | 14/500 [02:29<1:22:17, 10.16s/it]\u001b[A\u001b[A"
          ]
        },
        {
          "output_type": "stream",
          "name": "stdout",
          "text": [
            "Appended result to Google Drive file: [14, 0.4285714285714286, 1.0, 0.7508774244623302, 1.0, 1.6816143497757845, 1.4684287812041117]\n"
          ]
        },
        {
          "output_type": "stream",
          "name": "stderr",
          "text": [
            "\n",
            "\n",
            "Processing medical dataset:   3%|▎         | 15/500 [02:40<1:23:35, 10.34s/it]\u001b[A\u001b[A"
          ]
        },
        {
          "output_type": "stream",
          "name": "stdout",
          "text": [
            "Appended result to Google Drive file: [15, 0.5098039215686274, 1.0, 0.9352689793866266, 1.0, 1.4471780028943562, 0.9433962264150944]\n"
          ]
        },
        {
          "output_type": "stream",
          "name": "stderr",
          "text": [
            "\n",
            "\n",
            "Processing medical dataset:   3%|▎         | 16/500 [02:50<1:22:07, 10.18s/it]\u001b[A\u001b[A"
          ]
        },
        {
          "output_type": "stream",
          "name": "stdout",
          "text": [
            "Appended result to Google Drive file: [16, 0.7083333333333333, 1.0, 0.7444041137326073, 1.0, 1.582278481012658, 1.773049645390071]\n"
          ]
        },
        {
          "output_type": "stream",
          "name": "stderr",
          "text": [
            "\n",
            "\n",
            "Processing medical dataset:   3%|▎         | 17/500 [03:00<1:22:00, 10.19s/it]\u001b[A\u001b[A"
          ]
        },
        {
          "output_type": "stream",
          "name": "stdout",
          "text": [
            "Appended result to Google Drive file: [17, 0.4722222222222222, 0.6111111111111112, 0.8363583731364886, 0.8404522065236351, 1.9230769230769231, 1.8203883495145627]\n"
          ]
        },
        {
          "output_type": "stream",
          "name": "stderr",
          "text": [
            "\n",
            "\n",
            "Processing medical dataset:   4%|▎         | 18/500 [03:10<1:21:00, 10.08s/it]\u001b[A\u001b[A"
          ]
        },
        {
          "output_type": "stream",
          "name": "stdout",
          "text": [
            "Appended result to Google Drive file: [18, 0.7708333333333334, 1.0, 0.6821594818862579, 1.0, 1.6778523489932882, 1.488095238095238]\n"
          ]
        },
        {
          "output_type": "stream",
          "name": "stderr",
          "text": [
            "\n",
            "\n",
            "Processing medical dataset:   4%|▍         | 19/500 [03:22<1:26:28, 10.79s/it]\u001b[A\u001b[A"
          ]
        },
        {
          "output_type": "stream",
          "name": "stdout",
          "text": [
            "Appended result to Google Drive file: [19, 0.7222222222222222, 0.9814814814814815, 0.5946910630449364, 0.7854864433811803, 1.2106537530266344, 1.2096774193548385]\n"
          ]
        },
        {
          "output_type": "stream",
          "name": "stderr",
          "text": [
            "\n",
            "\n",
            "Processing medical dataset:   4%|▍         | 20/500 [03:33<1:27:05, 10.89s/it]\u001b[A\u001b[A"
          ]
        },
        {
          "output_type": "stream",
          "name": "stdout",
          "text": [
            "Appended result to Google Drive file: [20, 0.537037037037037, 1.0, 0.8197278911564626, 1.0, 1.4450867052023122, 1.4124293785310735]\n"
          ]
        },
        {
          "output_type": "stream",
          "name": "stderr",
          "text": [
            "\n",
            "\n",
            "Processing medical dataset:   4%|▍         | 21/500 [03:44<1:25:45, 10.74s/it]\u001b[A\u001b[A"
          ]
        },
        {
          "output_type": "stream",
          "name": "stdout",
          "text": [
            "Appended result to Google Drive file: [21, 0.47916666666666663, 0.8541666666666666, 0.7851851851851852, 0.5833333333333334, 1.5772870662460567, 1.4025245441795233]\n"
          ]
        },
        {
          "output_type": "stream",
          "name": "stderr",
          "text": [
            "\n",
            "\n",
            "Processing medical dataset:   4%|▍         | 22/500 [03:54<1:25:20, 10.71s/it]\u001b[A\u001b[A"
          ]
        },
        {
          "output_type": "stream",
          "name": "stdout",
          "text": [
            "Appended result to Google Drive file: [22, 0.7843137254901961, 1.0, 0.8187134502923975, 1.0, 1.387604070305273, 1.6025641025641029]\n"
          ]
        },
        {
          "output_type": "stream",
          "name": "stderr",
          "text": [
            "\n",
            "\n",
            "Processing medical dataset:   5%|▍         | 23/500 [04:05<1:23:59, 10.57s/it]\u001b[A\u001b[A"
          ]
        },
        {
          "output_type": "stream",
          "name": "stdout",
          "text": [
            "Appended result to Google Drive file: [23, 0.6458333333333333, 0.9791666666666666, 0.7872023809523809, 0.956989247311828, 1.5948963317384368, 1.3089005235602091]\n"
          ]
        },
        {
          "output_type": "stream",
          "name": "stderr",
          "text": [
            "\n",
            "\n",
            "Processing medical dataset:   5%|▍         | 24/500 [04:15<1:23:47, 10.56s/it]\u001b[A\u001b[A"
          ]
        },
        {
          "output_type": "stream",
          "name": "stdout",
          "text": [
            "Appended result to Google Drive file: [24, 0.5111111111111111, 1.0, 0.6460439736799871, 1.0, 1.6103059581320454, 1.0729613733905579]\n"
          ]
        },
        {
          "output_type": "stream",
          "name": "stderr",
          "text": [
            "\n",
            "\n",
            "Processing medical dataset:   5%|▌         | 25/500 [04:26<1:24:23, 10.66s/it]\u001b[A\u001b[A"
          ]
        },
        {
          "output_type": "stream",
          "name": "stdout",
          "text": [
            "Appended result to Google Drive file: [25, 0.803921568627451, 0.9607843137254902, 0.8217138707334786, 0.8093476384264399, 1.6750418760469015, 0.8431703204047218]\n"
          ]
        },
        {
          "output_type": "stream",
          "name": "stderr",
          "text": [
            "\n",
            "\n",
            "Processing medical dataset:   5%|▌         | 26/500 [04:37<1:26:00, 10.89s/it]\u001b[A\u001b[A"
          ]
        },
        {
          "output_type": "stream",
          "name": "stdout",
          "text": [
            "Appended result to Google Drive file: [26, 0.6166666666666667, 1.0, 0.8194623027469317, 0.4609929078014184, 1.3698630136986303, 2.521008403361345]\n"
          ]
        },
        {
          "output_type": "stream",
          "name": "stderr",
          "text": [
            "\n",
            "\n",
            "Processing medical dataset:   5%|▌         | 27/500 [04:47<1:22:25, 10.46s/it]\u001b[A\u001b[A"
          ]
        },
        {
          "output_type": "stream",
          "name": "stdout",
          "text": [
            "Appended result to Google Drive file: [27, 0.3571428571428571, 1.0, 0.5957351290684624, 0.5069725596041386, 2.205882352941176, 2.941176470588235]\n"
          ]
        },
        {
          "output_type": "stream",
          "name": "stderr",
          "text": [
            "\n",
            "\n",
            "Processing medical dataset:   6%|▌         | 28/500 [04:56<1:18:56, 10.03s/it]\u001b[A\u001b[A"
          ]
        },
        {
          "output_type": "stream",
          "name": "stdout",
          "text": [
            "Appended result to Google Drive file: [28, 0.5384615384615384, 0.717948717948718, 0.6147300005273427, 0.38095238095238093, 1.6629711751662972, 2.5706940874035986]\n"
          ]
        },
        {
          "output_type": "stream",
          "name": "stderr",
          "text": [
            "\n",
            "\n",
            "Processing medical dataset:   6%|▌         | 29/500 [05:05<1:16:55,  9.80s/it]\u001b[A\u001b[A"
          ]
        },
        {
          "output_type": "stream",
          "name": "stdout",
          "text": [
            "Appended result to Google Drive file: [29, 0.45238095238095233, 0.6190476190476191, 0.7922008547008548, 0.09680384974502622, 1.8292682926829267, 1.6420361247947453]\n"
          ]
        },
        {
          "output_type": "stream",
          "name": "stderr",
          "text": [
            "\n",
            "\n",
            "Processing medical dataset:   6%|▌         | 30/500 [05:15<1:16:45,  9.80s/it]\u001b[A\u001b[A"
          ]
        },
        {
          "output_type": "stream",
          "name": "stdout",
          "text": [
            "Appended result to Google Drive file: [30, 0.5740740740740741, 0.9444444444444444, 0.7742252715837621, 1.0, 1.687289088863892, 1.6666666666666663]\n"
          ]
        },
        {
          "output_type": "stream",
          "name": "stderr",
          "text": [
            "\n",
            "\n",
            "Processing medical dataset:   6%|▌         | 31/500 [05:25<1:17:32,  9.92s/it]\u001b[A\u001b[A"
          ]
        },
        {
          "output_type": "stream",
          "name": "stdout",
          "text": [
            "Appended result to Google Drive file: [31, 0.5882352941176471, 0.7647058823529411, 0.8809150326797385, 0.7968821502597647, 2.086230876216968, 1.290322580645161]\n"
          ]
        },
        {
          "output_type": "stream",
          "name": "stderr",
          "text": [
            "\n",
            "\n",
            "Processing medical dataset:   6%|▋         | 32/500 [05:35<1:16:47,  9.85s/it]\u001b[A\u001b[A"
          ]
        },
        {
          "output_type": "stream",
          "name": "stdout",
          "text": [
            "Appended result to Google Drive file: [32, 0.5490196078431373, 0.9607843137254902, 0.8469232827924116, 0.9420289855072465, 2.0215633423180597, 3.289473684210527]\n"
          ]
        },
        {
          "output_type": "stream",
          "name": "stderr",
          "text": [
            "\n",
            "\n",
            "Processing medical dataset:   7%|▋         | 33/500 [05:45<1:17:40,  9.98s/it]\u001b[A\u001b[A"
          ]
        },
        {
          "output_type": "stream",
          "name": "stdout",
          "text": [
            "Appended result to Google Drive file: [33, 0.47916666666666663, 1.0, 0.7723171889838557, 0.3913043478260869, 1.6528925619834711, 1.2406947890818858]\n"
          ]
        },
        {
          "output_type": "stream",
          "name": "stderr",
          "text": [
            "\n",
            "\n",
            "Processing medical dataset:   7%|▋         | 34/500 [05:56<1:20:17, 10.34s/it]\u001b[A\u001b[A"
          ]
        },
        {
          "output_type": "stream",
          "name": "stdout",
          "text": [
            "Appended result to Google Drive file: [34, 0.543859649122807, 1.0, 0.6652372828784119, 0.18962962962962962, 1.5313935681470137, 1.1547344110854503]\n"
          ]
        },
        {
          "output_type": "stream",
          "name": "stderr",
          "text": [
            "\n",
            "\n",
            "Processing medical dataset:   7%|▋         | 35/500 [06:06<1:18:25, 10.12s/it]\u001b[A\u001b[A"
          ]
        },
        {
          "output_type": "stream",
          "name": "stdout",
          "text": [
            "Appended result to Google Drive file: [35, 0.6666666666666667, 0.9215686274509804, 0.8048921696338108, 0.477124183006536, 1.7761989342806392, 1.9305019305019304]\n"
          ]
        },
        {
          "output_type": "stream",
          "name": "stderr",
          "text": [
            "\n",
            "\n",
            "Processing medical dataset:   7%|▋         | 36/500 [06:16<1:17:20, 10.00s/it]\u001b[A\u001b[A"
          ]
        },
        {
          "output_type": "stream",
          "name": "stdout",
          "text": [
            "Appended result to Google Drive file: [36, 0.5263157894736843, 0.8947368421052632, 0.7520895226777581, 1.0, 1.6260162601626014, 1.5723270440251573]\n"
          ]
        },
        {
          "output_type": "stream",
          "name": "stderr",
          "text": [
            "\n",
            "\n",
            "Processing medical dataset:   7%|▋         | 37/500 [06:28<1:22:40, 10.71s/it]\u001b[A\u001b[A"
          ]
        },
        {
          "output_type": "stream",
          "name": "stdout",
          "text": [
            "Appended result to Google Drive file: [37, 0.45238095238095233, 0.9285714285714286, 0.7119527228013246, 0.6233885579278456, 1.4245014245014245, 1.644736842105263]\n"
          ]
        },
        {
          "output_type": "stream",
          "name": "stderr",
          "text": [
            "\n",
            "\n",
            "Processing medical dataset:   8%|▊         | 38/500 [06:39<1:22:06, 10.66s/it]\u001b[A\u001b[A"
          ]
        },
        {
          "output_type": "stream",
          "name": "stdout",
          "text": [
            "Appended result to Google Drive file: [38, 0.6041666666666667, 0.9375, 0.7033232266132209, 1.0, 1.46484375, 1.7825311942959006]\n"
          ]
        },
        {
          "output_type": "stream",
          "name": "stderr",
          "text": [
            "\n",
            "\n",
            "Processing medical dataset:   8%|▊         | 39/500 [06:49<1:21:31, 10.61s/it]\u001b[A\u001b[A"
          ]
        },
        {
          "output_type": "stream",
          "name": "stdout",
          "text": [
            "Appended result to Google Drive file: [39, 0.6888888888888889, 0.9555555555555556, 0.5620511707704097, 0.3798449612403101, 1.4285714285714284, 1.7123287671232879]\n"
          ]
        },
        {
          "output_type": "stream",
          "name": "stderr",
          "text": [
            "\n",
            "\n",
            "Processing medical dataset:   8%|▊         | 40/500 [06:58<1:18:16, 10.21s/it]\u001b[A\u001b[A"
          ]
        },
        {
          "output_type": "stream",
          "name": "stdout",
          "text": [
            "Appended result to Google Drive file: [40, 0.7333333333333334, 0.7333333333333334, 0.9166666666666666, 0.5353535353535354, 1.8315018315018312, 1.5527950310559007]\n"
          ]
        },
        {
          "output_type": "stream",
          "name": "stderr",
          "text": [
            "\n",
            "\n",
            "Processing medical dataset:   8%|▊         | 41/500 [07:09<1:19:47, 10.43s/it]\u001b[A\u001b[A"
          ]
        },
        {
          "output_type": "stream",
          "name": "stdout",
          "text": [
            "Appended result to Google Drive file: [41, 0.6222222222222222, 1.3111111111111111, 0.8138047138047138, 0.42063492063492064, 1.824817518248175, 1.3831258644536653]\n"
          ]
        },
        {
          "output_type": "stream",
          "name": "stderr",
          "text": [
            "\n",
            "\n",
            "Processing medical dataset:   8%|▊         | 42/500 [07:20<1:21:05, 10.62s/it]\u001b[A\u001b[A"
          ]
        },
        {
          "output_type": "stream",
          "name": "stdout",
          "text": [
            "Appended result to Google Drive file: [42, 0.6666666666666667, 0.9, 0.8550665383998717, 0.38666666666666666, 1.4880952380952381, 1.4025245441795233]\n"
          ]
        },
        {
          "output_type": "stream",
          "name": "stderr",
          "text": [
            "\n",
            "\n",
            "Processing medical dataset:   9%|▊         | 43/500 [07:32<1:22:42, 10.86s/it]\u001b[A\u001b[A"
          ]
        },
        {
          "output_type": "stream",
          "name": "stdout",
          "text": [
            "Appended result to Google Drive file: [43, 0.7380952380952381, 1.0714285714285714, 0.7636363636363637, 0.5712962962962963, 1.5923566878980893, 0.6640106241699867]\n"
          ]
        },
        {
          "output_type": "stream",
          "name": "stderr",
          "text": [
            "\n",
            "\n",
            "Processing medical dataset:   9%|▉         | 44/500 [07:43<1:22:44, 10.89s/it]\u001b[A\u001b[A"
          ]
        },
        {
          "output_type": "stream",
          "name": "stdout",
          "text": [
            "Appended result to Google Drive file: [44, 0.6666666666666667, 0.9375, 0.7741269329319644, 0.8849189893664287, 1.7605633802816902, 1.6750418760469015]\n"
          ]
        },
        {
          "output_type": "stream",
          "name": "stderr",
          "text": [
            "\n",
            "\n",
            "Processing medical dataset:   9%|▉         | 45/500 [07:56<1:27:12, 11.50s/it]\u001b[A\u001b[A"
          ]
        },
        {
          "output_type": "stream",
          "name": "stdout",
          "text": [
            "Appended result to Google Drive file: [45, 0.7254901960784313, 1.4117647058823528, 0.7806603773584905, 0.6451402478799739, 1.8203883495145627, 1.2345679012345678]\n"
          ]
        },
        {
          "output_type": "stream",
          "name": "stderr",
          "text": [
            "\n",
            "\n",
            "Processing medical dataset:   9%|▉         | 46/500 [08:07<1:27:09, 11.52s/it]\u001b[A\u001b[A"
          ]
        },
        {
          "output_type": "stream",
          "name": "stdout",
          "text": [
            "Appended result to Google Drive file: [46, 0.41666666666666663, 0.6666666666666667, 0.7045601291364002, 0.49444444444444446, 1.3464991023339317, 1.513622603430878]\n"
          ]
        },
        {
          "output_type": "stream",
          "name": "stderr",
          "text": [
            "\n",
            "\n",
            "Processing medical dataset:   9%|▉         | 47/500 [08:18<1:24:23, 11.18s/it]\u001b[A\u001b[A"
          ]
        },
        {
          "output_type": "stream",
          "name": "stdout",
          "text": [
            "Appended result to Google Drive file: [47, 0.7291666666666667, 1.0, 0.8146551724137931, 0.8541666666666666, 1.5267175572519085, 1.091703056768559]\n"
          ]
        },
        {
          "output_type": "stream",
          "name": "stderr",
          "text": [
            "\n",
            "\n",
            "Processing medical dataset:  10%|▉         | 48/500 [08:29<1:23:48, 11.12s/it]\u001b[A\u001b[A"
          ]
        },
        {
          "output_type": "stream",
          "name": "stdout",
          "text": [
            "Appended result to Google Drive file: [48, 0.6111111111111112, 1.1111111111111112, 0.7752136752136751, 0.9382716049382717, 1.5174506828528074, 0.7575757575757576]\n"
          ]
        },
        {
          "output_type": "stream",
          "name": "stderr",
          "text": [
            "\n",
            "\n",
            "Processing medical dataset:  10%|▉         | 49/500 [08:40<1:23:14, 11.07s/it]\u001b[A\u001b[A"
          ]
        },
        {
          "output_type": "stream",
          "name": "stdout",
          "text": [
            "Appended result to Google Drive file: [49, 0.6274509803921569, 0.9803921568627451, 0.8242477201944837, 0.45, 1.4144271570014144, 1.1904761904761902]\n"
          ]
        },
        {
          "output_type": "stream",
          "name": "stderr",
          "text": [
            "\n",
            "\n",
            "Processing medical dataset:  10%|█         | 50/500 [08:51<1:23:25, 11.12s/it]\u001b[A\u001b[A"
          ]
        },
        {
          "output_type": "stream",
          "name": "stdout",
          "text": [
            "Appended result to Google Drive file: [50, 0.6842105263157895, 1.0, 0.7711864406779662, 1.0, 0.6915629322268326, 1.050420168067227]\n"
          ]
        },
        {
          "output_type": "stream",
          "name": "stderr",
          "text": [
            "\n",
            "\n",
            "Processing medical dataset:  10%|█         | 51/500 [09:01<1:21:31, 10.89s/it]\u001b[A\u001b[A"
          ]
        },
        {
          "output_type": "stream",
          "name": "stdout",
          "text": [
            "Appended result to Google Drive file: [51, 0.696969696969697, 0.8484848484848485, 0.7108287961282517, 0.15703661983583134, 1.6666666666666667, 1.5479876160990713]\n"
          ]
        },
        {
          "output_type": "stream",
          "name": "stderr",
          "text": [
            "\n",
            "\n",
            "Processing medical dataset:  10%|█         | 52/500 [09:13<1:23:15, 11.15s/it]\u001b[A\u001b[A"
          ]
        },
        {
          "output_type": "stream",
          "name": "stdout",
          "text": [
            "Appended result to Google Drive file: [52, 0.7058823529411764, 1.5294117647058822, 0.9636363636363635, 0.35580524344569286, 1.455604075691412, 0.7256894049346879]\n"
          ]
        },
        {
          "output_type": "stream",
          "name": "stderr",
          "text": [
            "\n",
            "\n",
            "Processing medical dataset:  11%|█         | 53/500 [09:21<1:16:34, 10.28s/it]\u001b[A\u001b[A"
          ]
        },
        {
          "output_type": "stream",
          "name": "stdout",
          "text": [
            "Appended result to Google Drive file: [53, 0.5238095238095238, 0.8571428571428572, 0.8799762329174093, 0.935483870967742, 2.7675276752767526, 3.1055900621118013]\n"
          ]
        },
        {
          "output_type": "stream",
          "name": "stderr",
          "text": [
            "\n",
            "\n",
            "Processing medical dataset:  11%|█         | 54/500 [09:31<1:14:36, 10.04s/it]\u001b[A\u001b[A"
          ]
        },
        {
          "output_type": "stream",
          "name": "stdout",
          "text": [
            "Appended result to Google Drive file: [54, 0.6666666666666667, 0.8484848484848485, 0.8474358974358974, 0.47301587301587306, 2.0804438280166435, 2.2522522522522523]\n"
          ]
        },
        {
          "output_type": "stream",
          "name": "stderr",
          "text": [
            "\n",
            "\n",
            "Processing medical dataset:  11%|█         | 55/500 [09:41<1:15:52, 10.23s/it]\u001b[A\u001b[A"
          ]
        },
        {
          "output_type": "stream",
          "name": "stdout",
          "text": [
            "Appended result to Google Drive file: [55, 0.6666666666666667, 0.9375, 0.9470534880618914, 1.0, 1.4177693761814747, 1.6920473773265654]\n"
          ]
        },
        {
          "output_type": "stream",
          "name": "stderr",
          "text": [
            "\n",
            "\n",
            "Processing medical dataset:  11%|█         | 56/500 [09:51<1:14:29, 10.07s/it]\u001b[A\u001b[A"
          ]
        },
        {
          "output_type": "stream",
          "name": "stdout",
          "text": [
            "Appended result to Google Drive file: [56, 0.6666666666666667, 0.9333333333333333, 0.7989766081871345, 1.0, 1.5898251192368837, 1.6025641025641024]\n"
          ]
        },
        {
          "output_type": "stream",
          "name": "stderr",
          "text": [
            "\n",
            "\n",
            "Processing medical dataset:  11%|█▏        | 57/500 [10:02<1:16:42, 10.39s/it]\u001b[A\u001b[A"
          ]
        },
        {
          "output_type": "stream",
          "name": "stdout",
          "text": [
            "Appended result to Google Drive file: [57, 0.8095238095238095, 0.9761904761904762, 0.7276136013423279, 0.769602911708175, 1.6666666666666667, 1.6666666666666667]\n"
          ]
        },
        {
          "output_type": "stream",
          "name": "stderr",
          "text": [
            "\n",
            "\n",
            "Processing medical dataset:  12%|█▏        | 58/500 [10:16<1:23:17, 11.31s/it]\u001b[A\u001b[A"
          ]
        },
        {
          "output_type": "stream",
          "name": "stdout",
          "text": [
            "Appended result to Google Drive file: [58, 0.4545454545454546, 0.6060606060606061, 0.7612732095490715, 0.860062893081761, 1.358695652173913, 1.3215859030837005]\n"
          ]
        },
        {
          "output_type": "stream",
          "name": "stderr",
          "text": [
            "\n",
            "\n",
            "Processing medical dataset:  12%|█▏        | 59/500 [10:27<1:24:18, 11.47s/it]\u001b[A\u001b[A"
          ]
        },
        {
          "output_type": "stream",
          "name": "stdout",
          "text": [
            "Appended result to Google Drive file: [59, 0.5740740740740741, 0.7222222222222222, 0.8053009883198564, 0.9461224489795917, 1.4137606032045238, 1.4084507042253522]\n"
          ]
        },
        {
          "output_type": "stream",
          "name": "stderr",
          "text": [
            "\n",
            "\n",
            "Processing medical dataset:  12%|█▏        | 60/500 [10:39<1:24:13, 11.49s/it]\u001b[A\u001b[A"
          ]
        },
        {
          "output_type": "stream",
          "name": "stdout",
          "text": [
            "Appended result to Google Drive file: [60, 0.5614035087719298, 0.6842105263157895, 0.8352130325814535, 0.940998329156224, 1.4734774066797642, 1.3636363636363638]\n"
          ]
        },
        {
          "output_type": "stream",
          "name": "stderr",
          "text": [
            "\n",
            "\n",
            "Processing medical dataset:  12%|█▏        | 61/500 [10:51<1:25:24, 11.67s/it]\u001b[A\u001b[A"
          ]
        },
        {
          "output_type": "stream",
          "name": "stdout",
          "text": [
            "Appended result to Google Drive file: [61, 0.746031746031746, 1.0, 0.7319986181772502, 1.0, 1.3440860215053763, 0.9765625]\n"
          ]
        },
        {
          "output_type": "stream",
          "name": "stderr",
          "text": [
            "\n",
            "\n",
            "Processing medical dataset:  12%|█▏        | 62/500 [11:03<1:25:35, 11.73s/it]\u001b[A\u001b[A"
          ]
        },
        {
          "output_type": "stream",
          "name": "stdout",
          "text": [
            "Appended result to Google Drive file: [62, 0.8596491228070176, 1.280701754385965, 0.8646252885246595, 0.3945182724252492, 1.4450867052023122, 1.1261261261261262]\n"
          ]
        },
        {
          "output_type": "stream",
          "name": "stderr",
          "text": [
            "\n",
            "\n",
            "Processing medical dataset:  13%|█▎        | 63/500 [11:15<1:26:18, 11.85s/it]\u001b[A\u001b[A"
          ]
        },
        {
          "output_type": "stream",
          "name": "stdout",
          "text": [
            "Appended result to Google Drive file: [63, 0.8627450980392157, 0.9215686274509804, 0.8441427853192559, 0.3544397391947302, 1.3297872340425534, 1.3986013986013988]\n"
          ]
        },
        {
          "output_type": "stream",
          "name": "stderr",
          "text": [
            "\n",
            "\n",
            "Processing medical dataset:  13%|█▎        | 64/500 [11:26<1:23:43, 11.52s/it]\u001b[A\u001b[A"
          ]
        },
        {
          "output_type": "stream",
          "name": "stdout",
          "text": [
            "Appended result to Google Drive file: [64, 0.7192982456140351, 0.9473684210526316, 0.8172299027137736, 1.0, 1.4204545454545452, 1.4124293785310735]\n"
          ]
        },
        {
          "output_type": "stream",
          "name": "stderr",
          "text": [
            "\n",
            "\n",
            "Processing medical dataset:  13%|█▎        | 65/500 [11:38<1:25:05, 11.74s/it]\u001b[A\u001b[A"
          ]
        },
        {
          "output_type": "stream",
          "name": "stdout",
          "text": [
            "Appended result to Google Drive file: [65, 0.6862745098039216, 1.0, 0.806093623890234, 1.0, 1.392757660167131, 1.5649452269170576]\n"
          ]
        },
        {
          "output_type": "stream",
          "name": "stderr",
          "text": [
            "\n",
            "\n",
            "Processing medical dataset:  13%|█▎        | 66/500 [11:48<1:21:43, 11.30s/it]\u001b[A\u001b[A"
          ]
        },
        {
          "output_type": "stream",
          "name": "stdout",
          "text": [
            "Appended result to Google Drive file: [66, 0.8222222222222222, 0.9777777777777777, 0.845629224576593, 0.047619047619047616, 1.4137606032045238, 1.5772870662460567]\n"
          ]
        },
        {
          "output_type": "stream",
          "name": "stderr",
          "text": [
            "\n",
            "\n",
            "Processing medical dataset:  13%|█▎        | 67/500 [11:58<1:18:45, 10.91s/it]\u001b[A\u001b[A"
          ]
        },
        {
          "output_type": "stream",
          "name": "stdout",
          "text": [
            "Appended result to Google Drive file: [67, 1.0444444444444445, 0.9333333333333333, 0.8385699096225411, 1.0, 1.4245014245014245, 1.6778523489932886]\n"
          ]
        },
        {
          "output_type": "stream",
          "name": "stderr",
          "text": [
            "\n",
            "\n",
            "Processing medical dataset:  14%|█▎        | 68/500 [12:10<1:20:36, 11.20s/it]\u001b[A\u001b[A"
          ]
        },
        {
          "output_type": "stream",
          "name": "stdout",
          "text": [
            "Appended result to Google Drive file: [68, 0.37037037037037035, 1.0, 0.7520189487931423, 0.4642900771836304, 1.246882793017456, 0.9940357852882702]\n"
          ]
        },
        {
          "output_type": "stream",
          "name": "stderr",
          "text": [
            "\n",
            "\n",
            "Processing medical dataset:  14%|█▍        | 69/500 [12:21<1:18:42, 10.96s/it]\u001b[A\u001b[A"
          ]
        },
        {
          "output_type": "stream",
          "name": "stdout",
          "text": [
            "Appended result to Google Drive file: [69, 0.39583333333333337, 1.0, 0.44387357282094125, 1.0, 1.6286644951140066, 2.688172043010753]\n"
          ]
        },
        {
          "output_type": "stream",
          "name": "stderr",
          "text": [
            "\n",
            "\n",
            "Processing medical dataset:  14%|█▍        | 70/500 [12:31<1:17:24, 10.80s/it]\u001b[A\u001b[A"
          ]
        },
        {
          "output_type": "stream",
          "name": "stdout",
          "text": [
            "Appended result to Google Drive file: [70, 0.5882352941176471, 0.9019607843137255, 0.8016791850125183, 0.37435897435897436, 1.8691588785046727, 1.1037527593818985]\n"
          ]
        },
        {
          "output_type": "stream",
          "name": "stderr",
          "text": [
            "\n",
            "\n",
            "Processing medical dataset:  14%|█▍        | 71/500 [12:41<1:14:48, 10.46s/it]\u001b[A\u001b[A"
          ]
        },
        {
          "output_type": "stream",
          "name": "stdout",
          "text": [
            "Appended result to Google Drive file: [71, 0.4722222222222222, 1.0, 0.8341321713870734, 0.3873873873873874, 1.4598540145985404, 1.4204545454545454]\n"
          ]
        },
        {
          "output_type": "stream",
          "name": "stderr",
          "text": [
            "\n",
            "\n",
            "Processing medical dataset:  14%|█▍        | 72/500 [12:50<1:12:22, 10.15s/it]\u001b[A\u001b[A"
          ]
        },
        {
          "output_type": "stream",
          "name": "stdout",
          "text": [
            "Appended result to Google Drive file: [72, 0.6666666666666667, 0.9166666666666666, 0.9312641723356009, 1.0, 1.4749262536873158, 1.488095238095238]\n"
          ]
        },
        {
          "output_type": "stream",
          "name": "stderr",
          "text": [
            "\n",
            "\n",
            "Processing medical dataset:  15%|█▍        | 73/500 [13:01<1:13:33, 10.34s/it]\u001b[A\u001b[A"
          ]
        },
        {
          "output_type": "stream",
          "name": "stdout",
          "text": [
            "Appended result to Google Drive file: [73, 0.6, 1.0, 0.8425333637466569, 0.3349206349206349, 1.547987616099071, 1.0040160642570284]\n"
          ]
        },
        {
          "output_type": "stream",
          "name": "stderr",
          "text": [
            "\n",
            "\n",
            "Processing medical dataset:  15%|█▍        | 74/500 [13:12<1:14:07, 10.44s/it]\u001b[A\u001b[A"
          ]
        },
        {
          "output_type": "stream",
          "name": "stdout",
          "text": [
            "Appended result to Google Drive file: [74, 0.5, 0.7777777777777778, 0.7690554068787788, 0.19906582161484118, 1.6420361247947455, 2.4330900243309]\n"
          ]
        },
        {
          "output_type": "stream",
          "name": "stderr",
          "text": [
            "\n",
            "\n",
            "Processing medical dataset:  15%|█▌        | 75/500 [13:23<1:16:17, 10.77s/it]\u001b[A\u001b[A"
          ]
        },
        {
          "output_type": "stream",
          "name": "stdout",
          "text": [
            "Appended result to Google Drive file: [75, 0.8125, 0.9166666666666666, 0.8544630852120481, 0.8775585810873391, 1.3321492007104798, 1.3428827215756491]\n"
          ]
        },
        {
          "output_type": "stream",
          "name": "stderr",
          "text": [
            "\n",
            "\n",
            "Processing medical dataset:  15%|█▌        | 76/500 [13:32<1:13:00, 10.33s/it]\u001b[A\u001b[A"
          ]
        },
        {
          "output_type": "stream",
          "name": "stdout",
          "text": [
            "Appended result to Google Drive file: [76, 0.5555555555555556, 1.0666666666666667, 0.9054248082211608, 0.14565826330532214, 2.029769959404601, 3.1446540880503147]\n"
          ]
        },
        {
          "output_type": "stream",
          "name": "stderr",
          "text": [
            "\n",
            "\n",
            "Processing medical dataset:  15%|█▌        | 77/500 [13:42<1:12:07, 10.23s/it]\u001b[A\u001b[A"
          ]
        },
        {
          "output_type": "stream",
          "name": "stdout",
          "text": [
            "Appended result to Google Drive file: [77, 0.5098039215686274, 0.8235294117647058, 0.9122856528516906, 1.0, 1.5649452269170578, 1.6666666666666663]\n"
          ]
        },
        {
          "output_type": "stream",
          "name": "stderr",
          "text": [
            "\n",
            "\n",
            "Processing medical dataset:  16%|█▌        | 78/500 [13:53<1:11:57, 10.23s/it]\u001b[A\u001b[A"
          ]
        },
        {
          "output_type": "stream",
          "name": "stdout",
          "text": [
            "Appended result to Google Drive file: [78, 0.6944444444444444, 0.7777777777777778, 0.781740995358129, 0.7460600654177818, 1.466275659824047, 1.5889830508474576]\n"
          ]
        },
        {
          "output_type": "stream",
          "name": "stderr",
          "text": [
            "\n",
            "\n",
            "Processing medical dataset:  16%|█▌        | 79/500 [14:03<1:11:43, 10.22s/it]\u001b[A\u001b[A"
          ]
        },
        {
          "output_type": "stream",
          "name": "stdout",
          "text": [
            "Appended result to Google Drive file: [79, 0.5476190476190477, 1.1904761904761905, 0.7195666762534753, 0.40298507462686567, 1.440922190201729, 0.771604938271605]\n"
          ]
        },
        {
          "output_type": "stream",
          "name": "stderr",
          "text": [
            "\n",
            "\n",
            "Processing medical dataset:  16%|█▌        | 80/500 [14:13<1:11:25, 10.20s/it]\u001b[A\u001b[A"
          ]
        },
        {
          "output_type": "stream",
          "name": "stdout",
          "text": [
            "Appended result to Google Drive file: [80, 0.803921568627451, 0.8823529411764706, 0.8535294117647059, 0.2801629012809137, 1.9342359767891681, 1.4326647564469914]\n"
          ]
        },
        {
          "output_type": "stream",
          "name": "stderr",
          "text": [
            "\n",
            "\n",
            "Processing medical dataset:  16%|█▌        | 81/500 [14:25<1:14:02, 10.60s/it]\u001b[A\u001b[A"
          ]
        },
        {
          "output_type": "stream",
          "name": "stdout",
          "text": [
            "Appended result to Google Drive file: [81, 0.8444444444444444, 1.0222222222222221, 0.6743535988819008, 0.29862982929020665, 1.7281105990783407, 1.4641288433382138]\n"
          ]
        },
        {
          "output_type": "stream",
          "name": "stderr",
          "text": [
            "\n",
            "\n",
            "Processing medical dataset:  16%|█▋        | 82/500 [14:35<1:13:29, 10.55s/it]\u001b[A\u001b[A"
          ]
        },
        {
          "output_type": "stream",
          "name": "stdout",
          "text": [
            "Appended result to Google Drive file: [82, 0.37777777777777777, 0.8222222222222222, 0.7305882352941175, 0.4743589743589743, 1.6146393972012916, 1.5625]\n"
          ]
        },
        {
          "output_type": "stream",
          "name": "stderr",
          "text": [
            "\n",
            "\n",
            "Processing medical dataset:  17%|█▋        | 83/500 [14:45<1:13:09, 10.53s/it]\u001b[A\u001b[A"
          ]
        },
        {
          "output_type": "stream",
          "name": "stdout",
          "text": [
            "Appended result to Google Drive file: [83, 0.7083333333333333, 0.9375, 0.9227686703096539, 0.6079365079365079, 1.4430014430014433, 1.41643059490085]\n"
          ]
        },
        {
          "output_type": "stream",
          "name": "stderr",
          "text": [
            "\n",
            "\n",
            "Processing medical dataset:  17%|█▋        | 84/500 [14:54<1:08:24,  9.87s/it]\u001b[A\u001b[A"
          ]
        },
        {
          "output_type": "stream",
          "name": "stdout",
          "text": [
            "Appended result to Google Drive file: [84, 0.125, 1.0, 1.0, 0.9420289855072465, 5.681818181818181, 1.3262599469496024]\n"
          ]
        },
        {
          "output_type": "stream",
          "name": "stderr",
          "text": [
            "\n",
            "\n",
            "Processing medical dataset:  17%|█▋        | 85/500 [15:06<1:12:56, 10.54s/it]\u001b[A\u001b[A"
          ]
        },
        {
          "output_type": "stream",
          "name": "stdout",
          "text": [
            "Appended result to Google Drive file: [85, 0.4444444444444444, 0.6666666666666667, 0.8153367586669825, 0.7336604199031194, 1.3210039630118893, 0.7153075822603719]\n"
          ]
        },
        {
          "output_type": "stream",
          "name": "stderr",
          "text": [
            "\n",
            "\n",
            "Processing medical dataset:  17%|█▋        | 86/500 [15:16<1:12:26, 10.50s/it]\u001b[A\u001b[A"
          ]
        },
        {
          "output_type": "stream",
          "name": "stdout",
          "text": [
            "Appended result to Google Drive file: [86, 0.4444444444444444, 1.0, 0.7512811037201281, 1.0, 2.3474178403755865, 1.3368983957219251]\n"
          ]
        },
        {
          "output_type": "stream",
          "name": "stderr",
          "text": [
            "\n",
            "\n",
            "Processing medical dataset:  17%|█▋        | 87/500 [15:27<1:12:54, 10.59s/it]\u001b[A\u001b[A"
          ]
        },
        {
          "output_type": "stream",
          "name": "stdout",
          "text": [
            "Appended result to Google Drive file: [87, 0.5555555555555556, 0.8333333333333334, 0.7242424242424242, 0.3516500589306761, 1.763668430335097, 1.1235955056179776]\n"
          ]
        },
        {
          "output_type": "stream",
          "name": "stderr",
          "text": [
            "\n",
            "\n",
            "Processing medical dataset:  18%|█▊        | 88/500 [15:38<1:13:02, 10.64s/it]\u001b[A\u001b[A"
          ]
        },
        {
          "output_type": "stream",
          "name": "stdout",
          "text": [
            "Appended result to Google Drive file: [88, 0.7037037037037037, 1.0, 0.7491822991822992, 0.5606060606060606, 1.3146362839614372, 1.457725947521866]\n"
          ]
        },
        {
          "output_type": "stream",
          "name": "stderr",
          "text": [
            "\n",
            "\n",
            "Processing medical dataset:  18%|█▊        | 89/500 [15:49<1:14:27, 10.87s/it]\u001b[A\u001b[A"
          ]
        },
        {
          "output_type": "stream",
          "name": "stdout",
          "text": [
            "Appended result to Google Drive file: [89, 0.5, 0.6818181818181819, 0.8491439552760308, 0.7277777777777779, 1.5463917525773196, 1.5337423312883434]\n"
          ]
        },
        {
          "output_type": "stream",
          "name": "stderr",
          "text": [
            "\n",
            "\n",
            "Processing medical dataset:  18%|█▊        | 90/500 [15:59<1:12:15, 10.57s/it]\u001b[A\u001b[A"
          ]
        },
        {
          "output_type": "stream",
          "name": "stdout",
          "text": [
            "Appended result to Google Drive file: [90, 0.6491228070175439, 0.8947368421052632, 0.8594961240310077, 1.0, 1.6008537886872998, 1.851851851851852]\n"
          ]
        },
        {
          "output_type": "stream",
          "name": "stderr",
          "text": [
            "\n",
            "\n",
            "Processing medical dataset:  18%|█▊        | 91/500 [16:10<1:12:44, 10.67s/it]\u001b[A\u001b[A"
          ]
        },
        {
          "output_type": "stream",
          "name": "stdout",
          "text": [
            "Appended result to Google Drive file: [91, 0.8070175438596492, 0.8596491228070176, 0.7410353535353535, 0.3488372093023256, 1.4851485148514851, 1.798561151079137]\n"
          ]
        },
        {
          "output_type": "stream",
          "name": "stderr",
          "text": [
            "\n",
            "\n",
            "Processing medical dataset:  18%|█▊        | 92/500 [16:22<1:14:18, 10.93s/it]\u001b[A\u001b[A"
          ]
        },
        {
          "output_type": "stream",
          "name": "stdout",
          "text": [
            "Appended result to Google Drive file: [92, 0.8421052631578947, 0.9824561403508771, 0.8047402748660609, 0.695970695970696, 1.5923566878980893, 1.689189189189189]\n"
          ]
        },
        {
          "output_type": "stream",
          "name": "stderr",
          "text": [
            "\n",
            "\n",
            "Processing medical dataset:  19%|█▊        | 93/500 [16:31<1:11:18, 10.51s/it]\u001b[A\u001b[A"
          ]
        },
        {
          "output_type": "stream",
          "name": "stdout",
          "text": [
            "Appended result to Google Drive file: [93, 0.5454545454545454, 1.0, 0.798895386614685, 1.0, 1.5511892450879006, 3.08641975308642]\n"
          ]
        },
        {
          "output_type": "stream",
          "name": "stderr",
          "text": [
            "\n",
            "\n",
            "Processing medical dataset:  19%|█▉        | 94/500 [16:43<1:14:08, 10.96s/it]\u001b[A\u001b[A"
          ]
        },
        {
          "output_type": "stream",
          "name": "stdout",
          "text": [
            "Appended result to Google Drive file: [94, 0.4385964912280702, 1.0, 0.7965452982802798, 1.0, 1.41643059490085, 0.9157509157509156]\n"
          ]
        },
        {
          "output_type": "stream",
          "name": "stderr",
          "text": [
            "\n",
            "\n",
            "Processing medical dataset:  19%|█▉        | 95/500 [16:54<1:13:35, 10.90s/it]\u001b[A\u001b[A"
          ]
        },
        {
          "output_type": "stream",
          "name": "stdout",
          "text": [
            "Appended result to Google Drive file: [95, 0.6, 0.9111111111111111, 0.8081426468620366, 0.4108765675329143, 1.607717041800643, 1.8541409147095183]\n"
          ]
        },
        {
          "output_type": "stream",
          "name": "stderr",
          "text": [
            "\n",
            "\n",
            "Processing medical dataset:  19%|█▉        | 96/500 [17:05<1:14:33, 11.07s/it]\u001b[A\u001b[A"
          ]
        },
        {
          "output_type": "stream",
          "name": "stdout",
          "text": [
            "Appended result to Google Drive file: [96, 0.5952380952380952, 0.9047619047619048, 0.7262191039937989, 0.04477807383115848, 1.6051364365971106, 1.824817518248175]\n"
          ]
        },
        {
          "output_type": "stream",
          "name": "stderr",
          "text": [
            "\n",
            "\n",
            "Processing medical dataset:  19%|█▉        | 97/500 [17:17<1:15:31, 11.24s/it]\u001b[A\u001b[A"
          ]
        },
        {
          "output_type": "stream",
          "name": "stdout",
          "text": [
            "Appended result to Google Drive file: [97, 0.7333333333333334, 0.9333333333333333, 0.8782267115600448, 1.0, 0.727802037845706, 1.5337423312883436]\n"
          ]
        },
        {
          "output_type": "stream",
          "name": "stderr",
          "text": [
            "\n",
            "\n",
            "Processing medical dataset:  20%|█▉        | 98/500 [17:26<1:11:31, 10.68s/it]\u001b[A\u001b[A"
          ]
        },
        {
          "output_type": "stream",
          "name": "stdout",
          "text": [
            "Appended result to Google Drive file: [98, 0.7666666666666666, 0.9666666666666667, 0.7349997966074117, 0.49333333333333335, 1.4634146341463417, 2.237136465324385]\n"
          ]
        },
        {
          "output_type": "stream",
          "name": "stderr",
          "text": [
            "\n",
            "\n",
            "Processing medical dataset:  20%|█▉        | 99/500 [17:36<1:10:15, 10.51s/it]\u001b[A\u001b[A"
          ]
        },
        {
          "output_type": "stream",
          "name": "stdout",
          "text": [
            "Appended result to Google Drive file: [99, 0.6388888888888888, 0.8888888888888888, 0.774848294622306, 0.8532516339869282, 2.0, 2.0408163265306123]\n"
          ]
        },
        {
          "output_type": "stream",
          "name": "stderr",
          "text": [
            "\n",
            "\n",
            "Processing medical dataset:  20%|██        | 100/500 [17:48<1:11:10, 10.68s/it]\u001b[A\u001b[A"
          ]
        },
        {
          "output_type": "stream",
          "name": "stdout",
          "text": [
            "Appended result to Google Drive file: [100, 0.4509803921568627, 1.1176470588235294, 0.8065610859728506, 0.48245614035087714, 1.400560224089636, 1.038421599169263]\n"
          ]
        },
        {
          "output_type": "stream",
          "name": "stderr",
          "text": [
            "\n",
            "\n",
            "Processing medical dataset:  20%|██        | 101/500 [17:58<1:09:37, 10.47s/it]\u001b[A\u001b[A"
          ]
        },
        {
          "output_type": "stream",
          "name": "stdout",
          "text": [
            "Appended result to Google Drive file: [101, 0.5476190476190477, 1.0, 0.8824170693918593, 0.4901960784313726, 1.611170784103115, 2.0000000000000004]\n"
          ]
        },
        {
          "output_type": "stream",
          "name": "stderr",
          "text": [
            "\n",
            "\n",
            "Processing medical dataset:  20%|██        | 102/500 [18:08<1:09:49, 10.53s/it]\u001b[A\u001b[A"
          ]
        },
        {
          "output_type": "stream",
          "name": "stdout",
          "text": [
            "Appended result to Google Drive file: [102, 0.543859649122807, 0.9473684210526316, 0.7444922972430614, 0.4959349593495935, 1.3309671694764864, 1.680672268907563]\n"
          ]
        },
        {
          "output_type": "stream",
          "name": "stderr",
          "text": [
            "\n",
            "\n",
            "Processing medical dataset:  21%|██        | 103/500 [18:19<1:10:41, 10.68s/it]\u001b[A\u001b[A"
          ]
        },
        {
          "output_type": "stream",
          "name": "stdout",
          "text": [
            "Appended result to Google Drive file: [103, 0.4375, 1.0, 0.6480343630881266, 1.0, 1.4347202295552368, 1.25]\n"
          ]
        },
        {
          "output_type": "stream",
          "name": "stderr",
          "text": [
            "\n",
            "\n",
            "Processing medical dataset:  21%|██        | 104/500 [18:28<1:07:23, 10.21s/it]\u001b[A\u001b[A"
          ]
        },
        {
          "output_type": "stream",
          "name": "stdout",
          "text": [
            "Appended result to Google Drive file: [104, 0.5777777777777777, 0.1333333333333333, 0.7398152926077349, 1.0, 1.6420361247947455, 11.363636363636363]\n"
          ]
        },
        {
          "output_type": "stream",
          "name": "stderr",
          "text": [
            "\n",
            "\n",
            "Processing medical dataset:  21%|██        | 105/500 [18:39<1:07:55, 10.32s/it]\u001b[A\u001b[A"
          ]
        },
        {
          "output_type": "stream",
          "name": "stdout",
          "text": [
            "Appended result to Google Drive file: [105, 0.5, 0.8333333333333334, 0.8204980842911876, 0.9310344827586207, 1.4124293785310735, 1.7182130584192439]\n"
          ]
        },
        {
          "output_type": "stream",
          "name": "stderr",
          "text": [
            "\n",
            "\n",
            "Processing medical dataset:  21%|██        | 106/500 [18:49<1:07:51, 10.33s/it]\u001b[A\u001b[A"
          ]
        },
        {
          "output_type": "stream",
          "name": "stdout",
          "text": [
            "Appended result to Google Drive file: [106, 0.7777777777777778, 0.9777777777777777, 0.7226640895821931, 0.38403119868637114, 1.0881392818280742, 1.4409221902017293]\n"
          ]
        },
        {
          "output_type": "stream",
          "name": "stderr",
          "text": [
            "\n",
            "\n",
            "Processing medical dataset:  21%|██▏       | 107/500 [19:00<1:08:01, 10.38s/it]\u001b[A\u001b[A"
          ]
        },
        {
          "output_type": "stream",
          "name": "stdout",
          "text": [
            "Appended result to Google Drive file: [107, 0.7777777777777778, 0.9259259259259259, 0.8832209834932159, 0.9185211592198889, 1.2422360248447206, 1.2004801920768307]\n"
          ]
        },
        {
          "output_type": "stream",
          "name": "stderr",
          "text": [
            "\n",
            "\n",
            "Processing medical dataset:  22%|██▏       | 108/500 [19:10<1:07:28, 10.33s/it]\u001b[A\u001b[A"
          ]
        },
        {
          "output_type": "stream",
          "name": "stdout",
          "text": [
            "Appended result to Google Drive file: [108, 0.6888888888888889, 1.0, 0.7227352425482173, 1.0, 1.0940919037199122, 1.0893246187363834]\n"
          ]
        },
        {
          "output_type": "stream",
          "name": "stderr",
          "text": [
            "\n",
            "\n",
            "Processing medical dataset:  22%|██▏       | 109/500 [19:20<1:06:33, 10.21s/it]\u001b[A\u001b[A"
          ]
        },
        {
          "output_type": "stream",
          "name": "stdout",
          "text": [
            "Appended result to Google Drive file: [109, 0.43137254901960786, 0.6862745098039216, 0.7541788849066476, 0.49275362318840576, 1.0298661174047374, 0.9940357852882702]\n"
          ]
        },
        {
          "output_type": "stream",
          "name": "stderr",
          "text": [
            "\n",
            "\n",
            "Processing medical dataset:  22%|██▏       | 110/500 [19:32<1:09:54, 10.76s/it]\u001b[A\u001b[A"
          ]
        },
        {
          "output_type": "stream",
          "name": "stdout",
          "text": [
            "Appended result to Google Drive file: [110, 0.4285714285714286, 0.5714285714285714, 0.5896734172596242, 0.8491417154939168, 1.1037527593818983, 1.1778563015312131]\n"
          ]
        },
        {
          "output_type": "stream",
          "name": "stderr",
          "text": [
            "\n",
            "\n",
            "Processing medical dataset:  22%|██▏       | 111/500 [19:43<1:09:40, 10.75s/it]\u001b[A\u001b[A"
          ]
        },
        {
          "output_type": "stream",
          "name": "stdout",
          "text": [
            "Appended result to Google Drive file: [111, 0.8333333333333334, 1.0, 0.8096613190730837, 0.1851851851851852, 1.545595054095827, 0.7183908045977011]\n"
          ]
        },
        {
          "output_type": "stream",
          "name": "stderr",
          "text": [
            "\n",
            "\n",
            "Processing medical dataset:  22%|██▏       | 112/500 [19:52<1:06:27, 10.28s/it]\u001b[A\u001b[A"
          ]
        },
        {
          "output_type": "stream",
          "name": "stdout",
          "text": [
            "Appended result to Google Drive file: [112, 0.7111111111111111, 0.8666666666666667, 0.4651229273870783, 1.0, 2.7397260273972606, 2.3364485981308407]\n"
          ]
        },
        {
          "output_type": "stream",
          "name": "stderr",
          "text": [
            "\n",
            "\n",
            "Processing medical dataset:  23%|██▎       | 113/500 [20:04<1:09:08, 10.72s/it]\u001b[A\u001b[A"
          ]
        },
        {
          "output_type": "stream",
          "name": "stdout",
          "text": [
            "Appended result to Google Drive file: [113, 0.625, 0.8125, 0.7277568922305764, 0.9466666666666667, 1.6574585635359118, 1.76678445229682]\n"
          ]
        },
        {
          "output_type": "stream",
          "name": "stderr",
          "text": [
            "\n",
            "\n",
            "Processing medical dataset:  23%|██▎       | 114/500 [20:15<1:09:25, 10.79s/it]\u001b[A\u001b[A"
          ]
        },
        {
          "output_type": "stream",
          "name": "stdout",
          "text": [
            "Appended result to Google Drive file: [114, 0.4375, 0.9375, 0.7875302663438256, 1.0, 1.6949152542372885, 1.388888888888889]\n"
          ]
        },
        {
          "output_type": "stream",
          "name": "stderr",
          "text": [
            "\n",
            "\n",
            "Processing medical dataset:  23%|██▎       | 115/500 [20:27<1:12:12, 11.25s/it]\u001b[A\u001b[A"
          ]
        },
        {
          "output_type": "stream",
          "name": "stdout",
          "text": [
            "Appended result to Google Drive file: [115, 0.6666666666666667, 0.9583333333333334, 0.7907844323452308, 0.09133798974973682, 1.397949673811743, 1.1918951132300357]\n"
          ]
        },
        {
          "output_type": "stream",
          "name": "stderr",
          "text": [
            "\n",
            "\n",
            "Processing medical dataset:  23%|██▎       | 116/500 [20:40<1:16:13, 11.91s/it]\u001b[A\u001b[A"
          ]
        },
        {
          "output_type": "stream",
          "name": "stdout",
          "text": [
            "Appended result to Google Drive file: [116, 0.5833333333333333, 1.625, 0.658026113671275, 0.42740007649646206, 1.5408320493066259, 1.0845986984815617]\n"
          ]
        },
        {
          "output_type": "stream",
          "name": "stderr",
          "text": [
            "\n",
            "\n",
            "Processing medical dataset:  23%|██▎       | 117/500 [20:51<1:13:15, 11.48s/it]\u001b[A\u001b[A"
          ]
        },
        {
          "output_type": "stream",
          "name": "stdout",
          "text": [
            "Appended result to Google Drive file: [117, 0.5714285714285714, 0.8809523809523809, 0.8290947056670327, 0.5416666666666666, 1.5197568389057752, 1.6025641025641024]\n"
          ]
        },
        {
          "output_type": "stream",
          "name": "stderr",
          "text": [
            "\n",
            "\n",
            "Processing medical dataset:  24%|██▎       | 118/500 [21:01<1:11:34, 11.24s/it]\u001b[A\u001b[A"
          ]
        },
        {
          "output_type": "stream",
          "name": "stdout",
          "text": [
            "Appended result to Google Drive file: [118, 0.8444444444444444, 0.9555555555555556, 0.9482151835093012, 0.8395061728395062, 1.6163793103448276, 1.1198208286674132]\n"
          ]
        },
        {
          "output_type": "stream",
          "name": "stderr",
          "text": [
            "\n",
            "\n",
            "Processing medical dataset:  24%|██▍       | 119/500 [21:13<1:12:34, 11.43s/it]\u001b[A\u001b[A"
          ]
        },
        {
          "output_type": "stream",
          "name": "stdout",
          "text": [
            "Appended result to Google Drive file: [119, 0.6842105263157895, 0.9473684210526316, 0.8033003729725041, 0.33535353535353535, 1.3986013986013988, 1.8832391713747645]\n"
          ]
        },
        {
          "output_type": "stream",
          "name": "stderr",
          "text": [
            "\n",
            "\n",
            "Processing medical dataset:  24%|██▍       | 120/500 [21:23<1:09:54, 11.04s/it]\u001b[A\u001b[A"
          ]
        },
        {
          "output_type": "stream",
          "name": "stdout",
          "text": [
            "Appended result to Google Drive file: [120, 0.8125, 0.875, 0.9183673469387755, 0.9727891156462585, 1.756440281030445, 1.7647058823529411]\n"
          ]
        },
        {
          "output_type": "stream",
          "name": "stderr",
          "text": [
            "\n",
            "\n",
            "Processing medical dataset:  24%|██▍       | 121/500 [21:34<1:07:53, 10.75s/it]\u001b[A\u001b[A"
          ]
        },
        {
          "output_type": "stream",
          "name": "stdout",
          "text": [
            "Appended result to Google Drive file: [121, 0.625, 0.9375, 0.6606065759637189, 1.0, 0.927643784786642, 1.1363636363636362]\n"
          ]
        },
        {
          "output_type": "stream",
          "name": "stderr",
          "text": [
            "\n",
            "\n",
            "Processing medical dataset:  24%|██▍       | 122/500 [21:46<1:10:06, 11.13s/it]\u001b[A\u001b[A"
          ]
        },
        {
          "output_type": "stream",
          "name": "stdout",
          "text": [
            "Appended result to Google Drive file: [122, 0.7142857142857143, 0.7619047619047619, 0.6550623289753724, 0.8858146684233641, 0.9940357852882702, 1.0395010395010396]\n"
          ]
        },
        {
          "output_type": "stream",
          "name": "stderr",
          "text": [
            "\n",
            "\n",
            "Processing medical dataset:  25%|██▍       | 123/500 [21:55<1:06:50, 10.64s/it]\u001b[A\u001b[A"
          ]
        },
        {
          "output_type": "stream",
          "name": "stdout",
          "text": [
            "Appended result to Google Drive file: [123, 0.38095238095238093, 0.9047619047619048, 0.4007156507156507, 0.8163061520904659, 2.0964360587002098, 1.824817518248175]\n"
          ]
        },
        {
          "output_type": "stream",
          "name": "stderr",
          "text": [
            "\n",
            "\n",
            "Processing medical dataset:  25%|██▍       | 124/500 [22:06<1:06:23, 10.60s/it]\u001b[A\u001b[A"
          ]
        },
        {
          "output_type": "stream",
          "name": "stdout",
          "text": [
            "Appended result to Google Drive file: [124, 0.6888888888888889, 0.9333333333333333, 0.7475490196078431, 0.8266666666666667, 1.8315018315018312, 1.821493624772313]\n"
          ]
        },
        {
          "output_type": "stream",
          "name": "stderr",
          "text": [
            "\n",
            "\n",
            "Processing medical dataset:  25%|██▌       | 125/500 [22:17<1:07:37, 10.82s/it]\u001b[A\u001b[A"
          ]
        },
        {
          "output_type": "stream",
          "name": "stdout",
          "text": [
            "Appended result to Google Drive file: [125, 0.8235294117647058, 0.9411764705882353, 0.902020202020202, 0.5454545454545454, 1.5000000000000002, 1.515151515151515]\n"
          ]
        },
        {
          "output_type": "stream",
          "name": "stderr",
          "text": [
            "\n",
            "\n",
            "Processing medical dataset:  25%|██▌       | 126/500 [22:28<1:07:45, 10.87s/it]\u001b[A\u001b[A"
          ]
        },
        {
          "output_type": "stream",
          "name": "stdout",
          "text": [
            "Appended result to Google Drive file: [126, 0.6923076923076923, 1.358974358974359, 0.791327499660833, 0.44569288389513106, 1.6528925619834711, 1.194743130227001]\n"
          ]
        },
        {
          "output_type": "stream",
          "name": "stderr",
          "text": [
            "\n",
            "\n",
            "Processing medical dataset:  25%|██▌       | 127/500 [22:40<1:09:53, 11.24s/it]\u001b[A\u001b[A"
          ]
        },
        {
          "output_type": "stream",
          "name": "stdout",
          "text": [
            "Appended result to Google Drive file: [127, 0.5625, 0.8958333333333334, 0.8074074074074074, 0.312496721741411, 1.557632398753894, 1.0976948408342484]\n"
          ]
        },
        {
          "output_type": "stream",
          "name": "stderr",
          "text": [
            "\n",
            "\n",
            "Processing medical dataset:  26%|██▌       | 128/500 [22:52<1:10:23, 11.35s/it]\u001b[A\u001b[A"
          ]
        },
        {
          "output_type": "stream",
          "name": "stdout",
          "text": [
            "Appended result to Google Drive file: [128, 0.6481481481481481, 1.0, 0.8134416501022671, 1.0, 1.3477088948787064, 2.024291497975709]\n"
          ]
        },
        {
          "output_type": "stream",
          "name": "stderr",
          "text": [
            "\n",
            "\n",
            "Processing medical dataset:  26%|██▌       | 129/500 [23:04<1:12:12, 11.68s/it]\u001b[A\u001b[A"
          ]
        },
        {
          "output_type": "stream",
          "name": "stdout",
          "text": [
            "Appended result to Google Drive file: [129, 0.4871794871794872, 1.1794871794871795, 0.7752154670393665, 0.36806165252170525, 1.4044943820224718, 1.1746280344557558]\n"
          ]
        },
        {
          "output_type": "stream",
          "name": "stderr",
          "text": [
            "\n",
            "\n",
            "Processing medical dataset:  26%|██▌       | 130/500 [23:17<1:14:30, 12.08s/it]\u001b[A\u001b[A"
          ]
        },
        {
          "output_type": "stream",
          "name": "stdout",
          "text": [
            "Appended result to Google Drive file: [130, 0.5111111111111111, 0.8888888888888888, 0.7561177815894796, 0.810424084527428, 1.2875536480686698, 0.927643784786642]\n"
          ]
        },
        {
          "output_type": "stream",
          "name": "stderr",
          "text": [
            "\n",
            "\n",
            "Processing medical dataset:  26%|██▌       | 131/500 [23:31<1:17:34, 12.61s/it]\u001b[A\u001b[A"
          ]
        },
        {
          "output_type": "stream",
          "name": "stdout",
          "text": [
            "Appended result to Google Drive file: [131, 0.55, 0.85, 0.792922545990927, 0.9034386996651147, 1.2335526315789471, 0.9442870632672333]\n"
          ]
        },
        {
          "output_type": "stream",
          "name": "stderr",
          "text": [
            "\n",
            "\n",
            "Processing medical dataset:  26%|██▋       | 132/500 [23:42<1:14:32, 12.15s/it]\u001b[A\u001b[A"
          ]
        },
        {
          "output_type": "stream",
          "name": "stdout",
          "text": [
            "Appended result to Google Drive file: [132, 0.4444444444444444, 0.7619047619047619, 0.7014451309454232, 0.2893447293447293, 1.6797312430011198, 1.1402508551881416]\n"
          ]
        },
        {
          "output_type": "stream",
          "name": "stderr",
          "text": [
            "\n",
            "\n",
            "Processing medical dataset:  27%|██▋       | 133/500 [23:57<1:19:45, 13.04s/it]\u001b[A\u001b[A"
          ]
        },
        {
          "output_type": "stream",
          "name": "stdout",
          "text": [
            "Appended result to Google Drive file: [133, 0.6296296296296297, 1.6851851851851851, 0.8152873862314225, 0.8885542168674698, 1.2804097311139566, 0.7342143906020558]\n"
          ]
        },
        {
          "output_type": "stream",
          "name": "stderr",
          "text": [
            "\n",
            "\n",
            "Processing medical dataset:  27%|██▋       | 134/500 [24:08<1:15:20, 12.35s/it]\u001b[A\u001b[A"
          ]
        },
        {
          "output_type": "stream",
          "name": "stdout",
          "text": [
            "Appended result to Google Drive file: [134, 0.5111111111111111, 0.9333333333333333, 0.769047619047619, 0.4202898550724637, 1.3477088948787064, 1.9329896907216493]\n"
          ]
        },
        {
          "output_type": "stream",
          "name": "stderr",
          "text": [
            "\n",
            "\n",
            "Processing medical dataset:  27%|██▋       | 135/500 [24:18<1:11:32, 11.76s/it]\u001b[A\u001b[A"
          ]
        },
        {
          "output_type": "stream",
          "name": "stdout",
          "text": [
            "Appended result to Google Drive file: [135, 0.30952380952380953, 1.1666666666666667, 0.6804479418886199, 0.21372750056960585, 1.5166835187057632, 1.1641443538998835]\n"
          ]
        },
        {
          "output_type": "stream",
          "name": "stderr",
          "text": [
            "\n",
            "\n",
            "Processing medical dataset:  27%|██▋       | 136/500 [24:31<1:12:40, 11.98s/it]\u001b[A\u001b[A"
          ]
        },
        {
          "output_type": "stream",
          "name": "stdout",
          "text": [
            "Appended result to Google Drive file: [136, 0.7592592592592593, 0.962962962962963, 0.7955953128269512, 0.507070707070707, 1.2562814070351758, 0.7042253521126761]\n"
          ]
        },
        {
          "output_type": "stream",
          "name": "stderr",
          "text": [
            "\n",
            "\n",
            "Processing medical dataset:  27%|██▋       | 137/500 [24:40<1:08:05, 11.26s/it]\u001b[A\u001b[A"
          ]
        },
        {
          "output_type": "stream",
          "name": "stdout",
          "text": [
            "Appended result to Google Drive file: [137, 0.6274509803921569, 0.8823529411764706, 0.7722544750846637, 0.873015873015873, 1.6949152542372885, 1.9723865877712028]\n"
          ]
        },
        {
          "output_type": "stream",
          "name": "stderr",
          "text": [
            "\n",
            "\n",
            "Processing medical dataset:  28%|██▊       | 138/500 [24:52<1:08:14, 11.31s/it]\u001b[A\u001b[A"
          ]
        },
        {
          "output_type": "stream",
          "name": "stdout",
          "text": [
            "Appended result to Google Drive file: [138, 0.39583333333333337, 0.6041666666666667, 0.8583495776478233, 0.7993081731738719, 1.6528925619834711, 1.7391304347826086]\n"
          ]
        },
        {
          "output_type": "stream",
          "name": "stderr",
          "text": [
            "\n",
            "\n",
            "Processing medical dataset:  28%|██▊       | 139/500 [25:02<1:06:26, 11.04s/it]\u001b[A\u001b[A"
          ]
        },
        {
          "output_type": "stream",
          "name": "stdout",
          "text": [
            "Appended result to Google Drive file: [139, 0.5625, 1.0, 0.6949152542372881, 1.0, 1.345291479820628, 2.857142857142857]\n"
          ]
        },
        {
          "output_type": "stream",
          "name": "stderr",
          "text": [
            "\n",
            "\n",
            "Processing medical dataset:  28%|██▊       | 140/500 [25:12<1:03:59, 10.67s/it]\u001b[A\u001b[A"
          ]
        },
        {
          "output_type": "stream",
          "name": "stdout",
          "text": [
            "Appended result to Google Drive file: [140, 0.6666666666666667, 1.0, 0.8159371492704827, 1.0, 1.5923566878980893, 2.083333333333333]\n"
          ]
        },
        {
          "output_type": "stream",
          "name": "stderr",
          "text": [
            "\n",
            "\n",
            "Processing medical dataset:  28%|██▊       | 141/500 [25:23<1:04:19, 10.75s/it]\u001b[A\u001b[A"
          ]
        },
        {
          "output_type": "stream",
          "name": "stdout",
          "text": [
            "Appended result to Google Drive file: [141, 0.5333333333333333, 0.9333333333333333, 0.6873569216852798, 0.9012345679012346, 1.4084507042253522, 2.85171102661597]\n"
          ]
        },
        {
          "output_type": "stream",
          "name": "stderr",
          "text": [
            "\n",
            "\n",
            "Processing medical dataset:  28%|██▊       | 142/500 [25:33<1:02:37, 10.49s/it]\u001b[A\u001b[A"
          ]
        },
        {
          "output_type": "stream",
          "name": "stdout",
          "text": [
            "Appended result to Google Drive file: [142, 0.5555555555555556, 0.9814814814814815, 0.7061901061901062, 0.4603174603174603, 1.7421602787456445, 1.7123287671232879]\n"
          ]
        },
        {
          "output_type": "stream",
          "name": "stderr",
          "text": [
            "\n",
            "\n",
            "Processing medical dataset:  29%|██▊       | 143/500 [25:47<1:09:39, 11.71s/it]\u001b[A\u001b[A"
          ]
        },
        {
          "output_type": "stream",
          "name": "stdout",
          "text": [
            "Appended result to Google Drive file: [143, 0.8636363636363636, 2.257575757575758, 0.8120751452230873, 0.65216602149686, 1.5337423312883434, 0.9208103130755065]\n"
          ]
        },
        {
          "output_type": "stream",
          "name": "stderr",
          "text": [
            "\n",
            "\n",
            "Processing medical dataset:  29%|██▉       | 144/500 [26:03<1:15:47, 12.77s/it]\u001b[A\u001b[A"
          ]
        },
        {
          "output_type": "stream",
          "name": "stdout",
          "text": [
            "Appended result to Google Drive file: [144, 0.7166666666666667, 1.6, 0.7790178571428571, 0.5012044564890094, 1.2150668286755772, 0.5076142131979696]\n"
          ]
        },
        {
          "output_type": "stream",
          "name": "stderr",
          "text": [
            "\n",
            "\n",
            "Processing medical dataset:  29%|██▉       | 145/500 [26:13<1:10:47, 11.96s/it]\u001b[A\u001b[A"
          ]
        },
        {
          "output_type": "stream",
          "name": "stdout",
          "text": [
            "Appended result to Google Drive file: [145, 0.7962962962962963, 0.9444444444444444, 0.7689594356261024, 0.216210787944215, 1.7964071856287425, 2.304147465437788]\n"
          ]
        },
        {
          "output_type": "stream",
          "name": "stderr",
          "text": [
            "\n",
            "\n",
            "Processing medical dataset:  29%|██▉       | 146/500 [26:23<1:08:31, 11.62s/it]\u001b[A\u001b[A"
          ]
        },
        {
          "output_type": "stream",
          "name": "stdout",
          "text": [
            "Appended result to Google Drive file: [146, 0.7708333333333334, 0.7916666666666666, 0.7447811447811447, 0.8530502190765082, 2.3364485981308416, 2.1413276231263385]\n"
          ]
        },
        {
          "output_type": "stream",
          "name": "stderr",
          "text": [
            "\n",
            "\n",
            "Processing medical dataset:  29%|██▉       | 147/500 [26:33<1:04:17, 10.93s/it]\u001b[A\u001b[A"
          ]
        },
        {
          "output_type": "stream",
          "name": "stdout",
          "text": [
            "Appended result to Google Drive file: [147, 0.5777777777777777, 1.0666666666666667, 0.7882745207001945, 0.3527777777777778, 1.5220700152207, 1.7793594306049825]\n"
          ]
        },
        {
          "output_type": "stream",
          "name": "stderr",
          "text": [
            "\n",
            "\n",
            "Processing medical dataset:  30%|██▉       | 148/500 [26:44<1:04:15, 10.95s/it]\u001b[A\u001b[A"
          ]
        },
        {
          "output_type": "stream",
          "name": "stdout",
          "text": [
            "Appended result to Google Drive file: [148, 0.8055555555555556, 0.9166666666666666, 0.7811667891856572, 0.7246464646464646, 1.7482517482517481, 1.7391304347826086]\n"
          ]
        },
        {
          "output_type": "stream",
          "name": "stderr",
          "text": [
            "\n",
            "\n",
            "Processing medical dataset:  30%|██▉       | 149/500 [26:55<1:04:21, 11.00s/it]\u001b[A\u001b[A"
          ]
        },
        {
          "output_type": "stream",
          "name": "stdout",
          "text": [
            "Appended result to Google Drive file: [149, 0.8222222222222222, 0.8888888888888888, 0.9154717853839038, 0.9710144927536232, 1.550387596899225, 1.5313935681470137]\n"
          ]
        },
        {
          "output_type": "stream",
          "name": "stderr",
          "text": [
            "\n",
            "\n",
            "Processing medical dataset:  30%|███       | 150/500 [27:06<1:04:43, 11.09s/it]\u001b[A\u001b[A"
          ]
        },
        {
          "output_type": "stream",
          "name": "stdout",
          "text": [
            "Appended result to Google Drive file: [150, 0.46153846153846156, 1.0, 0.5487999772203892, 1.0, 1.6949152542372885, 1.9607843137254901]\n"
          ]
        },
        {
          "output_type": "stream",
          "name": "stderr",
          "text": [
            "\n",
            "\n",
            "Processing medical dataset:  30%|███       | 151/500 [27:16<1:02:01, 10.66s/it]\u001b[A\u001b[A"
          ]
        },
        {
          "output_type": "stream",
          "name": "stdout",
          "text": [
            "Appended result to Google Drive file: [151, 0.4444444444444444, 0.9333333333333333, 0.5185185185185185, 1.0, 2.1691973969631237, 1.497005988023952]\n"
          ]
        },
        {
          "output_type": "stream",
          "name": "stderr",
          "text": [
            "\n",
            "\n",
            "Processing medical dataset:  30%|███       | 152/500 [27:27<1:02:50, 10.83s/it]\u001b[A\u001b[A"
          ]
        },
        {
          "output_type": "stream",
          "name": "stdout",
          "text": [
            "Appended result to Google Drive file: [152, 0.8, 1.0, 0.9096045197740112, 1.0, 1.4245014245014245, 1.2919896640826873]\n"
          ]
        },
        {
          "output_type": "stream",
          "name": "stderr",
          "text": [
            "\n",
            "\n",
            "Processing medical dataset:  31%|███       | 153/500 [27:38<1:03:29, 10.98s/it]\u001b[A\u001b[A"
          ]
        },
        {
          "output_type": "stream",
          "name": "stdout",
          "text": [
            "Appended result to Google Drive file: [153, 0.6862745098039216, 0.9215686274509804, 0.9186255869558955, 0.43424908424908426, 1.3888888888888888, 1.8007202881152464]\n"
          ]
        },
        {
          "output_type": "stream",
          "name": "stderr",
          "text": [
            "\n",
            "\n",
            "Processing medical dataset:  31%|███       | 154/500 [27:49<1:02:25, 10.83s/it]\u001b[A\u001b[A"
          ]
        },
        {
          "output_type": "stream",
          "name": "stdout",
          "text": [
            "Appended result to Google Drive file: [154, 0.7037037037037037, 0.9444444444444444, 0.8275797810389006, 1.0, 1.3066202090592334, 1.658374792703151]\n"
          ]
        },
        {
          "output_type": "stream",
          "name": "stderr",
          "text": [
            "\n",
            "\n",
            "Processing medical dataset:  31%|███       | 155/500 [27:58<59:53, 10.41s/it]  \u001b[A\u001b[A"
          ]
        },
        {
          "output_type": "stream",
          "name": "stdout",
          "text": [
            "Appended result to Google Drive file: [155, 0.7857142857142857, 0.9523809523809523, 0.9093795093795093, 0.8719605475040257, 1.9880715705765404, 1.98019801980198]\n"
          ]
        },
        {
          "output_type": "stream",
          "name": "stderr",
          "text": [
            "\n",
            "\n",
            "Processing medical dataset:  31%|███       | 156/500 [28:10<1:01:03, 10.65s/it]\u001b[A\u001b[A"
          ]
        },
        {
          "output_type": "stream",
          "name": "stdout",
          "text": [
            "Appended result to Google Drive file: [156, 0.6818181818181819, 0.9545454545454546, 0.8154585689176884, 0.46341463414634143, 1.4423076923076923, 1.7123287671232879]\n"
          ]
        },
        {
          "output_type": "stream",
          "name": "stderr",
          "text": [
            "\n",
            "\n",
            "Processing medical dataset:  31%|███▏      | 157/500 [28:21<1:02:31, 10.94s/it]\u001b[A\u001b[A"
          ]
        },
        {
          "output_type": "stream",
          "name": "stdout",
          "text": [
            "Appended result to Google Drive file: [157, 0.8125, 0.8541666666666666, 0.766838598016118, 0.4804332634521314, 1.3440860215053763, 0.9861932938856016]\n"
          ]
        },
        {
          "output_type": "stream",
          "name": "stderr",
          "text": [
            "\n",
            "\n",
            "Processing medical dataset:  32%|███▏      | 158/500 [28:32<1:02:05, 10.89s/it]\u001b[A\u001b[A"
          ]
        },
        {
          "output_type": "stream",
          "name": "stdout",
          "text": [
            "Appended result to Google Drive file: [158, 0.6666666666666667, 1.0, 0.9466666666666667, 1.0, 1.5772870662460567, 1.2626262626262625]\n"
          ]
        },
        {
          "output_type": "stream",
          "name": "stderr",
          "text": [
            "\n",
            "\n",
            "Processing medical dataset:  32%|███▏      | 159/500 [28:44<1:03:38, 11.20s/it]\u001b[A\u001b[A"
          ]
        },
        {
          "output_type": "stream",
          "name": "stdout",
          "text": [
            "Appended result to Google Drive file: [159, 0.4385964912280702, 1.0, 0.5095157339363104, 1.0, 1.4137606032045238, 1.044932079414838]\n"
          ]
        },
        {
          "output_type": "stream",
          "name": "stderr",
          "text": [
            "\n",
            "\n",
            "Processing medical dataset:  32%|███▏      | 160/500 [28:53<1:00:05, 10.60s/it]\u001b[A\u001b[A"
          ]
        },
        {
          "output_type": "stream",
          "name": "stdout",
          "text": [
            "Appended result to Google Drive file: [160, 0.8518518518518519, 0.40740740740740744, 0.867140522875817, 0.13143939393939394, 1.7502917152858812, 1.4970059880239517]\n"
          ]
        },
        {
          "output_type": "stream",
          "name": "stderr",
          "text": [
            "\n",
            "\n",
            "Processing medical dataset:  32%|███▏      | 161/500 [29:03<58:26, 10.34s/it]  \u001b[A\u001b[A"
          ]
        },
        {
          "output_type": "stream",
          "name": "stdout",
          "text": [
            "Appended result to Google Drive file: [161, 0.6, 1.0, 0.8511246697260465, 1.0, 1.65016501650165, 1.8382352941176472]\n"
          ]
        },
        {
          "output_type": "stream",
          "name": "stderr",
          "text": [
            "\n",
            "\n",
            "Processing medical dataset:  32%|███▏      | 162/500 [29:14<59:33, 10.57s/it]\u001b[A\u001b[A"
          ]
        },
        {
          "output_type": "stream",
          "name": "stdout",
          "text": [
            "Appended result to Google Drive file: [162, 0.6666666666666667, 1.3125, 0.6596404745473069, 0.42666333906420423, 2.0215633423180597, 1.015228426395939]\n"
          ]
        },
        {
          "output_type": "stream",
          "name": "stderr",
          "text": [
            "\n",
            "\n",
            "Processing medical dataset:  33%|███▎      | 163/500 [29:23<57:38, 10.26s/it]\u001b[A\u001b[A"
          ]
        },
        {
          "output_type": "stream",
          "name": "stdout",
          "text": [
            "Appended result to Google Drive file: [163, 0.5277777777777778, 0.9444444444444444, 0.7095799262465929, 0.5652173913043478, 1.763668430335097, 1.6891891891891893]\n"
          ]
        },
        {
          "output_type": "stream",
          "name": "stderr",
          "text": [
            "\n",
            "\n",
            "Processing medical dataset:  33%|███▎      | 164/500 [29:34<58:36, 10.46s/it]\u001b[A\u001b[A"
          ]
        },
        {
          "output_type": "stream",
          "name": "stdout",
          "text": [
            "Appended result to Google Drive file: [164, 0.4509803921568627, 1.1176470588235294, 0.8380952380952381, 0.14418859649122806, 1.5552099533437014, 1.392757660167131]\n"
          ]
        },
        {
          "output_type": "stream",
          "name": "stderr",
          "text": [
            "\n",
            "\n",
            "Processing medical dataset:  33%|███▎      | 165/500 [29:47<1:02:24, 11.18s/it]\u001b[A\u001b[A"
          ]
        },
        {
          "output_type": "stream",
          "name": "stdout",
          "text": [
            "Appended result to Google Drive file: [165, 0.6666666666666667, 0.7843137254901961, 0.7975424357777299, 0.6590896619841966, 1.223491027732463, 1.2776831345826236]\n"
          ]
        },
        {
          "output_type": "stream",
          "name": "stderr",
          "text": [
            "\n",
            "\n",
            "Processing medical dataset:  33%|███▎      | 166/500 [29:58<1:01:08, 10.98s/it]\u001b[A\u001b[A"
          ]
        },
        {
          "output_type": "stream",
          "name": "stdout",
          "text": [
            "Appended result to Google Drive file: [166, 0.6984126984126984, 0.9047619047619048, 0.6403735632183908, 1.0, 1.626898047722343, 1.7825311942959006]\n"
          ]
        },
        {
          "output_type": "stream",
          "name": "stderr",
          "text": [
            "\n",
            "\n",
            "Processing medical dataset:  33%|███▎      | 167/500 [30:10<1:03:28, 11.44s/it]\u001b[A\u001b[A"
          ]
        },
        {
          "output_type": "stream",
          "name": "stdout",
          "text": [
            "Appended result to Google Drive file: [167, 0.7083333333333333, 1.25, 0.5406571985519354, 0.5362148015836975, 1.6, 1.612903225806452]\n"
          ]
        },
        {
          "output_type": "stream",
          "name": "stderr",
          "text": [
            "\n",
            "\n",
            "Processing medical dataset:  34%|███▎      | 168/500 [30:23<1:04:43, 11.70s/it]\u001b[A\u001b[A"
          ]
        },
        {
          "output_type": "stream",
          "name": "stdout",
          "text": [
            "Appended result to Google Drive file: [168, 0.5686274509803921, 0.8235294117647058, 0.7288793477318066, 0.3837789661319073, 1.2804097311139566, 1.492537313432836]\n"
          ]
        },
        {
          "output_type": "stream",
          "name": "stderr",
          "text": [
            "\n",
            "\n",
            "Processing medical dataset:  34%|███▍      | 169/500 [30:35<1:05:04, 11.80s/it]\u001b[A\u001b[A"
          ]
        },
        {
          "output_type": "stream",
          "name": "stdout",
          "text": [
            "Appended result to Google Drive file: [169, 0.5277777777777778, 1.0555555555555556, 0.6734504785120983, 0.26602954788608796, 1.4104372355430184, 1.2970168612191957]\n"
          ]
        },
        {
          "output_type": "stream",
          "name": "stderr",
          "text": [
            "\n",
            "\n",
            "Processing medical dataset:  34%|███▍      | 170/500 [30:45<1:02:33, 11.38s/it]\u001b[A\u001b[A"
          ]
        },
        {
          "output_type": "stream",
          "name": "stdout",
          "text": [
            "Appended result to Google Drive file: [170, 0.631578947368421, 1.0, 0.5669006919006919, 1.0, 1.4450867052023122, 1.6260162601626014]\n"
          ]
        },
        {
          "output_type": "stream",
          "name": "stderr",
          "text": [
            "\n",
            "\n",
            "Processing medical dataset:  34%|███▍      | 171/500 [30:57<1:02:42, 11.44s/it]\u001b[A\u001b[A"
          ]
        },
        {
          "output_type": "stream",
          "name": "stdout",
          "text": [
            "Appended result to Google Drive file: [171, 0.5625, 1.0, 0.7897619496262798, 0.4523809523809524, 1.366120218579235, 1.0460251046025104]\n"
          ]
        },
        {
          "output_type": "stream",
          "name": "stderr",
          "text": [
            "\n",
            "\n",
            "Processing medical dataset:  34%|███▍      | 172/500 [31:08<1:02:58, 11.52s/it]\u001b[A\u001b[A"
          ]
        },
        {
          "output_type": "stream",
          "name": "stdout",
          "text": [
            "Appended result to Google Drive file: [172, 0.4, 1.3777777777777778, 0.7037463007801991, 0.3592447982691885, 1.4388489208633095, 0.8841732979664014]\n"
          ]
        },
        {
          "output_type": "stream",
          "name": "stderr",
          "text": [
            "\n",
            "\n",
            "Processing medical dataset:  35%|███▍      | 173/500 [31:18<1:00:29, 11.10s/it]\u001b[A\u001b[A"
          ]
        },
        {
          "output_type": "stream",
          "name": "stdout",
          "text": [
            "Appended result to Google Drive file: [173, 0.5833333333333333, 0.9166666666666666, 0.524996013972837, 0.5777777777777778, 1.547987616099071, 1.7482517482517481]\n"
          ]
        },
        {
          "output_type": "stream",
          "name": "stderr",
          "text": [
            "\n",
            "\n",
            "Processing medical dataset:  35%|███▍      | 174/500 [31:28<58:26, 10.76s/it]  \u001b[A\u001b[A"
          ]
        },
        {
          "output_type": "stream",
          "name": "stdout",
          "text": [
            "Appended result to Google Drive file: [174, 0.6833333333333333, 1.0, 0.6886941775014132, 0.47222222222222215, 1.5321756894790601, 2.411575562700965]\n"
          ]
        },
        {
          "output_type": "stream",
          "name": "stderr",
          "text": [
            "\n",
            "\n",
            "Processing medical dataset:  35%|███▌      | 175/500 [31:39<57:28, 10.61s/it]\u001b[A\u001b[A"
          ]
        },
        {
          "output_type": "stream",
          "name": "stdout",
          "text": [
            "Appended result to Google Drive file: [175, 0.7037037037037037, 0.9259259259259259, 0.7777901015478655, 0.29741019214703424, 1.7921146953405016, 2.029769959404601]\n"
          ]
        },
        {
          "output_type": "stream",
          "name": "stderr",
          "text": [
            "\n",
            "\n",
            "Processing medical dataset:  35%|███▌      | 176/500 [31:49<56:37, 10.49s/it]\u001b[A\u001b[A"
          ]
        },
        {
          "output_type": "stream",
          "name": "stdout",
          "text": [
            "Appended result to Google Drive file: [176, 0.5833333333333333, 0.95, 0.7517043740573154, 0.9761904761904763, 1.6304347826086956, 1.6103059581320454]\n"
          ]
        },
        {
          "output_type": "stream",
          "name": "stderr",
          "text": [
            "\n",
            "\n",
            "Processing medical dataset:  35%|███▌      | 177/500 [31:59<56:01, 10.41s/it]\u001b[A\u001b[A"
          ]
        },
        {
          "output_type": "stream",
          "name": "stdout",
          "text": [
            "Appended result to Google Drive file: [177, 0.6041666666666667, 0.6875, 0.7442734193975505, 0.7761316393871559, 1.6863406408094437, 1.7035775127768313]\n"
          ]
        },
        {
          "output_type": "stream",
          "name": "stderr",
          "text": [
            "\n",
            "\n",
            "Processing medical dataset:  36%|███▌      | 178/500 [32:10<56:05, 10.45s/it]\u001b[A\u001b[A"
          ]
        },
        {
          "output_type": "stream",
          "name": "stdout",
          "text": [
            "Appended result to Google Drive file: [178, 0.6984126984126984, 0.9523809523809523, 0.857145732689211, 0.16424531636620712, 1.5228426395939085, 1.342281879194631]\n"
          ]
        },
        {
          "output_type": "stream",
          "name": "stderr",
          "text": [
            "\n",
            "\n",
            "Processing medical dataset:  36%|███▌      | 179/500 [32:21<57:29, 10.75s/it]\u001b[A\u001b[A"
          ]
        },
        {
          "output_type": "stream",
          "name": "stdout",
          "text": [
            "Appended result to Google Drive file: [179, 0.6851851851851851, 0.8888888888888888, 0.7449019607843136, 1.0, 1.865671641791045, 1.865671641791045]\n"
          ]
        },
        {
          "output_type": "stream",
          "name": "stderr",
          "text": [
            "\n",
            "\n",
            "Processing medical dataset:  36%|███▌      | 180/500 [32:30<55:08, 10.34s/it]\u001b[A\u001b[A"
          ]
        },
        {
          "output_type": "stream",
          "name": "stdout",
          "text": [
            "Appended result to Google Drive file: [180, 0.25, 1.0, 0.7625203820172374, 1.0, 1.6474464579901154, 1.5337423312883436]\n"
          ]
        },
        {
          "output_type": "stream",
          "name": "stderr",
          "text": [
            "\n",
            "\n",
            "Processing medical dataset:  36%|███▌      | 181/500 [32:42<57:41, 10.85s/it]\u001b[A\u001b[A"
          ]
        },
        {
          "output_type": "stream",
          "name": "stdout",
          "text": [
            "Appended result to Google Drive file: [181, 0.44999999999999996, 1.2, 0.584362974987975, 0.1830221524151153, 1.3054830287206265, 1.3901760889712698]\n"
          ]
        },
        {
          "output_type": "stream",
          "name": "stderr",
          "text": [
            "\n",
            "\n",
            "Processing medical dataset:  36%|███▋      | 182/500 [32:52<56:06, 10.59s/it]\u001b[A\u001b[A"
          ]
        },
        {
          "output_type": "stream",
          "name": "stdout",
          "text": [
            "Appended result to Google Drive file: [182, 0.7857142857142857, 1.3333333333333333, 0.8337590711175618, 0.18046536796536797, 1.773049645390071, 1.2970168612191961]\n"
          ]
        },
        {
          "output_type": "stream",
          "name": "stderr",
          "text": [
            "\n",
            "\n",
            "Processing medical dataset:  37%|███▋      | 183/500 [33:02<55:02, 10.42s/it]\u001b[A\u001b[A"
          ]
        },
        {
          "output_type": "stream",
          "name": "stdout",
          "text": [
            "Appended result to Google Drive file: [183, 0.6666666666666667, 1.0, 0.864418811002662, 1.0, 0.8992805755395683, 1.5243902439024393]\n"
          ]
        },
        {
          "output_type": "stream",
          "name": "stderr",
          "text": [
            "\n",
            "\n",
            "Processing medical dataset:  37%|███▋      | 184/500 [33:13<55:02, 10.45s/it]\u001b[A\u001b[A"
          ]
        },
        {
          "output_type": "stream",
          "name": "stdout",
          "text": [
            "Appended result to Google Drive file: [184, 0.6507936507936508, 0.9047619047619048, 0.7023454887861668, 0.13376906318082787, 1.4880952380952381, 1.5037593984962407]\n"
          ]
        },
        {
          "output_type": "stream",
          "name": "stderr",
          "text": [
            "\n",
            "\n",
            "Processing medical dataset:  37%|███▋      | 185/500 [33:25<57:53, 11.03s/it]\u001b[A\u001b[A"
          ]
        },
        {
          "output_type": "stream",
          "name": "stdout",
          "text": [
            "Appended result to Google Drive file: [185, 0.6166666666666667, 1.1666666666666667, 0.9027777777777777, 0.4095969498910675, 1.6233766233766236, 1.2690355329949239]\n"
          ]
        },
        {
          "output_type": "stream",
          "name": "stderr",
          "text": [
            "\n",
            "\n",
            "Processing medical dataset:  37%|███▋      | 186/500 [33:37<58:04, 11.10s/it]\u001b[A\u001b[A"
          ]
        },
        {
          "output_type": "stream",
          "name": "stdout",
          "text": [
            "Appended result to Google Drive file: [186, 0.7592592592592593, 0.8518518518518519, 0.7671776742546887, 0.744636456733231, 1.7152658662092626, 1.6666666666666667]\n"
          ]
        },
        {
          "output_type": "stream",
          "name": "stderr",
          "text": [
            "\n",
            "\n",
            "Processing medical dataset:  37%|███▋      | 187/500 [33:48<57:59, 11.12s/it]\u001b[A\u001b[A"
          ]
        },
        {
          "output_type": "stream",
          "name": "stdout",
          "text": [
            "Appended result to Google Drive file: [187, 0.29166666666666663, 1.1041666666666667, 0.5976550634833849, 0.40996168582375475, 1.6583747927031514, 1.4265335235378032]\n"
          ]
        },
        {
          "output_type": "stream",
          "name": "stderr",
          "text": [
            "\n",
            "\n",
            "Processing medical dataset:  38%|███▊      | 188/500 [33:57<55:31, 10.68s/it]\u001b[A\u001b[A"
          ]
        },
        {
          "output_type": "stream",
          "name": "stdout",
          "text": [
            "Appended result to Google Drive file: [188, 0.7291666666666667, 0.9375, 0.840735294117647, 1.0, 1.824817518248175, 2.4154589371980673]\n"
          ]
        },
        {
          "output_type": "stream",
          "name": "stderr",
          "text": [
            "\n",
            "\n",
            "Processing medical dataset:  38%|███▊      | 189/500 [34:08<55:30, 10.71s/it]\u001b[A\u001b[A"
          ]
        },
        {
          "output_type": "stream",
          "name": "stdout",
          "text": [
            "Appended result to Google Drive file: [189, 0.7647058823529411, 1.0, 0.7642490035406196, 1.0, 1.392757660167131, 0.9765625]\n"
          ]
        },
        {
          "output_type": "stream",
          "name": "stderr",
          "text": [
            "\n",
            "\n",
            "Processing medical dataset:  38%|███▊      | 190/500 [34:19<56:07, 10.86s/it]\u001b[A\u001b[A"
          ]
        },
        {
          "output_type": "stream",
          "name": "stdout",
          "text": [
            "Appended result to Google Drive file: [190, 0.4375, 0.9791666666666666, 0.49765355417529333, 0.5238095238095237, 1.3698630136986303, 1.1286681715575622]\n"
          ]
        },
        {
          "output_type": "stream",
          "name": "stderr",
          "text": [
            "\n",
            "\n",
            "Processing medical dataset:  38%|███▊      | 191/500 [34:28<52:18, 10.16s/it]\u001b[A\u001b[A"
          ]
        },
        {
          "output_type": "stream",
          "name": "stdout",
          "text": [
            "Appended result to Google Drive file: [191, 0.3125, 0.5833333333333333, 0.9649122807017543, 0.12222222222222223, 4.82315112540193, 1.7513134851138354]\n"
          ]
        },
        {
          "output_type": "stream",
          "name": "stderr",
          "text": [
            "\n",
            "\n",
            "Processing medical dataset:  38%|███▊      | 192/500 [34:39<53:29, 10.42s/it]\u001b[A\u001b[A"
          ]
        },
        {
          "output_type": "stream",
          "name": "stdout",
          "text": [
            "Appended result to Google Drive file: [192, 0.7777777777777778, 1.0, 0.8941069761237829, 1.0, 1.4436958614051971, 1.7182130584192439]\n"
          ]
        },
        {
          "output_type": "stream",
          "name": "stderr",
          "text": [
            "\n",
            "\n",
            "Processing medical dataset:  39%|███▊      | 193/500 [34:51<55:07, 10.77s/it]\u001b[A\u001b[A"
          ]
        },
        {
          "output_type": "stream",
          "name": "stdout",
          "text": [
            "Appended result to Google Drive file: [193, 0.5740740740740741, 1.0925925925925926, 0.7849462365591396, 0.6499434269586084, 1.4423076923076923, 1.178318931657502]\n"
          ]
        },
        {
          "output_type": "stream",
          "name": "stderr",
          "text": [
            "\n",
            "\n",
            "Processing medical dataset:  39%|███▉      | 194/500 [35:00<53:04, 10.41s/it]\u001b[A\u001b[A"
          ]
        },
        {
          "output_type": "stream",
          "name": "stdout",
          "text": [
            "Appended result to Google Drive file: [194, 0.5777777777777777, 0.8888888888888888, 0.8166402116402116, 0.8933333333333332, 1.8518518518518514, 1.538461538461538]\n"
          ]
        },
        {
          "output_type": "stream",
          "name": "stderr",
          "text": [
            "\n",
            "\n",
            "Processing medical dataset:  39%|███▉      | 195/500 [35:11<53:51, 10.59s/it]\u001b[A\u001b[A"
          ]
        },
        {
          "output_type": "stream",
          "name": "stdout",
          "text": [
            "Appended result to Google Drive file: [195, 0.7083333333333333, 1.2916666666666667, 0.808531746031746, 0.5223880597014925, 1.893939393939394, 1.141552511415525]\n"
          ]
        },
        {
          "output_type": "stream",
          "name": "stderr",
          "text": [
            "\n",
            "\n",
            "Processing medical dataset:  39%|███▉      | 196/500 [35:21<52:04, 10.28s/it]\u001b[A\u001b[A"
          ]
        },
        {
          "output_type": "stream",
          "name": "stdout",
          "text": [
            "Appended result to Google Drive file: [196, 0.7111111111111111, 0.9111111111111111, 0.7452830188679246, 0.15884626821290515, 1.9633507853403138, 1.851851851851852]\n"
          ]
        },
        {
          "output_type": "stream",
          "name": "stderr",
          "text": [
            "\n",
            "\n",
            "Processing medical dataset:  39%|███▉      | 197/500 [35:32<54:07, 10.72s/it]\u001b[A\u001b[A"
          ]
        },
        {
          "output_type": "stream",
          "name": "stdout",
          "text": [
            "Appended result to Google Drive file: [197, 0.5185185185185186, 1.0555555555555556, 0.8207336523125998, 0.5259259259259259, 1.4684287812041115, 1.2285012285012284]\n"
          ]
        },
        {
          "output_type": "stream",
          "name": "stderr",
          "text": [
            "\n",
            "\n",
            "Processing medical dataset:  40%|███▉      | 198/500 [35:43<54:18, 10.79s/it]\u001b[A\u001b[A"
          ]
        },
        {
          "output_type": "stream",
          "name": "stdout",
          "text": [
            "Appended result to Google Drive file: [198, 0.6842105263157895, 1.0, 0.8872719007727774, 0.978494623655914, 1.3686131386861313, 1.4836795252225519]\n"
          ]
        },
        {
          "output_type": "stream",
          "name": "stderr",
          "text": [
            "\n",
            "\n",
            "Processing medical dataset:  40%|███▉      | 199/500 [35:54<53:47, 10.72s/it]\u001b[A\u001b[A"
          ]
        },
        {
          "output_type": "stream",
          "name": "stdout",
          "text": [
            "Appended result to Google Drive file: [199, 0.543859649122807, 0.8947368421052632, 0.7471182499918131, 0.40740740740740744, 1.5856236786469344, 2.5996533795493937]\n"
          ]
        },
        {
          "output_type": "stream",
          "name": "stderr",
          "text": [
            "\n",
            "\n",
            "Processing medical dataset:  40%|████      | 200/500 [36:04<52:10, 10.43s/it]\u001b[A\u001b[A"
          ]
        },
        {
          "output_type": "stream",
          "name": "stdout",
          "text": [
            "Appended result to Google Drive file: [200, 0.6491228070175439, 0.8947368421052632, 0.6903940886699508, 0.5238095238095237, 1.6722408026755853, 2.688172043010753]\n"
          ]
        },
        {
          "output_type": "stream",
          "name": "stderr",
          "text": [
            "\n",
            "\n",
            "Processing medical dataset:  40%|████      | 201/500 [36:15<53:24, 10.72s/it]\u001b[A\u001b[A"
          ]
        },
        {
          "output_type": "stream",
          "name": "stdout",
          "text": [
            "Appended result to Google Drive file: [201, 0.42105263157894735, 0.7894736842105263, 0.6728515333764103, 0.7685833181459207, 1.4903129657228018, 1.4285714285714284]\n"
          ]
        },
        {
          "output_type": "stream",
          "name": "stderr",
          "text": [
            "\n",
            "\n",
            "Processing medical dataset:  40%|████      | 202/500 [36:27<54:35, 10.99s/it]\u001b[A\u001b[A"
          ]
        },
        {
          "output_type": "stream",
          "name": "stdout",
          "text": [
            "Appended result to Google Drive file: [202, 0.607843137254902, 0.9411764705882353, 0.8083511916358206, 0.13078149920255183, 1.510574018126888, 1.21654501216545]\n"
          ]
        },
        {
          "output_type": "stream",
          "name": "stderr",
          "text": [
            "\n",
            "\n",
            "Processing medical dataset:  41%|████      | 203/500 [36:37<53:41, 10.85s/it]\u001b[A\u001b[A"
          ]
        },
        {
          "output_type": "stream",
          "name": "stdout",
          "text": [
            "Appended result to Google Drive file: [203, 0.5666666666666667, 1.0, 0.7291375291375292, 0.47222222222222227, 1.680672268907563, 1.1904761904761902]\n"
          ]
        },
        {
          "output_type": "stream",
          "name": "stderr",
          "text": [
            "\n",
            "\n",
            "Processing medical dataset:  41%|████      | 204/500 [36:51<57:12, 11.59s/it]\u001b[A\u001b[A"
          ]
        },
        {
          "output_type": "stream",
          "name": "stdout",
          "text": [
            "Appended result to Google Drive file: [204, 0.6956521739130435, 1.0, 0.8399775533108866, 1.0, 1.2325390304026294, 1.1001100110011002]\n"
          ]
        },
        {
          "output_type": "stream",
          "name": "stderr",
          "text": [
            "\n",
            "\n",
            "Processing medical dataset:  41%|████      | 205/500 [37:00<54:12, 11.03s/it]\u001b[A\u001b[A"
          ]
        },
        {
          "output_type": "stream",
          "name": "stdout",
          "text": [
            "Appended result to Google Drive file: [205, 0.6470588235294117, 0.9411764705882353, 0.7734408881949865, 0.47368421052631576, 1.4306151645207439, 1.483679525222552]\n"
          ]
        },
        {
          "output_type": "stream",
          "name": "stderr",
          "text": [
            "\n",
            "\n",
            "Processing medical dataset:  41%|████      | 206/500 [37:11<54:09, 11.05s/it]\u001b[A\u001b[A"
          ]
        },
        {
          "output_type": "stream",
          "name": "stdout",
          "text": [
            "Appended result to Google Drive file: [206, 0.5, 1.2857142857142856, 0.7148745519713261, 0.25223387723387725, 1.3774104683195592, 1.6163793103448276]\n"
          ]
        },
        {
          "output_type": "stream",
          "name": "stderr",
          "text": [
            "\n",
            "\n",
            "Processing medical dataset:  41%|████▏     | 207/500 [37:22<53:51, 11.03s/it]\u001b[A\u001b[A"
          ]
        },
        {
          "output_type": "stream",
          "name": "stdout",
          "text": [
            "Appended result to Google Drive file: [207, 0.5, 1.0, 0.6995171202809481, 0.30952380952380953, 1.2836970474967906, 1.25]\n"
          ]
        },
        {
          "output_type": "stream",
          "name": "stderr",
          "text": [
            "\n",
            "\n",
            "Processing medical dataset:  42%|████▏     | 208/500 [37:33<53:13, 10.94s/it]\u001b[A\u001b[A"
          ]
        },
        {
          "output_type": "stream",
          "name": "stdout",
          "text": [
            "Appended result to Google Drive file: [208, 0.7619047619047619, 1.0, 0.8318392134181608, 1.0, 1.4903129657228018, 1.2690355329949239]\n"
          ]
        },
        {
          "output_type": "stream",
          "name": "stderr",
          "text": [
            "\n",
            "\n",
            "Processing medical dataset:  42%|████▏     | 209/500 [37:44<52:21, 10.79s/it]\u001b[A\u001b[A"
          ]
        },
        {
          "output_type": "stream",
          "name": "stdout",
          "text": [
            "Appended result to Google Drive file: [209, 0.5333333333333333, 0.9333333333333333, 0.8117507928828683, 1.0, 1.4520813165537272, 1.792114695340502]\n"
          ]
        },
        {
          "output_type": "stream",
          "name": "stderr",
          "text": [
            "\n",
            "\n",
            "Processing medical dataset:  42%|████▏     | 210/500 [37:56<54:21, 11.25s/it]\u001b[A\u001b[A"
          ]
        },
        {
          "output_type": "stream",
          "name": "stdout",
          "text": [
            "Appended result to Google Drive file: [210, 0.5111111111111111, 1.2222222222222223, 0.2840909090909091, 0.5249980902910396, 2.6525198938992047, 0.8591065292096219]\n"
          ]
        },
        {
          "output_type": "stream",
          "name": "stderr",
          "text": [
            "\n",
            "\n",
            "Processing medical dataset:  42%|████▏     | 211/500 [38:06<53:12, 11.05s/it]\u001b[A\u001b[A"
          ]
        },
        {
          "output_type": "stream",
          "name": "stdout",
          "text": [
            "Appended result to Google Drive file: [211, 0.4871794871794872, 0.717948717948718, 0.7294685990338164, 0.7082685546756201, 1.889168765743073, 1.744186046511628]\n"
          ]
        },
        {
          "output_type": "stream",
          "name": "stderr",
          "text": [
            "\n",
            "\n",
            "Processing medical dataset:  42%|████▏     | 212/500 [38:16<51:32, 10.74s/it]\u001b[A\u001b[A"
          ]
        },
        {
          "output_type": "stream",
          "name": "stdout",
          "text": [
            "Appended result to Google Drive file: [212, 0.6666666666666667, 0.9444444444444444, 0.6944315076999503, 1.0, 1.4992503748125936, 1.3513513513513513]\n"
          ]
        },
        {
          "output_type": "stream",
          "name": "stderr",
          "text": [
            "\n",
            "\n",
            "Processing medical dataset:  43%|████▎     | 213/500 [38:28<52:14, 10.92s/it]\u001b[A\u001b[A"
          ]
        },
        {
          "output_type": "stream",
          "name": "stdout",
          "text": [
            "Appended result to Google Drive file: [213, 0.5686274509803921, 0.8235294117647058, 0.8346328784925277, 0.08207857545957759, 1.644736842105263, 0.9615384615384616]\n"
          ]
        },
        {
          "output_type": "stream",
          "name": "stderr",
          "text": [
            "\n",
            "\n",
            "Processing medical dataset:  43%|████▎     | 214/500 [38:38<50:53, 10.68s/it]\u001b[A\u001b[A"
          ]
        },
        {
          "output_type": "stream",
          "name": "stdout",
          "text": [
            "Appended result to Google Drive file: [214, 0.5555555555555556, 0.9166666666666666, 0.6484237074401009, 0.36566332218506137, 1.8115942028985508, 1.694915254237288]\n"
          ]
        },
        {
          "output_type": "stream",
          "name": "stderr",
          "text": [
            "\n",
            "\n",
            "Processing medical dataset:  43%|████▎     | 215/500 [38:49<51:13, 10.78s/it]\u001b[A\u001b[A"
          ]
        },
        {
          "output_type": "stream",
          "name": "stdout",
          "text": [
            "Appended result to Google Drive file: [215, 0.6296296296296297, 0.9259259259259259, 0.7719770807490106, 0.9523809523809524, 1.3550135501355012, 1.1547344110854503]\n"
          ]
        },
        {
          "output_type": "stream",
          "name": "stderr",
          "text": [
            "\n",
            "\n",
            "Processing medical dataset:  43%|████▎     | 216/500 [38:59<49:21, 10.43s/it]\u001b[A\u001b[A"
          ]
        },
        {
          "output_type": "stream",
          "name": "stdout",
          "text": [
            "Appended result to Google Drive file: [216, 0.3076923076923077, 0.8974358974358975, 0.8131205673758864, 0.8181818181818182, 1.9083969465648856, 1.4619883040935673]\n"
          ]
        },
        {
          "output_type": "stream",
          "name": "stderr",
          "text": [
            "\n",
            "\n",
            "Processing medical dataset:  43%|████▎     | 217/500 [39:09<49:02, 10.40s/it]\u001b[A\u001b[A"
          ]
        },
        {
          "output_type": "stream",
          "name": "stdout",
          "text": [
            "Appended result to Google Drive file: [217, 0.8205128205128205, 0.9230769230769231, 0.9024691358024691, 0.8894331152192788, 1.7761989342806392, 1.9267822736030826]\n"
          ]
        },
        {
          "output_type": "stream",
          "name": "stderr",
          "text": [
            "\n",
            "\n",
            "Processing medical dataset:  44%|████▎     | 218/500 [39:21<51:33, 10.97s/it]\u001b[A\u001b[A"
          ]
        },
        {
          "output_type": "stream",
          "name": "stdout",
          "text": [
            "Appended result to Google Drive file: [218, 0.7555555555555555, 1.3777777777777778, 0.9615384615384616, 0.24658782951465877, 1.5723270440251573, 1.984126984126984]\n"
          ]
        },
        {
          "output_type": "stream",
          "name": "stderr",
          "text": [
            "\n",
            "\n",
            "Processing medical dataset:  44%|████▍     | 219/500 [39:34<53:43, 11.47s/it]\u001b[A\u001b[A"
          ]
        },
        {
          "output_type": "stream",
          "name": "stdout",
          "text": [
            "Appended result to Google Drive file: [219, 0.6875, 1.0, 0.9350075414781297, 1.0, 1.4947683109118088, 1.440922190201729]\n"
          ]
        },
        {
          "output_type": "stream",
          "name": "stderr",
          "text": [
            "\n",
            "\n",
            "Processing medical dataset:  44%|████▍     | 220/500 [39:44<51:40, 11.07s/it]\u001b[A\u001b[A"
          ]
        },
        {
          "output_type": "stream",
          "name": "stdout",
          "text": [
            "Appended result to Google Drive file: [220, 0.3846153846153846, 0.6923076923076923, 0.8966509680795395, 0.24694646569646572, 1.5243902439024388, 1.3661202185792352]\n"
          ]
        },
        {
          "output_type": "stream",
          "name": "stderr",
          "text": [
            "\n",
            "\n",
            "Processing medical dataset:  44%|████▍     | 221/500 [39:53<49:03, 10.55s/it]\u001b[A\u001b[A"
          ]
        },
        {
          "output_type": "stream",
          "name": "stdout",
          "text": [
            "Appended result to Google Drive file: [221, 0.5098039215686274, 1.0, 0.8153153153153153, 1.0, 2.202643171806167, 1.86219739292365]\n"
          ]
        },
        {
          "output_type": "stream",
          "name": "stderr",
          "text": [
            "\n",
            "\n",
            "Processing medical dataset:  44%|████▍     | 222/500 [40:04<48:28, 10.46s/it]\u001b[A\u001b[A"
          ]
        },
        {
          "output_type": "stream",
          "name": "stdout",
          "text": [
            "Appended result to Google Drive file: [222, 0.8627450980392157, 0.6470588235294117, 0.8480700456283142, 0.329249105564895, 0.697350069735007, 3.3557046979865772]\n"
          ]
        },
        {
          "output_type": "stream",
          "name": "stderr",
          "text": [
            "\n",
            "\n",
            "Processing medical dataset:  45%|████▍     | 223/500 [40:14<48:22, 10.48s/it]\u001b[A\u001b[A"
          ]
        },
        {
          "output_type": "stream",
          "name": "stdout",
          "text": [
            "Appended result to Google Drive file: [223, 0.7142857142857143, 0.26190476190476186, 0.8658197730524776, 0.4761904761904761, 0.7267441860465116, 1.612903225806452]\n"
          ]
        },
        {
          "output_type": "stream",
          "name": "stderr",
          "text": [
            "\n",
            "\n",
            "Processing medical dataset:  45%|████▍     | 224/500 [40:25<49:17, 10.71s/it]\u001b[A\u001b[A"
          ]
        },
        {
          "output_type": "stream",
          "name": "stdout",
          "text": [
            "Appended result to Google Drive file: [224, 0.7333333333333334, 1.0, 0.8260188087774295, 0.5447154471544716, 0.6915629322268326, 1.152073732718894]\n"
          ]
        },
        {
          "output_type": "stream",
          "name": "stderr",
          "text": [
            "\n",
            "\n",
            "Processing medical dataset:  45%|████▌     | 225/500 [40:35<47:37, 10.39s/it]\u001b[A\u001b[A"
          ]
        },
        {
          "output_type": "stream",
          "name": "stdout",
          "text": [
            "Appended result to Google Drive file: [225, 0.6851851851851851, 0.7222222222222222, 0.9393939393939394, 0.9090909090909092, 1.607717041800643, 1.7605633802816902]\n"
          ]
        },
        {
          "output_type": "stream",
          "name": "stderr",
          "text": [
            "\n",
            "\n",
            "Processing medical dataset:  45%|████▌     | 226/500 [40:48<50:54, 11.15s/it]\u001b[A\u001b[A"
          ]
        },
        {
          "output_type": "stream",
          "name": "stdout",
          "text": [
            "Appended result to Google Drive file: [226, 0.7777777777777778, 1.1851851851851851, 0.8062428150147448, 0.6037704985073405, 1.461988304093567, 0.7485029940119761]\n"
          ]
        },
        {
          "output_type": "stream",
          "name": "stderr",
          "text": [
            "\n",
            "\n",
            "Processing medical dataset:  45%|████▌     | 227/500 [41:00<52:24, 11.52s/it]\u001b[A\u001b[A"
          ]
        },
        {
          "output_type": "stream",
          "name": "stdout",
          "text": [
            "Appended result to Google Drive file: [227, 0.7380952380952381, 1.5238095238095237, 0.8282312925170068, 0.35185185185185186, 1.582278481012658, 1.0141987829614605]\n"
          ]
        },
        {
          "output_type": "stream",
          "name": "stderr",
          "text": [
            "\n",
            "\n",
            "Processing medical dataset:  46%|████▌     | 228/500 [41:12<52:13, 11.52s/it]\u001b[A\u001b[A"
          ]
        },
        {
          "output_type": "stream",
          "name": "stdout",
          "text": [
            "Appended result to Google Drive file: [228, 0.6363636363636364, 0.9090909090909091, 0.9654164145997178, 1.0, 1.364256480218281, 1.0416666666666665]\n"
          ]
        },
        {
          "output_type": "stream",
          "name": "stderr",
          "text": [
            "\n",
            "\n",
            "Processing medical dataset:  46%|████▌     | 229/500 [41:21<49:04, 10.86s/it]\u001b[A\u001b[A"
          ]
        },
        {
          "output_type": "stream",
          "name": "stdout",
          "text": [
            "Appended result to Google Drive file: [229, 0.5555555555555556, 0.8888888888888888, 0.8517786561264823, 0.0392156862745098, 1.8518518518518514, 2.7522935779816518]\n"
          ]
        },
        {
          "output_type": "stream",
          "name": "stderr",
          "text": [
            "\n",
            "\n",
            "Processing medical dataset:  46%|████▌     | 230/500 [41:33<49:35, 11.02s/it]\u001b[A\u001b[A"
          ]
        },
        {
          "output_type": "stream",
          "name": "stdout",
          "text": [
            "Appended result to Google Drive file: [230, 0.5294117647058824, 0.8235294117647058, 0.8722549493914643, 1.0, 1.3175230566534915, 1.1061946902654867]\n"
          ]
        },
        {
          "output_type": "stream",
          "name": "stderr",
          "text": [
            "\n",
            "\n",
            "Processing medical dataset:  46%|████▌     | 231/500 [41:44<49:24, 11.02s/it]\u001b[A\u001b[A"
          ]
        },
        {
          "output_type": "stream",
          "name": "stdout",
          "text": [
            "Appended result to Google Drive file: [231, 0.6222222222222222, 0.9333333333333333, 0.6297599876036944, 0.8116298446487127, 1.4204545454545452, 1.4534883720930232]\n"
          ]
        },
        {
          "output_type": "stream",
          "name": "stderr",
          "text": [
            "\n",
            "\n",
            "Processing medical dataset:  46%|████▋     | 232/500 [41:56<50:36, 11.33s/it]\u001b[A\u001b[A"
          ]
        },
        {
          "output_type": "stream",
          "name": "stdout",
          "text": [
            "Appended result to Google Drive file: [232, 0.6444444444444444, 1.2888888888888888, 0.7799994058683234, 0.5784313725490197, 1.5082956259426845, 0.5875440658049353]\n"
          ]
        },
        {
          "output_type": "stream",
          "name": "stderr",
          "text": [
            "\n",
            "\n",
            "Processing medical dataset:  47%|████▋     | 233/500 [42:07<50:10, 11.27s/it]\u001b[A\u001b[A"
          ]
        },
        {
          "output_type": "stream",
          "name": "stdout",
          "text": [
            "Appended result to Google Drive file: [233, 0.6190476190476191, 0.7857142857142857, 0.7105764242595737, 0.6063797313797313, 1.3333333333333335, 0.7132667617689016]\n"
          ]
        },
        {
          "output_type": "stream",
          "name": "stderr",
          "text": [
            "\n",
            "\n",
            "Processing medical dataset:  47%|████▋     | 234/500 [42:16<47:37, 10.74s/it]\u001b[A\u001b[A"
          ]
        },
        {
          "output_type": "stream",
          "name": "stdout",
          "text": [
            "Appended result to Google Drive file: [234, 0.6222222222222222, 0.8666666666666667, 0.7685859024460848, 0.9255892255892255, 1.9354838709677418, 1.9011406844106464]\n"
          ]
        },
        {
          "output_type": "stream",
          "name": "stderr",
          "text": [
            "\n",
            "\n",
            "Processing medical dataset:  47%|████▋     | 235/500 [42:30<51:20, 11.63s/it]\u001b[A\u001b[A"
          ]
        },
        {
          "output_type": "stream",
          "name": "stdout",
          "text": [
            "Appended result to Google Drive file: [235, 0.5686274509803921, 1.6470588235294117, 0.7316332726168792, 0.4547325102880659, 1.3464991023339317, 1.016260162601626]\n"
          ]
        },
        {
          "output_type": "stream",
          "name": "stderr",
          "text": [
            "\n",
            "\n",
            "Processing medical dataset:  47%|████▋     | 236/500 [42:41<50:15, 11.42s/it]\u001b[A\u001b[A"
          ]
        },
        {
          "output_type": "stream",
          "name": "stdout",
          "text": [
            "Appended result to Google Drive file: [236, 0.6222222222222222, 0.9555555555555556, 0.745954905088032, 0.5447154471544716, 1.5151515151515151, 1.0683760683760684]\n"
          ]
        },
        {
          "output_type": "stream",
          "name": "stderr",
          "text": [
            "\n",
            "\n",
            "Processing medical dataset:  47%|████▋     | 237/500 [42:52<49:14, 11.23s/it]\u001b[A\u001b[A"
          ]
        },
        {
          "output_type": "stream",
          "name": "stdout",
          "text": [
            "Appended result to Google Drive file: [237, 0.5128205128205128, 1.5384615384615383, 0.7890801443017993, 0.9772063120981881, 1.7921146953405016, 1.1750881316098707]\n"
          ]
        },
        {
          "output_type": "stream",
          "name": "stderr",
          "text": [
            "\n",
            "\n",
            "Processing medical dataset:  48%|████▊     | 238/500 [43:03<49:04, 11.24s/it]\u001b[A\u001b[A"
          ]
        },
        {
          "output_type": "stream",
          "name": "stdout",
          "text": [
            "Appended result to Google Drive file: [238, 0.3921568627450981, 1.156862745098039, 0.8157342657342658, 0.5045045045045046, 1.5166835187057632, 1.4450867052023122]\n"
          ]
        },
        {
          "output_type": "stream",
          "name": "stderr",
          "text": [
            "\n",
            "\n",
            "Processing medical dataset:  48%|████▊     | 239/500 [43:14<48:08, 11.07s/it]\u001b[A\u001b[A"
          ]
        },
        {
          "output_type": "stream",
          "name": "stdout",
          "text": [
            "Appended result to Google Drive file: [239, 0.4222222222222223, 0.8, 0.5374298540965207, 0.6470396877033181, 2.4271844660194173, 1.7857142857142856]\n"
          ]
        },
        {
          "output_type": "stream",
          "name": "stderr",
          "text": [
            "\n",
            "\n",
            "Processing medical dataset:  48%|████▊     | 240/500 [43:22<44:13, 10.21s/it]\u001b[A\u001b[A"
          ]
        },
        {
          "output_type": "stream",
          "name": "stdout",
          "text": [
            "Appended result to Google Drive file: [240, 0.3125, 0.8541666666666666, 0.8048251558687992, 0.4375, 2.5337837837837838, 2.1739130434782603]\n"
          ]
        },
        {
          "output_type": "stream",
          "name": "stderr",
          "text": [
            "\n",
            "\n",
            "Processing medical dataset:  48%|████▊     | 241/500 [43:33<45:04, 10.44s/it]\u001b[A\u001b[A"
          ]
        },
        {
          "output_type": "stream",
          "name": "stdout",
          "text": [
            "Appended result to Google Drive file: [241, 0.7222222222222222, 0.9259259259259259, 0.6250646837224706, 0.33565217391304353, 1.6638935108153077, 1.3477088948787064]\n"
          ]
        },
        {
          "output_type": "stream",
          "name": "stderr",
          "text": [
            "\n",
            "\n",
            "Processing medical dataset:  48%|████▊     | 242/500 [43:41<42:37,  9.91s/it]\u001b[A\u001b[A"
          ]
        },
        {
          "output_type": "stream",
          "name": "stdout",
          "text": [
            "Appended result to Google Drive file: [242, 0.3076923076923077, 1.0, 0.8612175393784588, 0.5151515151515151, 3.0364372469635628, 1.8214936247723135]\n"
          ]
        },
        {
          "output_type": "stream",
          "name": "stderr",
          "text": [
            "\n",
            "\n",
            "Processing medical dataset:  49%|████▊     | 243/500 [43:51<42:05,  9.83s/it]\u001b[A\u001b[A"
          ]
        },
        {
          "output_type": "stream",
          "name": "stdout",
          "text": [
            "Appended result to Google Drive file: [243, 0.5384615384615384, 0.9487179487179487, 0.6277011602089001, 0.2219987954382079, 1.949317738791423, 1.25]\n"
          ]
        },
        {
          "output_type": "stream",
          "name": "stderr",
          "text": [
            "\n",
            "\n",
            "Processing medical dataset:  49%|████▉     | 244/500 [44:01<41:46,  9.79s/it]\u001b[A\u001b[A"
          ]
        },
        {
          "output_type": "stream",
          "name": "stdout",
          "text": [
            "Appended result to Google Drive file: [244, 0.7111111111111111, 0.06666666666666665, 0.7877019494666554, 1.0, 1.450676982591876, 20.833333333333336]\n"
          ]
        },
        {
          "output_type": "stream",
          "name": "stderr",
          "text": [
            "\n",
            "\n",
            "Processing medical dataset:  49%|████▉     | 245/500 [44:10<41:12,  9.70s/it]\u001b[A\u001b[A"
          ]
        },
        {
          "output_type": "stream",
          "name": "stdout",
          "text": [
            "Appended result to Google Drive file: [245, 0.5555555555555556, 0.7111111111111111, 0.7120661824051654, 0.3275091575091575, 1.6666666666666667, 2.0491803278688527]\n"
          ]
        },
        {
          "output_type": "stream",
          "name": "stderr",
          "text": [
            "\n",
            "\n",
            "Processing medical dataset:  49%|████▉     | 246/500 [44:22<43:39, 10.31s/it]\u001b[A\u001b[A"
          ]
        },
        {
          "output_type": "stream",
          "name": "stdout",
          "text": [
            "Appended result to Google Drive file: [246, 0.5757575757575757, 0.9848484848484849, 0.5226464148877942, 0.7933018124507486, 1.4705882352941175, 0.8503401360544217]\n"
          ]
        },
        {
          "output_type": "stream",
          "name": "stderr",
          "text": [
            "\n",
            "\n",
            "Processing medical dataset:  49%|████▉     | 247/500 [44:33<44:46, 10.62s/it]\u001b[A\u001b[A"
          ]
        },
        {
          "output_type": "stream",
          "name": "stdout",
          "text": [
            "Appended result to Google Drive file: [247, 0.4666666666666667, 0.7777777777777778, 0.7177045177045177, 0.7093357025697102, 1.5182186234817814, 1.038421599169263]\n"
          ]
        },
        {
          "output_type": "stream",
          "name": "stderr",
          "text": [
            "\n",
            "\n",
            "Processing medical dataset:  50%|████▉     | 248/500 [44:43<43:57, 10.47s/it]\u001b[A\u001b[A"
          ]
        },
        {
          "output_type": "stream",
          "name": "stdout",
          "text": [
            "Appended result to Google Drive file: [248, 0.6, 0.7555555555555555, 0.7760910518053376, 0.6523692810457516, 1.841620626151013, 2.092050209205021]\n"
          ]
        },
        {
          "output_type": "stream",
          "name": "stderr",
          "text": [
            "\n",
            "\n",
            "Processing medical dataset:  50%|████▉     | 249/500 [44:54<43:28, 10.39s/it]\u001b[A\u001b[A"
          ]
        },
        {
          "output_type": "stream",
          "name": "stdout",
          "text": [
            "Appended result to Google Drive file: [249, 0.24242424242424243, 0.9090909090909091, 0.5997023809523809, 0.6282051282051282, 1.530612244897959, 1.4144271570014144]\n"
          ]
        },
        {
          "output_type": "stream",
          "name": "stderr",
          "text": [
            "\n",
            "\n",
            "Processing medical dataset:  50%|█████     | 250/500 [45:05<45:00, 10.80s/it]\u001b[A\u001b[A"
          ]
        },
        {
          "output_type": "stream",
          "name": "stdout",
          "text": [
            "Appended result to Google Drive file: [250, 0.8444444444444444, 1.2444444444444445, 0.9037698412698413, 0.38280114685204825, 1.7878426698450536, 1.2562814070351758]\n"
          ]
        },
        {
          "output_type": "stream",
          "name": "stderr",
          "text": [
            "\n",
            "\n",
            "Processing medical dataset:  50%|█████     | 251/500 [45:15<43:29, 10.48s/it]\u001b[A\u001b[A"
          ]
        },
        {
          "output_type": "stream",
          "name": "stdout",
          "text": [
            "Appended result to Google Drive file: [251, 0.717948717948718, 1.0, 0.8838298984468339, 1.0, 1.3262599469496021, 1.3157894736842108]\n"
          ]
        },
        {
          "output_type": "stream",
          "name": "stderr",
          "text": [
            "\n",
            "\n",
            "Processing medical dataset:  50%|█████     | 252/500 [45:26<43:10, 10.44s/it]\u001b[A\u001b[A"
          ]
        },
        {
          "output_type": "stream",
          "name": "stdout",
          "text": [
            "Appended result to Google Drive file: [252, 0.6041666666666667, 0.7916666666666666, 0.7163120567375887, 0.8827404479578392, 2.286585365853659, 1.1890606420927465]\n"
          ]
        },
        {
          "output_type": "stream",
          "name": "stderr",
          "text": [
            "\n",
            "\n",
            "Processing medical dataset:  51%|█████     | 253/500 [45:33<39:30,  9.60s/it]\u001b[A\u001b[A"
          ]
        },
        {
          "output_type": "stream",
          "name": "stdout",
          "text": [
            "Appended result to Google Drive file: [253, 0.1333333333333333, 1.0, 0.8095238095238096, 0.5370370370370371, 17.24137931034483, 1.5197568389057752]\n"
          ]
        },
        {
          "output_type": "stream",
          "name": "stderr",
          "text": [
            "\n",
            "\n",
            "Processing medical dataset:  51%|█████     | 254/500 [45:45<41:37, 10.15s/it]\u001b[A\u001b[A"
          ]
        },
        {
          "output_type": "stream",
          "name": "stdout",
          "text": [
            "Appended result to Google Drive file: [254, 0.5, 0.5909090909090908, 0.9099326599326599, 0.8463356973995272, 1.7006802721088434, 1.6233766233766236]\n"
          ]
        },
        {
          "output_type": "stream",
          "name": "stderr",
          "text": [
            "\n",
            "\n",
            "Processing medical dataset:  51%|█████     | 255/500 [45:56<42:52, 10.50s/it]\u001b[A\u001b[A"
          ]
        },
        {
          "output_type": "stream",
          "name": "stdout",
          "text": [
            "Appended result to Google Drive file: [255, 0.7407407407407407, 0.7407407407407407, 0.8722194247800718, 0.0196078431372549, 1.4265335235378032, 1.3966480446927374]\n"
          ]
        },
        {
          "output_type": "stream",
          "name": "stderr",
          "text": [
            "\n",
            "\n",
            "Processing medical dataset:  51%|█████     | 256/500 [46:08<44:53, 11.04s/it]\u001b[A\u001b[A"
          ]
        },
        {
          "output_type": "stream",
          "name": "stdout",
          "text": [
            "Appended result to Google Drive file: [256, 0.7111111111111111, 0.9555555555555556, 0.7066335476329632, 0.8146903275136995, 1.6339869281045754, 1.5552099533437014]\n"
          ]
        },
        {
          "output_type": "stream",
          "name": "stderr",
          "text": [
            "\n",
            "\n",
            "Processing medical dataset:  51%|█████▏    | 257/500 [46:19<44:03, 10.88s/it]\u001b[A\u001b[A"
          ]
        },
        {
          "output_type": "stream",
          "name": "stdout",
          "text": [
            "Appended result to Google Drive file: [257, 0.7719298245614035, 1.0, 0.8827048768225239, 1.0, 1.5847860538827259, 1.256281407035176]\n"
          ]
        },
        {
          "output_type": "stream",
          "name": "stderr",
          "text": [
            "\n",
            "\n",
            "Processing medical dataset:  52%|█████▏    | 258/500 [46:29<43:31, 10.79s/it]\u001b[A\u001b[A"
          ]
        },
        {
          "output_type": "stream",
          "name": "stdout",
          "text": [
            "Appended result to Google Drive file: [258, 0.625, 0.75, 0.7550276520864756, 0.7492967409948541, 1.8495684340320593, 1.7543859649122806]\n"
          ]
        },
        {
          "output_type": "stream",
          "name": "stderr",
          "text": [
            "\n",
            "\n",
            "Processing medical dataset:  52%|█████▏    | 259/500 [46:41<44:22, 11.05s/it]\u001b[A\u001b[A"
          ]
        },
        {
          "output_type": "stream",
          "name": "stdout",
          "text": [
            "Appended result to Google Drive file: [259, 0.45833333333333337, 1.0, 0.5407653760184584, 1.0, 1.4807502467917077, 1.6750418760469015]\n"
          ]
        },
        {
          "output_type": "stream",
          "name": "stderr",
          "text": [
            "\n",
            "\n",
            "Processing medical dataset:  52%|█████▏    | 260/500 [46:52<44:34, 11.14s/it]\u001b[A\u001b[A"
          ]
        },
        {
          "output_type": "stream",
          "name": "stdout",
          "text": [
            "Appended result to Google Drive file: [260, 0.7037037037037037, 0.7407407407407407, 0.7668708809059686, 0.8263071895424837, 1.4634146341463417, 1.467710371819961]\n"
          ]
        },
        {
          "output_type": "stream",
          "name": "stderr",
          "text": [
            "\n",
            "\n",
            "Processing medical dataset:  52%|█████▏    | 261/500 [47:03<43:25, 10.90s/it]\u001b[A\u001b[A"
          ]
        },
        {
          "output_type": "stream",
          "name": "stdout",
          "text": [
            "Appended result to Google Drive file: [261, 0.4385964912280702, 1.4385964912280702, 0.8051146384479718, 0.7138109202625332, 3.4013605442176873, 1.3986013986013988]\n"
          ]
        },
        {
          "output_type": "stream",
          "name": "stderr",
          "text": [
            "\n",
            "\n",
            "Processing medical dataset:  52%|█████▏    | 262/500 [47:11<40:19, 10.16s/it]\u001b[A\u001b[A"
          ]
        },
        {
          "output_type": "stream",
          "name": "stdout",
          "text": [
            "Appended result to Google Drive file: [262, 0.4222222222222223, 0.7555555555555555, 0.8777947845804989, 0.44, 1.6648168701442843, 2.906976744186047]\n"
          ]
        },
        {
          "output_type": "stream",
          "name": "stderr",
          "text": [
            "\n",
            "\n",
            "Processing medical dataset:  53%|█████▎    | 263/500 [47:22<41:19, 10.46s/it]\u001b[A\u001b[A"
          ]
        },
        {
          "output_type": "stream",
          "name": "stdout",
          "text": [
            "Appended result to Google Drive file: [263, 0.5882352941176471, 0.8627450980392157, 0.8050539850502938, 0.4176263097831725, 1.726121979286536, 1.2804097311139564]\n"
          ]
        },
        {
          "output_type": "stream",
          "name": "stderr",
          "text": [
            "\n",
            "\n",
            "Processing medical dataset:  53%|█████▎    | 264/500 [47:33<41:43, 10.61s/it]\u001b[A\u001b[A"
          ]
        },
        {
          "output_type": "stream",
          "name": "stdout",
          "text": [
            "Appended result to Google Drive file: [264, 0.6666666666666667, 0.9, 0.677408373171085, 0.42483660130718953, 1.2224938875305622, 0.9578544061302683]\n"
          ]
        },
        {
          "output_type": "stream",
          "name": "stderr",
          "text": [
            "\n",
            "\n",
            "Processing medical dataset:  53%|█████▎    | 265/500 [47:44<42:19, 10.81s/it]\u001b[A\u001b[A"
          ]
        },
        {
          "output_type": "stream",
          "name": "stdout",
          "text": [
            "Appended result to Google Drive file: [265, 0.75, 0.95, 0.8659863945578231, 1.0, 1.5772870662460567, 1.6920473773265654]\n"
          ]
        },
        {
          "output_type": "stream",
          "name": "stderr",
          "text": [
            "\n",
            "\n",
            "Processing medical dataset:  53%|█████▎    | 266/500 [47:55<41:33, 10.65s/it]\u001b[A\u001b[A"
          ]
        },
        {
          "output_type": "stream",
          "name": "stdout",
          "text": [
            "Appended result to Google Drive file: [266, 0.7333333333333334, 1.0, 0.6403876493125987, 1.0, 1.4137606032045238, 1.4947683109118086]\n"
          ]
        },
        {
          "output_type": "stream",
          "name": "stderr",
          "text": [
            "\n",
            "\n",
            "Processing medical dataset:  53%|█████▎    | 267/500 [48:06<42:08, 10.85s/it]\u001b[A\u001b[A"
          ]
        },
        {
          "output_type": "stream",
          "name": "stdout",
          "text": [
            "Appended result to Google Drive file: [267, 0.5873015873015873, 0.8253968253968254, 0.8493791323980003, 0.7952605570530098, 1.5015015015015016, 1.4245014245014245]\n"
          ]
        },
        {
          "output_type": "stream",
          "name": "stderr",
          "text": [
            "\n",
            "\n",
            "Processing medical dataset:  54%|█████▎    | 268/500 [48:16<40:29, 10.47s/it]\u001b[A\u001b[A"
          ]
        },
        {
          "output_type": "stream",
          "name": "stdout",
          "text": [
            "Appended result to Google Drive file: [268, 0.5555555555555556, 1.0, 0.5902891621129326, 1.0, 1.6207455429497568, 1.2886597938144329]\n"
          ]
        },
        {
          "output_type": "stream",
          "name": "stderr",
          "text": [
            "\n",
            "\n",
            "Processing medical dataset:  54%|█████▍    | 269/500 [48:27<41:44, 10.84s/it]\u001b[A\u001b[A"
          ]
        },
        {
          "output_type": "stream",
          "name": "stdout",
          "text": [
            "Appended result to Google Drive file: [269, 0.803921568627451, 1.2745098039215685, 0.7567639257294431, 0.11132862671008692, 1.5313935681470137, 1.0080645161290325]\n"
          ]
        },
        {
          "output_type": "stream",
          "name": "stderr",
          "text": [
            "\n",
            "\n",
            "Processing medical dataset:  54%|█████▍    | 270/500 [48:38<41:48, 10.90s/it]\u001b[A\u001b[A"
          ]
        },
        {
          "output_type": "stream",
          "name": "stdout",
          "text": [
            "Appended result to Google Drive file: [270, 0.5555555555555556, 0.9259259259259259, 0.8279263220439691, 0.2951329937747595, 1.4591439688715953, 1.1890606420927465]\n"
          ]
        },
        {
          "output_type": "stream",
          "name": "stderr",
          "text": [
            "\n",
            "\n",
            "Processing medical dataset:  54%|█████▍    | 271/500 [48:48<39:50, 10.44s/it]\u001b[A\u001b[A"
          ]
        },
        {
          "output_type": "stream",
          "name": "stdout",
          "text": [
            "Appended result to Google Drive file: [271, 0.4666666666666667, 0.9333333333333333, 0.6520947176684881, 1.0, 1.5060240963855422, 1.5625]\n"
          ]
        },
        {
          "output_type": "stream",
          "name": "stderr",
          "text": [
            "\n",
            "\n",
            "Processing medical dataset:  54%|█████▍    | 272/500 [48:59<40:03, 10.54s/it]\u001b[A\u001b[A"
          ]
        },
        {
          "output_type": "stream",
          "name": "stdout",
          "text": [
            "Appended result to Google Drive file: [272, 0.5416666666666667, 0.875, 0.7492967409948541, 0.5375816993464052, 1.5592515592515594, 1.1723329425556859]\n"
          ]
        },
        {
          "output_type": "stream",
          "name": "stderr",
          "text": [
            "\n",
            "\n",
            "Processing medical dataset:  55%|█████▍    | 273/500 [49:09<39:40, 10.49s/it]\u001b[A\u001b[A"
          ]
        },
        {
          "output_type": "stream",
          "name": "stdout",
          "text": [
            "Appended result to Google Drive file: [273, 0.6862745098039216, 0.8823529411764706, 0.8027350427350428, 0.3333333333333333, 1.6375545851528384, 2.0120724346076457]\n"
          ]
        },
        {
          "output_type": "stream",
          "name": "stderr",
          "text": [
            "\n",
            "\n",
            "Processing medical dataset:  55%|█████▍    | 274/500 [49:20<40:43, 10.81s/it]\u001b[A\u001b[A"
          ]
        },
        {
          "output_type": "stream",
          "name": "stdout",
          "text": [
            "Appended result to Google Drive file: [274, 0.6458333333333333, 0.7291666666666667, 0.8487681159420291, 0.7544207813749594, 1.724137931034483, 1.7523364485981308]\n"
          ]
        },
        {
          "output_type": "stream",
          "name": "stderr",
          "text": [
            "\n",
            "\n",
            "Processing medical dataset:  55%|█████▌    | 275/500 [49:31<40:07, 10.70s/it]\u001b[A\u001b[A"
          ]
        },
        {
          "output_type": "stream",
          "name": "stdout",
          "text": [
            "Appended result to Google Drive file: [275, 0.7222222222222222, 0.7037037037037037, 0.8138830654553925, 0.5151515151515151, 1.6666666666666667, 2.0080321285140568]\n"
          ]
        },
        {
          "output_type": "stream",
          "name": "stderr",
          "text": [
            "\n",
            "\n",
            "Processing medical dataset:  55%|█████▌    | 276/500 [49:42<40:32, 10.86s/it]\u001b[A\u001b[A"
          ]
        },
        {
          "output_type": "stream",
          "name": "stdout",
          "text": [
            "Appended result to Google Drive file: [276, 0.75, 1.25, 0.7689393044231755, 0.4390243902439024, 1.4903129657228018, 0.7645259938837922]\n"
          ]
        },
        {
          "output_type": "stream",
          "name": "stderr",
          "text": [
            "\n",
            "\n",
            "Processing medical dataset:  55%|█████▌    | 277/500 [49:52<38:47, 10.44s/it]\u001b[A\u001b[A"
          ]
        },
        {
          "output_type": "stream",
          "name": "stdout",
          "text": [
            "Appended result to Google Drive file: [277, 0.4871794871794872, 0.9487179487179487, 0.8223171889838558, 0.4277777777777778, 1.691093573844419, 2.2026431718061676]\n"
          ]
        },
        {
          "output_type": "stream",
          "name": "stderr",
          "text": [
            "\n",
            "\n",
            "Processing medical dataset:  56%|█████▌    | 278/500 [50:03<39:35, 10.70s/it]\u001b[A\u001b[A"
          ]
        },
        {
          "output_type": "stream",
          "name": "stdout",
          "text": [
            "Appended result to Google Drive file: [278, 0.5333333333333333, 1.05, 0.7516295025728988, 1.0, 1.4880952380952381, 1.1061946902654867]\n"
          ]
        },
        {
          "output_type": "stream",
          "name": "stderr",
          "text": [
            "\n",
            "\n",
            "Processing medical dataset:  56%|█████▌    | 279/500 [50:12<38:07, 10.35s/it]\u001b[A\u001b[A"
          ]
        },
        {
          "output_type": "stream",
          "name": "stdout",
          "text": [
            "Appended result to Google Drive file: [279, 0.6274509803921569, 0.8823529411764706, 0.7199473594230211, 0.5111111111111111, 1.7123287671232879, 1.5923566878980895]\n"
          ]
        },
        {
          "output_type": "stream",
          "name": "stderr",
          "text": [
            "\n",
            "\n",
            "Processing medical dataset:  56%|█████▌    | 280/500 [50:24<39:30, 10.78s/it]\u001b[A\u001b[A"
          ]
        },
        {
          "output_type": "stream",
          "name": "stdout",
          "text": [
            "Appended result to Google Drive file: [280, 0.5625, 0.875, 0.7534188034188034, 1.0, 1.4851485148514851, 2.8089887640449436]\n"
          ]
        },
        {
          "output_type": "stream",
          "name": "stderr",
          "text": [
            "\n",
            "\n",
            "Processing medical dataset:  56%|█████▌    | 281/500 [50:35<39:31, 10.83s/it]\u001b[A\u001b[A"
          ]
        },
        {
          "output_type": "stream",
          "name": "stdout",
          "text": [
            "Appended result to Google Drive file: [281, 0.6166666666666667, 1.0, 0.748192517864649, 0.9696969696969697, 1.5974440894568689, 1.9083969465648856]\n"
          ]
        },
        {
          "output_type": "stream",
          "name": "stderr",
          "text": [
            "\n",
            "\n",
            "Processing medical dataset:  56%|█████▋    | 282/500 [50:47<40:25, 11.13s/it]\u001b[A\u001b[A"
          ]
        },
        {
          "output_type": "stream",
          "name": "stdout",
          "text": [
            "Appended result to Google Drive file: [282, 0.6222222222222222, 1.0, 0.7491274457958753, 0.42483660130718953, 1.510574018126888, 1.605136436597111]\n"
          ]
        },
        {
          "output_type": "stream",
          "name": "stderr",
          "text": [
            "\n",
            "\n",
            "Processing medical dataset:  57%|█████▋    | 283/500 [50:58<40:03, 11.07s/it]\u001b[A\u001b[A"
          ]
        },
        {
          "output_type": "stream",
          "name": "stdout",
          "text": [
            "Appended result to Google Drive file: [283, 0.6666666666666667, 0.9298245614035088, 0.7801094655742163, 0.393939393939394, 1.5220700152207, 1.9230769230769231]\n"
          ]
        },
        {
          "output_type": "stream",
          "name": "stderr",
          "text": [
            "\n",
            "\n",
            "Processing medical dataset:  57%|█████▋    | 284/500 [51:08<38:29, 10.69s/it]\u001b[A\u001b[A"
          ]
        },
        {
          "output_type": "stream",
          "name": "stdout",
          "text": [
            "Appended result to Google Drive file: [284, 0.5128205128205128, 0.8974358974358975, 0.6763915902565527, 0.20337339236769977, 1.76678445229682, 1.3262599469496024]\n"
          ]
        },
        {
          "output_type": "stream",
          "name": "stderr",
          "text": [
            "\n",
            "\n",
            "Processing medical dataset:  57%|█████▋    | 285/500 [51:18<37:28, 10.46s/it]\u001b[A\u001b[A"
          ]
        },
        {
          "output_type": "stream",
          "name": "stdout",
          "text": [
            "Appended result to Google Drive file: [285, 0.7647058823529411, 1.0196078431372548, 0.8344218674407354, 0.3429487179487179, 1.5873015873015872, 1.21654501216545]\n"
          ]
        },
        {
          "output_type": "stream",
          "name": "stderr",
          "text": [
            "\n",
            "\n",
            "Processing medical dataset:  57%|█████▋    | 286/500 [51:28<37:07, 10.41s/it]\u001b[A\u001b[A"
          ]
        },
        {
          "output_type": "stream",
          "name": "stdout",
          "text": [
            "Appended result to Google Drive file: [286, 0.33333333333333337, 1.1666666666666667, 0.46913580246913583, 0.8088250930356193, 3.0241935483870974, 1.5274949083503055]\n"
          ]
        },
        {
          "output_type": "stream",
          "name": "stderr",
          "text": [
            "\n",
            "\n",
            "Processing medical dataset:  57%|█████▋    | 287/500 [51:45<44:30, 12.54s/it]\u001b[A\u001b[A"
          ]
        },
        {
          "output_type": "stream",
          "name": "stdout",
          "text": [
            "Appended result to Google Drive file: [287, 0.543859649122807, 1.1929824561403508, 0.7508259714142067, 0.1651250932799183, 1.382488479262673, 0.929368029739777]\n"
          ]
        },
        {
          "output_type": "stream",
          "name": "stderr",
          "text": [
            "\n",
            "\n",
            "Processing medical dataset:  58%|█████▊    | 288/500 [51:54<39:46, 11.26s/it]\u001b[A\u001b[A"
          ]
        },
        {
          "output_type": "stream",
          "name": "stdout",
          "text": [
            "Appended result to Google Drive file: [288, 0.4814814814814815, 0.7037037037037037, 0.6151755651755652, 0.1057210763093116, 2.6178010471204183, 5.208333333333334]\n"
          ]
        },
        {
          "output_type": "stream",
          "name": "stderr",
          "text": [
            "\n",
            "\n",
            "Processing medical dataset:  58%|█████▊    | 289/500 [52:05<39:30, 11.23s/it]\u001b[A\u001b[A"
          ]
        },
        {
          "output_type": "stream",
          "name": "stdout",
          "text": [
            "Appended result to Google Drive file: [289, 0.6666666666666667, 0.8222222222222222, 0.851020010575826, 0.9492017416545719, 1.3623978201634876, 1.5220700152207]\n"
          ]
        },
        {
          "output_type": "stream",
          "name": "stderr",
          "text": [
            "\n",
            "\n",
            "Processing medical dataset:  58%|█████▊    | 290/500 [52:18<41:03, 11.73s/it]\u001b[A\u001b[A"
          ]
        },
        {
          "output_type": "stream",
          "name": "stdout",
          "text": [
            "Appended result to Google Drive file: [290, 0.43137254901960786, 1.215686274509804, 0.7780406475960016, 0.5372438215792646, 1.4104372355430184, 0.5208333333333333]\n"
          ]
        },
        {
          "output_type": "stream",
          "name": "stderr",
          "text": [
            "\n",
            "\n",
            "Processing medical dataset:  58%|█████▊    | 291/500 [52:27<38:08, 10.95s/it]\u001b[A\u001b[A"
          ]
        },
        {
          "output_type": "stream",
          "name": "stdout",
          "text": [
            "Appended result to Google Drive file: [291, 0.45833333333333337, 0.7083333333333333, 0.6957875457875456, 0.37701612903225806, 1.86219739292365, 1.538461538461538]\n"
          ]
        },
        {
          "output_type": "stream",
          "name": "stderr",
          "text": [
            "\n",
            "\n",
            "Processing medical dataset:  58%|█████▊    | 292/500 [52:37<36:52, 10.64s/it]\u001b[A\u001b[A"
          ]
        },
        {
          "output_type": "stream",
          "name": "stdout",
          "text": [
            "Appended result to Google Drive file: [292, 0.8888888888888888, 1.2222222222222223, 0.7998555211558308, 0.3771929824561404, 2.5062656641604018, 0.9009009009009009]\n"
          ]
        },
        {
          "output_type": "stream",
          "name": "stderr",
          "text": [
            "\n",
            "\n",
            "Processing medical dataset:  59%|█████▊    | 293/500 [52:48<37:27, 10.86s/it]\u001b[A\u001b[A"
          ]
        },
        {
          "output_type": "stream",
          "name": "stdout",
          "text": [
            "Appended result to Google Drive file: [293, 0.6666666666666667, 0.8222222222222222, 0.9096045197740112, 0.9044372294372295, 0.746268656716418, 0.75642965204236]\n"
          ]
        },
        {
          "output_type": "stream",
          "name": "stderr",
          "text": [
            "\n",
            "\n",
            "Processing medical dataset:  59%|█████▉    | 294/500 [52:59<37:12, 10.84s/it]\u001b[A\u001b[A"
          ]
        },
        {
          "output_type": "stream",
          "name": "stdout",
          "text": [
            "Appended result to Google Drive file: [294, 0.5952380952380952, 1.0476190476190477, 0.7199331731174635, 0.40282670145683847, 1.4347202295552368, 1.4184397163120568]\n"
          ]
        },
        {
          "output_type": "stream",
          "name": "stderr",
          "text": [
            "\n",
            "\n",
            "Processing medical dataset:  59%|█████▉    | 295/500 [53:09<35:50, 10.49s/it]\u001b[A\u001b[A"
          ]
        },
        {
          "output_type": "stream",
          "name": "stdout",
          "text": [
            "Appended result to Google Drive file: [295, 0.6428571428571428, 0.9285714285714286, 0.9073039215686274, 1.0, 1.680672268907563, 1.388888888888889]\n"
          ]
        },
        {
          "output_type": "stream",
          "name": "stderr",
          "text": [
            "\n",
            "\n",
            "Processing medical dataset:  59%|█████▉    | 296/500 [53:21<37:25, 11.01s/it]\u001b[A\u001b[A"
          ]
        },
        {
          "output_type": "stream",
          "name": "stdout",
          "text": [
            "Appended result to Google Drive file: [296, 0.7083333333333333, 0.9166666666666666, 0.9151698530167541, 0.8989712107195919, 1.644736842105263, 1.6722408026755853]\n"
          ]
        },
        {
          "output_type": "stream",
          "name": "stderr",
          "text": [
            "\n",
            "\n",
            "Processing medical dataset:  59%|█████▉    | 297/500 [53:31<36:25, 10.76s/it]\u001b[A\u001b[A"
          ]
        },
        {
          "output_type": "stream",
          "name": "stdout",
          "text": [
            "Appended result to Google Drive file: [297, 0.6041666666666667, 0.6666666666666667, 0.8422772617819058, 0.25052243119470013, 1.550387596899225, 1.1764705882352937]\n"
          ]
        },
        {
          "output_type": "stream",
          "name": "stderr",
          "text": [
            "\n",
            "\n",
            "Processing medical dataset:  60%|█████▉    | 298/500 [53:40<34:12, 10.16s/it]\u001b[A\u001b[A"
          ]
        },
        {
          "output_type": "stream",
          "name": "stdout",
          "text": [
            "Appended result to Google Drive file: [298, 0.28888888888888886, 1.0, 0.3856209150326797, 0.4838709677419355, 4.189944134078211, 1.9157088122605364]\n"
          ]
        },
        {
          "output_type": "stream",
          "name": "stderr",
          "text": [
            "\n",
            "\n",
            "Processing medical dataset:  60%|█████▉    | 299/500 [53:52<36:21, 10.85s/it]\u001b[A\u001b[A"
          ]
        },
        {
          "output_type": "stream",
          "name": "stdout",
          "text": [
            "Appended result to Google Drive file: [299, 0.375, 0.9166666666666666, 0.9748427672955975, 0.3513513513513513, 1.503006012024048, 1.8028846153846156]\n"
          ]
        },
        {
          "output_type": "stream",
          "name": "stderr",
          "text": [
            "\n",
            "\n",
            "Processing medical dataset:  60%|██████    | 300/500 [54:03<36:06, 10.83s/it]\u001b[A\u001b[A"
          ]
        },
        {
          "output_type": "stream",
          "name": "stdout",
          "text": [
            "Appended result to Google Drive file: [300, 0.5555555555555556, 1.0, 0.6968398935789604, 0.12641723356009069, 1.454898157129001, 1.4992503748125936]\n"
          ]
        },
        {
          "output_type": "stream",
          "name": "stderr",
          "text": [
            "\n",
            "\n",
            "Processing medical dataset:  60%|██████    | 301/500 [54:14<35:59, 10.85s/it]\u001b[A\u001b[A"
          ]
        },
        {
          "output_type": "stream",
          "name": "stdout",
          "text": [
            "Appended result to Google Drive file: [301, 0.7894736842105263, 0.8947368421052632, 0.7662403134272462, 1.0, 1.3679890560875514, 2.487562189054726]\n"
          ]
        },
        {
          "output_type": "stream",
          "name": "stderr",
          "text": [
            "\n",
            "\n",
            "Processing medical dataset:  60%|██████    | 302/500 [54:24<35:26, 10.74s/it]\u001b[A\u001b[A"
          ]
        },
        {
          "output_type": "stream",
          "name": "stdout",
          "text": [
            "Appended result to Google Drive file: [302, 0.5666666666666667, 0.9833333333333333, 0.6938774320313912, 0.40277777777777785, 1.639344262295082, 2.3076923076923075]\n"
          ]
        },
        {
          "output_type": "stream",
          "name": "stderr",
          "text": [
            "\n",
            "\n",
            "Processing medical dataset:  61%|██████    | 303/500 [54:35<35:32, 10.82s/it]\u001b[A\u001b[A"
          ]
        },
        {
          "output_type": "stream",
          "name": "stdout",
          "text": [
            "Appended result to Google Drive file: [303, 0.7, 0.9, 0.9023345153664303, 0.3466666666666667, 1.5360983102918584, 1.0438413361169103]\n"
          ]
        },
        {
          "output_type": "stream",
          "name": "stderr",
          "text": [
            "\n",
            "\n",
            "Processing medical dataset:  61%|██████    | 304/500 [54:45<34:12, 10.47s/it]\u001b[A\u001b[A"
          ]
        },
        {
          "output_type": "stream",
          "name": "stdout",
          "text": [
            "Appended result to Google Drive file: [304, 0.4444444444444444, 1.0, 0.9006522245515955, 0.15555555555555553, 1.6286644951140066, 1.8148820326678767]\n"
          ]
        },
        {
          "output_type": "stream",
          "name": "stderr",
          "text": [
            "\n",
            "\n",
            "Processing medical dataset:  61%|██████    | 305/500 [54:56<33:59, 10.46s/it]\u001b[A\u001b[A"
          ]
        },
        {
          "output_type": "stream",
          "name": "stdout",
          "text": [
            "Appended result to Google Drive file: [305, 0.6842105263157895, 1.0, 0.793107769423559, 0.42857142857142855, 1.5657620041753653, 1.7543859649122806]\n"
          ]
        },
        {
          "output_type": "stream",
          "name": "stderr",
          "text": [
            "\n",
            "\n",
            "Processing medical dataset:  61%|██████    | 306/500 [55:08<35:54, 11.10s/it]\u001b[A\u001b[A"
          ]
        },
        {
          "output_type": "stream",
          "name": "stdout",
          "text": [
            "Appended result to Google Drive file: [306, 0.6666666666666667, 1.2083333333333333, 0.853099730458221, 0.528888888888889, 1.5873015873015872, 1.1312217194570138]\n"
          ]
        },
        {
          "output_type": "stream",
          "name": "stderr",
          "text": [
            "\n",
            "\n",
            "Processing medical dataset:  61%|██████▏   | 307/500 [55:18<34:48, 10.82s/it]\u001b[A\u001b[A"
          ]
        },
        {
          "output_type": "stream",
          "name": "stdout",
          "text": [
            "Appended result to Google Drive file: [307, 0.42105263157894735, 0.5263157894736843, 0.6779720279720279, 0.8899963086009598, 1.5337423312883434, 2.02020202020202]\n"
          ]
        },
        {
          "output_type": "stream",
          "name": "stderr",
          "text": [
            "\n",
            "\n",
            "Processing medical dataset:  62%|██████▏   | 308/500 [55:31<35:58, 11.24s/it]\u001b[A\u001b[A"
          ]
        },
        {
          "output_type": "stream",
          "name": "stdout",
          "text": [
            "Appended result to Google Drive file: [308, 0.6666666666666667, 0.8541666666666666, 0.9151515151515152, 0.44737484737484734, 1.1952191235059761, 1.1990407673860912]\n"
          ]
        },
        {
          "output_type": "stream",
          "name": "stderr",
          "text": [
            "\n",
            "\n",
            "Processing medical dataset:  62%|██████▏   | 309/500 [55:41<34:37, 10.88s/it]\u001b[A\u001b[A"
          ]
        },
        {
          "output_type": "stream",
          "name": "stdout",
          "text": [
            "Appended result to Google Drive file: [309, 0.8235294117647058, 0.9411764705882353, 0.8058640171439704, 1.0, 1.5625, 1.996007984031936]\n"
          ]
        },
        {
          "output_type": "stream",
          "name": "stderr",
          "text": [
            "\n",
            "\n",
            "Processing medical dataset:  62%|██████▏   | 310/500 [55:52<34:46, 10.98s/it]\u001b[A\u001b[A"
          ]
        },
        {
          "output_type": "stream",
          "name": "stdout",
          "text": [
            "Appended result to Google Drive file: [310, 0.8541666666666666, 0.9166666666666666, 0.830896686159844, 0.7410256410256411, 1.3850415512465375, 1.386321626617375]\n"
          ]
        },
        {
          "output_type": "stream",
          "name": "stderr",
          "text": [
            "\n",
            "\n",
            "Processing medical dataset:  62%|██████▏   | 311/500 [56:02<33:48, 10.73s/it]\u001b[A\u001b[A"
          ]
        },
        {
          "output_type": "stream",
          "name": "stdout",
          "text": [
            "Appended result to Google Drive file: [311, 0.5476190476190477, 1.0, 0.7184565563208754, 0.4954954954954955, 1.5974440894568689, 1.515151515151515]\n"
          ]
        },
        {
          "output_type": "stream",
          "name": "stderr",
          "text": [
            "\n",
            "\n",
            "Processing medical dataset:  62%|██████▏   | 312/500 [56:12<32:58, 10.53s/it]\u001b[A\u001b[A"
          ]
        },
        {
          "output_type": "stream",
          "name": "stdout",
          "text": [
            "Appended result to Google Drive file: [312, 0.6666666666666667, 0.8666666666666667, 0.8565610859728507, 1.0, 1.5274949083503055, 3.3333333333333326]\n"
          ]
        },
        {
          "output_type": "stream",
          "name": "stderr",
          "text": [
            "\n",
            "\n",
            "Processing medical dataset:  63%|██████▎   | 313/500 [56:23<32:55, 10.57s/it]\u001b[A\u001b[A"
          ]
        },
        {
          "output_type": "stream",
          "name": "stdout",
          "text": [
            "Appended result to Google Drive file: [313, 0.5686274509803921, 1.0, 0.8288332248969855, 1.0, 1.5015015015015016, 1.9047619047619049]\n"
          ]
        },
        {
          "output_type": "stream",
          "name": "stderr",
          "text": [
            "\n",
            "\n",
            "Processing medical dataset:  63%|██████▎   | 314/500 [56:33<32:15, 10.41s/it]\u001b[A\u001b[A"
          ]
        },
        {
          "output_type": "stream",
          "name": "stdout",
          "text": [
            "Appended result to Google Drive file: [314, 0.5, 0.9285714285714286, 0.7972129397567995, 1.0, 1.5739769150052465, 1.8315018315018312]\n"
          ]
        },
        {
          "output_type": "stream",
          "name": "stderr",
          "text": [
            "\n",
            "\n",
            "Processing medical dataset:  63%|██████▎   | 315/500 [56:43<31:58, 10.37s/it]\u001b[A\u001b[A"
          ]
        },
        {
          "output_type": "stream",
          "name": "stdout",
          "text": [
            "Appended result to Google Drive file: [315, 0.8974358974358975, 1.0, 0.9125230697557741, 0.9371069182389937, 1.8203883495145627, 1.7942583732057416]\n"
          ]
        },
        {
          "output_type": "stream",
          "name": "stderr",
          "text": [
            "\n",
            "\n",
            "Processing medical dataset:  63%|██████▎   | 316/500 [56:56<34:27, 11.23s/it]\u001b[A\u001b[A"
          ]
        },
        {
          "output_type": "stream",
          "name": "stdout",
          "text": [
            "Appended result to Google Drive file: [316, 0.6140350877192983, 1.4736842105263157, 0.8478635925701866, 0.5214012429202303, 1.422475106685633, 0.8503401360544217]\n"
          ]
        },
        {
          "output_type": "stream",
          "name": "stderr",
          "text": [
            "\n",
            "\n",
            "Processing medical dataset:  63%|██████▎   | 317/500 [57:09<35:16, 11.57s/it]\u001b[A\u001b[A"
          ]
        },
        {
          "output_type": "stream",
          "name": "stdout",
          "text": [
            "Appended result to Google Drive file: [317, 0.40740740740740744, 0.8333333333333334, 0.8546256212922879, 0.36482471776589426, 1.358695652173913, 0.8818342151675485]\n"
          ]
        },
        {
          "output_type": "stream",
          "name": "stderr",
          "text": [
            "\n",
            "\n",
            "Processing medical dataset:  64%|██████▎   | 318/500 [57:18<32:59, 10.88s/it]\u001b[A\u001b[A"
          ]
        },
        {
          "output_type": "stream",
          "name": "stdout",
          "text": [
            "Appended result to Google Drive file: [318, 0.5686274509803921, 1.0, 0.399137187230371, 0.4545454545454546, 2.6178010471204183, 1.8450184501845017]\n"
          ]
        },
        {
          "output_type": "stream",
          "name": "stderr",
          "text": [
            "\n",
            "\n",
            "Processing medical dataset:  64%|██████▍   | 319/500 [57:28<32:09, 10.66s/it]\u001b[A\u001b[A"
          ]
        },
        {
          "output_type": "stream",
          "name": "stdout",
          "text": [
            "Appended result to Google Drive file: [319, 0.3125, 0.9583333333333334, 0.4058922558922559, 0.846498599439776, 3.205128205128205, 1.0]\n"
          ]
        },
        {
          "output_type": "stream",
          "name": "stderr",
          "text": [
            "\n",
            "\n",
            "Processing medical dataset:  64%|██████▍   | 320/500 [57:38<31:40, 10.56s/it]\u001b[A\u001b[A"
          ]
        },
        {
          "output_type": "stream",
          "name": "stdout",
          "text": [
            "Appended result to Google Drive file: [320, 0.5185185185185186, 1.0, 0.6064305653650827, 1.0, 1.7523364485981308, 1.5576323987538943]\n"
          ]
        },
        {
          "output_type": "stream",
          "name": "stderr",
          "text": [
            "\n",
            "\n",
            "Processing medical dataset:  64%|██████▍   | 321/500 [57:50<32:31, 10.90s/it]\u001b[A\u001b[A"
          ]
        },
        {
          "output_type": "stream",
          "name": "stdout",
          "text": [
            "Appended result to Google Drive file: [321, 0.6875, 1.2708333333333333, 0.8583495776478233, 0.2128074957525645, 1.4534883720930232, 1.492537313432836]\n"
          ]
        },
        {
          "output_type": "stream",
          "name": "stderr",
          "text": [
            "\n",
            "\n",
            "Processing medical dataset:  64%|██████▍   | 322/500 [58:10<40:03, 13.50s/it]\u001b[A\u001b[A"
          ]
        },
        {
          "output_type": "stream",
          "name": "stdout",
          "text": [
            "Appended result to Google Drive file: [322, 0.6041666666666667, 1.2291666666666667, 0.7394179073614557, 0.21678583588695952, 1.5045135406218657, 1.0976948408342484]\n"
          ]
        },
        {
          "output_type": "stream",
          "name": "stderr",
          "text": [
            "\n",
            "\n",
            "Processing medical dataset:  65%|██████▍   | 323/500 [58:19<36:29, 12.37s/it]\u001b[A\u001b[A"
          ]
        },
        {
          "output_type": "stream",
          "name": "stdout",
          "text": [
            "Appended result to Google Drive file: [323, 0.6842105263157895, 0.7543859649122807, 0.7114124293785311, 0.4000000000000001, 0.9699321047526672, 2.652519893899204]\n"
          ]
        },
        {
          "output_type": "stream",
          "name": "stderr",
          "text": [
            "\n",
            "\n",
            "Processing medical dataset:  65%|██████▍   | 324/500 [58:29<34:18, 11.70s/it]\u001b[A\u001b[A"
          ]
        },
        {
          "output_type": "stream",
          "name": "stdout",
          "text": [
            "Appended result to Google Drive file: [324, 0.4222222222222223, 0.9333333333333333, 0.9042207792207791, 0.4482758620689656, 0.8361204013377926, 1.8450184501845017]\n"
          ]
        },
        {
          "output_type": "stream",
          "name": "stderr",
          "text": [
            "\n",
            "\n",
            "Processing medical dataset:  65%|██████▌   | 325/500 [58:40<32:59, 11.31s/it]\u001b[A\u001b[A"
          ]
        },
        {
          "output_type": "stream",
          "name": "stdout",
          "text": [
            "Appended result to Google Drive file: [325, 0.5384615384615384, 0.8974358974358975, 0.9420246017342206, 0.4340016708437761, 0.8333333333333334, 1.2468827930174564]\n"
          ]
        },
        {
          "output_type": "stream",
          "name": "stderr",
          "text": [
            "\n",
            "\n",
            "Processing medical dataset:  65%|██████▌   | 326/500 [58:50<32:09, 11.09s/it]\u001b[A\u001b[A"
          ]
        },
        {
          "output_type": "stream",
          "name": "stdout",
          "text": [
            "Appended result to Google Drive file: [326, 0.5294117647058824, 0.9411764705882353, 0.5787506862901369, 1.0, 1.5313935681470137, 1.2626262626262625]\n"
          ]
        },
        {
          "output_type": "stream",
          "name": "stderr",
          "text": [
            "\n",
            "\n",
            "Processing medical dataset:  65%|██████▌   | 327/500 [59:01<31:33, 10.95s/it]\u001b[A\u001b[A"
          ]
        },
        {
          "output_type": "stream",
          "name": "stdout",
          "text": [
            "Appended result to Google Drive file: [327, 0.7291666666666667, 1.0, 0.8180681589030047, 0.42483660130718953, 1.3568521031207597, 0.99009900990099]\n"
          ]
        },
        {
          "output_type": "stream",
          "name": "stderr",
          "text": [
            "\n",
            "\n",
            "Processing medical dataset:  66%|██████▌   | 328/500 [59:13<32:25, 11.31s/it]\u001b[A\u001b[A"
          ]
        },
        {
          "output_type": "stream",
          "name": "stdout",
          "text": [
            "Appended result to Google Drive file: [328, 0.23809523809523814, 0.5714285714285714, 0.8182503770739066, 0.7613064201114517, 1.7006802721088434, 1.680672268907563]\n"
          ]
        },
        {
          "output_type": "stream",
          "name": "stderr",
          "text": [
            "\n",
            "\n",
            "Processing medical dataset:  66%|██████▌   | 329/500 [59:24<32:08, 11.28s/it]\u001b[A\u001b[A"
          ]
        },
        {
          "output_type": "stream",
          "name": "stdout",
          "text": [
            "Appended result to Google Drive file: [329, 0.6851851851851851, 1.0, 0.6499015589842495, 0.48484848484848486, 1.3501350135013501, 1.4727540500736376]\n"
          ]
        },
        {
          "output_type": "stream",
          "name": "stderr",
          "text": [
            "\n",
            "\n",
            "Processing medical dataset:  66%|██████▌   | 330/500 [59:36<31:56, 11.27s/it]\u001b[A\u001b[A"
          ]
        },
        {
          "output_type": "stream",
          "name": "stdout",
          "text": [
            "Appended result to Google Drive file: [330, 0.5686274509803921, 0.9411764705882353, 0.7647712418300653, 0.9506172839506174, 1.4880952380952381, 2.277904328018223]\n"
          ]
        },
        {
          "output_type": "stream",
          "name": "stderr",
          "text": [
            "\n",
            "\n",
            "Processing medical dataset:  66%|██████▌   | 331/500 [59:46<30:57, 10.99s/it]\u001b[A\u001b[A"
          ]
        },
        {
          "output_type": "stream",
          "name": "stdout",
          "text": [
            "Appended result to Google Drive file: [331, 0.47619047619047616, 0.7857142857142857, 0.6109027877933219, 0.3550093872674518, 1.4749262536873158, 1.65016501650165]\n"
          ]
        },
        {
          "output_type": "stream",
          "name": "stderr",
          "text": [
            "\n",
            "\n",
            "Processing medical dataset:  66%|██████▋   | 332/500 [1:00:00<33:02, 11.80s/it]\u001b[A\u001b[A"
          ]
        },
        {
          "output_type": "stream",
          "name": "stdout",
          "text": [
            "Appended result to Google Drive file: [332, 0.5185185185185186, 0.8333333333333334, 0.7596748345740281, 0.29662530975822116, 1.1376564277588168, 0.6361323155216284]\n"
          ]
        },
        {
          "output_type": "stream",
          "name": "stderr",
          "text": [
            "\n",
            "\n",
            "Processing medical dataset:  67%|██████▋   | 333/500 [1:00:12<33:14, 11.94s/it]\u001b[A\u001b[A"
          ]
        },
        {
          "output_type": "stream",
          "name": "stdout",
          "text": [
            "Appended result to Google Drive file: [333, 0.37254901960784315, 0.8823529411764706, 0.6382481531735262, 0.3913043478260869, 1.2897678417884784, 2.7624309392265194]\n"
          ]
        },
        {
          "output_type": "stream",
          "name": "stderr",
          "text": [
            "\n",
            "\n",
            "Processing medical dataset:  67%|██████▋   | 334/500 [1:00:22<31:50, 11.51s/it]\u001b[A\u001b[A"
          ]
        },
        {
          "output_type": "stream",
          "name": "stdout",
          "text": [
            "Appended result to Google Drive file: [334, 0.5555555555555556, 0.9333333333333333, 0.8025451559934318, 0.16498903084268937, 1.5274949083503055, 1.7421602787456445]\n"
          ]
        },
        {
          "output_type": "stream",
          "name": "stderr",
          "text": [
            "\n",
            "\n",
            "Processing medical dataset:  67%|██████▋   | 335/500 [1:00:33<30:34, 11.12s/it]\u001b[A\u001b[A"
          ]
        },
        {
          "output_type": "stream",
          "name": "stdout",
          "text": [
            "Appended result to Google Drive file: [335, 0.6666666666666667, 1.0, 0.742897754931168, 1.0, 1.7761989342806392, 1.3736263736263734]\n"
          ]
        },
        {
          "output_type": "stream",
          "name": "stderr",
          "text": [
            "\n",
            "\n",
            "Processing medical dataset:  67%|██████▋   | 336/500 [1:00:43<29:53, 10.94s/it]\u001b[A\u001b[A"
          ]
        },
        {
          "output_type": "stream",
          "name": "stdout",
          "text": [
            "Appended result to Google Drive file: [336, 0.5263157894736843, 0.9473684210526316, 0.7484126984126984, 0.41830065359477125, 1.6198704103671704, 1.335113484646195]\n"
          ]
        },
        {
          "output_type": "stream",
          "name": "stderr",
          "text": [
            "\n",
            "\n",
            "Processing medical dataset:  67%|██████▋   | 337/500 [1:00:57<32:21, 11.91s/it]\u001b[A\u001b[A"
          ]
        },
        {
          "output_type": "stream",
          "name": "stdout",
          "text": [
            "Appended result to Google Drive file: [337, 0.6842105263157895, 1.4210526315789473, 0.8636721113127646, 0.6290657916268334, 1.3215859030837005, 0.8455467869222096]\n"
          ]
        },
        {
          "output_type": "stream",
          "name": "stderr",
          "text": [
            "\n",
            "\n",
            "Processing medical dataset:  68%|██████▊   | 338/500 [1:01:11<33:40, 12.47s/it]\u001b[A\u001b[A"
          ]
        },
        {
          "output_type": "stream",
          "name": "stdout",
          "text": [
            "Appended result to Google Drive file: [338, 0.537037037037037, 1.7222222222222223, 0.7943322109988777, 0.9439880020865936, 1.557632398753894, 0.9907529722589166]\n"
          ]
        },
        {
          "output_type": "stream",
          "name": "stderr",
          "text": [
            "\n",
            "\n",
            "Processing medical dataset:  68%|██████▊   | 339/500 [1:01:23<32:55, 12.27s/it]\u001b[A\u001b[A"
          ]
        },
        {
          "output_type": "stream",
          "name": "stdout",
          "text": [
            "Appended result to Google Drive file: [339, 0.4375, 0.875, 0.8061856959689777, 0.48210526315789476, 1.3489208633093526, 1.6]\n"
          ]
        },
        {
          "output_type": "stream",
          "name": "stderr",
          "text": [
            "\n",
            "\n",
            "Processing medical dataset:  68%|██████▊   | 340/500 [1:01:34<31:49, 11.93s/it]\u001b[A\u001b[A"
          ]
        },
        {
          "output_type": "stream",
          "name": "stdout",
          "text": [
            "Appended result to Google Drive file: [340, 0.5833333333333333, 0.7166666666666667, 0.8777947845804989, 0.8533333333333334, 1.5649452269170578, 1.6778523489932882]\n"
          ]
        },
        {
          "output_type": "stream",
          "name": "stderr",
          "text": [
            "\n",
            "\n",
            "Processing medical dataset:  68%|██████▊   | 341/500 [1:01:46<31:29, 11.88s/it]\u001b[A\u001b[A"
          ]
        },
        {
          "output_type": "stream",
          "name": "stdout",
          "text": [
            "Appended result to Google Drive file: [341, 0.6666666666666667, 1.0, 0.8780355447022113, 0.33547008547008544, 1.4430014430014433, 1.243781094527363]\n"
          ]
        },
        {
          "output_type": "stream",
          "name": "stderr",
          "text": [
            "\n",
            "\n",
            "Processing medical dataset:  68%|██████▊   | 342/500 [1:01:55<29:12, 11.09s/it]\u001b[A\u001b[A"
          ]
        },
        {
          "output_type": "stream",
          "name": "stdout",
          "text": [
            "Appended result to Google Drive file: [342, 0.696969696969697, 0.9696969696969697, 0.8188082374128886, 0.983739837398374, 1.7699115044247788, 1.65016501650165]\n"
          ]
        },
        {
          "output_type": "stream",
          "name": "stderr",
          "text": [
            "\n",
            "\n",
            "Processing medical dataset:  69%|██████▊   | 343/500 [1:02:05<27:46, 10.61s/it]\u001b[A\u001b[A"
          ]
        },
        {
          "output_type": "stream",
          "name": "stdout",
          "text": [
            "Appended result to Google Drive file: [343, 0.3846153846153846, 0.9230769230769231, 0.661510913525362, 1.0, 1.5384615384615383, 1.9607843137254906]\n"
          ]
        },
        {
          "output_type": "stream",
          "name": "stderr",
          "text": [
            "\n",
            "\n",
            "Processing medical dataset:  69%|██████▉   | 344/500 [1:02:16<28:14, 10.86s/it]\u001b[A\u001b[A"
          ]
        },
        {
          "output_type": "stream",
          "name": "stdout",
          "text": [
            "Appended result to Google Drive file: [344, 0.5490196078431373, 1.0, 0.8547457307745127, 0.9329501915708812, 1.2437810945273633, 1.3440860215053763]\n"
          ]
        },
        {
          "output_type": "stream",
          "name": "stderr",
          "text": [
            "\n",
            "\n",
            "Processing medical dataset:  69%|██████▉   | 345/500 [1:02:27<27:46, 10.75s/it]\u001b[A\u001b[A"
          ]
        },
        {
          "output_type": "stream",
          "name": "stdout",
          "text": [
            "Appended result to Google Drive file: [345, 0.5714285714285714, 0.9285714285714286, 0.7719472340200321, 0.1699346405228758, 1.5948963317384368, 0.9708737864077669]\n"
          ]
        },
        {
          "output_type": "stream",
          "name": "stderr",
          "text": [
            "\n",
            "\n",
            "Processing medical dataset:  69%|██████▉   | 346/500 [1:02:37<27:19, 10.65s/it]\u001b[A\u001b[A"
          ]
        },
        {
          "output_type": "stream",
          "name": "stdout",
          "text": [
            "Appended result to Google Drive file: [346, 0.7962962962962963, 0.9444444444444444, 0.8845726970033296, 1.0, 1.5243902439024388, 1.1467889908256879]\n"
          ]
        },
        {
          "output_type": "stream",
          "name": "stderr",
          "text": [
            "\n",
            "\n",
            "Processing medical dataset:  69%|██████▉   | 347/500 [1:02:46<26:06, 10.24s/it]\u001b[A\u001b[A"
          ]
        },
        {
          "output_type": "stream",
          "name": "stdout",
          "text": [
            "Appended result to Google Drive file: [347, 0.8461538461538461, 0.9230769230769231, 0.7872346895335401, 0.4942528735632184, 1.6181229773462782, 1.7301038062283738]\n"
          ]
        },
        {
          "output_type": "stream",
          "name": "stderr",
          "text": [
            "\n",
            "\n",
            "Processing medical dataset:  70%|██████▉   | 348/500 [1:02:57<26:29, 10.46s/it]\u001b[A\u001b[A"
          ]
        },
        {
          "output_type": "stream",
          "name": "stdout",
          "text": [
            "Appended result to Google Drive file: [348, 0.537037037037037, 0.8518518518518519, 0.8021661538913945, 0.3986013986013986, 1.5756302521008403, 2.0746887966804977]\n"
          ]
        },
        {
          "output_type": "stream",
          "name": "stderr",
          "text": [
            "\n",
            "\n",
            "Processing medical dataset:  70%|██████▉   | 349/500 [1:03:08<26:49, 10.66s/it]\u001b[A\u001b[A"
          ]
        },
        {
          "output_type": "stream",
          "name": "stdout",
          "text": [
            "Appended result to Google Drive file: [349, 0.625, 1.1458333333333333, 0.7431816266956104, 0.4996491228070176, 1.740139211136891, 1.7605633802816898]\n"
          ]
        },
        {
          "output_type": "stream",
          "name": "stderr",
          "text": [
            "\n",
            "\n",
            "Processing medical dataset:  70%|███████   | 350/500 [1:03:20<27:06, 10.85s/it]\u001b[A\u001b[A"
          ]
        },
        {
          "output_type": "stream",
          "name": "stdout",
          "text": [
            "Appended result to Google Drive file: [350, 0.7878787878787878, 0.9090909090909091, 0.8213589529379002, 0.7111111111111111, 1.7482517482517481, 1.726121979286536]\n"
          ]
        },
        {
          "output_type": "stream",
          "name": "stderr",
          "text": [
            "\n",
            "\n",
            "Processing medical dataset:  70%|███████   | 351/500 [1:03:30<26:38, 10.73s/it]\u001b[A\u001b[A"
          ]
        },
        {
          "output_type": "stream",
          "name": "stdout",
          "text": [
            "Appended result to Google Drive file: [351, 0.7692307692307692, 0.9230769230769231, 0.8050527903469081, 0.8434200603318249, 1.740139211136891, 1.7182130584192439]\n"
          ]
        },
        {
          "output_type": "stream",
          "name": "stderr",
          "text": [
            "\n",
            "\n",
            "Processing medical dataset:  70%|███████   | 352/500 [1:03:41<26:46, 10.85s/it]\u001b[A\u001b[A"
          ]
        },
        {
          "output_type": "stream",
          "name": "stdout",
          "text": [
            "Appended result to Google Drive file: [352, 0.6888888888888889, 1.0222222222222221, 0.8562091503267973, 0.8390856342537014, 1.7162471395881007, 1.7942583732057416]\n"
          ]
        },
        {
          "output_type": "stream",
          "name": "stderr",
          "text": [
            "\n",
            "\n",
            "Processing medical dataset:  71%|███████   | 353/500 [1:03:51<25:40, 10.48s/it]\u001b[A\u001b[A"
          ]
        },
        {
          "output_type": "stream",
          "name": "stdout",
          "text": [
            "Appended result to Google Drive file: [353, 0.5833333333333333, 0.875, 0.8342138364779874, 1.0, 1.6411378555798688, 1.736111111111111]\n"
          ]
        },
        {
          "output_type": "stream",
          "name": "stderr",
          "text": [
            "\n",
            "\n",
            "Processing medical dataset:  71%|███████   | 354/500 [1:04:02<26:09, 10.75s/it]\u001b[A\u001b[A"
          ]
        },
        {
          "output_type": "stream",
          "name": "stdout",
          "text": [
            "Appended result to Google Drive file: [354, 0.5263157894736843, 1.0, 0.7365694682675814, 1.0, 1.7045454545454548, 2.3923444976076556]\n"
          ]
        },
        {
          "output_type": "stream",
          "name": "stderr",
          "text": [
            "\n",
            "\n",
            "Processing medical dataset:  71%|███████   | 355/500 [1:04:13<26:10, 10.83s/it]\u001b[A\u001b[A"
          ]
        },
        {
          "output_type": "stream",
          "name": "stdout",
          "text": [
            "Appended result to Google Drive file: [355, 0.5333333333333333, 1.0, 0.679308489827856, 1.0, 1.466275659824047, 1.0245901639344261]\n"
          ]
        },
        {
          "output_type": "stream",
          "name": "stderr",
          "text": [
            "\n",
            "\n",
            "Processing medical dataset:  71%|███████   | 356/500 [1:04:24<25:44, 10.72s/it]\u001b[A\u001b[A"
          ]
        },
        {
          "output_type": "stream",
          "name": "stdout",
          "text": [
            "Appended result to Google Drive file: [356, 0.5490196078431373, 1.0, 0.7018609060599282, 1.0, 1.5408320493066259, 1.4204545454545454]\n"
          ]
        },
        {
          "output_type": "stream",
          "name": "stderr",
          "text": [
            "\n",
            "\n",
            "Processing medical dataset:  71%|███████▏  | 357/500 [1:04:36<26:47, 11.24s/it]\u001b[A\u001b[A"
          ]
        },
        {
          "output_type": "stream",
          "name": "stdout",
          "text": [
            "Appended result to Google Drive file: [357, 0.7254901960784313, 1.0784313725490196, 0.7718137786452687, 0.48681931114287663, 1.6366612111292964, 0.8695652173913043]\n"
          ]
        },
        {
          "output_type": "stream",
          "name": "stderr",
          "text": [
            "\n",
            "\n",
            "Processing medical dataset:  72%|███████▏  | 358/500 [1:04:47<26:41, 11.28s/it]\u001b[A\u001b[A"
          ]
        },
        {
          "output_type": "stream",
          "name": "stdout",
          "text": [
            "Appended result to Google Drive file: [358, 0.537037037037037, 0.7777777777777778, 0.7700895595632438, 0.3934329627604641, 1.557632398753894, 0.7396449704142012]\n"
          ]
        },
        {
          "output_type": "stream",
          "name": "stderr",
          "text": [
            "\n",
            "\n",
            "Processing medical dataset:  72%|███████▏  | 359/500 [1:05:00<27:03, 11.51s/it]\u001b[A\u001b[A"
          ]
        },
        {
          "output_type": "stream",
          "name": "stdout",
          "text": [
            "Appended result to Google Drive file: [359, 0.8518518518518519, 0.9259259259259259, 0.8867397378035676, 0.772532679738562, 1.6420361247947455, 1.6722408026755853]\n"
          ]
        },
        {
          "output_type": "stream",
          "name": "stderr",
          "text": [
            "\n",
            "\n",
            "Processing medical dataset:  72%|███████▏  | 360/500 [1:05:09<25:10, 10.79s/it]\u001b[A\u001b[A"
          ]
        },
        {
          "output_type": "stream",
          "name": "stdout",
          "text": [
            "Appended result to Google Drive file: [360, 0.6666666666666667, 0.9090909090909091, 0.8055272423434783, 1.0, 1.6930022573363432, 3.3557046979865772]\n"
          ]
        },
        {
          "output_type": "stream",
          "name": "stderr",
          "text": [
            "\n",
            "\n",
            "Processing medical dataset:  72%|███████▏  | 361/500 [1:05:20<25:24, 10.97s/it]\u001b[A\u001b[A"
          ]
        },
        {
          "output_type": "stream",
          "name": "stdout",
          "text": [
            "Appended result to Google Drive file: [361, 0.6428571428571428, 0.7619047619047619, 0.7445621988074819, 0.33957483623779505, 1.6207455429497568, 1.0482180293501049]\n"
          ]
        },
        {
          "output_type": "stream",
          "name": "stderr",
          "text": [
            "\n",
            "\n",
            "Processing medical dataset:  72%|███████▏  | 362/500 [1:05:34<27:17, 11.87s/it]\u001b[A\u001b[A"
          ]
        },
        {
          "output_type": "stream",
          "name": "stdout",
          "text": [
            "Appended result to Google Drive file: [362, 0.4901960784313726, 1.784313725490196, 0.5994588744588745, 0.8394594594594595, 1.773049645390071, 0.956022944550669]\n"
          ]
        },
        {
          "output_type": "stream",
          "name": "stderr",
          "text": [
            "\n",
            "\n",
            "Processing medical dataset:  73%|███████▎  | 363/500 [1:05:44<26:03, 11.42s/it]\u001b[A\u001b[A"
          ]
        },
        {
          "output_type": "stream",
          "name": "stdout",
          "text": [
            "Appended result to Google Drive file: [363, 0.55, 0.9, 0.8000326797385622, 1.0, 1.6930022573363432, 1.5873015873015877]\n"
          ]
        },
        {
          "output_type": "stream",
          "name": "stderr",
          "text": [
            "\n",
            "\n",
            "Processing medical dataset:  73%|███████▎  | 364/500 [1:05:55<25:19, 11.17s/it]\u001b[A\u001b[A"
          ]
        },
        {
          "output_type": "stream",
          "name": "stdout",
          "text": [
            "Appended result to Google Drive file: [364, 0.4285714285714286, 0.8571428571428572, 0.7658820510000183, 0.9540229885057471, 1.612903225806452, 1.1709601873536302]\n"
          ]
        },
        {
          "output_type": "stream",
          "name": "stderr",
          "text": [
            "\n",
            "\n",
            "Processing medical dataset:  73%|███████▎  | 365/500 [1:06:06<24:46, 11.01s/it]\u001b[A\u001b[A"
          ]
        },
        {
          "output_type": "stream",
          "name": "stdout",
          "text": [
            "Appended result to Google Drive file: [365, 0.8787878787878788, 0.9545454545454546, 0.8339109228597099, 0.7832244008714597, 1.7301038062283736, 1.6863406408094437]\n"
          ]
        },
        {
          "output_type": "stream",
          "name": "stderr",
          "text": [
            "\n",
            "\n",
            "Processing medical dataset:  73%|███████▎  | 366/500 [1:06:16<24:24, 10.93s/it]\u001b[A\u001b[A"
          ]
        },
        {
          "output_type": "stream",
          "name": "stdout",
          "text": [
            "Appended result to Google Drive file: [366, 0.5686274509803921, 0.8431372549019608, 0.8722596924594704, 0.5284813951480619, 1.5856236786469344, 1.3404825737265413]\n"
          ]
        },
        {
          "output_type": "stream",
          "name": "stderr",
          "text": [
            "\n",
            "\n",
            "Processing medical dataset:  73%|███████▎  | 367/500 [1:06:31<26:39, 12.03s/it]\u001b[A\u001b[A"
          ]
        },
        {
          "output_type": "stream",
          "name": "stdout",
          "text": [
            "Appended result to Google Drive file: [367, 0.7708333333333334, 1.6666666666666665, 0.8502212904728629, 0.3560823631246166, 1.2908777969018934, 0.9404388714733543]\n"
          ]
        },
        {
          "output_type": "stream",
          "name": "stderr",
          "text": [
            "\n",
            "\n",
            "Processing medical dataset:  74%|███████▎  | 368/500 [1:06:43<26:39, 12.12s/it]\u001b[A\u001b[A"
          ]
        },
        {
          "output_type": "stream",
          "name": "stdout",
          "text": [
            "Appended result to Google Drive file: [368, 0.5294117647058824, 0.9803921568627451, 0.8888370888370888, 0.9384469696969697, 1.4822134387351777, 1.2180267965895246]\n"
          ]
        },
        {
          "output_type": "stream",
          "name": "stderr",
          "text": [
            "\n",
            "\n",
            "Processing medical dataset:  74%|███████▍  | 369/500 [1:06:54<25:28, 11.67s/it]\u001b[A\u001b[A"
          ]
        },
        {
          "output_type": "stream",
          "name": "stdout",
          "text": [
            "Appended result to Google Drive file: [369, 0.6666666666666667, 0.8974358974358975, 0.6793754538852578, 0.18389830508474578, 1.8450184501845017, 1.6778523489932886]\n"
          ]
        },
        {
          "output_type": "stream",
          "name": "stderr",
          "text": [
            "\n",
            "\n",
            "Processing medical dataset:  74%|███████▍  | 370/500 [1:07:05<25:04, 11.58s/it]\u001b[A\u001b[A"
          ]
        },
        {
          "output_type": "stream",
          "name": "stdout",
          "text": [
            "Appended result to Google Drive file: [370, 0.6376811594202898, 0.7391304347826086, 0.7759269032853938, 0.263827487965419, 1.483679525222552, 1.9305019305019304]\n"
          ]
        },
        {
          "output_type": "stream",
          "name": "stderr",
          "text": [
            "\n",
            "\n",
            "Processing medical dataset:  74%|███████▍  | 371/500 [1:07:15<23:34, 10.97s/it]\u001b[A\u001b[A"
          ]
        },
        {
          "output_type": "stream",
          "name": "stdout",
          "text": [
            "Appended result to Google Drive file: [371, 0.6888888888888889, 0.9111111111111111, 0.7999412408641619, 0.4408602150537635, 1.6629711751662972, 2.469135802469136]\n"
          ]
        },
        {
          "output_type": "stream",
          "name": "stderr",
          "text": [
            "\n",
            "\n",
            "Processing medical dataset:  74%|███████▍  | 372/500 [1:07:25<22:42, 10.65s/it]\u001b[A\u001b[A"
          ]
        },
        {
          "output_type": "stream",
          "name": "stdout",
          "text": [
            "Appended result to Google Drive file: [372, 0.6428571428571428, 0.9285714285714286, 0.6471822196620584, 0.5151515151515151, 1.4822134387351777, 2.2222222222222223]\n"
          ]
        },
        {
          "output_type": "stream",
          "name": "stderr",
          "text": [
            "\n",
            "\n",
            "Processing medical dataset:  75%|███████▍  | 373/500 [1:07:36<22:51, 10.80s/it]\u001b[A\u001b[A"
          ]
        },
        {
          "output_type": "stream",
          "name": "stdout",
          "text": [
            "Appended result to Google Drive file: [373, 0.5294117647058824, 0.7843137254901961, 0.45140516024718763, 0.6825641025641026, 1.9157088122605366, 1.6797312430011198]\n"
          ]
        },
        {
          "output_type": "stream",
          "name": "stderr",
          "text": [
            "\n",
            "\n",
            "Processing medical dataset:  75%|███████▍  | 374/500 [1:07:47<22:36, 10.77s/it]\u001b[A\u001b[A"
          ]
        },
        {
          "output_type": "stream",
          "name": "stdout",
          "text": [
            "Appended result to Google Drive file: [374, 0.7380952380952381, 0.7619047619047619, 0.72833153336298, 0.7325369598954504, 1.7221584385763489, 1.141552511415525]\n"
          ]
        },
        {
          "output_type": "stream",
          "name": "stderr",
          "text": [
            "\n",
            "\n",
            "Processing medical dataset:  75%|███████▌  | 375/500 [1:07:58<22:53, 10.98s/it]\u001b[A\u001b[A"
          ]
        },
        {
          "output_type": "stream",
          "name": "stdout",
          "text": [
            "Appended result to Google Drive file: [375, 0.6470588235294117, 1.0, 0.6306356837606838, 0.13653699466056446, 1.3550135501355012, 1.0288065843621397]\n"
          ]
        },
        {
          "output_type": "stream",
          "name": "stderr",
          "text": [
            "\n",
            "\n",
            "Processing medical dataset:  75%|███████▌  | 376/500 [1:08:08<22:22, 10.83s/it]\u001b[A\u001b[A"
          ]
        },
        {
          "output_type": "stream",
          "name": "stdout",
          "text": [
            "Appended result to Google Drive file: [376, 0.5, 1.0, 0.7637352094659419, 0.823529411764706, 1.5898251192368837, 1.0964912280701753]\n"
          ]
        },
        {
          "output_type": "stream",
          "name": "stderr",
          "text": [
            "\n",
            "\n",
            "Processing medical dataset:  75%|███████▌  | 377/500 [1:08:19<22:10, 10.81s/it]\u001b[A\u001b[A"
          ]
        },
        {
          "output_type": "stream",
          "name": "stdout",
          "text": [
            "Appended result to Google Drive file: [377, 0.7407407407407407, 0.7962962962962963, 0.9131143722338692, 0.7590388007054675, 1.4903129657228018, 1.5898251192368837]\n"
          ]
        },
        {
          "output_type": "stream",
          "name": "stderr",
          "text": [
            "\n",
            "\n",
            "Processing medical dataset:  76%|███████▌  | 378/500 [1:08:31<22:35, 11.11s/it]\u001b[A\u001b[A"
          ]
        },
        {
          "output_type": "stream",
          "name": "stdout",
          "text": [
            "Appended result to Google Drive file: [378, 0.736842105263158, 1.4035087719298245, 0.9323696145124717, 0.2123584973682313, 1.7391304347826086, 0.5555555555555555]\n"
          ]
        },
        {
          "output_type": "stream",
          "name": "stderr",
          "text": [
            "\n",
            "\n",
            "Processing medical dataset:  76%|███████▌  | 379/500 [1:08:44<23:12, 11.51s/it]\u001b[A\u001b[A"
          ]
        },
        {
          "output_type": "stream",
          "name": "stdout",
          "text": [
            "Appended result to Google Drive file: [379, 0.6140350877192983, 1.2280701754385965, 0.8896745230078563, 0.5251141552511416, 1.5948963317384368, 1.1415525114155252]\n"
          ]
        },
        {
          "output_type": "stream",
          "name": "stderr",
          "text": [
            "\n",
            "\n",
            "Processing medical dataset:  76%|███████▌  | 380/500 [1:08:54<22:41, 11.34s/it]\u001b[A\u001b[A"
          ]
        },
        {
          "output_type": "stream",
          "name": "stdout",
          "text": [
            "Appended result to Google Drive file: [380, 0.35416666666666663, 0.9583333333333334, 0.5153382107560005, 0.47601601601601606, 1.997336884154461, 1.5313935681470137]\n"
          ]
        },
        {
          "output_type": "stream",
          "name": "stderr",
          "text": [
            "\n",
            "\n",
            "Processing medical dataset:  76%|███████▌  | 381/500 [1:09:04<21:22, 10.78s/it]\u001b[A\u001b[A"
          ]
        },
        {
          "output_type": "stream",
          "name": "stdout",
          "text": [
            "Appended result to Google Drive file: [381, 0.6428571428571428, 0.5476190476190477, 0.6987823824498353, 0.1520741835891638, 1.7421602787456445, 2.1321961620469083]\n"
          ]
        },
        {
          "output_type": "stream",
          "name": "stderr",
          "text": [
            "\n",
            "\n",
            "Processing medical dataset:  76%|███████▋  | 382/500 [1:09:15<21:20, 10.85s/it]\u001b[A\u001b[A"
          ]
        },
        {
          "output_type": "stream",
          "name": "stdout",
          "text": [
            "Appended result to Google Drive file: [382, 0.5952380952380952, 1.0, 0.7964159684372181, 0.5714285714285715, 1.287001287001287, 0.9191176470588234]\n"
          ]
        },
        {
          "output_type": "stream",
          "name": "stderr",
          "text": [
            "\n",
            "\n",
            "Processing medical dataset:  77%|███████▋  | 383/500 [1:09:26<21:21, 10.95s/it]\u001b[A\u001b[A"
          ]
        },
        {
          "output_type": "stream",
          "name": "stdout",
          "text": [
            "Appended result to Google Drive file: [383, 1.0392156862745099, 1.156862745098039, 0.8316486972147349, 0.8671578421578422, 1.4992503748125936, 1.5220700152207]\n"
          ]
        },
        {
          "output_type": "stream",
          "name": "stderr",
          "text": [
            "\n",
            "\n",
            "Processing medical dataset:  77%|███████▋  | 384/500 [1:09:36<20:41, 10.70s/it]\u001b[A\u001b[A"
          ]
        },
        {
          "output_type": "stream",
          "name": "stdout",
          "text": [
            "Appended result to Google Drive file: [384, 0.6041666666666667, 0.625, 0.8013363448146057, 0.15482294230243368, 1.855287569573284, 1.1111111111111114]\n"
          ]
        },
        {
          "output_type": "stream",
          "name": "stderr",
          "text": [
            "\n",
            "\n",
            "Processing medical dataset:  77%|███████▋  | 385/500 [1:09:45<19:40, 10.26s/it]\u001b[A\u001b[A"
          ]
        },
        {
          "output_type": "stream",
          "name": "stdout",
          "text": [
            "Appended result to Google Drive file: [385, 0.9743589743589743, 1.0, 0.9279850618426012, 1.0, 1.6251354279523293, 2.3980815347721824]\n"
          ]
        },
        {
          "output_type": "stream",
          "name": "stderr",
          "text": [
            "\n",
            "\n",
            "Processing medical dataset:  77%|███████▋  | 386/500 [1:09:58<20:49, 10.96s/it]\u001b[A\u001b[A"
          ]
        },
        {
          "output_type": "stream",
          "name": "stdout",
          "text": [
            "Appended result to Google Drive file: [386, 0.375, 1.1875, 0.8398287385129489, 0.21179343815277618, 1.3812154696132597, 1.1235955056179776]\n"
          ]
        },
        {
          "output_type": "stream",
          "name": "stderr",
          "text": [
            "\n",
            "\n",
            "Processing medical dataset:  77%|███████▋  | 387/500 [1:10:09<20:30, 10.89s/it]\u001b[A\u001b[A"
          ]
        },
        {
          "output_type": "stream",
          "name": "stdout",
          "text": [
            "Appended result to Google Drive file: [387, 0.7450980392156863, 1.0, 0.9352689793866266, 0.9199999999999999, 1.615508885298869, 1.388888888888889]\n"
          ]
        },
        {
          "output_type": "stream",
          "name": "stderr",
          "text": [
            "\n",
            "\n",
            "Processing medical dataset:  78%|███████▊  | 388/500 [1:10:20<20:17, 10.87s/it]\u001b[A\u001b[A"
          ]
        },
        {
          "output_type": "stream",
          "name": "stdout",
          "text": [
            "Appended result to Google Drive file: [388, 0.6666666666666667, 0.8, 0.8966284375385375, 1.0, 1.547987616099071, 1.6025641025641024]\n"
          ]
        },
        {
          "output_type": "stream",
          "name": "stderr",
          "text": [
            "\n",
            "\n",
            "Processing medical dataset:  78%|███████▊  | 389/500 [1:10:29<19:20, 10.46s/it]\u001b[A\u001b[A"
          ]
        },
        {
          "output_type": "stream",
          "name": "stdout",
          "text": [
            "Appended result to Google Drive file: [389, 0.6428571428571428, 0.9285714285714286, 0.7782467532467532, 0.4838709677419355, 1.842751842751843, 2.3980815347721824]\n"
          ]
        },
        {
          "output_type": "stream",
          "name": "stderr",
          "text": [
            "\n",
            "\n",
            "Processing medical dataset:  78%|███████▊  | 390/500 [1:10:40<19:20, 10.55s/it]\u001b[A\u001b[A"
          ]
        },
        {
          "output_type": "stream",
          "name": "stdout",
          "text": [
            "Appended result to Google Drive file: [390, 0.8666666666666667, 0.9777777777777777, 0.8932596643122959, 0.19652014652014652, 1.2330456226880393, 1.4326647564469914]\n"
          ]
        },
        {
          "output_type": "stream",
          "name": "stderr",
          "text": [
            "\n",
            "\n",
            "Processing medical dataset:  78%|███████▊  | 391/500 [1:10:51<19:12, 10.57s/it]\u001b[A\u001b[A"
          ]
        },
        {
          "output_type": "stream",
          "name": "stdout",
          "text": [
            "Appended result to Google Drive file: [391, 0.7222222222222222, 1.3888888888888888, 0.6795852956567243, 0.5096668996040065, 1.7462165308498256, 1.5806111696522658]\n"
          ]
        },
        {
          "output_type": "stream",
          "name": "stderr",
          "text": [
            "\n",
            "\n",
            "Processing medical dataset:  78%|███████▊  | 392/500 [1:11:03<20:09, 11.19s/it]\u001b[A\u001b[A"
          ]
        },
        {
          "output_type": "stream",
          "name": "stdout",
          "text": [
            "Appended result to Google Drive file: [392, 0.6984126984126984, 0.9523809523809523, 0.7903308446786709, 0.5789473684210527, 1.1325028312570782, 0.7727975270479135]\n"
          ]
        },
        {
          "output_type": "stream",
          "name": "stderr",
          "text": [
            "\n",
            "\n",
            "Processing medical dataset:  79%|███████▊  | 393/500 [1:11:14<19:32, 10.95s/it]\u001b[A\u001b[A"
          ]
        },
        {
          "output_type": "stream",
          "name": "stdout",
          "text": [
            "Appended result to Google Drive file: [393, 0.5, 0.6666666666666667, 0.9070261437908497, 0.8503401360544217, 1.5898251192368837, 1.6420361247947455]\n"
          ]
        },
        {
          "output_type": "stream",
          "name": "stderr",
          "text": [
            "\n",
            "\n",
            "Processing medical dataset:  79%|███████▉  | 394/500 [1:11:29<21:28, 12.15s/it]\u001b[A\u001b[A"
          ]
        },
        {
          "output_type": "stream",
          "name": "stdout",
          "text": [
            "Appended result to Google Drive file: [394, 0.6666666666666667, 1.3725490196078431, 0.8164767331433999, 0.7409515438649145, 1.4144271570014144, 1.001001001001001]\n"
          ]
        },
        {
          "output_type": "stream",
          "name": "stderr",
          "text": [
            "\n",
            "\n",
            "Processing medical dataset:  79%|███████▉  | 395/500 [1:11:38<19:54, 11.37s/it]\u001b[A\u001b[A"
          ]
        },
        {
          "output_type": "stream",
          "name": "stdout",
          "text": [
            "Appended result to Google Drive file: [395, 0.2592592592592593, 1.0, 0.4910213722644355, 0.5259259259259258, 2.8301886792452833, 1.4347202295552366]\n"
          ]
        },
        {
          "output_type": "stream",
          "name": "stderr",
          "text": [
            "\n",
            "\n",
            "Processing medical dataset:  79%|███████▉  | 396/500 [1:11:50<19:45, 11.40s/it]\u001b[A\u001b[A"
          ]
        },
        {
          "output_type": "stream",
          "name": "stdout",
          "text": [
            "Appended result to Google Drive file: [396, 0.7777777777777778, 0.8888888888888888, 0.856927450253368, 0.4791666666666667, 1.545595054095827, 2.066115702479339]\n"
          ]
        },
        {
          "output_type": "stream",
          "name": "stderr",
          "text": [
            "\n",
            "\n",
            "Processing medical dataset:  79%|███████▉  | 397/500 [1:11:59<18:40, 10.88s/it]\u001b[A\u001b[A"
          ]
        },
        {
          "output_type": "stream",
          "name": "stdout",
          "text": [
            "Appended result to Google Drive file: [397, 0.7272727272727273, 0.6666666666666667, 0.9232897919690372, 0.12944297082228118, 1.5698587127158559, 1.937984496124031]\n"
          ]
        },
        {
          "output_type": "stream",
          "name": "stderr",
          "text": [
            "\n",
            "\n",
            "Processing medical dataset:  80%|███████▉  | 398/500 [1:12:12<19:32, 11.50s/it]\u001b[A\u001b[A"
          ]
        },
        {
          "output_type": "stream",
          "name": "stdout",
          "text": [
            "Appended result to Google Drive file: [398, 0.5208333333333333, 1.3541666666666667, 0.7047535554256771, 0.7351101101101101, 1.483679525222552, 1.1428571428571428]\n"
          ]
        },
        {
          "output_type": "stream",
          "name": "stderr",
          "text": [
            "\n",
            "\n",
            "Processing medical dataset:  80%|███████▉  | 399/500 [1:12:23<18:47, 11.16s/it]\u001b[A\u001b[A"
          ]
        },
        {
          "output_type": "stream",
          "name": "stdout",
          "text": [
            "Appended result to Google Drive file: [399, 0.38596491228070173, 0.8070175438596492, 0.878639455782313, 0.33970654121863797, 1.6, 2.079002079002079]\n"
          ]
        },
        {
          "output_type": "stream",
          "name": "stderr",
          "text": [
            "\n",
            "\n",
            "Processing medical dataset:  80%|████████  | 400/500 [1:12:32<17:57, 10.77s/it]\u001b[A\u001b[A"
          ]
        },
        {
          "output_type": "stream",
          "name": "stdout",
          "text": [
            "Appended result to Google Drive file: [400, 0.3921568627450981, 0.5882352941176471, 0.8029006131147076, 0.027210884353741496, 1.4895729890764646, 2.3809523809523805]\n"
          ]
        },
        {
          "output_type": "stream",
          "name": "stderr",
          "text": [
            "\n",
            "\n",
            "Processing medical dataset:  80%|████████  | 401/500 [1:12:44<18:07, 10.99s/it]\u001b[A\u001b[A"
          ]
        },
        {
          "output_type": "stream",
          "name": "stdout",
          "text": [
            "Appended result to Google Drive file: [401, 0.6111111111111112, 0.6666666666666667, 0.8823529411764706, 0.809116809116809, 1.6025641025641029, 0.8090614886731391]\n"
          ]
        },
        {
          "output_type": "stream",
          "name": "stderr",
          "text": [
            "\n",
            "\n",
            "Processing medical dataset:  80%|████████  | 402/500 [1:12:54<17:25, 10.66s/it]\u001b[A\u001b[A"
          ]
        },
        {
          "output_type": "stream",
          "name": "stdout",
          "text": [
            "Appended result to Google Drive file: [402, 0.6666666666666667, 0.8541666666666666, 0.8586664517515582, 0.41010670615933775, 1.955671447196871, 1.547987616099071]\n"
          ]
        },
        {
          "output_type": "stream",
          "name": "stderr",
          "text": [
            "\n",
            "\n",
            "Processing medical dataset:  81%|████████  | 403/500 [1:13:05<17:18, 10.70s/it]\u001b[A\u001b[A"
          ]
        },
        {
          "output_type": "stream",
          "name": "stdout",
          "text": [
            "Appended result to Google Drive file: [403, 0.3529411764705882, 1.196078431372549, 0.6401492554771848, 0.07921340534552, 1.5560165975103735, 1.1481056257175661]\n"
          ]
        },
        {
          "output_type": "stream",
          "name": "stderr",
          "text": [
            "\n",
            "\n",
            "Processing medical dataset:  81%|████████  | 404/500 [1:13:17<18:04, 11.29s/it]\u001b[A\u001b[A"
          ]
        },
        {
          "output_type": "stream",
          "name": "stdout",
          "text": [
            "Appended result to Google Drive file: [404, 0.7058823529411764, 0.8431372549019608, 0.6386159770707619, 0.6589515060103296, 1.2562814070351758, 1.2360939431396787]\n"
          ]
        },
        {
          "output_type": "stream",
          "name": "stderr",
          "text": [
            "\n",
            "\n",
            "Processing medical dataset:  81%|████████  | 405/500 [1:13:28<17:49, 11.26s/it]\u001b[A\u001b[A"
          ]
        },
        {
          "output_type": "stream",
          "name": "stdout",
          "text": [
            "Appended result to Google Drive file: [405, 0.6470588235294117, 0.8823529411764706, 0.8358427998476395, 1.0, 1.3774104683195592, 1.0822510822510825]\n"
          ]
        },
        {
          "output_type": "stream",
          "name": "stderr",
          "text": [
            "\n",
            "\n",
            "Processing medical dataset:  81%|████████  | 406/500 [1:13:39<17:25, 11.12s/it]\u001b[A\u001b[A"
          ]
        },
        {
          "output_type": "stream",
          "name": "stdout",
          "text": [
            "Appended result to Google Drive file: [406, 0.5476190476190477, 0.7142857142857143, 0.8310591293047432, 0.448800099179994, 1.5898251192368837, 0.9940357852882702]\n"
          ]
        },
        {
          "output_type": "stream",
          "name": "stderr",
          "text": [
            "\n",
            "\n",
            "Processing medical dataset:  81%|████████▏ | 407/500 [1:13:50<16:51, 10.87s/it]\u001b[A\u001b[A"
          ]
        },
        {
          "output_type": "stream",
          "name": "stdout",
          "text": [
            "Appended result to Google Drive file: [407, 0.8444444444444444, 1.0, 0.7322087962587517, 0.9199999999999999, 1.7035775127768313, 1.5974440894568693]\n"
          ]
        },
        {
          "output_type": "stream",
          "name": "stderr",
          "text": [
            "\n",
            "\n",
            "Processing medical dataset:  82%|████████▏ | 408/500 [1:14:00<16:37, 10.84s/it]\u001b[A\u001b[A"
          ]
        },
        {
          "output_type": "stream",
          "name": "stdout",
          "text": [
            "Appended result to Google Drive file: [408, 0.7666666666666666, 0.85, 0.8684446807253824, 1.0, 1.314060446780552, 1.2755102040816326]\n"
          ]
        },
        {
          "output_type": "stream",
          "name": "stderr",
          "text": [
            "\n",
            "\n",
            "Processing medical dataset:  82%|████████▏ | 409/500 [1:14:12<16:55, 11.16s/it]\u001b[A\u001b[A"
          ]
        },
        {
          "output_type": "stream",
          "name": "stdout",
          "text": [
            "Appended result to Google Drive file: [409, 0.5238095238095238, 1.0, 0.6580126663459996, 0.7536416123735368, 1.8226002430133659, 1.25]\n"
          ]
        },
        {
          "output_type": "stream",
          "name": "stderr",
          "text": [
            "\n",
            "\n",
            "Processing medical dataset:  82%|████████▏ | 410/500 [1:14:23<16:43, 11.15s/it]\u001b[A\u001b[A"
          ]
        },
        {
          "output_type": "stream",
          "name": "stdout",
          "text": [
            "Appended result to Google Drive file: [410, 0.6888888888888889, 1.0, 0.7708565072302559, 0.3744356908913871, 1.4064697609001406, 0.6418485237483953]\n"
          ]
        },
        {
          "output_type": "stream",
          "name": "stderr",
          "text": [
            "\n",
            "\n",
            "Processing medical dataset:  82%|████████▏ | 411/500 [1:14:35<16:38, 11.21s/it]\u001b[A\u001b[A"
          ]
        },
        {
          "output_type": "stream",
          "name": "stdout",
          "text": [
            "Appended result to Google Drive file: [411, 0.8235294117647058, 1.2549019607843137, 0.9722222222222223, 0.10556597873671046, 1.503006012024048, 1.122334455667789]\n"
          ]
        },
        {
          "output_type": "stream",
          "name": "stderr",
          "text": [
            "\n",
            "\n",
            "Processing medical dataset:  82%|████████▏ | 412/500 [1:14:44<15:33, 10.61s/it]\u001b[A\u001b[A"
          ]
        },
        {
          "output_type": "stream",
          "name": "stdout",
          "text": [
            "Appended result to Google Drive file: [412, 0.41666666666666663, 1.0, 0.6932606941081517, 0.18344285145360414, 1.724137931034483, 1.865671641791045]\n"
          ]
        },
        {
          "output_type": "stream",
          "name": "stderr",
          "text": [
            "\n",
            "\n",
            "Processing medical dataset:  83%|████████▎ | 413/500 [1:14:55<15:47, 10.90s/it]\u001b[A\u001b[A"
          ]
        },
        {
          "output_type": "stream",
          "name": "stdout",
          "text": [
            "Appended result to Google Drive file: [413, 0.7450980392156863, 1.0, 0.8190610559031613, 0.4920634920634921, 1.5625, 1.1160714285714288]\n"
          ]
        },
        {
          "output_type": "stream",
          "name": "stderr",
          "text": [
            "\n",
            "\n",
            "Processing medical dataset:  83%|████████▎ | 414/500 [1:15:06<15:38, 10.91s/it]\u001b[A\u001b[A"
          ]
        },
        {
          "output_type": "stream",
          "name": "stdout",
          "text": [
            "Appended result to Google Drive file: [414, 0.47916666666666663, 0.8958333333333334, 0.7210674435792054, 0.3333333333333333, 1.4903129657228018, 0.9980039920159679]\n"
          ]
        },
        {
          "output_type": "stream",
          "name": "stderr",
          "text": [
            "\n",
            "\n",
            "Processing medical dataset:  83%|████████▎ | 415/500 [1:15:17<15:29, 10.93s/it]\u001b[A\u001b[A"
          ]
        },
        {
          "output_type": "stream",
          "name": "stdout",
          "text": [
            "Appended result to Google Drive file: [415, 0.5238095238095238, 1.3095238095238095, 0.7054433221099887, 0.1584564215378169, 1.6556291390728477, 1.510574018126888]\n"
          ]
        },
        {
          "output_type": "stream",
          "name": "stderr",
          "text": [
            "\n",
            "\n",
            "Processing medical dataset:  83%|████████▎ | 416/500 [1:15:29<15:27, 11.04s/it]\u001b[A\u001b[A"
          ]
        },
        {
          "output_type": "stream",
          "name": "stdout",
          "text": [
            "Appended result to Google Drive file: [416, 0.6222222222222222, 0.8444444444444444, 0.8870859538784067, 0.8850802052799832, 1.4534883720930232, 1.5060240963855422]\n"
          ]
        },
        {
          "output_type": "stream",
          "name": "stderr",
          "text": [
            "\n",
            "\n",
            "Processing medical dataset:  83%|████████▎ | 417/500 [1:15:37<14:07, 10.21s/it]\u001b[A\u001b[A"
          ]
        },
        {
          "output_type": "stream",
          "name": "stdout",
          "text": [
            "Appended result to Google Drive file: [417, 0.5714285714285714, 0.8571428571428572, 0.831989247311828, 0.39393939393939387, 2.5510204081632653, 1.1363636363636362]\n"
          ]
        },
        {
          "output_type": "stream",
          "name": "stderr",
          "text": [
            "\n",
            "\n",
            "Processing medical dataset:  84%|████████▎ | 418/500 [1:15:47<13:58, 10.22s/it]\u001b[A\u001b[A"
          ]
        },
        {
          "output_type": "stream",
          "name": "stdout",
          "text": [
            "Appended result to Google Drive file: [418, 0.5294117647058824, 0.8823529411764706, 0.7826360773729194, 1.0, 1.7162471395881007, 2.28310502283105]\n"
          ]
        },
        {
          "output_type": "stream",
          "name": "stderr",
          "text": [
            "\n",
            "\n",
            "Processing medical dataset:  84%|████████▍ | 419/500 [1:15:58<14:06, 10.45s/it]\u001b[A\u001b[A"
          ]
        },
        {
          "output_type": "stream",
          "name": "stdout",
          "text": [
            "Appended result to Google Drive file: [419, 0.6458333333333333, 1.0, 0.8389238294898672, 1.0, 1.358695652173913, 1.1210762331838564]\n"
          ]
        },
        {
          "output_type": "stream",
          "name": "stderr",
          "text": [
            "\n",
            "\n",
            "Processing medical dataset:  84%|████████▍ | 420/500 [1:16:10<14:21, 10.77s/it]\u001b[A\u001b[A"
          ]
        },
        {
          "output_type": "stream",
          "name": "stdout",
          "text": [
            "Appended result to Google Drive file: [420, 0.5740740740740741, 1.0, 0.7912386086510076, 0.564625850340136, 1.4430014430014433, 0.9505703422053232]\n"
          ]
        },
        {
          "output_type": "stream",
          "name": "stderr",
          "text": [
            "\n",
            "\n",
            "Processing medical dataset:  84%|████████▍ | 421/500 [1:16:18<13:23, 10.17s/it]\u001b[A\u001b[A"
          ]
        },
        {
          "output_type": "stream",
          "name": "stdout",
          "text": [
            "Appended result to Google Drive file: [421, 0.4722222222222222, 0.41666666666666663, 0.8752307124400147, 0.30067155067155066, 1.8975332068311195, 1.6891891891891893]\n"
          ]
        },
        {
          "output_type": "stream",
          "name": "stderr",
          "text": [
            "\n",
            "\n",
            "Processing medical dataset:  84%|████████▍ | 422/500 [1:16:29<13:18, 10.24s/it]\u001b[A\u001b[A"
          ]
        },
        {
          "output_type": "stream",
          "name": "stdout",
          "text": [
            "Appended result to Google Drive file: [422, 0.5555555555555556, 0.9333333333333333, 0.7226343737457935, 0.17, 1.5625, 1.2531328320802009]\n"
          ]
        },
        {
          "output_type": "stream",
          "name": "stderr",
          "text": [
            "\n",
            "\n",
            "Processing medical dataset:  85%|████████▍ | 423/500 [1:16:40<13:30, 10.53s/it]\u001b[A\u001b[A"
          ]
        },
        {
          "output_type": "stream",
          "name": "stdout",
          "text": [
            "Appended result to Google Drive file: [423, 0.6875, 0.8125, 0.945578231292517, 0.8753177639970092, 1.6863406408094437, 1.6]\n"
          ]
        },
        {
          "output_type": "stream",
          "name": "stderr",
          "text": [
            "\n",
            "\n",
            "Processing medical dataset:  85%|████████▍ | 424/500 [1:16:51<13:39, 10.79s/it]\u001b[A\u001b[A"
          ]
        },
        {
          "output_type": "stream",
          "name": "stdout",
          "text": [
            "Appended result to Google Drive file: [424, 0.5964912280701755, 0.6842105263157895, 0.9060503634077746, 0.8395061728395062, 1.7513134851138354, 1.7361111111111112]\n"
          ]
        },
        {
          "output_type": "stream",
          "name": "stderr",
          "text": [
            "\n",
            "\n",
            "Processing medical dataset:  85%|████████▌ | 425/500 [1:17:02<13:13, 10.58s/it]\u001b[A\u001b[A"
          ]
        },
        {
          "output_type": "stream",
          "name": "stdout",
          "text": [
            "Appended result to Google Drive file: [425, 0.7450980392156863, 0.9019607843137255, 0.8015404891539193, 0.19915951494898865, 1.4814814814814814, 1.0438413361169103]\n"
          ]
        },
        {
          "output_type": "stream",
          "name": "stderr",
          "text": [
            "\n",
            "\n",
            "Processing medical dataset:  85%|████████▌ | 426/500 [1:17:11<12:47, 10.37s/it]\u001b[A\u001b[A"
          ]
        },
        {
          "output_type": "stream",
          "name": "stdout",
          "text": [
            "Appended result to Google Drive file: [426, 0.803921568627451, 1.0, 0.8477863938843976, 1.0, 1.7699115044247788, 1.8115942028985503]\n"
          ]
        },
        {
          "output_type": "stream",
          "name": "stderr",
          "text": [
            "\n",
            "\n",
            "Processing medical dataset:  85%|████████▌ | 427/500 [1:17:23<12:53, 10.60s/it]\u001b[A\u001b[A"
          ]
        },
        {
          "output_type": "stream",
          "name": "stdout",
          "text": [
            "Appended result to Google Drive file: [427, 0.8125, 1.0625, 0.7547345980962454, 0.3010230650291217, 1.5649452269170578, 1.9305019305019304]\n"
          ]
        },
        {
          "output_type": "stream",
          "name": "stderr",
          "text": [
            "\n",
            "\n",
            "Processing medical dataset:  86%|████████▌ | 428/500 [1:17:34<13:02, 10.87s/it]\u001b[A\u001b[A"
          ]
        },
        {
          "output_type": "stream",
          "name": "stdout",
          "text": [
            "Appended result to Google Drive file: [428, 0.5714285714285714, 0.8095238095238095, 0.9034743329956095, 0.8586755456899741, 1.7123287671232879, 1.7452006980802788]\n"
          ]
        },
        {
          "output_type": "stream",
          "name": "stderr",
          "text": [
            "\n",
            "\n",
            "Processing medical dataset:  86%|████████▌ | 429/500 [1:17:45<12:45, 10.78s/it]\u001b[A\u001b[A"
          ]
        },
        {
          "output_type": "stream",
          "name": "stdout",
          "text": [
            "Appended result to Google Drive file: [429, 0.6190476190476191, 0.9285714285714286, 0.7826520438683948, 0.5490196078431372, 1.6741071428571432, 2.164502164502165]\n"
          ]
        },
        {
          "output_type": "stream",
          "name": "stderr",
          "text": [
            "\n",
            "\n",
            "Processing medical dataset:  86%|████████▌ | 430/500 [1:17:56<12:52, 11.03s/it]\u001b[A\u001b[A"
          ]
        },
        {
          "output_type": "stream",
          "name": "stdout",
          "text": [
            "Appended result to Google Drive file: [430, 0.5625, 1.0, 0.7111312764670297, 1.0, 1.6, 1.201923076923077]\n"
          ]
        },
        {
          "output_type": "stream",
          "name": "stderr",
          "text": [
            "\n",
            "\n",
            "Processing medical dataset:  86%|████████▌ | 431/500 [1:18:07<12:36, 10.97s/it]\u001b[A\u001b[A"
          ]
        },
        {
          "output_type": "stream",
          "name": "stdout",
          "text": [
            "Appended result to Google Drive file: [431, 0.6666666666666667, 0.7962962962962963, 0.873015873015873, 0.3162393162393162, 1.9193857965451053, 2.164502164502165]\n"
          ]
        },
        {
          "output_type": "stream",
          "name": "stderr",
          "text": [
            "\n",
            "\n",
            "Processing medical dataset:  86%|████████▋ | 432/500 [1:18:19<12:43, 11.23s/it]\u001b[A\u001b[A"
          ]
        },
        {
          "output_type": "stream",
          "name": "stdout",
          "text": [
            "Appended result to Google Drive file: [432, 0.7843137254901961, 1.6470588235294117, 0.7894909536141501, 0.33072306957925124, 1.5873015873015872, 1.2437810945273633]\n"
          ]
        },
        {
          "output_type": "stream",
          "name": "stderr",
          "text": [
            "\n",
            "\n",
            "Processing medical dataset:  87%|████████▋ | 433/500 [1:18:29<12:08, 10.88s/it]\u001b[A\u001b[A"
          ]
        },
        {
          "output_type": "stream",
          "name": "stdout",
          "text": [
            "Appended result to Google Drive file: [433, 0.46153846153846156, 0.7435897435897436, 0.4865605658709107, 0.6070780399274046, 2.029769959404601, 1.8137847642079807]\n"
          ]
        },
        {
          "output_type": "stream",
          "name": "stderr",
          "text": [
            "\n",
            "\n",
            "Processing medical dataset:  87%|████████▋ | 434/500 [1:18:38<11:27, 10.41s/it]\u001b[A\u001b[A"
          ]
        },
        {
          "output_type": "stream",
          "name": "stdout",
          "text": [
            "Appended result to Google Drive file: [434, 0.35, 0.85, 0.9506172839506174, 0.5166666666666666, 3.3783783783783785, 1.550387596899225]\n"
          ]
        },
        {
          "output_type": "stream",
          "name": "stderr",
          "text": [
            "\n",
            "\n",
            "Processing medical dataset:  87%|████████▋ | 435/500 [1:18:52<12:30, 11.54s/it]\u001b[A\u001b[A"
          ]
        },
        {
          "output_type": "stream",
          "name": "stdout",
          "text": [
            "Appended result to Google Drive file: [435, 0.6481481481481481, 1.2592592592592593, 0.7447817836812144, 0.39788949726231954, 1.3774104683195592, 0.9993337774816787]\n"
          ]
        },
        {
          "output_type": "stream",
          "name": "stderr",
          "text": [
            "\n",
            "\n",
            "Processing medical dataset:  87%|████████▋ | 436/500 [1:19:03<12:03, 11.30s/it]\u001b[A\u001b[A"
          ]
        },
        {
          "output_type": "stream",
          "name": "stdout",
          "text": [
            "Appended result to Google Drive file: [436, 0.6888888888888889, 1.0, 0.8195146376160527, 1.0, 1.3986013986013988, 1.1904761904761902]\n"
          ]
        },
        {
          "output_type": "stream",
          "name": "stderr",
          "text": [
            "\n",
            "\n",
            "Processing medical dataset:  87%|████████▋ | 437/500 [1:19:14<11:38, 11.08s/it]\u001b[A\u001b[A"
          ]
        },
        {
          "output_type": "stream",
          "name": "stdout",
          "text": [
            "Appended result to Google Drive file: [437, 0.7017543859649122, 0.8596491228070176, 0.9041950113378685, 0.8183524982319973, 1.821493624772313, 1.8083182640144666]\n"
          ]
        },
        {
          "output_type": "stream",
          "name": "stderr",
          "text": [
            "\n",
            "\n",
            "Processing medical dataset:  88%|████████▊ | 438/500 [1:19:24<11:15, 10.89s/it]\u001b[A\u001b[A"
          ]
        },
        {
          "output_type": "stream",
          "name": "stdout",
          "text": [
            "Appended result to Google Drive file: [438, 0.7708333333333334, 0.8541666666666666, 0.9733333333333333, 0.9220613373554549, 1.7064846416382253, 1.6638935108153077]\n"
          ]
        },
        {
          "output_type": "stream",
          "name": "stderr",
          "text": [
            "\n",
            "\n",
            "Processing medical dataset:  88%|████████▊ | 439/500 [1:19:36<11:19, 11.15s/it]\u001b[A\u001b[A"
          ]
        },
        {
          "output_type": "stream",
          "name": "stdout",
          "text": [
            "Appended result to Google Drive file: [439, 0.5614035087719298, 0.9473684210526316, 0.8145604395604394, 0.5259259259259258, 1.2820512820512822, 0.8928571428571428]\n"
          ]
        },
        {
          "output_type": "stream",
          "name": "stderr",
          "text": [
            "\n",
            "\n",
            "Processing medical dataset:  88%|████████▊ | 440/500 [1:19:47<11:10, 11.17s/it]\u001b[A\u001b[A"
          ]
        },
        {
          "output_type": "stream",
          "name": "stdout",
          "text": [
            "Appended result to Google Drive file: [440, 0.4833333333333333, 0.85, 0.6213037634408601, 0.4909090909090909, 1.5337423312883434, 2.0703933747412004]\n"
          ]
        },
        {
          "output_type": "stream",
          "name": "stderr",
          "text": [
            "\n",
            "\n",
            "Processing medical dataset:  88%|████████▊ | 441/500 [1:19:59<11:04, 11.26s/it]\u001b[A\u001b[A"
          ]
        },
        {
          "output_type": "stream",
          "name": "stdout",
          "text": [
            "Appended result to Google Drive file: [441, 0.48888888888888893, 0.5777777777777777, 0.860030824186904, 0.8006656426011265, 1.60427807486631, 1.6286644951140066]\n"
          ]
        },
        {
          "output_type": "stream",
          "name": "stderr",
          "text": [
            "\n",
            "\n",
            "Processing medical dataset:  88%|████████▊ | 442/500 [1:20:09<10:40, 11.05s/it]\u001b[A\u001b[A"
          ]
        },
        {
          "output_type": "stream",
          "name": "stdout",
          "text": [
            "Appended result to Google Drive file: [442, 0.537037037037037, 1.0, 0.5884923805918886, 0.7297297297297298, 1.632208922742111, 1.3908205841446455]\n"
          ]
        },
        {
          "output_type": "stream",
          "name": "stderr",
          "text": [
            "\n",
            "\n",
            "Processing medical dataset:  89%|████████▊ | 443/500 [1:20:20<10:19, 10.86s/it]\u001b[A\u001b[A"
          ]
        },
        {
          "output_type": "stream",
          "name": "stdout",
          "text": [
            "Appended result to Google Drive file: [443, 0.8666666666666667, 0.8888888888888888, 0.8234540496841644, 0.08796735564609649, 1.582278481012658, 1.5105740181268883]\n"
          ]
        },
        {
          "output_type": "stream",
          "name": "stderr",
          "text": [
            "\n",
            "\n",
            "Processing medical dataset:  89%|████████▉ | 444/500 [1:20:30<09:57, 10.67s/it]\u001b[A\u001b[A"
          ]
        },
        {
          "output_type": "stream",
          "name": "stdout",
          "text": [
            "Appended result to Google Drive file: [444, 0.7435897435897436, 0.7435897435897436, 0.8679471788715487, 0.397008547008547, 1.733102253032929, 1.7035775127768313]\n"
          ]
        },
        {
          "output_type": "stream",
          "name": "stderr",
          "text": [
            "\n",
            "\n",
            "Processing medical dataset:  89%|████████▉ | 445/500 [1:20:42<10:07, 11.05s/it]\u001b[A\u001b[A"
          ]
        },
        {
          "output_type": "stream",
          "name": "stdout",
          "text": [
            "Appended result to Google Drive file: [445, 0.6862745098039216, 1.1176470588235294, 0.688030744350152, 0.5121951219512195, 1.5906680805938496, 1.7241379310344827]\n"
          ]
        },
        {
          "output_type": "stream",
          "name": "stderr",
          "text": [
            "\n",
            "\n",
            "Processing medical dataset:  89%|████████▉ | 446/500 [1:20:51<09:22, 10.42s/it]\u001b[A\u001b[A"
          ]
        },
        {
          "output_type": "stream",
          "name": "stdout",
          "text": [
            "Appended result to Google Drive file: [446, 0.7333333333333334, 0.7666666666666666, 0.808172391763723, 0.4230769230769231, 1.644736842105263, 2.0533880903490758]\n"
          ]
        },
        {
          "output_type": "stream",
          "name": "stderr",
          "text": [
            "\n",
            "\n",
            "Processing medical dataset:  89%|████████▉ | 447/500 [1:21:01<09:09, 10.37s/it]\u001b[A\u001b[A"
          ]
        },
        {
          "output_type": "stream",
          "name": "stdout",
          "text": [
            "Appended result to Google Drive file: [447, 0.5555555555555556, 0.9777777777777777, 0.8235445588893865, 0.5407407407407407, 1.5408320493066259, 2.2675736961451247]\n"
          ]
        },
        {
          "output_type": "stream",
          "name": "stderr",
          "text": [
            "\n",
            "\n",
            "Processing medical dataset:  90%|████████▉ | 448/500 [1:21:11<08:57, 10.33s/it]\u001b[A\u001b[A"
          ]
        },
        {
          "output_type": "stream",
          "name": "stdout",
          "text": [
            "Appended result to Google Drive file: [448, 0.45833333333333337, 0.9375, 0.8332148534304867, 1.0, 1.6181229773462782, 2.6315789473684217]\n"
          ]
        },
        {
          "output_type": "stream",
          "name": "stderr",
          "text": [
            "\n",
            "\n",
            "Processing medical dataset:  90%|████████▉ | 449/500 [1:21:24<09:24, 11.08s/it]\u001b[A\u001b[A"
          ]
        },
        {
          "output_type": "stream",
          "name": "stdout",
          "text": [
            "Appended result to Google Drive file: [449, 0.45833333333333337, 1.0, 0.7808641975308642, 0.5213675213675214, 1.483679525222552, 1.4326647564469912]\n"
          ]
        },
        {
          "output_type": "stream",
          "name": "stderr",
          "text": [
            "\n",
            "\n",
            "Processing medical dataset:  90%|█████████ | 450/500 [1:21:36<09:27, 11.34s/it]\u001b[A\u001b[A"
          ]
        },
        {
          "output_type": "stream",
          "name": "stdout",
          "text": [
            "Appended result to Google Drive file: [450, 0.5614035087719298, 0.7192982456140351, 0.8226817042606515, 0.7292397660818714, 1.5560165975103735, 1.668520578420467]\n"
          ]
        },
        {
          "output_type": "stream",
          "name": "stderr",
          "text": [
            "\n",
            "\n",
            "Processing medical dataset:  90%|█████████ | 451/500 [1:21:47<09:13, 11.29s/it]\u001b[A\u001b[A"
          ]
        },
        {
          "output_type": "stream",
          "name": "stdout",
          "text": [
            "Appended result to Google Drive file: [451, 0.5882352941176471, 0.9019607843137255, 0.6797161172161172, 0.7586936304454858, 1.4858841010401191, 1.6051364365971106]\n"
          ]
        },
        {
          "output_type": "stream",
          "name": "stderr",
          "text": [
            "\n",
            "\n",
            "Processing medical dataset:  90%|█████████ | 452/500 [1:21:58<09:01, 11.29s/it]\u001b[A\u001b[A"
          ]
        },
        {
          "output_type": "stream",
          "name": "stdout",
          "text": [
            "Appended result to Google Drive file: [452, 0.33333333333333337, 0.7647058823529411, 0.6196169826306813, 0.8057454662173007, 1.510574018126888, 1.5600624024960996]\n"
          ]
        },
        {
          "output_type": "stream",
          "name": "stderr",
          "text": [
            "\n",
            "\n",
            "Processing medical dataset:  91%|█████████ | 453/500 [1:22:10<08:55, 11.40s/it]\u001b[A\u001b[A"
          ]
        },
        {
          "output_type": "stream",
          "name": "stdout",
          "text": [
            "Appended result to Google Drive file: [453, 0.3529411764705882, 0.7843137254901961, 0.7128698295959813, 0.7468325791855204, 1.5243902439024388, 1.5974440894568689]\n"
          ]
        },
        {
          "output_type": "stream",
          "name": "stderr",
          "text": [
            "\n",
            "\n",
            "Processing medical dataset:  91%|█████████ | 454/500 [1:22:21<08:37, 11.26s/it]\u001b[A\u001b[A"
          ]
        },
        {
          "output_type": "stream",
          "name": "stdout",
          "text": [
            "Appended result to Google Drive file: [454, 0.35416666666666663, 0.8333333333333334, 0.6930866243210899, 0.4791666666666667, 1.4992503748125936, 1.002004008016032]\n"
          ]
        },
        {
          "output_type": "stream",
          "name": "stderr",
          "text": [
            "\n",
            "\n",
            "Processing medical dataset:  91%|█████████ | 455/500 [1:22:32<08:18, 11.08s/it]\u001b[A\u001b[A"
          ]
        },
        {
          "output_type": "stream",
          "name": "stdout",
          "text": [
            "Appended result to Google Drive file: [455, 0.625, 0.9166666666666666, 0.6976094547408005, 0.5300546448087432, 1.4245014245014245, 2.0964360587002098]\n"
          ]
        },
        {
          "output_type": "stream",
          "name": "stderr",
          "text": [
            "\n",
            "\n",
            "Processing medical dataset:  91%|█████████ | 456/500 [1:22:45<08:33, 11.67s/it]\u001b[A\u001b[A"
          ]
        },
        {
          "output_type": "stream",
          "name": "stdout",
          "text": [
            "Appended result to Google Drive file: [456, 0.47058823529411764, 0.5882352941176471, 0.8487876069231586, 0.6919421101774043, 1.461988304093567, 1.466275659824047]\n"
          ]
        },
        {
          "output_type": "stream",
          "name": "stderr",
          "text": [
            "\n",
            "\n",
            "Processing medical dataset:  91%|█████████▏| 457/500 [1:22:57<08:25, 11.75s/it]\u001b[A\u001b[A"
          ]
        },
        {
          "output_type": "stream",
          "name": "stdout",
          "text": [
            "Appended result to Google Drive file: [457, 0.47058823529411764, 0.7450980392156863, 0.8216952129995608, 0.819562137209196, 1.4947683109118088, 1.5015015015015016]\n"
          ]
        },
        {
          "output_type": "stream",
          "name": "stderr",
          "text": [
            "\n",
            "\n",
            "Processing medical dataset:  92%|█████████▏| 458/500 [1:23:07<08:00, 11.45s/it]\u001b[A\u001b[A"
          ]
        },
        {
          "output_type": "stream",
          "name": "stdout",
          "text": [
            "Appended result to Google Drive file: [458, 0.3125, 0.7708333333333334, 0.705680596091555, 0.4799163799163799, 1.4306151645207439, 1.5384615384615383]\n"
          ]
        },
        {
          "output_type": "stream",
          "name": "stderr",
          "text": [
            "\n",
            "\n",
            "Processing medical dataset:  92%|█████████▏| 459/500 [1:23:19<07:45, 11.35s/it]\u001b[A\u001b[A"
          ]
        },
        {
          "output_type": "stream",
          "name": "stdout",
          "text": [
            "Appended result to Google Drive file: [459, 0.3137254901960784, 0.5882352941176471, 0.5965026201868308, 0.27526341723535086, 1.3054830287206265, 1.5267175572519085]\n"
          ]
        },
        {
          "output_type": "stream",
          "name": "stderr",
          "text": [
            "\n",
            "\n",
            "Processing medical dataset:  92%|█████████▏| 460/500 [1:23:31<07:44, 11.60s/it]\u001b[A\u001b[A"
          ]
        },
        {
          "output_type": "stream",
          "name": "stdout",
          "text": [
            "Appended result to Google Drive file: [460, 0.5625, 1.0, 0.779100529100529, 1.0, 1.4807502467917077, 1.9723865877712028]\n"
          ]
        },
        {
          "output_type": "stream",
          "name": "stderr",
          "text": [
            "\n",
            "\n",
            "Processing medical dataset:  92%|█████████▏| 461/500 [1:23:40<07:09, 11.01s/it]\u001b[A\u001b[A"
          ]
        },
        {
          "output_type": "stream",
          "name": "stdout",
          "text": [
            "Appended result to Google Drive file: [461, 0.38095238095238093, 0.9047619047619048, 0.7568342151675486, 0.17337113828341896, 1.821493624772313, 1.2195121951219512]\n"
          ]
        },
        {
          "output_type": "stream",
          "name": "stderr",
          "text": [
            "\n",
            "\n",
            "Processing medical dataset:  92%|█████████▏| 462/500 [1:23:52<07:11, 11.35s/it]\u001b[A\u001b[A"
          ]
        },
        {
          "output_type": "stream",
          "name": "stdout",
          "text": [
            "Appended result to Google Drive file: [462, 0.45238095238095233, 0.7619047619047619, 0.6233638910109498, 0.9672131147540983, 1.5212981744421907, 1.4231499051233396]\n"
          ]
        },
        {
          "output_type": "stream",
          "name": "stderr",
          "text": [
            "\n",
            "\n",
            "Processing medical dataset:  93%|█████████▎| 463/500 [1:24:03<06:46, 10.99s/it]\u001b[A\u001b[A"
          ]
        },
        {
          "output_type": "stream",
          "name": "stdout",
          "text": [
            "Appended result to Google Drive file: [463, 1.1538461538461537, 1.2564102564102564, 0.9492017416545719, 0.29825174384931125, 1.6741071428571432, 1.422475106685633]\n"
          ]
        },
        {
          "output_type": "stream",
          "name": "stderr",
          "text": [
            "\n",
            "\n",
            "Processing medical dataset:  93%|█████████▎| 464/500 [1:24:18<07:19, 12.20s/it]\u001b[A\u001b[A"
          ]
        },
        {
          "output_type": "stream",
          "name": "stdout",
          "text": [
            "Appended result to Google Drive file: [464, 0.5641025641025641, 0.9743589743589743, 0.7194909747690003, 0.28788517768780925, 1.8028846153846156, 1.7761989342806392]\n"
          ]
        },
        {
          "output_type": "stream",
          "name": "stderr",
          "text": [
            "\n",
            "\n",
            "Processing medical dataset:  93%|█████████▎| 465/500 [1:24:27<06:41, 11.47s/it]\u001b[A\u001b[A"
          ]
        },
        {
          "output_type": "stream",
          "name": "stdout",
          "text": [
            "Appended result to Google Drive file: [465, 0.4, 0.6333333333333333, 0.773218954248366, 0.5555555555555555, 1.6778523489932882, 2.777777777777778]\n"
          ]
        },
        {
          "output_type": "stream",
          "name": "stderr",
          "text": [
            "\n",
            "\n",
            "Processing medical dataset:  93%|█████████▎| 466/500 [1:24:39<06:29, 11.46s/it]\u001b[A\u001b[A"
          ]
        },
        {
          "output_type": "stream",
          "name": "stdout",
          "text": [
            "Appended result to Google Drive file: [466, 0.5555555555555556, 1.0833333333333333, 0.6989567809239942, 0.4230769230769231, 1.4150943396226414, 1.4749262536873158]\n"
          ]
        },
        {
          "output_type": "stream",
          "name": "stderr",
          "text": [
            "\n",
            "\n",
            "Processing medical dataset:  93%|█████████▎| 467/500 [1:24:50<06:13, 11.32s/it]\u001b[A\u001b[A"
          ]
        },
        {
          "output_type": "stream",
          "name": "stdout",
          "text": [
            "Appended result to Google Drive file: [467, 0.375, 0.9375, 0.6754787610050768, 0.5555555555555555, 1.4492753623188406, 1.321003963011889]\n"
          ]
        },
        {
          "output_type": "stream",
          "name": "stderr",
          "text": [
            "\n",
            "\n",
            "Processing medical dataset:  94%|█████████▎| 468/500 [1:25:01<06:02, 11.32s/it]\u001b[A\u001b[A"
          ]
        },
        {
          "output_type": "stream",
          "name": "stdout",
          "text": [
            "Appended result to Google Drive file: [468, 0.7017543859649122, 1.0, 0.8938402027477658, 0.37777777777777777, 1.4492753623188406, 0.8771929824561403]\n"
          ]
        },
        {
          "output_type": "stream",
          "name": "stderr",
          "text": [
            "\n",
            "\n",
            "Processing medical dataset:  94%|█████████▍| 469/500 [1:25:13<05:51, 11.33s/it]\u001b[A\u001b[A"
          ]
        },
        {
          "output_type": "stream",
          "name": "stdout",
          "text": [
            "Appended result to Google Drive file: [469, 0.41666666666666663, 0.875, 0.8380816714150048, 0.8621920563097034, 1.5974440894568689, 0.9990009990009988]\n"
          ]
        },
        {
          "output_type": "stream",
          "name": "stderr",
          "text": [
            "\n",
            "\n",
            "Processing medical dataset:  94%|█████████▍| 470/500 [1:25:24<05:43, 11.45s/it]\u001b[A\u001b[A"
          ]
        },
        {
          "output_type": "stream",
          "name": "stdout",
          "text": [
            "Appended result to Google Drive file: [470, 0.75, 1.3125, 0.6954553938036581, 0.41991341991341996, 1.6835016835016834, 1.668520578420467]\n"
          ]
        },
        {
          "output_type": "stream",
          "name": "stderr",
          "text": [
            "\n",
            "\n",
            "Processing medical dataset:  94%|█████████▍| 471/500 [1:25:34<05:20, 11.06s/it]\u001b[A\u001b[A"
          ]
        },
        {
          "output_type": "stream",
          "name": "stdout",
          "text": [
            "Appended result to Google Drive file: [471, 0.8148148148148149, 1.0, 0.8262287444677382, 1.0, 1.858736059479554, 1.3157894736842108]\n"
          ]
        },
        {
          "output_type": "stream",
          "name": "stderr",
          "text": [
            "\n",
            "\n",
            "Processing medical dataset:  94%|█████████▍| 472/500 [1:25:45<05:03, 10.84s/it]\u001b[A\u001b[A"
          ]
        },
        {
          "output_type": "stream",
          "name": "stdout",
          "text": [
            "Appended result to Google Drive file: [472, 0.37777777777777777, 0.9555555555555556, 0.7667340521114107, 0.36727272727272725, 1.5657620041753653, 1.669449081803005]\n"
          ]
        },
        {
          "output_type": "stream",
          "name": "stderr",
          "text": [
            "\n",
            "\n",
            "Processing medical dataset:  95%|█████████▍| 473/500 [1:25:56<04:58, 11.06s/it]\u001b[A\u001b[A"
          ]
        },
        {
          "output_type": "stream",
          "name": "stdout",
          "text": [
            "Appended result to Google Drive file: [473, 0.5625, 1.0833333333333333, 0.9033389450056117, 0.7697697697697699, 1.5873015873015872, 1.3111888111888113]\n"
          ]
        },
        {
          "output_type": "stream",
          "name": "stderr",
          "text": [
            "\n",
            "\n",
            "Processing medical dataset:  95%|█████████▍| 474/500 [1:26:07<04:47, 11.06s/it]\u001b[A\u001b[A"
          ]
        },
        {
          "output_type": "stream",
          "name": "stdout",
          "text": [
            "Appended result to Google Drive file: [474, 0.6842105263157895, 0.8947368421052632, 0.7365963741896578, 0.39393939393939387, 1.3986013986013988, 1.4124293785310735]\n"
          ]
        },
        {
          "output_type": "stream",
          "name": "stderr",
          "text": [
            "\n",
            "\n",
            "Processing medical dataset:  95%|█████████▌| 475/500 [1:26:19<04:40, 11.21s/it]\u001b[A\u001b[A"
          ]
        },
        {
          "output_type": "stream",
          "name": "stdout",
          "text": [
            "Appended result to Google Drive file: [475, 0.75, 1.5, 0.7334955301809457, 0.36329588014981273, 1.733102253032929, 0.700280112044818]\n"
          ]
        },
        {
          "output_type": "stream",
          "name": "stderr",
          "text": [
            "\n",
            "\n",
            "Processing medical dataset:  95%|█████████▌| 476/500 [1:26:29<04:20, 10.87s/it]\u001b[A\u001b[A"
          ]
        },
        {
          "output_type": "stream",
          "name": "stdout",
          "text": [
            "Appended result to Google Drive file: [476, 0.6190476190476191, 0.9285714285714286, 0.5939395304149403, 0.3518518518518518, 1.510574018126888, 2.5996533795493937]\n"
          ]
        },
        {
          "output_type": "stream",
          "name": "stderr",
          "text": [
            "\n",
            "\n",
            "Processing medical dataset:  95%|█████████▌| 477/500 [1:26:40<04:11, 10.93s/it]\u001b[A\u001b[A"
          ]
        },
        {
          "output_type": "stream",
          "name": "stdout",
          "text": [
            "Appended result to Google Drive file: [477, 0.5476190476190477, 1.4761904761904763, 0.64214041478925, 0.266724722420925, 1.5657620041753653, 1.4478764478764479]\n"
          ]
        },
        {
          "output_type": "stream",
          "name": "stderr",
          "text": [
            "\n",
            "\n",
            "Processing medical dataset:  96%|█████████▌| 478/500 [1:26:50<03:56, 10.75s/it]\u001b[A\u001b[A"
          ]
        },
        {
          "output_type": "stream",
          "name": "stdout",
          "text": [
            "Appended result to Google Drive file: [478, 0.5555555555555556, 1.0666666666666667, 0.6889424303102327, 0.5333333333333333, 1.5197568389057752, 2.3622047244094486]\n"
          ]
        },
        {
          "output_type": "stream",
          "name": "stderr",
          "text": [
            "\n",
            "\n",
            "Processing medical dataset:  96%|█████████▌| 479/500 [1:27:03<03:59, 11.40s/it]\u001b[A\u001b[A"
          ]
        },
        {
          "output_type": "stream",
          "name": "stdout",
          "text": [
            "Appended result to Google Drive file: [479, 0.6666666666666667, 0.9166666666666666, 0.639277404981989, 0.30877238741088503, 1.5400410677618068, 1.7584994138335288]\n"
          ]
        },
        {
          "output_type": "stream",
          "name": "stderr",
          "text": [
            "\n",
            "\n",
            "Processing medical dataset:  96%|█████████▌| 480/500 [1:27:14<03:42, 11.15s/it]\u001b[A\u001b[A"
          ]
        },
        {
          "output_type": "stream",
          "name": "stdout",
          "text": [
            "Appended result to Google Drive file: [480, 0.7619047619047619, 1.2380952380952381, 0.660814479638009, 0.12313492063492064, 1.6835016835016834, 1.5873015873015872]\n"
          ]
        },
        {
          "output_type": "stream",
          "name": "stderr",
          "text": [
            "\n",
            "\n",
            "Processing medical dataset:  96%|█████████▌| 481/500 [1:27:24<03:24, 10.79s/it]\u001b[A\u001b[A"
          ]
        },
        {
          "output_type": "stream",
          "name": "stdout",
          "text": [
            "Appended result to Google Drive file: [481, 0.5625, 1.0, 0.6335285497420354, 1.0, 1.6, 1.256281407035176]\n"
          ]
        },
        {
          "output_type": "stream",
          "name": "stderr",
          "text": [
            "\n",
            "\n",
            "Processing medical dataset:  96%|█████████▋| 482/500 [1:27:36<03:22, 11.27s/it]\u001b[A\u001b[A"
          ]
        },
        {
          "output_type": "stream",
          "name": "stdout",
          "text": [
            "Appended result to Google Drive file: [482, 0.55, 0.9, 0.5713155437613642, 0.4603174603174603, 1.434034416826004, 1.7211703958691909]\n"
          ]
        },
        {
          "output_type": "stream",
          "name": "stderr",
          "text": [
            "\n",
            "\n",
            "Processing medical dataset:  97%|█████████▋| 483/500 [1:27:46<03:04, 10.88s/it]\u001b[A\u001b[A"
          ]
        },
        {
          "output_type": "stream",
          "name": "stdout",
          "text": [
            "Appended result to Google Drive file: [483, 0.5797101449275363, 0.8115942028985508, 0.7749825296995109, 0.1159613849387981, 1.7462165308498256, 1.3888888888888888]\n"
          ]
        },
        {
          "output_type": "stream",
          "name": "stderr",
          "text": [
            "\n",
            "\n",
            "Processing medical dataset:  97%|█████████▋| 484/500 [1:27:56<02:49, 10.57s/it]\u001b[A\u001b[A"
          ]
        },
        {
          "output_type": "stream",
          "name": "stdout",
          "text": [
            "Appended result to Google Drive file: [484, 0.9230769230769231, 0.9743589743589743, 0.7734106976123782, 0.8666666666666667, 1.5463917525773196, 2.309468822170901]\n"
          ]
        },
        {
          "output_type": "stream",
          "name": "stderr",
          "text": [
            "\n",
            "\n",
            "Processing medical dataset:  97%|█████████▋| 485/500 [1:28:04<02:27,  9.83s/it]\u001b[A\u001b[A"
          ]
        },
        {
          "output_type": "stream",
          "name": "stdout",
          "text": [
            "Appended result to Google Drive file: [485, 0.25, 0.9, 0.8643478260869566, 0.3958333333333333, 4.0650406504065035, 2.28310502283105]\n"
          ]
        },
        {
          "output_type": "stream",
          "name": "stderr",
          "text": [
            "\n",
            "\n",
            "Processing medical dataset:  97%|█████████▋| 486/500 [1:28:16<02:24, 10.29s/it]\u001b[A\u001b[A"
          ]
        },
        {
          "output_type": "stream",
          "name": "stdout",
          "text": [
            "Appended result to Google Drive file: [486, 0.6388888888888888, 1.0, 0.7985446293025994, 0.5555555555555555, 1.5797788309636653, 1.5243902439024393]\n"
          ]
        },
        {
          "output_type": "stream",
          "name": "stderr",
          "text": [
            "\n",
            "\n",
            "Processing medical dataset:  97%|█████████▋| 487/500 [1:28:27<02:18, 10.68s/it]\u001b[A\u001b[A"
          ]
        },
        {
          "output_type": "stream",
          "name": "stdout",
          "text": [
            "Appended result to Google Drive file: [487, 0.5476190476190477, 1.2380952380952381, 0.7041755923837864, 0.4203123843363683, 1.6483516483516485, 1.3992537313432836]\n"
          ]
        },
        {
          "output_type": "stream",
          "name": "stderr",
          "text": [
            "\n",
            "\n",
            "Processing medical dataset:  98%|█████████▊| 488/500 [1:28:40<02:15, 11.31s/it]\u001b[A\u001b[A"
          ]
        },
        {
          "output_type": "stream",
          "name": "stdout",
          "text": [
            "Appended result to Google Drive file: [488, 0.7222222222222222, 1.3148148148148149, 0.7333263275886227, 0.3059289790741915, 1.3404825737265416, 1.1811023622047243]\n"
          ]
        },
        {
          "output_type": "stream",
          "name": "stderr",
          "text": [
            "\n",
            "\n",
            "Processing medical dataset:  98%|█████████▊| 489/500 [1:28:49<01:57, 10.65s/it]\u001b[A\u001b[A"
          ]
        },
        {
          "output_type": "stream",
          "name": "stdout",
          "text": [
            "Appended result to Google Drive file: [489, 0.7777777777777778, 1.0, 0.9135060129509713, 0.5047619047619047, 1.76678445229682, 1.329787234042553]\n"
          ]
        },
        {
          "output_type": "stream",
          "name": "stderr",
          "text": [
            "\n",
            "\n",
            "Processing medical dataset:  98%|█████████▊| 490/500 [1:29:00<01:46, 10.64s/it]\u001b[A\u001b[A"
          ]
        },
        {
          "output_type": "stream",
          "name": "stdout",
          "text": [
            "Appended result to Google Drive file: [490, 0.8541666666666666, 1.0, 0.8305943632399257, 1.0, 1.3888888888888888, 1.7006802721088436]\n"
          ]
        },
        {
          "output_type": "stream",
          "name": "stderr",
          "text": [
            "\n",
            "\n",
            "Processing medical dataset:  98%|█████████▊| 491/500 [1:29:10<01:35, 10.56s/it]\u001b[A\u001b[A"
          ]
        },
        {
          "output_type": "stream",
          "name": "stdout",
          "text": [
            "Appended result to Google Drive file: [491, 0.2941176470588235, 1.0, 0.5103368633247004, 1.0, 1.7182130584192439, 2.3474178403755865]\n"
          ]
        },
        {
          "output_type": "stream",
          "name": "stderr",
          "text": [
            "\n",
            "\n",
            "Processing medical dataset:  98%|█████████▊| 492/500 [1:29:20<01:23, 10.49s/it]\u001b[A\u001b[A"
          ]
        },
        {
          "output_type": "stream",
          "name": "stdout",
          "text": [
            "Appended result to Google Drive file: [492, 0.5111111111111111, 0.9333333333333333, 0.7664368115187786, 0.3666666666666667, 1.4851485148514851, 1.834862385321101]\n"
          ]
        },
        {
          "output_type": "stream",
          "name": "stderr",
          "text": [
            "\n",
            "\n",
            "Processing medical dataset:  99%|█████████▊| 493/500 [1:29:34<01:21, 11.60s/it]\u001b[A\u001b[A"
          ]
        },
        {
          "output_type": "stream",
          "name": "stdout",
          "text": [
            "Appended result to Google Drive file: [493, 0.5087719298245614, 1.3333333333333333, 0.7209218904134159, 0.4013187986621573, 1.4018691588785044, 0.9652509652509652]\n"
          ]
        },
        {
          "output_type": "stream",
          "name": "stderr",
          "text": [
            "\n",
            "\n",
            "Processing medical dataset:  99%|█████████▉| 494/500 [1:29:45<01:08, 11.35s/it]\u001b[A\u001b[A"
          ]
        },
        {
          "output_type": "stream",
          "name": "stdout",
          "text": [
            "Appended result to Google Drive file: [494, 0.5, 1.0, 0.6039821619245022, 1.0, 1.7006802721088434, 1.893939393939394]\n"
          ]
        },
        {
          "output_type": "stream",
          "name": "stderr",
          "text": [
            "\n",
            "\n",
            "Processing medical dataset:  99%|█████████▉| 495/500 [1:29:56<00:55, 11.14s/it]\u001b[A\u001b[A"
          ]
        },
        {
          "output_type": "stream",
          "name": "stdout",
          "text": [
            "Appended result to Google Drive file: [495, 0.7708333333333334, 0.8125, 0.8104493207941484, 0.8324295587453482, 1.7006802721088434, 1.6366612111292964]\n"
          ]
        },
        {
          "output_type": "stream",
          "name": "stderr",
          "text": [
            "\n",
            "\n",
            "Processing medical dataset:  99%|█████████▉| 496/500 [1:30:06<00:43, 10.81s/it]\u001b[A\u001b[A"
          ]
        },
        {
          "output_type": "stream",
          "name": "stdout",
          "text": [
            "Appended result to Google Drive file: [496, 0.5263157894736843, 0.8070175438596492, 0.7107753357753358, 0.176781238811314, 1.5408320493066259, 2.450980392156863]\n"
          ]
        },
        {
          "output_type": "stream",
          "name": "stderr",
          "text": [
            "\n",
            "\n",
            "Processing medical dataset:  99%|█████████▉| 497/500 [1:30:20<00:34, 11.65s/it]\u001b[A\u001b[A"
          ]
        },
        {
          "output_type": "stream",
          "name": "stdout",
          "text": [
            "Appended result to Google Drive file: [497, 0.7727272727272727, 0.8484848484848485, 0.7975008275405496, 0.9106002826868531, 1.3227513227513228, 0.6675567423230974]\n"
          ]
        },
        {
          "output_type": "stream",
          "name": "stderr",
          "text": [
            "\n",
            "\n",
            "Processing medical dataset: 100%|█████████▉| 498/500 [1:30:30<00:22, 11.43s/it]\u001b[A\u001b[A"
          ]
        },
        {
          "output_type": "stream",
          "name": "stdout",
          "text": [
            "Appended result to Google Drive file: [498, 0.5490196078431373, 0.7843137254901961, 0.6751233262861169, 0.7459275779944473, 2.0876826722338206, 0.8591065292096219]\n"
          ]
        },
        {
          "output_type": "stream",
          "name": "stderr",
          "text": [
            "\n",
            "\n",
            "Processing medical dataset: 100%|█████████▉| 499/500 [1:30:40<00:10, 10.97s/it]\u001b[A\u001b[A"
          ]
        },
        {
          "output_type": "stream",
          "name": "stdout",
          "text": [
            "Appended result to Google Drive file: [499, 0.47916666666666663, 0.9375, 0.4401066651616909, 0.11433733384952897, 2.2522522522522523, 1.506024096385542]\n"
          ]
        },
        {
          "output_type": "stream",
          "name": "stderr",
          "text": [
            "\n",
            "\n",
            "Processing medical dataset: 100%|██████████| 500/500 [1:30:50<00:00, 10.90s/it]"
          ]
        },
        {
          "output_type": "stream",
          "name": "stdout",
          "text": [
            "Appended result to Google Drive file: [500, 0.8444444444444444, 0.8888888888888888, 0.960392156862745, 0.9215686274509803, 1.8083182640144666, 1.8148820326678767]\n"
          ]
        },
        {
          "output_type": "stream",
          "name": "stderr",
          "text": [
            "\n",
            "\n",
            "Datasets for French: 100%|██████████| 2/2 [3:05:03<00:00, 5540.03s/it]  \u001b[A\n",
            "Target Languages: 100%|██████████| 2/2 [5:52:09<00:00, 10564.85s/it]\n"
          ]
        }
      ]
    }
  ]
}